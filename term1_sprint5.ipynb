{
 "cells": [
  {
   "cell_type": "markdown",
   "metadata": {},
   "source": [
    "# term1_sprint5 SVMスクラッチ"
   ]
  },
  {
   "cell_type": "markdown",
   "metadata": {},
   "source": [
    "## 2.SVMスクラッチ\n",
    "\n",
    "分類のためのサポートベクターマシン（SVM、サポートベクトルマシン）のクラスをスクラッチで作成していきます。NumPyなど最低限のライブラリのみを使いアルゴリズムを実装していきます。\n",
    "\n",
    "\n",
    "SVMには学習時に分類の間違いを認めるソフトマージンSVMと、認めないハードマージンSVMがありますが、ここでは実装が単純なハードマージンSVMを扱います。\n",
    "\n",
    "\n",
    "以下に雛形を用意してあります。このScratchSVMClassifierクラスにコードを書き加えていってください。\n",
    "\n"
   ]
  },
  {
   "cell_type": "code",
   "execution_count": 1,
   "metadata": {},
   "outputs": [],
   "source": [
    "import numpy as np\n",
    "import pandas as pd\n",
    "import matplotlib.pyplot as plt\n",
    "import seaborn as sns\n",
    "sns.set()"
   ]
  },
  {
   "cell_type": "code",
   "execution_count": 2,
   "metadata": {},
   "outputs": [
    {
     "name": "stdout",
     "output_type": "stream",
     "text": [
      "X.shape:(5, 2)\n",
      "X:[[ 1  2]\n",
      " [ 3  4]\n",
      " [ 5  6]\n",
      " [ 7  8]\n",
      " [ 9 10]]\n",
      "y.shape:(5, 1)\n",
      "y:[[ 1]\n",
      " [-1]\n",
      " [ 1]\n",
      " [-1]\n",
      " [ 1]]\n",
      "X_tt:[[10  9]\n",
      " [ 8  7]\n",
      " [ 6  5]\n",
      " [ 4  3]\n",
      " [ 2  1]]\n"
     ]
    }
   ],
   "source": [
    "# ベースデータ\n",
    "X = np.array([[1,2],[3,4],[5,6],[7,8],[9,10]])\n",
    "print(f'X.shape:{X.shape}')\n",
    "print(f'X:{X}')\n",
    "             \n",
    "y = np.array([1, -1, 1, -1, 1])\n",
    "y = y.reshape(-1, 1)\n",
    "             \n",
    "print(f'y.shape:{y.shape}')\n",
    "print(f'y:{y}')\n",
    "\n",
    "# X_test print(f'X_tt.shape:{X_tt.shape}') print(f'type(X_tt):{type(X_tt)}')\n",
    "X_tt = np.arange(10, 0, -1).reshape(-1, 2)\n",
    "print(f'X_tt:{X_tt}')"
   ]
  },
  {
   "cell_type": "code",
   "execution_count": 62,
   "metadata": {},
   "outputs": [],
   "source": [
    "class ScratchSVMClassifier():\n",
    "    \"\"\"\n",
    "    SVM分類器のスクラッチ実装\n",
    "\n",
    "    Parameters\n",
    "    ----------\n",
    "    num_iter : int\n",
    "      イテレーション数\n",
    "    lr : float\n",
    "      学習率\n",
    "    kernel : str\n",
    "      カーネルの種類。線形カーネル（linear）か多項式カーネル（polly）\n",
    "    threshold : float\n",
    "      サポートベクターを選ぶための閾値\n",
    "    verbose : bool\n",
    "      学習過程を出力する場合はTrue\n",
    "\n",
    "    Attributes\n",
    "    ----------\n",
    "    self.n_support_vectors : int\n",
    "      サポートベクターの数\n",
    "    self.index_support_vectors : 次の形のndarray, shape (n_support_vectors,)\n",
    "      サポートベクターのインデックス\n",
    "    self.X_sv :  次の形のndarray, shape(n_support_vectors, n_features)\n",
    "      サポートベクターの特徴量\n",
    "    self.lam_sv :  次の形のndarray, shape(n_support_vectors, 1)\n",
    "      サポートベクターの未定乗数\n",
    "    self.y_sv :  次の形のndarray, shape(n_support_vectors, 1)\n",
    "      サポートベクターのラベル\n",
    "    \"\"\"\n",
    "    def _kernel(self, X):\n",
    "        k = np.dot(X, X.T)\n",
    "        return k\n",
    "\n",
    "    def __init__(self, num_iter, lr, kernel='linear', threshold=1e-5, verbose=False):\n",
    "        # ハイパーパラメータを属性として記録\n",
    "        self.iter = num_iter\n",
    "        self.lr = lr\n",
    "        self.kernel = kernel\n",
    "        self.threshold = threshold\n",
    "        self.verbose = verbose\n",
    "        \n",
    "    def fit(self, X, y, X_val=None, y_val=None):\n",
    "        \"\"\"\n",
    "        SVM分類器を学習する。検証データが入力された場合はそれに対する精度もイテレーションごとに計算する。\n",
    "\n",
    "        Parameters\n",
    "        ----------\n",
    "        X : 次の形のndarray, shape (n_samples, n_features)\n",
    "            訓練データの特徴量\n",
    "        y : 次の形のndarray, shape (n_samples,)\n",
    "            訓練データの正解値\n",
    "        X_val : 次の形のndarray, shape (n_samples, n_features)\n",
    "            検証データの特徴量\n",
    "        y_val : 次の形のndarray, shape (n_samples,)\n",
    "            検証データの正解値\n",
    "        \"\"\"\n",
    "        self.X_ = np.concatenate([np.ones((X.shape[0],1)), X], axis=1)\n",
    "        self.y_ = y.reshape(len(y),1)\n",
    "        \n",
    "        np.random.seed(seed=1)\n",
    "        self.lamda_ = np.random.rand(self.X_.shape[0], 1) *00.1\n",
    "#         self.lamda = np.array([8,3,5,9,1])\n",
    "        self.lamda_new = self.lamda_.copy()\n",
    "        if self.kernel == \"linear\":\n",
    "            self.k = self._kernel(self.X_)\n",
    "            \n",
    "        for i in range(self.iter):\n",
    "            self._gradient_descent()\n",
    "        \n",
    "#         print(\"lam\",self.lamda)\n",
    "#         print(\"lam_n\",self.lamda_new)\n",
    "#         print(\"X\",self.X)\n",
    "#         print(\"y\",y)\n",
    "#         print(y.T)\n",
    "#         print(\"y\",self.y)\n",
    "        \n",
    "        if self.verbose:\n",
    "            #verboseをTrueにした際は学習過程を出力\n",
    "            print(self.support_vec_index)\n",
    "            print(self.support_vec)\n",
    "            print(self.support_vec_n)\n",
    "            \n",
    "    def _gradient_descent(self):\n",
    "        \"\"\"\n",
    "        最急降下法により、次回の線形モデル値を算出する。(訓練データ専用)\n",
    "        Parameters\n",
    "        ----------\n",
    "        k : 次の形のndarray, shape (n_samples, 1)\n",
    "            xの総和\n",
    "        Attributes\n",
    "        ----------\n",
    "        self.lamda_sv_index: 次の形のndarray,shape(n)\n",
    "          サポートベクターのインデックス\n",
    "        self.lamda_sv : 次の形のndarray,shape(n)\n",
    "          サポートベクターの値\n",
    "        self.lamda_sv_n : int\n",
    "          サポートベクターの数\n",
    "          \"\"\"\n",
    "        delta = self.y_ * np.dot(self.k.T, self.lamda_*self.y_)\n",
    "        self.lamda_new += self.lr*(1-delta)\n",
    "        self.lamda_new = np.where(self.lamda_new < 0, 0, self.lamda_new)\n",
    "        \n",
    "#         print(\"delta\",delta)\n",
    "\n",
    "#         print(\"s\",self.lamda_new)\n",
    "#         print(\"p\",self.lamda_new)\n",
    "\n",
    "        self.support_vec_index = np.where(self.lamda_new > self.threshold)[0]\n",
    "        self.support_vec = self.X_[self.support_vec_index]\n",
    "        self.support_vec_n = len(self.support_vec)\n",
    "\n",
    "    def predict(self, X_test):\n",
    "        \"\"\"\n",
    "        SVM分類器を使いラベルを推定する。\n",
    "\n",
    "        Parameters\n",
    "        ----------\n",
    "        X : 次の形のndarray, shape (n_samples, n_features)\n",
    "            サンプル\n",
    "\n",
    "        Returns\n",
    "        -------\n",
    "            次の形のndarray, shape (n_samples, 1)\n",
    "            SVM分類器による推定結果\n",
    "        \"\"\"\n",
    "        # 富永氏サンプル--------------------------\n",
    "#         sample = [0,2,3]\n",
    "#         lam_s = np.array([[11.19],[8.19],[12.19]])\n",
    "#         a = (lam_s * self.y0[sample])\n",
    "#         k = np.dot(self.X[sample], X_test.T)\n",
    "#         aT = a.T\n",
    "#         fx = np.dot(aT, k)\n",
    "    \n",
    "#         print(\"lam_s\",lam_s)\n",
    "#         print(\"ys\",self.y0[sample])\n",
    "#         print(\"a\",a)\n",
    "#         print(\"Xsam\",self.X[sample])\n",
    "#         print(\"X_test.T\",X_test.T)     \n",
    "#         print(\"k\",k)\n",
    "#         print(\"aT\",aT)\n",
    "#         print(\"fx\",fx)\n",
    "        # -------------------------------------\n",
    "    \n",
    "        X_p = np.concatenate([np.ones((X.shape[0],1)), X], axis=1)\n",
    "        self.k_p = np.dot(X_p, self.support_vec.T)\n",
    "        f = np.dot(self.k_p, self.lamda_new[self.support_vec_index]*self.y_[self.support_vec_index])\n",
    "        f = f.reshape(len(f))\n",
    "        f = np.where(f > 0, 1, -1)\n",
    "        return f"
   ]
  },
  {
   "cell_type": "code",
   "execution_count": 56,
   "metadata": {},
   "outputs": [
    {
     "ename": "SyntaxError",
     "evalue": "invalid syntax (<ipython-input-56-a35d9b78c6a1>, line 2)",
     "output_type": "error",
     "traceback": [
      "\u001b[0;36m  File \u001b[0;32m\"<ipython-input-56-a35d9b78c6a1>\"\u001b[0;36m, line \u001b[0;32m2\u001b[0m\n\u001b[0;31m    SSVM_grid = ScratchSVMClassifier{\"num_iter\": [i for i in range(1, 50)],\u001b[0m\n\u001b[0m                                    ^\u001b[0m\n\u001b[0;31mSyntaxError\u001b[0m\u001b[0;31m:\u001b[0m invalid syntax\n"
     ]
    }
   ],
   "source": [
    "# ランダムフォレストのパラメーター\n",
    "SSVM_grid = ScratchSVMClassifier{\"num_iter\": [i for i in range(1, 50)],\n",
    "                                       \"lr\": [i for i in range(0.08, 1)]\n",
    "                                      }\n",
    "max_score = 0\n",
    "SearchMethod = 0\n",
    "\n",
    "#ランダムフォレストの実行\n",
    "for model, param in tqdm(SSVM_grid.items()):\n",
    "    clf = GridSearchCV(model, param)\n",
    "    clf.fit(X_train,  Y_train)\n",
    "    Y_pred = clf.predict(X_test)\n",
    "    score = f1_score(Y_test, Y_pred, average=\"micro\")\n",
    "\n",
    "    if max_score < score:\n",
    "        max_score = score\n",
    "        best_param = clf.best_params_\n",
    "        best_model = model.__class__.__name__\n",
    "\n",
    "print(\"ベストスコア:{}\".format(max_score))\n",
    "print(\"モデル:{}\".format(best_model))\n",
    "print(\"パラメーター:{}\".format(best_param))"
   ]
  },
  {
   "cell_type": "code",
   "execution_count": 66,
   "metadata": {},
   "outputs": [
    {
     "name": "stdout",
     "output_type": "stream",
     "text": [
      "[]\n",
      "[]\n",
      "0\n"
     ]
    }
   ],
   "source": [
    "SSVM = ScratchSVMClassifier(num_iter=3, lr=0.01, kernel='linear', threshold=1e-3, verbose=True)\n",
    "SSVM.fit(X_train, y_train)"
   ]
  },
  {
   "cell_type": "code",
   "execution_count": 52,
   "metadata": {},
   "outputs": [
    {
     "data": {
      "text/plain": [
       "array([-1, -1, -1, -1, -1])"
      ]
     },
     "execution_count": 52,
     "metadata": {},
     "output_type": "execute_result"
    }
   ],
   "source": [
    "SSVM.predict(X_test)"
   ]
  },
  {
   "cell_type": "code",
   "execution_count": 12,
   "metadata": {},
   "outputs": [],
   "source": [
    "# シンプルデータセット1作成コード\n",
    "import numpy as np\n",
    "np.random.seed(seed=0)\n",
    "n_samples = 500\n",
    "f0 = [-1, 2]\n",
    "f1 = [2, -1]\n",
    "cov = [[1.0,0.8], [0.8, 1.0]]\n",
    "f0 = np.random.multivariate_normal(f0, cov, int(n_samples/2))\n",
    "f1 = np.random.multivariate_normal(f1, cov, int(n_samples/2))\n",
    "X_d = np.concatenate((f0, f1))\n",
    "y_d = np.concatenate((np.ones((int(n_samples/2))), np.ones((int(n_samples/2))) *(-1))).astype(np.int)\n",
    "random_index = np.random.permutation(np.arange(n_samples))\n",
    "X_d = X_d[random_index]\n",
    "y_d = y_d[random_index]"
   ]
  },
  {
   "cell_type": "code",
   "execution_count": 6,
   "metadata": {},
   "outputs": [
    {
     "name": "stdout",
     "output_type": "stream",
     "text": [
      "X_trainの訓練データ: 400 X_trainの特微量: 2 X_trainの値: [ 3.28429301 -0.51454156]\n",
      "X_testの訓練データ : 100 X_testの特微量 : 2 X_testの値 : [3.63463384 0.82664981]\n",
      "y_trainの訓練データ: 400 X_trainの特微量: 1 y_train値(10個): [-1  1  1  1 -1  1 -1  1  1  1]\n",
      "y_testの訓練データ : 100 X_testの特微量 : 1 y_testの値（10個）: [-1  1  1 -1 -1  1  1 -1 -1  1]\n"
     ]
    }
   ],
   "source": [
    "# 分割\n",
    "from sklearn.model_selection import train_test_split\n",
    "\n",
    "X_train, X_test, y_train, y_test = train_test_split(X_d, y_d, train_size=0.8, shuffle = True,  random_state=0)\n",
    "print(f\"X_trainの訓練データ: {X_train.shape[0]} X_trainの特微量: {X_train.shape[1]} X_trainの値: {X_train[0]}\")\n",
    "print(f\"X_testの訓練データ : {X_test.shape[0]} X_testの特微量 : {X_test.shape[1]} X_testの値 : {X_test[0]}\")\n",
    "print(f\"y_trainの訓練データ: {len(y_train)} X_trainの特微量: 1 y_train値(10個): {y_train[:10]}\")\n",
    "print(f\"y_testの訓練データ : {len(y_test)} X_testの特微量 : 1 y_testの値（10個）: {y_test[:10]}\")"
   ]
  },
  {
   "cell_type": "code",
   "execution_count": 7,
   "metadata": {},
   "outputs": [
    {
     "name": "stdout",
     "output_type": "stream",
     "text": [
      "データ数：(400, 2) X_test初期値:[3.63463384 0.82664981] X_test変換値:[1.69807496 0.1523444 ]\n"
     ]
    }
   ],
   "source": [
    "# 標準化\n",
    "\n",
    "from sklearn.preprocessing import StandardScaler\n",
    "\n",
    "scaler = StandardScaler()\n",
    "scaler.fit(X_d) \n",
    "X_train_std = scaler.transform(X_train) \n",
    "X_test_std = scaler.transform(X_test)\n",
    "print(f\"データ数：{X_train.shape} X_test初期値:{X_test[0]} X_test変換値:{X_test_std[0]}\")"
   ]
  },
  {
   "cell_type": "code",
   "execution_count": 8,
   "metadata": {},
   "outputs": [
    {
     "data": {
      "image/png": "[encoded data removed]",
      "text/plain": [
       "<Figure size 1080x432 with 1 Axes>"
      ]
     },
     "metadata": {},
     "output_type": "display_data"
    }
   ],
   "source": [
    "fig = plt.figure(figsize=(15,6))\n",
    "ax1 = fig.add_subplot(1,1,1)\n",
    "\n",
    "color_dict = dict({-1:'blue',\n",
    "                   1:'orange',\n",
    "                   0:'green'})\n",
    "\n",
    "\n",
    "ax1 = sns.scatterplot(X_train[:,0], X_train[:,1], hue = y_train, palette=color_dict)\n",
    "# ax1 = sns.scatterplot(X_train[:,1], y_train)\n",
    "# ax1 = sns.scatterplot(\"petal_length\", \"petal_width\", data = df, hue = df[\"target\"])"
   ]
  },
  {
   "cell_type": "code",
   "execution_count": null,
   "metadata": {},
   "outputs": [],
   "source": [
    "SSVM.predict(X_test)"
   ]
  },
  {
   "cell_type": "code",
   "execution_count": null,
   "metadata": {},
   "outputs": [],
   "source": []
  }
 ],
 "metadata": {
  "kernelspec": {
   "display_name": "Python 3",
   "language": "python",
   "name": "python3"
  },
  "language_info": {
   "codemirror_mode": {
    "name": "ipython",
    "version": 3
   },
   "file_extension": ".py",
   "mimetype": "text/x-python",
   "name": "python",
   "nbconvert_exporter": "python",
   "pygments_lexer": "ipython3",
   "version": "3.8.3"
  }
 },
 "nbformat": 4,
 "nbformat_minor": 4
}
