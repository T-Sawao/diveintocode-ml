{
  "nbformat": 4,
  "nbformat_minor": 0,
  "metadata": {
    "kernelspec": {
      "display_name": "Python 3",
      "language": "python",
      "name": "python3"
    },
    "language_info": {
      "codemirror_mode": {
        "name": "ipython",
        "version": 3
      },
      "file_extension": ".py",
      "mimetype": "text/x-python",
      "name": "python",
      "nbconvert_exporter": "python",
      "pygments_lexer": "ipython3",
      "version": "3.8.3"
    },
    "colab": {
      "name": "term1_sprint5.ipynb",
      "provenance": [],
      "include_colab_link": true
    }
  },
  "cells": [
    {
      "cell_type": "markdown",
      "metadata": {
        "id": "view-in-github",
        "colab_type": "text"
      },
      "source": [
        "<a href=\"https://colab.research.google.com/github/T-Sawao/diveintocode-ml/blob/master/term1_sprint5.ipynb\" target=\"_parent\"><img src=\"https://colab.research.google.com/assets/colab-badge.svg\" alt=\"Open In Colab\"/></a>"
      ]
    },
    {
      "cell_type": "markdown",
      "metadata": {
        "id": "MpFayKYcT5d0"
      },
      "source": [
        "# term1_sprint5 SVMスクラッチ"
      ]
    },
    {
      "cell_type": "markdown",
      "metadata": {
        "id": "dv0U8-P8T5d0"
      },
      "source": [
        "## 2.SVMスクラッチ\n",
        "\n",
        "分類のためのサポートベクターマシン（SVM、サポートベクトルマシン）のクラスをスクラッチで作成していきます。NumPyなど最低限のライブラリのみを使いアルゴリズムを実装していきます。\n",
        "\n",
        "\n",
        "SVMには学習時に分類の間違いを認めるソフトマージンSVMと、認めないハードマージンSVMがありますが、ここでは実装が単純なハードマージンSVMを扱います。\n",
        "\n",
        "\n",
        "以下に雛形を用意してあります。このScratchSVMClassifierクラスにコードを書き加えていってください。\n",
        "\n",
        "**雛形**\n",
        "\n"
      ]
    },
    {
      "cell_type": "code",
      "metadata": {
        "id": "136J38DhXSnY"
      },
      "source": [
        "class ScratchSVMClassifier():\n",
        "    \"\"\"\n",
        "    SVM分類器のスクラッチ実装\n",
        "\n",
        "    Parameters\n",
        "    ----------\n",
        "    num_iter : int\n",
        "      イテレーション数\n",
        "    lr : float\n",
        "      学習率\n",
        "    kernel : str\n",
        "      カーネルの種類。線形カーネル（linear）か多項式カーネル（polly）\n",
        "    threshold : float\n",
        "      サポートベクターを選ぶための閾値\n",
        "    verbose : bool\n",
        "      学習過程を出力する場合はTrue\n",
        "\n",
        "    Attributes\n",
        "    ----------\n",
        "    self.n_support_vectors : int\n",
        "      サポートベクターの数\n",
        "    self.index_support_vectors : 次の形のndarray, shape (n_support_vectors,)\n",
        "      サポートベクターのインデックス\n",
        "    self.X_sv :  次の形のndarray, shape(n_support_vectors, n_features)\n",
        "      サポートベクターの特徴量\n",
        "    self.lam_sv :  次の形のndarray, shape(n_support_vectors, 1)\n",
        "      サポートベクターの未定乗数\n",
        "    self.y_sv :  次の形のndarray, shape(n_support_vectors, 1)\n",
        "      サポートベクターのラベル\n",
        "      \n",
        "    \"\"\"\n",
        "    def __init__(self, num_iter, lr, kernel='linear', threshold=1e-5, verbose=False):\n",
        "        # ハイパーパラメータを属性として記録\n",
        "        self.iter = num_iter\n",
        "        self.lr = lr\n",
        "        self.kernel = kernel\n",
        "        self.threshold = threshold\n",
        "        self.verbose = verbose\n",
        "    def fit(self, X, y, X_val=None, y_val=None):\n",
        "        \"\"\"\n",
        "        SVM分類器を学習する。検証データが入力された場合はそれに対する精度もイテレーションごとに計算する。\n",
        "\n",
        "        Parameters\n",
        "        ----------\n",
        "        X : 次の形のndarray, shape (n_samples, n_features)\n",
        "            訓練データの特徴量\n",
        "        y : 次の形のndarray, shape (n_samples, )\n",
        "            訓練データの正解値\n",
        "        X_val : 次の形のndarray, shape (n_samples, n_features)\n",
        "            検証データの特徴量\n",
        "        y_val : 次の形のndarray, shape (n_samples, )\n",
        "            検証データの正解値\n",
        "        \"\"\"\n",
        "        if self.verbose:\n",
        "            #verboseをTrueにした際は学習過程を出力\n",
        "            print()\n",
        "        pass\n",
        "    def predict(self, X):\n",
        "        \"\"\"\n",
        "        SVM分類器を使いラベルを推定する。\n",
        "\n",
        "        Parameters\n",
        "        ----------\n",
        "        X : 次の形のndarray, shape (n_samples, n_features)\n",
        "            サンプル\n",
        "\n",
        "        Returns\n",
        "        -------\n",
        "            次の形のndarray, shape (n_samples, 1)\n",
        "            SVM分類器による推定結果\n",
        "        \"\"\"\n",
        "        pass\n",
        "        return"
      ],
      "execution_count": 1,
      "outputs": []
    },
    {
      "cell_type": "markdown",
      "metadata": {
        "id": "2xx2WHymXg0P"
      },
      "source": [
        "## 【問題1】ラグランジュの未定乗数法による最急降下\n",
        "SVMの学習は、ラグランジュの未定乗数法を用います。サンプル数分のラグランジュ乗数$\\lambda$を用意して、以下の式により更新していきます。この計算を行うメソッドをScratchSVMClassifierクラスに実装してください。$$\\lambda_i^{new} = \\lambda_i + \\alpha\\left(1 - \\sum_{j=1}^n\\lambda_jy_iy_jk(x_i, x_j)\\right)$$\n",
        "\n",
        "ここで$k(x_i, x_j)$はカーネル関数です。線形カーネルの場合は次のようになります。他のカーネル関数にも対応できるように、この部分は独立したメソッドとしておきましょう。$$k(x_i, x_j) = x_i^Tx_j$$\n",
        "\n",
        "条件として、更新毎に$\\lambda_i \\geq 0$を満たす必要があります。満たさない場合は$\\lambda_i = 0$とします。\n",
        "\n",
        "$i,j$ : サンプルのインデックス\n",
        "\n",
        "$\\lambda^{new}_i$ : 更新後のi番目のサンプルのラグランジュ乗数\n",
        "\n",
        "$\\lambda_i$ : 更新前のi番目のサンプルのラグランジュ乗数\n",
        "\n",
        "$\\alpha$ : 学習率\n",
        "\n",
        "$\\lambda_j$ : j番目のサンプルのラグランジュ乗数\n",
        "\n",
        "$y_i$ : i番目のサンプルのラベル\n",
        "\n",
        "$y_j$ : j番目のサンプルのラベル\n",
        "\n",
        "$x_i$ : i番目のサンプルの特徴量ベクトル\n",
        "\n",
        "$x_J$ : j番目のサンプルの特徴量ベクトル\n",
        "\n",
        "あるサンプルに対しての全てのサンプルとの関係を計算していくことになります。"
      ]
    },
    {
      "cell_type": "code",
      "metadata": {
        "id": "zdvyHu-fT5d1"
      },
      "source": [
        "import numpy as np\n",
        "import pandas as pd\n",
        "import matplotlib.pyplot as plt\n",
        "import seaborn as sns\n",
        "sns.set()"
      ],
      "execution_count": 2,
      "outputs": []
    },
    {
      "cell_type": "markdown",
      "metadata": {
        "id": "-I9X7FKiPdND"
      },
      "source": [
        "### 1.1.1練習"
      ]
    },
    {
      "cell_type": "code",
      "metadata": {
        "colab": {
          "base_uri": "https://localhost:8080/"
        },
        "id": "683jyBMsOehK",
        "outputId": "80439671-1115-40c5-af0e-d89689abd2b7"
      },
      "source": [
        "X = np.array([[1, 2],[3, 4], [5, 6], [7, 8], [9, 10]])\n",
        "print(f'X.shape:{X.shape}')\n",
        "y = np.array([1, -1, 1, -1, 1])\n",
        "y = y.reshape(-1, 1)\n",
        "print(f'y.shape:{y.shape}')\n",
        "lamda = np.array([8, 3, 5, 9, 1])\n",
        "lamda = lamda.reshape(-1, 1)\n",
        "print(\"lamda.shape\", lamda.shape)\n",
        "alpha = 0.01"
      ],
      "execution_count": 3,
      "outputs": [
        {
          "output_type": "stream",
          "text": [
            "X.shape:(5, 2)\n",
            "y.shape:(5, 1)\n",
            "lamda.shape (5, 1)\n"
          ],
          "name": "stdout"
        }
      ]
    },
    {
      "cell_type": "code",
      "metadata": {
        "colab": {
          "base_uri": "https://localhost:8080/"
        },
        "id": "2eTxqfwRa1Tr",
        "outputId": "069e898e-0973-43d5-98cf-0a8f74ab04f0"
      },
      "source": [
        "for x in range(100):\n",
        "  for i in range(len(X)):\n",
        "    total = 0\n",
        "    for j in range(len(X)):\n",
        "      total += lamda[i] + alpha * (1 - lamda[j] * y[i] * y[j] * (X[i] * X[j]))\n",
        "\n",
        "total"
      ],
      "execution_count": 4,
      "outputs": [
        {
          "output_type": "execute_result",
          "data": {
            "text/plain": [
              "array([7.75, 7.85])"
            ]
          },
          "metadata": {
            "tags": []
          },
          "execution_count": 4
        }
      ]
    },
    {
      "cell_type": "code",
      "metadata": {
        "colab": {
          "base_uri": "https://localhost:8080/"
        },
        "id": "vbJnUlI9PbV-",
        "outputId": "20b12945-48ae-41de-88cf-733c37d4ac60"
      },
      "source": [
        "kernel = X.T @ X\n",
        "kernel"
      ],
      "execution_count": 5,
      "outputs": [
        {
          "output_type": "execute_result",
          "data": {
            "text/plain": [
              "array([[165, 190],\n",
              "       [190, 220]])"
            ]
          },
          "metadata": {
            "tags": []
          },
          "execution_count": 5
        }
      ]
    },
    {
      "cell_type": "code",
      "metadata": {
        "colab": {
          "base_uri": "https://localhost:8080/"
        },
        "id": "S4e6q7RbPzFg",
        "outputId": "fd23c061-316d-46c8-f0e3-486f37a73ea4"
      },
      "source": [
        "# yiyj = y @ y.T\n",
        "# yiyj\n",
        "a = 0\n",
        "for i in range(len(X)):\n",
        "  for j in range(len(X)):\n",
        "    a += y[i]*y[j]\n",
        "a"
      ],
      "execution_count": 6,
      "outputs": [
        {
          "output_type": "execute_result",
          "data": {
            "text/plain": [
              "array([1])"
            ]
          },
          "metadata": {
            "tags": []
          },
          "execution_count": 6
        }
      ]
    },
    {
      "cell_type": "code",
      "metadata": {
        "id": "K8-foPXwPzRA"
      },
      "source": [
        "n = lamda.T @ yk\n",
        "n = np.sum(n)\n",
        "n"
      ],
      "execution_count": null,
      "outputs": []
    },
    {
      "cell_type": "code",
      "metadata": {
        "id": "9IYD7A9YPzT7"
      },
      "source": [
        "lamda_new = lamda + alpha * (1- n)\n",
        "lamda_new"
      ],
      "execution_count": null,
      "outputs": []
    },
    {
      "cell_type": "markdown",
      "metadata": {
        "id": "kZff_WmYXh1o"
      },
      "source": [
        "## 【問題2】サポートベクターの決定\n",
        "計算したラグランジュ乗数$\\lambda$が設定した閾値より大きいサンプルをサポートベクターとして扱います。推定時にサポートベクターが必要になります。サポートベクターを決定し、インスタンス変数として保持しておくコードを書いてください。\n",
        "\n",
        "閾値はハイパーパラメータですが、1e-5程度からはじめると良いでしょう。サポートベクターの数を出力させられるようにしておくと学習がうまく行えているかを確認できます。"
      ]
    },
    {
      "cell_type": "code",
      "metadata": {
        "id": "uiBxiGRuPzOc"
      },
      "source": [
        "threshold = 7\n",
        "threshold"
      ],
      "execution_count": null,
      "outputs": []
    },
    {
      "cell_type": "code",
      "metadata": {
        "id": "7Kp0fzS6PzIt"
      },
      "source": [
        "lamda_sv = np.where(lamda_new > threshold)[0]\n",
        "lamda_sv"
      ],
      "execution_count": null,
      "outputs": []
    },
    {
      "cell_type": "markdown",
      "metadata": {
        "id": "X5m-u_pSXiGV"
      },
      "source": [
        "## 【問題3】推定\n",
        "推定時には、推定したいデータの特徴量とサポートベクターの特徴量をカーネル関数によって計算します。求めた$f(x)$の符号が分類結果です。$$f(x) = \\sum_{n=1}^N\\lambda_ny_{sv_n}k(x, s_n)$$\n",
        "\n",
        "$x$ : 推定したいデータの特徴量ベクトル\n",
        "\n",
        "$N$ : サポートベクターの数\n",
        "\n",
        "$n$ : サポートベクターのインデックス\n",
        "\n",
        "$\\lambda_n$ : n番目のサポートベクターのラグランジュ乗数\n",
        "\n",
        "$y_{sv_n}$ : n番目のサポートベクターのラベル\n",
        "\n",
        "$k() : カーネル関数\n",
        "\n",
        "$s_n$ : n番目のサポートベクターの特徴量"
      ]
    },
    {
      "cell_type": "code",
      "metadata": {
        "id": "yzfrKCbuZng3"
      },
      "source": [
        "lamda_y = lamda_new[lamda_sv] * y[lamda_sv]\n",
        "lamda_y"
      ],
      "execution_count": null,
      "outputs": []
    },
    {
      "cell_type": "code",
      "metadata": {
        "id": "0Ue4qr_bZpJM"
      },
      "source": [
        "X_tt = np.arange(10, 0, -1).reshape(-1, 2)\n",
        "X_tt"
      ],
      "execution_count": null,
      "outputs": []
    },
    {
      "cell_type": "code",
      "metadata": {
        "id": "K0MowBRdZpDq"
      },
      "source": [
        "k = X[lamda_sv] @ X_tt.T\n",
        "k"
      ],
      "execution_count": null,
      "outputs": []
    },
    {
      "cell_type": "code",
      "metadata": {
        "id": "CPQ3URMFazdh"
      },
      "source": [
        "fx = lamda_y.T @ k\n",
        "fx"
      ],
      "execution_count": null,
      "outputs": []
    },
    {
      "cell_type": "markdown",
      "metadata": {
        "id": "QzBRI1eMXiUC"
      },
      "source": [
        "## 【問題4】学習と推定\n",
        "機械学習スクラッチ入門のSprintで用意したシンプルデータセット1の2値分類に対してスクラッチ実装の学習と推定を行なってください。\n",
        "\n",
        "scikit-learnによる実装と比べ、正しく動いているかを確認してください。\n",
        "\n",
        "AccuracyやPrecision、Recallなどの指標値はscikit-learnを使用してください。"
      ]
    },
    {
      "cell_type": "code",
      "metadata": {
        "id": "SjittUSAT5d3"
      },
      "source": [
        "class ScratchSVMClassifier():\n",
        "    \"\"\"\n",
        "    SVM分類器のスクラッチ実装\n",
        "    Parameters\n",
        "    ----------\n",
        "    num_iter : int\n",
        "      イテレーション数\n",
        "    lr : float\n",
        "      学習率\n",
        "    kernel : str\n",
        "      カーネルの種類。線形カーネル（linear）か多項式カーネル（polly）\n",
        "    threshold : float\n",
        "      サポートベクターを選ぶための閾値\n",
        "    verbose : bool\n",
        "      学習過程を出力する場合はTrue\n",
        "    Attributes\n",
        "    ----------\n",
        "    self.n_support_vectors : int\n",
        "      サポートベクターの数\n",
        "    self.index_support_vectors : 次の形のndarray, shape (n_support_vectors,)\n",
        "      サポートベクターのインデックス\n",
        "    self.X_sv :  次の形のndarray, shape(n_support_vectors, n_features)\n",
        "      サポートベクターの特徴量\n",
        "    self.lam_sv :  次の形のndarray, shape(n_support_vectors, 1)\n",
        "      サポートベクターの未定乗数\n",
        "    self.y_sv :  次の形のndarray, shape(n_support_vectors, 1)\n",
        "      サポートベクターのラベル\n",
        "    \"\"\"\n",
        "    def __init__(self, num_iter, lr, kernel='linear', threshold=1e-5, verbose=False):\n",
        "        # ハイパーパラメータを属性として記録\n",
        "        self.iter = num_iter\n",
        "        self.alpha = lr\n",
        "        self.kernel = kernel\n",
        "        self.threshold = threshold\n",
        "        self.verbose = verbose\n",
        "          \n",
        "    def fit(self, X, y, X_val=None, y_val=None):\n",
        "        self.X = np.concatenate([np.ones((X.shape[0],1)), X], axis=1)\n",
        "        self.y = y.reshape(len(y), 1)\n",
        "        np.random.seed(seed=1)\n",
        "        self.lamda = np.random.rand(self.X.shape[0], 1)\n",
        "        \n",
        "        self.X_ = np.concatenate([np.ones((X.shape[0],1)), X], axis=1)\n",
        "        self.y_ = y.reshape(len(y),1)\n",
        "        np.random.seed(seed=1)\n",
        "        self.lamda_ = np.random.rand(self.X_.shape[0], 1)\n",
        "        self.lamda_new = self.lamda_.copy()\n",
        "        self.val = 0\n",
        "        self.k = self.line_karnel(self.X_)\n",
        "\n",
        "        for iter_n in range(self.iter):\n",
        "            self._gradient_descent()\n",
        "            \n",
        "        if self.verbose:\n",
        "            #verboseをTrueにした際は学習過程を出力\n",
        "            print()\n",
        "        pass\n",
        "        \n",
        "        if self.verbose:\n",
        "          #verboseをTrueにした際は学習過程を出力\n",
        "          print(\"support_vec_index:\", self.vec_index)\n",
        "          print(\"support_vec:\", self.support_vec)\n",
        "          print(\"support_vec_num:\", len(self.support_vec))\n",
        "\n",
        "# 問題１--------------------------------------------------------\n",
        "\n",
        "    def line_karnel(self, X):\n",
        "      k = np.dot(X, X.T)\n",
        "      return k\n",
        "\n",
        "    def _gradient_descent(self):\n",
        "      delta_L = self.y_ * self.k @ self.lamda_ * self.y_\n",
        "      self.lamda_new += self.lr*(1-delta_L)\n",
        "      self.lamda_new = np.where(self.lamda_new < 0, 0, self.lamda_new)\n",
        "\n",
        "      self.support_vec_index = np.where(self.lamda_new > self.threshold)[0]\n",
        "      self.support_vec = self.X_[self.support_vec_index]\n",
        "      self.support_vec_n = len(self.support_vec)\n",
        "\n",
        "# 問題3--------------------------------------------------------\n",
        "    def predict(self, X):\n",
        "        \"\"\"\n",
        "        SVM分類器を使いラベルを推定する。\n",
        "        Parameters\n",
        "        ----------\n",
        "        X_p : 次の形のndarray, shape (n_samples, n_features+1)\n",
        "            サンプル(線形で計算しやすいように、0次の特徴量=1を挿入している)\n",
        "\n",
        "        Attributes\n",
        "        ----------\n",
        "        self.k_p :  次の形のndarray, shape(n_samples, self.support_vec_n)\n",
        "          サンプルと学習後サポートベクタを用いて\n",
        "          リニアのKernel関数で計算した結果の配列\n",
        "        \n",
        "        Returns\n",
        "        -------\n",
        "        f： 次の形のndarray, shape (n_samples, )\n",
        "            SVM分類器による推定結果\n",
        "        \"\"\"\n",
        "        X_p = np.concatenate([np.ones((X.shape[0],1)), X], axis=1)\n",
        "        self.k_p = np.dot(X_p, self.support_vec.T)\n",
        "        f = np.dot(self.k_p, self.lamda_new[self.support_vec_index]*self.y_[self.support_vec_index])\n",
        "        f = f.reshape(len(f))\n",
        "        f = np.where(f > 0, 1, -1)\n",
        "        return f"
      ],
      "execution_count": 22,
      "outputs": []
    },
    {
      "cell_type": "code",
      "metadata": {
        "id": "B75bm3skT5d3"
      },
      "source": [
        "# シンプルデータセット1作成コード\n",
        "import numpy as np\n",
        "np.random.seed(seed=0)\n",
        "n_samples = 500\n",
        "f0 = [-1, 2]\n",
        "f1 = [2, -1]\n",
        "cov = [[1.0,0.8], [0.8, 1.0]]\n",
        "f0 = np.random.multivariate_normal(f0, cov, int(n_samples/2))\n",
        "f1 = np.random.multivariate_normal(f1, cov, int(n_samples/2))\n",
        "X_d = np.concatenate((f0, f1))\n",
        "y_d = np.concatenate((np.ones((int(n_samples/2))), np.ones((int(n_samples/2))) *(-1))).astype(np.int)\n",
        "random_index = np.random.permutation(np.arange(n_samples))\n",
        "X_d = X_d[random_index]\n",
        "y_d = y_d[random_index]"
      ],
      "execution_count": 16,
      "outputs": []
    },
    {
      "cell_type": "code",
      "metadata": {
        "colab": {
          "base_uri": "https://localhost:8080/"
        },
        "id": "fyaUrK33T5d3",
        "outputId": "96855a82-3d05-4924-e5c4-a5f0d565757e"
      },
      "source": [
        "# 分割\n",
        "from sklearn.model_selection import train_test_split\n",
        "\n",
        "X_train, X_test, y_train, y_test = train_test_split(X_d, y_d, train_size=0.8, shuffle = True,  random_state=0)\n",
        "print(f\"X_trainの訓練データ: {X_train.shape[0]} X_trainの特微量: {X_train.shape[1]} X_trainの値: {X_train[0]}\")\n",
        "print(f\"X_testの訓練データ : {X_test.shape[0]} X_testの特微量 : {X_test.shape[1]} X_testの値 : {X_test[0]}\")\n",
        "print(f\"y_trainの訓練データ: {len(y_train)} X_trainの特微量: 1 y_train値(10個): {y_train[:10]}\")\n",
        "print(f\"y_testの訓練データ : {len(y_test)} X_testの特微量 : 1 y_testの値（10個）: {y_test[:10]}\")"
      ],
      "execution_count": 17,
      "outputs": [
        {
          "output_type": "stream",
          "text": [
            "X_trainの訓練データ: 400 X_trainの特微量: 2 X_trainの値: [ 3.28429301 -0.51454156]\n",
            "X_testの訓練データ : 100 X_testの特微量 : 2 X_testの値 : [3.63463384 0.82664981]\n",
            "y_trainの訓練データ: 400 X_trainの特微量: 1 y_train値(10個): [-1  1  1  1 -1  1 -1  1  1  1]\n",
            "y_testの訓練データ : 100 X_testの特微量 : 1 y_testの値（10個）: [-1  1  1 -1 -1  1  1 -1 -1  1]\n"
          ],
          "name": "stdout"
        }
      ]
    },
    {
      "cell_type": "code",
      "metadata": {
        "colab": {
          "base_uri": "https://localhost:8080/"
        },
        "id": "enA4En4JT5d3",
        "outputId": "5962d69a-c27a-4b36-cd81-6668d5db6b98"
      },
      "source": [
        "# 標準化\n",
        "from sklearn.preprocessing import StandardScaler\n",
        "\n",
        "scaler = StandardScaler()\n",
        "scaler.fit(X_d) \n",
        "X_train_std = scaler.transform(X_train) \n",
        "X_test_std = scaler.transform(X_test)\n",
        "print(f\"データ数：{X_train.shape} X_test初期値:{X_test[0]} X_test変換値:{X_test_std[0]}\")"
      ],
      "execution_count": 18,
      "outputs": [
        {
          "output_type": "stream",
          "text": [
            "データ数：(400, 2) X_test初期値:[3.63463384 0.82664981] X_test変換値:[1.69807496 0.1523444 ]\n"
          ],
          "name": "stdout"
        }
      ]
    },
    {
      "cell_type": "code",
      "metadata": {
        "colab": {
          "base_uri": "https://localhost:8080/",
          "height": 328
        },
        "id": "RQIUH9x6T5d3",
        "outputId": "08843c58-bfe1-4c41-b682-16e1dfbd8b6b"
      },
      "source": [
        "SSVM = ScratchSVMClassifier(num_iter=3, lr=0.01, kernel='linear', threshold=1e-5, verbose=True)\n",
        "SSVM.fit(X_train, y_train)"
      ],
      "execution_count": 23,
      "outputs": [
        {
          "output_type": "error",
          "ename": "AttributeError",
          "evalue": "ignored",
          "traceback": [
            "\u001b[0;31m---------------------------------------------------------------------------\u001b[0m",
            "\u001b[0;31mAttributeError\u001b[0m                            Traceback (most recent call last)",
            "\u001b[0;32m<ipython-input-23-33b9d17e8db8>\u001b[0m in \u001b[0;36m<module>\u001b[0;34m()\u001b[0m\n\u001b[1;32m      1\u001b[0m \u001b[0mSSVM\u001b[0m \u001b[0;34m=\u001b[0m \u001b[0mScratchSVMClassifier\u001b[0m\u001b[0;34m(\u001b[0m\u001b[0mnum_iter\u001b[0m\u001b[0;34m=\u001b[0m\u001b[0;36m3\u001b[0m\u001b[0;34m,\u001b[0m \u001b[0mlr\u001b[0m\u001b[0;34m=\u001b[0m\u001b[0;36m0.01\u001b[0m\u001b[0;34m,\u001b[0m \u001b[0mkernel\u001b[0m\u001b[0;34m=\u001b[0m\u001b[0;34m'linear'\u001b[0m\u001b[0;34m,\u001b[0m \u001b[0mthreshold\u001b[0m\u001b[0;34m=\u001b[0m\u001b[0;36m1e-5\u001b[0m\u001b[0;34m,\u001b[0m \u001b[0mverbose\u001b[0m\u001b[0;34m=\u001b[0m\u001b[0;32mTrue\u001b[0m\u001b[0;34m)\u001b[0m\u001b[0;34m\u001b[0m\u001b[0;34m\u001b[0m\u001b[0m\n\u001b[0;32m----> 2\u001b[0;31m \u001b[0mSSVM\u001b[0m\u001b[0;34m.\u001b[0m\u001b[0mfit\u001b[0m\u001b[0;34m(\u001b[0m\u001b[0mX_train\u001b[0m\u001b[0;34m,\u001b[0m \u001b[0my_train\u001b[0m\u001b[0;34m)\u001b[0m\u001b[0;34m\u001b[0m\u001b[0;34m\u001b[0m\u001b[0m\n\u001b[0m",
            "\u001b[0;32m<ipython-input-22-922cb6ccff89>\u001b[0m in \u001b[0;36mfit\u001b[0;34m(self, X, y, X_val, y_val)\u001b[0m\n\u001b[1;32m     50\u001b[0m \u001b[0;34m\u001b[0m\u001b[0m\n\u001b[1;32m     51\u001b[0m         \u001b[0;32mfor\u001b[0m \u001b[0miter_n\u001b[0m \u001b[0;32min\u001b[0m \u001b[0mrange\u001b[0m\u001b[0;34m(\u001b[0m\u001b[0mself\u001b[0m\u001b[0;34m.\u001b[0m\u001b[0miter\u001b[0m\u001b[0;34m)\u001b[0m\u001b[0;34m:\u001b[0m\u001b[0;34m\u001b[0m\u001b[0;34m\u001b[0m\u001b[0m\n\u001b[0;32m---> 52\u001b[0;31m             \u001b[0mself\u001b[0m\u001b[0;34m.\u001b[0m\u001b[0m_gradient_descent\u001b[0m\u001b[0;34m(\u001b[0m\u001b[0;34m)\u001b[0m\u001b[0;34m\u001b[0m\u001b[0;34m\u001b[0m\u001b[0m\n\u001b[0m\u001b[1;32m     53\u001b[0m \u001b[0;34m\u001b[0m\u001b[0m\n\u001b[1;32m     54\u001b[0m         \u001b[0;32mif\u001b[0m \u001b[0mself\u001b[0m\u001b[0;34m.\u001b[0m\u001b[0mverbose\u001b[0m\u001b[0;34m:\u001b[0m\u001b[0;34m\u001b[0m\u001b[0;34m\u001b[0m\u001b[0m\n",
            "\u001b[0;32m<ipython-input-22-922cb6ccff89>\u001b[0m in \u001b[0;36m_gradient_descent\u001b[0;34m(self)\u001b[0m\n\u001b[1;32m     71\u001b[0m     \u001b[0;32mdef\u001b[0m \u001b[0m_gradient_descent\u001b[0m\u001b[0;34m(\u001b[0m\u001b[0mself\u001b[0m\u001b[0;34m)\u001b[0m\u001b[0;34m:\u001b[0m\u001b[0;34m\u001b[0m\u001b[0;34m\u001b[0m\u001b[0m\n\u001b[1;32m     72\u001b[0m       \u001b[0mdelta_L\u001b[0m \u001b[0;34m=\u001b[0m \u001b[0mself\u001b[0m\u001b[0;34m.\u001b[0m\u001b[0my_\u001b[0m \u001b[0;34m*\u001b[0m \u001b[0mself\u001b[0m\u001b[0;34m.\u001b[0m\u001b[0mk\u001b[0m \u001b[0;34m@\u001b[0m \u001b[0mself\u001b[0m\u001b[0;34m.\u001b[0m\u001b[0mlamda_\u001b[0m \u001b[0;34m*\u001b[0m \u001b[0mself\u001b[0m\u001b[0;34m.\u001b[0m\u001b[0my_\u001b[0m\u001b[0;34m\u001b[0m\u001b[0;34m\u001b[0m\u001b[0m\n\u001b[0;32m---> 73\u001b[0;31m       \u001b[0mself\u001b[0m\u001b[0;34m.\u001b[0m\u001b[0mlamda_new\u001b[0m \u001b[0;34m+=\u001b[0m \u001b[0mself\u001b[0m\u001b[0;34m.\u001b[0m\u001b[0mlr\u001b[0m\u001b[0;34m*\u001b[0m\u001b[0;34m(\u001b[0m\u001b[0;36m1\u001b[0m\u001b[0;34m-\u001b[0m\u001b[0mdelta_L\u001b[0m\u001b[0;34m)\u001b[0m\u001b[0;34m\u001b[0m\u001b[0;34m\u001b[0m\u001b[0m\n\u001b[0m\u001b[1;32m     74\u001b[0m       \u001b[0mself\u001b[0m\u001b[0;34m.\u001b[0m\u001b[0mlamda_new\u001b[0m \u001b[0;34m=\u001b[0m \u001b[0mnp\u001b[0m\u001b[0;34m.\u001b[0m\u001b[0mwhere\u001b[0m\u001b[0;34m(\u001b[0m\u001b[0mself\u001b[0m\u001b[0;34m.\u001b[0m\u001b[0mlamda_new\u001b[0m \u001b[0;34m<\u001b[0m \u001b[0;36m0\u001b[0m\u001b[0;34m,\u001b[0m \u001b[0;36m0\u001b[0m\u001b[0;34m,\u001b[0m \u001b[0mself\u001b[0m\u001b[0;34m.\u001b[0m\u001b[0mlamda_new\u001b[0m\u001b[0;34m)\u001b[0m\u001b[0;34m\u001b[0m\u001b[0;34m\u001b[0m\u001b[0m\n\u001b[1;32m     75\u001b[0m \u001b[0;34m\u001b[0m\u001b[0m\n",
            "\u001b[0;31mAttributeError\u001b[0m: 'ScratchSVMClassifier' object has no attribute 'lr'"
          ]
        }
      ]
    },
    {
      "cell_type": "code",
      "metadata": {
        "id": "vPdLkj_cT5d3"
      },
      "source": [
        "# ランダムフォレストのパラメーター\n",
        "SSVM_grid = ScratchSVMClassifier{\"num_iter\": [i for i in range(1, 50)],\n",
        "                                       \"lr\": [i for i in range(0.08, 1)]\n",
        "                                      }\n",
        "max_score = 0\n",
        "SearchMethod = 0\n",
        "\n",
        "#ランダムフォレストの実行\n",
        "for model, param in tqdm(SSVM_grid.items()):\n",
        "    clf = GridSearchCV(model, param)\n",
        "    clf.fit(X_train,  Y_train)\n",
        "    Y_pred = clf.predict(X_test)\n",
        "    score = f1_score(Y_test, Y_pred, average=\"micro\")\n",
        "\n",
        "    if max_score < score:\n",
        "        max_score = score\n",
        "        best_param = clf.best_params_\n",
        "        best_model = model.__class__.__name__\n",
        "\n",
        "print(\"ベストスコア:{}\".format(max_score))\n",
        "print(\"モデル:{}\".format(best_model))\n",
        "print(\"パラメーター:{}\".format(best_param))"
      ],
      "execution_count": null,
      "outputs": []
    },
    {
      "cell_type": "code",
      "metadata": {
        "id": "QQxYcA5iT5d3"
      },
      "source": [
        "fig = plt.figure(figsize=(15,6))\n",
        "ax1 = fig.add_subplot(1,1,1)\n",
        "\n",
        "color_dict = dict({-1:'blue',\n",
        "                   1:'orange',\n",
        "                   0:'green'})\n",
        "\n",
        "\n",
        "ax1 = sns.scatterplot(X_train[:,0], X_train[:,1], hue = y_train, palette=color_dict)\n",
        "# ax1 = sns.scatterplot(X_train[:,1], y_train)\n",
        "# ax1 = sns.scatterplot(\"petal_length\", \"petal_width\", data = df, hue = df[\"target\"])"
      ],
      "execution_count": null,
      "outputs": []
    },
    {
      "cell_type": "markdown",
      "metadata": {
        "id": "UTQXvwJvXiaw"
      },
      "source": [
        "## 【問題5】決定領域の可視化\n",
        "決定領域を可視化してください。\n",
        "\n",
        "以下の例のようにサポートベクターは異なる色で示してください。\n",
        "\n",
        "![image.png](data:image/png;base64,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)\n"
      ]
    },
    {
      "cell_type": "markdown",
      "metadata": {
        "id": "N-ZSIp5wXigy"
      },
      "source": [
        ""
      ]
    },
    {
      "cell_type": "markdown",
      "metadata": {
        "id": "brOc3RkxXimB"
      },
      "source": [
        "# 4.SVMとはどのような仕組みか\n",
        "\n",
        "スクラッチ実装に必要な情報は以上ですが、大まかな仕組みの解説を行います。\n",
        "\n",
        "\n",
        "SVMは決定境界と近くの点の距離（マージン）を最大化する方法です。特徴量が2つであれば以下の図のように線を引くことを考えます。\n",
        "\n",
        "![image.png](data:image/png;base64,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)"
      ]
    },
    {
      "cell_type": "markdown",
      "metadata": {
        "id": "4LAN6pVvXir0"
      },
      "source": [
        "決定境界は線形であれば、線形回帰やロジスティック回帰と同様に次の式です。\n",
        "$$y(x) = w^{T}x$$\n",
        "\n",
        "$x$: 特徴量ベクトル\n",
        "\n",
        "$w$: 重みベクトル\n",
        "\n",
        "決定境界とある点$x$との距離$r$は以下の式で求められます。高校数学で学ぶ「点と直線の距離の公式」や「点と平面の距離の公式」を一般化したものです。\n",
        "\n",
        " $$r = \\frac{y_{i}y(x)}{||w||} = \\frac{y_{i}w^{T}x}{||w||}$$\n",
        "\n",
        "$||w||$はベクトル$w$の大きさで、特徴量が2つならば$||w|| = \\sqrt{w_{1}^2+w_{2}^2}$です。また、学習するi番目のデータのラベルを$yi=−1$または$yi=1$としています。\n",
        "\n",
        "\n",
        "訓練データの中で「最も距離$r$が短くなる点x（サポートベクター）の距離$r$を最大化する$w$を求める」ことがSVMによる分類だと言い換えられます。\n",
        "\n",
        "\n",
        "これは非常に複雑な問題です。 \n",
        "$w$を変化させると、最も距離$r$が短くなる点x（サポートベクター）も変化していくからです。計算するためには、問題を扱いやすい形に変形させる必要があります。\n",
        "\n",
        "\n",
        "## 扱いやすい形にする\n",
        "まず定数$M(>0)$を置くと、先ほどの問題は、$\\frac{M}{||w||}$を$y_{i}(w^{T}x_{i})\\geq M$という条件の元で最大化する \n",
        "w\n",
        " や \n",
        "M\n",
        " を求める問題」\n",
        "\n",
        "\n",
        "と表現できます。条件式は \n",
        "x\n",
        "i\n",
        " に訓練データの全ての点を入れて成り立つ必要があります。まだまだややこしいですが、これをMで割ってしまいます。そうすると、$\\frac{1}{||w||}$を$y_{i}(\\frac{w^{T}}{M}x_{i})\\geq 1$という条件の元で最大化する \n",
        "w\n",
        " や \n",
        "M\n",
        " を求める問題」\n",
        "\n",
        "\n",
        "になり、さらに$w^{T} \\gets \\frac{w^{T}}{M}$と置き換えてしまいます。\n",
        "\n",
        "\n",
        "そうすれば、$\\frac{1}{||w||}$を$y_{i}(w^{T}X_{i})\\geq 1$という条件の元で最大化する \n",
        "w\n",
        "を求める問題」まで簡単化できます。\n",
        "\n",
        "$\\frac{1}{||w||}$を最大化するというのは \n",
        "|\n",
        "|\n",
        "w\n",
        "|\n",
        "|\n",
        " を最小化することと同じです。これを後々さらに扱いやすくするために$\\frac{1}{2}||w||^2$を最小化すると考えます。よって、$\\frac{1}{2}||w||^2$を$y_{i}(w^{T}x_{i})\\geq 1$という条件の元で最大化する  \n",
        "w\n",
        " を求める問題」\n",
        "\n",
        "\n",
        "とすることができます。"
      ]
    },
    {
      "cell_type": "markdown",
      "metadata": {
        "id": "9plz0waxXio6"
      },
      "source": [
        "## 解きやすい問題にする（双対化）\n",
        "こういった不等式制約を持つ最適化問題は次のように ラグランジュの未定乗数法 で置き換えられることが知られています。\n",
        "\n",
        "\n",
        "なお、このように難しい問題を別の簡単な問題に言い換えることを 双対化する といいます。\n",
        "\n",
        "\n",
        "ラグランジュの未定乗数法を用いると以下のラグランジュ関数が得られます。\n",
        "\n",
        "$$L(w,\\lambda) = \\frac{1}{2}||w||^2 - \\sum_{i=1}^{N}\\lambda_{i}\\{y_{i}(w^{T}x_{i})-1\\}$$\n",
        "\n",
        "λ\n",
        "  はラグランジュ乗数と呼ばれる数で、0以上の値です。これを \n",
        "w\n",
        "について微分し、0に等しいと置くと、次の式が得られます。\n",
        "\n",
        "$$w = \\sum_{i=1}^{N}\\lambda_{i}y_{i}x_{i}$$\n",
        "\n",
        "（この微分のために \n",
        "|\n",
        "|\n",
        "w\n",
        "|\n",
        "|\n",
        "ではなく $\\frac{1}{2}||w||^2$としています）\n",
        "\n",
        "\n",
        "これをラグランジュ関数に代入して整理すると\n",
        "\n",
        "$$\\sum_{i=1}^{N}\\lambda_{i}-\\frac{1}{2}\\sum_{i=1}^{N}\\sum_{j=1}^{N}\\lambda_{i}\\lambda_{j}ｙ_{i}ｙ_{j}x_{i}^Tx_{j}$$\n",
        "\n",
        "を $λi≥0$かつ$\\sum_{n=1}^{N}\\lambda_{i}y_{i} = 0$の条件の元で最大化するときの \n",
        "λ\n",
        "i\n",
        " を探す問題に双対化できます。\n",
        "\n",
        "\n",
        "この形になれば、\n",
        "λ\n",
        " を勾配降下法により求めることができます。\n",
        "w\n",
        "は出てきませんが、得られる結果は同じです。\n",
        "\n",
        "\n",
        "## カーネル  \n",
        "\n",
        "最後の式の \n",
        "x\n",
        "T\n",
        "i\n",
        "x\n",
        "j\n",
        " の部分を \n",
        "k\n",
        "(\n",
        "x\n",
        "i\n",
        ",\n",
        "x\n",
        "j\n",
        ")\n",
        " という関数に置き換えます。この関数を カーネル関数 と呼びます。\n",
        "\n",
        "$$\\sum_{i=1}^{N}\\lambda_{i}-\\frac{1}{2}\\sum_{i=1}^{N}\\sum_{j=1}^{N}\\lambda_{i}\\lambda_{j}ｙ_{i}ｙ_{j}k(x_i, x_j)$$\n",
        "\n",
        "この式が問題1の最急降下法の式の元になります。\n",
        "\n",
        "\n",
        "カーネル関数は \n",
        "x\n",
        "T\n",
        "i\n",
        "x\n",
        "j\n",
        " ではない様々な計算に置き換えることができます。この部分を置き換えるだけで、元の特徴量を 高次元空間 に移動させたことと同じ結果が得られ、高い分類性能を得ることができます。これを カーネルトリック と呼びます。\n",
        "\n",
        "\n",
        "## 高次元へ移す簡単な例  \n",
        "\n",
        "次の図のように1次元上に2色の点があるとします。これらを直線一本を引くことで分けることは不可能です。\n",
        "\n",
        "![image.png](data:image/png;base64,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)"
      ]
    },
    {
      "cell_type": "markdown",
      "metadata": {
        "id": "fAkNfaReXijN"
      },
      "source": [
        "しかし、例えば以下のように変換してみると直線でも分けられそうです。\n",
        "x\n",
        "2\n",
        "=\n",
        "2.5\n",
        " あたりに線を引くことになります。\n",
        "\n",
        " ![image.png](data:image/png;base64,iVBORw0KGgoAAAANSUhEUgAAAekAAAGkCAYAAAAVCN0lAAAgAElEQVR4Ae2dCZwV1Zm33ZIMRDAhzUSNn4k6k2g0sc0eo5PNGGeMThbNgqKJiqMkxqigBlQUo4HoSBI1OuAeI3EBRAGFZgsSFAxrs+/71ixN7yvvV/9jCpvm0tu9t9anfr/bt++9deuc93mr6qlz6lTdQ4wJAhCAAAQgAIFIEjgkkrWiUhCAAAQgAAEIGJJmJYAABCAAAQhElACSjmhiqBYEIAABCEAASbMOQAACEIAABCJKAElHNDFUCwIQgAAEIICkWQcgAAEIQAACESWApCOaGKoFAQhAAAIQQNKsAxCAAAQgAIGIEkDSEU0M1YIABCAAAQggadYBCEAAAhCAQEQJIOmIJoZqQQACEIAABJA06wAEIAABCEAgogSQdEQTQ7UgAAEIQAACSJp1AAIQgAAEIBBRAkg6oomhWhCAAAQgAAEkzToAAQhAAAIQiCgBJB3RxFAtCEAAAhCAAJJmHYAABCAAAQhElACSjmhiqBYEIAABCEAASbMOQAACEIAABCJKAElHNDFUCwIQgAAEIICkWQcgAAEIQAACESWApCOaGKoFAQhAAAIQQNKsAxBIEYG9e/eaHkwQgEA8CCDpeOSJWkIgJwR8SSPqnOBkIRDIOwEknXfEFACB/BHwpZuphKYibmhosLKyMps9e7bNnz/fSktLrb6+PtPXeA8CEIgQASQdoWRQFQi0lYAELPHW1NRYdXW1NTY27vuq/q+trXXvS8SaV/PNnTvXpk2bZtddd51NmTLFzdNU5PsWwD8QgEBkCCDpyKSCikCg7QQk35KSEnvttdfco7Ky0slY0pW0FyxYYH/9619t8eLF7n3Nr/fLy8tt2LBhNnnyZKurq+P8dNuRMycEQiGApEPBTqEQ6DgBiVhd16+++qpdeeWV9vWvf90mTpzoBCwRS8A/+9nPrFevXjZv3jzXylZLWt9ZsWKFTZ061bZv3053d8dTwDchEBgBJB0YagqCQG4ISNKbNm2y4cOHu27r8847zy644ALXap4xY4b16dPHta5XrVrlurnVLa7/1YJ+6KGHnMR37NixXxd5bmrGUiAAgVwTQNK5JsryIBAAAZ1z3rVrl+3cudPJ9+STT3YCvv/++624uNgqKiqcoHV+2pf6nDlz3Hlpfa5Wtd5nggAEok0ASUc7P9QOAgclIMnqvPKaNWtMkj7rrLPs6aeftt27dx/QSpas1aL2Hwj6oFj5AAKRIoCkI5UOKgOB9hGQfDUYrHfv3va1r33Njd7WILLmk6Ssh9+ybv45ryEAgWgSQNLRzAu1gkCbCGjUtq55lqTPOOMMGzp0qHtNS7lN+JgJApEngKQjnyIqCIEDCfitYrWaR40aZffcc4/17NnTPdauXetGbqtrG1kfyI53IBAnAkg6TtmirhDwCPjnlzV4TIPB+vbta9u2bbNHHnnEPvGJT1hRUZEbOLZx40Y3QAxoEIBAfAkg6fjmjpqnkIAEvXXrVneN9OjRo02juXXZlX9HsfPPP98uu+wy02e6mYnkTWs6hSsKISeGAJJOTCoJJOkEJFuN5tZNTC666CK79dZb7c0339x3LbQGkI0dO9Z+/OMf22233WZLly7lhiVJXymIL/EEkHTiU0yASSLgt6SXL19uGzZsMJ2T1nuaNIhMol69erWpq1vd4f5nSWJALBBIEwEknaZsE2siCEi8EnImAau1rQFjmT5LRPAEAYGUEUDSKUs44UIAAhCAQHwIIOn45IqaQiAjAbWaNXBM56uZIACBZBFA0snKJ9GkjIC6t9X1rd+KnjVrFiO5U5Z/wk0+ASSd/BwTYYIJ+Hcc+/73v28//OEP3aAxtaqZIACBZBBA0snII1GkkIBa0fo1qyeeeMK6dOlixx9/vPslrEw/sJFCPIQMgUQQQNKJSCNBpJGAJK0bmXzpS1+yf/mXf3GPL37xi/b222+7Ed76nAkCEIg3ASQd7/xR+5QS0CAx/Zb0DTfcYEcddZQdccQRdvjhh1vnzp2tT58+7ucq1RXOBAEIxJsAko53/qh9SgnoJia6u9hpp53m5HzIIYeYHocddpgdc8wxNmbMGDfim+ulU7qCEHZiCCDpxKSSQNJCQDcrWblypV188cV25JFH2qGHHuoE7Uu6U6dOdvbZZ9u6devcXcfSwoU4IZBEAkg6iVklpsQSUMu4urraDRY7+uijTUJWV7dErYf+f9/73mcFBQXu5ytLSkq4LCuxawOBpYEAkk5DlokxMQR0nnnVqlX2gx/8wE466SQ78cQT7SMf+Yjr8pacjz32WDvhhBPs5JNPtnPPPdemT5+OpBOTfQJJIwEkncasE3NsCaglXVpaakuWLLHZs2e7kdwvvfSSde3a1f7t3/7NHn30UffLWLq5ycKFC23Hjh2xjZWKQwACZkiatQACMSXg322suLjYdW8XFhZaUVGR+2UsLr+KaVKpNgSaEUDSzYDwEgJxIXAwSVdUVMQlBOoJAQi0QgBJtwKIjyEQVQIHk7Quz2KCAASSQQBJJyOPRJFCAkg6hUkn5NQRQNKpSzkBJ4UAkk5KJokDAgcngKQPzoZPIBBpAkg60umhchDICQEknROMLAQCwRNA0sEzp0QIBE0ASQdNnPIgkCMCSDpHIFkMBCJMAElHODlUDQItEUDSLdHhMwgkgwCSTkYeiSKFBJB0CpNOyKkjgKRTl3ICTgoBJJ2UTBIHBA5OAEkfnA2fQCDSBJB0pNND5SCQEwJIOicYWQgEgieApINnTokQCJoAkg6aOOVBIEcEkHSOQLIYCESYAJKOcHKoGgRaIoCkW6LDZxBIBgEknYw8EkUKCSDpFCadkFNHAEmnLuUEnBQCSDopmSQOCBycAJI+OBs+gUCkCSDpSKeHykEgJwSQdE4wshAIBE8ASQfPnBIhEDQBJB00ccqDQBsJSMKa9Oz/3/SrSLopDf6HQDIJIOlk5jXQqN5RSaBFJr6wmpoaKy0ttZKSEtu1a5fV1dUdIGokHe3VgO0i2vmJS+2QdFwyFbF6agdU7/2p81p57zzMGiNWx7hWp6GhwdatW2d33323XXjhhXbttde6181FjaSjmWFtB9o2av+5beh/bS9MEOgIASTdEWp8x2q8HdCamnqbsLvKXtpZafMqaq2soZGdUZbrhkSs1vOQIUPsnnvuseXLl9uDDz5ov/jFL2zjxo37taaRdJaw8/B1ybiyca/bHl7YUWHjvO1jlbedSNhMEOgIASTdEWop/o52NWo5r62ut17LtttH31prXf++2r42Z6M9ub3c7YxoUXd8BamtrbUlS5ZY7969bfr06bZnzx7bvn27/eQnP7Hx48dbY+O7dJF0xznn45vaNmo9QY/eUWnnzNlkR05fbQXe9qHtZJW3vegzJgi0lwCSbi+xlM+v/Uy512IevH63dZq8wg6btNwOnbzcDveeP/eP9baiqs5JPOWYOhS+pKtz0XPmzLGrrrrKybqsrMx27NhhV1xxhT377LO0pDtENv9fkn7Vrb3WazWfMWu9HaHtwnto+zjS2z5uXbvLSuu9niY8nf9kJKwEJJ2whOY7HEl6l7ez+dSCzfZebwd0yL7HCjv572tsite9V+3NxL6oY5lQd/eaNWusV69e9pe//MU2bNhgc+fOtbPPPtu9rq+vN52zfvHFF61v377261//2q688krr2rWrHXfccdajRw+76aabrH///jZ06FA3+EzyZ8ovARFWS3mqt/4f/bdV7sDV3zb+xTuYPbN4i22pa2C7yG8aErl0JJ3ItOYvKF/SP1tWYp0meS1pbwekndHh3vOn31xrM/fUWA2S7nACJOCqqip7/vnn7fzzz3fd3ho4ds4559hrr73mBC1Rr1271mbNmmVvv/22vfDCC3bUUUfZxz/+cRs2bJjNmDHDtcZ1PlvLYso/AV/Sc8pr7CNvrHbbg7aLQ73torP3OGfpdtvhHdwyQaC9BJB0e4mlfH63M/JaZjP2VNsZM9fZ+6as9Lr0VljXaavslytLXFe4RM7UcQI671xZWWkLFy60iRMn2quvvupkvWLFCtfdrZaxZK6ucUl43rx5VlBQYKeffrq9/vrrrvWsc9uSedNz2B2vEd9sCwEpuKJhr/VcscO6TFvturvfO2WFFXrnpSd7LWwOXttCkXmaE0DSzYnwulUCcrDOS4/1Bsj0W7XDfukNjLl/0x5vcEydIehW8bU6gySsAWOLFy923doaRDZu3Dgnbv/LmkcCloiLi4udpAsLC62oqMgqKir2ydyfn+dgCOi8tAaJ3edtD9d524W2jzHedqIR3xy7BpODpJWCpJOW0QDjkZB1/rnCE7a7FpS9UNb0/VayRnL/6Ec/cueX33jjDauurt5v0JgK0ryZJK1WOFN4BLQZaHvQgay2D20nbBrh5SPuJSPpuGcw5PprB+T18LETymEeJN/y8nLbunWr67pWl3ambmsknUPoOV6UpKztQl3g+p8JAh0lgKQ7So7vQSDPBCRhyVnPmSYknYkK70EgWQSQdLLySTQpIoCkU5RsQk0tASSd2tQTeNwJIOm4Z5D6Q6B1Aki6dUbMAYFIEkDSkUwLlYJATgkg6ZziZGEQCI4Akg6ONSVBICwCSDos8pQLgSwJIOksAfJ1CMSAAJKOQZKoIgQyEUDSmajwHgSSRQBJJyufRJMiAkg6Rckm1NQSQNKpTT2Bx50Ako57Bqk/BFongKRbZ8QcEIgkASQdybRQKQjklACSzilOFgaB4Agg6eBYUxIEwiKApMMiT7kQyJIAks4SIF+HQAwIIOkYJIkqQiATASSdiQrvQSBZBJB0svJJNCkigKRTlGxCTS0BJJ3a1BN43Akg6bhnkPpDoHUCSLp1RswBgUgSQNKRTAuVgkBOCSDpnOJkYRAIjgCSDo41JUEgLAJIOizylAuBLAkg6SwB8nUIxIAAko5BkqgiBDIRQNKZqPAeBJJFAEknK59EkyICSDpFySbU1BJA0qlNPYHHnQCSjnsGqT8EWieApFtnxBwQCJxAY2Oj1dbWWnV1tXuWkJtPSLo5EV5DIHkEkHTyckpECSBQWVlpCxcutKKiIps/f77V1dUdEBWSPgAJb0AgcQSQdOJSSkBxJqAWtFrP06dPt4EDB9oDDzxgN910k40fP96qqqr2Cw1J74eDFxBIJAEknci0ElRcCdTU1NjGjRvtnnvusREjRtiGDRtsypQpdsUVV9jq1autabf3wSRdUVER1/CpNwQg0IwAkm4GhJcQCJOAurU3b95st99+u40ePdq2bNlis2fPtquvvtrWrl27T9IStFrd9fX1VlxcbAUFBVZYWOi6xyVpfdZU6GHGRNkQgEDHCSDpjrPjmxDIOQFJt6yszJ599ln7+c9/bsOHD3eCfuaZZ6y0tNSJV/Jdv369zZkzxwlcLe5u3brZKaecYkOHDrU333zT5s2bZytXrnSDznJeSRYIAQgERgBJB4aagiDQOoGGhgbToDGJ97LLLrM777zTevToYQ8//LBt27bN9Lla25MmTbLf//739uCDD1q/fv2sS5cudvzxx9sNN9xgQ4YMsT/96U/28ssv2549e2hRt46dOSAQWQJIOrKpoWJpJCABq1v7xhtvtBdffNHWrFljs2bNsp/85Cc2ceJE140tUatVrXPXOmc9bdo015I+9dRT3Xd07lrd5Dt37sw4KjyNXIkZAnElgKTjmjnqnTgC6sbWwDGdg9ZAsUWLFjnRqgXdq1cvU5e3f55Zz+oal9QXLFiw3znp8vJy1+LWeWkmCEAg3gSQdLzzR+0TRkDS3bRpk2tJDxo0yA0EU9e3pD137lzXkvZD9kXdfOCYust9mfvz8gwBCMSTAJKOZ96odUIJqPWrO42pi1vXSQ8YMMDuvfdemzp1qjtX3TTsliTddD7+hwAE4ksAScc3d9Q8oQR8+WrQl84t61ld281bx/58mVrSCUVDWBBIHQEknbqUE3AcCEjA/nXQBzu3jKTjkEnqCIHsCCDp7PjxbQiERgBJh4aegiEQGAEkHRhqCoJAbgkg6dzyZGkQiCIBJB3FrFAnCLSBAJJuAyRmgUDMCSDpmCeQ6qeXAJJOb+6JPD0EkHR6ck2kCSOApBOWUMKBQAYCSDoDFN6CQBwIIOk4ZIk6QiA7Akg6O358GwKhEUDSoaGnYAgERgBJB4aagiCQWwJIOrc8WRoEokgASUcxK9QJAm0ggKTbAIlZIBBzAkg65gmk+uklgKTTm3siTw8BJJ2eXBNpwggg6YQllHAgkIEAks4AhbcgEAcCSDoOWaKOEMiOAJLOjh/fhkBoBJB0aOgpGAKBEUDSgaGmIAjklgCSzi1PlgaBKBJA0lHMCnWCQBsIIOk2QGIWCMScAJKOeQKpfnoJIOn05p7I00MASacn10SaMAJIOmEJJRwIZCCApDNA4S0IxIEAko5DlqgjBLIjgKSz48e3IRAaASQdGnoKhkBgBJB0YKgpCAJtJyABN31k+iaSzkSF9yCQLAJIOln5JJqEEJCAGxsb9z30uvmEpJsT4TUEkkcASScvp0QUcwINDQ22a9cu2759+75HSUmJ1dbW7hcZkt4PBy8gkEgCSDqRaSWouBKQeEtLS+2BBx6wfv36Wf/+/e3GG2+0Sy+91BYvXuxa1n5sSNonwTMEkksASSc3t0QWQwISb11dnanlvGHDBlu9erU99thjdtNNN9mWLVvceWqFpfnUHV5fX2/FxcVWUFBghYWFVlRUZBUVFe4zzcMEAQjEmwCSjnf+qH1CCfgCXrdunfXo0cOmTp1q1dXV+yStsP2WtFrY3bt3d5KeOHGiVVZW7jdfQhERFgRSQQBJpyLNBBk3AhKwzk3/+c9/tksuucSJV68lbz2PGDHCbr75ZtclftVVV1nXrl3tuOOOc93iffr0sdtuu82GDRvmus5pUcct+9QXAu8SQNLvsuA/CESGgES8c+dOk4DHjBnjBo1JtpK0usMXLFhgo0ePtldffdUeeeQRJ+kTTzzRBg8ebKNGjbLXXnvNZs6caeXl5bSqI5NVKgKB9hNA0u1nxjcgkFcCkrHOK7/wwgt2yy23OFnr3LM/6XOJuqqqys03d+5cd07605/+tJOzRoara1yjwSV1JghAIL4EkHR8c0fNE0pAYtW56Ouvv97GjRvnhNtcts1b1c0HjulzPZggAIF4E0DS8c4ftU8YAV+sEyZMcOeXly9fftDWsObNNLpbA8eYIACBZBBA0snII1EkhIDEq1bz7NmzbdKkSS2O1EbSCUk6YUCgBQJIugU4fASBsAhI1Bo85resM9UDSWeiwnsQSBYBJJ2sfBJNQghIwC0JWmEi6YQkmzAg0AIBJN0CHD6CQJQJIOkoZ4e6QSA3BJB0bjiyFAgETgBJB46cAiEQOAEkHThyCoRAbggg6dxwZCkQiDIBJB3l7FA3CLRAAEm3AIePIJAQAkg6IYkkjPQRQNLpyzkRp48Akk5fzok4IQSQdEISSRgQaIEAkm4BDh9BIMoEkHSUs0PdIJAbAkg6NxxZCgQCJ4CkA0dOgRAInACSDhw5BUIgNwSQdG44shQIRJkAko5ydqgbBFoggKRbgMNHEEgIASSdkEQSRvoIIOn05ZyI00cASacv50ScEAJIOiGJJAwItEAASbcAh48gEGUCSDrK2aFuEMgNASSdG44sBQKBE0DSgSOnQAgETgBJB46cAiGQGwJIOjccWQoEokwASUc5O9QNAi0QQNItwOEjCCSEAJJOSCIJI30EkHT6ck7E6SOApNOXcyJOCAEknZBEEgYEWiCApFuAw0cQiDIBJB3l7FA3COSGAJLODUeWAoG8EGhsbLT6+npraGgwSbnphKSb0uB/CCSTAJJOZl6JKgEEJOiKigpbunSprV+/3urq6vaLCknvh4MXEEgkASSdyLQSVNwJVFZW2pw5c+x3v/ud3XnnnTZ16lTXom4aF5JuSoP/IZBMAkg6mXklqhgTUAt63rx59oMf/MCefvpp2717t9XW1tLdHeOcUnUIdJQAku4oOb4HgTwQ0Pnn0tJSGzp0qN1///22aNEi27Jli2tFNz0nLZHrPLW6wIuLi6179+5WWFhoRUVFVl5e7j7TPEwQgEC8CSDpeOeP2ieMgFrMq1evtj59+thDDz1kDz74oHvMmjXLqqurXWta8tU5anWH6zFq1Cjr1q2bnXzyyTZs2DB76623bP78+bZy5UrXAk8YIsKBQKoIIOlUpZtgo05AkpZgL7roItealnBffPFF69GjhxOyWto1NTU2cuRI69u3r/Xr18969eplnTt3tqOPPtp69uxpN998s91+++32+OOPW0lJyQHd5FFnQP0gAIF3CSDpd1nwHwRCJyBJz54926655hpbvHix6/retm2bXX755fbcc8/t6+KWfJcvX27Lli2ziRMn2gc/+EHXkn722Wdt4cKFrjWubnK1vpkgAIH4EkDS8c0dNU8gAUlal1zdcsst7lyzBo1J0ldddZU9//zz+1rF/vloza9BZgUFBXb66afbhAkTrKyszJ2rznRtdQKRERIEEk0ASSc6vQQXNwLqzpaYhwwZYgMHDnTSVQvab1k3HTzW0iVYTeeLGwPqCwEIvEsASb/Lgv8gEDoByVUDw5YsWWL33nuv3XHHHXbPPffY9OnTTddON51aknTT+fgfAhCILwEkHd/cUfOEEpB81VWtbuutW7e689JqYTe/pApJJ3QFICwINCGApJvA4F8IRImApCw5S9iZJiSdiQrvQSBZBJB0svJJNCkigKRTlGxCTS0BJJ3a1BN43Akg6bhnkPpDoHUCSLp1RswBgUgSQNKRTAuVgkBOCSDpnOJkYRAIjgCSDo41JUEgLAJIOizylAuBLAkg6SwB8nUIxIAAko5BkqgiBDIRQNKZqPAeBJJFAEknK59EkyICSDpFySbU1BJA0qlNPYHHnQCSjnsGqT8EWieApFtnxBwQiCQBJB3JtFApCOSUAJLOKU4WBoHgCCDp4FhTEgTCIoCkwyJPuRDIkgCSzhIgX4dADAgg6RgkiSpCIBMBJJ2JCu9BIFkEkHSy8kk0KSKApFOUbEJNLQEkndrUE3jcCSDpuGeQ+kOgdQJIunVGzAGBSBJA0pFMC5WCQE4JIOmc4mRhEAiOAJIOjjUlQSAsAkg6LPKUC4EsCSDpLAHydQjEgACSjkGSqCIEMhFA0pmo8B4EkkUASScrn0STIgJIOkXJJtTUEkDSqU09gcedAJKOewapPwRaJ4CkW2fEHBAIhYAk7D8yVQBJZ6LCexBIFgEknax8Ek1CCNTW1tq2bdtsy5YttnXrVtu5c6c1NDTsFx2S3g8HLyCQSAJIOpFpJag4E2hsbLQ5c+bYNddcY/3797eBAwfaU089Zbt373Ytaz82JO2T4BkCySWApJObWyKLIQGJV5IeP3683XrrrTZz5kxbunSpbdiwwWpqavZF5M9XX19vCxYssIKCAissLLSioiIrLy93y9A8TBCAQLwJIOl454/aJ4yABF1XV2cjRoywwYMH26ZNm1w3t7q6m0tXryXpJUuWWPfu3Z2kJ06caJWVlQfMmzBMhAOB1BBA0qlJNYHGgYAv6VdeecWuuOIK69mzp91xxx22bt06q66udi1kSXzatGn26KOP2rBhw+yuu+6yLl262PHHH299+/a1P/3pT/b444/buHHjbM+ePQg7DomnjhA4CAEkfRAwvA2BsAj4LWTJWF3dv/rVr5x8NZBMLWrJesKECa6lff/999stt9xinTt3tmOPPdZ69+5tgwYNsj/84Q/20ksvuQFnYcVBuRCAQPYEkHT2DFkCBHJOQC1qX8iLFi2y7373u+7cs97XQ+eny8rKrLS01P7xj39Yt27d7FOf+pSNGTPGtm/fbhUVFU7mzUeE57yiLBACEMgrASSdV7wsHALtI6BWtFrQai1LtLt27TKdZ7700ktt7dq1+7quNZ/fNV5cXLzfwDF9T5/rwQQBCMSbAJKOd/6ofcIIaCCYurX//Oc/u5HauvTqC1/4go0cOfKAAWGSsOZvLmkNHGOCAASSQQBJJyOPRJEQAmodqyWsQV9DhgyxBx54wGbMmGFVVVVOyE3DRNJNafA/BJJJAEknM69EFXMCfnd10+fmISHp5kR4DYHkEUDSycspESWAgASsyZd0ppCQdCYqvAeBZBFA0snKJ9GkiACSTlGyCTW1BJB0alNP4HEngKTjnkHqD4HWCSDp1hkxBwQiSQBJRzItVAoCOSWApHOKk4VBIDgCSDo41pQEgbAIIOmwyFMuBLIkgKSzBMjXIRADAkg6BkmiihDIRABJZ6LCexBIFgEknax8Ek2KCCDpFCWbUFNLAEmnNvUEHncCSDruGaT+EGidAJJunRFzQCCSBJB0JNNCpSCQUwJIOqc4WRgEgiOApINjTUkQCIsAkg6LPOVCIEsCSDpLgHwdAjEggKRjkCSqCIFMBJB0Jiq8B4FkEUDSycon0aSIAJJOUbIJNbUEkHRqU0/gcSeApOOeQeoPgdYJIOnWGTEHBCJJAElHMi1UCgI5JYCkc4qThUEgOAJIOjjWlASBsAgg6bDIUy4EsiSApLMEyNchEAMCSDoGSaKKEMhEAElnosJ7EEgWASSdrHwSTYoIIOkUJZtQU0sASac29QQeBwIScWNjo+m5+YSkmxPhNQSSRwBJJy+nqYpI6mr0BHagwuKPQRJuaGiw3bt3W1VVlZN106iQdFMa5taBRu+tJK4L+0fKqzQRQNJpynbCYm309sZ1nsgqGhqtyntR771Oyg5aAlYLet26dXbJJZfY5MmTraamZr8WNZJ+Z4VWzhu8P1oH9KjVwU3C1nXCSS8BJJ3e3Mc6cm8/bDXeDnlFVZ09vaXMXimptG11jU7UsQ7sn5WXgGtra+3222+3k08+2YYPH27l5eX7taZbkrQ+S8OkKNV63lPfaGN3VNqfvXWhuKLWqr11Ix0E0pDldMeIpNOd/1hGr4ffNPQAACAASURBVFZTpfdn2KY9dtKMtVYwdZX967RVdv78TTa3rMbqYr6DlmD37NljL7zwgg0YMMBuvvlme+qpp/aTtFrZ6gqvq6uz4uJi6969uxUWFlpRUZGbT58d7Fx2LJN+kEpLxLO9nJ83f7N9eNpq6+6tC8d468TvvXVjj9fDonWFCQJxJoCk45y9lNa91pPw4so6+/rsDXbIxOV2yKR3HodNXGZ3rN7pBB7XnbMELfEuWLDA+vTpY9OnT7d+/fo5SZeVlTnxSsCbN2+2hQsXuseYMWOsW7dudsopp7j55syZY0uWLHFd5WqNJ3WSf+u8P31X7bD3T1phh01e4dYFrQefmLnOlnrriE6H4OmkrgHpiAtJpyPPiYqyymtFTi6tsjPeWrtP0BK1ds7fW7jFdnldnzo/Hcepvr7edu7caY8//rg9/fTTTrTq8lZLWq1rCVyDyJ555hm74oor7Oqrr7aLL77YOnXqZAUFBXbhhRfalVdeab1797YhQ4bY1q1b9zuPHUcmB6uzurkrvXXhx4u27hO01oNDJy93PStTdlebDuhiuiocLGzeTxkBJJ2yhCchXO14F3jnHb/6jw3eDtlrPXk7Ze2Yj5i0zG5dVeINJPMGDsXwnKx/jnnWrFn2ve99z52PHjx4sF1wwQVOvDNmzDBJXAPIdu3aZWvWrLFVq1bZlClT7AMf+IA7d/3cc8/ZsmXLbP369VZSUuKEnoScZ4pB8lWer1pZYp2nrLTDp/yzJe2J+v+9udaWey3peu9zJJ2JHu/FhQCSjkumqOc+Am7n7L26Zf1uO/aNVfZebwd95NSV9u9vr7O/e+cn9Xlcd8ySsCT7xBNP2H333WeDBg2yc88913r27Om6vtXVLZnrfLPmVXf2/PnzXSv69NNPd+ek1S2epnPSM0qr7RveAVsXbx147+SV9uG/rbIH1u3+58HavtWGfyAQSwJIOpZpo9KS8I76Bhuzs9IGbthtf9i8x2Z5gq6MefemBCzxVlRUuNbypk2brG/fvjZ06FD3WnL2J7/lrYFj6ur2B45VVlYmtovbj73psy67WuT1rNznDRa7e0OpvVBSYTvrGhJ1SV7TePk/XQSQdLrynaho/RaztOX/n4QAm7aUddmVBD1+/HjXda3P/KklSfvzpOXZ5d/7k6T1IC25I86WCSDplvnwKQRCJSARa6CYWtdNBa1KIelQU0PhEAiEAJIOBDOFQKDjBA52vTOS7jhTvgmBuBBA0nHJFPWEQDMCSLoZEF5CIIEEkHQCk0pI6SCApNORZ6JMNwEkne78E32MCSDpGCePqkOgjQSQdBtBMRsEokYASUctI9QHArkngKRzz5QlQiAQAkg6EMwUAoFQCSDpUPFTOAQ6TgBJd5wd34RAXAgg6bhkinpCoBkBJN0MCC8hkEACSDqBSSWkdBBA0unIM1GmmwCSTnf+iT7GBJB0jJNH1SHQRgJIuo2gmA0CUSOApKOWEeoDgdwTQNK5Z8oSIRAIASQdCGYKgUCoBJB0qPgpHAIdJ4CkO86Ob0IgLgSQdFwyRT0h0IwAkm4GhJcQSCABJJ3ApBJSOggg6XTkmSjTTQBJpzv/RB9jAkg6xsmj6hBoIwEk3UZQzAaBqBFA0lHLCPWBQO4JIOncM2WJEAiEAJIOBDOFQCBUAkg6VPwUDoGOE0DSHWfHNyEQFwJIOi6Zop4QaEYASTcDwksIJJAAkk5gUgkpHQSQdDryTJTpJoCk051/oo8ogYaGBquvrzf/WUJuPiHp5kR4DYHkEUDSycspEcWYgMTb2NhoJSUltmjRIps3b56tWbPG6urqrLmokXSME03VIdBGAki6jaCYDQJBEFDLubKy0saPH2+PPvqo3X///darVy978803raqqaj9RI+kgMkIZEAiXAJIOlz+lQ2A/AmpF19bW2ubNm23Tpk22fPly69u3rw0cONDKy8v3zeu3uNXCXrBggRUUFFhhYaEVFRVZRUWFk3nzlve+L/MPBCAQGwJIOjapoqJpIeC3kGtqamzbtm2uJf3www87SfvibSrphQsXWvfu3ZF0WlYQ4kwVASSdqnQTbBwISMCS8/Dhw+3yyy+3K6+80jZu3Oi6u/2WdnFxsY0ZM8bGjRvnusW7du1qJ5xwgt133302evRo113+9ttv79f6jkPs1BECENifAJLenwevIBA6AV/SL7/8sg0ePNi1pEeMGOHOVWvEt85Nv/LKK9a/f38bMGCA9e7d2zp16mQf/vCH7ac//al7/+6777ZnnnnGtm/fvt957NCDowIQgEC7CCDpduFiZggEQ0DnmnUOuqyszP72t79Zjx493PlptaQ1uKy6utpKS0tt165dNnPmTOvWrZuddtppTt5bt25135PMJXUmCEAgvgSQdHxzR80TSECtaIlVg8ckWUl67ty5dtFFF9mSJUv2axX786rrm4FjCVwZCAkCHgEkzWoAgQgRUCt5586d7nzzrFmzXCv64osvdt3eEnbT6WCS1iVcTBCAQDIIIOlk5JEoEkJA3dmS7NixY+2hhx6yIUOG2IsvvujErS7wphOSbkqD/yGQTAJIOpl5JaqYE5CsJWV1fet/Cbn5hKSbE+E1BJJHAEknL6dElAACEnDTR6aQkHQmKrwHgWQRQNLJyifRpIgAkk5Rsgk1tQSQdGpTT+BxJ4Ck455B6g+B1gkg6dYZMQcEIkkASUcyLVQKAjklgKRzipOFQSA4Akg6ONaUBIGwCCDpsMhTLgSyJICkswTI1yEQAwJIOgZJoooQyEQASWeiwnsQSBYBJJ2sfBJNiggg6RQlm1BTSwBJpzb1BB53Akg67hmk/hBonQCSbp0Rc0AgkgSQdCTTQqUgkFMCSDqnOFkYBIIjgKSDY01JEAiLAJIOizzlQiBLAkg6S4B8HQIxIICkY5AkqgiBTASQdCYqvAeBZBFA0snKJ9GkiACSTlGyCTW1BJB0alNP4HEngKTjnkHqD4HWCSDp1hkxBwQiSQBJRzItVAoCOSWApHOKk4VBIDgCSDo41pQEgbAIIOmwyFMuBLIkgKSzBMjXIRADAkg6BkmiihDIRABJZ6LCexBIFgEknax8Ek2KCCDpFCWbUFNLAEmnNvUEHmUCEnBjY6N76P9ME5LORIX3IJAsAkg6WfkkmoQQaGhosNraWqurq7P6+nrLJGoknZBkEwYEWiCApFuAw0cQCJqAWs+S8/Lly+2hhx6yu+++22bOnGnV1dUmcTedkHRTGvwPgWQSQNLJzCtRxZSAWs6bNm2yAQMG2G233WY33nijfeYzn7EJEyZYVVXVfi3qliSdqeUdUyRUGwKpJoCkU51+go8aAbWk1Wrevn27lZSUOGH/9re/tT59+tiePXv2SVoS1rySenFxsRUUFFhhYaEVFRVZRUWFmw9RRy271AcC7SeApNvPjG9AIO8E/FZyWVmZPfbYY65FvXv3bidfybm8vNy2bdvmHtOnT7du3brZqaeeai+//LKtX7/eCV5S1/lsJghAIL4EkHR8c0fNE05AMlaLumfPnvb8889bZWWlk65a2o8//rj16NHDLrvsMrvwwgutU6dO9qEPfcjOO+88u+SSS+zKK6+0wYMH29atW/e1vhOOi/AgkEgCSDqRaSWouBNQN7Za0Y888oiTrlrOek8tbD1LvosWLbIlS5bY2LFjrWvXrvbxj3/cnn32WZs/f74tW7bMNm7c6M5jx50F9YdAmgkg6TRnn9gjSUAt6NLSUnv11Vft6quvtnnz5rkR383PMftd4gsXLtzvnLRa3M3njWSgVAoCEGiVAJJuFREzQCA4AhK0RnFPnjzZDRabNGmSE7a6uPVZ08mXdPOBY0i6KSX+h0C8CSDpeOeP2ieMgK6FXrNmjV166aXuMWjQIHe99MiRI133d9MWckuSThgWwoFAagkg6dSmnsCjSECtZY3aVgtaYn7ppZds1KhR9sYbb7gR3Ug6ilmjThDIHwEknT+2LBkC7Sbgt47Vva1ua13zrOeamhruONZumnwBAvEngKTjn0MiSCABtaibPpq2oP1wfaFnOiftz8MzBCAQbwJIOt75o/YpJoCkU5x8Qk8NASSdmlQTaNIIIOmkZZR4IHAgASR9IBPegUAsCCDpWKSJSkIgKwJIOit8fBkC4RFA0uGxp2QIBEUASQdFmnIgkGMCSDrHQFkcBCJIAElHMClUCQJtIYCk20KJeSAQbwJIOt75o/YpJoCkU5x8Qk8NASSdmlQTaNIIIOmkZZR4IHAgASR9IBPegUAsCCDpWKSJSkIgKwJIOit8fBkC4RFA0uGxp2QIBEUASQdFmnIgkGMCSDrHQFkcBCJIAElHMClUCQJtIYCk20KJeSAQbwJIOt75o/YpJoCkU5x8Qk8NASSdmlQTaNIIIOmkZZR4IHAgASR9IBPegUAsCCDpWKSJSkIgKwJIOit8fBkC4RFA0uGxp2QIBEUASQdFmnIgkGMCSDrHQFkcBCJIAElHMClUCQJtIYCk20KJeSAQbwJIOt75o/YpJoCkU5x8Qk8NASSdmlQTaNwINDY2WkNDg+k504SkM1HhPQgkiwCSTlY+iSYhBCTnsrIyW7VqlVVVVZmE3HxC0s2J8BoCySOApJOXUyKKMQFfxitXrrTBgwfbpZdeaosWLbL6+voDRI2kY5xoqg6BNhJA0m0ExWwQCIKAxKvH/Pnz7cknn7TvfOc7Nn36dKutrT1A0uoGl7yLi4utoKDACgsLraioyCoqKty8vvCDqDdlQAAC+SGApPPDlaWmiUCj1xXd4J03Psi5446gkHx37txpl1xySbslXVlZeYDQO1KHdn1H3fGKP4cM2lU+M0MgoQSQdEITS1gBEJCQqmvMtu0wW7XerGSXWW1dTgpWK3nPnj2uu7tpS1rv19XV2dKlS23ixIk2efJke+KJJ6xr16520kkn2ZAhQ+z111+3qVOn2rx581yrOicVOthCJOe6erMdu99hsGW7WVW1eUcJB/sG70MAAu0ggKTbAYtZIbCPgCQkQU+fbdbv97b3p7+2vb/+o9nshV6ruiFrSR1M0hpQVl1dbWPHjrW77rrLfvOb39j1119vnTt3tmOOOcauvvpq9/6gQYPsueees5KSkvy1qp2gvYOSpavMBg97h8ENvzUrmv4OG1rV+1YX/oFARwkg6Y6S43vpJSA5ScQr1pp95We2t9s3be+R37C9Xb9hjd/7udlK732vtZvNdDBJ6zyzPtN5Zwl427ZtNmPGDOvWrZuddtppNmrUKNu4caPrKtfocHWb520Sh527be8V3gHKsd96h8EHPBZf72E27e13RJ23wlkwBNJBAEmnI89EmUsCaiF6A7ns6ZHW+P4v297Dz7a9h5zlHo0n/qfZyNc9QXldvllMB5O0v0hf1gcbOKbv53XgmAQtDm8X294PnGt7j/gP23uox+DQr9jeD3/b7LfDzHaXZd2j4MfLMwTSSgBJpzXzxN1xApJTZZXZo8Ot8X1f+qegPTkddpY1fswT1HOvmFV4n2cxtSZpLVoSziRpDRzL+yRJq5U+Y67t7eK1oiVnHagc6h2wFJxr1t/r+t/unaPXfEwQgECHCSDpDqPji6kl4AtqziLbW/gD29vZk9MRnqSOOtP2fuunZsXLsh5AJgHr3PNjjz1ma9ascXcea847VEmrMjpY2bjN9p7/c2vs4rWk3+Mx6OQ9Pvl9s9em0d3dPGG8hkAHCCDpDkDjKxBwBMq9Fuvw0bb34l/a3jMvtb0/+qXZ6InvCFoiz3KShHW3sYOdVw5d0opRPQrjp3vnpfu/w+C8Xrb3ob96Xd173jlvnyUDvg6BtBNA0mlfA4i/4wT8bu/tO802eZcelXjPOb78qKVzy6FLWuTEQKPcvQFkttljsNW7HE1d/Xo/++OUjueGb0IgIQSQdEISSRghEVBr0m81N/0/gOpEQtJ+nCEx8IvnGQJJJYCkk5pZ4ko8gUhJOvG0CRAC4RBA0uFwp1QIZE0ASWeNkAVAIPIEkHTkU0QFIZCZAJLOzIV3IZAkAkg6SdkkllQRQNKpSjfBppQAkk5p4gk7/gSQdPxzSAQQaI0Akm6NEJ9DIKIEkHREE0O1IJBDAkg6hzBZFASCJICkg6RNWRAIhwCSDoc7pUIgawJIOmuELAACkSeApCOfIioIgcwEkHRmLrwLgSQRQNJJyiaxpIoAkk5Vugk2pQSQdEoTT9jxJ4Ck459DIoBAawSQdGuE+BwCESWApCOaGKoFgRwSQNI5hMmiIBAkASQdJG3KgkA4BJB0ONwpFQJZE0DSWSNkARCIPAEkHfkUUUEIZCaApDNz4V0IJIkAkk5SNoklVQSQdKrSTbApJYCkU5p4wo4/ASQd/xwSAQRaI4CkWyPE5xCIKAEkHdHEUC0I5JAAks4hzDAWpR21HmFNYZevuMOuQ1jlq9z6+norLi62goICKywstKKiIqusrAxldVB9wpzCykPTmGHQlEbw/zc2NuZkf6jlZFqW8pvp/XxGiqTzSTfPy9YKU1dXZw0NDXku6eCLV9mqg1bcMCafgWQV1iQGtbW1gTNQ7FGRdBTWA7EIc1vQNqA6BL0T99d7rQ+KX4+w6uDXJYxnxe3zz2Z/pO9qn6aDXW3X/qTl63V1dbXV1NQEtr0jaT8DMXv2d9D/93//ZytXrszJ0WN7EWhlfvPNN+2VV14JdKX16+kzGDVqlE2bNi2UFrUYrFixwp555hmrqqoKNA9+/IsWLLBju3e3zxWeYZMmBN+SVj127drlGOzcuTOUPGgHumHDBnv++efduqg6BT1px/3CCy/Y8uXLnSiDroMEVVJSYi+99JKtX7/eCStoBmGVJ9YbN260xx9/3D3v2bOnQ40HLUfb8YgRI+yHP/yh/e1vf3Prk+SsZWpfc9lll7n9nta5IHIca0kLUJofOqL7+c9/bm+99da+I+cgeWinMHLkSLv//vvdCuyvtEHVQYIUg8GDB9uzzz4bCgPFrAOVm2++2Xbv3r1v5xwIAy/+eu+If+ncefaVj55oF33hTPv7uNeturwi0O1CeZAgb7nlFicHvQ4k/ibbvwQ5f/58u/fee62ioiKUdaG0tNR+85vfuPXB71kJkoO2hdWrV9tvf/tbdwpEr4MsP+yydNrnM5/5jH3hC1+wYcOG2aZNm1zL169XWw4gtO5OmjTJ+vfvb9/+9retR48e7qCrvLzcHfx885vftLvvvtsdDGnbD2KKraQFXl0S2ji1MqbtoaM9Hdn17t3bpk+f7o7+9F5QHFSWdoZquQwaNMittOoeCqp8laPytGPUTunpp592r4NmoDq88cYb1rdvX9u+fburQ2AMvBzULV5pZb8aZLOPPsuWffSbVvqDm6x2+hyr9URdXRnM+iDmkoMOVFatWhX4uije2hb+8Y9/2J133mlqzSsvQa8Lyv/AgQPd+qCdepB1UKzaFpYtW2b33HOPzZ07170OkkFg632z/b1i1EMxn3HGGda1a1f7yEc+Yj/60Y/sr3/9q23durXNp6PkFR10r1u3zvUQSsrqJZs8ebLLrdYxv5WueYOYYilpwVErbt68eW7n/OSTT1raHk888YQ7Wjz33HNtwIABLn69FxQHlaXH9ddf7zaGoUOHutdBla9yVL66t7QxXnvttS72IBn4sYr/d77zHXv00UcDZfCst/NYfeNA2/uv51jj4f9hjYd+xRoP+7KV9rjJnn/8SXvKY/NkQOvEAw88YBdccIHp2V83gsyFWk4S5EUXXWQ6BeTXwc9REM8PP/ywK/+OO+5w62WQdVBZ2gb/93//120POnAVkyBzEATjTGX4MaoX46Mf/ai95z3vscMOO8yOOOIIO+WUU+y6666zWbNmOZG3JlW/8acDDp0y6NWrl/3nf/6n9enTx/VO+L2FrS0nl5/HVtJqxf33f/+3HX300fahD33IPvjBD6bu8YEPfMA6depkXbp0CS12la06qC5h5EDldu7c2Y488shQylfMYTDo3q2bfeIjx9q4E8+0vZ3+w/YeepbtPcSTtCfqLV2+Zud87N/tXz/YzboFtF2o9aI8HHXUUaHkQeuB8vD+978/lPK1Hih2MRCLMLYFlamyxSCsPIQVt8pV/iXoQw891A455BD3rH2TrnzQwZt6GdrS+tU8fkPwkUcesY997GPuXLR6RtQdHvQUW0nrSEfnn8466yw788wzU/X48pe/bHp88YtftOOOO84+9alPhRb/Jz/5SbcSf+lLXwqlDuKgjegTn/iEfeUrXwmlDp/+9KddHpSPoNbFr3jr/Hlf+6q98fnzbW+Xr9rew876Z0v6TCv52Pl22TfOtTMDzInOBR5//PHunKC/fuo5CB7+tnDaaafZiSeeaFoX/ToEUb5fxuc+9zk74YQTTOuDX37QDJSHk046yeXB5+DXL+nP2g/qIOXwww93LWkJ+5hjjnGCnjNnjjs911bBStIaV/Diiy+61vhDDz3kurmRdFsJevMJos5Ha3DA2rVr3TkEnUdIy0Mx6/zfz372M3v11VfdwJ2gY1d3kLqabrvtNleXoPPgl6dBHupq1OjOMBiMHTvWjQ3QqF6/TkHUY/2G9Vbx9IvW+KnvWP17vmr1R5xtjQVftdqBf7T1K1baujVrAuOh7kQNYpw5c6ZjECQHsdYVDuPHj3fnxdViCrp81WHRokWufF3toPKDroOuMnj77betX79+NnXqVMckiPUwCmVoXzRx4kQ79dRT7X3ve5+9973vdQfvd911l23evNmdHpUz2jJpPo132rJli/3xj3+0b3zjG+6hcRfq7pao27qstpTX2jyxbEn7QQmWzk0LqJ7T8FCs/kNd/r/4xS9sxowZ+94LioHqoIMkXe7xu9/9zo1s1pFnUOWrHJUnBhq4ptHdeh3kuqCyVKb4a9CUBizlgoGfX//Zj8t/9hm7WLfvsO1PPm/P//vZ9nrhebb53j9Z7er11lBd40Z++/Pm69mvo4Sk0d169t9z9Qtgu1Q56opUa0kjbzWwpzmrfMWv5frxKv86L6r1QQOZgq6DtgUdrOh89ALvsjy99uuWz/jDXrYfo0b3f/azn3Vd/eph/ctf/uIGjWk/1ZYWsMSr+bS8srIy14rWMjT4TL0Tjz32mBsYqzwrv0GJOtaS9mWdtmetHHpo5dPALR09B310p/J1VPnyyy/b73//e7dSB3VJgp9vxazTHroEbPjw4aExUCtSrRfJoS07A7/+mZ6b5laXdKl1rp2Prn/1z4n58+hZl2AtWbjQPn38R+3bX/iiTfNaE9WesLwVJNPic/6eXxf1aImBejP8dVGfBTVJiAs9DhJUU05Bla9YlX+Vr94E7eh9DkHUQeVrf6CDJF2SqFa9XgeZgyDizFSGYtRjyZIl7jSDxirpihetBzqAaCsDrUNqdYuhGh864FILXVL+r//6L/vWt77lrpvWFS16L9ttPVMsmd5D0pmoxOQ97QiGDBniVs62roi5DE0rqS7210qrI8ugVlo/BsWsDeu5555zt8PU66A5KObFixe7kd1quWRbvr6vgx3tZK+++mrXzabLQHTN5muvvbbfjlfzaie00Ls+9GjvZiaf9W4LOimE24KqHjqI0Oh2XYaULQM/v+15Foc1Xve+LsXTgVvQdVB5koIu11Hu2iOH9sTZ0rzaH6iLVr1K6prV67RM4q9ud41w9y+Ras/+SN+XkNUzqdvrXnPNNbZt2zbHUPsY3SxJ5/i//vWv24QJEwLNL5KO8VqslVBy1BFzWJNWYMkp6Fa0H68YaOcYNgPVIRcMtGOV8HSt6w033OAu+9CRvQT4P//zP+6yQz9W7Vgkgyjcu1v11rqYCwZ+btvzrPVActb6KC5hTMqF6qDn9ggiV3VVmYpfj7DqkKtYOrIcxS3+Wgfbuw5ofl1nrl4Qna7QNqh1Wu9rebruXduZLvvV/+1dfkfi8b+DpH0SPEMgAgQkYLXENCBQN1DwD0DUnawbpjz11FP7dhLaUURF0hFARxUgkLU8tU3pYEfPzUWc6b0gkCPpIChTBgTaQEA7AbUEpkyZ4iSt0bqSto7k1UrVuUbdUUtH/P6OBEm3ASyzQKAdBJrLuR1fzcusSDovWFkoBNpPwJe0LunSOTENYlGXm4QsUT/44INucJYGlCHp9vPlGxCIIwEkHcesRazOfjdQWEegYZefq3T4kh43bpwbNKYubl/SajFrFL1GUEdV0mHlX/z9sv11IVc5ae9y/PL9+rT3+8wPgeYEkHRzIjF8rR243y0a1M5B5fjdsOp+1eAx1SGo8v00+XXQdY16hDFwSDErB/6AHb9u7X3WcsRQN/i//PLL3bWu6uaWqDViVTdm0DXp/qVefrlRGDgWxjro8xUHMdI6qHVA5/FVn6Amla/1UKcqwtwW/HjDzIVfB55zRwBJ545lKEtSt6cue3nS+8EJDTjyu0HzXRmVoxGQuvxJ1xPqXKlGRWoHoZ1WEJPqoN8x1mU3+lED3SZW18oGfbAgOesaTXVH69KXbOLXsnRDCl1+pWs11WqWeBSXusB1XbokpDL0EO8wJe3XQSPQtQ6qLkGuA1rPVJ5G3ep6ed39Tj+6onVT4swmF21dh/1tQTe90Kh8rYu6Tlf10mdBTopZ+wMNMFQuVH4QDIKMMW1lIekYZ1wboHbqui2o7ls8evTowHYM2hnoxhW6FaNuT6rrEy+88EL3v+qU7x2Dlq/Wkw4MdMcxPd9333126aWXup2UdpBBTKqHbkf405/+1N0vWdcyZyMHfVetZ+1kdW20dvy6Fv2KK65wN64Rc8WtSWUrzjAlrbroNpy//OUv3XWkqrfqH6Sc1IL+wx/+4NZ/5eLHP/6xuztUUC1qf1vQ9bPaFnSrXG0L4hLEtuCv5/7+QLcl1f3DR4wY4daVIHPh14Xn3BFA0rljGeiStINWi3Hp0qV200032cUXX+x+/1Q7zSA2SpWhstTFp+5XtSS///3v29//fTcUIgAABzhJREFU/vfAdkzaOWonqJ20uhnVmvvud7/rLl1S3cQoiEni1Ejs888/3/1aTjaSVn3FVi1B9RDojnK6wYJ6CdTCbhpXFCStWHX3Jd2GUnXVrROVjyDWQT+3Wgd0YKCHWpH6iUb1RKgXQrzyPTXfFrRN6udTdXAVpKT9/YEu1dOBysiRI135QeYi36zTuHwkHaOsa2PzH9o56qJ6/YaufkNW5ys1Klg7hXxtlJKCX76e9Vo7xbfeesvd+UwHC/qB9Xy2YpuXr/TpPe2MNdBKByvqaszXzjETA72n8vWb0uqOzlbSiknL1EPL8pen100nvQ67Je3XVacdbr31VnvS6/IOWtJ+HbQe6NSADm50IxgdPAQhaT8n2hZ0MwwN8NO24P+wg/95Pp8Vu/YH2g+o21+noNSzls/9QT7jYdnvEkDS77KI7H/aGavFqtverVmzxv3ilXYIo0aNcjtGtWL0wwJjxoxxrWttsLmetEy1THTOVQ+Vr/dmz57tDhTOPfdc1+WoVnU+JO0LacOGDY6BWEgGmvSZds7qGlarM18HCn45yoEe2gmLgd7PtaT9uLRs/+GCbfJH70dJ0r/+9a9Dk7Sw6GBGt3b81a9+5dYFbTN6L6hp7ty5To66x/MDDzzgepjysS00j0frgQSt/YF+5ET7A1/SYpCP/UHzOvA6fwSQdP7Y5mzJ2sjWeFLo3bu3k5A2QJ0L/t73vue6tHQeTj8TqIFLkliud0zaCUhCr7/+uiu/V69e7pypylELSt2wakH07NnTdPmQdgy5nlQHHQCoK0+xqtWmLnaxUXkaWHXttdfaFO9GIPk4J6ryVZZ6DSQBDeLSuXAx8PlccMEFOWtJt4Wfyo2KpHUAF6aklQcdtKn1qAM1HUj6uWkLy1zMo1Mu2hZ04HrZZZe5g+Z8bAvN66r1QGLWeXB1cU+aNMmuu+4616LPx/6gefm8zi8BJJ1fvjlbui8J7Xi0Y9YN3yUKDSjS+S/94Lx+iEEDdyRUzZ/rSctU+ZKVHnqtsrRz1A5K3XzqflerNl+TyvXroPLVnacdkUbVqttfXZz6PF+Tz6BpHXwOSDqclrT463ysDqC0TehcsA7Ugpz8dUDbgg4mda/1AQMGuO1Cn+Vz0vIVs87D+/uDz3/+83bOOee4H/zI1/4gnzGx7HcJIOl3WcTqP+2E1IrVACMNmOrfv7/7NSq1aILoYpOk1OWtsvVrMboERi0Y/QqQRtUGMWnnoy5nHRjoshddgqY6iU2+d4xN4/N30GrJqCUnNkGUrzKi1pLWQaJEpYOpoCatb7q2XK1XnfLQL0HpoFFsgsiD8u1vh9oW/EF0T3rn5/3L5fLNoun+QKeCbr/9dvfzrUHtD/IdX5qXj6RjnH3tgLQz1JG7zoEVeT9TKHHlewepctWC1e8o637SasHeeOONruXQ9BKhfKJVHdR60kGBehFuvvlm192v1ry6G8UgiB20H6OE0KNHD3dKII2S1jqocRG6bl7CyPc66HNXjtd4p4J0qkVXF2h91M+36mAhiF8r8rcFrXO6BFCDtjRoTAeNOj+u7TGoSXXRQz1ZuiRNp6eC2B8EFV9ay0HSCci8BKEWpVoP2kiDmLQT1s5A5/50bliXnQR5AwnFKBmqq1uteLVeVA/9tvOOHTsC4+CzFnedj1TLJagcqJwotKTFQPXQAZrYB3WQ4rNXy1251/XiGpugdUDXK6tOQUzaFnRAsMY7WGi6Laj8oNaFpnGqXL83IeiD1ab14P/cEEDSueGYyqVoB9T0EVTrqTnspnXw/28+TxJfK1btkMO8mUmUuPq595+DrJtfpv8c1rYQZMyUFQwBJB0MZ0rJIwF/x+g/57GoSC1a8SLpd1Li595/jlSiqAwEsiCApLOAx1chECYBJB0mfcqGQDAEkHQwnCkFAjkngKRzjpQFQiByBJB05FJChSDQNgJIum2cmAsCcSaApOOcPeqeagJIOtXpJ/iUEEDSKUk0YSaPgC9pXfZzzDHH2Gc/+1l3S8igbiaTPKJEBIHoEUDS0csJNYJAmwnoUh9dH697mQ/wbkOpG2hoxDcTBCCQDAJIOhl5JIoUE9DNQ3Q71DBuJJJi7IQOgUAIIOlAMFMIBPJHwO/2DvpOX/mLiCVDAAI+ASTtk+AZAhCAAAQgEDECSDpiCaE6EIAABCAAAZ8AkvZJ8AwBCEAAAhCIGAEkHbGEUB0IQAACEICATwBJ+yR4hgAEIAABCESMAJKOWEKoDgQgAAEIQMAngKR9EjxDAAIQgAAEIkYASUcsIVQHAhCAAAQg4BNA0j4JniEAAQhAAAIRI4CkI5YQqgMBCEAAAhDwCSBpnwTPEIAABCAAgYgRQNIRSwjVgQAEIAABCPgEkLRPgmcIQAACEIBAxAgg6YglhOpAAAIQgAAEfAJI2ifBMwQgAAEIQCBiBJB0xBJCdSAAAQhAAAI+ASTtk+AZAhCAAAQgEDEC/x96/NTDERsMxgAAAABJRU5ErkJggg==)"
      ]
    },
    {
      "cell_type": "markdown",
      "metadata": {
        "id": "kqN2T9GVXidf"
      },
      "source": [
        "これは\n",
        "x\n",
        "2\n",
        "を計算し、それを縦軸にプロットしたグラフです。1次元だったデータを \n",
        "ϕ\n",
        "(\n",
        "x\n",
        ")\n",
        "=\n",
        "x\n",
        "2\n",
        " の関数により高次元（2次元）へと移動しました。\n",
        "\n",
        "\n",
        "こういったことをSVMはカーネルトリックにより行います。"
      ]
    },
    {
      "cell_type": "markdown",
      "metadata": {
        "id": "tBritBuyXiXz"
      },
      "source": [
        "# 5.他のカーネル関数の実装\n",
        "\n",
        "## 【問題6】（アドバンス課題）多項式カーネル関数の作成  \n",
        "最初に作成した実装では線形カーネルを使用していました。多項式カーネルにも切り替えられるようにしましょう。\n",
        "\n",
        "\n",
        "「線形カーネルの式」  \n",
        "\n",
        "$$k(x_i, x_j) = x_{i}^{T} x_j$$\n",
        "\n",
        "「多項式カーネルの式」\n",
        "\n",
        "$$k(x_i, x_j) = ({\\gamma}x_{i}^{T} x_j + \\theta_0)^{d}$$\n",
        "\n",
        "γ\n",
        " , \n",
        "θ\n",
        "0\n",
        ", \n",
        "d\n",
        " はハイパーパラメータです。\n",
        "\n",
        "\n",
        "線形カーネルは \n",
        "γ\n",
        "=\n",
        "1\n",
        ", \n",
        "θ\n",
        "0\n",
        "=\n",
        "0\n",
        ", \n",
        "d\n",
        "=\n",
        "1\n",
        "の場合の多項式カーネルと等しいと言えます。\n",
        "\n",
        "目次\n",
        "Sprint 機械学習スクラッチ SVM\n",
        "\n",
        "1.このSprintについて\n",
        "2.SVMスクラッチ\n",
        "3.検証\n",
        "4.SVMとはどのような仕組みか\n",
        "5.他のカーネル関数の実装\n"
      ]
    },
    {
      "cell_type": "code",
      "metadata": {
        "id": "ssDYCbomXiMk"
      },
      "source": [
        ""
      ],
      "execution_count": null,
      "outputs": []
    },
    {
      "cell_type": "code",
      "metadata": {
        "id": "wLXhbGNDXh9_"
      },
      "source": [
        ""
      ],
      "execution_count": null,
      "outputs": []
    },
    {
      "cell_type": "code",
      "metadata": {
        "id": "xWdH6DWfXhrC"
      },
      "source": [
        ""
      ],
      "execution_count": null,
      "outputs": []
    },
    {
      "cell_type": "code",
      "metadata": {
        "id": "uW7R5hT3T5d3"
      },
      "source": [
        ""
      ],
      "execution_count": null,
      "outputs": []
    }
  ]
}