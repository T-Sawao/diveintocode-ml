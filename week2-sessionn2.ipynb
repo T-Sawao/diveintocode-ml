{
 "cells": [
  {
   "cell_type": "markdown",
   "metadata": {},
   "source": [
    "# week2授業前課題2 ダミーデータの作成"
   ]
  },
  {
   "cell_type": "markdown",
   "metadata": {},
   "source": [
    "# 2.ダミーデータの作成"
   ]
  },
  {
   "cell_type": "markdown",
   "metadata": {},
   "source": [
    "機械学習に関するプログラムの実験を行う上で、実データではないランダムなデータ（ダミーデータ）が欲しいということがあります。正規分布に従う乱数によるダミーデータの作成を通じてNumPyの使い方になれていきましょう。\n",
    "\n",
    "散布図で描くと次のようになるデータを作っていきます。"
   ]
  },
  {
   "cell_type": "markdown",
   "metadata": {},
   "source": [
    "## 【問題1】乱数の作成"
   ]
  },
  {
   "cell_type": "markdown",
   "metadata": {},
   "source": [
    "平均が(-3, 0)、共分散行列が以下で表される2次元正規分布による乱数を500個作成してください。"
   ]
  },
  {
   "cell_type": "markdown",
   "metadata": {},
   "source": [
    "## 【課題１】"
   ]
  },
  {
   "cell_type": "code",
   "execution_count": 1,
   "metadata": {},
   "outputs": [
    {
     "name": "stdout",
     "output_type": "stream",
     "text": [
      "問題１の配列数の確認:(500, 2)\n",
      "問題１の先頭から5行の値:\n",
      "[[-3.7395926  -0.47224959]\n",
      " [-1.91596677  1.43982982]\n",
      " [-4.03899515 -1.04865484]\n",
      " [-3.05544181  1.31209564]\n",
      " [-2.84634218 -0.09891134]]\n"
     ]
    }
   ],
   "source": [
    "import numpy as np\n",
    "\n",
    "mean = [-3,0]\n",
    "cov = [[1.0, 0.8],[0.8, 1.0]]\n",
    "sample = np.random.multivariate_normal(mean,cov,500)\n",
    "print(f\"問題１の配列数の確認:{sample.shape}\")\n",
    "np.random.seed(0)\n",
    "print(f\"問題１の先頭から5行の値:\\n{sample[:5,:]}\")"
   ]
  },
  {
   "cell_type": "markdown",
   "metadata": {},
   "source": [
    "## 【問題2】散布図による可視化"
   ]
  },
  {
   "cell_type": "markdown",
   "metadata": {},
   "source": [
    "問題1で作成したデータ点を散布図により可視化してください。\n",
    "\n",
    "散布図はmatplotlibのplt.scatter()を使うことで描けます。\n",
    "\n",
    "matplotlib.pyplot.scatter — Matplotlib 3.1.1 documentation"
   ]
  },
  {
   "cell_type": "markdown",
   "metadata": {},
   "source": [
    "## 【課題２】散布図の可視化"
   ]
  },
  {
   "cell_type": "code",
   "execution_count": 2,
   "metadata": {},
   "outputs": [
    {
     "data": {
      "text/plain": [
       "Text(0, 0.5, 'x2')"
      ]
     },
     "execution_count": 2,
     "metadata": {},
     "output_type": "execute_result"
    },
    {
     "data": {
      "image/png": "[encoded data removed]",
      "text/plain": [
       "<Figure size 432x288 with 1 Axes>"
      ]
     },
     "metadata": {
      "needs_background": "light"
     },
     "output_type": "display_data"
    }
   ],
   "source": [
    "import matplotlib.pyplot as plt\n",
    "\n",
    "plt.scatter(sample[:,0],sample[:,1])\n",
    "plt.title(\"scatter\")\n",
    "plt.xlabel(\"x1\")\n",
    "plt.ylabel(\"x2\")"
   ]
  },
  {
   "cell_type": "markdown",
   "metadata": {},
   "source": [
    "## 【問題3】ヒストグラムによる可視化"
   ]
  },
  {
   "cell_type": "markdown",
   "metadata": {},
   "source": [
    "問題1で作成したデータをヒストグラムにより可視化してください。\n",
    "\n",
    "ヒストグラムはplt.hist()を使うことで描けます。\n",
    "\n",
    "matplotlib.pyplot.hist — Matplotlib 3.1.1 documentation\n",
    "\n",
    "各次元ごとに作成し、2つのヒストグラムとしてください。\n",
    "\n",
    "それぞれのヒストグラムの横軸の範囲はplt.xlim()を用いて揃えるようにしてください。\n",
    "\n",
    "matplotlib.pyplot.xlim — Matplotlib 3.1.1 documentation"
   ]
  },
  {
   "cell_type": "markdown",
   "metadata": {},
   "source": [
    "## 【課題３】ヒストグラムの可視化"
   ]
  },
  {
   "cell_type": "code",
   "execution_count": 3,
   "metadata": {},
   "outputs": [
    {
     "data": {
      "text/plain": [
       "(0.0, 30.0)"
      ]
     },
     "execution_count": 3,
     "metadata": {},
     "output_type": "execute_result"
    },
    {
     "data": {
      "image/png": "[encoded data removed]",
      "text/plain": [
       "<Figure size 432x288 with 1 Axes>"
      ]
     },
     "metadata": {
      "needs_background": "light"
     },
     "output_type": "display_data"
    },
    {
     "data": {
      "image/png": "[encoded data removed]",
      "text/plain": [
       "<Figure size 432x288 with 1 Axes>"
      ]
     },
     "metadata": {
      "needs_background": "light"
     },
     "output_type": "display_data"
    }
   ],
   "source": [
    "plt.figure(figsize=(6, 4))\n",
    "plt.hist(sample[:,0],bins=100)\n",
    "plt.title(\"histogram of x1\")\n",
    "plt.xlabel(\"x1\")\n",
    "plt.ylabel(\"frequency\")\n",
    "plt.xlim(-5, 2)\n",
    "plt.ylim(0, 30)    \n",
    "\n",
    "plt.figure(figsize=(6, 4))\n",
    "plt.hist(sample[:,1],bins=100)\n",
    "plt.title(\"histogram of x2\")\n",
    "plt.xlabel(\"x2\")\n",
    "plt.ylabel(\"frequency\")\n",
    "plt.xlim(-5, 2)\n",
    "plt.ylim(0, 30)    "
   ]
  },
  {
   "cell_type": "markdown",
   "metadata": {},
   "source": [
    "## 【問題4】データの追加 "
   ]
  },
  {
   "cell_type": "markdown",
   "metadata": {},
   "source": [
    "新たに平均が(0, -3)、共分散行列が以下で表される2次元正規分布による乱数を500個作成してください。\n",
    "\n",
    "そして、問題1、4それぞれのデータをひとつの散布図として可視化してください。凡例として問題1のものは0、問題4のものは1を表示してください。"
   ]
  },
  {
   "cell_type": "markdown",
   "metadata": {},
   "source": [
    "## 【課題4-1】データの追加"
   ]
  },
  {
   "cell_type": "code",
   "execution_count": 4,
   "metadata": {},
   "outputs": [
    {
     "name": "stdout",
     "output_type": "stream",
     "text": [
      "問題4の配列数の確認:(500, 2)\n",
      "問題4の先頭から5行の値:\n",
      "[[-1.80006782 -4.54698618]\n",
      " [-1.63714503 -3.21987973]\n",
      " [-1.46267867 -5.08076347]\n",
      " [-0.85346966 -3.94919637]\n",
      " [-0.03192065 -2.77223535]]\n"
     ]
    }
   ],
   "source": [
    "mean2 = [0,-3]\n",
    "\n",
    "sample2 = np.random.multivariate_normal(mean2,cov,500)\n",
    "print(f\"問題4の配列数の確認:{sample2.shape}\")\n",
    "np.random.seed(1)\n",
    "print(f\"問題4の先頭から5行の値:\\n{sample2[:5,:]}\")"
   ]
  },
  {
   "cell_type": "markdown",
   "metadata": {},
   "source": [
    "## 【課題4-2】散布図の可視化"
   ]
  },
  {
   "cell_type": "code",
   "execution_count": 5,
   "metadata": {},
   "outputs": [
    {
     "data": {
      "text/plain": [
       "<matplotlib.legend.Legend at 0x11f5484f0>"
      ]
     },
     "execution_count": 5,
     "metadata": {},
     "output_type": "execute_result"
    },
    {
     "data": {
      "image/png": "[encoded data removed]",
      "text/plain": [
       "<Figure size 432x288 with 1 Axes>"
      ]
     },
     "metadata": {
      "needs_background": "light"
     },
     "output_type": "display_data"
    }
   ],
   "source": [
    "plt.scatter(sample[:,0],sample[:,1], color=\"blue\", label=\"0\")\n",
    "plt.scatter(sample2[:,0],sample2[:,1], color=\"orange\", label=\"1\")\n",
    "\n",
    "plt.title(\"scatter\")\n",
    "plt.xlabel(\"x1\")\n",
    "plt.ylabel(\"x2\")\n",
    "plt.legend()"
   ]
  },
  {
   "cell_type": "markdown",
   "metadata": {},
   "source": [
    "## 【問題5】データの結合"
   ]
  },
  {
   "cell_type": "markdown",
   "metadata": {},
   "source": [
    "データはまとめておいた方が後々扱いやすいです。問題1、4で作成したndarrayを 結合 し、(1000, 2)のndarrayとしてください。結合はnp.concatenate()やnp.vstack()を使うことで行えます。\n",
    "\n",
    "numpy.concatenate — NumPy v1.16 Manual\n",
    "\n",
    "numpy.vsplit — NumPy v1.16 Manual"
   ]
  },
  {
   "cell_type": "markdown",
   "metadata": {},
   "source": [
    "## 【課題5】データの結合"
   ]
  },
  {
   "cell_type": "code",
   "execution_count": 6,
   "metadata": {},
   "outputs": [
    {
     "name": "stdout",
     "output_type": "stream",
     "text": [
      "concatenate()での結合、配列数:(1000, 2)\n",
      "vstack()での結合、配列数:(1000, 2)\n"
     ]
    }
   ],
   "source": [
    "sample3 = np.concatenate([sample, sample2])\n",
    "print(f\"concatenate()での結合、配列数:{sample3.shape}\")\n",
    "\n",
    "sample4 = np.vstack([sample, sample2])\n",
    "print(f\"vstack()での結合、配列数:{sample4.shape}\")"
   ]
  },
  {
   "cell_type": "markdown",
   "metadata": {},
   "source": [
    "## 【問題6】ラベル付け"
   ]
  },
  {
   "cell_type": "markdown",
   "metadata": {},
   "source": [
    "ひとまとめになった1000個のデータそれぞれに対して、問題1、4どちらで作成したものなのかを示す**ラベル**付けを行ってください。問題1のものには0、問題4のものには1を対応させます。\n",
    "\n",
    "0と1を含むラベルの列を新たに追加し、(1000, 3)のndarrayを作成してください。"
   ]
  },
  {
   "cell_type": "code",
   "execution_count": 7,
   "metadata": {},
   "outputs": [
    {
     "name": "stdout",
     "output_type": "stream",
     "text": [
      "問題１の配列数の確認:(500, 3)\n",
      "問題１の先頭から5行の値:\n",
      "[[-3.7395926  -0.47224959  0.        ]\n",
      " [-1.91596677  1.43982982  0.        ]\n",
      " [-4.03899515 -1.04865484  0.        ]\n",
      " [-3.05544181  1.31209564  0.        ]\n",
      " [-2.84634218 -0.09891134  0.        ]]\n",
      "\n",
      "問題4の配列数の確認:(500, 3)\n",
      "問題4の先頭から5行の値:\n",
      "[[-1.80006782 -4.54698618  1.        ]\n",
      " [-1.63714503 -3.21987973  1.        ]\n",
      " [-1.46267867 -5.08076347  1.        ]\n",
      " [-0.85346966 -3.94919637  1.        ]\n",
      " [-0.03192065 -2.77223535  1.        ]]\n"
     ]
    }
   ],
   "source": [
    "#問題１のデータ修正\n",
    "sample1_r = np.insert(sample, 2, 0, axis=1)\n",
    "print(f\"問題１の配列数の確認:{sample1_r.shape}\")\n",
    "print(f\"問題１の先頭から5行の値:\\n{sample1_r[:5,:]}\")\n",
    "print()\n",
    "\n",
    "#問題４のデータの修正\n",
    "sample2_r = np.insert(sample2, 2, 1, axis=1)\n",
    "print(f\"問題4の配列数の確認:{sample2_r.shape}\")\n",
    "print(f\"問題4の先頭から5行の値:\\n{sample2_r[:5,:]}\")"
   ]
  }
 ],
 "metadata": {
  "kernelspec": {
   "display_name": "Python 3",
   "language": "python",
   "name": "python3"
  },
  "language_info": {
   "codemirror_mode": {
    "name": "ipython",
    "version": 3
   },
   "file_extension": ".py",
   "mimetype": "text/x-python",
   "name": "python",
   "nbconvert_exporter": "python",
   "pygments_lexer": "ipython3",
   "version": "3.8.3"
  }
 },
 "nbformat": 4,
 "nbformat_minor": 4
}
