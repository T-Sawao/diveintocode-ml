{
  "nbformat": 4,
  "nbformat_minor": 0,
  "metadata": {
    "colab": {
      "name": "tram2_Sprint19.ipynb",
      "provenance": [],
      "collapsed_sections": [
        "_6NXOQm-g_a_"
      ],
      "include_colab_link": true
    },
    "kernelspec": {
      "name": "python3",
      "display_name": "Python 3"
    },
    "accelerator": "GPU"
  },
  "cells": [
    {
      "cell_type": "markdown",
      "metadata": {
        "id": "view-in-github",
        "colab_type": "text"
      },
      "source": [
        "<a href=\"https://colab.research.google.com/github/T-Sawao/diveintocode-ml3/blob/main/tram2_Sprint19.ipynb\" target=\"_parent\"><img src=\"https://colab.research.google.com/assets/colab-badge.svg\" alt=\"Open In Colab\"/></a>"
      ]
    },
    {
      "cell_type": "markdown",
      "metadata": {
        "id": "_o--oKcJlxD7"
      },
      "source": [
        "# tram2_Sprint19 セグメンテーション１"
      ]
    },
    {
      "cell_type": "markdown",
      "metadata": {
        "id": "cj9sbfRD9zqP"
      },
      "source": [
        "### 0.1.1 （準備）　**Tensorflow2.2.0のインポート**"
      ]
    },
    {
      "cell_type": "markdown",
      "metadata": {
        "id": "_UAqGiE7k1CT"
      },
      "source": [
        "python 3.7.x\n",
        "keras 2.2.x\n",
        "tensorflow 1系：1.14.x、2系：2.0\n",
        "pytorch 1.2.x"
      ]
    },
    {
      "cell_type": "code",
      "metadata": {
        "id": "WgL1kI9VhyBU",
        "colab": {
          "base_uri": "https://localhost:8080/"
        },
        "outputId": "b5770576-7138-452f-c1dc-b13fd86c669a"
      },
      "source": [
        "!pip install keras==2.2.4"
      ],
      "execution_count": 1,
      "outputs": [
        {
          "output_type": "stream",
          "text": [
            "Collecting keras==2.2.4\n",
            "\u001b[?25l  Downloading https://files.pythonhosted.org/packages/5e/10/aa32dad071ce52b5502266b5c659451cfd6ffcbf14e6c8c4f16c0ff5aaab/Keras-2.2.4-py2.py3-none-any.whl (312kB)\n",
            "\r\u001b[K     |█                               | 10kB 24.2MB/s eta 0:00:01\r\u001b[K     |██                              | 20kB 16.3MB/s eta 0:00:01\r\u001b[K     |███▏                            | 30kB 15.3MB/s eta 0:00:01\r\u001b[K     |████▏                           | 40kB 14.8MB/s eta 0:00:01\r\u001b[K     |█████▎                          | 51kB 12.2MB/s eta 0:00:01\r\u001b[K     |██████▎                         | 61kB 12.2MB/s eta 0:00:01\r\u001b[K     |███████▍                        | 71kB 12.0MB/s eta 0:00:01\r\u001b[K     |████████▍                       | 81kB 13.2MB/s eta 0:00:01\r\u001b[K     |█████████▍                      | 92kB 12.3MB/s eta 0:00:01\r\u001b[K     |██████████▌                     | 102kB 13.4MB/s eta 0:00:01\r\u001b[K     |███████████▌                    | 112kB 13.4MB/s eta 0:00:01\r\u001b[K     |████████████▋                   | 122kB 13.4MB/s eta 0:00:01\r\u001b[K     |█████████████▋                  | 133kB 13.4MB/s eta 0:00:01\r\u001b[K     |██████████████▊                 | 143kB 13.4MB/s eta 0:00:01\r\u001b[K     |███████████████▊                | 153kB 13.4MB/s eta 0:00:01\r\u001b[K     |████████████████▊               | 163kB 13.4MB/s eta 0:00:01\r\u001b[K     |█████████████████▉              | 174kB 13.4MB/s eta 0:00:01\r\u001b[K     |██████████████████▉             | 184kB 13.4MB/s eta 0:00:01\r\u001b[K     |████████████████████            | 194kB 13.4MB/s eta 0:00:01\r\u001b[K     |█████████████████████           | 204kB 13.4MB/s eta 0:00:01\r\u001b[K     |██████████████████████          | 215kB 13.4MB/s eta 0:00:01\r\u001b[K     |███████████████████████         | 225kB 13.4MB/s eta 0:00:01\r\u001b[K     |████████████████████████▏       | 235kB 13.4MB/s eta 0:00:01\r\u001b[K     |█████████████████████████▏      | 245kB 13.4MB/s eta 0:00:01\r\u001b[K     |██████████████████████████▏     | 256kB 13.4MB/s eta 0:00:01\r\u001b[K     |███████████████████████████▎    | 266kB 13.4MB/s eta 0:00:01\r\u001b[K     |████████████████████████████▎   | 276kB 13.4MB/s eta 0:00:01\r\u001b[K     |█████████████████████████████▍  | 286kB 13.4MB/s eta 0:00:01\r\u001b[K     |██████████████████████████████▍ | 296kB 13.4MB/s eta 0:00:01\r\u001b[K     |███████████████████████████████▌| 307kB 13.4MB/s eta 0:00:01\r\u001b[K     |████████████████████████████████| 317kB 13.4MB/s \n",
            "\u001b[?25hRequirement already satisfied: numpy>=1.9.1 in /usr/local/lib/python3.6/dist-packages (from keras==2.2.4) (1.19.4)\n",
            "Requirement already satisfied: keras-preprocessing>=1.0.5 in /usr/local/lib/python3.6/dist-packages (from keras==2.2.4) (1.1.2)\n",
            "Requirement already satisfied: scipy>=0.14 in /usr/local/lib/python3.6/dist-packages (from keras==2.2.4) (1.4.1)\n",
            "Requirement already satisfied: h5py in /usr/local/lib/python3.6/dist-packages (from keras==2.2.4) (2.10.0)\n",
            "Requirement already satisfied: six>=1.9.0 in /usr/local/lib/python3.6/dist-packages (from keras==2.2.4) (1.15.0)\n",
            "Collecting keras-applications>=1.0.6\n",
            "\u001b[?25l  Downloading https://files.pythonhosted.org/packages/71/e3/19762fdfc62877ae9102edf6342d71b28fbfd9dea3d2f96a882ce099b03f/Keras_Applications-1.0.8-py3-none-any.whl (50kB)\n",
            "\u001b[K     |████████████████████████████████| 51kB 9.7MB/s \n",
            "\u001b[?25hRequirement already satisfied: pyyaml in /usr/local/lib/python3.6/dist-packages (from keras==2.2.4) (3.13)\n",
            "Installing collected packages: keras-applications, keras\n",
            "  Found existing installation: Keras 2.4.3\n",
            "    Uninstalling Keras-2.4.3:\n",
            "      Successfully uninstalled Keras-2.4.3\n",
            "Successfully installed keras-2.2.4 keras-applications-1.0.8\n"
          ],
          "name": "stdout"
        }
      ]
    },
    {
      "cell_type": "code",
      "metadata": {
        "id": "zYwQjWfFKpPC",
        "colab": {
          "base_uri": "https://localhost:8080/"
        },
        "outputId": "ee85ff95-b0c5-4b75-c1d6-510b2b031ed5"
      },
      "source": [
        "!pip install tensorflow==1.14.0"
      ],
      "execution_count": 2,
      "outputs": [
        {
          "output_type": "stream",
          "text": [
            "Collecting tensorflow==1.14.0\n",
            "\u001b[?25l  Downloading https://files.pythonhosted.org/packages/de/f0/96fb2e0412ae9692dbf400e5b04432885f677ad6241c088ccc5fe7724d69/tensorflow-1.14.0-cp36-cp36m-manylinux1_x86_64.whl (109.2MB)\n",
            "\u001b[K     |████████████████████████████████| 109.2MB 95kB/s \n",
            "\u001b[?25hRequirement already satisfied: absl-py>=0.7.0 in /usr/local/lib/python3.6/dist-packages (from tensorflow==1.14.0) (0.10.0)\n",
            "Requirement already satisfied: grpcio>=1.8.6 in /usr/local/lib/python3.6/dist-packages (from tensorflow==1.14.0) (1.32.0)\n",
            "Requirement already satisfied: protobuf>=3.6.1 in /usr/local/lib/python3.6/dist-packages (from tensorflow==1.14.0) (3.12.4)\n",
            "Requirement already satisfied: six>=1.10.0 in /usr/local/lib/python3.6/dist-packages (from tensorflow==1.14.0) (1.15.0)\n",
            "Requirement already satisfied: numpy<2.0,>=1.14.5 in /usr/local/lib/python3.6/dist-packages (from tensorflow==1.14.0) (1.19.4)\n",
            "Requirement already satisfied: astor>=0.6.0 in /usr/local/lib/python3.6/dist-packages (from tensorflow==1.14.0) (0.8.1)\n",
            "Collecting tensorboard<1.15.0,>=1.14.0\n",
            "\u001b[?25l  Downloading https://files.pythonhosted.org/packages/91/2d/2ed263449a078cd9c8a9ba50ebd50123adf1f8cfbea1492f9084169b89d9/tensorboard-1.14.0-py3-none-any.whl (3.1MB)\n",
            "\u001b[K     |████████████████████████████████| 3.2MB 50.8MB/s \n",
            "\u001b[?25hCollecting tensorflow-estimator<1.15.0rc0,>=1.14.0rc0\n",
            "\u001b[?25l  Downloading https://files.pythonhosted.org/packages/3c/d5/21860a5b11caf0678fbc8319341b0ae21a07156911132e0e71bffed0510d/tensorflow_estimator-1.14.0-py2.py3-none-any.whl (488kB)\n",
            "\u001b[K     |████████████████████████████████| 491kB 54.8MB/s \n",
            "\u001b[?25hRequirement already satisfied: keras-applications>=1.0.6 in /usr/local/lib/python3.6/dist-packages (from tensorflow==1.14.0) (1.0.8)\n",
            "Requirement already satisfied: keras-preprocessing>=1.0.5 in /usr/local/lib/python3.6/dist-packages (from tensorflow==1.14.0) (1.1.2)\n",
            "Requirement already satisfied: termcolor>=1.1.0 in /usr/local/lib/python3.6/dist-packages (from tensorflow==1.14.0) (1.1.0)\n",
            "Requirement already satisfied: wheel>=0.26 in /usr/local/lib/python3.6/dist-packages (from tensorflow==1.14.0) (0.36.2)\n",
            "Requirement already satisfied: wrapt>=1.11.1 in /usr/local/lib/python3.6/dist-packages (from tensorflow==1.14.0) (1.12.1)\n",
            "Requirement already satisfied: google-pasta>=0.1.6 in /usr/local/lib/python3.6/dist-packages (from tensorflow==1.14.0) (0.2.0)\n",
            "Requirement already satisfied: gast>=0.2.0 in /usr/local/lib/python3.6/dist-packages (from tensorflow==1.14.0) (0.3.3)\n",
            "Requirement already satisfied: setuptools in /usr/local/lib/python3.6/dist-packages (from protobuf>=3.6.1->tensorflow==1.14.0) (51.0.0)\n",
            "Requirement already satisfied: markdown>=2.6.8 in /usr/local/lib/python3.6/dist-packages (from tensorboard<1.15.0,>=1.14.0->tensorflow==1.14.0) (3.3.3)\n",
            "Requirement already satisfied: werkzeug>=0.11.15 in /usr/local/lib/python3.6/dist-packages (from tensorboard<1.15.0,>=1.14.0->tensorflow==1.14.0) (1.0.1)\n",
            "Requirement already satisfied: h5py in /usr/local/lib/python3.6/dist-packages (from keras-applications>=1.0.6->tensorflow==1.14.0) (2.10.0)\n",
            "Requirement already satisfied: importlib-metadata; python_version < \"3.8\" in /usr/local/lib/python3.6/dist-packages (from markdown>=2.6.8->tensorboard<1.15.0,>=1.14.0->tensorflow==1.14.0) (3.3.0)\n",
            "Requirement already satisfied: typing-extensions>=3.6.4; python_version < \"3.8\" in /usr/local/lib/python3.6/dist-packages (from importlib-metadata; python_version < \"3.8\"->markdown>=2.6.8->tensorboard<1.15.0,>=1.14.0->tensorflow==1.14.0) (3.7.4.3)\n",
            "Requirement already satisfied: zipp>=0.5 in /usr/local/lib/python3.6/dist-packages (from importlib-metadata; python_version < \"3.8\"->markdown>=2.6.8->tensorboard<1.15.0,>=1.14.0->tensorflow==1.14.0) (3.4.0)\n",
            "Installing collected packages: tensorboard, tensorflow-estimator, tensorflow\n",
            "  Found existing installation: tensorboard 2.4.0\n",
            "    Uninstalling tensorboard-2.4.0:\n",
            "      Successfully uninstalled tensorboard-2.4.0\n",
            "  Found existing installation: tensorflow-estimator 2.4.0\n",
            "    Uninstalling tensorflow-estimator-2.4.0:\n",
            "      Successfully uninstalled tensorflow-estimator-2.4.0\n",
            "  Found existing installation: tensorflow 2.4.0\n",
            "    Uninstalling tensorflow-2.4.0:\n",
            "      Successfully uninstalled tensorflow-2.4.0\n",
            "Successfully installed tensorboard-1.14.0 tensorflow-1.14.0 tensorflow-estimator-1.14.0\n"
          ],
          "name": "stdout"
        }
      ]
    },
    {
      "cell_type": "code",
      "metadata": {
        "id": "dIVBP5Er-79B",
        "colab": {
          "base_uri": "https://localhost:8080/"
        },
        "outputId": "6dacd5f7-6cc2-4fc9-80f7-4e42c7b9b434"
      },
      "source": [
        "import tensorflow"
      ],
      "execution_count": 3,
      "outputs": [
        {
          "output_type": "stream",
          "text": [
            "/usr/local/lib/python3.6/dist-packages/tensorflow/python/framework/dtypes.py:516: FutureWarning: Passing (type, 1) or '1type' as a synonym of type is deprecated; in a future version of numpy, it will be understood as (type, (1,)) / '(1,)type'.\n",
            "  _np_qint8 = np.dtype([(\"qint8\", np.int8, 1)])\n",
            "/usr/local/lib/python3.6/dist-packages/tensorflow/python/framework/dtypes.py:517: FutureWarning: Passing (type, 1) or '1type' as a synonym of type is deprecated; in a future version of numpy, it will be understood as (type, (1,)) / '(1,)type'.\n",
            "  _np_quint8 = np.dtype([(\"quint8\", np.uint8, 1)])\n",
            "/usr/local/lib/python3.6/dist-packages/tensorflow/python/framework/dtypes.py:518: FutureWarning: Passing (type, 1) or '1type' as a synonym of type is deprecated; in a future version of numpy, it will be understood as (type, (1,)) / '(1,)type'.\n",
            "  _np_qint16 = np.dtype([(\"qint16\", np.int16, 1)])\n",
            "/usr/local/lib/python3.6/dist-packages/tensorflow/python/framework/dtypes.py:519: FutureWarning: Passing (type, 1) or '1type' as a synonym of type is deprecated; in a future version of numpy, it will be understood as (type, (1,)) / '(1,)type'.\n",
            "  _np_quint16 = np.dtype([(\"quint16\", np.uint16, 1)])\n",
            "/usr/local/lib/python3.6/dist-packages/tensorflow/python/framework/dtypes.py:520: FutureWarning: Passing (type, 1) or '1type' as a synonym of type is deprecated; in a future version of numpy, it will be understood as (type, (1,)) / '(1,)type'.\n",
            "  _np_qint32 = np.dtype([(\"qint32\", np.int32, 1)])\n",
            "/usr/local/lib/python3.6/dist-packages/tensorflow/python/framework/dtypes.py:525: FutureWarning: Passing (type, 1) or '1type' as a synonym of type is deprecated; in a future version of numpy, it will be understood as (type, (1,)) / '(1,)type'.\n",
            "  np_resource = np.dtype([(\"resource\", np.ubyte, 1)])\n",
            "/usr/local/lib/python3.6/dist-packages/tensorboard/compat/tensorflow_stub/dtypes.py:541: FutureWarning: Passing (type, 1) or '1type' as a synonym of type is deprecated; in a future version of numpy, it will be understood as (type, (1,)) / '(1,)type'.\n",
            "  _np_qint8 = np.dtype([(\"qint8\", np.int8, 1)])\n",
            "/usr/local/lib/python3.6/dist-packages/tensorboard/compat/tensorflow_stub/dtypes.py:542: FutureWarning: Passing (type, 1) or '1type' as a synonym of type is deprecated; in a future version of numpy, it will be understood as (type, (1,)) / '(1,)type'.\n",
            "  _np_quint8 = np.dtype([(\"quint8\", np.uint8, 1)])\n",
            "/usr/local/lib/python3.6/dist-packages/tensorboard/compat/tensorflow_stub/dtypes.py:543: FutureWarning: Passing (type, 1) or '1type' as a synonym of type is deprecated; in a future version of numpy, it will be understood as (type, (1,)) / '(1,)type'.\n",
            "  _np_qint16 = np.dtype([(\"qint16\", np.int16, 1)])\n",
            "/usr/local/lib/python3.6/dist-packages/tensorboard/compat/tensorflow_stub/dtypes.py:544: FutureWarning: Passing (type, 1) or '1type' as a synonym of type is deprecated; in a future version of numpy, it will be understood as (type, (1,)) / '(1,)type'.\n",
            "  _np_quint16 = np.dtype([(\"quint16\", np.uint16, 1)])\n",
            "/usr/local/lib/python3.6/dist-packages/tensorboard/compat/tensorflow_stub/dtypes.py:545: FutureWarning: Passing (type, 1) or '1type' as a synonym of type is deprecated; in a future version of numpy, it will be understood as (type, (1,)) / '(1,)type'.\n",
            "  _np_qint32 = np.dtype([(\"qint32\", np.int32, 1)])\n",
            "/usr/local/lib/python3.6/dist-packages/tensorboard/compat/tensorflow_stub/dtypes.py:550: FutureWarning: Passing (type, 1) or '1type' as a synonym of type is deprecated; in a future version of numpy, it will be understood as (type, (1,)) / '(1,)type'.\n",
            "  np_resource = np.dtype([(\"resource\", np.ubyte, 1)])\n"
          ],
          "name": "stderr"
        }
      ]
    },
    {
      "cell_type": "code",
      "metadata": {
        "id": "I90azxcP-_nX",
        "colab": {
          "base_uri": "https://localhost:8080/",
          "height": 35
        },
        "outputId": "9d350829-7cd3-44c6-de7a-122faf755862"
      },
      "source": [
        "tensorflow.__version__"
      ],
      "execution_count": 4,
      "outputs": [
        {
          "output_type": "execute_result",
          "data": {
            "application/vnd.google.colaboratory.intrinsic+json": {
              "type": "string"
            },
            "text/plain": [
              "'1.14.0'"
            ]
          },
          "metadata": {
            "tags": []
          },
          "execution_count": 4
        }
      ]
    },
    {
      "cell_type": "markdown",
      "metadata": {
        "id": "nUKG-6ik-DWQ"
      },
      "source": [
        "### 0.1.2 （準備）　**kaggleとMyドライブの接続と、データセットのダウンロード**"
      ]
    },
    {
      "cell_type": "code",
      "metadata": {
        "id": "5Zo958VcYK7D",
        "colab": {
          "base_uri": "https://localhost:8080/"
        },
        "outputId": "c4ed5d24-22a2-4907-ec76-e5a22f97806d"
      },
      "source": [
        "# kaggleインポート\n",
        "!pip install kaggle"
      ],
      "execution_count": 5,
      "outputs": [
        {
          "output_type": "stream",
          "text": [
            "Requirement already satisfied: kaggle in /usr/local/lib/python3.6/dist-packages (1.5.10)\n",
            "Requirement already satisfied: requests in /usr/local/lib/python3.6/dist-packages (from kaggle) (2.23.0)\n",
            "Requirement already satisfied: python-slugify in /usr/local/lib/python3.6/dist-packages (from kaggle) (4.0.1)\n",
            "Requirement already satisfied: urllib3 in /usr/local/lib/python3.6/dist-packages (from kaggle) (1.24.3)\n",
            "Requirement already satisfied: six>=1.10 in /usr/local/lib/python3.6/dist-packages (from kaggle) (1.15.0)\n",
            "Requirement already satisfied: python-dateutil in /usr/local/lib/python3.6/dist-packages (from kaggle) (2.8.1)\n",
            "Requirement already satisfied: tqdm in /usr/local/lib/python3.6/dist-packages (from kaggle) (4.41.1)\n",
            "Requirement already satisfied: certifi in /usr/local/lib/python3.6/dist-packages (from kaggle) (2020.12.5)\n",
            "Requirement already satisfied: chardet<4,>=3.0.2 in /usr/local/lib/python3.6/dist-packages (from requests->kaggle) (3.0.4)\n",
            "Requirement already satisfied: idna<3,>=2.5 in /usr/local/lib/python3.6/dist-packages (from requests->kaggle) (2.10)\n",
            "Requirement already satisfied: text-unidecode>=1.3 in /usr/local/lib/python3.6/dist-packages (from python-slugify->kaggle) (1.3)\n"
          ],
          "name": "stdout"
        }
      ]
    },
    {
      "cell_type": "code",
      "metadata": {
        "id": "NmusYUjgX5Rf",
        "colab": {
          "base_uri": "https://localhost:8080/"
        },
        "outputId": "3cc6a5c0-1ff2-4044-b650-1fcd0eb71011"
      },
      "source": [
        "# 自分のマイドライブにマウントする\n",
        "from google.colab import drive\n",
        "drive.mount('/content/drive/')"
      ],
      "execution_count": 6,
      "outputs": [
        {
          "output_type": "stream",
          "text": [
            "Mounted at /content/drive/\n"
          ],
          "name": "stdout"
        }
      ]
    },
    {
      "cell_type": "code",
      "metadata": {
        "id": "Lz94s0BqX50p"
      },
      "source": [
        "mkdir .kaggle"
      ],
      "execution_count": 7,
      "outputs": []
    },
    {
      "cell_type": "code",
      "metadata": {
        "id": "qDPk-Nfi-TEu",
        "colab": {
          "base_uri": "https://localhost:8080/"
        },
        "outputId": "cfa5b447-ec2b-4049-a80e-bfbd38cfeee3"
      },
      "source": [
        "ls -a"
      ],
      "execution_count": 8,
      "outputs": [
        {
          "output_type": "stream",
          "text": [
            "\u001b[0m\u001b[01;34m.\u001b[0m/  \u001b[01;34m..\u001b[0m/  \u001b[01;34m.config\u001b[0m/  \u001b[01;34mdrive\u001b[0m/  \u001b[01;34m.kaggle\u001b[0m/  \u001b[01;34msample_data\u001b[0m/\n"
          ],
          "name": "stdout"
        }
      ]
    },
    {
      "cell_type": "code",
      "metadata": {
        "id": "c0YHd6LcbSJn",
        "colab": {
          "base_uri": "https://localhost:8080/"
        },
        "outputId": "a7894672-383c-45cc-8173-e78b3438dd73"
      },
      "source": [
        "# chmodはファイル or ディレクトリに対する権限を設定するコマンド。\n",
        "# 形式：chmod 権限設定　ファイルパス\n",
        "!chmod 600 /content/.kaggle/kaggle.json\n",
        "      #--------\n",
        "      # kaggleの権限設定は、kaggleの\"My Account\" 内のAPIにあるRead the docsから移動した、\n",
        "      # kaggle-api内のAPI credentialsに「chmod 600 ~/.kaggle/kaggle.json」と記載あり。"
      ],
      "execution_count": 9,
      "outputs": [
        {
          "output_type": "stream",
          "text": [
            "chmod: cannot access '/content/.kaggle/kaggle.json': No such file or directory\n"
          ],
          "name": "stdout"
        }
      ]
    },
    {
      "cell_type": "markdown",
      "metadata": {
        "id": "EY4eOuB1_vjO"
      },
      "source": [
        "kaggle.jsonファイルのダウンロード  \n",
        "※JSON (JavaScript Object Notation)は、軽量のデータ交換フォーマット"
      ]
    },
    {
      "cell_type": "code",
      "metadata": {
        "id": "UbrlwyoYayv7"
      },
      "source": [
        "# https://www.kaggle.com/　へアクセスし、ログイン後に右上のプロフィール画像をクリック、さらに\"My Account\"をクリックする\n",
        "# このサイトの「API」項目にある\"Create New API Token\"をクリックすると、kaggle.jsonファイルが自動的にダウンロードされる\n",
        "# ローカルで、kaggle.json（ダウンロードフォルダにあるはず）をエディターで開く。\n",
        "# このセルの以下のコードにある token = {'username':'***','key':'***'} における「***」部分を、\n",
        "# ダウンロードしたkaggle.jsonを参照して書き換え、このセルを実行する\n",
        "\n",
        "import json\n",
        "\n",
        "token = {\"username\":\"toshihirosawao\",\"key\":\"f57d7a0bbe0ad850c3f9e03332f544f2\"}\n",
        "with open('/content/.kaggle/kaggle.json', 'w') as file:\n",
        "    json.dump(token, file)"
      ],
      "execution_count": 10,
      "outputs": []
    },
    {
      "cell_type": "code",
      "metadata": {
        "id": "UYHvHU68PFsL",
        "colab": {
          "base_uri": "https://localhost:8080/"
        },
        "outputId": "ded181e6-40d4-45de-9fa8-6ec97ed3c6ec"
      },
      "source": [
        "ls -a .kaggle"
      ],
      "execution_count": 11,
      "outputs": [
        {
          "output_type": "stream",
          "text": [
            "\u001b[0m\u001b[01;34m.\u001b[0m/  \u001b[01;34m..\u001b[0m/  kaggle.json\n"
          ],
          "name": "stdout"
        }
      ]
    },
    {
      "cell_type": "code",
      "metadata": {
        "id": "67WCst_X0Qjt"
      },
      "source": [
        "mkdir　/root/.kaggle/"
      ],
      "execution_count": 12,
      "outputs": []
    },
    {
      "cell_type": "code",
      "metadata": {
        "id": "2E9gx_jSa9tJ"
      },
      "source": [
        "# kaggle.jsonフォルダをroot/.kaggle内にコピー\n",
        "!cp -R /content/.kaggle/kaggle.json /root/.kaggle/"
      ],
      "execution_count": 13,
      "outputs": []
    },
    {
      "cell_type": "code",
      "metadata": {
        "id": "-QKa7HD1bUcC",
        "colab": {
          "base_uri": "https://localhost:8080/"
        },
        "outputId": "dd2c6d1e-6185-4254-999f-38891a0d9ce6"
      },
      "source": [
        "!ls -a /root/.kaggle/"
      ],
      "execution_count": 14,
      "outputs": [
        {
          "output_type": "stream",
          "text": [
            ".  ..  kaggle.json\n"
          ],
          "name": "stdout"
        }
      ]
    },
    {
      "cell_type": "code",
      "metadata": {
        "id": "ADlTo5WyxveO",
        "colab": {
          "base_uri": "https://localhost:8080/"
        },
        "outputId": "35a14ec7-15dd-40bd-f83a-a46c2e92289d"
      },
      "source": [
        "# kaggle APIコマンドが使えるかどうかを確認\n",
        "!kaggle competitions list"
      ],
      "execution_count": 15,
      "outputs": [
        {
          "output_type": "stream",
          "text": [
            "Warning: Your Kaggle API key is readable by other users on this system! To fix this, you can run 'chmod 600 /root/.kaggle/kaggle.json'\n",
            "Warning: Looks like you're using an outdated API Version, please consider updating (server 1.5.10 / client 1.5.4)\n",
            "ref                                            deadline             category            reward  teamCount  userHasEntered  \n",
            "---------------------------------------------  -------------------  ---------------  ---------  ---------  --------------  \n",
            "contradictory-my-dear-watson                   2030-07-01 23:59:00  Getting Started     Prizes         88           False  \n",
            "gan-getting-started                            2030-07-01 23:59:00  Getting Started     Prizes        186           False  \n",
            "tpu-getting-started                            2030-06-03 23:59:00  Getting Started  Knowledge        316           False  \n",
            "digit-recognizer                               2030-01-01 00:00:00  Getting Started  Knowledge       2355           False  \n",
            "titanic                                        2030-01-01 00:00:00  Getting Started  Knowledge      18081           False  \n",
            "house-prices-advanced-regression-techniques    2030-01-01 00:00:00  Getting Started  Knowledge       4896            True  \n",
            "connectx                                       2030-01-01 00:00:00  Getting Started  Knowledge        428           False  \n",
            "nlp-getting-started                            2030-01-01 00:00:00  Getting Started  Knowledge       1253           False  \n",
            "competitive-data-science-predict-future-sales  2022-12-31 23:59:00  Playground           Kudos      10015            True  \n",
            "vinbigdata-chest-xray-abnormalities-detection  2021-03-30 23:59:00  Featured           $50,000         86           False  \n",
            "hubmap-kidney-segmentation                     2021-03-25 23:59:00  Research           $60,000        760           False  \n",
            "ranzcr-clip-catheter-line-classification       2021-03-15 23:59:00  Featured           $50,000        371           False  \n",
            "jane-street-market-prediction                  2021-02-22 23:59:00  Featured          $100,000       1868           False  \n",
            "cassava-leaf-disease-classification            2021-02-18 23:59:00  Research           $18,000       2149           False  \n",
            "rfcx-species-audio-detection                   2021-02-17 23:59:00  Research           $15,000        667           False  \n",
            "acea-water-prediction                          2021-02-17 23:59:00  Analytics          $25,000          0           False  \n",
            "rock-paper-scissors                            2021-02-01 23:59:00  Playground          Prizes       1339           False  \n",
            "santa-2020                                     2021-02-01 23:59:00  Featured            Prizes        608           False  \n",
            "tabular-playground-series-jan-2021             2021-01-31 23:59:00  Playground            Swag         84           False  \n",
            "riiid-test-answer-prediction                   2021-01-07 23:59:00  Featured          $100,000       3260           False  \n"
          ],
          "name": "stdout"
        }
      ]
    },
    {
      "cell_type": "code",
      "metadata": {
        "id": "ot7Tqrikc0-W",
        "colab": {
          "base_uri": "https://localhost:8080/"
        },
        "outputId": "3b27fdbd-60cd-43a0-d082-3f1708276b87"
      },
      "source": [
        "# カレントディレクトリの変更\n",
        "\n",
        "import os\n",
        "\n",
        "os.chdir('/content/drive/My Drive/')\n",
        "\n",
        "# カレントディレクトリの取得\n",
        "print(os.getcwd())"
      ],
      "execution_count": 16,
      "outputs": [
        {
          "output_type": "stream",
          "text": [
            "/content/drive/My Drive\n"
          ],
          "name": "stdout"
        }
      ]
    },
    {
      "cell_type": "code",
      "metadata": {
        "id": "Erk54BOPbZdd",
        "colab": {
          "base_uri": "https://localhost:8080/"
        },
        "outputId": "61070d2f-c683-49ef-edbf-77aae23c427a"
      },
      "source": [
        "# simpsonデータセットのAPIコマンドでデータセットをダウンロードする\n",
        "# APIコマンドはこちらのサイトを参照。https://www.kaggle.com/alexattia/the-simpsons-characters-dataset\n",
        "\n",
        "!kaggle competitions download -c tgs-salt-identification-challenge"
      ],
      "execution_count": 17,
      "outputs": [
        {
          "output_type": "stream",
          "text": [
            "Warning: Your Kaggle API key is readable by other users on this system! To fix this, you can run 'chmod 600 /root/.kaggle/kaggle.json'\n",
            "Warning: Looks like you're using an outdated API Version, please consider updating (server 1.5.10 / client 1.5.4)\n",
            "train.zip: Skipping, found more recently modified local copy (use --force to force download)\n",
            "competition_data.zip: Skipping, found more recently modified local copy (use --force to force download)\n",
            "flamingo.zip: Skipping, found more recently modified local copy (use --force to force download)\n",
            "depths.csv: Skipping, found more recently modified local copy (use --force to force download)\n",
            "sample_submission.csv: Skipping, found more recently modified local copy (use --force to force download)\n",
            "train.csv: Skipping, found more recently modified local copy (use --force to force download)\n",
            "test.zip: Skipping, found more recently modified local copy (use --force to force download)\n"
          ],
          "name": "stdout"
        }
      ]
    },
    {
      "cell_type": "code",
      "metadata": {
        "id": "aT_EoanXb1C2"
      },
      "source": [
        "# Simpsonsデータセットのダウンロード \n",
        "!unzip /content/drive/MyDrive/competition_data.zip"
      ],
      "execution_count": null,
      "outputs": []
    },
    {
      "cell_type": "markdown",
      "metadata": {
        "id": "nOx1e2yiF4UJ"
      },
      "source": [
        "### 0.1.3 （準備）　**github上のコードをダウンロード**"
      ]
    },
    {
      "cell_type": "code",
      "metadata": {
        "id": "wYbGZqzJ0tXk",
        "colab": {
          "base_uri": "https://localhost:8080/"
        },
        "outputId": "8f49b60e-0484-491c-a166-af6c1a027675"
      },
      "source": [
        "from google.colab import drive\n",
        "drive.mount('/content/drive')"
      ],
      "execution_count": 19,
      "outputs": [
        {
          "output_type": "stream",
          "text": [
            "Drive already mounted at /content/drive; to attempt to forcibly remount, call drive.mount(\"/content/drive\", force_remount=True).\n"
          ],
          "name": "stdout"
        }
      ]
    },
    {
      "cell_type": "code",
      "metadata": {
        "id": "N7rYrfC9d1wr",
        "colab": {
          "base_uri": "https://localhost:8080/"
        },
        "outputId": "c59df671-d07b-4803-a308-315108d5b1e7"
      },
      "source": [
        "!git clone https://github.com/zhixuhao/unet.git"
      ],
      "execution_count": 20,
      "outputs": [
        {
          "output_type": "stream",
          "text": [
            "fatal: destination path 'unet' already exists and is not an empty directory.\n"
          ],
          "name": "stdout"
        }
      ]
    },
    {
      "cell_type": "code",
      "metadata": {
        "id": "Ro3s37En2cqD"
      },
      "source": [
        "mv /content/drive/MyDrive/competition_data unet/"
      ],
      "execution_count": 21,
      "outputs": []
    },
    {
      "cell_type": "code",
      "metadata": {
        "id": "2xC_VGtPpzrF",
        "colab": {
          "base_uri": "https://localhost:8080/"
        },
        "outputId": "a451b342-8f0c-4cb3-b8e0-7084de6960f5"
      },
      "source": [
        "cd /content/drive/MyDrive/unet"
      ],
      "execution_count": 22,
      "outputs": [
        {
          "output_type": "stream",
          "text": [
            "/content/drive/MyDrive/unet\n"
          ],
          "name": "stdout"
        }
      ]
    },
    {
      "cell_type": "markdown",
      "metadata": {
        "id": "_6NXOQm-g_a_"
      },
      "source": [
        "# 1.このSprintについて\n",
        "\n",
        "**Sprintの目的**  \n",
        "コンピュータビジョンの代表的タスクであるセグメンテーションを学ぶ\n",
        "\n",
        "**どのように学ぶか**  \n",
        "公開されている実装を用いてKaggleコンペティションのデータでセグメンテーションを行います。"
      ]
    },
    {
      "cell_type": "markdown",
      "metadata": {
        "id": "W_vEIQYXuC3-"
      },
      "source": [
        "# 2.セグメンテーション\n",
        "\n",
        "KaggleのTGS Salt Identification Challengeのデータセットを使用し、セグメンテーションを行います。\n",
        "\n",
        "\n",
        "TGS Salt Identification Challenge | Kaggle  \n",
        "https://www.kaggle.com/c/tgs-salt-identification-challenge\n",
        "\n",
        "\n",
        "セグメンテーション手法としてU-Net[1]を使います。\n",
        "\n",
        "\n",
        "[1]O.Ronneberger, P.Fischer, T.Brox. U-Net: Convolutional Networks for Biomedical Image Segmentation. Medical Image Computing and Computer-Assisted Intervention (MICCAI), Springer, LNCS, Vol.9351: 234–241, 2015\n",
        "\n",
        "\n",
        "https://arxiv.org/pdf/1505.04597.pdf"
      ]
    },
    {
      "cell_type": "markdown",
      "metadata": {
        "id": "StE49_0KuQNU"
      },
      "source": [
        "## 【問題1】学習・推定\n",
        "以下のKeras実装を使用して学習・推定を行ってください。\n",
        "\n",
        "\n",
        "zhixuhao/unet: unet for image segmentation  \n",
        "https://github.com/zhixuhao/unet\n",
        "\n",
        "\n",
        "**《GPU環境での学習》**\n",
        "\n",
        "\n",
        "大規模なデータセット、大きなモデルになるため、GPUを使用する必要があります。\n",
        "\n",
        "\n",
        "**《新たなデータセットの適用》**\n",
        "\n",
        "\n",
        "公開されている実装で用意されたものとは異なるデータセットを入力するための準備が必要です。"
      ]
    },
    {
      "cell_type": "markdown",
      "metadata": {
        "id": "tjrgMOUVuzvp"
      },
      "source": [
        "### 1.1.1（学習）"
      ]
    },
    {
      "cell_type": "code",
      "metadata": {
        "colab": {
          "base_uri": "https://localhost:8080/",
          "height": 35
        },
        "id": "g0_0V-yAKIvL",
        "outputId": "903738f2-18a3-433e-bf1a-6f1ed1945b98"
      },
      "source": [
        "pwd"
      ],
      "execution_count": 42,
      "outputs": [
        {
          "output_type": "execute_result",
          "data": {
            "application/vnd.google.colaboratory.intrinsic+json": {
              "type": "string"
            },
            "text/plain": [
              "'/content/drive/MyDrive/unet'"
            ]
          },
          "metadata": {
            "tags": []
          },
          "execution_count": 42
        }
      ]
    },
    {
      "cell_type": "code",
      "metadata": {
        "id": "c0_Y4MQqVZC3"
      },
      "source": [
        "from model import *\n",
        "from data import *\n",
        "\n",
        "#os.environ[\"CUDA_VISIBLE_DEVICES\"] = \"0\"\n",
        "\n",
        "# 拡張データの作成\n",
        "data_gen_args = dict(rotation_range=0.2,\n",
        "                    width_shift_range=0.05,\n",
        "                    height_shift_range=0.05,\n",
        "                    shear_range=0.05,\n",
        "                    zoom_range=0.05,\n",
        "                    horizontal_flip=True,\n",
        "                    fill_mode='nearest')\n",
        "myGene = trainGenerator(2,'competition_data/train','images','masks',data_gen_args,save_to_dir = None)"
      ],
      "execution_count": 45,
      "outputs": []
    },
    {
      "cell_type": "code",
      "metadata": {
        "colab": {
          "base_uri": "https://localhost:8080/"
        },
        "id": "kiB8pkpbViJB",
        "outputId": "ae898793-7e50-412d-afbe-207e6e4a51c8"
      },
      "source": [
        "model = unet()\n",
        "model_checkpoint = ModelCheckpoint('unet_membrane.hdf5', monitor='loss',verbose=1, save_best_only=True)\n",
        "model.fit_generator(myGene,steps_per_epoch=3,epochs=2,callbacks=[model_checkpoint])"
      ],
      "execution_count": 46,
      "outputs": [
        {
          "output_type": "stream",
          "text": [
            "/content/drive/My Drive/unet/model.py:55: UserWarning: Update your `Model` call to the Keras 2 API: `Model(inputs=Tensor(\"in..., outputs=Tensor(\"co...)`\n",
            "  model = Model(input = inputs, output = conv10)\n"
          ],
          "name": "stderr"
        },
        {
          "output_type": "stream",
          "text": [
            "Epoch 1/2\n",
            "Found 4000 images belonging to 1 classes.\n",
            "Found 4000 images belonging to 1 classes.\n",
            "3/3 [==============================] - 43s 14s/step - loss: 0.4182 - acc: 0.9801\n",
            "\n",
            "Epoch 00001: loss improved from inf to 0.41817, saving model to unet_membrane.hdf5\n",
            "Epoch 2/2\n",
            "3/3 [==============================] - 37s 12s/step - loss: 1.7609 - acc: 0.7186\n",
            "\n",
            "Epoch 00002: loss did not improve from 0.41817\n"
          ],
          "name": "stdout"
        },
        {
          "output_type": "execute_result",
          "data": {
            "text/plain": [
              "<keras.callbacks.History at 0x7f229e48ff28>"
            ]
          },
          "metadata": {
            "tags": []
          },
          "execution_count": 46
        }
      ]
    },
    {
      "cell_type": "code",
      "metadata": {
        "colab": {
          "base_uri": "https://localhost:8080/"
        },
        "id": "k4pI0_NuV524",
        "outputId": "d04c29b6-5892-43dc-83a0-b85b567f80b8"
      },
      "source": [
        "testGene = testGenerator(\"competition_data/test/images\")\n",
        "model = unet()\n",
        "model.load_weights(\"unet_membrane.hdf5\")\n",
        "results = model.predict_generator(testGene,4,verbose=1)\n",
        "saveResult(\"competition_data/test/result\",results)"
      ],
      "execution_count": 55,
      "outputs": [
        {
          "output_type": "stream",
          "text": [
            "/content/drive/My Drive/unet/model.py:55: UserWarning: Update your `Model` call to the Keras 2 API: `Model(inputs=Tensor(\"in..., outputs=Tensor(\"co...)`\n",
            "  model = Model(input = inputs, output = conv10)\n"
          ],
          "name": "stderr"
        },
        {
          "output_type": "stream",
          "text": [
            "4/4 [==============================] - 7s 2s/step\n"
          ],
          "name": "stdout"
        },
        {
          "output_type": "stream",
          "text": [
            "/content/drive/My Drive/unet/data.py:124: UserWarning: competition_data/test/result/0_predict.png is a low contrast image\n",
            "  io.imsave(os.path.join(save_path,\"%d_predict.png\"%i),img)\n",
            "WARNING:root:Lossy conversion from float32 to uint8. Range [0, 1]. Convert image to uint8 prior to saving to suppress this warning.\n",
            "/content/drive/My Drive/unet/data.py:124: UserWarning: competition_data/test/result/1_predict.png is a low contrast image\n",
            "  io.imsave(os.path.join(save_path,\"%d_predict.png\"%i),img)\n",
            "WARNING:root:Lossy conversion from float32 to uint8. Range [0, 1]. Convert image to uint8 prior to saving to suppress this warning.\n",
            "/content/drive/My Drive/unet/data.py:124: UserWarning: competition_data/test/result/2_predict.png is a low contrast image\n",
            "  io.imsave(os.path.join(save_path,\"%d_predict.png\"%i),img)\n",
            "WARNING:root:Lossy conversion from float32 to uint8. Range [0, 1]. Convert image to uint8 prior to saving to suppress this warning.\n",
            "/content/drive/My Drive/unet/data.py:124: UserWarning: competition_data/test/result/3_predict.png is a low contrast image\n",
            "  io.imsave(os.path.join(save_path,\"%d_predict.png\"%i),img)\n",
            "WARNING:root:Lossy conversion from float32 to uint8. Range [0, 1]. Convert image to uint8 prior to saving to suppress this warning.\n"
          ],
          "name": "stderr"
        }
      ]
    },
    {
      "cell_type": "markdown",
      "metadata": {
        "id": "TmsBjg5duZKj"
      },
      "source": [
        "# <font color=\"Crimson\"></font>"
      ]
    },
    {
      "cell_type": "code",
      "metadata": {
        "id": "771nfuvP0z2S",
        "colab": {
          "base_uri": "https://localhost:8080/",
          "height": 487
        },
        "outputId": "d0e82e3c-0489-4592-d598-7d84467b0071"
      },
      "source": [
        "import matplotlib.pyplot as plt\n",
        "import matplotlib.image as mpimg\n",
        "\n",
        "path1 = \"competition_data/test/images/\"\n",
        "path2 = \"competition_data/test/result/\"\n",
        "image_path_list=[path1+'0.png', path2+'0_predict.png',\n",
        "                 path1+'1.png', path2+'1_predict.png',\n",
        "                 path1+'2.png', path2+'2_predict.png',\n",
        "                 path1+'3.png', path2+'3_predict.png',\n",
        "                ]\n",
        "\n",
        "plt.figure(figsize=(10,8))\n",
        "for i,d in enumerate(image_path_list):\n",
        "    plt.subplot(4,2,i+1)\n",
        "    plt.imshow(mpimg.imread(d),cmap=\"gray\")"
      ],
      "execution_count": 63,
      "outputs": [
        {
          "output_type": "display_data",
          "data": {
            "image/png": "[encoded data removed]",
            "text/plain": [
              "<Figure size 720x576 with 8 Axes>"
            ]
          },
          "metadata": {
            "tags": [],
            "needs_background": "light"
          }
        }
      ]
    },
    {
      "cell_type": "markdown",
      "metadata": {
        "id": "ClxZKWAEpulf"
      },
      "source": [
        "## 【問題2】コードリーディング\n",
        "論文[1]に目を通した上で、上記実装のコードリーディングを行ってください。"
      ]
    },
    {
      "cell_type": "markdown",
      "metadata": {
        "id": "16vob6xaBgd4"
      },
      "source": [
        "### 2.1.1（解答）"
      ]
    },
    {
      "cell_type": "markdown",
      "metadata": {
        "id": "-uRQI_rjXia-"
      },
      "source": [
        "- model.pyのuneｔメソッドでunetを実装している。\n",
        "- conv1からconv5が畳み込みを行い、conv6からconv10までがskip-conectionからの情報をもとに逆畳み込みをおこなている。"
      ]
    }
  ]
}