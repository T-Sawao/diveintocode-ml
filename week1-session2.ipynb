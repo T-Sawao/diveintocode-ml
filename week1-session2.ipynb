{
 "cells": [
  {
   "cell_type": "markdown",
   "metadata": {},
   "source": [
    "# Week1.授業課題2.何回折ったら富士山を超えるか問題"
   ]
  },
  {
   "cell_type": "markdown",
   "metadata": {},
   "source": [
    "**前提条件**\n",
    "紙を折った時の厚さの数式\n",
    "授業前課題と同様ですが確認しておきます。\n",
    "\n",
    "n回折った紙の厚さ$t_n$は以下のように表せます。\n",
    "$$t_n=t_0×2^n$$\n",
    "\n",
    "折る前の紙の厚さ$t_0$は0.00008mとします。一般的なコピー用紙の厚さです。"
   ]
  },
  {
   "cell_type": "markdown",
   "metadata": {},
   "source": [
    "## 【前提条件】折り紙を折ったときの厚さの関数"
   ]
  },
  {
   "cell_type": "code",
   "execution_count": 1,
   "metadata": {},
   "outputs": [
    {
     "name": "stdout",
     "output_type": "stream",
     "text": [
      "4.7223664828696456e+16\n"
     ]
    }
   ],
   "source": [
    "def tn(n,t0):\n",
    "    tn = t0 * 2 ** n\n",
    "    return tn\n",
    "\n",
    "print(tn(69,0.00008))"
   ]
  },
  {
   "cell_type": "markdown",
   "metadata": {},
   "source": [
    "# 【問題1】富士山を超える最小の折る回数\n",
    "厚さが「富士山(3776m)」を超えるのは何回紙を折った時か計算するプログラムを作成してください。"
   ]
  },
  {
   "cell_type": "markdown",
   "metadata": {},
   "source": [
    "## 【課題1】富士山を超える折り回数"
   ]
  },
  {
   "cell_type": "code",
   "execution_count": 2,
   "metadata": {},
   "outputs": [
    {
     "name": "stdout",
     "output_type": "stream",
     "text": [
      "富士山を超えるのは、折り紙を26回折った時です。\n"
     ]
    }
   ],
   "source": [
    "import numpy as np\n",
    "\n",
    "def n(tn,t0):\n",
    "    n = np.log2(tn / t0)\n",
    "    return int(np.ceil(n))\n",
    "\n",
    "print(f\"富士山を超えるのは、折り紙を{n(3776,0.00008)}回折った時です。\")"
   ]
  },
  {
   "cell_type": "markdown",
   "metadata": {},
   "source": [
    "# 【問題2】任意の厚さに対応した関数を作成\n",
    "距離を入力すると、何回折った時に超えるかを出力する関数を作成してください。引数として、折る前の厚さ \n",
    "$t_0$も設定できるようにしましょう。  \n",
    "この関数を利用して、「最も近い太陽以外の恒星」に到達するには紙を何回折る必要があるか計算してください。「最も近い太陽以外の恒星」の距離は調査してください。"
   ]
  },
  {
   "cell_type": "markdown",
   "metadata": {},
   "source": [
    "最も近い太陽に似た恒星 = ケンタウルス座α星A　4.366光年"
   ]
  },
  {
   "cell_type": "markdown",
   "metadata": {},
   "source": [
    "## 【課題2】最も近い太陽系以外の恒星を超える折り回数"
   ]
  },
  {
   "cell_type": "code",
   "execution_count": 3,
   "metadata": {},
   "outputs": [
    {
     "name": "stdout",
     "output_type": "stream",
     "text": [
      "最も近い太陽に似た恒星(ケンタウルス座α星A/4.366光年)を超えるのは、折り紙を69回折った時です。\n"
     ]
    }
   ],
   "source": [
    "import numpy as np\n",
    "\n",
    "def n(n_ly,t0):\n",
    "    lym = 9460730472580800 #１光年のをmに換算した値\n",
    "    n_lym = n_ly * lym \n",
    "    n = np.log2(n_lym / t0)\n",
    "    return int(np.ceil(n))\n",
    "\n",
    "print(f\"最も近い太陽に似た恒星(ケンタウルス座α星A/4.366光年)を超えるのは、折り紙を{n(4.366,0.00008)}回折った時です。\")"
   ]
  },
  {
   "cell_type": "code",
   "execution_count": 4,
   "metadata": {},
   "outputs": [
    {
     "name": "stdout",
     "output_type": "stream",
     "text": [
      "4.130554924328777e+16\n"
     ]
    }
   ],
   "source": [
    "x = 4.366 * 9460730472580800\n",
    "print(x)\n"
   ]
  },
  {
   "cell_type": "markdown",
   "metadata": {},
   "source": [
    "# 【問題3】必要な紙の長さ\n",
    "実際のところ身近にある紙は43回はおろか10回も折れません。しかし、大きな紙ほどたくさん折ることができ、トイレットペーパーのような長い紙を一方向に折ることを考えた時の折れる回数を求める公式が存在します。\n",
    "厚さ$t_0$の紙をn回折るために必要な紙の長さLは以下の公式で求まります。\n",
    "$$L=\\frac{πt_0}{6}(2^n+4)(2^n−1)$$\n",
    "\n",
    "この公式を利用して、実際に紙を折り任意の厚さに到達するために必要な紙の長さを求める関数を作成してください。  \n",
    "そしてこれを使って「月」「富士山」「最も近い太陽以外の恒星」に届くために必要な紙の長さを求めてください。"
   ]
  },
  {
   "cell_type": "markdown",
   "metadata": {},
   "source": [
    "## 【課題3-1】富士山までの紙の長さ"
   ]
  },
  {
   "cell_type": "code",
   "execution_count": 34,
   "metadata": {},
   "outputs": [],
   "source": [
    "# トレーニングデータの単位をあわせる関数\n",
    "def tp_unit_conversion(data):\n",
    "    tp_mini_length = data[0] * 3.14 #トイレットペーパー最小の円周(mm)\n",
    "    tp_max_length = data[1] * 3.14 #トイレットペーパー最大の円周(mm)\n",
    "    tp_length_mm = data[2] * 100 * 10 #トイレットペーパーの長さ(mm)\n",
    "    return tp_mini_length, tp_max_length, tp_length_mm"
   ]
  },
  {
   "cell_type": "code",
   "execution_count": 35,
   "metadata": {},
   "outputs": [],
   "source": [
    "# トイレットペーパーの巻数を計算する関数\n",
    "def tp_roll_math(data):\n",
    "    tp_mini_length, tp_max_length, tp_length_mm = tp_unit_conversion(data)\n",
    "    tp_max_mini = tp_max_length + tp_mini_length\n",
    "    tp_roll = tp_length_mm * 2 / tp_max_mini\n",
    "    return int(tp_roll)"
   ]
  },
  {
   "cell_type": "code",
   "execution_count": 36,
   "metadata": {},
   "outputs": [],
   "source": [
    "# トイレットペーパーの巻数から厚みを計算する関数\n",
    "def t0_math(data):\n",
    "    tp_roll = tp_roll_math(data)\n",
    "    t0 = (data[1] - data[0]) / tp_roll / 2\n",
    "    return t0"
   ]
  },
  {
   "cell_type": "code",
   "execution_count": 51,
   "metadata": {},
   "outputs": [],
   "source": [
    "# 目標(tn)に到達するための長さを求める関数\n",
    "def L(data, π, tn):\n",
    "    t0 = t0_math(data)\n",
    "    n = np.log2(tn / t0)\n",
    "    L = π * t0 /6 * (2 ** n + 4)*(2 ** n -1)\n",
    "    return L"
   ]
  },
  {
   "cell_type": "code",
   "execution_count": 52,
   "metadata": {},
   "outputs": [],
   "source": [
    "#エリエール（シングル）の芯の直径(mm),外径(mm),ロールの長さ(m)\n",
    "tp_data = [40, 115, 50]"
   ]
  },
  {
   "cell_type": "code",
   "execution_count": 71,
   "metadata": {},
   "outputs": [
    {
     "name": "stdout",
     "output_type": "stream",
     "text": [
      "富士山まで折る時に必要なトイレットペーパーの長さ40万kmです。\n"
     ]
    }
   ],
   "source": [
    "print(f\"富士山まで折る時に必要なトイレットペーパーの長さ{int(L(tp_data, 3.14, 3776) / 1000 / 1000)}万kmです。\")"
   ]
  },
  {
   "cell_type": "markdown",
   "metadata": {},
   "source": [
    "## 【課題3-2】月までの紙の長さ"
   ]
  },
  {
   "cell_type": "code",
   "execution_count": 77,
   "metadata": {},
   "outputs": [
    {
     "name": "stdout",
     "output_type": "stream",
     "text": [
      "月まで折る時に必要なトイレットペーパーの長さ422734555412万kmです。\n"
     ]
    }
   ],
   "source": [
    "#月までの距離\n",
    "moon = 384400000\n",
    "print(f\"月まで折る時に必要なトイレットペーパーの長さ{int(L(tp_data, 3.14, 384400000) / 1000 / 1000)}万kmです。\")"
   ]
  },
  {
   "cell_type": "markdown",
   "metadata": {},
   "source": [
    "## 【課題3-3】最も近い太陽以外の恒星までの紙の長さ"
   ]
  },
  {
   "cell_type": "code",
   "execution_count": 76,
   "metadata": {},
   "outputs": [
    {
     "name": "stdout",
     "output_type": "stream",
     "text": [
      "4.102172732911035e+16\n"
     ]
    }
   ],
   "source": [
    "# 最も近い太陽に似た恒星 = ケンタウルス座α星A　4.366光年までの距離\n",
    "n_ly = 4.336\n",
    "lym = 9460730472580800 #１光年のをmに換算した値\n",
    "n_lym = n_ly * lym \n",
    "print(n_lym)"
   ]
  },
  {
   "cell_type": "code",
   "execution_count": 79,
   "metadata": {},
   "outputs": [
    {
     "name": "stdout",
     "output_type": "stream",
     "text": [
      "ケンタウロス座a星Aまで折る時に必要なトイレットペーパーの長さ4814252649685434156917456896万kmです。\n"
     ]
    }
   ],
   "source": [
    "print(f\"ケンタウロス座a星Aまで折る時に必要なトイレットペーパーの長さ{int(L(tp_data, 3.14, n_lym) / 1000 / 1000)}万kmです。\")"
   ]
  }
 ],
 "metadata": {
  "kernelspec": {
   "display_name": "Python 3",
   "language": "python",
   "name": "python3"
  },
  "language_info": {
   "codemirror_mode": {
    "name": "ipython",
    "version": 3
   },
   "file_extension": ".py",
   "mimetype": "text/x-python",
   "name": "python",
   "nbconvert_exporter": "python",
   "pygments_lexer": "ipython3",
   "version": "3.8.3"
  }
 },
 "nbformat": 4,
 "nbformat_minor": 4
}
