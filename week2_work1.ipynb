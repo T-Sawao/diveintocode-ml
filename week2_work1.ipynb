{
  "nbformat": 4,
  "nbformat_minor": 0,
  "metadata": {
    "kernelspec": {
      "display_name": "Python 3",
      "language": "python",
      "name": "python3"
    },
    "language_info": {
      "codemirror_mode": {
        "name": "ipython",
        "version": 3
      },
      "file_extension": ".py",
      "mimetype": "text/x-python",
      "name": "python",
      "nbconvert_exporter": "python",
      "pygments_lexer": "ipython3",
      "version": "3.8.3"
    },
    "colab": {
      "name": "week2-sessionn5.ipynb",
      "provenance": [],
      "private_outputs": true,
      "include_colab_link": true
    },
    "accelerator": "GPU"
  },
  "cells": [
    {
      "cell_type": "markdown",
      "metadata": {
        "id": "view-in-github",
        "colab_type": "text"
      },
      "source": [
        "<a href=\"https://colab.research.google.com/github/T-Sawao/diveintocode-ml/blob/master/week2_work1.ipynb\" target=\"_parent\"><img src=\"https://colab.research.google.com/assets/colab-badge.svg\" alt=\"Open In Colab\"/></a>"
      ]
    },
    {
      "cell_type": "markdown",
      "metadata": {
        "id": "55SMvyl1MlAi"
      },
      "source": [
        "# week2-sessionn5 二次元配列と勾配問題"
      ]
    },
    {
      "cell_type": "markdown",
      "metadata": {
        "id": "jTj7sHWxMlAk"
      },
      "source": [
        "# 二次元配列と勾配問題\n",
        "\n",
        "機械学習においては関数の最小値を見つけることが重要になってきます。そのために使われるのが勾配降下法です。  \n",
        "この課題では勾配降下法を理解する準備として、NumPyを用いて関数の勾配を考えていきます。"
      ]
    },
    {
      "cell_type": "markdown",
      "metadata": {
        "id": "dOnCb_1FMlAl"
      },
      "source": [
        "## 【問題1】1次関数  \n",
        "$x$ が-50から50の範囲で次の式を考えます。  \n",
        "$$y = \\frac{1}{2}x + 1$$  \n",
        "\n",
        "-50から50まで0.1間隔のxを表すndarrayと、各要素に対するyを表すndarrayを作成してください。"
      ]
    },
    {
      "cell_type": "markdown",
      "metadata": {
        "id": "EuNz9k2aMlAn"
      },
      "source": [
        "### 1.1.1 (解答)"
      ]
    },
    {
      "cell_type": "code",
      "metadata": {
        "id": "eVzNwfutMlAp"
      },
      "source": [
        "import numpy as np\n",
        "np.set_printoptions(precision = 1)\n",
        "\n",
        "x = np.arange(-50, 50, 0.1).reshape(-1, 1) #reshapeの引数に(-1,1)で縦のベクトルに、(1,-1)で横ベクトルに変化可能。\n",
        "y = np.array((1/2)* x + 1).reshape(-1, 1)\n",
        "\n",
        "print(f\"yの値は、{type(y)}型で、10番目までの値は下記の通りです。\\n {y[:10]}\")"
      ],
      "execution_count": null,
      "outputs": []
    },
    {
      "cell_type": "markdown",
      "metadata": {
        "id": "lvXiMcVbMlAy"
      },
      "source": [
        "## 【問題2】配列の結合  \n",
        "問題1で作成したndarrayを結合し、(1001, 2)の形の配列にしてください。0列目にx、1列目にyが来るようにします。"
      ]
    },
    {
      "cell_type": "markdown",
      "metadata": {
        "id": "AX-BS8rFMlAz"
      },
      "source": [
        "### 2.1.1(解答)"
      ]
    },
    {
      "cell_type": "code",
      "metadata": {
        "id": "aKUl7Eg4MlA1"
      },
      "source": [
        "array_xy = np.concatenate([x, y], axis = 1) # axis=1 で横軸に結合。\n",
        "print(array_xy[:10])\n",
        "\n",
        "# concatemate(引数)は、第一引数に連結したいndarrayのリスト(タプルモ可)を指定。\n",
        "# 第二引数(axis)で結合する軸（次元）を指定する。"
      ],
      "execution_count": null,
      "outputs": []
    },
    {
      "cell_type": "markdown",
      "metadata": {
        "id": "iG330jhEMlA6"
      },
      "source": [
        "## 【問題3】勾配を求める  \n",
        "各x座標における勾配を求めます。ここで勾配はyの変化量をxの変化量で割ることで計算します。\n",
        "\n",
        "$$y=\\frac{yの変化量}{xの変化量}$$"
      ]
    },
    {
      "cell_type": "markdown",
      "metadata": {
        "id": "ODyRmBGGMlA7"
      },
      "source": [
        "### 3.1.1(解答)"
      ]
    },
    {
      "cell_type": "code",
      "metadata": {
        "id": "_VcVKj4tMlA8"
      },
      "source": [
        "amount_change = array_xy[1:] - array_xy[:-1]\n",
        "\n",
        "gradent = amount_change[:, 1] / amount_change [:, 0] \n",
        "print(gradent)\n",
        "\n",
        "# 勾配はx座標の間隔を使うので、xの要素数に対して一つ少なくなります"
      ],
      "execution_count": null,
      "outputs": []
    },
    {
      "cell_type": "markdown",
      "metadata": {
        "id": "DhNQFpGw7T_s"
      },
      "source": [
        "### 3.1.2(確認用）\n"
      ]
    },
    {
      "cell_type": "code",
      "metadata": {
        "id": "V3tnegZX7Sbb"
      },
      "source": [
        "def gradient_math(x):\n",
        "  dx = (x + 0.1) - (x)\n",
        "  dy = ((1/2) * (x + 0.1) + 1) - ((1/2)* x + 1)\n",
        "  dxy = dy / dx\n",
        "  return dxy\n",
        "\n",
        "print(gradient_math(-40))"
      ],
      "execution_count": null,
      "outputs": []
    },
    {
      "cell_type": "markdown",
      "metadata": {
        "id": "OXYACIAdMlBB"
      },
      "source": [
        "## 【問題4】グラフを描く  \n",
        "1次関数のグラフをMatplotlibを用いて描いてください。また、それとは別に横軸をx、縦軸を勾配としたグラフも描いてください。\n",
        "\n",
        "matplotlib.pyplot.plot — Matplotlib 3.1.0 documentation"
      ]
    },
    {
      "cell_type": "markdown",
      "metadata": {
        "id": "BakY-xs8MlBC"
      },
      "source": [
        "### 4.1.1(解答)1次関数のグラフ"
      ]
    },
    {
      "cell_type": "code",
      "metadata": {
        "id": "bbCJ0eqgMlBE"
      },
      "source": [
        "import matplotlib.pyplot as plt\n",
        "\n",
        "fig, ax = plt.subplots(1,1)\n",
        "ax.plot(array_xy[:, 0], array_xy[:, 1])"
      ],
      "execution_count": null,
      "outputs": []
    },
    {
      "cell_type": "markdown",
      "metadata": {
        "id": "ryojtkDgMlBL"
      },
      "source": [
        "### 4.2.1(解答)横軸をｘ，縦軸を購買としたグラフ"
      ]
    },
    {
      "cell_type": "code",
      "metadata": {
        "id": "kmOj1Ur1MlBM"
      },
      "source": [
        "fig, ax = plt.subplots(1,1)\n",
        "\n",
        "ax.plot(x[1:], gradent)"
      ],
      "execution_count": null,
      "outputs": []
    },
    {
      "cell_type": "markdown",
      "metadata": {
        "id": "J1vU3cEbMlBS"
      },
      "source": [
        "## 【問題5】Pythonの関数化\n",
        "問題1から問題3までの範囲をまとめて行うPythonの関数を雛形を参考に作成してください。  \n",
        "そして、以下の3式の勾配を0.1間隔で求めてndarrayで出力してください。\n",
        "\n",
        "$$\n",
        "y = x^{2} \\quad (-50\\leq x \\leq 50)\\\\\n",
        "y = 2x^{2}+2^{x} \\quad (-50\\leq x \\leq 50)\\\\\n",
        "y = sin(x^{\\frac{1}{2}}) \\quad (0\\leq x \\leq 50)\n",
        "$$\n",
        "\n",
        "\n",
        "また、問題4と同様にグラフを描いてください。  \n",
        "ndarrayに対して三角関数のsinの計算を行うには np.sin()を用います。\n",
        "\n",
        "numpy.sin — NumPy v1.16 Manual"
      ]
    },
    {
      "cell_type": "markdown",
      "metadata": {
        "id": "RK_yZq6pMlBS"
      },
      "source": [
        "### 5.1.1(解答)問1から問3をまとめて関数化"
      ]
    },
    {
      "cell_type": "code",
      "metadata": {
        "id": "8iAgmNJ2MlBT"
      },
      "source": [
        "def compute_gradient(function, x_range=(-50, 50.1, 0.1)):\n",
        "  array_x = np.arange(*x_range).reshape(-1,1) # x_rangeをアンパックする + reshapeで縦ベクトルに変換。\n",
        "  array_y = function(array_x).reshape(-1,1)\n",
        "  # print(array_x.shape)\n",
        "  # print(array_y.shape)\n",
        "  # print(array_y)\n",
        "\n",
        "  array_xy = np.concatenate([array_x, array_y], axis = 1)\n",
        "  amount_change = array_xy[1:] - array_xy[:-1] \n",
        "  gradient = amount_change[:, 1] / amount_change [:, 0] \n",
        "  return array_xy, gradient"
      ],
      "execution_count": null,
      "outputs": []
    },
    {
      "cell_type": "markdown",
      "metadata": {
        "id": "fn5nSDJDEKtT"
      },
      "source": [
        "### 5.1.2(解答) $y=\\frac{1}{2}\\times x+1$の解"
      ]
    },
    {
      "cell_type": "code",
      "metadata": {
        "id": "7oqxvlf4EGNy"
      },
      "source": [
        "def function1(array_x): \n",
        "  array_y = ((1/2) * array_x) + 1\n",
        "  return array_y\n",
        "\n",
        "array_xy, gradient = compute_gradient(function1)\n",
        "print(array_xy[:10])\n",
        "print(gradient[:10])"
      ],
      "execution_count": null,
      "outputs": []
    },
    {
      "cell_type": "markdown",
      "metadata": {
        "id": "6Wk1-es6OThw"
      },
      "source": [
        "### 5.2.2(解答) $y=x^2$の解"
      ]
    },
    {
      "cell_type": "code",
      "metadata": {
        "id": "wHZoeDsxOS4z"
      },
      "source": [
        "def function2(array_x): \n",
        "  array_y = array_x ** 2\n",
        "  return array_y\n",
        "\n",
        "array_xy, gradient = compute_gradient(function2)\n",
        "print(array_xy[:10])\n",
        "print(gradient[:10])"
      ],
      "execution_count": null,
      "outputs": []
    },
    {
      "cell_type": "markdown",
      "metadata": {
        "id": "8qb-mj73PR4C"
      },
      "source": [
        "### 5.2.2(解答) $y=x^2$のグラフ"
      ]
    },
    {
      "cell_type": "code",
      "metadata": {
        "id": "022eN0snPZGl"
      },
      "source": [
        "fig = plt.figure()\n",
        "\n",
        "ax1 = fig.add_subplot(1,2,1)\n",
        "ax1.plot(array_xy[:,0], array_xy[:,1])\n",
        "\n",
        "ax2 = fig.add_subplot(1,2,2)\n",
        "ax2.plot(array_xy[:-1, 0], gradient)"
      ],
      "execution_count": null,
      "outputs": []
    },
    {
      "cell_type": "markdown",
      "metadata": {
        "id": "dNuKp_MPbAOy"
      },
      "source": [
        "### 5.3.1(解答) $y=2x^2+2^z$の解"
      ]
    },
    {
      "cell_type": "code",
      "metadata": {
        "id": "wgj8tA6wUAEp"
      },
      "source": [
        "def function3(array_x, z = 2): \n",
        "  array_y = 2 * (array_x ** 2) + (2 ** z)\n",
        "  return array_y\n",
        "\n",
        "array_xy, gradient = compute_gradient(function3)\n",
        "print(array_xy[:10])\n",
        "print(gradient[:10])"
      ],
      "execution_count": null,
      "outputs": []
    },
    {
      "cell_type": "markdown",
      "metadata": {
        "id": "ez3shCY6bA5V"
      },
      "source": [
        "### 5.3.2(解答) $y=2x^2+2^z$のグラフ"
      ]
    },
    {
      "cell_type": "code",
      "metadata": {
        "id": "M1ECKwombQvm"
      },
      "source": [
        "fig = plt.figure()\n",
        "\n",
        "ax1 = fig.add_subplot(1,2,1)\n",
        "ax1.plot(array_xy[:,0], array_xy[:,1])\n",
        "\n",
        "ax2 = fig.add_subplot(1,2,2)\n",
        "ax2.plot(array_xy[:-1, 0], gradient)"
      ],
      "execution_count": null,
      "outputs": []
    },
    {
      "cell_type": "markdown",
      "metadata": {
        "id": "SGNIBnE2cKUQ"
      },
      "source": [
        "### 5.4.1(解答) $y=sin(x^\\frac{1}{2})$     $(0^<_=x^<_=50)$の解"
      ]
    },
    {
      "cell_type": "code",
      "metadata": {
        "id": "EziAWQPocJ98"
      },
      "source": [
        "def function4(array_x): \n",
        "  array_y = np.sin(array_x ** -1)\n",
        "  return array_y\n",
        "\n",
        "array_xy, gradient = compute_gradient(function4, x_range=(0, 50.1, 0.1))\n",
        "print(array_xy[:10])\n",
        "print(gradient[:10])"
      ],
      "execution_count": null,
      "outputs": []
    },
    {
      "cell_type": "markdown",
      "metadata": {
        "id": "f95tZftBcLYv"
      },
      "source": [
        "### 5.4.2(解答) $y=sin(x^\\frac{1}{2})$     $(0^<_=x^<_=50)$のグラフ"
      ]
    },
    {
      "cell_type": "code",
      "metadata": {
        "id": "Q1ajHce3c6SF"
      },
      "source": [
        "fig = plt.figure()\n",
        "\n",
        "ax1 = fig.add_subplot(1,2,1)\n",
        "ax1.plot(array_xy[:,0], array_xy[:,1])\n",
        "\n",
        "ax2 = fig.add_subplot(1,2,2)\n",
        "ax2.plot(array_xy[:-1, 0], gradient)"
      ],
      "execution_count": null,
      "outputs": []
    },
    {
      "cell_type": "markdown",
      "metadata": {
        "id": "DIoynSuXdxOs"
      },
      "source": [
        "## 【問題6】最小値を求める\n",
        "問題5で扱った関数のyの最小値を求めます。xの範囲も問題5と同様とします。  \n",
        "今回は勾配降下法ではなく、ndarrayのminメソッド、argminメソッドを用いてください。minメソッドは最小値を、argminメソッドは最小値のインデックスを取得することができます。\n",
        "\n",
        "また、最小のyをとる前後の勾配を表示してください。\n",
        "\n",
        "\n",
        "numpy.ndarray.min — NumPy v1.16 Manual  \n",
        "numpy.ndarray.argmin — NumPy v1.16 Manual"
      ]
    },
    {
      "cell_type": "markdown",
      "metadata": {
        "id": "8VOjkVlXeNoJ"
      },
      "source": [
        "### 6.1.1(解答) $y=\\frac{1}{2}\\times x+1$の最小値"
      ]
    },
    {
      "cell_type": "code",
      "metadata": {
        "id": "ZQSkHnZbd9Wo"
      },
      "source": [
        "array_xy, gradient = compute_gradient(function1)\n",
        "\n",
        "print(f\"x値の最小値は、{np.min(array_xy[:, 0])} です。\")\n",
        "print(f\"y値の最小値は、{np.min(array_xy[:, 1])} です。\")\n",
        "\n",
        "print(f\"x値の最小値のインデックスは、{np.argmin(array_xy[:, 0])} 番目です。\")\n",
        "print(f\"y値の最小値のインデックスは、{np.argmin(array_xy[:, 1])} 番目です。\")"
      ],
      "execution_count": null,
      "outputs": []
    },
    {
      "cell_type": "markdown",
      "metadata": {
        "id": "f3dow733iRpr"
      },
      "source": [
        "### 6.2.1(解答) $y=x^2$の最小値"
      ]
    },
    {
      "cell_type": "code",
      "metadata": {
        "id": "Fzqek0RKi5LB"
      },
      "source": [
        "array_xy, gradient = compute_gradient(function2)\n",
        "print(f\"x値の最小値は、{np.min(array_xy[:, 0])} です。\")\n",
        "print(f\"y値の最小値は、{np.min(array_xy[:, 1])} です。\")\n",
        "\n",
        "print(f\"x値の最小値のインデックスは、{np.argmin(array_xy[:, 0])} 番目です。\")\n",
        "print(f\"y値の最小値のインデックスは、{np.argmin(array_xy[:, 1])} 番目です。\")"
      ],
      "execution_count": null,
      "outputs": []
    },
    {
      "cell_type": "markdown",
      "metadata": {
        "id": "h8cUP2cNiSHu"
      },
      "source": [
        "### 6.3.1(解答) $y=2x^2+2^z$の最小値"
      ]
    },
    {
      "cell_type": "code",
      "metadata": {
        "id": "SCgssNWUi5ru"
      },
      "source": [
        "array_xy, gradient = compute_gradient(function3)\n",
        "print(f\"x値の最小値は、{np.min(array_xy[:, 0])} です。\")\n",
        "print(f\"y値の最小値は、{np.min(array_xy[:, 1])} です。\")\n",
        "\n",
        "print(f\"x値の最小値のインデックスは、{np.argmin(array_xy[:, 0])} 番目です。\")\n",
        "print(f\"y値の最小値のインデックスは、{np.argmin(array_xy[:, 1])} 番目です。\")"
      ],
      "execution_count": null,
      "outputs": []
    },
    {
      "cell_type": "markdown",
      "metadata": {
        "id": "e_VSSX8HiRZH"
      },
      "source": [
        "### 6.4.1(解答) $y=sin(x^\\frac{1}{2})$の最小値"
      ]
    },
    {
      "cell_type": "code",
      "metadata": {
        "id": "26ON2Au1iUJ8"
      },
      "source": [
        "array_xy, gradient = compute_gradient(function4, x_range=(0, 50.1, 0.1))\n",
        "print(f\"x値の最小値は、{np.min(array_xy[:, 0])} です。\")\n",
        "print(f\"y値の最小値は、{np.min(array_xy[:, 1])} です。\")\n",
        "\n",
        "print(f\"x値の最小値のインデックスは、{np.argmin(array_xy[:, 0])} 番目です。\")\n",
        "print(f\"y値の最小値のインデックスは、{np.argmin(array_xy[:, 1])} 番目です。\")"
      ],
      "execution_count": null,
      "outputs": []
    }
  ]
}