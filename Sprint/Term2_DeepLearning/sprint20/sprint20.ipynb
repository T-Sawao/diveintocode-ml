{
  "nbformat": 4,
  "nbformat_minor": 0,
  "metadata": {
    "colab": {
      "name": "tram2_Sprint20.ipynb",
      "provenance": [],
      "collapsed_sections": [],
      "toc_visible": true,
      "include_colab_link": true
    },
    "kernelspec": {
      "name": "python3",
      "display_name": "Python 3"
    },
    "accelerator": "GPU"
  },
  "cells": [
    {
      "cell_type": "markdown",
      "metadata": {
        "id": "view-in-github",
        "colab_type": "text"
      },
      "source": [
        "<a href=\"https://colab.research.google.com/github/T-Sawao/diveintocode-ml3/blob/main/tram2_Sprint20.ipynb\" target=\"_parent\"><img src=\"https://colab.research.google.com/assets/colab-badge.svg\" alt=\"Open In Colab\"/></a>"
      ]
    },
    {
      "cell_type": "markdown",
      "metadata": {
        "id": "_o--oKcJlxD7"
      },
      "source": [
        "# tram2_Sprint20 セグメンテーション2"
      ]
    },
    {
      "cell_type": "markdown",
      "metadata": {
        "id": "yTxS8ekjnMpH"
      },
      "source": [
        "# 1.このSprintについて\n",
        "\n",
        "**Sprintの目的**  \n",
        "セグメンテーションの精度を向上させる\n",
        "\n",
        "**どのように学ぶか**  \n",
        "Kaggleコンペティションの情報を参考にセグメンテーションの精度を向上させます。"
      ]
    },
    {
      "cell_type": "markdown",
      "metadata": {
        "id": "1_UIcf65nVwR"
      },
      "source": [
        "# 2.セグメンテーションの精度向上\n",
        "\n",
        "前回に引き続きTGS Salt Identification Challengのデータセットの学習・推定を行います。\n",
        "\n",
        "\n",
        "TGS Salt Identification Challenge | Kaggle  \n",
        "https://www.kaggle.com/c/tgs-salt-identification-challenge\n",
        "\n",
        "\n",
        "## 【問題1】コードレビュー  \n",
        "転移学習を使用してセグメンテーションの精度を改善したコードを提示するので、レビューを行ってください。\n",
        "\n",
        "\n",
        "**《視点例》**\n",
        "- 前回使用した実装とはどのように違うのか\n",
        "- 転移学習をどのように行っているか"
      ]
    },
    {
      "cell_type": "markdown",
      "metadata": {
        "id": "kNYQs48JnVtz"
      },
      "source": [
        "### 1.1.1（解答） 前回使用した実装とはどのように違うのか  \n",
        "前回は深さ5層の畳み込みでしたが、今回は深さが50層の畳み込みネットワークです。  \n",
        "エンコーダーブロックとデコーダーブロックを組み合わせて、セグメンテーションモデルを作る形をとっている。"
      ]
    },
    {
      "cell_type": "markdown",
      "metadata": {
        "id": "kdf2-HOznVq6"
      },
      "source": [
        "### 1.1.2（解答） 転移学習をどのように行っているか\n",
        "\n",
        "ImageNetで事前学習した重みを利用可能なResNet50モデルを使用。  \n",
        "https://keras.io/ja/applications/#resnet50"
      ]
    },
    {
      "cell_type": "markdown",
      "metadata": {
        "id": "KXX2Eho7n_1i"
      },
      "source": [
        "## 【問題2】コードの書き換え  \n",
        "エンコーダーにResNetが使用されていたコードをVGGに変更してください。\n",
        "\n"
      ]
    },
    {
      "cell_type": "markdown",
      "metadata": {
        "id": "kKAXG_CJ8lbP"
      },
      "source": [
        "## 【問題3】学習・推定\n",
        "ResNetとVGG双方のコードで学習・推定を行い、結果を比較してください。\n"
      ]
    },
    {
      "cell_type": "markdown",
      "metadata": {
        "id": "jeQhrN34n_vF"
      },
      "source": [
        "### 3.1.1 ResNetの解答  \n",
        "https://github.com/T-Sawao/diveintocode-ml3/blob/main/term2_sprint20_ResNetCode.ipynb"
      ]
    },
    {
      "cell_type": "markdown",
      "metadata": {
        "id": "4j3dUyTXn_or"
      },
      "source": [
        "### 3.2.1 VGG19の解答    \n",
        "https://github.com/T-Sawao/diveintocode-ml3/blob/main/term2_sprint20_VGG19Code.ipynb"
      ]
    },
    {
      "cell_type": "markdown",
      "metadata": {
        "id": "NBxnFs-Qn_Xc"
      },
      "source": [
        "### 3.3.1 (解答) ResNetとVGG19の比較\n",
        "\n",
        "もとのサンプル数では２時間経っても学習が完了しないため、  \n",
        "サンプル数１０で検証した結果、学習の結果は下記のようになり変わらなかった。  \n",
        "\n",
        "ResNet:Best IoU: 0.5200 at threshold: 0.200\n",
        "VGG19:Best IoU: 0.5200 at threshold: 0.200"
      ]
    }
  ]
}