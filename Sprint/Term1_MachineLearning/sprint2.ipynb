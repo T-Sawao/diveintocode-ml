{
 "cells": [
  {
   "cell_type": "markdown",
   "metadata": {},
   "source": [
    "# sprint2 機械学習スクラッチ入門"
   ]
  },
  {
   "cell_type": "markdown",
   "metadata": {},
   "source": [
    "# 2.スクラッチ\n",
    "\n",
    "このSprintでは機械学習手法のスクラッチ課題に取り組む準備を行います。scikit-learnを用いて分類・回帰問題を解くコードを書いておき、今後のSprintではそれと同じ動作をするクラスをスクラッチで作成していきます。\n",
    "\n",
    "**スクラッチの意義**   \n",
    "ここでのスクラッチとは、NumPyなどの基本的なライブラリを組み合わせることで、scikit-learnのような応用的なライブラリと同じ機能のクラス・関数を自作することを指します。\n",
    "\n",
    "スクラッチをすることでscikit-learnなどのライブラリを動かすだけでは掴みづらい、アルゴリズムの深い理解を目指します。コーディングのスキル向上も兼ねますが、それは主な目的ではありません。\n",
    "\n",
    "以下のような効果を狙っています。\n",
    "- 新たな手法に出会った時に理論・数式を理解しやすくする\n",
    "- ライブラリを使う上での曖昧さを減らす\n",
    "- 既存の実装を読みやすくする"
   ]
  },
  {
   "cell_type": "markdown",
   "metadata": {},
   "source": [
    "## 【問題1】train_test_splitのスクラッチ\n",
    "スクラッチの練習として、scikit-learnのtrain_test_splitを自作してみます。以下の雛形をベースとして関数を完成させてください。    sklearn.model_selection.train_test_split — scikit-learn 0.21.3 documentation  \n",
    "http://scikit-learn.org/stable/modules/generated/sklearn.model_selection.train_test_split.html  \n",
    "\n",
    "なお、作成した関数がscikit-learnのtrain_test_splitと同じ動作をしているか必ず確認をするようにしましょう。"
   ]
  },
  {
   "cell_type": "markdown",
   "metadata": {},
   "source": [
    "### 1.1.1（解答）"
   ]
  },
  {
   "cell_type": "code",
   "execution_count": 1,
   "metadata": {},
   "outputs": [],
   "source": [
    "# サンプル数値\n",
    "import numpy as np\n",
    "X, y = np.arange(10).reshape((5, 2)), range(5)"
   ]
  },
  {
   "cell_type": "code",
   "execution_count": 2,
   "metadata": {},
   "outputs": [],
   "source": [
    "def scratch_train_test_split(X, y, train_size=0.8, shuffle = True,  random_state=None ):\n",
    "    \"\"\"\n",
    "    検証データを分割する。\n",
    "\n",
    "    Parameters\n",
    "    ----------\n",
    "    X : 次の形のndarray, shape (n_samples, n_features)\n",
    "      訓練データ\n",
    "    y : 次の形のndarray, shape (n_samples, )\n",
    "      正解値x\n",
    "    train_size : float (0<train_size<1)\n",
    "      何割をtrainとするか指定\n",
    "\n",
    "    Returns\n",
    "    ----------\n",
    "    X_train : 次の形のndarray, shape (n_samples, n_features)\n",
    "      訓練データ\n",
    "    X_test : 次の形のndarray, shape (n_samples, n_features)\n",
    "      検証データ\n",
    "    y_train : 次の形のndarray, shape (n_samples, )\n",
    "      訓練データの正解値\n",
    "    y_test : 次の形のndarray, shape (n_samples, )\n",
    "      検証データの正解値\n",
    "    \"\"\"\n",
    "    nd_x = np.array(X)\n",
    "    nd_y = np.array([y]).reshape(-1,1)\n",
    "    \n",
    "#     print(nd_x.shape)\n",
    "#     print(nd_y.shape)\n",
    "#     print(nd_y)\n",
    "    \n",
    "    con_xy = np.concatenate([nd_x, nd_y], axis=1)\n",
    "    \n",
    "    if shuffle == False:\n",
    "        ran_xy = con_xy\n",
    "    elif shuffle == True:\n",
    "        if random_state == None:\n",
    "            ran_xy = np.random.permutation(con_xy)\n",
    "        else:\n",
    "            np.random.seed(seed= random_state)\n",
    "            ran_xy = np.random.permutation(con_xy)\n",
    "    \n",
    "    num = int(len(ran_xy) * train_size)\n",
    "    \n",
    "    X_train = ran_xy[:num, :nd_x.shape[1]]\n",
    "    X_test = ran_xy[num:, :nd_x.shape[1]]\n",
    "    y_train = ran_xy[:num, nd_x.shape[1]:].ravel()\n",
    "    y_test = ran_xy[num:, nd_x.shape[1]:].ravel()\n",
    "    y_train = list(y_train)\n",
    "    y_test = list(y_test)\n",
    "\n",
    "    pass\n",
    "    return X_train, X_test, y_train, y_test"
   ]
  },
  {
   "cell_type": "code",
   "execution_count": 3,
   "metadata": {},
   "outputs": [
    {
     "name": "stdout",
     "output_type": "stream",
     "text": [
      "[[4 5]\n",
      " [2 3]\n",
      " [6 7]\n",
      " [8 9]]\n",
      "[[0 1]]\n",
      "[2, 1, 3, 4]\n",
      "[0]\n"
     ]
    }
   ],
   "source": [
    "X_train, X_test, y_train, y_test = scratch_train_test_split(X, y, train_size=0.8)\n",
    "print(X_train)\n",
    "print(X_test)\n",
    "print(y_train)\n",
    "print(y_test)"
   ]
  },
  {
   "cell_type": "raw",
   "metadata": {},
   "source": [
    "# 確認用\n",
    "from sklearn.model_selection import train_test_split\n",
    "X_train, X_test, y_train, y_test = train_test_split(X, y, train_size=0.8,)\n",
    "print(X_train)\n",
    "print(X_test)\n",
    "print(y_train)\n",
    "print(y_test)"
   ]
  },
  {
   "cell_type": "markdown",
   "metadata": {},
   "source": [
    "## 3.scikit-learnを用いて機械学習を行うコードを作成\n",
    "\n",
    "scikit-learnを使ったコードを作成していきます。  \n",
    "検証データの分割には問題1で作成した自作の関数を用いてください。クロスバリデーションではなくホールドアウト法で構いません。\n",
    "\n",
    "**分類問題**  \n",
    "分類は3種類の手法をスクラッチします。\n",
    "- ロジスティック回帰(SGDClassifierクラス)  \n",
    "   https://scikit-learn.org/stable/modules/generated/sklearn.linear_model.SGDClassifier.html#sklearn.linear_model.SGDClassifier\n",
    "- SVM  \n",
    "   https://scikit-learn.org/stable/modules/generated/sklearn.svm.SVC.html#sklearn.svm.SVC\n",
    "- 決定木  \n",
    "   https://scikit-learn.org/stable/modules/generated/sklearn.tree.DecisionTreeClassifier.html#sklearn.tree.DecisionTreeClassifier\n",
    "\n",
    "ロジスティック回帰はscikit-learnにおいてLogisticRegressionクラスとSGDClassifierクラスの2種類から使用できます。ここでは勾配降下法を用いて計算するSGDClassifierクラスを利用してください。引数でloss=\"log\"とすることでロジスティック回帰の計算になります。  \n",
    "\n",
    "データセットは3種類用意します。  \n",
    "\n",
    "\n",
    "\n",
    "残り2つは特徴量が2つのデータセットを人工的に用意します。以下のコードで説明変数X,目的変数yが作成可能です。「シンプルデータセット1」「シンプルデータセット2」とします。特徴量が2つであるため可視化が容易です。"
   ]
  },
  {
   "cell_type": "markdown",
   "metadata": {},
   "source": [
    "## 【問題2】 分類問題を解くコードの作成\n",
    "上記3種類の手法で3種類のデータセットを学習・推定するコードを作成してください。"
   ]
  },
  {
   "cell_type": "markdown",
   "metadata": {},
   "source": [
    "### 2.1.1（課題）   \n",
    "1つ目は事前学習期間同様にirisデータセットです。  \n",
    "sklearn.datasets.load_iris — scikit-learn 0.20.2 documentation  \n",
    "https://scikit-learn.org/stable/modules/generated/sklearn.datasets.load_iris.html\n",
    "\n",
    "2値分類としたいため、以下の2つの目的変数のみ利用します。特徴量は4種類全て使います。  \n",
    "virgicolorとvirginica"
   ]
  },
  {
   "cell_type": "code",
   "execution_count": 4,
   "metadata": {},
   "outputs": [],
   "source": [
    "import numpy as np\n",
    "import pandas as pd\n",
    "import matplotlib.pyplot as plt\n",
    "import seaborn as sns\n",
    "sns.set()"
   ]
  },
  {
   "cell_type": "code",
   "execution_count": 5,
   "metadata": {},
   "outputs": [
    {
     "data": {
      "text/plain": [
       "dict_keys(['data', 'target', 'frame', 'target_names', 'DESCR', 'feature_names', 'filename'])"
      ]
     },
     "execution_count": 5,
     "metadata": {},
     "output_type": "execute_result"
    }
   ],
   "source": [
    "# 読み込み\n",
    "from sklearn.datasets import load_iris\n",
    "iris_dataset = load_iris()\n",
    "iris_dataset.keys()"
   ]
  },
  {
   "cell_type": "code",
   "execution_count": 6,
   "metadata": {},
   "outputs": [
    {
     "name": "stdout",
     "output_type": "stream",
     "text": [
      "    sepal_length  sepal_width  petal_length  petal_width  target\n",
      "50           7.0          3.2           4.7          1.4       1\n",
      "51           6.4          3.2           4.5          1.5       1\n",
      "52           6.9          3.1           4.9          1.5       1\n",
      "     sepal_length  sepal_width  petal_length  petal_width  target\n",
      "147           6.5          3.0           5.2          2.0       2\n",
      "148           6.2          3.4           5.4          2.3       2\n",
      "149           5.9          3.0           5.1          1.8       2\n"
     ]
    }
   ],
   "source": [
    "# 準備\n",
    "\n",
    "# 得微量\n",
    "data_x = pd.DataFrame(iris_dataset[\"data\"])\n",
    "data_x.columns = [\"sepal_length\", \"sepal_width\", \"petal_length\", \"petal_width\"]\n",
    "\n",
    "#targetを読み込み、値を品種に変更。\n",
    "data_y = pd.DataFrame(iris_dataset[\"target\"])\n",
    "data_y.columns = [\"target\"]\n",
    "\n",
    "#1つのデータに結合、不要な要素を削除する。\n",
    "data_xy = pd.concat([data_x, data_y], axis=1) \n",
    "df = data_xy[data_xy[\"target\"] != 0]\n",
    "\n",
    "print(df.head(3))\n",
    "print(df.tail(3))"
   ]
  },
  {
   "cell_type": "code",
   "execution_count": 7,
   "metadata": {},
   "outputs": [
    {
     "data": {
      "image/png": "[encoded data removed]",
      "text/plain": [
       "<Figure size 1080x432 with 1 Axes>"
      ]
     },
     "metadata": {},
     "output_type": "display_data"
    }
   ],
   "source": [
    "fig = plt.figure(figsize=(15,6))\n",
    "ax1 = fig.add_subplot(1,1,1)\n",
    "ax1 = sns.scatterplot(\"sepal_length\",\"sepal_width\", data = df, hue = df[\"target\"])\n",
    "ax1 = sns.scatterplot(\"petal_length\", \"petal_width\", data = df, hue = df[\"target\"])"
   ]
  },
  {
   "cell_type": "code",
   "execution_count": 8,
   "metadata": {},
   "outputs": [
    {
     "name": "stdout",
     "output_type": "stream",
     "text": [
      "X_trainの訓練データ: 80 X_trainの特微量: 4 X_trainの値: [6.8 2.8 4.8 1.4]\n",
      "X_testの訓練データ : 20 X_testの特微量 : 4 X_testの値 : [6.6 3.  4.4 1.4]\n",
      "y_trainの訓練データ: 80 X_trainの特微量: 1 y_train値(10個): [1.0, 2.0, 1.0, 2.0, 2.0, 2.0, 1.0, 2.0, 2.0, 2.0]\n",
      "y_testの訓練データ : 20 X_testの特微量 : 1 y_testの値（10個）: [1.0, 1.0, 2.0, 1.0, 1.0, 2.0, 2.0, 1.0, 2.0, 2.0]\n"
     ]
    }
   ],
   "source": [
    "# 分割\n",
    "\n",
    "data = np.array(df)\n",
    "\n",
    "X_train, X_test, y_train, y_test = scratch_train_test_split(data[:,:4], data[:,4:], train_size=0.8, shuffle = True,  random_state=0)\n",
    "print(f\"X_trainの訓練データ: {X_train.shape[0]} X_trainの特微量: {X_train.shape[1]} X_trainの値: {X_train[0]}\")\n",
    "print(f\"X_testの訓練データ : {X_test.shape[0]} X_testの特微量 : {X_test.shape[1]} X_testの値 : {X_test[0]}\")\n",
    "print(f\"y_trainの訓練データ: {len(y_train)} X_trainの特微量: 1 y_train値(10個): {y_train[:10]}\")\n",
    "print(f\"y_testの訓練データ : {len(y_test)} X_testの特微量 : 1 y_testの値（10個）: {y_test[:10]}\")"
   ]
  },
  {
   "cell_type": "code",
   "execution_count": 9,
   "metadata": {},
   "outputs": [
    {
     "name": "stdout",
     "output_type": "stream",
     "text": [
      "データ数：(80, 4) X_test初期値:[6.6 3.  4.4 1.4] X_test変換値:[ 0.5314968   0.42944906 -0.62190048 -0.65921772]\n"
     ]
    }
   ],
   "source": [
    "# 標準化\n",
    "\n",
    "from sklearn.preprocessing import StandardScaler\n",
    "\n",
    "scaler = StandardScaler()\n",
    "scaler.fit(X_train) \n",
    "X_train_std = scaler.transform(X_train) \n",
    "X_test_std = scaler.transform(X_test)\n",
    "print(f\"データ数：{X_train.shape} X_test初期値:{X_test[0]} X_test変換値:{X_test_std[0]}\")"
   ]
  },
  {
   "cell_type": "markdown",
   "metadata": {},
   "source": [
    "### 2.1.2（解答）ロジスティック回帰(SGDClassifierクラス)"
   ]
  },
  {
   "cell_type": "code",
   "execution_count": 10,
   "metadata": {},
   "outputs": [
    {
     "name": "stdout",
     "output_type": "stream",
     "text": [
      "データ数：(80, 4) X_test初期値:[6.6 3.  4.4 1.4] X_test変換値:[ 0.5314968   0.42944906 -0.62190048 -0.65921772]\n",
      "予測値:[1. 1. 2. 1. 1. 2. 2. 1. 1. 2. 2. 1. 1. 1. 1. 2. 2. 2. 1. 1.]\n",
      "正解率:0.9\n"
     ]
    }
   ],
   "source": [
    "from sklearn.linear_model import SGDClassifier\n",
    "\n",
    "clf = SGDClassifier(loss=\"log\",max_iter=1000, tol=1e-3)\n",
    "clf = clf.fit(X_train_std, y_train)\n",
    "y_pred = clf.predict(X_test_std)\n",
    "clf_score = clf.score(X_test_std, y_test)\n",
    "print(f\"データ数：{X_train.shape} X_test初期値:{X_test[0]} X_test変換値:{X_test_std[0]}\")\n",
    "print(f\"予測値:{y_pred}\")\n",
    "print(f\"正解率:{clf_score}\")"
   ]
  },
  {
   "cell_type": "markdown",
   "metadata": {},
   "source": [
    "### 2.1.2（解答）SVM"
   ]
  },
  {
   "cell_type": "code",
   "execution_count": 11,
   "metadata": {},
   "outputs": [
    {
     "name": "stdout",
     "output_type": "stream",
     "text": [
      "データ数：(80, 4) X_test初期値:[6.6 3.  4.4 1.4] X_test変換値:[ 0.5314968   0.42944906 -0.62190048 -0.65921772]\n",
      "予測値:[1. 1. 2. 1. 1. 2. 2. 1. 2. 2. 2. 1. 1. 1. 1. 2. 2. 2. 1. 1.]\n",
      "正解率:0.95\n"
     ]
    }
   ],
   "source": [
    "from sklearn.svm import SVC\n",
    "svm = SVC(kernel='rbf', C=1.0)\n",
    "svm = svm.fit(X_train_std, y_train)\n",
    "y_pred = svm.predict(X_test_std)\n",
    "svm_score = svm.score(X_test_std, y_test)\n",
    "print(f\"データ数：{X_train.shape} X_test初期値:{X_test[0]} X_test変換値:{X_test_std[0]}\")\n",
    "print(f\"予測値:{y_pred}\")\n",
    "print(f\"正解率:{svm_score}\")"
   ]
  },
  {
   "cell_type": "markdown",
   "metadata": {},
   "source": [
    "### 2.1.2（解答）決定木"
   ]
  },
  {
   "cell_type": "code",
   "execution_count": 12,
   "metadata": {},
   "outputs": [
    {
     "name": "stdout",
     "output_type": "stream",
     "text": [
      "データ数：(80, 4) X_test初期値:[6.6 3.  4.4 1.4] X_test変換値:[ 0.5314968   0.42944906 -0.62190048 -0.65921772]\n",
      "予測値:[1. 1. 2. 1. 1. 2. 2. 1. 1. 2. 2. 1. 1. 1. 1. 2. 2. 2. 1. 1.]\n",
      "正解率:0.9\n"
     ]
    }
   ],
   "source": [
    "from sklearn.tree import DecisionTreeClassifier\n",
    "tree = DecisionTreeClassifier(max_depth=3)\n",
    "tree = tree.fit(X_train, y_train)\n",
    "y_pred = tree.predict(X_test)\n",
    "tree_score = tree.score(X_test, y_test)\n",
    "print(f\"データ数：{X_train.shape} X_test初期値:{X_test[0]} X_test変換値:{X_test_std[0]}\")\n",
    "print(f\"予測値:{y_pred}\")\n",
    "print(f\"正解率:{tree_score}\")"
   ]
  },
  {
   "cell_type": "markdown",
   "metadata": {},
   "source": [
    "### 2.2.1（課題）\n",
    "2つ目は下記、シンプルデータセット1トです。"
   ]
  },
  {
   "cell_type": "code",
   "execution_count": 13,
   "metadata": {},
   "outputs": [],
   "source": [
    "# シンプルデータセット1作成コード\n",
    "import numpy as np\n",
    "np.random.seed(seed=0)\n",
    "n_samples = 500\n",
    "f0 = [-1, 2]\n",
    "f1 = [2, -1]\n",
    "cov = [[1.0,0.8], [0.8, 1.0]]\n",
    "f0 = np.random.multivariate_normal(f0, cov, int(n_samples/2))\n",
    "f1 = np.random.multivariate_normal(f1, cov, int(n_samples/2))\n",
    "X = np.concatenate((f0, f1))\n",
    "y = np.concatenate((np.ones((int(n_samples/2))), np.ones((int(n_samples/2))) *(-1))).astype(np.int)\n",
    "random_index = np.random.permutation(np.arange(n_samples))\n",
    "X = X[random_index]\n",
    "y = y[random_index]"
   ]
  },
  {
   "cell_type": "code",
   "execution_count": 14,
   "metadata": {},
   "outputs": [
    {
     "name": "stdout",
     "output_type": "stream",
     "text": [
      "X_trainの訓練データ: 400 X_trainの特微量: 2 X_trainの値: [3.63463384 0.82664981]\n",
      "X_testの訓練データ : 100 X_testの特微量 : 2 X_testの値 : [ 2.51343386 -0.8541926 ]\n",
      "y_trainの訓練データ: 400 X_trainの特微量: 1 y_train値(10個): [-1.0, 1.0, 1.0, -1.0, -1.0, 1.0, 1.0, -1.0, -1.0, 1.0]\n",
      "y_testの訓練データ : 100 X_testの特微量 : 1 y_testの値（10個）: [-1.0, -1.0, 1.0, 1.0, 1.0, -1.0, -1.0, -1.0, 1.0, 1.0]\n"
     ]
    }
   ],
   "source": [
    "# 分割\n",
    "\n",
    "data = np.array(df)\n",
    "\n",
    "X_train, X_test, y_train, y_test = scratch_train_test_split(X, y, train_size=0.8, shuffle = True,  random_state=0)\n",
    "print(f\"X_trainの訓練データ: {X_train.shape[0]} X_trainの特微量: {X_train.shape[1]} X_trainの値: {X_train[0]}\")\n",
    "print(f\"X_testの訓練データ : {X_test.shape[0]} X_testの特微量 : {X_test.shape[1]} X_testの値 : {X_test[0]}\")\n",
    "print(f\"y_trainの訓練データ: {len(y_train)} X_trainの特微量: 1 y_train値(10個): {y_train[:10]}\")\n",
    "print(f\"y_testの訓練データ : {len(y_test)} X_testの特微量 : 1 y_testの値（10個）: {y_test[:10]}\")"
   ]
  },
  {
   "cell_type": "code",
   "execution_count": 15,
   "metadata": {},
   "outputs": [
    {
     "name": "stdout",
     "output_type": "stream",
     "text": [
      "データ数：(400, 2) X_test初期値:[ 2.51343386 -0.8541926 ] X_test変換値:[ 1.12683737 -0.81625467]\n"
     ]
    }
   ],
   "source": [
    "# 標準化\n",
    "\n",
    "from sklearn.preprocessing import StandardScaler\n",
    "\n",
    "scaler = StandardScaler()\n",
    "scaler.fit(X_train) \n",
    "X_train_std = scaler.transform(X_train) \n",
    "X_test_std = scaler.transform(X_test)\n",
    "print(f\"データ数：{X_train.shape} X_test初期値:{X_test[0]} X_test変換値:{X_test_std[0]}\")"
   ]
  },
  {
   "cell_type": "markdown",
   "metadata": {},
   "source": [
    "### 2.2.2（解答）ロジスティック回帰(SGDClassifierクラス)"
   ]
  },
  {
   "cell_type": "code",
   "execution_count": 16,
   "metadata": {},
   "outputs": [
    {
     "name": "stdout",
     "output_type": "stream",
     "text": [
      "データ数：(400, 2) X_test初期値:[ 2.51343386 -0.8541926 ] X_test変換値:[ 1.12683737 -0.81625467]\n",
      "予測値:[-1. -1.  1.  1.  1. -1. -1. -1.  1.  1.  1. -1. -1. -1.  1.  1.  1.  1.\n",
      "  1. -1.  1.  1.  1.  1.  1. -1. -1.  1.  1. -1.  1.  1. -1. -1.  1. -1.\n",
      " -1. -1. -1.  1. -1.  1.  1. -1. -1.  1.  1.  1. -1. -1.  1. -1. -1. -1.\n",
      "  1. -1.  1. -1. -1. -1. -1. -1.  1. -1.  1. -1. -1. -1. -1.  1.  1. -1.\n",
      " -1. -1. -1. -1. -1.  1. -1. -1. -1. -1. -1.  1. -1. -1.  1.  1.  1. -1.\n",
      "  1. -1. -1. -1.  1.  1. -1.  1.  1. -1.]\n",
      "正解率:1.0\n"
     ]
    }
   ],
   "source": [
    "from sklearn.linear_model import SGDClassifier\n",
    "\n",
    "clf = SGDClassifier(loss=\"log\",max_iter=1000, tol=1e-3)\n",
    "clf = clf.fit(X_train_std, y_train)\n",
    "y_pred = clf.predict(X_test_std)\n",
    "clf_score = clf.score(X_test_std, y_test)\n",
    "print(f\"データ数：{X_train.shape} X_test初期値:{X_test[0]} X_test変換値:{X_test_std[0]}\")\n",
    "print(f\"予測値:{y_pred}\")\n",
    "print(f\"正解率:{clf_score}\")"
   ]
  },
  {
   "cell_type": "markdown",
   "metadata": {},
   "source": [
    "### 2.3.2（解答）SVM"
   ]
  },
  {
   "cell_type": "code",
   "execution_count": 17,
   "metadata": {},
   "outputs": [
    {
     "name": "stdout",
     "output_type": "stream",
     "text": [
      "データ数：(400, 2) X_test初期値:[ 2.51343386 -0.8541926 ] X_test変換値:[ 1.12683737 -0.81625467]\n",
      "予測値:[-1. -1.  1.  1.  1. -1. -1. -1.  1.  1.  1. -1. -1. -1.  1.  1.  1.  1.\n",
      "  1. -1.  1.  1.  1.  1.  1. -1. -1.  1.  1. -1.  1.  1. -1. -1.  1. -1.\n",
      " -1. -1. -1.  1. -1.  1.  1. -1. -1.  1.  1.  1. -1. -1.  1. -1. -1. -1.\n",
      "  1. -1.  1. -1. -1. -1. -1. -1.  1. -1.  1. -1. -1. -1. -1.  1.  1. -1.\n",
      " -1. -1. -1. -1. -1.  1. -1. -1. -1. -1. -1.  1. -1. -1.  1.  1.  1. -1.\n",
      "  1. -1. -1. -1.  1.  1. -1.  1.  1. -1.]\n",
      "正解率:0.95\n"
     ]
    }
   ],
   "source": [
    "from sklearn.svm import SVC\n",
    "svm = SVC(kernel='rbf', C=1.0)\n",
    "svm = svm.fit(X_train_std, y_train)\n",
    "y_pred1 = svm.predict(X_test_std)\n",
    "svm_score1 = svm.score(X_test_std, y_test)\n",
    "print(f\"データ数：{X_train.shape} X_test初期値:{X_test[0]} X_test変換値:{X_test_std[0]}\")\n",
    "print(f\"予測値:{y_pred}\")\n",
    "print(f\"正解率:{svm_score}\")"
   ]
  },
  {
   "cell_type": "markdown",
   "metadata": {},
   "source": [
    "### 2.2.2（解答）決定木"
   ]
  },
  {
   "cell_type": "code",
   "execution_count": 18,
   "metadata": {},
   "outputs": [
    {
     "name": "stdout",
     "output_type": "stream",
     "text": [
      "データ数：(400, 2) X_test初期値:[ 2.51343386 -0.8541926 ] X_test変換値:[ 1.12683737 -0.81625467]\n",
      "予測値:[-1. -1.  1.  1.  1. -1. -1. -1.  1.  1.  1. -1. -1. -1.  1.  1.  1.  1.\n",
      "  1. -1.  1.  1.  1.  1.  1. -1. -1.  1.  1. -1.  1.  1. -1. -1.  1. -1.\n",
      " -1. -1. -1.  1. -1.  1.  1. -1. -1.  1.  1.  1. -1. -1.  1. -1. -1. -1.\n",
      "  1. -1.  1. -1. -1. -1. -1. -1.  1. -1.  1. -1. -1. -1. -1.  1.  1. -1.\n",
      " -1. -1. -1. -1. -1.  1. -1. -1. -1. -1. -1.  1. -1. -1.  1.  1.  1. -1.\n",
      "  1. -1. -1. -1.  1.  1. -1.  1.  1. -1.]\n",
      "正解率:1.0\n"
     ]
    }
   ],
   "source": [
    "from sklearn.tree import DecisionTreeClassifier\n",
    "tree = DecisionTreeClassifier(max_depth=3)\n",
    "tree = tree.fit(X_train, y_train)\n",
    "y_pred = tree.predict(X_test)\n",
    "tree_score = tree.score(X_test, y_test)\n",
    "print(f\"データ数：{X_train.shape} X_test初期値:{X_test[0]} X_test変換値:{X_test_std[0]}\")\n",
    "print(f\"予測値:{y_pred}\")\n",
    "print(f\"正解率:{tree_score}\")"
   ]
  },
  {
   "cell_type": "markdown",
   "metadata": {},
   "source": [
    "### 2.3.1（課題）\n",
    "3つ目は下記、シンプルデータセット2トです。"
   ]
  },
  {
   "cell_type": "code",
   "execution_count": 19,
   "metadata": {},
   "outputs": [],
   "source": [
    "# シンプルデータセット2作成コード\n",
    "X = np.array([[-0.44699 , -2.8073  ],[-1.4621  , -2.4586  ],\n",
    "       [ 0.10645 ,  1.9242  ],[-3.5944  , -4.0112  ],\n",
    "       [-0.9888  ,  4.5718  ],[-3.1625  , -3.9606  ],\n",
    "       [ 0.56421 ,  0.72888 ],[-0.60216 ,  8.4636  ],\n",
    "       [-0.61251 , -0.75345 ],[-0.73535 , -2.2718  ],\n",
    "       [-0.80647 , -2.2135  ],[ 0.86291 ,  2.3946  ],\n",
    "       [-3.1108  ,  0.15394 ],[-2.9362  ,  2.5462  ],\n",
    "       [-0.57242 , -2.9915  ],[ 1.4771  ,  3.4896  ],\n",
    "       [ 0.58619 ,  0.37158 ],[ 0.6017  ,  4.3439  ],\n",
    "       [-2.1086  ,  8.3428  ],[-4.1013  , -4.353   ],\n",
    "       [-1.9948  , -1.3927  ],[ 0.35084 , -0.031994],\n",
    "       [ 0.96765 ,  7.8929  ],[-1.281   , 15.6824  ],\n",
    "       [ 0.96765 , 10.083   ],[ 1.3763  ,  1.3347  ],\n",
    "       [-2.234   , -2.5323  ],[-2.9452  , -1.8219  ],\n",
    "       [ 0.14654 , -0.28733 ],[ 0.5461  ,  5.8245  ],\n",
    "       [-0.65259 ,  9.3444  ],[ 0.59912 ,  5.3524  ],\n",
    "       [ 0.50214 , -0.31818 ],[-3.0603  , -3.6461  ],\n",
    "       [-6.6797  ,  0.67661 ],[-2.353   , -0.72261 ],\n",
    "       [ 1.1319  ,  2.4023  ],[-0.12243 ,  9.0162  ],\n",
    "       [-2.5677  , 13.1779  ],[ 0.057313,  5.4681  ]])\n",
    "y = np.array([0, 0, 0, 0, 0, 0, 0, 0, 0, 0, 0, 0, 0, 0, 0, 0, 0, 0, 0, 0, 1, 1,\n",
    "       1, 1, 1, 1, 1, 1, 1, 1, 1, 1, 1, 1, 1, 1, 1, 1, 1, 1])"
   ]
  },
  {
   "cell_type": "code",
   "execution_count": 20,
   "metadata": {},
   "outputs": [
    {
     "name": "stdout",
     "output_type": "stream",
     "text": [
      "X_trainの訓練データ: 32 X_trainの特微量: 2 X_trainの値: [0.96765 7.8929 ]\n",
      "X_testの訓練データ : 8 X_testの特微量 : 2 X_testの値 : [0.56421 0.72888]\n",
      "y_trainの訓練データ: 32 X_trainの特微量: 1 y_train値(10個): [1.0, 1.0, 1.0, 0.0, 0.0, 0.0, 1.0, 0.0, 0.0, 1.0]\n",
      "y_testの訓練データ : 8 X_testの特微量 : 1 y_testの値（10個）: [0.0, 1.0, 1.0, 0.0, 0.0, 1.0, 0.0, 0.0]\n"
     ]
    }
   ],
   "source": [
    "# 分割\n",
    "\n",
    "data = np.array(df)\n",
    "\n",
    "X_train, X_test, y_train, y_test = scratch_train_test_split(X, y, train_size=0.8, shuffle = True,  random_state=0)\n",
    "print(f\"X_trainの訓練データ: {X_train.shape[0]} X_trainの特微量: {X_train.shape[1]} X_trainの値: {X_train[0]}\")\n",
    "print(f\"X_testの訓練データ : {X_test.shape[0]} X_testの特微量 : {X_test.shape[1]} X_testの値 : {X_test[0]}\")\n",
    "print(f\"y_trainの訓練データ: {len(y_train)} X_trainの特微量: 1 y_train値(10個): {y_train[:10]}\")\n",
    "print(f\"y_testの訓練データ : {len(y_test)} X_testの特微量 : 1 y_testの値（10個）: {y_test[:10]}\")"
   ]
  },
  {
   "cell_type": "code",
   "execution_count": 21,
   "metadata": {},
   "outputs": [
    {
     "name": "stdout",
     "output_type": "stream",
     "text": [
      "データ数：(32, 2) X_test初期値:[0.56421 0.72888] X_test変換値:[ 0.77600563 -0.35956792]\n"
     ]
    }
   ],
   "source": [
    "# 標準化\n",
    "\n",
    "from sklearn.preprocessing import StandardScaler\n",
    "\n",
    "scaler = StandardScaler()\n",
    "scaler.fit(X_train) \n",
    "X_train_std = scaler.transform(X_train) \n",
    "X_test_std = scaler.transform(X_test)\n",
    "print(f\"データ数：{X_train.shape} X_test初期値:{X_test[0]} X_test変換値:{X_test_std[0]}\")"
   ]
  },
  {
   "cell_type": "markdown",
   "metadata": {},
   "source": [
    "### 2.3.2（解答）ロジスティック回帰(SGDClassifierクラス)"
   ]
  },
  {
   "cell_type": "code",
   "execution_count": 22,
   "metadata": {},
   "outputs": [
    {
     "name": "stdout",
     "output_type": "stream",
     "text": [
      "データ数：(32, 2) X_test初期値:[0.56421 0.72888] X_test変換値:[ 0.77600563 -0.35956792]\n",
      "予測値:[0. 1. 0. 0. 0. 1. 0. 0.]\n",
      "正解率:0.875\n"
     ]
    }
   ],
   "source": [
    "from sklearn.linear_model import SGDClassifier\n",
    "\n",
    "clf = SGDClassifier(loss=\"log\",max_iter=1000, tol=1e-3)\n",
    "clf = clf.fit(X_train_std, y_train)\n",
    "y_pred = clf.predict(X_test_std)\n",
    "clf_score = clf.score(X_test_std, y_test)\n",
    "print(f\"データ数：{X_train.shape} X_test初期値:{X_test[0]} X_test変換値:{X_test_std[0]}\")\n",
    "print(f\"予測値:{y_pred}\")\n",
    "print(f\"正解率:{clf_score}\")"
   ]
  },
  {
   "cell_type": "markdown",
   "metadata": {},
   "source": [
    "### 2.3.2（解答）SVM"
   ]
  },
  {
   "cell_type": "code",
   "execution_count": 23,
   "metadata": {},
   "outputs": [
    {
     "name": "stdout",
     "output_type": "stream",
     "text": [
      "データ数：(32, 2) X_test初期値:[0.56421 0.72888] X_test変換値:[ 0.77600563 -0.35956792]\n",
      "予測値:[0. 1. 0. 0. 0. 1. 0. 0.]\n",
      "正解率:0.95\n"
     ]
    }
   ],
   "source": [
    "from sklearn.svm import SVC\n",
    "svm = SVC(kernel='rbf', C=1.0)\n",
    "svm = svm.fit(X_train_std, y_train)\n",
    "y_pred1 = svm.predict(X_test_std)\n",
    "svm_score1 = svm.score(X_test_std, y_test)\n",
    "print(f\"データ数：{X_train.shape} X_test初期値:{X_test[0]} X_test変換値:{X_test_std[0]}\")\n",
    "print(f\"予測値:{y_pred}\")\n",
    "print(f\"正解率:{svm_score}\")"
   ]
  },
  {
   "cell_type": "markdown",
   "metadata": {},
   "source": [
    "### 2.3.2（解答）決定木"
   ]
  },
  {
   "cell_type": "code",
   "execution_count": 24,
   "metadata": {},
   "outputs": [
    {
     "name": "stdout",
     "output_type": "stream",
     "text": [
      "データ数：(32, 2) X_test初期値:[0.56421 0.72888] X_test変換値:[ 0.77600563 -0.35956792]\n",
      "予測値:[0. 1. 0. 1. 0. 1. 1. 0.]\n",
      "正解率:0.625\n"
     ]
    }
   ],
   "source": [
    "from sklearn.tree import DecisionTreeClassifier\n",
    "tree = DecisionTreeClassifier(max_depth=3)\n",
    "tree = tree.fit(X_train_std, y_train)\n",
    "y_pred = tree.predict(X_test_std)\n",
    "tree_score = tree.score(X_test_std, y_test)\n",
    "print(f\"データ数：{X_train.shape} X_test初期値:{X_test[0]} X_test変換値:{X_test_std[0]}\")\n",
    "print(f\"予測値:{y_pred}\")\n",
    "print(f\"正解率:{tree_score}\")"
   ]
  },
  {
   "cell_type": "markdown",
   "metadata": {},
   "source": [
    "# 【問題3】 回帰問題を解くコードの作成\n",
    "線形回帰でHouse Pricesデータセットを学習・推定するコードを作成してください。"
   ]
  },
  {
   "cell_type": "markdown",
   "metadata": {},
   "source": [
    "## 回帰問題\n",
    "回帰は1種類をスクラッチします。\n",
    "\n",
    "- 線形回帰(SGDRegressorクラス)\n",
    "   https://scikit-learn.org/stable/modules/generated/sklearn.linear_model.SGDRegressor.html\n",
    "\n",
    "データセットは事前学習期間同様にHouse Pricesコンペティションのものを使います。  \n",
    "House Prices: Advanced Regression Techniques  \n",
    "https://www.kaggle.com/c/house-prices-advanced-regression-techniques/data  \n",
    "train.csvをダウンロードし、目的変数としてSalePrice、説明変数として、GrLivAreaとYearBuiltを使います。"
   ]
  },
  {
   "cell_type": "code",
   "execution_count": 31,
   "metadata": {},
   "outputs": [
    {
     "data": {
      "text/html": [
       "<div>\n",
       "<style scoped>\n",
       "    .dataframe tbody tr th:only-of-type {\n",
       "        vertical-align: middle;\n",
       "    }\n",
       "\n",
       "    .dataframe tbody tr th {\n",
       "        vertical-align: top;\n",
       "    }\n",
       "\n",
       "    .dataframe thead th {\n",
       "        text-align: right;\n",
       "    }\n",
       "</style>\n",
       "<table border=\"1\" class=\"dataframe\">\n",
       "  <thead>\n",
       "    <tr style=\"text-align: right;\">\n",
       "      <th></th>\n",
       "      <th>GrLivArea</th>\n",
       "      <th>YearBuilt</th>\n",
       "      <th>SalePrice</th>\n",
       "    </tr>\n",
       "  </thead>\n",
       "  <tbody>\n",
       "    <tr>\n",
       "      <th>0</th>\n",
       "      <td>1710</td>\n",
       "      <td>2003</td>\n",
       "      <td>208500</td>\n",
       "    </tr>\n",
       "    <tr>\n",
       "      <th>1</th>\n",
       "      <td>1262</td>\n",
       "      <td>1976</td>\n",
       "      <td>181500</td>\n",
       "    </tr>\n",
       "    <tr>\n",
       "      <th>2</th>\n",
       "      <td>1786</td>\n",
       "      <td>2001</td>\n",
       "      <td>223500</td>\n",
       "    </tr>\n",
       "    <tr>\n",
       "      <th>3</th>\n",
       "      <td>1717</td>\n",
       "      <td>1915</td>\n",
       "      <td>140000</td>\n",
       "    </tr>\n",
       "    <tr>\n",
       "      <th>4</th>\n",
       "      <td>2198</td>\n",
       "      <td>2000</td>\n",
       "      <td>250000</td>\n",
       "    </tr>\n",
       "  </tbody>\n",
       "</table>\n",
       "</div>"
      ],
      "text/plain": [
       "   GrLivArea  YearBuilt  SalePrice\n",
       "0       1710       2003     208500\n",
       "1       1262       1976     181500\n",
       "2       1786       2001     223500\n",
       "3       1717       1915     140000\n",
       "4       2198       2000     250000"
      ]
     },
     "execution_count": 31,
     "metadata": {},
     "output_type": "execute_result"
    }
   ],
   "source": [
    "data_master = pd.read_csv(\"sample_dataset/house-prices-advanced-regression-techniques/train.csv\")\n",
    "pf_master = pd.DataFrame(data_master)\n",
    "pf = pf_master[['GrLivArea', 'YearBuilt',\"SalePrice\"]]\n",
    "pf.head()"
   ]
  },
  {
   "cell_type": "code",
   "execution_count": 33,
   "metadata": {},
   "outputs": [
    {
     "name": "stdout",
     "output_type": "stream",
     "text": [
      "GrLivArea    0\n",
      "YearBuilt    0\n",
      "SalePrice    0\n",
      "dtype: int64\n"
     ]
    }
   ],
   "source": [
    "# 欠損値の確認\n",
    "print(pf.isnull().sum())"
   ]
  },
  {
   "cell_type": "code",
   "execution_count": 36,
   "metadata": {},
   "outputs": [
    {
     "data": {
      "image/png": "[encoded data removed]",
      "text/plain": [
       "<Figure size 1080x288 with 2 Axes>"
      ]
     },
     "metadata": {},
     "output_type": "display_data"
    }
   ],
   "source": [
    "# 分析\n",
    "fig = plt.figure(figsize=(15, 4))\n",
    "ax1 = fig.add_subplot(1, 2, 1)\n",
    "ax2 = fig.add_subplot(1, 2, 2)\n",
    "\n",
    "ax1.scatter(pf['GrLivArea'], pf['SalePrice'], color=\"skyblue\")\n",
    "ax1.set_title(\"GrLivArea : SalePrice\")\n",
    "ax1.set_xlabel(\"GrLivArea\")\n",
    "ax1.set_ylabel(\"Price\")\n",
    "ax1.grid(True)\n",
    "\n",
    "ax2.scatter(pf['YearBuilt'], pf['SalePrice'], color=\"pink\")\n",
    "ax2.set_title(\"YearBuilt : SalePrice\")\n",
    "ax2.set_xlabel(\"YearBuilt\")\n",
    "ax2.set_ylabel(\"Price\")\n",
    "ax2.grid(True)"
   ]
  },
  {
   "cell_type": "code",
   "execution_count": 41,
   "metadata": {},
   "outputs": [
    {
     "name": "stdout",
     "output_type": "stream",
     "text": [
      "X_trainの訓練データ: 1168 X_trainの特微量: 2 X_trainの値: [2515 1957]\n",
      "X_testの訓練データ : 292 X_testの特微量 : 2 X_testの値 : [1964 1976]\n",
      "y_trainの訓練データ: 1168 X_trainの特微量: 1 y_train値(10個): [200624, 133000, 110000, 192000, 88000, 85000, 282922, 141000, 745000, 148800]\n",
      "y_testの訓練データ : 292 X_testの特微量 : 1 y_testの値（10個）: [205000, 96500, 130000, 250000, 133900, 80500, 135000, 152000, 152000, 100000]\n"
     ]
    }
   ],
   "source": [
    "# 分割\n",
    "\n",
    "data = np.array(pf)\n",
    "X = np.array(data[:,:2])\n",
    "y = np.array(data[:,2:])\n",
    "\n",
    "X_train, X_test, y_train, y_test = scratch_train_test_split(X, y, train_size=0.8, shuffle = True,  random_state=0)\n",
    "print(f\"X_trainの訓練データ: {X_train.shape[0]} X_trainの特微量: {X_train.shape[1]} X_trainの値: {X_train[0]}\")\n",
    "print(f\"X_testの訓練データ : {X_test.shape[0]} X_testの特微量 : {X_test.shape[1]} X_testの値 : {X_test[0]}\")\n",
    "print(f\"y_trainの訓練データ: {len(y_train)} X_trainの特微量: 1 y_train値(10個): {y_train[:10]}\")\n",
    "print(f\"y_testの訓練データ : {len(y_test)} X_testの特微量 : 1 y_testの値（10個）: {y_test[:10]}\")"
   ]
  },
  {
   "cell_type": "code",
   "execution_count": 47,
   "metadata": {},
   "outputs": [
    {
     "data": {
      "text/plain": [
       "array([[200624],\n",
       "       [133000],\n",
       "       [110000],\n",
       "       ...,\n",
       "       [133000],\n",
       "       [222500],\n",
       "       [162500]])"
      ]
     },
     "execution_count": 47,
     "metadata": {},
     "output_type": "execute_result"
    }
   ],
   "source": [
    "np.array(y_train).reshape(-1,1)"
   ]
  },
  {
   "cell_type": "code",
   "execution_count": 59,
   "metadata": {},
   "outputs": [
    {
     "name": "stdout",
     "output_type": "stream",
     "text": [
      "Xデータ数：(1168, 2) X_test初期値:[1964 1976] X_test変換値:[0.81257343 0.15587731]\n",
      "yデータ数：1168 y_test初期値:[205000] y_test変換値:[0.2645713]\n"
     ]
    }
   ],
   "source": [
    "# 標準化\n",
    "from sklearn.preprocessing import StandardScaler\n",
    "\n",
    "scaler = StandardScaler()\n",
    "scaler.fit(X_train) \n",
    "X_train_std = scaler.transform(X_train)\n",
    "X_test_std = scaler.transform(X_test)\n",
    "\n",
    "y_train_nd = np.array(y_train).reshape(-1,1)\n",
    "y_test_nd = np.array(y_test).reshape(-1,1)\n",
    "\n",
    "scaler2 = StandardScaler()\n",
    "scaler2.fit(y_train_nd) \n",
    "y_train_std = scaler2.transform(y_train_nd)\n",
    "y_test_std = scaler2.transform(y_test_nd)\n",
    "\n",
    "print(f\"Xデータ数：{X_train.shape} X_test初期値:{X_test[0]} X_test変換値:{X_test_std[0]}\")\n",
    "print(f\"yデータ数：{len(y_train)} y_test初期値:{y_test_nd[0]} y_test変換値:{y_test_std[0]}\")"
   ]
  },
  {
   "cell_type": "code",
   "execution_count": 65,
   "metadata": {},
   "outputs": [
    {
     "name": "stdout",
     "output_type": "stream",
     "text": [
      "データ数：(1168, 2) X_test初期値:[1964 1976] X_test変換値:[0.81257343 0.15587731] X_test復元後:[1964. 1976.]\n",
      "予測値:0.5707031787890045 y_pred復元値:229907.06458659732\n",
      "正解率:0.875\n"
     ]
    }
   ],
   "source": [
    "from sklearn.linear_model import SGDRegressor\n",
    "\n",
    "reg = SGDRegressor(max_iter=1000, tol=1e-3)\n",
    "reg = reg.fit(X_train_std, y_train_std.ravel())\n",
    "y_pred = reg.predict(X_test_std)\n",
    "reg_score = reg.score(X_test_std, y_test_std)\n",
    "\n",
    "X_test_tf = scaler.inverse_transform(X_test_std)\n",
    "y_pred_tf = scaler2.inverse_transform(y_pred)\n",
    "\n",
    "print(f\"データ数：{X_train.shape} X_test初期値:{X_test[0]} X_test変換値:{X_test_std[0]} X_test復元後:{X_test_tf[0]}\")\n",
    "print(f\"予測値:{y_pred[0]} y_pred復元値:{y_pred_tf[0]}\")\n",
    "print(f\"正解率:{clf_score}\")"
   ]
  },
  {
   "cell_type": "code",
   "execution_count": 99,
   "metadata": {},
   "outputs": [
    {
     "name": "stdout",
     "output_type": "stream",
     "text": [
      "coefficient =  0.7186932560379294\n",
      "intercept =  [-0.0028596]\n",
      "coefficient =  0.5209543593246673\n",
      "intercept =  [-0.00725106]\n"
     ]
    }
   ],
   "source": [
    "# GrLivArea線形モデル\n",
    "from sklearn.linear_model import LinearRegression\n",
    "x_plot = SGDRegressor(max_iter=1000, tol=1e-3)\n",
    "x_plot.fit(X_train_std[:,0].reshape(-1,1), y_train_std.ravel()) # 線形モデルの重みを学習\n",
    "print('coefficient = ', x_ploｔ.coef_[0]) # 説明変数の係数を出力\n",
    "print('intercept = ', x_plot.intercept_) # 切片を出力\n",
    "\n",
    "# YearBuilt線形モデル\n",
    "y_plot = SGDRegressor(max_iter=1000, tol=1e-3)\n",
    "y_plot.fit(X_train_std[:,1].reshape(-1,1), y_train_std.ravel()) # 線形モデルの重みを学習\n",
    "print('coefficient = ', y_ploｔ.coef_[0]) # 説明変数の係数を出力\n",
    "print('intercept = ', y_plot.intercept_) # 切片を出力"
   ]
  },
  {
   "cell_type": "code",
   "execution_count": 105,
   "metadata": {},
   "outputs": [
    {
     "data": {
      "image/png": "[encoded data removed]",
      "text/plain": [
       "<Figure size 1080x288 with 2 Axes>"
      ]
     },
     "metadata": {},
     "output_type": "display_data"
    }
   ],
   "source": [
    "# 分析\n",
    "fig = plt.figure(figsize=(15, 4))\n",
    "ax1 = fig.add_subplot(1, 2, 1)\n",
    "ax2 = fig.add_subplot(1, 2, 2)\n",
    "\n",
    "ax1.scatter(X_train_std[:,0], y_train_std, color=\"skyblue\")\n",
    "ax1.scatter(X_test_std[:,0], y_pred, color=\"blue\", marker=\"x\")\n",
    "ax1.plot(X_test_std[:,0], x_plot.predict(X_test_std[:,0].reshape(-1,1)), color = 'red') \n",
    "ax1.set_title(\"GrLivArea : SalePrice\")\n",
    "ax1.set_xlabel(\"GrLivArea\")\n",
    "ax1.set_ylabel(\"Price\")\n",
    "ax1.grid(True)\n",
    "\n",
    "ax2.scatter(X_train_std[:,1], y_train_std, color=\"pink\")\n",
    "ax2.scatter(X_test_std[:,1], y_pred, color=\"red\", marker=\"x\")\n",
    "ax2.plot(X_test_std[:,1], y_plot.predict(X_test_std[:,1].reshape(-1,1)), color = 'red') \n",
    "ax2.set_title(\"YearBuilt : SalePrice\")\n",
    "ax2.set_xlabel(\"YearBuilt\")\n",
    "ax2.set_ylabel(\"Price\")\n",
    "ax2.grid(True)"
   ]
  }
 ],
 "metadata": {
  "kernelspec": {
   "display_name": "Python 3",
   "language": "python",
   "name": "python3"
  },
  "language_info": {
   "codemirror_mode": {
    "name": "ipython",
    "version": 3
   },
   "file_extension": ".py",
   "mimetype": "text/x-python",
   "name": "python",
   "nbconvert_exporter": "python",
   "pygments_lexer": "ipython3",
   "version": "3.8.3"
  }
 },
 "nbformat": 4,
 "nbformat_minor": 4
}
