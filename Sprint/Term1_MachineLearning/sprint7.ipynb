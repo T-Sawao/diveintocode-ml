{
 "cells": [
  {
   "cell_type": "markdown",
   "metadata": {},
   "source": [
    "# term1_sprint7 機械学習スクラッチ クラスタリング"
   ]
  },
  {
   "cell_type": "markdown",
   "metadata": {},
   "source": [
    "## 2.K-meansスクラッチ\n",
    "\n",
    "K-meansのクラスをスクラッチで作成していきます。NumPyなど最低限のライブラリのみを使いアルゴリズムを実装していきます。\n",
    "\n",
    "\n",
    "以下に雛形を用意してあります。このScratchKMeansクラスにコードを書き加えていってください。  \n",
    "\n",
    "《雛形》"
   ]
  },
  {
   "cell_type": "code",
   "execution_count": 1,
   "metadata": {},
   "outputs": [],
   "source": [
    "class ScratchKMeans():\n",
    "    \"\"\"\n",
    "    K-meansのスクラッチ実装\n",
    "\n",
    "    Parameters\n",
    "    ----------\n",
    "    n_clusters : int\n",
    "      クラスタ数\n",
    "    n_init : int\n",
    "      中心点の初期値を何回変えて計算するか\n",
    "    max_iter : int\n",
    "      1回の計算で最大何イテレーションするか\n",
    "    tol : float\n",
    "      イテレーションを終了する基準となる中心点と重心の許容誤差\n",
    "    verbose : bool\n",
    "      学習過程を出力する場合はTrue\n",
    "    \"\"\"\n",
    "    def __init__(self, n_clusters, n_init, max_iter, tol, verbose=False):\n",
    "        # ハイパーパラメータを属性として記録\n",
    "        self.n_clusters = n_clusters\n",
    "        self.n_init = n_init\n",
    "        self.max_iter = max_iter\n",
    "        self.tol = tol\n",
    "        self.verbose = verbose\n",
    "    def fit(self, X):\n",
    "        \"\"\"\n",
    "        K-meansによるクラスタリングを計算\n",
    "        Parameters\n",
    "        ----------\n",
    "        X : 次の形のndarray, shape (n_samples, n_features)\n",
    "            訓練データの特徴量\n",
    "        \"\"\"\n",
    "        if self.verbose:\n",
    "            #verboseをTrueにした際は学習過程を出力\n",
    "            print()\n",
    "        pass\n",
    "    def predict(self, X):\n",
    "        \"\"\"\n",
    "        入力されたデータがどのクラスタに属するかを計算\n",
    "        \"\"\"\n",
    "        pass\n",
    "        return"
   ]
  },
  {
   "cell_type": "markdown",
   "metadata": {},
   "source": [
    "## クラスタリングのための人工データセット\n",
    "クラスタリングを実験するための人工データセットを作成するコードを用意しています。\n",
    "\n",
    "\n",
    "このmake_blobs関数は正解ラベルも出力してますが、今回は使用しません。使用しないことを明示するために、 _（アンダースコア） で受け取っています。\n",
    "\n",
    "《シンプルデータセット3》"
   ]
  },
  {
   "cell_type": "code",
   "execution_count": 2,
   "metadata": {},
   "outputs": [],
   "source": [
    "import numpy as np\n",
    "import pandas as pd\n",
    "import matplotlib.pyplot as plt"
   ]
  },
  {
   "cell_type": "code",
   "execution_count": 3,
   "metadata": {},
   "outputs": [
    {
     "data": {
      "text/plain": [
       "array([[ 0.72086751,  3.71347124],\n",
       "       [-1.89468423,  7.96898545],\n",
       "       [ 1.35678894,  4.36462484],\n",
       "       [ 1.05374379,  4.49286859],\n",
       "       [ 1.59141542,  4.90497725],\n",
       "       [ 0.78260667,  4.15263595],\n",
       "       [-1.95751686,  3.87291474],\n",
       "       [-0.77354537,  7.87923564],\n",
       "       [ 0.12313498,  5.27917503],\n",
       "       [-1.43284669,  7.71577043]])"
      ]
     },
     "execution_count": 3,
     "metadata": {},
     "output_type": "execute_result"
    }
   ],
   "source": [
    "from sklearn.datasets import make_blobs\n",
    "X, _ = make_blobs(n_samples=100, n_features=2, centers=4, cluster_std=0.5, shuffle=True, random_state=0)\n",
    "X[:10]"
   ]
  },
  {
   "cell_type": "markdown",
   "metadata": {},
   "source": [
    "## 学習\n",
    "K-meansの学習に必要な要素を順番に作成していきます。\n",
    "\n",
    "## 【問題1】中心点の初期値を決める\n",
    "入力されたデータから $K$ 個の中心点 $\\mu_1$ から $\\mu_K$ の初期値を決めるコードを作成してください。$K$ は指定したクラスタ数です。\n",
    "\n",
    "\n",
    "最もシンプルな初期値の決定方法は、データ点 $X_n$ の中からランダムに $K$ 個選ぶことです。今回はこれを実装してください。\n",
    "\n",
    "\n",
    "K-meansの学習結果は中心点 $\\mu$ の初期値に影響を受けます。そのため、学習時には複数個の初期値で計算を行います。"
   ]
  },
  {
   "cell_type": "markdown",
   "metadata": {},
   "source": [
    "### 1.1.1（データセットの分析）"
   ]
  },
  {
   "cell_type": "code",
   "execution_count": 4,
   "metadata": {},
   "outputs": [
    {
     "name": "stdout",
     "output_type": "stream",
     "text": [
      "配列 (100, 2)\n"
     ]
    }
   ],
   "source": [
    "print(\"配列\",X.shape)"
   ]
  },
  {
   "cell_type": "code",
   "execution_count": 5,
   "metadata": {},
   "outputs": [
    {
     "data": {
      "text/plain": [
       "<matplotlib.collections.PathCollection at 0x11f0f8700>"
      ]
     },
     "execution_count": 5,
     "metadata": {},
     "output_type": "execute_result"
    },
    {
     "data": {
      "image/png": "[encoded data removed]",
      "text/plain": [
       "<Figure size 432x288 with 1 Axes>"
      ]
     },
     "metadata": {
      "needs_background": "light"
     },
     "output_type": "display_data"
    }
   ],
   "source": [
    "plt.scatter(X[:,0],X[:,1], c=\"black\",s=10,alpha=0.5)"
   ]
  },
  {
   "cell_type": "markdown",
   "metadata": {},
   "source": [
    "何となく４つに分類できるかも。"
   ]
  },
  {
   "cell_type": "markdown",
   "metadata": {},
   "source": [
    "### 1.2.1（解答）"
   ]
  },
  {
   "cell_type": "code",
   "execution_count": 6,
   "metadata": {},
   "outputs": [
    {
     "data": {
      "text/plain": [
       "array([[ 1.85367905,  1.5088862 ],\n",
       "       [-1.26789718,  7.25141327],\n",
       "       [ 0.92466065,  4.50908658],\n",
       "       [-1.43284669,  7.71577043]])"
      ]
     },
     "execution_count": 6,
     "metadata": {},
     "output_type": "execute_result"
    }
   ],
   "source": [
    "np.random.seed(1)\n",
    "centers = np.array(X[np.random.randint(0,len(X),4)])\n",
    "\n",
    "centers"
   ]
  },
  {
   "cell_type": "code",
   "execution_count": 7,
   "metadata": {},
   "outputs": [
    {
     "data": {
      "text/plain": [
       "<matplotlib.collections.PathCollection at 0x11f1f89a0>"
      ]
     },
     "execution_count": 7,
     "metadata": {},
     "output_type": "execute_result"
    },
    {
     "data": {
      "image/png": "[encoded data removed]",
      "text/plain": [
       "<Figure size 432x288 with 1 Axes>"
      ]
     },
     "metadata": {
      "needs_background": "light"
     },
     "output_type": "display_data"
    }
   ],
   "source": [
    "# サンプルデータの位置\n",
    "plt.scatter(X[:,0],X[:,1], c=\"black\",s=10,alpha=0.5)\n",
    "# 中心点の初期値\n",
    "plt.scatter(centers[:,0],centers[:,1], c=\"red\",s=40,alpha=0.5)"
   ]
  },
  {
   "cell_type": "markdown",
   "metadata": {},
   "source": [
    "## 【問題2】SSEを求める関数の作成\n",
    "クラスタ内誤差平方和（SSE, Sum of Squared Errors）を計算する関数を作成してください。\n",
    "\n",
    "\n",
    "K-meansはこのSSEを最小化する$rnk$と$μk$を求めることが目的となります。複数個の初期値で計算したクラスタリング結果から、どれを最終的に採用するかを決める際にこのSSEを求める関数を使用します。\n",
    "\n",
    "$$SSE = \\sum_{n=1}^N \\sum_{k=1}^K r_{nk} \\|X_n - \\mu_k\\|^2$$\n",
    "\n",
    "n\n",
    " : データ点のインデックス\n",
    "\n",
    "\n",
    "k\n",
    " : クラスタのインデックス\n",
    "\n",
    "\n",
    "X\n",
    "n\n",
    " : \n",
    "n\n",
    "番目のデータ点\n",
    "\n",
    "\n",
    "μ\n",
    "k\n",
    " : \n",
    "k\n",
    "番目の中心点\n",
    "\n",
    "\n",
    "r\n",
    "n\n",
    "k\n",
    " : データ点\n",
    "X\n",
    "n\n",
    "がクラスタ\n",
    "k\n",
    "に所属していたら1、そうでなければ0\n",
    "\n",
    "\n",
    "### クラスタの割り当てと中心点の移動を繰り返す  \n",
    "K-meansの学習の基本は以下の2つのフェーズを繰り返すことです。\n",
    "\n",
    "\n",
    "中心点 \n",
    "μ\n",
    "k\n",
    " を固定した上で \n",
    "S\n",
    "S\n",
    "E\n",
    " を最小化する クラスタの割り当て \n",
    "r\n",
    "n\n",
    "k\n",
    " を選ぶ。\n",
    "クラスタの割り当て \n",
    "r\n",
    "n\n",
    "k\n",
    " を固定した上で \n",
    "S\n",
    "S\n",
    "E\n",
    " を最小化する 中心点 \n",
    "μ\n",
    "k\n",
    " を選ぶ。\n",
    "\n",
    "最初の中心点 \n",
    "μ\n",
    "k\n",
    " は問題1で作成した初期値です。\n",
    "\n",
    "\n",
    "順番に見ていきます。\n"
   ]
  },
  {
   "cell_type": "markdown",
   "metadata": {},
   "source": [
    "## 【問題3】クラスタへの割り当て\n",
    "全てのデータ点 \n",
    "X\n",
    "n\n",
    " を最も近い中心点 \n",
    "μ\n",
    "k\n",
    " に割り当てるコードを作成してください。\n",
    "\n",
    "\n",
    "K-menasにおける 近い とは点と点のユークリッド距離が小さくなることです。ユークリッド距離とはピタゴラスの定理（三平方の定理）で求められるものですが、ベクトル \n",
    "p\n",
    ",\n",
    "q\n",
    " に対しては以下の数式で表現できます。\n",
    " \n",
    "$$\\|q-p\\| = \\sqrt{(q-p)\\cdot(q-p)}$$\n",
    " \n",
    "NumPyにはこの関数がnp.linalg.normとして用意されているため使用してください。\n",
    "\n",
    "\n",
    "numpy.linalg.norm — NumPy v1.17 Manual  \n",
    "https://docs.scipy.org/doc/numpy/reference/generated/numpy.linalg.norm.html\n",
    "\n",
    "\n",
    "中心点 \n",
    "μ\n",
    "k\n",
    " を固定した上でSSEを最小化していることになりますが、SSE自体を求める必要はありません。"
   ]
  },
  {
   "cell_type": "markdown",
   "metadata": {},
   "source": [
    "### 2.1.1（解答） 問題３の解答も含む"
   ]
  },
  {
   "cell_type": "markdown",
   "metadata": {},
   "source": [
    "#### 重心までの距離をsumを使って算出"
   ]
  },
  {
   "cell_type": "code",
   "execution_count": 8,
   "metadata": {},
   "outputs": [
    {
     "data": {
      "text/plain": [
       "array([2., 3., 2., 2., 2., 2., 2., 3., 2., 3., 1., 1., 1., 3., 1., 0., 0.,\n",
       "       2., 2., 0., 2., 3., 2., 0., 2., 2., 2., 2., 0., 0., 0., 1., 0., 0.,\n",
       "       2., 2., 3., 0., 3., 2., 2., 2., 1., 2., 2., 3., 0., 2., 2., 2., 2.,\n",
       "       0., 2., 2., 2., 1., 3., 0., 0., 3., 1., 0., 0., 2., 0., 3., 2., 2.,\n",
       "       0., 2., 3., 0., 2., 3., 2., 2., 2., 2., 0., 0., 0., 3., 2., 2., 0.,\n",
       "       2., 0., 0., 2., 2., 2., 2., 2., 2., 2., 3., 3., 2., 3., 2.])"
      ]
     },
     "execution_count": 8,
     "metadata": {},
     "output_type": "execute_result"
    }
   ],
   "source": [
    "distance_list = []\n",
    "idx = np.zeros(X.shape[0])\n",
    "\n",
    "for i in range(X.shape[0]):\n",
    "    # 各データ点毎の重心までの距離\n",
    "    distance = np.sum((X[i,:] - centers)**2,axis=1)\n",
    "    # 各データ点毎のクラスタを返す\n",
    "    idx[i] = np.argmin(distance)\n",
    "    # リストに保管\n",
    "    distance_list.append(distance)\n",
    "idx"
   ]
  },
  {
   "cell_type": "markdown",
   "metadata": {},
   "source": [
    "### 2.1.2（別解） diver通りnp.linalg.normを使用"
   ]
  },
  {
   "cell_type": "code",
   "execution_count": 9,
   "metadata": {},
   "outputs": [
    {
     "data": {
      "text/plain": [
       "array([2, 3, 2, 2, 2, 2, 2, 3, 2, 3, 1, 1, 1, 3, 1, 0, 0, 2, 2, 0, 2, 3,\n",
       "       2, 0, 2, 2, 2, 2, 0, 0, 0, 1, 0, 0, 2, 2, 3, 0, 3, 2, 2, 2, 1, 2,\n",
       "       2, 3, 0, 2, 2, 2, 2, 0, 2, 2, 2, 1, 3, 0, 0, 3, 1, 0, 0, 2, 0, 3,\n",
       "       2, 2, 0, 2, 3, 0, 2, 3, 2, 2, 2, 2, 0, 0, 0, 3, 2, 2, 0, 2, 0, 0,\n",
       "       2, 2, 2, 2, 2, 2, 2, 3, 3, 2, 3, 2])"
      ]
     },
     "execution_count": 9,
     "metadata": {},
     "output_type": "execute_result"
    }
   ],
   "source": [
    "distance_matrix = np.zeros((X.shape[0],centers.shape[0]))\n",
    "\n",
    "for i in range(centers.shape[0]):\n",
    "    for j in range(X.shape[0]):\n",
    "        diff = centers[i] - X[j]\n",
    "        distance_matrix[j][i] = np.linalg.norm(diff, ord=2)\n",
    "new_labels = np.argmin(distance_matrix,axis=1)\n",
    "new_labels"
   ]
  },
  {
   "cell_type": "markdown",
   "metadata": {},
   "source": [
    "### 2.1.3（検証） 比較"
   ]
  },
  {
   "cell_type": "code",
   "execution_count": 10,
   "metadata": {},
   "outputs": [
    {
     "name": "stdout",
     "output_type": "stream",
     "text": [
      "set()\n"
     ]
    }
   ],
   "source": [
    "# 上記の２パターンの求めた値を比較\n",
    "sym_diff = set(idx) ^ set(new_labels)\n",
    "print(sym_diff)"
   ]
  },
  {
   "cell_type": "markdown",
   "metadata": {},
   "source": [
    "答えは一緒ではあるが、各値と重心までの距離は異なる。  \n",
    "今回は指定されているので、以降np.linalg.normを使用。"
   ]
  },
  {
   "cell_type": "markdown",
   "metadata": {},
   "source": [
    "## 問題７までの記述コードを記述したクラス"
   ]
  },
  {
   "cell_type": "code",
   "execution_count": 13,
   "metadata": {},
   "outputs": [],
   "source": [
    "# 記入用\n",
    "class ScratchKMeans():\n",
    "    \"\"\"\n",
    "    K-meansのスクラッチ実装\n",
    "\n",
    "    Parameters\n",
    "    ----------\n",
    "    n_clusters : int\n",
    "      クラスタ数\n",
    "    n_init : int\n",
    "      中心点の初期値を何回変えて計算するか\n",
    "    max_iter : int\n",
    "      1回の計算で最大何イテレーションするか\n",
    "    tol : float\n",
    "      イテレーションを終了する基準となる中心点と重心の許容誤差\n",
    "    verbose : bool\n",
    "      学習過程を出力する場合はTrue\n",
    "    \"\"\"\n",
    "    def __init__(self, n_clusters, n_init, max_iter, tol, verbose=False):\n",
    "        # ハイパーパラメータを属性として記録\n",
    "        self.n_clusters = n_clusters\n",
    "        self.n_init = n_init\n",
    "        self.max_iter = max_iter\n",
    "        self.tol = tol\n",
    "        self.verbose = verbose\n",
    "        \n",
    "    def fit(self, X):\n",
    "        \"\"\"\n",
    "        K-meansによるクラスタリングを計算\n",
    "        Parameters\n",
    "        ----------\n",
    "        X : 次の形のndarray, shape (n_samples, n_features)\n",
    "            訓練データの特徴量\n",
    "        \"\"\"\n",
    "        self.best_centers = None\n",
    "        self.best_score = 10000\n",
    "        \n",
    "        self.center = self.n_clusters\n",
    "           \n",
    "        # 問題６-------------------------------------------\n",
    "\n",
    "        for j in range(self.n_init):        \n",
    "            \n",
    "            # 問題5---------------------------------------\n",
    "            \n",
    "            for i in range(self.max_iter):\n",
    "                \n",
    "                # 問題１---------------------------\n",
    "                \n",
    "                self.X = np.array(X)\n",
    "                self.centers = np.array(X[np.random.randint(0,len(X),self.center)])\n",
    "\n",
    "                # -------------------------------\n",
    "                \n",
    "                distance_matrix = self._distance_matrix(self.X, self.centers)\n",
    "                new_labels = self._new_labels(distance_matrix)\n",
    "                sse_score = self._sse(distance_matrix, new_labels)\n",
    "#                 print(f\"sse_score{j+1}-{i+1}回目:{sse_score}\")\n",
    "                \n",
    "                if self.best_score > sse_score:\n",
    "                    self.best_score = sse_score\n",
    "                    self.best_centers = self.centers\n",
    "                \n",
    "                if self.tol > sse_score:\n",
    "                    break\n",
    "                else:\n",
    "                    self.centers = self._move(self.X, self.centers, new_labels)\n",
    "                    \n",
    "        return self.best_score\n",
    "            # -------------------------------------------\n",
    "\n",
    "        if self.verbose:\n",
    "            #verboseをTrueにした際は学習過程を出力\n",
    "            print()\n",
    "    # 問題3-----------------------------------------------\n",
    "    \n",
    "    def _distance_matrix(self,X,C):\n",
    "        distance_matrix = np.zeros((X.shape[0],C.shape[0]))\n",
    "        \n",
    "        for i in range(C.shape[0]):\n",
    "            for j in range(X.shape[0]):\n",
    "                diff = C[i] - X[j]\n",
    "                distance_matrix[j][i] = np.linalg.norm(diff, ord=2)\n",
    "        return distance_matrix       \n",
    "                \n",
    "    def _new_labels(self,X):\n",
    "        return np.argmin(X,axis=1)\n",
    "            \n",
    "    # 問題4-------------------------------------------------\n",
    "    \n",
    "    def _move(self,X, C, label):\n",
    "        for i in range(len(C)):\n",
    "            a = X[label==i,:].mean(axis=0)\n",
    "        return a\n",
    "        \n",
    "    # 問題２-------------------------------------------------\n",
    "    \n",
    "    def _sse(self, X, K):\n",
    "        sse = 0\n",
    "        \n",
    "        for i, labels in enumerate(K):\n",
    "            sse += X[i,labels]\n",
    "        return sse\n",
    "    \n",
    "    # -----------------------------------------------------\n",
    "    def predict(self, X):\n",
    "        \"\"\"\n",
    "        入力されたデータがどのクラスタに属するかを計算\n",
    "        \"\"\"\n",
    "        distance_matrix = self._distance_matrix(X, self.best_centers)\n",
    "        new_labels = self._new_labels(distance_matrix)\n",
    "        return new_labels, self.best_centers"
   ]
  },
  {
   "cell_type": "markdown",
   "metadata": {},
   "source": [
    "## 【問題4】中心点の移動\n",
    "中心点 \n",
    "μ\n",
    "k\n",
    " を \n",
    "k\n",
    " 番目のクラスタに割り当てられる全てのデータ点 \n",
    "X\n",
    "n\n",
    " の平均値（重心）に移動するコードを作成してください。\n",
    "\n",
    "\n",
    "クラスタの割り当て \n",
    "r\n",
    "n\n",
    "k\n",
    " を固定した上でSSEを最小化していることになりますが、SSE自体を求める必要はありません。"
   ]
  },
  {
   "cell_type": "markdown",
   "metadata": {},
   "source": [
    "## 【問題5】繰り返し\n",
    "クラスタへの割り当てと中心点の移動を繰り返すことで学習を行うコードを作成してください。\n",
    "\n",
    "\n",
    "次のどれかの条件を満たしたらこれを止めます。\n",
    "\n",
    "\n",
    "繰り返しが指定した回数に到達する。（雛形では引数max_iter）\n",
    "中心点 \n",
    "μ\n",
    "k\n",
    " と重心の差の合計が指定した許容値以下になる。（雛形では引数tol）"
   ]
  },
  {
   "cell_type": "markdown",
   "metadata": {},
   "source": [
    "## 【問題6】異なる初期値で計算\n",
    "問題5の繰り返しを、指定した回数初期値を変更して計算するコードを作成してください。回数は雛形では引数n_initで指定します。\n",
    "\n",
    "\n",
    "複数計算した中でSSEが最小になったものが最終的な学習結果となるため、その時の中心点 \n",
    "μ\n",
    "k\n",
    " を保持しておきます。"
   ]
  },
  {
   "cell_type": "markdown",
   "metadata": {},
   "source": [
    "### 6.1.1（解答)"
   ]
  },
  {
   "cell_type": "code",
   "execution_count": 14,
   "metadata": {},
   "outputs": [
    {
     "name": "stderr",
     "output_type": "stream",
     "text": [
      "<ipython-input-13-a49b744edd8d>:93: RuntimeWarning: Mean of empty slice.\n",
      "  a = X[label==i,:].mean(axis=0)\n",
      "/opt/anaconda3/lib/python3.8/site-packages/numpy/core/_methods.py:153: RuntimeWarning: invalid value encountered in true_divide\n",
      "  ret = um.true_divide(\n"
     ]
    },
    {
     "data": {
      "text/plain": [
       "113.22787309475068"
      ]
     },
     "execution_count": 14,
     "metadata": {},
     "output_type": "execute_result"
    }
   ],
   "source": [
    "skm = ScratchKMeans(n_clusters=4, n_init=3, max_iter=5, tol=10)\n",
    "skm.fit(X)"
   ]
  },
  {
   "cell_type": "markdown",
   "metadata": {},
   "source": [
    "## 【問題7】推定\n",
    "新たなデータに対してどのクラスタに所属するかの推定の際は、学習時の1つ目のフェーズと同じことを行います。\n",
    "\n",
    "\n",
    "データ点 \n",
    "X\n",
    "n\n",
    " と学習で決まった中心点 \n",
    "μ\n",
    "k\n",
    " に対し、 \n",
    "S\n",
    "S\n",
    "E\n",
    " を最小化する \n",
    "r\n",
    "n\n",
    "k\n",
    " を選ぶ。\n",
    "\n",
    "具体的には次のことです。\n",
    "\n",
    "\n",
    "データ点 \n",
    "X\n",
    "n\n",
    " を最も近い \n",
    "μ\n",
    "k\n",
    " に割り当てる。"
   ]
  },
  {
   "cell_type": "markdown",
   "metadata": {},
   "source": [
    "### 7.1.1（解答）"
   ]
  },
  {
   "cell_type": "code",
   "execution_count": 15,
   "metadata": {},
   "outputs": [
    {
     "data": {
      "text/plain": [
       "array([2, 1, 2, 2, 2, 2, 2, 1, 2, 1, 1, 1, 1, 1, 1, 3, 0, 2, 2, 3, 0, 1,\n",
       "       2, 3, 2, 2, 2, 2, 0, 3, 3, 1, 3, 0, 2, 2, 1, 3, 1, 2, 2, 2, 1, 2,\n",
       "       2, 1, 3, 2, 2, 2, 2, 3, 2, 2, 2, 1, 1, 3, 3, 1, 1, 3, 3, 2, 3, 1,\n",
       "       2, 2, 3, 2, 1, 3, 2, 1, 2, 0, 2, 2, 3, 3, 3, 1, 2, 2, 3, 2, 3, 3,\n",
       "       0, 2, 2, 2, 2, 2, 2, 1, 1, 2, 1, 2])"
      ]
     },
     "execution_count": 15,
     "metadata": {},
     "output_type": "execute_result"
    }
   ],
   "source": [
    "y_pred, centers = skm.predict(X)\n",
    "y_pred"
   ]
  },
  {
   "cell_type": "markdown",
   "metadata": {},
   "source": [
    "### 7.2.1（予備知識）"
   ]
  },
  {
   "cell_type": "code",
   "execution_count": 16,
   "metadata": {},
   "outputs": [
    {
     "data": {
      "image/png": "[encoded data removed]",
      "text/plain": [
       "<Figure size 1440x288 with 1 Axes>"
      ]
     },
     "metadata": {
      "needs_background": "light"
     },
     "output_type": "display_data"
    }
   ],
   "source": [
    "fig = plt.figure(figsize=(20,4))\n",
    "color_list = [\"pink\",\"skyblue\",\"lightgreen\",\"yellow\"]\n",
    "\n",
    "ax1 = fig.add_subplot(1,3,1)\n",
    "for i in range(centers.shape[0]):\n",
    "    group_i = (X[y_pred==i,:])\n",
    "    ax1.scatter(group_i[:,0],group_i[:,1],color=color_list[i])\n",
    "    ax1.scatter(centers[:,0],centers[:,1], c=\"r\",s=180,alpha=0.5,marker=\"*\")"
   ]
  },
  {
   "cell_type": "markdown",
   "metadata": {},
   "source": [
    "## 【問題8】エルボー法の実装\n",
    "K-meansにおいて中心点の個数 \n",
    "k\n",
    " は人為的に決める必要がありますが、その判断方法としてエルボー法があります。エルボー法により中心点の個数 \n",
    "k\n",
    " を検討するためのコードを作成してください。\n",
    "\n",
    "\n",
    "SSEを縦軸、クラスタ数 \n",
    "k\n",
    " を横軸にした折れ線グラフを表示します。このためにK-meansのインスタンスからはSSEを取得できるようにしてください。"
   ]
  },
  {
   "cell_type": "markdown",
   "metadata": {},
   "source": [
    "### 8.1.1（解答）"
   ]
  },
  {
   "cell_type": "code",
   "execution_count": 18,
   "metadata": {},
   "outputs": [
    {
     "name": "stderr",
     "output_type": "stream",
     "text": [
      "<ipython-input-13-a49b744edd8d>:93: RuntimeWarning: Mean of empty slice.\n",
      "  a = X[label==i,:].mean(axis=0)\n"
     ]
    },
    {
     "data": {
      "text/plain": [
       "[264.8268116729737,\n",
       " 204.4701656516373,\n",
       " 115.89606175668479,\n",
       " 77.9350981047922,\n",
       " 76.36204021864228,\n",
       " 62.76079375066863,\n",
       " 67.87985160768679,\n",
       " 54.0852810126413,\n",
       " 53.26855427676947,\n",
       " 51.15072317600694]"
      ]
     },
     "execution_count": 18,
     "metadata": {},
     "output_type": "execute_result"
    }
   ],
   "source": [
    "elbow = []\n",
    "\n",
    "for i in range(1,11):\n",
    "    skm = ScratchKMeans(n_clusters=i, n_init=3, max_iter=5, tol=10)\n",
    "    score = skm.fit(X)\n",
    "    elbow.append(score)\n",
    "elbow"
   ]
  },
  {
   "cell_type": "code",
   "execution_count": 19,
   "metadata": {},
   "outputs": [
    {
     "data": {
      "text/plain": [
       "Text(0, 0.5, 'SSE')"
      ]
     },
     "execution_count": 19,
     "metadata": {},
     "output_type": "execute_result"
    },
    {
     "data": {
      "image/png": "[encoded data removed]",
      "text/plain": [
       "<Figure size 432x288 with 1 Axes>"
      ]
     },
     "metadata": {
      "needs_background": "light"
     },
     "output_type": "display_data"
    }
   ],
   "source": [
    "plt.plot(range(1,11), elbow, marker='o')\n",
    "plt.xlabel('Number of clusters')\n",
    "plt.ylabel('SSE')"
   ]
  },
  {
   "cell_type": "markdown",
   "metadata": {},
   "source": [
    "## 【問題9】（アドバンス課題）シルエット図\n",
    "$k$を決める助けになるものとしてシルエット図もあります。シルエット図を表示するコードを作成してください。\n",
    "\n",
    "\n",
    "Matplotlibを使い図を表示するコードは用意しました。以下を与えてください。\n",
    "\n",
    "\n",
    "- silhouette_vals : shape(n_samples,)のndarray、各データ点のシルエット係数\n",
    "- silhouette_avg : float、シルエット係数の平均値\n",
    "- y_km : shape(n_samples,)のndarray、各データ点のクラスタラベル名\n",
    "- cluster_labels : list、クラスタのラベル名のリスト\n",
    "- n_clusters : int、クラスタ数  \n",
    "\n",
    "$n$番目のデータ点に対するシルエット係数  \n",
    "$sn$は以下の数式でを求められます。この数式を実装し、シルエット図を確認してください。\n",
    "\n",
    "$$s_n = \\frac{b_n-a_n}{max(b_n,a_n)}$$\n",
    "\n",
    "\n",
    "a\n",
    "n\n",
    " : 凝集度。同じクラスタ内の他のデータ点との距離の平均値。\n",
    "\n",
    "\n",
    "b\n",
    "n\n",
    " : 乖離度。最も近い他のクラスタ内の全てのデータ点との距離の平均値。\n",
    "\n",
    "\n",
    "乖離度 \n",
    "b\n",
    " が大きく、凝集度 \n",
    "a\n",
    " が小さい時が理想的であり、シルエット係数 \n",
    "s\n",
    " は1に近くなります。\n",
    "\n",
    "\n",
    "《シルエット図を表示するためのコード》"
   ]
  },
  {
   "cell_type": "raw",
   "metadata": {},
   "source": [
    "from matplotlib import cm\n",
    "y_ax_lower, y_ax_upper = 0, 0\n",
    "yticks = []\n",
    "for i, c in enumerate(cluster_labels):\n",
    "    c_silhouette_vals = silhouette_vals[y_km == c]\n",
    "    c_silhouette_vals.sort()\n",
    "    y_ax_upper += len(c_silhouette_vals)\n",
    "    color = cm.jet(i / n_clusters)\n",
    "    plt.barh(range(y_ax_lower, y_ax_upper), c_silhouette_vals, height=1.0, edgecolor='none', color=color)\n",
    "    yticks.append((y_ax_lower + y_ax_upper) / 2)\n",
    "    y_ax_lower += len(c_silhouette_vals)\n",
    "plt.axvline(silhouette_avg, color=\"red\", linestyle=\"--\")\n",
    "plt.yticks(yticks, cluster_labels + 1)\n",
    "plt.ylabel('Cluster')\n",
    "plt.xlabel('Silhouette coefficient')\n",
    "plt.show()"
   ]
  },
  {
   "cell_type": "markdown",
   "metadata": {},
   "source": [
    "### 9.1.1（解答） アドバンス問題のため、時間に余裕が出来たら行う。"
   ]
  },
  {
   "cell_type": "markdown",
   "metadata": {},
   "source": [
    "# 3.クラスタ分析\n",
    "\n",
    "卸売業者のデータ分析\n",
    "クラスタリングを利用法を学ぶために、Wholesale customers Data Setを使用します。\n",
    "\n",
    "UCI Machine Learning Repository: Wholesale customers Data Set  \n",
    "https://archive.ics.uci.edu/ml/datasets/Wholesale+customers\n",
    "\n",
    "\n",
    "Data Folderの中からWholesale customers data.csvをダウンロードしてください。これはポルトガルのリスボンにある卸売業者（wholesale）が顧客から集めたデータです。中身は各顧客が年間でミルクや食料品を何ユーロ購入しているかというデータになっています。顧客は小売店やレストランです。RegionとChannelは取り覗き、金額のデータでK-meansを利用します。\n",
    "\n",
    "\n",
    "次元削減\n",
    "金額に関する特徴量は6個ありますが、可視化するために次元削減を行います。これに関してはscikit-learnによるPCAのサンプルコードを用意したので利用してください。\n",
    "\n",
    "\n",
    "《PCAのサンプルコード》"
   ]
  },
  {
   "cell_type": "raw",
   "metadata": {},
   "source": [
    "from sklearn.decomposition import PCA\n",
    "pca = PCA(n_components = 2)\n",
    "pca = pca.fit(data)\n",
    "data_pca = pca.transform(data)"
   ]
  },
  {
   "cell_type": "raw",
   "metadata": {},
   "source": [
    "from sklearn.decomposition import PCA\n",
    "import matplotlib.pyplot as plt\n",
    "pca = PCA(n_components=None)\n",
    "pca = pca.fit(data)\n",
    "var_exp = pca.explained_variance_ratio_\n",
    "cum_var_exp = np.cumsum(var_exp)\n",
    "print(cum_var_exp)\n",
    "plt.bar(range(1,7), var_exp, alpha=0.5, align='center', label='individual explained variance')\n",
    "plt.step(range(1,7), cum_var_exp, where='mid', label='cumulative expalined variance')\n",
    "plt.ylabel('Explained variance ratio')\n",
    "plt.xlabel('Principal components')\n",
    "plt.hlines(0.7, 0, 6,  \"blue\", linestyles='dashed')\n",
    "plt.legend(loc='best')\n",
    "plt.grid()\n",
    "plt.show()"
   ]
  },
  {
   "cell_type": "markdown",
   "metadata": {},
   "source": [
    "## 【問題10】クラスタ数kの選択\n",
    "最適だと思われるクラスタ数kを選択してください。  \n",
    "エルボー法やシルエット図を活用する他、人間が後々どう利用したいのかも選択に関わってきます。選択した上で、なぜそれを選んだか説明してください。"
   ]
  },
  {
   "cell_type": "markdown",
   "metadata": {},
   "source": [
    "### 10.1.1（データセット）"
   ]
  },
  {
   "cell_type": "code",
   "execution_count": 24,
   "metadata": {},
   "outputs": [
    {
     "data": {
      "text/html": [
       "<div>\n",
       "<style scoped>\n",
       "    .dataframe tbody tr th:only-of-type {\n",
       "        vertical-align: middle;\n",
       "    }\n",
       "\n",
       "    .dataframe tbody tr th {\n",
       "        vertical-align: top;\n",
       "    }\n",
       "\n",
       "    .dataframe thead th {\n",
       "        text-align: right;\n",
       "    }\n",
       "</style>\n",
       "<table border=\"1\" class=\"dataframe\">\n",
       "  <thead>\n",
       "    <tr style=\"text-align: right;\">\n",
       "      <th></th>\n",
       "      <th>Channel</th>\n",
       "      <th>Region</th>\n",
       "      <th>Fresh</th>\n",
       "      <th>Milk</th>\n",
       "      <th>Grocery</th>\n",
       "      <th>Frozen</th>\n",
       "      <th>Detergents_Paper</th>\n",
       "      <th>Delicassen</th>\n",
       "    </tr>\n",
       "  </thead>\n",
       "  <tbody>\n",
       "    <tr>\n",
       "      <th>0</th>\n",
       "      <td>2</td>\n",
       "      <td>3</td>\n",
       "      <td>12669</td>\n",
       "      <td>9656</td>\n",
       "      <td>7561</td>\n",
       "      <td>214</td>\n",
       "      <td>2674</td>\n",
       "      <td>1338</td>\n",
       "    </tr>\n",
       "    <tr>\n",
       "      <th>1</th>\n",
       "      <td>2</td>\n",
       "      <td>3</td>\n",
       "      <td>7057</td>\n",
       "      <td>9810</td>\n",
       "      <td>9568</td>\n",
       "      <td>1762</td>\n",
       "      <td>3293</td>\n",
       "      <td>1776</td>\n",
       "    </tr>\n",
       "    <tr>\n",
       "      <th>2</th>\n",
       "      <td>2</td>\n",
       "      <td>3</td>\n",
       "      <td>6353</td>\n",
       "      <td>8808</td>\n",
       "      <td>7684</td>\n",
       "      <td>2405</td>\n",
       "      <td>3516</td>\n",
       "      <td>7844</td>\n",
       "    </tr>\n",
       "    <tr>\n",
       "      <th>3</th>\n",
       "      <td>1</td>\n",
       "      <td>3</td>\n",
       "      <td>13265</td>\n",
       "      <td>1196</td>\n",
       "      <td>4221</td>\n",
       "      <td>6404</td>\n",
       "      <td>507</td>\n",
       "      <td>1788</td>\n",
       "    </tr>\n",
       "    <tr>\n",
       "      <th>4</th>\n",
       "      <td>2</td>\n",
       "      <td>3</td>\n",
       "      <td>22615</td>\n",
       "      <td>5410</td>\n",
       "      <td>7198</td>\n",
       "      <td>3915</td>\n",
       "      <td>1777</td>\n",
       "      <td>5185</td>\n",
       "    </tr>\n",
       "  </tbody>\n",
       "</table>\n",
       "</div>"
      ],
      "text/plain": [
       "   Channel  Region  Fresh  Milk  Grocery  Frozen  Detergents_Paper  Delicassen\n",
       "0        2       3  12669  9656     7561     214              2674        1338\n",
       "1        2       3   7057  9810     9568    1762              3293        1776\n",
       "2        2       3   6353  8808     7684    2405              3516        7844\n",
       "3        1       3  13265  1196     4221    6404               507        1788\n",
       "4        2       3  22615  5410     7198    3915              1777        5185"
      ]
     },
     "execution_count": 24,
     "metadata": {},
     "output_type": "execute_result"
    }
   ],
   "source": [
    "dataset = pd.read_csv(\"sample_dataset/Wholesale customers data.csv\")\n",
    "df = pd.DataFrame(dataset)\n",
    "df.head()"
   ]
  },
  {
   "cell_type": "code",
   "execution_count": 25,
   "metadata": {},
   "outputs": [
    {
     "name": "stdout",
     "output_type": "stream",
     "text": [
      "client_list.shape (440, 6)\n"
     ]
    },
    {
     "data": {
      "text/html": [
       "<div>\n",
       "<style scoped>\n",
       "    .dataframe tbody tr th:only-of-type {\n",
       "        vertical-align: middle;\n",
       "    }\n",
       "\n",
       "    .dataframe tbody tr th {\n",
       "        vertical-align: top;\n",
       "    }\n",
       "\n",
       "    .dataframe thead th {\n",
       "        text-align: right;\n",
       "    }\n",
       "</style>\n",
       "<table border=\"1\" class=\"dataframe\">\n",
       "  <thead>\n",
       "    <tr style=\"text-align: right;\">\n",
       "      <th></th>\n",
       "      <th>Fresh</th>\n",
       "      <th>Milk</th>\n",
       "      <th>Grocery</th>\n",
       "      <th>Frozen</th>\n",
       "      <th>Detergents_Paper</th>\n",
       "      <th>Delicassen</th>\n",
       "    </tr>\n",
       "  </thead>\n",
       "  <tbody>\n",
       "    <tr>\n",
       "      <th>0</th>\n",
       "      <td>12669</td>\n",
       "      <td>9656</td>\n",
       "      <td>7561</td>\n",
       "      <td>214</td>\n",
       "      <td>2674</td>\n",
       "      <td>1338</td>\n",
       "    </tr>\n",
       "    <tr>\n",
       "      <th>1</th>\n",
       "      <td>7057</td>\n",
       "      <td>9810</td>\n",
       "      <td>9568</td>\n",
       "      <td>1762</td>\n",
       "      <td>3293</td>\n",
       "      <td>1776</td>\n",
       "    </tr>\n",
       "    <tr>\n",
       "      <th>2</th>\n",
       "      <td>6353</td>\n",
       "      <td>8808</td>\n",
       "      <td>7684</td>\n",
       "      <td>2405</td>\n",
       "      <td>3516</td>\n",
       "      <td>7844</td>\n",
       "    </tr>\n",
       "    <tr>\n",
       "      <th>3</th>\n",
       "      <td>13265</td>\n",
       "      <td>1196</td>\n",
       "      <td>4221</td>\n",
       "      <td>6404</td>\n",
       "      <td>507</td>\n",
       "      <td>1788</td>\n",
       "    </tr>\n",
       "    <tr>\n",
       "      <th>4</th>\n",
       "      <td>22615</td>\n",
       "      <td>5410</td>\n",
       "      <td>7198</td>\n",
       "      <td>3915</td>\n",
       "      <td>1777</td>\n",
       "      <td>5185</td>\n",
       "    </tr>\n",
       "  </tbody>\n",
       "</table>\n",
       "</div>"
      ],
      "text/plain": [
       "   Fresh  Milk  Grocery  Frozen  Detergents_Paper  Delicassen\n",
       "0  12669  9656     7561     214              2674        1338\n",
       "1   7057  9810     9568    1762              3293        1776\n",
       "2   6353  8808     7684    2405              3516        7844\n",
       "3  13265  1196     4221    6404               507        1788\n",
       "4  22615  5410     7198    3915              1777        5185"
      ]
     },
     "execution_count": 25,
     "metadata": {},
     "output_type": "execute_result"
    }
   ],
   "source": [
    "client_list = df.drop([\"Channel\", \"Region\"], axis=1)\n",
    "print(\"client_list.shape\",client_list.shape)\n",
    "client_list.head()"
   ]
  },
  {
   "cell_type": "markdown",
   "metadata": {},
   "source": [
    "### 10.2.1（前処理）"
   ]
  },
  {
   "cell_type": "code",
   "execution_count": 26,
   "metadata": {},
   "outputs": [
    {
     "data": {
      "text/plain": [
       "array([[-0.77411991, -0.73854554, -0.83707169, -0.99378739, -0.8691456 ,\n",
       "        -0.94430538],\n",
       "       [-0.87420195, -0.73435181, -0.79380665, -0.94290316, -0.8388203 ,\n",
       "        -0.92603254],\n",
       "       [-0.88675679, -0.76163828, -0.83442017, -0.92176714, -0.82789536,\n",
       "        -0.67288277],\n",
       "       [-0.7634911 , -0.96892828, -0.90907229, -0.79031622, -0.97530864,\n",
       "        -0.92553191],\n",
       "       [-0.59674716, -0.85417262, -0.8448969 , -0.87213201, -0.91309034,\n",
       "        -0.7838131 ]])"
      ]
     },
     "execution_count": 26,
     "metadata": {},
     "output_type": "execute_result"
    }
   ],
   "source": [
    "# 正規化\n",
    "from sklearn.preprocessing import MinMaxScaler\n",
    "scaler = MinMaxScaler([-1,1])\n",
    "client_norm = scaler.fit_transform(client_list)\n",
    "client_norm[:5]"
   ]
  },
  {
   "cell_type": "code",
   "execution_count": 27,
   "metadata": {},
   "outputs": [
    {
     "data": {
      "text/plain": [
       "array([[ 0.30168043,  1.06571214,  0.32995207, -0.46657183,  0.50678671,\n",
       "         0.2638102 ],\n",
       "       [-0.1048095 ,  1.09293385,  0.56599336,  0.08392603,  0.67567015,\n",
       "         0.5740085 ],\n",
       "       [-0.15580183,  0.91581599,  0.34441798,  0.3125889 ,  0.73651183,\n",
       "         4.87145892],\n",
       "       [ 0.34485007, -0.42971408, -0.06286202,  1.73470839, -0.08444172,\n",
       "         0.58250708],\n",
       "       [ 1.02209184,  0.3151708 ,  0.28726   ,  0.84957326,  0.26205579,\n",
       "         2.98831445]])"
      ]
     },
     "execution_count": 27,
     "metadata": {},
     "output_type": "execute_result"
    }
   ],
   "source": [
    "# 外れ値を除く標準化\n",
    "from sklearn import preprocessing\n",
    "rscaler = preprocessing.RobustScaler(quantile_range=(25.0, 75.0))\n",
    "rscaler.fit(client_list)\n",
    "client_rsc = rscaler.transform(client_list)\n",
    "client_rsc[:5]"
   ]
  },
  {
   "cell_type": "code",
   "execution_count": 28,
   "metadata": {},
   "outputs": [
    {
     "data": {
      "text/html": [
       "<div>\n",
       "<style scoped>\n",
       "    .dataframe tbody tr th:only-of-type {\n",
       "        vertical-align: middle;\n",
       "    }\n",
       "\n",
       "    .dataframe tbody tr th {\n",
       "        vertical-align: top;\n",
       "    }\n",
       "\n",
       "    .dataframe thead th {\n",
       "        text-align: right;\n",
       "    }\n",
       "</style>\n",
       "<table border=\"1\" class=\"dataframe\">\n",
       "  <thead>\n",
       "    <tr style=\"text-align: right;\">\n",
       "      <th></th>\n",
       "      <th>Fresh</th>\n",
       "      <th>Milk</th>\n",
       "      <th>Grocery</th>\n",
       "      <th>Frozen</th>\n",
       "      <th>Detergents_Paper</th>\n",
       "      <th>Delicassen</th>\n",
       "    </tr>\n",
       "  </thead>\n",
       "  <tbody>\n",
       "    <tr>\n",
       "      <th>0</th>\n",
       "      <td>9.446913</td>\n",
       "      <td>9.175335</td>\n",
       "      <td>8.930759</td>\n",
       "      <td>5.365976</td>\n",
       "      <td>7.891331</td>\n",
       "      <td>7.198931</td>\n",
       "    </tr>\n",
       "    <tr>\n",
       "      <th>1</th>\n",
       "      <td>8.861775</td>\n",
       "      <td>9.191158</td>\n",
       "      <td>9.166179</td>\n",
       "      <td>7.474205</td>\n",
       "      <td>8.099554</td>\n",
       "      <td>7.482119</td>\n",
       "    </tr>\n",
       "    <tr>\n",
       "      <th>2</th>\n",
       "      <td>8.756682</td>\n",
       "      <td>9.083416</td>\n",
       "      <td>8.946896</td>\n",
       "      <td>7.785305</td>\n",
       "      <td>8.165079</td>\n",
       "      <td>8.967504</td>\n",
       "    </tr>\n",
       "    <tr>\n",
       "      <th>3</th>\n",
       "      <td>9.492884</td>\n",
       "      <td>7.086738</td>\n",
       "      <td>8.347827</td>\n",
       "      <td>8.764678</td>\n",
       "      <td>6.228511</td>\n",
       "      <td>7.488853</td>\n",
       "    </tr>\n",
       "    <tr>\n",
       "      <th>4</th>\n",
       "      <td>10.026369</td>\n",
       "      <td>8.596004</td>\n",
       "      <td>8.881558</td>\n",
       "      <td>8.272571</td>\n",
       "      <td>7.482682</td>\n",
       "      <td>8.553525</td>\n",
       "    </tr>\n",
       "  </tbody>\n",
       "</table>\n",
       "</div>"
      ],
      "text/plain": [
       "       Fresh      Milk   Grocery    Frozen  Detergents_Paper  Delicassen\n",
       "0   9.446913  9.175335  8.930759  5.365976          7.891331    7.198931\n",
       "1   8.861775  9.191158  9.166179  7.474205          8.099554    7.482119\n",
       "2   8.756682  9.083416  8.946896  7.785305          8.165079    8.967504\n",
       "3   9.492884  7.086738  8.347827  8.764678          6.228511    7.488853\n",
       "4  10.026369  8.596004  8.881558  8.272571          7.482682    8.553525"
      ]
     },
     "execution_count": 28,
     "metadata": {},
     "output_type": "execute_result"
    }
   ],
   "source": [
    "# 対数変換\n",
    "client_log = np.log(client_list)\n",
    "client_log[:5]"
   ]
  },
  {
   "cell_type": "code",
   "execution_count": 29,
   "metadata": {},
   "outputs": [
    {
     "data": {
      "text/plain": [
       "array([[ 0.23601303,  0.63356598,  0.28995172, -1.2542388 ,  0.43514635,\n",
       "         0.21827309],\n",
       "       [-0.11042642,  0.64380396,  0.43715984,  0.09182435,  0.51152392,\n",
       "         0.40771482],\n",
       "       [-0.17264818,  0.57409063,  0.30004203,  0.2904559 ,  0.53555886,\n",
       "         1.40138075],\n",
       "       [ 0.26323078, -0.71784029, -0.07455411,  0.91576648, -0.17478537,\n",
       "         0.41221963],\n",
       "       [ 0.57908794,  0.25871588,  0.25918691,  0.60156542,  0.28525161,\n",
       "         1.12444458]])"
      ]
     },
     "execution_count": 29,
     "metadata": {},
     "output_type": "execute_result"
    }
   ],
   "source": [
    "# 対数変換 → 外れ値を除く標準化\n",
    "rscaler = preprocessing.RobustScaler(quantile_range=(25.0, 75.0))\n",
    "rscaler.fit(client_log)\n",
    "client_rslg = rscaler.transform(client_log)\n",
    "client_rslg[:5]"
   ]
  },
  {
   "cell_type": "markdown",
   "metadata": {},
   "source": [
    "### （予備知識）PCA=主成分分析"
   ]
  },
  {
   "cell_type": "markdown",
   "metadata": {},
   "source": [
    "可視化しやすいように特徴量を抽出して、２次元まで特徴を減らす手法。(次元削除）  \n",
    "次元を減らす減らさない、何個まで減らす等の規定は無い。  \n",
    "主成分分析は教師なし学習なので、正解（ラベルや教師データ）がないため、分散によって次元の重要度を決めます。  \n",
    "\n",
    "**主成分分析の評価方法（累積寄与率）**  \n",
    "一般的に累積寄与率が80%となるよう、主成分を抽出すると良いとされています。  \n",
    "explained_variance_ratio_メソッドを使うことで、計算することが出来ます。"
   ]
  },
  {
   "cell_type": "code",
   "execution_count": 30,
   "metadata": {},
   "outputs": [],
   "source": [
    "# PCA\n",
    "from sklearn.decomposition import PCA\n",
    "\n",
    "pca = PCA(n_components = 2)\n",
    "\n",
    "pca1 = pca.fit(client_norm)\n",
    "pca2 = pca.fit(client_rsc)\n",
    "pca3 = pca.fit(client_log)\n",
    "pca4 = pca.fit(client_rslg)\n",
    "pca5 = pca.fit(client_list)\n",
    "\n",
    "data_pca1 = pca1.transform(client_norm)\n",
    "data_pca2 = pca2.transform(client_rsc)\n",
    "data_pca3 = pca3.transform(client_log)\n",
    "data_pca4 = pca4.transform(client_rslg)\n",
    "data_pca5 = pca5.transform(client_rslg)"
   ]
  },
  {
   "cell_type": "code",
   "execution_count": 31,
   "metadata": {},
   "outputs": [
    {
     "name": "stdout",
     "output_type": "stream",
     "text": [
      "[0.51948323 0.7835533  0.8896143  0.95219446 0.98716868 1.        ]\n"
     ]
    },
    {
     "data": {
      "image/png": "[encoded data removed]",
      "text/plain": [
       "<Figure size 432x288 with 1 Axes>"
      ]
     },
     "metadata": {
      "needs_background": "light"
     },
     "output_type": "display_data"
    }
   ],
   "source": [
    "# 主成分分析の評価（正規化）\n",
    "from sklearn.decomposition import PCA\n",
    "pca1 = PCA(n_components=None)\n",
    "pca1 = pca1.fit(client_norm)\n",
    "var_exp1 = pca1.explained_variance_ratio_\n",
    "cum_var_exp1 = np.cumsum(var_exp1)\n",
    "print(cum_var_exp1)\n",
    "plt.bar(range(1,7), var_exp1, alpha=0.5, align='center', label='individual explained variance')\n",
    "plt.step(range(1,7), cum_var_exp1, where='mid', label='cumulative expalined variance')\n",
    "plt.ylabel('Explained variance ratio')\n",
    "plt.xlabel('Principal components')\n",
    "plt.hlines(0.7, 0, 6,  \"blue\", linestyles='dashed')\n",
    "plt.legend(loc='best')\n",
    "plt.grid()\n",
    "plt.show()"
   ]
  },
  {
   "cell_type": "code",
   "execution_count": 32,
   "metadata": {},
   "outputs": [
    {
     "name": "stdout",
     "output_type": "stream",
     "text": [
      "[0.44377284 0.7462558  0.89658575 0.95360082 0.99278014 1.        ]\n"
     ]
    },
    {
     "data": {
      "image/png": "[encoded data removed]",
      "text/plain": [
       "<Figure size 432x288 with 1 Axes>"
      ]
     },
     "metadata": {
      "needs_background": "light"
     },
     "output_type": "display_data"
    }
   ],
   "source": [
    "# 主成分分析の評価（標準化）\n",
    "from sklearn.decomposition import PCA\n",
    "pca2 = PCA(n_components=None)\n",
    "pca2 = pca2.fit(client_rsc)\n",
    "var_exp2 = pca2.explained_variance_ratio_\n",
    "cum_var_exp2 = np.cumsum(var_exp2)\n",
    "print(cum_var_exp2)\n",
    "plt.bar(range(1,7), var_exp2, alpha=0.5, align='center', label='individual explained variance')\n",
    "plt.step(range(1,7), cum_var_exp2, where='mid', label='cumulative expalined variance')\n",
    "plt.ylabel('Explained variance ratio')\n",
    "plt.xlabel('Principal components')\n",
    "plt.hlines(0.7, 0, 6,  \"blue\", linestyles='dashed')\n",
    "plt.legend(loc='best')\n",
    "plt.grid()\n",
    "plt.show()"
   ]
  },
  {
   "cell_type": "code",
   "execution_count": 33,
   "metadata": {},
   "outputs": [
    {
     "name": "stdout",
     "output_type": "stream",
     "text": [
      "[0.44237417 0.71894523 0.83511865 0.93129585 0.97705265 1.        ]\n"
     ]
    },
    {
     "data": {
      "image/png": "[encoded data removed]",
      "text/plain": [
       "<Figure size 432x288 with 1 Axes>"
      ]
     },
     "metadata": {
      "needs_background": "light"
     },
     "output_type": "display_data"
    }
   ],
   "source": [
    "# 主成分分析の評価（対数変換）\n",
    "from sklearn.decomposition import PCA\n",
    "pca3 = PCA(n_components=None)\n",
    "pca3 = pca3.fit(client_log)\n",
    "var_exp3 = pca3.explained_variance_ratio_\n",
    "cum_var_exp3 = np.cumsum(var_exp3)\n",
    "print(cum_var_exp3)\n",
    "plt.bar(range(1,7), var_exp3, alpha=0.5, align='center', label='individual explained variance')\n",
    "plt.step(range(1,7), cum_var_exp3, where='mid', label='cumulative expalined variance')\n",
    "plt.ylabel('Explained variance ratio')\n",
    "plt.xlabel('Principal components')\n",
    "plt.hlines(0.7, 0, 6,  \"blue\", linestyles='dashed')\n",
    "plt.legend(loc='best')\n",
    "plt.grid()\n",
    "plt.show()"
   ]
  },
  {
   "cell_type": "code",
   "execution_count": 34,
   "metadata": {},
   "outputs": [
    {
     "name": "stdout",
     "output_type": "stream",
     "text": [
      "[0.35751386 0.68902866 0.82149452 0.93884668 0.97651529 1.        ]\n"
     ]
    },
    {
     "data": {
      "image/png": "[encoded data removed]",
      "text/plain": [
       "<Figure size 432x288 with 1 Axes>"
      ]
     },
     "metadata": {
      "needs_background": "light"
     },
     "output_type": "display_data"
    }
   ],
   "source": [
    "# 主成分分析の評価（対数変換 → 標準化）\n",
    "from sklearn.decomposition import PCA\n",
    "pca4 = PCA(n_components=None)\n",
    "pca4 = pca4.fit(client_rslg)\n",
    "var_exp4 = pca4.explained_variance_ratio_\n",
    "cum_var_exp4 = np.cumsum(var_exp4)\n",
    "print(cum_var_exp4)\n",
    "plt.bar(range(1,7), var_exp3, alpha=0.5, align='center', label='individual explained variance')\n",
    "plt.step(range(1,7), cum_var_exp3, where='mid', label='cumulative expalined variance')\n",
    "plt.ylabel('Explained variance ratio')\n",
    "plt.xlabel('Principal components')\n",
    "plt.hlines(0.7, 0, 6,  \"blue\", linestyles='dashed')\n",
    "plt.legend(loc='best')\n",
    "plt.grid()\n",
    "plt.show()"
   ]
  },
  {
   "cell_type": "code",
   "execution_count": 35,
   "metadata": {},
   "outputs": [
    {
     "name": "stdout",
     "output_type": "stream",
     "text": [
      "[0.35751386 0.68902866 0.82149452 0.93884668 0.97651529 1.        ]\n"
     ]
    },
    {
     "data": {
      "image/png": "[encoded data removed]",
      "text/plain": [
       "<Figure size 432x288 with 1 Axes>"
      ]
     },
     "metadata": {
      "needs_background": "light"
     },
     "output_type": "display_data"
    }
   ],
   "source": [
    "# 主成分分析の評価（元データ）\n",
    "from sklearn.decomposition import PCA\n",
    "pca5 = PCA(n_components=None)\n",
    "pca5 = pca5.fit(client_rslg)\n",
    "var_exp5 = pca5.explained_variance_ratio_\n",
    "cum_var_exp5 = np.cumsum(var_exp5)\n",
    "print(cum_var_exp5)\n",
    "plt.bar(range(1,7), var_exp5, alpha=0.5, align='center', label='individual explained variance')\n",
    "plt.step(range(1,7), cum_var_exp5, where='mid', label='cumulative expalined variance')\n",
    "plt.ylabel('Explained variance ratio')\n",
    "plt.xlabel('Principal components')\n",
    "plt.hlines(0.7, 0, 6,  \"blue\", linestyles='dashed')\n",
    "plt.legend(loc='best')\n",
    "plt.grid()\n",
    "plt.show()"
   ]
  },
  {
   "cell_type": "code",
   "execution_count": 36,
   "metadata": {},
   "outputs": [
    {
     "data": {
      "image/png": "[encoded data removed]",
      "text/plain": [
       "<Figure size 432x288 with 1 Axes>"
      ]
     },
     "metadata": {
      "needs_background": "light"
     },
     "output_type": "display_data"
    }
   ],
   "source": [
    "# 主成分をプロットする(正規化)\n",
    "plt.scatter(data_pca1[:, 0], data_pca1[:, 1])\n",
    "plt.title('PCA')\n",
    "plt.xlabel('PCA1')\n",
    "plt.ylabel('PCA2')\n",
    "plt.savefig('PCA_sample1')\n",
    "plt.show()"
   ]
  },
  {
   "cell_type": "code",
   "execution_count": 37,
   "metadata": {},
   "outputs": [
    {
     "data": {
      "image/png": "[encoded data removed]",
      "text/plain": [
       "<Figure size 432x288 with 1 Axes>"
      ]
     },
     "metadata": {
      "needs_background": "light"
     },
     "output_type": "display_data"
    }
   ],
   "source": [
    "# 主成分をプロットする（標準化）\n",
    "plt.scatter(data_pca2[:, 0], data_pca2[:, 1])\n",
    "plt.title('PCA')\n",
    "plt.xlabel('PCA1')\n",
    "plt.ylabel('PCA2')\n",
    "plt.savefig('PCA_sample1')\n",
    "plt.show()"
   ]
  },
  {
   "cell_type": "code",
   "execution_count": 38,
   "metadata": {},
   "outputs": [
    {
     "data": {
      "image/png": "[encoded data removed]",
      "text/plain": [
       "<Figure size 432x288 with 1 Axes>"
      ]
     },
     "metadata": {
      "needs_background": "light"
     },
     "output_type": "display_data"
    }
   ],
   "source": [
    "# 主成分をプロットする（対数変換）\n",
    "plt.scatter(data_pca3[:, 0], data_pca3[:, 1])\n",
    "plt.title('PCA')\n",
    "plt.xlabel('PCA1')\n",
    "plt.ylabel('PCA2')\n",
    "plt.savefig('PCA_sample1')\n",
    "plt.show()"
   ]
  },
  {
   "cell_type": "code",
   "execution_count": 39,
   "metadata": {},
   "outputs": [
    {
     "data": {
      "image/png": "[encoded data removed]",
      "text/plain": [
       "<Figure size 432x288 with 1 Axes>"
      ]
     },
     "metadata": {
      "needs_background": "light"
     },
     "output_type": "display_data"
    }
   ],
   "source": [
    "# 主成分をプロットする（対数変換）\n",
    "plt.scatter(data_pca4[:, 0], data_pca4[:, 1])\n",
    "plt.title('PCA')\n",
    "plt.xlabel('PCA1')\n",
    "plt.ylabel('PCA2')\n",
    "plt.savefig('PCA_sample1')\n",
    "plt.show()"
   ]
  },
  {
   "cell_type": "code",
   "execution_count": 40,
   "metadata": {},
   "outputs": [
    {
     "data": {
      "image/png": "[encoded data removed]",
      "text/plain": [
       "<Figure size 432x288 with 1 Axes>"
      ]
     },
     "metadata": {
      "needs_background": "light"
     },
     "output_type": "display_data"
    }
   ],
   "source": [
    "# 主成分をプロットする（元データ）\n",
    "plt.scatter(data_pca5[:, 0], data_pca5[:, 1])\n",
    "plt.title('PCA')\n",
    "plt.xlabel('PCA1')\n",
    "plt.ylabel('PCA2')\n",
    "plt.savefig('PCA_sample1')\n",
    "plt.show()"
   ]
  },
  {
   "cell_type": "markdown",
   "metadata": {},
   "source": [
    "### 10.3.1（検証）"
   ]
  },
  {
   "cell_type": "code",
   "execution_count": 41,
   "metadata": {},
   "outputs": [
    {
     "name": "stderr",
     "output_type": "stream",
     "text": [
      "<ipython-input-13-a49b744edd8d>:93: RuntimeWarning: Mean of empty slice.\n",
      "  a = X[label==i,:].mean(axis=0)\n",
      "/opt/anaconda3/lib/python3.8/site-packages/numpy/core/_methods.py:153: RuntimeWarning: invalid value encountered in true_divide\n",
      "  ret = um.true_divide(\n"
     ]
    },
    {
     "data": {
      "text/plain": [
       "Text(0, 0.5, 'SSE')"
      ]
     },
     "execution_count": 41,
     "metadata": {},
     "output_type": "execute_result"
    },
    {
     "data": {
      "image/png": "[encoded data removed]",
      "text/plain": [
       "<Figure size 432x288 with 1 Axes>"
      ]
     },
     "metadata": {
      "needs_background": "light"
     },
     "output_type": "display_data"
    }
   ],
   "source": [
    "elbow1 = []\n",
    "\n",
    "for i in range(1,11):\n",
    "    skm = ScratchKMeans(n_clusters=i, n_init=3, max_iter=5, tol=10)\n",
    "    score1 = skm.fit(data_pca4)\n",
    "    elbow1.append(score1)\n",
    "plt.plot(range(1,11), elbow, marker='o')\n",
    "plt.xlabel('Number of clusters')\n",
    "plt.ylabel('SSE')"
   ]
  },
  {
   "cell_type": "code",
   "execution_count": 42,
   "metadata": {},
   "outputs": [
    {
     "name": "stderr",
     "output_type": "stream",
     "text": [
      "<ipython-input-13-a49b744edd8d>:93: RuntimeWarning: Mean of empty slice.\n",
      "  a = X[label==i,:].mean(axis=0)\n"
     ]
    },
    {
     "data": {
      "text/plain": [
       "array([0, 0, 0, 2, 0, 0, 0, 0, 1, 0])"
      ]
     },
     "execution_count": 42,
     "metadata": {},
     "output_type": "execute_result"
    }
   ],
   "source": [
    "skm = ScratchKMeans(n_clusters=3, n_init=3, max_iter=5, tol=10)\n",
    "skm.fit(data_pca4)\n",
    "pca4_pred, pca4_centers = skm.predict(data_pca4)\n",
    "pca4_pred[:10]"
   ]
  },
  {
   "cell_type": "code",
   "execution_count": 43,
   "metadata": {},
   "outputs": [
    {
     "data": {
      "image/png": "[encoded data removed]",
      "text/plain": [
       "<Figure size 1440x288 with 1 Axes>"
      ]
     },
     "metadata": {
      "needs_background": "light"
     },
     "output_type": "display_data"
    }
   ],
   "source": [
    "fig = plt.figure(figsize=(20,4))\n",
    "color_list = [\"pink\",\"skyblue\",\"lightgreen\",\"yellow\"]\n",
    "\n",
    "ax1 = fig.add_subplot(1,3,1)\n",
    "for i in range(pca4_centers.shape[0]):\n",
    "    group_i = (data_pca4[pca4_pred==i,:])\n",
    "    ax1.scatter(group_i[:,0],group_i[:,1],color=color_list[i])\n",
    "    ax1.scatter(pca4_centers[:,0],pca4_centers[:,1], c=\"r\",s=180,alpha=0.5,marker=\"*\")"
   ]
  },
  {
   "cell_type": "markdown",
   "metadata": {},
   "source": [
    "### 10.4.1（元データで検証】"
   ]
  },
  {
   "cell_type": "code",
   "execution_count": 44,
   "metadata": {},
   "outputs": [
    {
     "name": "stderr",
     "output_type": "stream",
     "text": [
      "<ipython-input-13-a49b744edd8d>:93: RuntimeWarning: Mean of empty slice.\n",
      "  a = X[label==i,:].mean(axis=0)\n"
     ]
    },
    {
     "data": {
      "text/plain": [
       "Text(0, 0.5, 'SSE')"
      ]
     },
     "execution_count": 44,
     "metadata": {},
     "output_type": "execute_result"
    },
    {
     "data": {
      "image/png": "[encoded data removed]",
      "text/plain": [
       "<Figure size 432x288 with 1 Axes>"
      ]
     },
     "metadata": {
      "needs_background": "light"
     },
     "output_type": "display_data"
    }
   ],
   "source": [
    "elbow1 = []\n",
    "\n",
    "for i in range(1,11):\n",
    "    skm = ScratchKMeans(n_clusters=i, n_init=3, max_iter=5, tol=10)\n",
    "    score1 = skm.fit(data_pca5)\n",
    "    elbow1.append(score1)\n",
    "plt.plot(range(1,11), elbow, marker='o')\n",
    "plt.xlabel('Number of clusters')\n",
    "plt.ylabel('SSE')"
   ]
  },
  {
   "cell_type": "code",
   "execution_count": 45,
   "metadata": {},
   "outputs": [
    {
     "data": {
      "text/plain": [
       "array([2, 2, 2, 1, 1, 2, 2, 2, 2, 2, 2, 1, 2, 2, 2, 0, 2, 0, 2, 2, 1, 0,\n",
       "       1, 2, 2, 2, 1, 1, 2, 1, 2, 0, 1, 1, 0, 2, 1, 2, 2, 1, 1, 1, 2, 2,\n",
       "       2, 2, 2, 2, 2, 2, 1, 2, 1, 2, 1, 2, 2, 2, 1, 2, 2, 2, 2, 2, 0, 2,\n",
       "       2, 2, 2, 0, 1, 2, 0, 1, 2, 1, 2, 2, 1, 0, 0, 2, 2, 1, 0, 2, 2, 1,\n",
       "       1, 1, 1, 1, 2, 1, 2, 2, 2, 0, 0, 1])"
      ]
     },
     "execution_count": 45,
     "metadata": {},
     "output_type": "execute_result"
    }
   ],
   "source": [
    "skm = ScratchKMeans(n_clusters=3, n_init=3, max_iter=5, tol=10)\n",
    "skm.fit(data_pca5)\n",
    "pca5_pred, pca5_centers = skm.predict(data_pca5)\n",
    "pca5_pred[:100]"
   ]
  },
  {
   "cell_type": "code",
   "execution_count": 46,
   "metadata": {},
   "outputs": [
    {
     "data": {
      "image/png": "[encoded data removed]",
      "text/plain": [
       "<Figure size 1440x288 with 1 Axes>"
      ]
     },
     "metadata": {
      "needs_background": "light"
     },
     "output_type": "display_data"
    }
   ],
   "source": [
    "fig = plt.figure(figsize=(20,4))\n",
    "color_list = [\"pink\",\"skyblue\",\"lightgreen\",\"yellow\"]\n",
    "\n",
    "ax1 = fig.add_subplot(1,3,1)\n",
    "for i in range(pca5_centers.shape[0]):\n",
    "    group_i = (data_pca5[pca5_pred==i,:])\n",
    "    ax1.scatter(group_i[:,0],group_i[:,1],color=color_list[i])\n",
    "    ax1.scatter(pca5_centers[:,0],pca5_centers[:,1], c=\"r\",s=180,alpha=0.5,marker=\"*\")"
   ]
  },
  {
   "cell_type": "markdown",
   "metadata": {},
   "source": [
    "### 10.4.1（解答）"
   ]
  },
  {
   "cell_type": "markdown",
   "metadata": {},
   "source": [
    "エルボー法の結果と、元データのRegion（３分類）とChannel（２分類）の分類数から２or3で分類する事が有力な方法だと考える。  \n",
    "pcaの評価でも2は80%手前、3は80%以上と良さそうな評価を得ている。  \n",
    "Region、Channelとの検証は事項で検証を行う。"
   ]
  },
  {
   "cell_type": "markdown",
   "metadata": {},
   "source": [
    "## 【問題11】既知のグループとの比較  \n",
    "RegionとChannelはK-meansに使用しなかったが、これれらは既知のグループです。  \n",
    "クラスタとこれら既知のグループがどう違うかを確認し、説明してください。まずはそれぞれを可視化してください。"
   ]
  },
  {
   "cell_type": "markdown",
   "metadata": {},
   "source": [
    "### 11.1.1（検証）"
   ]
  },
  {
   "cell_type": "code",
   "execution_count": 47,
   "metadata": {},
   "outputs": [
    {
     "data": {
      "text/html": [
       "<div>\n",
       "<style scoped>\n",
       "    .dataframe tbody tr th:only-of-type {\n",
       "        vertical-align: middle;\n",
       "    }\n",
       "\n",
       "    .dataframe tbody tr th {\n",
       "        vertical-align: top;\n",
       "    }\n",
       "\n",
       "    .dataframe thead th {\n",
       "        text-align: right;\n",
       "    }\n",
       "</style>\n",
       "<table border=\"1\" class=\"dataframe\">\n",
       "  <thead>\n",
       "    <tr style=\"text-align: right;\">\n",
       "      <th></th>\n",
       "      <th>Channel</th>\n",
       "      <th>Region</th>\n",
       "      <th>Fresh</th>\n",
       "      <th>Milk</th>\n",
       "      <th>Grocery</th>\n",
       "      <th>Frozen</th>\n",
       "      <th>Detergents_Paper</th>\n",
       "      <th>Delicassen</th>\n",
       "      <th>cluster</th>\n",
       "    </tr>\n",
       "  </thead>\n",
       "  <tbody>\n",
       "    <tr>\n",
       "      <th>0</th>\n",
       "      <td>2</td>\n",
       "      <td>3</td>\n",
       "      <td>12669</td>\n",
       "      <td>9656</td>\n",
       "      <td>7561</td>\n",
       "      <td>214</td>\n",
       "      <td>2674</td>\n",
       "      <td>1338</td>\n",
       "      <td>0</td>\n",
       "    </tr>\n",
       "    <tr>\n",
       "      <th>1</th>\n",
       "      <td>2</td>\n",
       "      <td>3</td>\n",
       "      <td>7057</td>\n",
       "      <td>9810</td>\n",
       "      <td>9568</td>\n",
       "      <td>1762</td>\n",
       "      <td>3293</td>\n",
       "      <td>1776</td>\n",
       "      <td>0</td>\n",
       "    </tr>\n",
       "    <tr>\n",
       "      <th>2</th>\n",
       "      <td>2</td>\n",
       "      <td>3</td>\n",
       "      <td>6353</td>\n",
       "      <td>8808</td>\n",
       "      <td>7684</td>\n",
       "      <td>2405</td>\n",
       "      <td>3516</td>\n",
       "      <td>7844</td>\n",
       "      <td>0</td>\n",
       "    </tr>\n",
       "    <tr>\n",
       "      <th>3</th>\n",
       "      <td>1</td>\n",
       "      <td>3</td>\n",
       "      <td>13265</td>\n",
       "      <td>1196</td>\n",
       "      <td>4221</td>\n",
       "      <td>6404</td>\n",
       "      <td>507</td>\n",
       "      <td>1788</td>\n",
       "      <td>2</td>\n",
       "    </tr>\n",
       "    <tr>\n",
       "      <th>4</th>\n",
       "      <td>2</td>\n",
       "      <td>3</td>\n",
       "      <td>22615</td>\n",
       "      <td>5410</td>\n",
       "      <td>7198</td>\n",
       "      <td>3915</td>\n",
       "      <td>1777</td>\n",
       "      <td>5185</td>\n",
       "      <td>0</td>\n",
       "    </tr>\n",
       "    <tr>\n",
       "      <th>...</th>\n",
       "      <td>...</td>\n",
       "      <td>...</td>\n",
       "      <td>...</td>\n",
       "      <td>...</td>\n",
       "      <td>...</td>\n",
       "      <td>...</td>\n",
       "      <td>...</td>\n",
       "      <td>...</td>\n",
       "      <td>...</td>\n",
       "    </tr>\n",
       "    <tr>\n",
       "      <th>435</th>\n",
       "      <td>1</td>\n",
       "      <td>3</td>\n",
       "      <td>29703</td>\n",
       "      <td>12051</td>\n",
       "      <td>16027</td>\n",
       "      <td>13135</td>\n",
       "      <td>182</td>\n",
       "      <td>2204</td>\n",
       "      <td>0</td>\n",
       "    </tr>\n",
       "    <tr>\n",
       "      <th>436</th>\n",
       "      <td>1</td>\n",
       "      <td>3</td>\n",
       "      <td>39228</td>\n",
       "      <td>1431</td>\n",
       "      <td>764</td>\n",
       "      <td>4510</td>\n",
       "      <td>93</td>\n",
       "      <td>2346</td>\n",
       "      <td>2</td>\n",
       "    </tr>\n",
       "    <tr>\n",
       "      <th>437</th>\n",
       "      <td>2</td>\n",
       "      <td>3</td>\n",
       "      <td>14531</td>\n",
       "      <td>15488</td>\n",
       "      <td>30243</td>\n",
       "      <td>437</td>\n",
       "      <td>14841</td>\n",
       "      <td>1867</td>\n",
       "      <td>0</td>\n",
       "    </tr>\n",
       "    <tr>\n",
       "      <th>438</th>\n",
       "      <td>1</td>\n",
       "      <td>3</td>\n",
       "      <td>10290</td>\n",
       "      <td>1981</td>\n",
       "      <td>2232</td>\n",
       "      <td>1038</td>\n",
       "      <td>168</td>\n",
       "      <td>2125</td>\n",
       "      <td>2</td>\n",
       "    </tr>\n",
       "    <tr>\n",
       "      <th>439</th>\n",
       "      <td>1</td>\n",
       "      <td>3</td>\n",
       "      <td>2787</td>\n",
       "      <td>1698</td>\n",
       "      <td>2510</td>\n",
       "      <td>65</td>\n",
       "      <td>477</td>\n",
       "      <td>52</td>\n",
       "      <td>2</td>\n",
       "    </tr>\n",
       "  </tbody>\n",
       "</table>\n",
       "<p>440 rows × 9 columns</p>\n",
       "</div>"
      ],
      "text/plain": [
       "     Channel  Region  Fresh   Milk  Grocery  Frozen  Detergents_Paper  \\\n",
       "0          2       3  12669   9656     7561     214              2674   \n",
       "1          2       3   7057   9810     9568    1762              3293   \n",
       "2          2       3   6353   8808     7684    2405              3516   \n",
       "3          1       3  13265   1196     4221    6404               507   \n",
       "4          2       3  22615   5410     7198    3915              1777   \n",
       "..       ...     ...    ...    ...      ...     ...               ...   \n",
       "435        1       3  29703  12051    16027   13135               182   \n",
       "436        1       3  39228   1431      764    4510                93   \n",
       "437        2       3  14531  15488    30243     437             14841   \n",
       "438        1       3  10290   1981     2232    1038               168   \n",
       "439        1       3   2787   1698     2510      65               477   \n",
       "\n",
       "     Delicassen  cluster  \n",
       "0          1338        0  \n",
       "1          1776        0  \n",
       "2          7844        0  \n",
       "3          1788        2  \n",
       "4          5185        0  \n",
       "..          ...      ...  \n",
       "435        2204        0  \n",
       "436        2346        2  \n",
       "437        1867        0  \n",
       "438        2125        2  \n",
       "439          52        2  \n",
       "\n",
       "[440 rows x 9 columns]"
      ]
     },
     "execution_count": 47,
     "metadata": {},
     "output_type": "execute_result"
    }
   ],
   "source": [
    "# クラスターを入れたdfを作成\n",
    "cluster_df = pd.DataFrame(pca4_pred, columns=[\"cluster\"])\n",
    "new_df = pd.concat([df, cluster_df],axis=1)\n",
    "new_df"
   ]
  },
  {
   "cell_type": "code",
   "execution_count": 48,
   "metadata": {},
   "outputs": [
    {
     "data": {
      "image/png": "[encoded data removed]",
      "text/plain": [
       "<Figure size 1152x216 with 3 Axes>"
      ]
     },
     "metadata": {
      "needs_background": "light"
     },
     "output_type": "display_data"
    }
   ],
   "source": [
    "# クラスタ毎のChannel、Regionの割合をプロット\n",
    "fig = plt.figure(figsize=(16,3))\n",
    "color_list = [\"pink\",\"skyblue\",\"lightgreen\",\"yellow\"]\n",
    "\n",
    "for i in range(3):\n",
    "    ax = fig.add_subplot(1,3,(i+1))\n",
    "    ax.hist(new_df[new_df[\"cluster\"]==i].loc[:,\"Channel\"], alpha = 0.3, label=\"channel\")\n",
    "    ax.hist(new_df[new_df[\"cluster\"]==i].loc[:,\"Region\"], alpha = 0.3, label=\"region\")\n",
    "    plt.title(f\"cluster{i+1}\")\n",
    "    plt.xlabel(\"number\")\n",
    "    plt.ylabel(\"count\")\n",
    "    plt.legend()"
   ]
  },
  {
   "cell_type": "markdown",
   "metadata": {},
   "source": [
    "### 11.1.1（解答）"
   ]
  },
  {
   "cell_type": "markdown",
   "metadata": {},
   "source": [
    "Regionに関しては、クラスタ毎割合も同じ様な傾向があり特出した特徴が見受けられない。  \n",
    "channelはクラスタ２に所属するデータが極端に2のchannelに所属していないため、何かしらの法則を見つけられる可能性があるので事項で検証したいと思う。"
   ]
  },
  {
   "cell_type": "markdown",
   "metadata": {},
   "source": [
    "## 【問題12】卸売業者にとって有益な情報\n",
    "卸売業者にとって有益な情報を探し出し文章にまとめてください。\n",
    "\n",
    "\n",
    "《ヒント》  \n",
    "前処理を行う前のデータを使い、各クラスタの要約統計量を見るなどしてみましょう。また、PCAで次元削減したデータに対してK-meansを使用しましたが、6個の特徴量をそのまま使ったり、一部の特徴量のみを使ったりということも試してみてください。既知のグループとの比較結果も参考にしてください。\n",
    "\n",
    "条件ごとにデータを見る際にはPandasのgroupbyが便利です。  \n",
    "https://pandas.pydata.org/pandas-docs/stable/generated/pandas.DataFrame.groupby.html"
   ]
  },
  {
   "cell_type": "markdown",
   "metadata": {},
   "source": [
    "### 12.1.1（groupby)"
   ]
  },
  {
   "cell_type": "code",
   "execution_count": 65,
   "metadata": {},
   "outputs": [
    {
     "data": {
      "text/html": [
       "<div>\n",
       "<style scoped>\n",
       "    .dataframe tbody tr th:only-of-type {\n",
       "        vertical-align: middle;\n",
       "    }\n",
       "\n",
       "    .dataframe tbody tr th {\n",
       "        vertical-align: top;\n",
       "    }\n",
       "\n",
       "    .dataframe thead tr th {\n",
       "        text-align: left;\n",
       "    }\n",
       "\n",
       "    .dataframe thead tr:last-of-type th {\n",
       "        text-align: right;\n",
       "    }\n",
       "</style>\n",
       "<table border=\"1\" class=\"dataframe\">\n",
       "  <thead>\n",
       "    <tr>\n",
       "      <th></th>\n",
       "      <th></th>\n",
       "      <th></th>\n",
       "      <th colspan=\"8\" halign=\"left\">Fresh</th>\n",
       "      <th colspan=\"8\" halign=\"left\">Milk</th>\n",
       "      <th colspan=\"8\" halign=\"left\">Grocery</th>\n",
       "      <th colspan=\"8\" halign=\"left\">Frozen</th>\n",
       "      <th colspan=\"8\" halign=\"left\">Detergents_Paper</th>\n",
       "      <th colspan=\"8\" halign=\"left\">Delicassen</th>\n",
       "    </tr>\n",
       "    <tr>\n",
       "      <th></th>\n",
       "      <th></th>\n",
       "      <th></th>\n",
       "      <th>count</th>\n",
       "      <th>mean</th>\n",
       "      <th>std</th>\n",
       "      <th>min</th>\n",
       "      <th>25%</th>\n",
       "      <th>50%</th>\n",
       "      <th>75%</th>\n",
       "      <th>max</th>\n",
       "      <th>count</th>\n",
       "      <th>mean</th>\n",
       "      <th>std</th>\n",
       "      <th>min</th>\n",
       "      <th>25%</th>\n",
       "      <th>50%</th>\n",
       "      <th>75%</th>\n",
       "      <th>max</th>\n",
       "      <th>count</th>\n",
       "      <th>mean</th>\n",
       "      <th>std</th>\n",
       "      <th>min</th>\n",
       "      <th>25%</th>\n",
       "      <th>50%</th>\n",
       "      <th>75%</th>\n",
       "      <th>max</th>\n",
       "      <th>count</th>\n",
       "      <th>mean</th>\n",
       "      <th>std</th>\n",
       "      <th>min</th>\n",
       "      <th>25%</th>\n",
       "      <th>50%</th>\n",
       "      <th>75%</th>\n",
       "      <th>max</th>\n",
       "      <th>count</th>\n",
       "      <th>mean</th>\n",
       "      <th>std</th>\n",
       "      <th>min</th>\n",
       "      <th>25%</th>\n",
       "      <th>50%</th>\n",
       "      <th>75%</th>\n",
       "      <th>max</th>\n",
       "      <th>count</th>\n",
       "      <th>mean</th>\n",
       "      <th>std</th>\n",
       "      <th>min</th>\n",
       "      <th>25%</th>\n",
       "      <th>50%</th>\n",
       "      <th>75%</th>\n",
       "      <th>max</th>\n",
       "    </tr>\n",
       "    <tr>\n",
       "      <th>cluster</th>\n",
       "      <th>Region</th>\n",
       "      <th>Channel</th>\n",
       "      <th></th>\n",
       "      <th></th>\n",
       "      <th></th>\n",
       "      <th></th>\n",
       "      <th></th>\n",
       "      <th></th>\n",
       "      <th></th>\n",
       "      <th></th>\n",
       "      <th></th>\n",
       "      <th></th>\n",
       "      <th></th>\n",
       "      <th></th>\n",
       "      <th></th>\n",
       "      <th></th>\n",
       "      <th></th>\n",
       "      <th></th>\n",
       "      <th></th>\n",
       "      <th></th>\n",
       "      <th></th>\n",
       "      <th></th>\n",
       "      <th></th>\n",
       "      <th></th>\n",
       "      <th></th>\n",
       "      <th></th>\n",
       "      <th></th>\n",
       "      <th></th>\n",
       "      <th></th>\n",
       "      <th></th>\n",
       "      <th></th>\n",
       "      <th></th>\n",
       "      <th></th>\n",
       "      <th></th>\n",
       "      <th></th>\n",
       "      <th></th>\n",
       "      <th></th>\n",
       "      <th></th>\n",
       "      <th></th>\n",
       "      <th></th>\n",
       "      <th></th>\n",
       "      <th></th>\n",
       "      <th></th>\n",
       "      <th></th>\n",
       "      <th></th>\n",
       "      <th></th>\n",
       "      <th></th>\n",
       "      <th></th>\n",
       "      <th></th>\n",
       "      <th></th>\n",
       "    </tr>\n",
       "  </thead>\n",
       "  <tbody>\n",
       "    <tr>\n",
       "      <th rowspan=\"6\" valign=\"top\">0</th>\n",
       "      <th rowspan=\"2\" valign=\"top\">1</th>\n",
       "      <th>1</th>\n",
       "      <td>8.00</td>\n",
       "      <td>21532.25</td>\n",
       "      <td>16358.68</td>\n",
       "      <td>5909.00</td>\n",
       "      <td>9334.75</td>\n",
       "      <td>18206.50</td>\n",
       "      <td>29800.50</td>\n",
       "      <td>53205.00</td>\n",
       "      <td>8.00</td>\n",
       "      <td>10558.25</td>\n",
       "      <td>6864.27</td>\n",
       "      <td>3576.00</td>\n",
       "      <td>6646.50</td>\n",
       "      <td>7868.00</td>\n",
       "      <td>13108.25</td>\n",
       "      <td>23527.00</td>\n",
       "      <td>8.00</td>\n",
       "      <td>9134.00</td>\n",
       "      <td>4498.90</td>\n",
       "      <td>4748.00</td>\n",
       "      <td>5063.50</td>\n",
       "      <td>8413.00</td>\n",
       "      <td>11537.50</td>\n",
       "      <td>16966.00</td>\n",
       "      <td>8.00</td>\n",
       "      <td>5475.62</td>\n",
       "      <td>6233.00</td>\n",
       "      <td>432.00</td>\n",
       "      <td>1027.50</td>\n",
       "      <td>3849.00</td>\n",
       "      <td>6337.50</td>\n",
       "      <td>18711.00</td>\n",
       "      <td>8.00</td>\n",
       "      <td>1197.38</td>\n",
       "      <td>929.65</td>\n",
       "      <td>284.00</td>\n",
       "      <td>663.00</td>\n",
       "      <td>898.50</td>\n",
       "      <td>1580.75</td>\n",
       "      <td>3143.00</td>\n",
       "      <td>8.00</td>\n",
       "      <td>2901.00</td>\n",
       "      <td>1853.12</td>\n",
       "      <td>818.00</td>\n",
       "      <td>1825.25</td>\n",
       "      <td>2637.00</td>\n",
       "      <td>3357.75</td>\n",
       "      <td>6854.00</td>\n",
       "    </tr>\n",
       "    <tr>\n",
       "      <th>2</th>\n",
       "      <td>7.00</td>\n",
       "      <td>10292.71</td>\n",
       "      <td>5628.89</td>\n",
       "      <td>4484.00</td>\n",
       "      <td>5842.00</td>\n",
       "      <td>11072.00</td>\n",
       "      <td>12013.50</td>\n",
       "      <td>20782.00</td>\n",
       "      <td>7.00</td>\n",
       "      <td>14078.57</td>\n",
       "      <td>8710.06</td>\n",
       "      <td>5921.00</td>\n",
       "      <td>7021.00</td>\n",
       "      <td>12729.00</td>\n",
       "      <td>18766.00</td>\n",
       "      <td>28326.00</td>\n",
       "      <td>7.00</td>\n",
       "      <td>21347.00</td>\n",
       "      <td>12353.69</td>\n",
       "      <td>5615.00</td>\n",
       "      <td>12989.50</td>\n",
       "      <td>19847.00</td>\n",
       "      <td>29147.00</td>\n",
       "      <td>39694.00</td>\n",
       "      <td>7.00</td>\n",
       "      <td>3863.43</td>\n",
       "      <td>2894.63</td>\n",
       "      <td>864.00</td>\n",
       "      <td>1414.00</td>\n",
       "      <td>3549.00</td>\n",
       "      <td>5741.00</td>\n",
       "      <td>8321.00</td>\n",
       "      <td>7.00</td>\n",
       "      <td>10650.86</td>\n",
       "      <td>7454.59</td>\n",
       "      <td>955.00</td>\n",
       "      <td>4471.00</td>\n",
       "      <td>12420.00</td>\n",
       "      <td>16414.50</td>\n",
       "      <td>19410.00</td>\n",
       "      <td>7.00</td>\n",
       "      <td>2122.43</td>\n",
       "      <td>1519.61</td>\n",
       "      <td>698.00</td>\n",
       "      <td>1175.00</td>\n",
       "      <td>1681.00</td>\n",
       "      <td>2503.50</td>\n",
       "      <td>5121.00</td>\n",
       "    </tr>\n",
       "    <tr>\n",
       "      <th rowspan=\"2\" valign=\"top\">2</th>\n",
       "      <th>1</th>\n",
       "      <td>1.00</td>\n",
       "      <td>32717.00</td>\n",
       "      <td>nan</td>\n",
       "      <td>32717.00</td>\n",
       "      <td>32717.00</td>\n",
       "      <td>32717.00</td>\n",
       "      <td>32717.00</td>\n",
       "      <td>32717.00</td>\n",
       "      <td>1.00</td>\n",
       "      <td>16784.00</td>\n",
       "      <td>nan</td>\n",
       "      <td>16784.00</td>\n",
       "      <td>16784.00</td>\n",
       "      <td>16784.00</td>\n",
       "      <td>16784.00</td>\n",
       "      <td>16784.00</td>\n",
       "      <td>1.00</td>\n",
       "      <td>13626.00</td>\n",
       "      <td>nan</td>\n",
       "      <td>13626.00</td>\n",
       "      <td>13626.00</td>\n",
       "      <td>13626.00</td>\n",
       "      <td>13626.00</td>\n",
       "      <td>13626.00</td>\n",
       "      <td>1.00</td>\n",
       "      <td>60869.00</td>\n",
       "      <td>nan</td>\n",
       "      <td>60869.00</td>\n",
       "      <td>60869.00</td>\n",
       "      <td>60869.00</td>\n",
       "      <td>60869.00</td>\n",
       "      <td>60869.00</td>\n",
       "      <td>1.00</td>\n",
       "      <td>1272.00</td>\n",
       "      <td>nan</td>\n",
       "      <td>1272.00</td>\n",
       "      <td>1272.00</td>\n",
       "      <td>1272.00</td>\n",
       "      <td>1272.00</td>\n",
       "      <td>1272.00</td>\n",
       "      <td>1.00</td>\n",
       "      <td>5609.00</td>\n",
       "      <td>nan</td>\n",
       "      <td>5609.00</td>\n",
       "      <td>5609.00</td>\n",
       "      <td>5609.00</td>\n",
       "      <td>5609.00</td>\n",
       "      <td>5609.00</td>\n",
       "    </tr>\n",
       "    <tr>\n",
       "      <th>2</th>\n",
       "      <td>9.00</td>\n",
       "      <td>11075.11</td>\n",
       "      <td>6850.78</td>\n",
       "      <td>5283.00</td>\n",
       "      <td>6758.00</td>\n",
       "      <td>8565.00</td>\n",
       "      <td>11223.00</td>\n",
       "      <td>27082.00</td>\n",
       "      <td>9.00</td>\n",
       "      <td>10214.89</td>\n",
       "      <td>7027.21</td>\n",
       "      <td>3199.00</td>\n",
       "      <td>4980.00</td>\n",
       "      <td>6817.00</td>\n",
       "      <td>13316.00</td>\n",
       "      <td>25071.00</td>\n",
       "      <td>9.00</td>\n",
       "      <td>20872.44</td>\n",
       "      <td>18795.38</td>\n",
       "      <td>6360.00</td>\n",
       "      <td>9965.00</td>\n",
       "      <td>17645.00</td>\n",
       "      <td>21570.00</td>\n",
       "      <td>67298.00</td>\n",
       "      <td>9.00</td>\n",
       "      <td>1191.11</td>\n",
       "      <td>528.35</td>\n",
       "      <td>131.00</td>\n",
       "      <td>934.00</td>\n",
       "      <td>1234.00</td>\n",
       "      <td>1455.00</td>\n",
       "      <td>1840.00</td>\n",
       "      <td>9.00</td>\n",
       "      <td>10161.00</td>\n",
       "      <td>10959.37</td>\n",
       "      <td>2662.00</td>\n",
       "      <td>4111.00</td>\n",
       "      <td>7558.00</td>\n",
       "      <td>9606.00</td>\n",
       "      <td>38102.00</td>\n",
       "      <td>9.00</td>\n",
       "      <td>1263.22</td>\n",
       "      <td>645.44</td>\n",
       "      <td>172.00</td>\n",
       "      <td>1037.00</td>\n",
       "      <td>1215.00</td>\n",
       "      <td>1625.00</td>\n",
       "      <td>2139.00</td>\n",
       "    </tr>\n",
       "    <tr>\n",
       "      <th rowspan=\"2\" valign=\"top\">3</th>\n",
       "      <th>1</th>\n",
       "      <td>22.00</td>\n",
       "      <td>28971.32</td>\n",
       "      <td>25158.67</td>\n",
       "      <td>4625.00</td>\n",
       "      <td>12550.50</td>\n",
       "      <td>18995.50</td>\n",
       "      <td>36248.75</td>\n",
       "      <td>112151.00</td>\n",
       "      <td>22.00</td>\n",
       "      <td>9846.18</td>\n",
       "      <td>10193.48</td>\n",
       "      <td>1266.00</td>\n",
       "      <td>4011.50</td>\n",
       "      <td>5771.00</td>\n",
       "      <td>10591.25</td>\n",
       "      <td>43950.00</td>\n",
       "      <td>22.00</td>\n",
       "      <td>10270.23</td>\n",
       "      <td>5066.48</td>\n",
       "      <td>4604.00</td>\n",
       "      <td>6560.25</td>\n",
       "      <td>8293.00</td>\n",
       "      <td>13889.25</td>\n",
       "      <td>21042.00</td>\n",
       "      <td>22.00</td>\n",
       "      <td>8251.73</td>\n",
       "      <td>8753.28</td>\n",
       "      <td>127.00</td>\n",
       "      <td>2296.50</td>\n",
       "      <td>4974.00</td>\n",
       "      <td>13398.25</td>\n",
       "      <td>36534.00</td>\n",
       "      <td>22.00</td>\n",
       "      <td>1786.73</td>\n",
       "      <td>1407.55</td>\n",
       "      <td>182.00</td>\n",
       "      <td>791.25</td>\n",
       "      <td>1506.00</td>\n",
       "      <td>2311.75</td>\n",
       "      <td>5079.00</td>\n",
       "      <td>22.00</td>\n",
       "      <td>5756.23</td>\n",
       "      <td>10196.97</td>\n",
       "      <td>230.00</td>\n",
       "      <td>1630.00</td>\n",
       "      <td>2557.00</td>\n",
       "      <td>4580.75</td>\n",
       "      <td>47943.00</td>\n",
       "    </tr>\n",
       "    <tr>\n",
       "      <th>2</th>\n",
       "      <td>58.00</td>\n",
       "      <td>14773.66</td>\n",
       "      <td>8964.13</td>\n",
       "      <td>4098.00</td>\n",
       "      <td>8077.50</td>\n",
       "      <td>12221.50</td>\n",
       "      <td>19574.50</td>\n",
       "      <td>44466.00</td>\n",
       "      <td>58.00</td>\n",
       "      <td>13255.57</td>\n",
       "      <td>13185.35</td>\n",
       "      <td>2884.00</td>\n",
       "      <td>6248.00</td>\n",
       "      <td>9020.00</td>\n",
       "      <td>12686.00</td>\n",
       "      <td>73498.00</td>\n",
       "      <td>58.00</td>\n",
       "      <td>17262.02</td>\n",
       "      <td>15029.49</td>\n",
       "      <td>4602.00</td>\n",
       "      <td>8873.75</td>\n",
       "      <td>12117.50</td>\n",
       "      <td>20355.25</td>\n",
       "      <td>92780.00</td>\n",
       "      <td>58.00</td>\n",
       "      <td>1952.57</td>\n",
       "      <td>1639.74</td>\n",
       "      <td>42.00</td>\n",
       "      <td>870.25</td>\n",
       "      <td>1657.50</td>\n",
       "      <td>2729.50</td>\n",
       "      <td>8132.00</td>\n",
       "      <td>58.00</td>\n",
       "      <td>7431.71</td>\n",
       "      <td>7243.95</td>\n",
       "      <td>764.00</td>\n",
       "      <td>3233.00</td>\n",
       "      <td>4619.50</td>\n",
       "      <td>7997.00</td>\n",
       "      <td>40827.00</td>\n",
       "      <td>58.00</td>\n",
       "      <td>2285.72</td>\n",
       "      <td>2559.62</td>\n",
       "      <td>46.00</td>\n",
       "      <td>851.25</td>\n",
       "      <td>1748.50</td>\n",
       "      <td>2703.25</td>\n",
       "      <td>16523.00</td>\n",
       "    </tr>\n",
       "    <tr>\n",
       "      <th rowspan=\"6\" valign=\"top\">1</th>\n",
       "      <th rowspan=\"2\" valign=\"top\">1</th>\n",
       "      <th>1</th>\n",
       "      <td>10.00</td>\n",
       "      <td>2145.20</td>\n",
       "      <td>1467.34</td>\n",
       "      <td>514.00</td>\n",
       "      <td>1107.25</td>\n",
       "      <td>1995.50</td>\n",
       "      <td>2690.50</td>\n",
       "      <td>5396.00</td>\n",
       "      <td>10.00</td>\n",
       "      <td>6078.30</td>\n",
       "      <td>3510.40</td>\n",
       "      <td>685.00</td>\n",
       "      <td>4057.00</td>\n",
       "      <td>6491.00</td>\n",
       "      <td>8118.00</td>\n",
       "      <td>10765.00</td>\n",
       "      <td>10.00</td>\n",
       "      <td>6462.00</td>\n",
       "      <td>4065.33</td>\n",
       "      <td>2216.00</td>\n",
       "      <td>3444.00</td>\n",
       "      <td>6261.00</td>\n",
       "      <td>6867.00</td>\n",
       "      <td>15538.00</td>\n",
       "      <td>10.00</td>\n",
       "      <td>1356.90</td>\n",
       "      <td>1170.73</td>\n",
       "      <td>91.00</td>\n",
       "      <td>631.00</td>\n",
       "      <td>1273.50</td>\n",
       "      <td>1422.75</td>\n",
       "      <td>4324.00</td>\n",
       "      <td>10.00</td>\n",
       "      <td>2446.90</td>\n",
       "      <td>1884.71</td>\n",
       "      <td>93.00</td>\n",
       "      <td>1019.50</td>\n",
       "      <td>2230.00</td>\n",
       "      <td>3816.00</td>\n",
       "      <td>5828.00</td>\n",
       "      <td>10.00</td>\n",
       "      <td>690.90</td>\n",
       "      <td>721.89</td>\n",
       "      <td>7.00</td>\n",
       "      <td>253.00</td>\n",
       "      <td>450.50</td>\n",
       "      <td>981.50</td>\n",
       "      <td>2388.00</td>\n",
       "    </tr>\n",
       "    <tr>\n",
       "      <th>2</th>\n",
       "      <td>11.00</td>\n",
       "      <td>1959.18</td>\n",
       "      <td>1067.03</td>\n",
       "      <td>18.00</td>\n",
       "      <td>1090.00</td>\n",
       "      <td>2427.00</td>\n",
       "      <td>2665.50</td>\n",
       "      <td>3067.00</td>\n",
       "      <td>11.00</td>\n",
       "      <td>8687.45</td>\n",
       "      <td>4038.20</td>\n",
       "      <td>2527.00</td>\n",
       "      <td>6352.50</td>\n",
       "      <td>7504.00</td>\n",
       "      <td>10737.00</td>\n",
       "      <td>16599.00</td>\n",
       "      <td>11.00</td>\n",
       "      <td>16642.36</td>\n",
       "      <td>9129.91</td>\n",
       "      <td>5265.00</td>\n",
       "      <td>10877.50</td>\n",
       "      <td>15205.00</td>\n",
       "      <td>22654.50</td>\n",
       "      <td>36486.00</td>\n",
       "      <td>11.00</td>\n",
       "      <td>1770.00</td>\n",
       "      <td>1758.74</td>\n",
       "      <td>61.00</td>\n",
       "      <td>571.50</td>\n",
       "      <td>1127.00</td>\n",
       "      <td>2583.50</td>\n",
       "      <td>5612.00</td>\n",
       "      <td>11.00</td>\n",
       "      <td>6681.73</td>\n",
       "      <td>3411.83</td>\n",
       "      <td>788.00</td>\n",
       "      <td>4839.50</td>\n",
       "      <td>5957.00</td>\n",
       "      <td>9099.00</td>\n",
       "      <td>13308.00</td>\n",
       "      <td>11.00</td>\n",
       "      <td>1712.55</td>\n",
       "      <td>1743.52</td>\n",
       "      <td>120.00</td>\n",
       "      <td>720.50</td>\n",
       "      <td>1265.00</td>\n",
       "      <td>2015.50</td>\n",
       "      <td>6372.00</td>\n",
       "    </tr>\n",
       "    <tr>\n",
       "      <th rowspan=\"2\" valign=\"top\">2</th>\n",
       "      <th>1</th>\n",
       "      <td>4.00</td>\n",
       "      <td>850.75</td>\n",
       "      <td>784.48</td>\n",
       "      <td>3.00</td>\n",
       "      <td>333.75</td>\n",
       "      <td>813.00</td>\n",
       "      <td>1330.00</td>\n",
       "      <td>1774.00</td>\n",
       "      <td>4.00</td>\n",
       "      <td>1999.00</td>\n",
       "      <td>1642.73</td>\n",
       "      <td>333.00</td>\n",
       "      <td>742.50</td>\n",
       "      <td>1983.50</td>\n",
       "      <td>3240.00</td>\n",
       "      <td>3696.00</td>\n",
       "      <td>4.00</td>\n",
       "      <td>4368.75</td>\n",
       "      <td>2567.33</td>\n",
       "      <td>2060.00</td>\n",
       "      <td>2225.00</td>\n",
       "      <td>4197.00</td>\n",
       "      <td>6340.75</td>\n",
       "      <td>7021.00</td>\n",
       "      <td>4.00</td>\n",
       "      <td>4339.25</td>\n",
       "      <td>7513.66</td>\n",
       "      <td>264.00</td>\n",
       "      <td>451.50</td>\n",
       "      <td>746.00</td>\n",
       "      <td>4633.75</td>\n",
       "      <td>15601.00</td>\n",
       "      <td>4.00</td>\n",
       "      <td>350.25</td>\n",
       "      <td>338.28</td>\n",
       "      <td>15.00</td>\n",
       "      <td>210.00</td>\n",
       "      <td>282.50</td>\n",
       "      <td>422.75</td>\n",
       "      <td>821.00</td>\n",
       "      <td>4.00</td>\n",
       "      <td>820.00</td>\n",
       "      <td>593.10</td>\n",
       "      <td>259.00</td>\n",
       "      <td>477.25</td>\n",
       "      <td>692.00</td>\n",
       "      <td>1034.75</td>\n",
       "      <td>1637.00</td>\n",
       "    </tr>\n",
       "    <tr>\n",
       "      <th>2</th>\n",
       "      <td>8.00</td>\n",
       "      <td>1802.38</td>\n",
       "      <td>1349.35</td>\n",
       "      <td>161.00</td>\n",
       "      <td>749.25</td>\n",
       "      <td>1808.00</td>\n",
       "      <td>2670.75</td>\n",
       "      <td>3996.00</td>\n",
       "      <td>8.00</td>\n",
       "      <td>9983.25</td>\n",
       "      <td>6044.96</td>\n",
       "      <td>3688.00</td>\n",
       "      <td>4910.75</td>\n",
       "      <td>9281.50</td>\n",
       "      <td>13449.75</td>\n",
       "      <td>20655.00</td>\n",
       "      <td>8.00</td>\n",
       "      <td>14296.38</td>\n",
       "      <td>5254.15</td>\n",
       "      <td>8852.00</td>\n",
       "      <td>11389.25</td>\n",
       "      <td>13018.00</td>\n",
       "      <td>15164.75</td>\n",
       "      <td>24773.00</td>\n",
       "      <td>8.00</td>\n",
       "      <td>821.88</td>\n",
       "      <td>380.03</td>\n",
       "      <td>364.00</td>\n",
       "      <td>585.75</td>\n",
       "      <td>730.50</td>\n",
       "      <td>995.00</td>\n",
       "      <td>1465.00</td>\n",
       "      <td>8.00</td>\n",
       "      <td>8225.75</td>\n",
       "      <td>4529.53</td>\n",
       "      <td>3891.00</td>\n",
       "      <td>5441.25</td>\n",
       "      <td>6541.00</td>\n",
       "      <td>10497.50</td>\n",
       "      <td>17120.00</td>\n",
       "      <td>8.00</td>\n",
       "      <td>1054.00</td>\n",
       "      <td>1242.22</td>\n",
       "      <td>59.00</td>\n",
       "      <td>193.75</td>\n",
       "      <td>648.00</td>\n",
       "      <td>1207.00</td>\n",
       "      <td>3508.00</td>\n",
       "    </tr>\n",
       "    <tr>\n",
       "      <th rowspan=\"2\" valign=\"top\">3</th>\n",
       "      <th>1</th>\n",
       "      <td>37.00</td>\n",
       "      <td>2150.46</td>\n",
       "      <td>1981.50</td>\n",
       "      <td>3.00</td>\n",
       "      <td>694.00</td>\n",
       "      <td>1502.00</td>\n",
       "      <td>3087.00</td>\n",
       "      <td>7780.00</td>\n",
       "      <td>37.00</td>\n",
       "      <td>4730.59</td>\n",
       "      <td>3254.42</td>\n",
       "      <td>727.00</td>\n",
       "      <td>3086.00</td>\n",
       "      <td>3683.00</td>\n",
       "      <td>5758.00</td>\n",
       "      <td>18664.00</td>\n",
       "      <td>37.00</td>\n",
       "      <td>5933.78</td>\n",
       "      <td>3591.37</td>\n",
       "      <td>1660.00</td>\n",
       "      <td>3268.00</td>\n",
       "      <td>5005.00</td>\n",
       "      <td>8040.00</td>\n",
       "      <td>16483.00</td>\n",
       "      <td>37.00</td>\n",
       "      <td>1391.84</td>\n",
       "      <td>1966.87</td>\n",
       "      <td>25.00</td>\n",
       "      <td>340.00</td>\n",
       "      <td>531.00</td>\n",
       "      <td>1535.00</td>\n",
       "      <td>7530.00</td>\n",
       "      <td>37.00</td>\n",
       "      <td>1679.84</td>\n",
       "      <td>1784.32</td>\n",
       "      <td>122.00</td>\n",
       "      <td>334.00</td>\n",
       "      <td>825.00</td>\n",
       "      <td>2840.00</td>\n",
       "      <td>6907.00</td>\n",
       "      <td>37.00</td>\n",
       "      <td>1033.59</td>\n",
       "      <td>1034.09</td>\n",
       "      <td>3.00</td>\n",
       "      <td>303.00</td>\n",
       "      <td>776.00</td>\n",
       "      <td>1393.00</td>\n",
       "      <td>4365.00</td>\n",
       "    </tr>\n",
       "    <tr>\n",
       "      <th>2</th>\n",
       "      <td>43.00</td>\n",
       "      <td>2166.95</td>\n",
       "      <td>1992.10</td>\n",
       "      <td>23.00</td>\n",
       "      <td>502.50</td>\n",
       "      <td>1531.00</td>\n",
       "      <td>3251.00</td>\n",
       "      <td>8590.00</td>\n",
       "      <td>43.00</td>\n",
       "      <td>8653.53</td>\n",
       "      <td>4702.76</td>\n",
       "      <td>1275.00</td>\n",
       "      <td>5945.50</td>\n",
       "      <td>7704.00</td>\n",
       "      <td>10581.50</td>\n",
       "      <td>25862.00</td>\n",
       "      <td>43.00</td>\n",
       "      <td>15232.65</td>\n",
       "      <td>7288.26</td>\n",
       "      <td>6981.00</td>\n",
       "      <td>10595.50</td>\n",
       "      <td>12974.00</td>\n",
       "      <td>19632.50</td>\n",
       "      <td>45828.00</td>\n",
       "      <td>43.00</td>\n",
       "      <td>944.56</td>\n",
       "      <td>1161.85</td>\n",
       "      <td>33.00</td>\n",
       "      <td>175.50</td>\n",
       "      <td>673.00</td>\n",
       "      <td>1054.50</td>\n",
       "      <td>5641.00</td>\n",
       "      <td>43.00</td>\n",
       "      <td>6666.72</td>\n",
       "      <td>3920.20</td>\n",
       "      <td>813.00</td>\n",
       "      <td>4466.00</td>\n",
       "      <td>6600.00</td>\n",
       "      <td>7421.50</td>\n",
       "      <td>24231.00</td>\n",
       "      <td>43.00</td>\n",
       "      <td>1294.42</td>\n",
       "      <td>1224.36</td>\n",
       "      <td>3.00</td>\n",
       "      <td>273.50</td>\n",
       "      <td>1115.00</td>\n",
       "      <td>1787.50</td>\n",
       "      <td>6250.00</td>\n",
       "    </tr>\n",
       "    <tr>\n",
       "      <th rowspan=\"5\" valign=\"top\">2</th>\n",
       "      <th>1</th>\n",
       "      <th>1</th>\n",
       "      <td>41.00</td>\n",
       "      <td>13842.02</td>\n",
       "      <td>11350.19</td>\n",
       "      <td>1869.00</td>\n",
       "      <td>7274.00</td>\n",
       "      <td>9670.00</td>\n",
       "      <td>18226.00</td>\n",
       "      <td>56083.00</td>\n",
       "      <td>41.00</td>\n",
       "      <td>2026.66</td>\n",
       "      <td>1456.94</td>\n",
       "      <td>258.00</td>\n",
       "      <td>891.00</td>\n",
       "      <td>1801.00</td>\n",
       "      <td>2703.00</td>\n",
       "      <td>5279.00</td>\n",
       "      <td>41.00</td>\n",
       "      <td>2435.37</td>\n",
       "      <td>1595.92</td>\n",
       "      <td>489.00</td>\n",
       "      <td>1393.00</td>\n",
       "      <td>2062.00</td>\n",
       "      <td>2914.00</td>\n",
       "      <td>7041.00</td>\n",
       "      <td>41.00</td>\n",
       "      <td>3100.93</td>\n",
       "      <td>2563.52</td>\n",
       "      <td>327.00</td>\n",
       "      <td>1112.00</td>\n",
       "      <td>2286.00</td>\n",
       "      <td>4634.00</td>\n",
       "      <td>11422.00</td>\n",
       "      <td>41.00</td>\n",
       "      <td>537.39</td>\n",
       "      <td>880.58</td>\n",
       "      <td>5.00</td>\n",
       "      <td>147.00</td>\n",
       "      <td>325.00</td>\n",
       "      <td>586.00</td>\n",
       "      <td>4762.00</td>\n",
       "      <td>41.00</td>\n",
       "      <td>988.17</td>\n",
       "      <td>866.21</td>\n",
       "      <td>56.00</td>\n",
       "      <td>373.00</td>\n",
       "      <td>689.00</td>\n",
       "      <td>1215.00</td>\n",
       "      <td>3628.00</td>\n",
       "    </tr>\n",
       "    <tr>\n",
       "      <th rowspan=\"2\" valign=\"top\">2</th>\n",
       "      <th>1</th>\n",
       "      <td>23.00</td>\n",
       "      <td>12612.83</td>\n",
       "      <td>7503.50</td>\n",
       "      <td>542.00</td>\n",
       "      <td>7080.50</td>\n",
       "      <td>10617.00</td>\n",
       "      <td>17130.00</td>\n",
       "      <td>29635.00</td>\n",
       "      <td>23.00</td>\n",
       "      <td>1727.78</td>\n",
       "      <td>743.75</td>\n",
       "      <td>713.00</td>\n",
       "      <td>1246.00</td>\n",
       "      <td>1511.00</td>\n",
       "      <td>2111.00</td>\n",
       "      <td>3587.00</td>\n",
       "      <td>23.00</td>\n",
       "      <td>3998.83</td>\n",
       "      <td>2543.17</td>\n",
       "      <td>1330.00</td>\n",
       "      <td>2405.00</td>\n",
       "      <td>3315.00</td>\n",
       "      <td>5138.00</td>\n",
       "      <td>11593.00</td>\n",
       "      <td>23.00</td>\n",
       "      <td>3592.83</td>\n",
       "      <td>3162.85</td>\n",
       "      <td>414.00</td>\n",
       "      <td>1316.00</td>\n",
       "      <td>2714.00</td>\n",
       "      <td>4075.00</td>\n",
       "      <td>12569.00</td>\n",
       "      <td>23.00</td>\n",
       "      <td>471.43</td>\n",
       "      <td>418.04</td>\n",
       "      <td>83.00</td>\n",
       "      <td>182.50</td>\n",
       "      <td>351.00</td>\n",
       "      <td>639.50</td>\n",
       "      <td>1679.00</td>\n",
       "      <td>23.00</td>\n",
       "      <td>959.83</td>\n",
       "      <td>603.10</td>\n",
       "      <td>51.00</td>\n",
       "      <td>614.50</td>\n",
       "      <td>898.00</td>\n",
       "      <td>1115.00</td>\n",
       "      <td>2602.00</td>\n",
       "    </tr>\n",
       "    <tr>\n",
       "      <th>2</th>\n",
       "      <td>2.00</td>\n",
       "      <td>12205.50</td>\n",
       "      <td>6530.13</td>\n",
       "      <td>7588.00</td>\n",
       "      <td>9896.75</td>\n",
       "      <td>12205.50</td>\n",
       "      <td>14514.25</td>\n",
       "      <td>16823.00</td>\n",
       "      <td>2.00</td>\n",
       "      <td>1412.50</td>\n",
       "      <td>685.19</td>\n",
       "      <td>928.00</td>\n",
       "      <td>1170.25</td>\n",
       "      <td>1412.50</td>\n",
       "      <td>1654.75</td>\n",
       "      <td>1897.00</td>\n",
       "      <td>2.00</td>\n",
       "      <td>3988.50</td>\n",
       "      <td>1761.40</td>\n",
       "      <td>2743.00</td>\n",
       "      <td>3365.75</td>\n",
       "      <td>3988.50</td>\n",
       "      <td>4611.25</td>\n",
       "      <td>5234.00</td>\n",
       "      <td>2.00</td>\n",
       "      <td>5988.00</td>\n",
       "      <td>7878.58</td>\n",
       "      <td>417.00</td>\n",
       "      <td>3202.50</td>\n",
       "      <td>5988.00</td>\n",
       "      <td>8773.50</td>\n",
       "      <td>11559.00</td>\n",
       "      <td>2.00</td>\n",
       "      <td>1270.00</td>\n",
       "      <td>1326.53</td>\n",
       "      <td>332.00</td>\n",
       "      <td>801.00</td>\n",
       "      <td>1270.00</td>\n",
       "      <td>1739.00</td>\n",
       "      <td>2208.00</td>\n",
       "      <td>2.00</td>\n",
       "      <td>1870.00</td>\n",
       "      <td>2285.37</td>\n",
       "      <td>254.00</td>\n",
       "      <td>1062.00</td>\n",
       "      <td>1870.00</td>\n",
       "      <td>2678.00</td>\n",
       "      <td>3486.00</td>\n",
       "    </tr>\n",
       "    <tr>\n",
       "      <th rowspan=\"2\" valign=\"top\">3</th>\n",
       "      <th>1</th>\n",
       "      <td>152.00</td>\n",
       "      <td>14548.24</td>\n",
       "      <td>12088.13</td>\n",
       "      <td>403.00</td>\n",
       "      <td>6008.75</td>\n",
       "      <td>11278.50</td>\n",
       "      <td>19350.75</td>\n",
       "      <td>76237.00</td>\n",
       "      <td>152.00</td>\n",
       "      <td>2263.85</td>\n",
       "      <td>1875.19</td>\n",
       "      <td>55.00</td>\n",
       "      <td>1027.50</td>\n",
       "      <td>1724.00</td>\n",
       "      <td>2924.25</td>\n",
       "      <td>13252.00</td>\n",
       "      <td>152.00</td>\n",
       "      <td>2464.51</td>\n",
       "      <td>1521.23</td>\n",
       "      <td>3.00</td>\n",
       "      <td>1493.00</td>\n",
       "      <td>2151.00</td>\n",
       "      <td>3215.50</td>\n",
       "      <td>8253.00</td>\n",
       "      <td>152.00</td>\n",
       "      <td>3543.22</td>\n",
       "      <td>4271.17</td>\n",
       "      <td>47.00</td>\n",
       "      <td>904.00</td>\n",
       "      <td>2082.50</td>\n",
       "      <td>4486.75</td>\n",
       "      <td>35009.00</td>\n",
       "      <td>152.00</td>\n",
       "      <td>424.53</td>\n",
       "      <td>418.22</td>\n",
       "      <td>3.00</td>\n",
       "      <td>118.00</td>\n",
       "      <td>275.00</td>\n",
       "      <td>587.00</td>\n",
       "      <td>2381.00</td>\n",
       "      <td>152.00</td>\n",
       "      <td>1022.88</td>\n",
       "      <td>1012.55</td>\n",
       "      <td>3.00</td>\n",
       "      <td>371.50</td>\n",
       "      <td>699.00</td>\n",
       "      <td>1379.50</td>\n",
       "      <td>5864.00</td>\n",
       "    </tr>\n",
       "    <tr>\n",
       "      <th>2</th>\n",
       "      <td>4.00</td>\n",
       "      <td>20564.25</td>\n",
       "      <td>12974.87</td>\n",
       "      <td>11867.00</td>\n",
       "      <td>12826.25</td>\n",
       "      <td>15355.50</td>\n",
       "      <td>23093.50</td>\n",
       "      <td>39679.00</td>\n",
       "      <td>4.00</td>\n",
       "      <td>3020.25</td>\n",
       "      <td>1289.24</td>\n",
       "      <td>1124.00</td>\n",
       "      <td>2776.25</td>\n",
       "      <td>3506.50</td>\n",
       "      <td>3750.50</td>\n",
       "      <td>3944.00</td>\n",
       "      <td>4.00</td>\n",
       "      <td>4737.25</td>\n",
       "      <td>187.66</td>\n",
       "      <td>4523.00</td>\n",
       "      <td>4623.50</td>\n",
       "      <td>4735.50</td>\n",
       "      <td>4849.25</td>\n",
       "      <td>4955.00</td>\n",
       "      <td>4.00</td>\n",
       "      <td>1255.25</td>\n",
       "      <td>166.78</td>\n",
       "      <td>1059.00</td>\n",
       "      <td>1148.25</td>\n",
       "      <td>1271.00</td>\n",
       "      <td>1378.00</td>\n",
       "      <td>1420.00</td>\n",
       "      <td>4.00</td>\n",
       "      <td>1678.00</td>\n",
       "      <td>1558.37</td>\n",
       "      <td>523.00</td>\n",
       "      <td>542.50</td>\n",
       "      <td>1176.00</td>\n",
       "      <td>2311.50</td>\n",
       "      <td>3837.00</td>\n",
       "      <td>4.00</td>\n",
       "      <td>880.00</td>\n",
       "      <td>931.89</td>\n",
       "      <td>120.00</td>\n",
       "      <td>402.75</td>\n",
       "      <td>582.50</td>\n",
       "      <td>1059.75</td>\n",
       "      <td>2235.00</td>\n",
       "    </tr>\n",
       "  </tbody>\n",
       "</table>\n",
       "</div>"
      ],
      "text/plain": [
       "                        Fresh                                               \\\n",
       "                        count     mean      std      min      25%      50%   \n",
       "cluster Region Channel                                                       \n",
       "0       1      1         8.00 21532.25 16358.68  5909.00  9334.75 18206.50   \n",
       "               2         7.00 10292.71  5628.89  4484.00  5842.00 11072.00   \n",
       "        2      1         1.00 32717.00      nan 32717.00 32717.00 32717.00   \n",
       "               2         9.00 11075.11  6850.78  5283.00  6758.00  8565.00   \n",
       "        3      1        22.00 28971.32 25158.67  4625.00 12550.50 18995.50   \n",
       "               2        58.00 14773.66  8964.13  4098.00  8077.50 12221.50   \n",
       "1       1      1        10.00  2145.20  1467.34   514.00  1107.25  1995.50   \n",
       "               2        11.00  1959.18  1067.03    18.00  1090.00  2427.00   \n",
       "        2      1         4.00   850.75   784.48     3.00   333.75   813.00   \n",
       "               2         8.00  1802.38  1349.35   161.00   749.25  1808.00   \n",
       "        3      1        37.00  2150.46  1981.50     3.00   694.00  1502.00   \n",
       "               2        43.00  2166.95  1992.10    23.00   502.50  1531.00   \n",
       "2       1      1        41.00 13842.02 11350.19  1869.00  7274.00  9670.00   \n",
       "        2      1        23.00 12612.83  7503.50   542.00  7080.50 10617.00   \n",
       "               2         2.00 12205.50  6530.13  7588.00  9896.75 12205.50   \n",
       "        3      1       152.00 14548.24 12088.13   403.00  6008.75 11278.50   \n",
       "               2         4.00 20564.25 12974.87 11867.00 12826.25 15355.50   \n",
       "\n",
       "                                            Milk                             \\\n",
       "                            75%       max  count     mean      std      min   \n",
       "cluster Region Channel                                                        \n",
       "0       1      1       29800.50  53205.00   8.00 10558.25  6864.27  3576.00   \n",
       "               2       12013.50  20782.00   7.00 14078.57  8710.06  5921.00   \n",
       "        2      1       32717.00  32717.00   1.00 16784.00      nan 16784.00   \n",
       "               2       11223.00  27082.00   9.00 10214.89  7027.21  3199.00   \n",
       "        3      1       36248.75 112151.00  22.00  9846.18 10193.48  1266.00   \n",
       "               2       19574.50  44466.00  58.00 13255.57 13185.35  2884.00   \n",
       "1       1      1        2690.50   5396.00  10.00  6078.30  3510.40   685.00   \n",
       "               2        2665.50   3067.00  11.00  8687.45  4038.20  2527.00   \n",
       "        2      1        1330.00   1774.00   4.00  1999.00  1642.73   333.00   \n",
       "               2        2670.75   3996.00   8.00  9983.25  6044.96  3688.00   \n",
       "        3      1        3087.00   7780.00  37.00  4730.59  3254.42   727.00   \n",
       "               2        3251.00   8590.00  43.00  8653.53  4702.76  1275.00   \n",
       "2       1      1       18226.00  56083.00  41.00  2026.66  1456.94   258.00   \n",
       "        2      1       17130.00  29635.00  23.00  1727.78   743.75   713.00   \n",
       "               2       14514.25  16823.00   2.00  1412.50   685.19   928.00   \n",
       "        3      1       19350.75  76237.00 152.00  2263.85  1875.19    55.00   \n",
       "               2       23093.50  39679.00   4.00  3020.25  1289.24  1124.00   \n",
       "\n",
       "                                                           Grocery           \\\n",
       "                            25%      50%      75%      max   count     mean   \n",
       "cluster Region Channel                                                        \n",
       "0       1      1        6646.50  7868.00 13108.25 23527.00    8.00  9134.00   \n",
       "               2        7021.00 12729.00 18766.00 28326.00    7.00 21347.00   \n",
       "        2      1       16784.00 16784.00 16784.00 16784.00    1.00 13626.00   \n",
       "               2        4980.00  6817.00 13316.00 25071.00    9.00 20872.44   \n",
       "        3      1        4011.50  5771.00 10591.25 43950.00   22.00 10270.23   \n",
       "               2        6248.00  9020.00 12686.00 73498.00   58.00 17262.02   \n",
       "1       1      1        4057.00  6491.00  8118.00 10765.00   10.00  6462.00   \n",
       "               2        6352.50  7504.00 10737.00 16599.00   11.00 16642.36   \n",
       "        2      1         742.50  1983.50  3240.00  3696.00    4.00  4368.75   \n",
       "               2        4910.75  9281.50 13449.75 20655.00    8.00 14296.38   \n",
       "        3      1        3086.00  3683.00  5758.00 18664.00   37.00  5933.78   \n",
       "               2        5945.50  7704.00 10581.50 25862.00   43.00 15232.65   \n",
       "2       1      1         891.00  1801.00  2703.00  5279.00   41.00  2435.37   \n",
       "        2      1        1246.00  1511.00  2111.00  3587.00   23.00  3998.83   \n",
       "               2        1170.25  1412.50  1654.75  1897.00    2.00  3988.50   \n",
       "        3      1        1027.50  1724.00  2924.25 13252.00  152.00  2464.51   \n",
       "               2        2776.25  3506.50  3750.50  3944.00    4.00  4737.25   \n",
       "\n",
       "                                                                              \\\n",
       "                            std      min      25%      50%      75%      max   \n",
       "cluster Region Channel                                                         \n",
       "0       1      1        4498.90  4748.00  5063.50  8413.00 11537.50 16966.00   \n",
       "               2       12353.69  5615.00 12989.50 19847.00 29147.00 39694.00   \n",
       "        2      1            nan 13626.00 13626.00 13626.00 13626.00 13626.00   \n",
       "               2       18795.38  6360.00  9965.00 17645.00 21570.00 67298.00   \n",
       "        3      1        5066.48  4604.00  6560.25  8293.00 13889.25 21042.00   \n",
       "               2       15029.49  4602.00  8873.75 12117.50 20355.25 92780.00   \n",
       "1       1      1        4065.33  2216.00  3444.00  6261.00  6867.00 15538.00   \n",
       "               2        9129.91  5265.00 10877.50 15205.00 22654.50 36486.00   \n",
       "        2      1        2567.33  2060.00  2225.00  4197.00  6340.75  7021.00   \n",
       "               2        5254.15  8852.00 11389.25 13018.00 15164.75 24773.00   \n",
       "        3      1        3591.37  1660.00  3268.00  5005.00  8040.00 16483.00   \n",
       "               2        7288.26  6981.00 10595.50 12974.00 19632.50 45828.00   \n",
       "2       1      1        1595.92   489.00  1393.00  2062.00  2914.00  7041.00   \n",
       "        2      1        2543.17  1330.00  2405.00  3315.00  5138.00 11593.00   \n",
       "               2        1761.40  2743.00  3365.75  3988.50  4611.25  5234.00   \n",
       "        3      1        1521.23     3.00  1493.00  2151.00  3215.50  8253.00   \n",
       "               2         187.66  4523.00  4623.50  4735.50  4849.25  4955.00   \n",
       "\n",
       "                       Frozen                                              \\\n",
       "                        count     mean     std      min      25%      50%   \n",
       "cluster Region Channel                                                      \n",
       "0       1      1         8.00  5475.62 6233.00   432.00  1027.50  3849.00   \n",
       "               2         7.00  3863.43 2894.63   864.00  1414.00  3549.00   \n",
       "        2      1         1.00 60869.00     nan 60869.00 60869.00 60869.00   \n",
       "               2         9.00  1191.11  528.35   131.00   934.00  1234.00   \n",
       "        3      1        22.00  8251.73 8753.28   127.00  2296.50  4974.00   \n",
       "               2        58.00  1952.57 1639.74    42.00   870.25  1657.50   \n",
       "1       1      1        10.00  1356.90 1170.73    91.00   631.00  1273.50   \n",
       "               2        11.00  1770.00 1758.74    61.00   571.50  1127.00   \n",
       "        2      1         4.00  4339.25 7513.66   264.00   451.50   746.00   \n",
       "               2         8.00   821.88  380.03   364.00   585.75   730.50   \n",
       "        3      1        37.00  1391.84 1966.87    25.00   340.00   531.00   \n",
       "               2        43.00   944.56 1161.85    33.00   175.50   673.00   \n",
       "2       1      1        41.00  3100.93 2563.52   327.00  1112.00  2286.00   \n",
       "        2      1        23.00  3592.83 3162.85   414.00  1316.00  2714.00   \n",
       "               2         2.00  5988.00 7878.58   417.00  3202.50  5988.00   \n",
       "        3      1       152.00  3543.22 4271.17    47.00   904.00  2082.50   \n",
       "               2         4.00  1255.25  166.78  1059.00  1148.25  1271.00   \n",
       "\n",
       "                                         Detergents_Paper                    \\\n",
       "                            75%      max            count     mean      std   \n",
       "cluster Region Channel                                                        \n",
       "0       1      1        6337.50 18711.00             8.00  1197.38   929.65   \n",
       "               2        5741.00  8321.00             7.00 10650.86  7454.59   \n",
       "        2      1       60869.00 60869.00             1.00  1272.00      nan   \n",
       "               2        1455.00  1840.00             9.00 10161.00 10959.37   \n",
       "        3      1       13398.25 36534.00            22.00  1786.73  1407.55   \n",
       "               2        2729.50  8132.00            58.00  7431.71  7243.95   \n",
       "1       1      1        1422.75  4324.00            10.00  2446.90  1884.71   \n",
       "               2        2583.50  5612.00            11.00  6681.73  3411.83   \n",
       "        2      1        4633.75 15601.00             4.00   350.25   338.28   \n",
       "               2         995.00  1465.00             8.00  8225.75  4529.53   \n",
       "        3      1        1535.00  7530.00            37.00  1679.84  1784.32   \n",
       "               2        1054.50  5641.00            43.00  6666.72  3920.20   \n",
       "2       1      1        4634.00 11422.00            41.00   537.39   880.58   \n",
       "        2      1        4075.00 12569.00            23.00   471.43   418.04   \n",
       "               2        8773.50 11559.00             2.00  1270.00  1326.53   \n",
       "        3      1        4486.75 35009.00           152.00   424.53   418.22   \n",
       "               2        1378.00  1420.00             4.00  1678.00  1558.37   \n",
       "\n",
       "                                                                  Delicassen  \\\n",
       "                           min     25%      50%      75%      max      count   \n",
       "cluster Region Channel                                                         \n",
       "0       1      1        284.00  663.00   898.50  1580.75  3143.00       8.00   \n",
       "               2        955.00 4471.00 12420.00 16414.50 19410.00       7.00   \n",
       "        2      1       1272.00 1272.00  1272.00  1272.00  1272.00       1.00   \n",
       "               2       2662.00 4111.00  7558.00  9606.00 38102.00       9.00   \n",
       "        3      1        182.00  791.25  1506.00  2311.75  5079.00      22.00   \n",
       "               2        764.00 3233.00  4619.50  7997.00 40827.00      58.00   \n",
       "1       1      1         93.00 1019.50  2230.00  3816.00  5828.00      10.00   \n",
       "               2        788.00 4839.50  5957.00  9099.00 13308.00      11.00   \n",
       "        2      1         15.00  210.00   282.50   422.75   821.00       4.00   \n",
       "               2       3891.00 5441.25  6541.00 10497.50 17120.00       8.00   \n",
       "        3      1        122.00  334.00   825.00  2840.00  6907.00      37.00   \n",
       "               2        813.00 4466.00  6600.00  7421.50 24231.00      43.00   \n",
       "2       1      1          5.00  147.00   325.00   586.00  4762.00      41.00   \n",
       "        2      1         83.00  182.50   351.00   639.50  1679.00      23.00   \n",
       "               2        332.00  801.00  1270.00  1739.00  2208.00       2.00   \n",
       "        3      1          3.00  118.00   275.00   587.00  2381.00     152.00   \n",
       "               2        523.00  542.50  1176.00  2311.50  3837.00       4.00   \n",
       "\n",
       "                                                                         \\\n",
       "                          mean      std     min     25%     50%     75%   \n",
       "cluster Region Channel                                                    \n",
       "0       1      1       2901.00  1853.12  818.00 1825.25 2637.00 3357.75   \n",
       "               2       2122.43  1519.61  698.00 1175.00 1681.00 2503.50   \n",
       "        2      1       5609.00      nan 5609.00 5609.00 5609.00 5609.00   \n",
       "               2       1263.22   645.44  172.00 1037.00 1215.00 1625.00   \n",
       "        3      1       5756.23 10196.97  230.00 1630.00 2557.00 4580.75   \n",
       "               2       2285.72  2559.62   46.00  851.25 1748.50 2703.25   \n",
       "1       1      1        690.90   721.89    7.00  253.00  450.50  981.50   \n",
       "               2       1712.55  1743.52  120.00  720.50 1265.00 2015.50   \n",
       "        2      1        820.00   593.10  259.00  477.25  692.00 1034.75   \n",
       "               2       1054.00  1242.22   59.00  193.75  648.00 1207.00   \n",
       "        3      1       1033.59  1034.09    3.00  303.00  776.00 1393.00   \n",
       "               2       1294.42  1224.36    3.00  273.50 1115.00 1787.50   \n",
       "2       1      1        988.17   866.21   56.00  373.00  689.00 1215.00   \n",
       "        2      1        959.83   603.10   51.00  614.50  898.00 1115.00   \n",
       "               2       1870.00  2285.37  254.00 1062.00 1870.00 2678.00   \n",
       "        3      1       1022.88  1012.55    3.00  371.50  699.00 1379.50   \n",
       "               2        880.00   931.89  120.00  402.75  582.50 1059.75   \n",
       "\n",
       "                                 \n",
       "                            max  \n",
       "cluster Region Channel           \n",
       "0       1      1        6854.00  \n",
       "               2        5121.00  \n",
       "        2      1        5609.00  \n",
       "               2        2139.00  \n",
       "        3      1       47943.00  \n",
       "               2       16523.00  \n",
       "1       1      1        2388.00  \n",
       "               2        6372.00  \n",
       "        2      1        1637.00  \n",
       "               2        3508.00  \n",
       "        3      1        4365.00  \n",
       "               2        6250.00  \n",
       "2       1      1        3628.00  \n",
       "        2      1        2602.00  \n",
       "               2        3486.00  \n",
       "        3      1        5864.00  \n",
       "               2        2235.00  "
      ]
     },
     "execution_count": 65,
     "metadata": {},
     "output_type": "execute_result"
    }
   ],
   "source": [
    "# クラスタ毎のdescribe比較\n",
    "pd.options.display.float_format = '{:.2f}'.format\n",
    "pd.set_option('display.max_columns', 150)\n",
    "\n",
    "new_df.groupby([\"cluster\",\"Region\",\"Channel\"]).describe()"
   ]
  },
  {
   "cell_type": "markdown",
   "metadata": {},
   "source": [
    "### 12.2.1（解答）まとめ  \n",
    "- cluster0に分類される業者は全体的に売上が高い傾向にある。　　  \n",
    "- cluster１に分類される業者はFresh、Frozenの売上が低い傾向にある。　　  \n",
    "- cluster２に分類される業者はMilk、Groceryの売上が低い傾向にある。　　\n",
    "- cluster0で培われたchannel毎の販売手法を用いる事で、cluster１、２の低迷商品の売上向上に繋がると思われる。"
   ]
  },
  {
   "cell_type": "markdown",
   "metadata": {},
   "source": [
    "# 4.他の非階層クラスタリング手法  余裕ができた行う、\n",
    "\n",
    "## 【問題13】（アドバンス課題）他の手法の調査\n",
    "今回扱ったK-means以外に非階層クラスタリングで有名な手法としては DBSCAN 、\n",
    "PCA以外に次元削減手法で有名な手法としては t-SNE や LLE があります。\n",
    "\n",
    "\n",
    "DBSCANのメリット・デメリット\n",
    "t-SNE、LLEのメリット・デメリット\n",
    "\n",
    "について記述してください。"
   ]
  },
  {
   "cell_type": "markdown",
   "metadata": {},
   "source": [
    "## 【問題14】（アドバンス課題）t-SNEとDBSCANの利用\n",
    "Wholesale customersのデータに対して、PCAではなく、 t-SNE を用いて次元削減をしてください。さらにK-meansではなく、 DBSCAN を用いてクラスタリングしてください。\n",
    "\n",
    "\n",
    "そのクラスタリング結果をPCA+kmeansの場合の結果と比較してみましょう。実装にはscikit-learnを用いてください。\n",
    "\n",
    "\n",
    "sklearn.manifold.TSNE — scikit-learn 0.20.2 documentation  \n",
    "https://scikit-learn.org/stable/modules/generated/sklearn.manifold.TSNE.html\n",
    "\n",
    "\n",
    "sklearn.cluster.DBSCAN — scikit-learn 0.20.2 documentation  \n",
    "https://scikit-learn.org/stable/modules/generated/sklearn.cluster.DBSCAN.html\n",
    "\n",
    "\n",
    "《パラメーターチューニング》\n",
    "\n",
    "\n",
    "これらはK-meansやPCAに比べパラメーターチューニングが難しい手法です。scikit-learnのドキュメントと共に論文も参考にしながらパラメータの意味を確認することも大切になります。\n",
    "\n",
    "\n",
    "t-SNEの論文  \n",
    "http://www.jmlr.org/papers/volume9/vandermaaten08a/vandermaaten08a.pdf\n",
    "\n",
    "\n",
    "DBSCANの論文  \n",
    "https://www.aaai.org/Papers/KDD/1996/KDD96-037.pdf"
   ]
  }
 ],
 "metadata": {
  "kernelspec": {
   "display_name": "Python 3",
   "language": "python",
   "name": "python3"
  },
  "language_info": {
   "codemirror_mode": {
    "name": "ipython",
    "version": 3
   },
   "file_extension": ".py",
   "mimetype": "text/x-python",
   "name": "python",
   "nbconvert_exporter": "python",
   "pygments_lexer": "ipython3",
   "version": "3.8.3"
  }
 },
 "nbformat": 4,
 "nbformat_minor": 4
}
