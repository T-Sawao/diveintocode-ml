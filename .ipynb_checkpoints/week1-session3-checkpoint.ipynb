{
 "cells": [
  {
   "cell_type": "markdown",
   "metadata": {},
   "source": [
    "# week1-session3 栗まんじゅう問題"
   ]
  },
  {
   "cell_type": "markdown",
   "metadata": {},
   "source": [
    "# 【問題】栗まんじゅうが太陽系を覆う日\n",
    "1個の栗まんじゅうにバイバインを振りかけた場合、太陽系が栗まんじゅうで覆われるのは何分後でしょうか。これを計算するプログラムを作成してください。栗まんじゅうや太陽系の体積を調査した上で仮定して計算してください。栗まんじゅうの隙間や重力などは考えず、問題を単純化して構いません。\n",
    "ボールにバイバインを振りかけた時、東京ドームが一杯になる時間など他の状況にも適用できるような汎用的なプログラムを作成してください。また、グラフを表示するなど分かりやすいノートブックを作成してください。"
   ]
  },
  {
   "cell_type": "markdown",
   "metadata": {},
   "source": [
    "## 【課題1-1】太陽系が栗まんじゅうで覆われる時間のプログラム"
   ]
  },
  {
   "cell_type": "markdown",
   "metadata": {},
   "source": [
    "栗まんじゅうの体積の計算式(mmからmへの単位も変換)"
   ]
  },
  {
   "cell_type": "code",
   "execution_count": 80,
   "metadata": {},
   "outputs": [],
   "source": [
    "def manju(data):\n",
    "    manju_size = (data[0][0] / 1000) * (data[0][1] / 1000) * (data[0][2] / 1000)\n",
    "    return manju_size"
   ]
  },
  {
   "cell_type": "markdown",
   "metadata": {},
   "source": [
    "スペースの体積の計算式"
   ]
  },
  {
   "cell_type": "code",
   "execution_count": 81,
   "metadata": {},
   "outputs": [],
   "source": [
    "def space(data):\n",
    "    space_size = 4 / 3 * 3.14 * (data[1][0] ** 3)\n",
    "    return space_size"
   ]
  },
  {
   "cell_type": "markdown",
   "metadata": {},
   "source": [
    "バイバインで増加した回数の計算式"
   ]
  },
  {
   "cell_type": "code",
   "execution_count": 82,
   "metadata": {},
   "outputs": [],
   "source": [
    "import numpy as np\n",
    "\n",
    "def baybayin(data):\n",
    "    manju_size = manju(data)\n",
    "    space_size = space(data)\n",
    "    n = np.log2(space_size / manju_size)\n",
    "    return np.ceil(n)  "
   ]
  },
  {
   "cell_type": "markdown",
   "metadata": {},
   "source": [
    "太陽系のサイズ（m)"
   ]
  },
  {
   "cell_type": "code",
   "execution_count": 83,
   "metadata": {},
   "outputs": [
    {
     "name": "stdout",
     "output_type": "stream",
     "text": [
      "4500700000000.0\n"
     ]
    }
   ],
   "source": [
    "# 太陽系の体積（仮）\n",
    "# 太陽の中心から海王星までの距離を半径とした球体と仮定する\n",
    "sun_r = 1400000000 / 2\n",
    "neptune = 4500000000000\n",
    "r = (sun_r + neptune)\n",
    "print(r)"
   ]
  },
  {
   "cell_type": "markdown",
   "metadata": {},
   "source": [
    "栗まんじゅうが太陽系を覆う時間の計算式"
   ]
  },
  {
   "cell_type": "code",
   "execution_count": 84,
   "metadata": {},
   "outputs": [
    {
     "name": "stdout",
     "output_type": "stream",
     "text": [
      "栗まんじゅうが太陽系を覆うのに、710分掛かります。\n"
     ]
    }
   ],
   "source": [
    "# サイズのデータ＝[栗まんじゅうのサイズ（mm)],[太陽系サイズ(m)]\n",
    "size_data = [[60, 40, 30], [r]]\n",
    "\n",
    "n = int(baybayin(size_data))\n",
    "print(f\"栗まんじゅうが太陽系を覆うのに、{n*5}分掛かります。\")"
   ]
  },
  {
   "cell_type": "markdown",
   "metadata": {},
   "source": [
    "## 【課題1-2】課題1-1のグラフ"
   ]
  },
  {
   "cell_type": "markdown",
   "metadata": {},
   "source": [
    "課題１のリストを作成"
   ]
  },
  {
   "cell_type": "code",
   "execution_count": 100,
   "metadata": {},
   "outputs": [],
   "source": [
    "cap = []\n",
    "total = 0\n",
    "for i in range(1, n+1):\n",
    "    y = 1 * 2 ** (i-1)\n",
    "    total += y * manju(size_data)\n",
    "    cap.append(total)"
   ]
  },
  {
   "cell_type": "code",
   "execution_count": 103,
   "metadata": {},
   "outputs": [
    {
     "data": {
      "image/png": "[encoded data removed]",
      "text/plain": [
       "<Figure size 720x360 with 2 Axes>"
      ]
     },
     "metadata": {
      "needs_background": "light"
     },
     "output_type": "display_data"
    }
   ],
   "source": [
    "import matplotlib.pyplot as plt\n",
    "\n",
    "time = [i*5 for i in range(1,n+1)]\n",
    "\n",
    "figue,(Left,Right) = plt.subplots(ncols=2, figsize=(10, 5))\n",
    "\n",
    "Left.plot(time[:5], cap[:5],marker=\".\")\n",
    "Left.set_title(\"data_head(1-25)\")\n",
    "Left.set_xlabel(\"time\")\n",
    "Left.set_ylabel(\"capacity\")\n",
    "Left.grid(True)\n",
    "\n",
    "Right.plot(time[-5:], cap[-5:],marker=\".\")\n",
    "Right.set_title(\"data_tail(690-710)\")\n",
    "Right.set_xlabel(\"time\")\n",
    "Right.set_ylabel(\"capacity\")\n",
    "Right.grid(True)"
   ]
  }
 ],
 "metadata": {
  "kernelspec": {
   "display_name": "Python 3",
   "language": "python",
   "name": "python3"
  },
  "language_info": {
   "codemirror_mode": {
    "name": "ipython",
    "version": 3
   },
   "file_extension": ".py",
   "mimetype": "text/x-python",
   "name": "python",
   "nbconvert_exporter": "python",
   "pygments_lexer": "ipython3",
   "version": "3.8.3"
  }
 },
 "nbformat": 4,
 "nbformat_minor": 4
}
