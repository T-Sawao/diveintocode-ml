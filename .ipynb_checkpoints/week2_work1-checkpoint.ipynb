{
 "cells": [
  {
   "cell_type": "markdown",
   "metadata": {
    "id": "55SMvyl1MlAi"
   },
   "source": [
    "# week2-sessionn5 二次元配列と勾配問題"
   ]
  },
  {
   "cell_type": "markdown",
   "metadata": {
    "id": "jTj7sHWxMlAk"
   },
   "source": [
    "# 二次元配列と勾配問題\n",
    "\n",
    "機械学習においては関数の最小値を見つけることが重要になってきます。そのために使われるのが勾配降下法です。  \n",
    "この課題では勾配降下法を理解する準備として、NumPyを用いて関数の勾配を考えていきます。"
   ]
  },
  {
   "cell_type": "markdown",
   "metadata": {
    "id": "dOnCb_1FMlAl"
   },
   "source": [
    "## 【問題1】1次関数  \n",
    "$x$ が-50から50の範囲で次の式を考えます。  \n",
    "$$y = \\frac{1}{2}x + 1$$  \n",
    "\n",
    "-50から50まで0.1間隔のxを表すndarrayと、各要素に対するyを表すndarrayを作成してください。"
   ]
  },
  {
   "cell_type": "markdown",
   "metadata": {
    "id": "EuNz9k2aMlAn"
   },
   "source": [
    "### 1.1.1 (解答)"
   ]
  },
  {
   "cell_type": "code",
   "execution_count": 1,
   "metadata": {
    "id": "eVzNwfutMlAp"
   },
   "outputs": [
    {
     "name": "stdout",
     "output_type": "stream",
     "text": [
      "yの値は、<class 'numpy.ndarray'>型で、10番目までの値は下記の通りです。\n",
      " [[-24.  ]\n",
      " [-23.95]\n",
      " [-23.9 ]\n",
      " [-23.85]\n",
      " [-23.8 ]\n",
      " [-23.75]\n",
      " [-23.7 ]\n",
      " [-23.65]\n",
      " [-23.6 ]\n",
      " [-23.55]]\n"
     ]
    }
   ],
   "source": [
    "import numpy as np\n",
    "# np.set_printoptions(precision = 1)\n",
    "\n",
    "x = np.arange(-50, 50, 0.1).reshape(-1, 1) #reshapeの引数に(-1,1)で縦のベクトルに、(1,-1)で横ベクトルに変化可能。\n",
    "y = np.array((1/2)* x + 1).reshape(-1, 1)\n",
    "\n",
    "print(f\"yの値は、{type(y)}型で、10番目までの値は下記の通りです。\\n {y[:10]}\")"
   ]
  },
  {
   "cell_type": "markdown",
   "metadata": {
    "id": "lvXiMcVbMlAy"
   },
   "source": [
    "## 【問題2】配列の結合  \n",
    "問題1で作成したndarrayを結合し、(1001, 2)の形の配列にしてください。0列目にx、1列目にyが来るようにします。"
   ]
  },
  {
   "cell_type": "markdown",
   "metadata": {
    "id": "AX-BS8rFMlAz"
   },
   "source": [
    "### 2.1.1(解答)"
   ]
  },
  {
   "cell_type": "code",
   "execution_count": 2,
   "metadata": {
    "id": "aKUl7Eg4MlA1"
   },
   "outputs": [
    {
     "name": "stdout",
     "output_type": "stream",
     "text": [
      "[[-50.   -24.  ]\n",
      " [-49.9  -23.95]\n",
      " [-49.8  -23.9 ]\n",
      " [-49.7  -23.85]\n",
      " [-49.6  -23.8 ]\n",
      " [-49.5  -23.75]\n",
      " [-49.4  -23.7 ]\n",
      " [-49.3  -23.65]\n",
      " [-49.2  -23.6 ]\n",
      " [-49.1  -23.55]]\n"
     ]
    }
   ],
   "source": [
    "array_xy = np.concatenate([x, y], axis = 1) # axis=1 で横軸に結合。\n",
    "print(array_xy[:10])\n",
    "\n",
    "# concatemate(引数)は、第一引数に連結したいndarrayのリスト(タプルモ可)を指定。\n",
    "# 第二引数(axis)で結合する軸（次元）を指定する。"
   ]
  },
  {
   "cell_type": "markdown",
   "metadata": {
    "id": "iG330jhEMlA6"
   },
   "source": [
    "## 【問題3】勾配を求める  \n",
    "各x座標における勾配を求めます。ここで勾配はyの変化量をxの変化量で割ることで計算します。\n",
    "\n",
    "$$y=\\frac{yの変化量}{xの変化量}$$"
   ]
  },
  {
   "cell_type": "markdown",
   "metadata": {
    "id": "ODyRmBGGMlA7"
   },
   "source": [
    "### 3.1.1(解答)"
   ]
  },
  {
   "cell_type": "code",
   "execution_count": 3,
   "metadata": {
    "id": "_VcVKj4tMlA8"
   },
   "outputs": [
    {
     "name": "stdout",
     "output_type": "stream",
     "text": [
      "[0.5 0.5 0.5 0.5 0.5 0.5 0.5 0.5 0.5 0.5 0.5 0.5 0.5 0.5 0.5 0.5 0.5 0.5\n",
      " 0.5 0.5 0.5 0.5 0.5 0.5 0.5 0.5 0.5 0.5 0.5 0.5 0.5 0.5 0.5 0.5 0.5 0.5\n",
      " 0.5 0.5 0.5 0.5 0.5 0.5 0.5 0.5 0.5 0.5 0.5 0.5 0.5 0.5 0.5 0.5 0.5 0.5\n",
      " 0.5 0.5 0.5 0.5 0.5 0.5 0.5 0.5 0.5 0.5 0.5 0.5 0.5 0.5 0.5 0.5 0.5 0.5\n",
      " 0.5 0.5 0.5 0.5 0.5 0.5 0.5 0.5 0.5 0.5 0.5 0.5 0.5 0.5 0.5 0.5 0.5 0.5\n",
      " 0.5 0.5 0.5 0.5 0.5 0.5 0.5 0.5 0.5 0.5 0.5 0.5 0.5 0.5 0.5 0.5 0.5 0.5\n",
      " 0.5 0.5 0.5 0.5 0.5 0.5 0.5 0.5 0.5 0.5 0.5 0.5 0.5 0.5 0.5 0.5 0.5 0.5\n",
      " 0.5 0.5 0.5 0.5 0.5 0.5 0.5 0.5 0.5 0.5 0.5 0.5 0.5 0.5 0.5 0.5 0.5 0.5\n",
      " 0.5 0.5 0.5 0.5 0.5 0.5 0.5 0.5 0.5 0.5 0.5 0.5 0.5 0.5 0.5 0.5 0.5 0.5\n",
      " 0.5 0.5 0.5 0.5 0.5 0.5 0.5 0.5 0.5 0.5 0.5 0.5 0.5 0.5 0.5 0.5 0.5 0.5\n",
      " 0.5 0.5 0.5 0.5 0.5 0.5 0.5 0.5 0.5 0.5 0.5 0.5 0.5 0.5 0.5 0.5 0.5 0.5\n",
      " 0.5 0.5 0.5 0.5 0.5 0.5 0.5 0.5 0.5 0.5 0.5 0.5 0.5 0.5 0.5 0.5 0.5 0.5\n",
      " 0.5 0.5 0.5 0.5 0.5 0.5 0.5 0.5 0.5 0.5 0.5 0.5 0.5 0.5 0.5 0.5 0.5 0.5\n",
      " 0.5 0.5 0.5 0.5 0.5 0.5 0.5 0.5 0.5 0.5 0.5 0.5 0.5 0.5 0.5 0.5 0.5 0.5\n",
      " 0.5 0.5 0.5 0.5 0.5 0.5 0.5 0.5 0.5 0.5 0.5 0.5 0.5 0.5 0.5 0.5 0.5 0.5\n",
      " 0.5 0.5 0.5 0.5 0.5 0.5 0.5 0.5 0.5 0.5 0.5 0.5 0.5 0.5 0.5 0.5 0.5 0.5\n",
      " 0.5 0.5 0.5 0.5 0.5 0.5 0.5 0.5 0.5 0.5 0.5 0.5 0.5 0.5 0.5 0.5 0.5 0.5\n",
      " 0.5 0.5 0.5 0.5 0.5 0.5 0.5 0.5 0.5 0.5 0.5 0.5 0.5 0.5 0.5 0.5 0.5 0.5\n",
      " 0.5 0.5 0.5 0.5 0.5 0.5 0.5 0.5 0.5 0.5 0.5 0.5 0.5 0.5 0.5 0.5 0.5 0.5\n",
      " 0.5 0.5 0.5 0.5 0.5 0.5 0.5 0.5 0.5 0.5 0.5 0.5 0.5 0.5 0.5 0.5 0.5 0.5\n",
      " 0.5 0.5 0.5 0.5 0.5 0.5 0.5 0.5 0.5 0.5 0.5 0.5 0.5 0.5 0.5 0.5 0.5 0.5\n",
      " 0.5 0.5 0.5 0.5 0.5 0.5 0.5 0.5 0.5 0.5 0.5 0.5 0.5 0.5 0.5 0.5 0.5 0.5\n",
      " 0.5 0.5 0.5 0.5 0.5 0.5 0.5 0.5 0.5 0.5 0.5 0.5 0.5 0.5 0.5 0.5 0.5 0.5\n",
      " 0.5 0.5 0.5 0.5 0.5 0.5 0.5 0.5 0.5 0.5 0.5 0.5 0.5 0.5 0.5 0.5 0.5 0.5\n",
      " 0.5 0.5 0.5 0.5 0.5 0.5 0.5 0.5 0.5 0.5 0.5 0.5 0.5 0.5 0.5 0.5 0.5 0.5\n",
      " 0.5 0.5 0.5 0.5 0.5 0.5 0.5 0.5 0.5 0.5 0.5 0.5 0.5 0.5 0.5 0.5 0.5 0.5\n",
      " 0.5 0.5 0.5 0.5 0.5 0.5 0.5 0.5 0.5 0.5 0.5 0.5 0.5 0.5 0.5 0.5 0.5 0.5\n",
      " 0.5 0.5 0.5 0.5 0.5 0.5 0.5 0.5 0.5 0.5 0.5 0.5 0.5 0.5 0.5 0.5 0.5 0.5\n",
      " 0.5 0.5 0.5 0.5 0.5 0.5 0.5 0.5 0.5 0.5 0.5 0.5 0.5 0.5 0.5 0.5 0.5 0.5\n",
      " 0.5 0.5 0.5 0.5 0.5 0.5 0.5 0.5 0.5 0.5 0.5 0.5 0.5 0.5 0.5 0.5 0.5 0.5\n",
      " 0.5 0.5 0.5 0.5 0.5 0.5 0.5 0.5 0.5 0.5 0.5 0.5 0.5 0.5 0.5 0.5 0.5 0.5\n",
      " 0.5 0.5 0.5 0.5 0.5 0.5 0.5 0.5 0.5 0.5 0.5 0.5 0.5 0.5 0.5 0.5 0.5 0.5\n",
      " 0.5 0.5 0.5 0.5 0.5 0.5 0.5 0.5 0.5 0.5 0.5 0.5 0.5 0.5 0.5 0.5 0.5 0.5\n",
      " 0.5 0.5 0.5 0.5 0.5 0.5 0.5 0.5 0.5 0.5 0.5 0.5 0.5 0.5 0.5 0.5 0.5 0.5\n",
      " 0.5 0.5 0.5 0.5 0.5 0.5 0.5 0.5 0.5 0.5 0.5 0.5 0.5 0.5 0.5 0.5 0.5 0.5\n",
      " 0.5 0.5 0.5 0.5 0.5 0.5 0.5 0.5 0.5 0.5 0.5 0.5 0.5 0.5 0.5 0.5 0.5 0.5\n",
      " 0.5 0.5 0.5 0.5 0.5 0.5 0.5 0.5 0.5 0.5 0.5 0.5 0.5 0.5 0.5 0.5 0.5 0.5\n",
      " 0.5 0.5 0.5 0.5 0.5 0.5 0.5 0.5 0.5 0.5 0.5 0.5 0.5 0.5 0.5 0.5 0.5 0.5\n",
      " 0.5 0.5 0.5 0.5 0.5 0.5 0.5 0.5 0.5 0.5 0.5 0.5 0.5 0.5 0.5 0.5 0.5 0.5\n",
      " 0.5 0.5 0.5 0.5 0.5 0.5 0.5 0.5 0.5 0.5 0.5 0.5 0.5 0.5 0.5 0.5 0.5 0.5\n",
      " 0.5 0.5 0.5 0.5 0.5 0.5 0.5 0.5 0.5 0.5 0.5 0.5 0.5 0.5 0.5 0.5 0.5 0.5\n",
      " 0.5 0.5 0.5 0.5 0.5 0.5 0.5 0.5 0.5 0.5 0.5 0.5 0.5 0.5 0.5 0.5 0.5 0.5\n",
      " 0.5 0.5 0.5 0.5 0.5 0.5 0.5 0.5 0.5 0.5 0.5 0.5 0.5 0.5 0.5 0.5 0.5 0.5\n",
      " 0.5 0.5 0.5 0.5 0.5 0.5 0.5 0.5 0.5 0.5 0.5 0.5 0.5 0.5 0.5 0.5 0.5 0.5\n",
      " 0.5 0.5 0.5 0.5 0.5 0.5 0.5 0.5 0.5 0.5 0.5 0.5 0.5 0.5 0.5 0.5 0.5 0.5\n",
      " 0.5 0.5 0.5 0.5 0.5 0.5 0.5 0.5 0.5 0.5 0.5 0.5 0.5 0.5 0.5 0.5 0.5 0.5\n",
      " 0.5 0.5 0.5 0.5 0.5 0.5 0.5 0.5 0.5 0.5 0.5 0.5 0.5 0.5 0.5 0.5 0.5 0.5\n",
      " 0.5 0.5 0.5 0.5 0.5 0.5 0.5 0.5 0.5 0.5 0.5 0.5 0.5 0.5 0.5 0.5 0.5 0.5\n",
      " 0.5 0.5 0.5 0.5 0.5 0.5 0.5 0.5 0.5 0.5 0.5 0.5 0.5 0.5 0.5 0.5 0.5 0.5\n",
      " 0.5 0.5 0.5 0.5 0.5 0.5 0.5 0.5 0.5 0.5 0.5 0.5 0.5 0.5 0.5 0.5 0.5 0.5\n",
      " 0.5 0.5 0.5 0.5 0.5 0.5 0.5 0.5 0.5 0.5 0.5 0.5 0.5 0.5 0.5 0.5 0.5 0.5\n",
      " 0.5 0.5 0.5 0.5 0.5 0.5 0.5 0.5 0.5 0.5 0.5 0.5 0.5 0.5 0.5 0.5 0.5 0.5\n",
      " 0.5 0.5 0.5 0.5 0.5 0.5 0.5 0.5 0.5 0.5 0.5 0.5 0.5 0.5 0.5 0.5 0.5 0.5\n",
      " 0.5 0.5 0.5 0.5 0.5 0.5 0.5 0.5 0.5 0.5 0.5 0.5 0.5 0.5 0.5 0.5 0.5 0.5\n",
      " 0.5 0.5 0.5 0.5 0.5 0.5 0.5 0.5 0.5 0.5 0.5 0.5 0.5 0.5 0.5 0.5 0.5 0.5\n",
      " 0.5 0.5 0.5 0.5 0.5 0.5 0.5 0.5 0.5]\n"
     ]
    }
   ],
   "source": [
    "amount_change = array_xy[1:] - array_xy[:-1]\n",
    "\n",
    "gradent = amount_change[:, 1] / amount_change [:, 0] \n",
    "print(gradent)\n",
    "\n",
    "# 勾配はx座標の間隔を使うので、xの要素数に対して一つ少なくなります"
   ]
  },
  {
   "cell_type": "markdown",
   "metadata": {
    "id": "DhNQFpGw7T_s"
   },
   "source": [
    "### 3.1.2(確認用）\n"
   ]
  },
  {
   "cell_type": "code",
   "execution_count": 4,
   "metadata": {
    "id": "V3tnegZX7Sbb"
   },
   "outputs": [
    {
     "name": "stdout",
     "output_type": "stream",
     "text": [
      "0.5\n"
     ]
    }
   ],
   "source": [
    "def gradient_math(x):\n",
    "  dx = (x + 0.1) - (x)\n",
    "  dy = ((1/2) * (x + 0.1) + 1) - ((1/2)* x + 1)\n",
    "  dxy = dy / dx\n",
    "  return dxy\n",
    "\n",
    "print(gradient_math(-40))"
   ]
  },
  {
   "cell_type": "markdown",
   "metadata": {
    "id": "OXYACIAdMlBB"
   },
   "source": [
    "## 【問題4】グラフを描く  \n",
    "1次関数のグラフをMatplotlibを用いて描いてください。また、それとは別に横軸をx、縦軸を勾配としたグラフも描いてください。\n",
    "\n",
    "matplotlib.pyplot.plot — Matplotlib 3.1.0 documentation"
   ]
  },
  {
   "cell_type": "markdown",
   "metadata": {
    "id": "BakY-xs8MlBC"
   },
   "source": [
    "### 4.1.1(解答)1次関数のグラフ"
   ]
  },
  {
   "cell_type": "code",
   "execution_count": 5,
   "metadata": {
    "id": "bbCJ0eqgMlBE"
   },
   "outputs": [
    {
     "data": {
      "text/plain": [
       "[<matplotlib.lines.Line2D at 0x1178ecdc0>]"
      ]
     },
     "execution_count": 5,
     "metadata": {},
     "output_type": "execute_result"
    },
    {
     "data": {
      "image/png": "[encoded data removed]",
      "text/plain": [
       "<Figure size 432x288 with 1 Axes>"
      ]
     },
     "metadata": {
      "needs_background": "light"
     },
     "output_type": "display_data"
    }
   ],
   "source": [
    "import matplotlib.pyplot as plt\n",
    "\n",
    "fig, ax = plt.subplots(1,1)\n",
    "ax.plot(array_xy[:, 0], array_xy[:, 1])"
   ]
  },
  {
   "cell_type": "markdown",
   "metadata": {
    "id": "ryojtkDgMlBL"
   },
   "source": [
    "### 4.2.1(解答)横軸をｘ，縦軸を購買としたグラフ"
   ]
  },
  {
   "cell_type": "code",
   "execution_count": 6,
   "metadata": {
    "id": "kmOj1Ur1MlBM"
   },
   "outputs": [
    {
     "data": {
      "text/plain": [
       "[<matplotlib.lines.Line2D at 0x1179e60d0>]"
      ]
     },
     "execution_count": 6,
     "metadata": {},
     "output_type": "execute_result"
    },
    {
     "data": {
      "image/png": "[encoded data removed]",
      "text/plain": [
       "<Figure size 432x288 with 1 Axes>"
      ]
     },
     "metadata": {
      "needs_background": "light"
     },
     "output_type": "display_data"
    }
   ],
   "source": [
    "fig, ax = plt.subplots(1,1)\n",
    "\n",
    "ax.plot(x[1:], gradent)"
   ]
  },
  {
   "cell_type": "markdown",
   "metadata": {
    "id": "J1vU3cEbMlBS"
   },
   "source": [
    "## 【問題5】Pythonの関数化\n",
    "問題1から問題3までの範囲をまとめて行うPythonの関数を雛形を参考に作成してください。  \n",
    "そして、以下の3式の勾配を0.1間隔で求めてndarrayで出力してください。\n",
    "\n",
    "$$\n",
    "y = x^{2} \\quad (-50\\leq x \\leq 50)\\\\\n",
    "y = 2x^{2}+2^{x} \\quad (-50\\leq x \\leq 50)\\\\\n",
    "y = sin(x^{\\frac{1}{2}}) \\quad (0\\leq x \\leq 50)\n",
    "$$\n",
    "\n",
    "\n",
    "また、問題4と同様にグラフを描いてください。  \n",
    "ndarrayに対して三角関数のsinの計算を行うには np.sin()を用います。\n",
    "\n",
    "numpy.sin — NumPy v1.16 Manual"
   ]
  },
  {
   "cell_type": "markdown",
   "metadata": {
    "id": "RK_yZq6pMlBS"
   },
   "source": [
    "### 5.1.1(解答)問1から問3をまとめて関数化"
   ]
  },
  {
   "cell_type": "code",
   "execution_count": 7,
   "metadata": {
    "id": "8iAgmNJ2MlBT"
   },
   "outputs": [],
   "source": [
    "def compute_gradient(function, x_range=(-50, 50.1, 0.1)):\n",
    "  array_x = np.arange(*x_range).reshape(-1,1) # x_rangeをアンパックする + reshapeで縦ベクトルに変換。\n",
    "  array_y = function(array_x).reshape(-1,1)\n",
    "  # print(array_x.shape)\n",
    "  # print(array_y.shape)\n",
    "  # print(array_y)\n",
    "\n",
    "  array_xy = np.concatenate([array_x, array_y], axis = 1)\n",
    "  amount_change = array_xy[1:] - array_xy[:-1] \n",
    "  gradient = amount_change[:, 1] / amount_change [:, 0] \n",
    "  return array_xy, gradient"
   ]
  },
  {
   "cell_type": "markdown",
   "metadata": {
    "id": "fn5nSDJDEKtT"
   },
   "source": [
    "### 5.1.2(解答) $y=\\frac{1}{2}\\times x+1$の解"
   ]
  },
  {
   "cell_type": "code",
   "execution_count": 8,
   "metadata": {
    "id": "7oqxvlf4EGNy"
   },
   "outputs": [
    {
     "name": "stdout",
     "output_type": "stream",
     "text": [
      "[[-50.   -24.  ]\n",
      " [-49.9  -23.95]\n",
      " [-49.8  -23.9 ]\n",
      " [-49.7  -23.85]\n",
      " [-49.6  -23.8 ]\n",
      " [-49.5  -23.75]\n",
      " [-49.4  -23.7 ]\n",
      " [-49.3  -23.65]\n",
      " [-49.2  -23.6 ]\n",
      " [-49.1  -23.55]]\n",
      "[0.5 0.5 0.5 0.5 0.5 0.5 0.5 0.5 0.5 0.5]\n"
     ]
    }
   ],
   "source": [
    "def function1(array_x): \n",
    "  array_y = ((1/2) * array_x) + 1\n",
    "  return array_y\n",
    "\n",
    "array_xy, gradient = compute_gradient(function1)\n",
    "print(array_xy[:10])\n",
    "print(gradient[:10])"
   ]
  },
  {
   "cell_type": "markdown",
   "metadata": {
    "id": "6Wk1-es6OThw"
   },
   "source": [
    "### 5.2.2(解答) $y=x^2$の解"
   ]
  },
  {
   "cell_type": "code",
   "execution_count": 9,
   "metadata": {
    "id": "wHZoeDsxOS4z"
   },
   "outputs": [
    {
     "name": "stdout",
     "output_type": "stream",
     "text": [
      "[[ -50.   2500.  ]\n",
      " [ -49.9  2490.01]\n",
      " [ -49.8  2480.04]\n",
      " [ -49.7  2470.09]\n",
      " [ -49.6  2460.16]\n",
      " [ -49.5  2450.25]\n",
      " [ -49.4  2440.36]\n",
      " [ -49.3  2430.49]\n",
      " [ -49.2  2420.64]\n",
      " [ -49.1  2410.81]]\n",
      "[-99.9 -99.7 -99.5 -99.3 -99.1 -98.9 -98.7 -98.5 -98.3 -98.1]\n"
     ]
    }
   ],
   "source": [
    "def function2(array_x): \n",
    "  array_y = array_x ** 2\n",
    "  return array_y\n",
    "\n",
    "array_xy, gradient = compute_gradient(function2)\n",
    "print(array_xy[:10])\n",
    "print(gradient[:10])"
   ]
  },
  {
   "cell_type": "markdown",
   "metadata": {
    "id": "8qb-mj73PR4C"
   },
   "source": [
    "### 5.2.2(解答) $y=x^2$のグラフ"
   ]
  },
  {
   "cell_type": "code",
   "execution_count": 10,
   "metadata": {
    "id": "022eN0snPZGl"
   },
   "outputs": [
    {
     "data": {
      "text/plain": [
       "[<matplotlib.lines.Line2D at 0x117ad24c0>]"
      ]
     },
     "execution_count": 10,
     "metadata": {},
     "output_type": "execute_result"
    },
    {
     "data": {
      "image/png": "[encoded data removed]",
      "text/plain": [
       "<Figure size 432x288 with 2 Axes>"
      ]
     },
     "metadata": {
      "needs_background": "light"
     },
     "output_type": "display_data"
    }
   ],
   "source": [
    "fig = plt.figure()\n",
    "\n",
    "ax1 = fig.add_subplot(1,2,1)\n",
    "ax1.plot(array_xy[:,0], array_xy[:,1])\n",
    "\n",
    "ax2 = fig.add_subplot(1,2,2)\n",
    "ax2.plot(array_xy[:-1, 0], gradient)"
   ]
  },
  {
   "cell_type": "markdown",
   "metadata": {
    "id": "dNuKp_MPbAOy"
   },
   "source": [
    "### 5.3.1(解答) $y=2x^2+2^z$の解"
   ]
  },
  {
   "cell_type": "code",
   "execution_count": 11,
   "metadata": {
    "id": "wgj8tA6wUAEp"
   },
   "outputs": [
    {
     "name": "stdout",
     "output_type": "stream",
     "text": [
      "[[ -50.   5004.  ]\n",
      " [ -49.9  4984.02]\n",
      " [ -49.8  4964.08]\n",
      " [ -49.7  4944.18]\n",
      " [ -49.6  4924.32]\n",
      " [ -49.5  4904.5 ]\n",
      " [ -49.4  4884.72]\n",
      " [ -49.3  4864.98]\n",
      " [ -49.2  4845.28]\n",
      " [ -49.1  4825.62]]\n",
      "[-199.8 -199.4 -199.  -198.6 -198.2 -197.8 -197.4 -197.  -196.6 -196.2]\n"
     ]
    }
   ],
   "source": [
    "def function3(array_x, z = 2): \n",
    "  array_y = 2 * (array_x ** 2) + (2 ** z)\n",
    "  return array_y\n",
    "\n",
    "array_xy, gradient = compute_gradient(function3)\n",
    "print(array_xy[:10])\n",
    "print(gradient[:10])"
   ]
  },
  {
   "cell_type": "markdown",
   "metadata": {
    "id": "ez3shCY6bA5V"
   },
   "source": [
    "### 5.3.2(解答) $y=2x^2+2^z$のグラフ"
   ]
  },
  {
   "cell_type": "code",
   "execution_count": 12,
   "metadata": {
    "id": "M1ECKwombQvm"
   },
   "outputs": [
    {
     "data": {
      "text/plain": [
       "[<matplotlib.lines.Line2D at 0x117bd75e0>]"
      ]
     },
     "execution_count": 12,
     "metadata": {},
     "output_type": "execute_result"
    },
    {
     "data": {
      "image/png": "[encoded data removed]",
      "text/plain": [
       "<Figure size 432x288 with 2 Axes>"
      ]
     },
     "metadata": {
      "needs_background": "light"
     },
     "output_type": "display_data"
    }
   ],
   "source": [
    "fig = plt.figure()\n",
    "\n",
    "ax1 = fig.add_subplot(1,2,1)\n",
    "ax1.plot(array_xy[:,0], array_xy[:,1])\n",
    "\n",
    "ax2 = fig.add_subplot(1,2,2)\n",
    "ax2.plot(array_xy[:-1, 0], gradient)"
   ]
  },
  {
   "cell_type": "markdown",
   "metadata": {
    "id": "SGNIBnE2cKUQ"
   },
   "source": [
    "### 5.4.1(解答) $y=sin(x^\\frac{1}{2})$     $(0^<_=x^<_=50)$の解"
   ]
  },
  {
   "cell_type": "code",
   "execution_count": 21,
   "metadata": {
    "id": "EziAWQPocJ98"
   },
   "outputs": [
    {
     "name": "stdout",
     "output_type": "stream",
     "text": [
      "[[0.         0.        ]\n",
      " [0.1        0.00551919]\n",
      " [0.2        0.00780527]\n",
      " [0.3        0.00955942]\n",
      " [0.4        0.01103821]\n",
      " [0.5        0.01234103]\n",
      " [0.6        0.01351885]\n",
      " [0.7        0.01460195]\n",
      " [0.8        0.01561007]\n",
      " [0.9        0.01655689]]\n",
      "[0.05519188 0.02286083 0.01754146 0.01478791 0.01302821 0.01177822\n",
      " 0.01083103 0.01008112 0.00946825 0.00895516]\n"
     ]
    }
   ],
   "source": [
    "def function4(array_x): \n",
    "  x = np.deg2rad(array_x ** (1/2))\n",
    "  array_y = np.sin(x)\n",
    "  return array_y\n",
    "\n",
    "array_xy, gradient = compute_gradient(function4, x_range=(0, 50.1, 0.1))\n",
    "print(array_xy[:10])\n",
    "print(gradient[:10])"
   ]
  },
  {
   "cell_type": "markdown",
   "metadata": {
    "id": "f95tZftBcLYv"
   },
   "source": [
    "### 5.4.2(解答) $y=sin(x^\\frac{1}{2})$     $(0^<_=x^<_=50)$のグラフ"
   ]
  },
  {
   "cell_type": "code",
   "execution_count": 22,
   "metadata": {
    "id": "Q1ajHce3c6SF"
   },
   "outputs": [
    {
     "data": {
      "text/plain": [
       "[<matplotlib.lines.Line2D at 0x119ada250>]"
      ]
     },
     "execution_count": 22,
     "metadata": {},
     "output_type": "execute_result"
    },
    {
     "data": {
      "image/png": "[encoded data removed]",
      "text/plain": [
       "<Figure size 432x288 with 2 Axes>"
      ]
     },
     "metadata": {
      "needs_background": "light"
     },
     "output_type": "display_data"
    }
   ],
   "source": [
    "fig = plt.figure()\n",
    "\n",
    "ax1 = fig.add_subplot(1,2,1)\n",
    "ax1.plot(array_xy[:,0], array_xy[:,1])\n",
    "\n",
    "ax2 = fig.add_subplot(1,2,2)\n",
    "ax2.plot(array_xy[:-1, 0], gradient)"
   ]
  },
  {
   "cell_type": "markdown",
   "metadata": {
    "id": "DIoynSuXdxOs"
   },
   "source": [
    "## 【問題6】最小値を求める\n",
    "問題5で扱った関数のyの最小値を求めます。xの範囲も問題5と同様とします。  \n",
    "今回は勾配降下法ではなく、ndarrayのminメソッド、argminメソッドを用いてください。minメソッドは最小値を、argminメソッドは最小値のインデックスを取得することができます。\n",
    "\n",
    "また、最小のyをとる前後の勾配を表示してください。\n",
    "\n",
    "\n",
    "numpy.ndarray.min — NumPy v1.16 Manual  \n",
    "numpy.ndarray.argmin — NumPy v1.16 Manual"
   ]
  },
  {
   "cell_type": "markdown",
   "metadata": {
    "id": "8VOjkVlXeNoJ"
   },
   "source": [
    "### 6.1.1(解答) $y=\\frac{1}{2}\\times x+1$の最小値"
   ]
  },
  {
   "cell_type": "code",
   "execution_count": 15,
   "metadata": {
    "id": "ZQSkHnZbd9Wo"
   },
   "outputs": [
    {
     "name": "stdout",
     "output_type": "stream",
     "text": [
      "x値の最小値は、-50.0 です。\n",
      "y値の最小値は、-24.0 です。\n",
      "x値の最小値のインデックスは、0 番目です。\n",
      "y値の最小値のインデックスは、0 番目です。\n"
     ]
    }
   ],
   "source": [
    "array_xy, gradient = compute_gradient(function1)\n",
    "\n",
    "print(f\"x値の最小値は、{np.min(array_xy[:, 0])} です。\")\n",
    "print(f\"y値の最小値は、{np.min(array_xy[:, 1])} です。\")\n",
    "\n",
    "print(f\"x値の最小値のインデックスは、{np.argmin(array_xy[:, 0])} 番目です。\")\n",
    "print(f\"y値の最小値のインデックスは、{np.argmin(array_xy[:, 1])} 番目です。\")"
   ]
  },
  {
   "cell_type": "markdown",
   "metadata": {
    "id": "f3dow733iRpr"
   },
   "source": [
    "### 6.2.1(解答) $y=x^2$の最小値"
   ]
  },
  {
   "cell_type": "code",
   "execution_count": 25,
   "metadata": {
    "id": "Fzqek0RKi5LB"
   },
   "outputs": [
    {
     "name": "stdout",
     "output_type": "stream",
     "text": [
      "x値の最小値は、-50.0 です。\n",
      "y値の最小値は、5.048709793414476e-25 です。\n",
      "x値の最小値のインデックスは、0 番目です。\n",
      "y値の最小値のインデックスは、500 番目です。\n"
     ]
    }
   ],
   "source": [
    "array_xy, gradient = compute_gradient(function2)\n",
    "print(f\"x値の最小値は、{np.min(array_xy[:, 0])} です。\")\n",
    "print(f\"y値の最小値は、{np.min(array_xy[:, 1])} です。\")\n",
    "\n",
    "print(f\"x値の最小値のインデックスは、{np.argmin(array_xy[:, 0])} 番目です。\")\n",
    "print(f\"y値の最小値のインデックスは、{np.argmin(array_xy[:, 1])} 番目です。\")"
   ]
  },
  {
   "cell_type": "markdown",
   "metadata": {
    "id": "h8cUP2cNiSHu"
   },
   "source": [
    "### 6.3.1(解答) $y=2x^2+2^z$の最小値"
   ]
  },
  {
   "cell_type": "code",
   "execution_count": 24,
   "metadata": {
    "id": "SCgssNWUi5ru"
   },
   "outputs": [
    {
     "name": "stdout",
     "output_type": "stream",
     "text": [
      "x値の最小値は、-50.0 です。\n",
      "y値の最小値は、4.0 です。\n",
      "x値の最小値のインデックスは、0 番目です。\n",
      "y値の最小値のインデックスは、500 番目です。\n"
     ]
    }
   ],
   "source": [
    "array_xy, gradient = compute_gradient(function3)\n",
    "print(f\"x値の最小値は、{np.min(array_xy[:, 0])} です。\")\n",
    "print(f\"y値の最小値は、{np.min(array_xy[:, 1])} です。\")\n",
    "\n",
    "print(f\"x値の最小値のインデックスは、{np.argmin(array_xy[:, 0])} 番目です。\")\n",
    "print(f\"y値の最小値のインデックスは、{np.argmin(array_xy[:, 1])} 番目です。\")"
   ]
  },
  {
   "cell_type": "markdown",
   "metadata": {
    "id": "e_VSSX8HiRZH"
   },
   "source": [
    "### 6.4.1(解答) $y=sin(x^\\frac{1}{2})$の最小値"
   ]
  },
  {
   "cell_type": "code",
   "execution_count": 23,
   "metadata": {
    "id": "26ON2Au1iUJ8"
   },
   "outputs": [
    {
     "name": "stdout",
     "output_type": "stream",
     "text": [
      "x値の最小値は、0.0 です。\n",
      "y値の最小値は、0.0 です。\n",
      "x値の最小値のインデックスは、0 番目です。\n",
      "y値の最小値のインデックスは、0 番目です。\n"
     ]
    }
   ],
   "source": [
    "array_xy, gradient = compute_gradient(function4, x_range=(0, 50.1, 0.1))\n",
    "print(f\"x値の最小値は、{np.min(array_xy[:, 0])} です。\")\n",
    "print(f\"y値の最小値は、{np.min(array_xy[:, 1])} です。\")\n",
    "\n",
    "print(f\"x値の最小値のインデックスは、{np.argmin(array_xy[:, 0])} 番目です。\")\n",
    "print(f\"y値の最小値のインデックスは、{np.argmin(array_xy[:, 1])} 番目です。\")"
   ]
  }
 ],
 "metadata": {
  "accelerator": "GPU",
  "colab": {
   "name": "week2-sessionn5.ipynb",
   "private_outputs": true,
   "provenance": []
  },
  "kernelspec": {
   "display_name": "Python 3",
   "language": "python",
   "name": "python3"
  },
  "language_info": {
   "codemirror_mode": {
    "name": "ipython",
    "version": 3
   },
   "file_extension": ".py",
   "mimetype": "text/x-python",
   "name": "python",
   "nbconvert_exporter": "python",
   "pygments_lexer": "ipython3",
   "version": "3.8.3"
  }
 },
 "nbformat": 4,
 "nbformat_minor": 4
}
