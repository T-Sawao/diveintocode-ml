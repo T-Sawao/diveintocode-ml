{
 "cells": [
  {
   "cell_type": "markdown",
   "metadata": {},
   "source": [
    "# 1.このテキストについて\n",
    "\n",
    "＊本課題は任意課題です。提出は必須ではありません。\n",
    "\n",
    "\n",
    "## テキストの目的  \n",
    "確率分布を意識的に用いた実装に触れる  \n",
    "Pythonのディクショナリに触れる\n",
    "\n",
    "## どのように学ぶか  \n",
    "ここでは、6つあるダーツのまとの中から一つ選びダーツを投げるシミュレーションを作成します。シミューレーションと言っても動画ではなく、以下のようなものを作成します。\n",
    "\n",
    "\n",
    "Image from Gyazo\n",
    "\n",
    "\n",
    "注意していただきたいのは、ダーツのまとを選ぶ行為とダーツの矢が刺さる場所 をプログラミングでどう表現するかです。\n",
    "そしてダーツ投げの実装を通して、確率分布やディクショナリについても学んでいきます。"
   ]
  },
  {
   "cell_type": "markdown",
   "metadata": {},
   "source": [
    "# 2.確率分布とは\n",
    "\n",
    "全て同じ確率で出る事象に対して確率が同じ（一様）である分布を**一様分布**と言います。\n",
    "\n",
    "株価の変動、地震、日本人の年齢などは当然ですが、全ての事象において均等には発生していないです（地震はほとんどが震度3以下、株価も大暴落は数年に一度、日本人の年齢分布は高齢化が進んでいるので均等でないことはわかると思います）。　　\n",
    "今挙げた3つの例からもわかるように、世の中全ての事象はその事象特有の規模と頻度（人口ならば年齢と人数） の関係があります。そしてその規模と頻度の関係を可視化したものを一般的に**確率分布**と言います（上に描画されている一様分布も確率分布の一つです）。\n",
    "\n",
    "そして地震や株価のようにデータ（事象）が離散的な場合の確率分布を**離散確率分布**、データ（事象）が連続的な場合の確率分布を**連続確率分布**と言います。"
   ]
  },
  {
   "cell_type": "markdown",
   "metadata": {},
   "source": [
    "# 3.ディクショナリ\n",
    "\n",
    "《keyを取り出す》  \n",
    "keys()を用いることで、全てのkeyを一括で取り出すことができます。\n",
    "\n",
    "《valueを取り出す》  \n",
    "values()を用いることでvalueを一括で取り出すことができます。\n",
    "\n",
    "《任意のkeyに対するvalueを取り出す》  \n",
    "get()を用いることで、()の中で指定したkeyに対するvalueを取り出すことができます。\n",
    "\n",
    "《keyとvalueを取り出す》  \n",
    "items()を用いるとディクショナリに登録されているkeyとvalueが要素であるタプルのリストを返してくれます。"
   ]
  },
  {
   "cell_type": "markdown",
   "metadata": {},
   "source": [
    "# 4.ダーツ投げのシミュレーションの作成\n",
    "\n",
    "実装する上での前提条件を以下に示します。  \n",
    "複数のダーツのまとは、間を空けずに横一列に並んでいるとします。  \n",
    "ある番号のまとに狙ったダーツは、他のまとには行かないとします。  \n",
    "\n",
    "実装するフローは以下になります。  \n",
    "1.ダーツのまとを選びます。（ここではサイコロを振り、出た目の番号を狙うまとの番号とします。）  \n",
    "2.サイコロで出た番号のまとを選び、ダーツを投げます。（ここではダーツが刺さる場所は正規分布に従うとします。）  \n",
    "3.ダーツが刺さった場所を記録します。（x座標、y座標だけではなく、どの番号のまとに向かって投げたかも記録します。）  \n",
    "4.1~3を指定回数（ダーツの投げる回数）だけ繰り返します。（指定回数は任意です。  \n",
    "5.各番号のダーツが刺さった場所をプロットします。（ダーツのまとが6個なら、6個のダーツのまとが横に等間隔で並んでいるイメージです。）\n"
   ]
  },
  {
   "cell_type": "markdown",
   "metadata": {},
   "source": [
    "## 【問題1】ダーツの的を選ぶ\n",
    "\n",
    "ダーツのまとを選ぶためにサイコロを実装しましょう。\n",
    "\n",
    "《ヒント》  \n",
    "「サイコロを振る」動作を表現するのにnp.random.choice()を用います。こうすることで配列の中からランダムに要素を1つ選ぶことができます。"
   ]
  },
  {
   "cell_type": "markdown",
   "metadata": {},
   "source": [
    "### 1.1.1 （解答)"
   ]
  },
  {
   "cell_type": "code",
   "execution_count": 1,
   "metadata": {},
   "outputs": [
    {
     "name": "stdout",
     "output_type": "stream",
     "text": [
      "5\n"
     ]
    }
   ],
   "source": [
    "import numpy as np\n",
    "np.set_printoptions(precision=2)\n",
    "\n",
    "def target():\n",
    "    dice = list(range(1, 7))\n",
    "    return np.random.choice(dice) #指定したリストからランダムに値を出す関数\n",
    "    \n",
    "print(target())"
   ]
  },
  {
   "cell_type": "markdown",
   "metadata": {},
   "source": [
    "## 【問題2】ダーツを投げて、刺さった場所を記録する\n",
    "ダーツの刺さった場所(x座標、y座標)を正規分布から値を発生させることで表現しましょう。正規分布のx方向の「中心」は問題1で出たサイコロの番号、「標準偏差」は0.1としてください。 刺さった場所（座標）は、配列で保持するようにしてください。\n",
    "\n",
    "\n",
    "《ヒント》\n",
    "\n",
    "\n",
    "ダーツが刺さった場所（座標）は、二次元正規分布を真上から見たときのx座標、y座標の交点として表現しましょう。x座標、y座標の各値は、それぞれが独立した一次元正規分布に従うものとし、x座標とy座標用に、別々にnp.random.normal()から変数を発生させ、それらの組みを座標点として、配列で保持してください。\n",
    "\n",
    "\n",
    "また、二次元正規分布はnp.random.multivariate_normal()を用いて表現することもできます。その場合、例えば平均値ベクトルを[0,0] (mean=[0,0])、共分散行列を[[[0.01,0],[0,0.01]] (cov=[[0.01,0],[0,0.01]])としてnp.random.multivariate_normal(mean, cov)とすると、x座標とy座標の変数の組みを作れます。"
   ]
  },
  {
   "cell_type": "markdown",
   "metadata": {},
   "source": [
    "### 2.1.1 (解説)"
   ]
  },
  {
   "cell_type": "markdown",
   "metadata": {},
   "source": [
    "正規分布とは  \n",
    "・平均値と最頻値と中央値が一致する。  \n",
    "・平均値を中心にして左右対称である。（直線𝑥=μに関して対称）  \n",
    "・𝑥軸が漸近線である。  \n",
    "・分散（標準偏差）が大きくなると、曲線の山は低くなり、左右に広がって平らになる。分散（標準偏差）が小さくなると、山は高くなり、よりとんがった形になる。"
   ]
  },
  {
   "cell_type": "markdown",
   "metadata": {},
   "source": [
    "### 2.1.2 (解答)"
   ]
  },
  {
   "cell_type": "code",
   "execution_count": 2,
   "metadata": {},
   "outputs": [
    {
     "name": "stdout",
     "output_type": "stream",
     "text": [
      "[[array([4.19])], [array([0.04])]]\n"
     ]
    }
   ],
   "source": [
    "def landing_point():\n",
    "    n = target()\n",
    "    x_bar = np.random.normal(loc=n, scale=0.1, size=1) #正規分布をランダム生成する関数（中心値を問１でた値に指定）\n",
    "    y_bar = np.random.normal(loc=0.0, scale=0.1, size=1)\n",
    "    point = [n, [[x_bar], [y_bar]]]\n",
    "    return point\n",
    "\n",
    "s = landing_point()\n",
    "print(s[1])"
   ]
  },
  {
   "cell_type": "markdown",
   "metadata": {},
   "source": [
    "## 【問題3】ダーツをたくさん投げて、まとの番号と紐付けた状態で記録する  \n",
    "ダーツを1000回投げて、全てのダーツの刺さった位置をディクショナリに格納してください。ディクショナリのkeyはダーツのまとの番号になります。\n",
    "\n",
    "《ヒント》\n",
    "\n",
    "「ダーツを1000回投げる」というのは 問題1のサイコロを1000回振る　ことに相当します。 問題1と問題2に加えディクショナリに座標を格納する操作をfor文の中に実装することになります。"
   ]
  },
  {
   "cell_type": "markdown",
   "metadata": {},
   "source": [
    "### 3.1.1 (解答コード)"
   ]
  },
  {
   "cell_type": "code",
   "execution_count": 3,
   "metadata": {},
   "outputs": [
    {
     "name": "stdout",
     "output_type": "stream",
     "text": [
      "<class 'dict'>\n"
     ]
    }
   ],
   "source": [
    "def darts(num):\n",
    "    darts_dict= {}\n",
    "    for i in range(num):\n",
    "        n = landing_point()\n",
    "        darts_dict.setdefault(n[0],[]).append(n[1]) \n",
    "    return darts_dict\n",
    "\n",
    "print(type(darts(1000)))"
   ]
  },
  {
   "cell_type": "markdown",
   "metadata": {},
   "source": [
    "### 3.1.2 （確認用コード）"
   ]
  },
  {
   "cell_type": "code",
   "execution_count": 6,
   "metadata": {},
   "outputs": [
    {
     "name": "stdout",
     "output_type": "stream",
     "text": [
      "各的データの先頭３個分のデータを表示\n",
      "1番目は、[[[array([0.94])], [array([0.01])]], [[array([1.2])], [array([-0.03])]], [[array([0.9])], [array([0.1])]]]\n",
      "2番目は、[[[array([1.92])], [array([-0.02])]], [[array([1.89])], [array([-0.19])]], [[array([1.96])], [array([-0.07])]]]\n",
      "3番目は、[[[array([3.02])], [array([-0.17])]], [[array([3.02])], [array([0.11])]], [[array([2.99])], [array([0.02])]]]\n",
      "4番目は、[[[array([3.77])], [array([0.11])]], [[array([4.02])], [array([0.09])]], [[array([3.95])], [array([0.])]]]\n",
      "5番目は、[[[array([5.08])], [array([0.04])]], [[array([4.89])], [array([0.02])]], [[array([4.92])], [array([0.06])]]]\n",
      "6番目は、[[[array([6.08])], [array([-0.16])]], [[array([6.05])], [array([-0.07])]], [[array([6.13])], [array([-0.06])]]]\n"
     ]
    }
   ],
   "source": [
    "darts_data = darts(1000)\n",
    "\n",
    "print(\"各的データの先頭３個分のデータを表示\")\n",
    "for i in range(6):\n",
    "    print(f\"{i+1}番目は、{darts_data[i+1][:3]}\")"
   ]
  },
  {
   "cell_type": "markdown",
   "metadata": {},
   "source": [
    "## 【問題4】ダーツのまとと刺さった位置を描画する  \n",
    "問題3で作成したディクショナリからkeyごとに値を取り出し、まとごとに刺さった場所を描画してみましょう。  \n",
    "ダーツのまとを表現するためここではmatplotlibのpatchesクラスを用いてください。\n",
    "\n",
    "matplotlibのpatchesクラスの公式ドキュメント  \n",
    "matplotlib.patches.Circle — Matplotlib 3.1.1 documentation\n",
    "\n",
    "Mmh Donuts!!! — Matplotlib 3.1.1 documentation\n",
    "\n",
    "ここまで出来ていれば、最初に示したような図が描画されるはずです。"
   ]
  },
  {
   "cell_type": "markdown",
   "metadata": {},
   "source": [
    "### 4.1.1 (豆知識:matplotlib）"
   ]
  },
  {
   "cell_type": "markdown",
   "metadata": {},
   "source": [
    "matplotlibには2つの流儀がある。  \n",
    "\n",
    "【オブジェクト指向インターフェース】  \n",
    "fig, ax = plt.subplots()などの後にax.plotなどを使う流儀です。  \n",
    "\n",
    "【Pyplotインターフェース】  \n",
    "plt.なんとかで全部済ませる流儀です。matplotlibの元となったMATLABを模した流儀。 \n",
    "\n",
    "**簡単にまとめ**  \n",
    "この流儀をわからず、ごちゃまぜで使用している人が多い。  \n",
    "pyplotインターフェイスは簡単に出来るが、細かな調整をするにはオブジェクト指向インターフェイスのやり方をする必要があるので、早くからオブジェクト指向インターフェイスの方法に慣れておく。\n",
    "\n",
    "参考HP  \n",
    "https://qiita.com/skotaro/items/08dc0b8c5704c94eafb9"
   ]
  },
  {
   "cell_type": "markdown",
   "metadata": {},
   "source": [
    "### 4.1.2 (豆知識:matplotlib）"
   ]
  },
  {
   "cell_type": "markdown",
   "metadata": {},
   "source": [
    "**グラフに表示されている要素は全てArtist**\n",
    "\n",
    "- container（容器）・・・Figure, Axes, Axis(XAxis,YAxis)\n",
    "- primitive（原始的なもの）・・・プロット線や点、文字など\n",
    "\n",
    "各名称のイメージ\n",
    "Figure = 記入用紙  \n",
    "Axes   = 用紙に書くグラフ  \n",
    "Axis   = グラフのx軸とｙ軸\n",
    "\n",
    "\n",
    "**Figure, Axes, Axisは階層構造になっている**\n",
    "\n",
    "- FigureオブジェクトにAxesオブジェクトが属している\n",
    "- AxesオブジェクトにはAxisオブジェクトが属している\n",
    "\n",
    "（よく見る記述）  \n",
    "fig, ax = plt.subplots() # Figureオブジェクトとそれに属する一つのAxesオブジェクトを同時に作成\n",
    "\n",
    "fig = plt.figure() # Figureオブジェクトを作成\n",
    "ax = fig.add_subplot(1,1,1) # figに属するAxesオブジェクトを作成"
   ]
  },
  {
   "cell_type": "markdown",
   "metadata": {},
   "source": [
    "### 4.1.1 (解答)"
   ]
  },
  {
   "cell_type": "code",
   "execution_count": 9,
   "metadata": {},
   "outputs": [
    {
     "data": {
      "image/png": "[encoded data removed]",
      "text/plain": [
       "<Figure size 432x288 with 1 Axes>"
      ]
     },
     "metadata": {
      "needs_background": "light"
     },
     "output_type": "display_data"
    }
   ],
   "source": [
    "import matplotlib.patches as patches\n",
    "import matplotlib.pyplot as plt\n",
    "import random\n",
    "%matplotlib inline\n",
    "\n",
    "# Figureオブジェクトとそれに属する一つのAxesオブジェクトを同時に生成\n",
    "fig, ax = plt.subplots()\n",
    "\n",
    "# ダーツの色をマトごとに振り分けたいので、axes.prop_cycleのカラーサイクルリストを使う\n",
    "color = plt.rcParams['axes.prop_cycle'].by_key()['color'] #自動的に順番に色を設定される\n",
    "\n",
    "for key, data_value in darts_data.items():\n",
    "    # 円を定義し、描画する\n",
    "    outer_circle = patches.Circle(xy=(key, 0), radius=0.5, ec='b', fill=False)\n",
    "    inner_circle = patches.Circle(xy=(key, 0), radius=0.3, ec='b', fill=False)\n",
    "    senter_circle = patches.Circle(xy=(key, 0), radius=0.1, ec='b', fill=False)\n",
    "    ax.add_patch(outer_circle)\n",
    "    ax.add_patch(inner_circle)\n",
    "    ax.add_patch(senter_circle)\n",
    "\n",
    "    color_list = random.choice(color)   # colors_listからランダムにチョイス\n",
    "    for darts in darts_data[key]:\n",
    "        ax.scatter(darts[0], darts[1],color=color_list)\n",
    "\n",
    "plt.axis('scaled')\n",
    "ax.set_aspect('equal')"
   ]
  }
 ],
 "metadata": {
  "kernelspec": {
   "display_name": "Python 3",
   "language": "python",
   "name": "python3"
  },
  "language_info": {
   "codemirror_mode": {
    "name": "ipython",
    "version": 3
   },
   "file_extension": ".py",
   "mimetype": "text/x-python",
   "name": "python",
   "nbconvert_exporter": "python",
   "pygments_lexer": "ipython3",
   "version": "3.8.3"
  }
 },
 "nbformat": 4,
 "nbformat_minor": 4
}
