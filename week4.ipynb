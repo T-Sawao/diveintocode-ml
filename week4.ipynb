{
  "nbformat": 4,
  "nbformat_minor": 0,
  "metadata": {
    "colab": {
      "name": "week4.ipynb",
      "provenance": [],
      "private_outputs": true,
      "mount_file_id": "1_ke7GL9yOOzzkcysSq81f2tHc1NrLikS",
      "authorship_tag": "ABX9TyMTZC6kKYnxmmsD8GNZyA5K",
      "include_colab_link": true
    },
    "kernelspec": {
      "name": "python3",
      "display_name": "Python 3"
    }
  },
  "cells": [
    {
      "cell_type": "markdown",
      "metadata": {
        "id": "view-in-github",
        "colab_type": "text"
      },
      "source": [
        "<a href=\"https://colab.research.google.com/github/T-Sawao/diveintocode-ml/blob/master/week4.ipynb\" target=\"_parent\"><img src=\"https://colab.research.google.com/assets/colab-badge.svg\" alt=\"Open In Colab\"/></a>"
      ]
    },
    {
      "cell_type": "markdown",
      "metadata": {
        "id": "lvUFm6JsORYB"
      },
      "source": [
        "## 基本ライブラリのインポート"
      ]
    },
    {
      "cell_type": "code",
      "metadata": {
        "id": "kzeb-e8ZnbNU"
      },
      "source": [
        "import numpy as np\n",
        "import pandas as pd\n",
        "import matplotlib.pyplot as plt\n",
        "import seaborn as sns\n",
        "from sklearn.model_selection import train_test_split\n",
        "from sklearn.preprocessing import StandardScaler\n",
        "from sklearn.metrics import confusion_matrix\n",
        "\n",
        "sns.set()"
      ],
      "execution_count": null,
      "outputs": []
    },
    {
      "cell_type": "markdown",
      "metadata": {
        "id": "cRpda_onOXmq"
      },
      "source": [
        "# 訓練、検証データのインポート"
      ]
    },
    {
      "cell_type": "code",
      "metadata": {
        "id": "CJxBfrGapsSc"
      },
      "source": [
        "# df_test = pd.read_csv(\"/content/drive/My Drive/Colab Notebooks/diveintocode-ml/home-credit-default-risk/application_test.csv\")\n",
        "df_train = pd.read_csv(\"/content/drive/My Drive/Colab Notebooks/diveintocode-ml/home-credit-default-risk/application_train.csv\")"
      ],
      "execution_count": null,
      "outputs": []
    },
    {
      "cell_type": "markdown",
      "metadata": {
        "id": "5Zl9gO41OgGB"
      },
      "source": [
        "## データの前処理"
      ]
    },
    {
      "cell_type": "code",
      "metadata": {
        "id": "bIMtcfnBp8WC"
      },
      "source": [
        "DF_INCOME_train = df_train[\"AMT_INCOME_TOTAL\"]\n",
        "DF_CREDIT_train = df_train[\"AMT_CREDIT\"]\n",
        "Y_train = df_train[\"TARGET\"]"
      ],
      "execution_count": null,
      "outputs": []
    },
    {
      "cell_type": "code",
      "metadata": {
        "id": "q6M5Fy9t-B94"
      },
      "source": [
        "# DF_INCOME_test = df_test[\"AMT_INCOME_TOTAL\"]\n",
        "# DF_CREDIT_test = df_test[\"AMT_CREDIT\"]"
      ],
      "execution_count": null,
      "outputs": []
    },
    {
      "cell_type": "code",
      "metadata": {
        "id": "fwRM6WcE9rdA"
      },
      "source": [
        "x_train = pd.concat([DF_INCOME_train, DF_CREDIT_train], axis=1)\n",
        "print(x_train.shape)"
      ],
      "execution_count": null,
      "outputs": []
    },
    {
      "cell_type": "code",
      "metadata": {
        "id": "sdZXBVDd96OK"
      },
      "source": [
        "# x_test = pd.concat([DF_INCOME_test, DF_CREDIT_test], axis=1)"
      ],
      "execution_count": null,
      "outputs": []
    },
    {
      "cell_type": "code",
      "metadata": {
        "id": "QQsqQ6qDCfbc"
      },
      "source": [
        "x_train = np.array(x_train)\n",
        "Y_train = np.array(Y_train)\n",
        "\n",
        "X_train, X_test, y_train, y_test = train_test_split(x_train, Y_train, test_size=0.25, random_state=2)"
      ],
      "execution_count": null,
      "outputs": []
    },
    {
      "cell_type": "code",
      "metadata": {
        "id": "Wpf4Y5Fs_Af8"
      },
      "source": [
        "scaler = StandardScaler()\n",
        "# 引数を元に平均と標準を計算\n",
        "scaler.fit(X_train) \n",
        "\n",
        "# 標準化データの作成\n",
        "X_train_std = scaler.transform(X_train) \n",
        "X_test_std = scaler.transform(X_test) "
      ],
      "execution_count": null,
      "outputs": []
    },
    {
      "cell_type": "code",
      "metadata": {
        "id": "ml5D1bdnAy98"
      },
      "source": [
        "print(X_train_std.shape)\n",
        "print(X_test_std.shape)\n",
        "print(y_train.shape)\n",
        "print(y_test.shape)"
      ],
      "execution_count": null,
      "outputs": []
    },
    {
      "cell_type": "code",
      "metadata": {
        "id": "3kLFBqTNBpuQ"
      },
      "source": [
        "from sklearn.linear_model import LogisticRegression\n",
        "# アルゴリズムを指定\n",
        "lsr = LogisticRegression()\n",
        "lsr.fit(X_train_std, y_train)\n",
        "y_pred = lsr.predict(X_test_std)"
      ],
      "execution_count": null,
      "outputs": []
    },
    {
      "cell_type": "code",
      "metadata": {
        "id": "Izj8rZ8zAOBI"
      },
      "source": [
        "fig = plt.figure(figsize=(15, 6))\n",
        "\n",
        "ax1 = fig.add_subplot(1, 2, 1)\n",
        "ax2 = fig.add_subplot(1, 2, 2)\n",
        "\n",
        "ax1.scatter(X_test[:,0], y_pred, color=\"skyblue\")\n",
        "ax1.set_title(\"GrLivArea : SalePrice\")\n",
        "ax1.set_xlabel(\"GrLivArea\")\n",
        "ax1.set_ylabel(\"Price in $1000\")\n",
        "ax1.grid(True) \n",
        "\n",
        "ax2.scatter(X_test[:,1], y_pred, color=\"pink\")\n",
        "ax2.set_title(\"YearBuilt : SalePrice\")\n",
        "ax2.set_xlabel(\"AMT_CREDIT\")\n",
        "ax2.set_ylabel(\"Price in $1000\")\n",
        "\n",
        "ax2.grid(True)"
      ],
      "execution_count": null,
      "outputs": []
    },
    {
      "cell_type": "code",
      "metadata": {
        "id": "ZgtmT_XQXV3l"
      },
      "source": [
        "from sklearn.metrics import mean_squared_error    # 平均二乗誤差 インポート\n",
        "from sklearn.metrics import mean_absolute_error   # 平均絶対誤差 インポート\n",
        "from sklearn.metrics import r2_score              # 決定係数 インポート\n",
        "mse = mean_squared_error(y_pred, y_test)\n",
        "r2 = r2_score(y_pred, y_test)"
      ],
      "execution_count": null,
      "outputs": []
    },
    {
      "cell_type": "code",
      "metadata": {
        "id": "omfdZeoZY7wg"
      },
      "source": [
        "mse"
      ],
      "execution_count": null,
      "outputs": []
    },
    {
      "cell_type": "code",
      "metadata": {
        "id": "oQcppFODZFgg"
      },
      "source": [
        "r2"
      ],
      "execution_count": null,
      "outputs": []
    }
  ]
}