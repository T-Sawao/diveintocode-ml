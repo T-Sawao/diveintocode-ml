{
  "nbformat": 4,
  "nbformat_minor": 0,
  "metadata": {
    "colab": {
      "name": "week4.ipynb",
      "provenance": [],
      "private_outputs": true,
      "mount_file_id": "1_ke7GL9yOOzzkcysSq81f2tHc1NrLikS",
      "authorship_tag": "ABX9TyNbST735s+uQ9c2a53Mdwc9",
      "include_colab_link": true
    },
    "kernelspec": {
      "name": "python3",
      "display_name": "Python 3"
    }
  },
  "cells": [
    {
      "cell_type": "markdown",
      "metadata": {
        "id": "view-in-github",
        "colab_type": "text"
      },
      "source": [
        "<a href=\"https://colab.research.google.com/github/T-Sawao/diveintocode-ml/blob/master/week4.ipynb\" target=\"_parent\"><img src=\"https://colab.research.google.com/assets/colab-badge.svg\" alt=\"Open In Colab\"/></a>"
      ]
    },
    {
      "cell_type": "code",
      "metadata": {
        "id": "kzeb-e8ZnbNU"
      },
      "source": [
        "import numpy as np\n",
        "import pandas as pd\n",
        "import matplotlib.pyplot as plt\n",
        "import seaborn as sns\n",
        "from sklearn.model_selection import train_test_split\n",
        "from sklearn.preprocessing import StandardScaler\n",
        "from sklearn.metrics import confusion_matrix\n",
        "\n",
        "sns.set()"
      ],
      "execution_count": null,
      "outputs": []
    },
    {
      "cell_type": "code",
      "metadata": {
        "id": "CJxBfrGapsSc"
      },
      "source": [
        "# df_test = pd.read_csv(\"/content/drive/My Drive/Colab Notebooks/diveintocode-ml/home-credit-default-risk/application_test.csv\")\n",
        "df_train = pd.read_csv(\"/content/drive/My Drive/Colab Notebooks/diveintocode-ml/home-credit-default-risk/application_train.csv\")"
      ],
      "execution_count": null,
      "outputs": []
    },
    {
      "cell_type": "code",
      "metadata": {
        "id": "bIMtcfnBp8WC"
      },
      "source": [
        "DF_INCOME_train = df_train[\"AMT_INCOME_TOTAL\"]\n",
        "DF_CREDIT_train = df_train[\"AMT_CREDIT\"]\n",
        "Y_train = df_train[\"TARGET\"]\n",
        "print(Y)"
      ],
      "execution_count": null,
      "outputs": []
    },
    {
      "cell_type": "code",
      "metadata": {
        "id": "q6M5Fy9t-B94"
      },
      "source": [
        "# DF_INCOME_test = df_test[\"AMT_INCOME_TOTAL\"]\n",
        "# DF_CREDIT_test = df_test[\"AMT_CREDIT\"]"
      ],
      "execution_count": null,
      "outputs": []
    },
    {
      "cell_type": "code",
      "metadata": {
        "id": "fwRM6WcE9rdA"
      },
      "source": [
        "x_train = pd.concat([DF_INCOME_train, DF_CREDIT_train], axis=1)\n",
        "print(x_train.shape)"
      ],
      "execution_count": null,
      "outputs": []
    },
    {
      "cell_type": "code",
      "metadata": {
        "id": "sdZXBVDd96OK"
      },
      "source": [
        "# x_test = pd.concat([DF_INCOME_test, DF_CREDIT_test], axis=1)"
      ],
      "execution_count": null,
      "outputs": []
    },
    {
      "cell_type": "code",
      "metadata": {
        "id": "QQsqQ6qDCfbc"
      },
      "source": [
        "X_train, X_test, y_train, y_test = train_test_split(x_train, Y_train, test_size=0.25, random_state=0)"
      ],
      "execution_count": null,
      "outputs": []
    },
    {
      "cell_type": "code",
      "metadata": {
        "id": "xyGw1jMBE4MM"
      },
      "source": [
        "x_test"
      ],
      "execution_count": null,
      "outputs": []
    },
    {
      "cell_type": "code",
      "metadata": {
        "id": "Wpf4Y5Fs_Af8"
      },
      "source": [
        "scaler = StandardScaler()\n",
        "# 引数を元に平均と標準を計算\n",
        "scaler.fit(X_train) \n",
        "\n",
        "# 標準化データの作成\n",
        "X_train_std = scaler.transform(X_train) \n",
        "X_test_std = scaler.transform(X_test) "
      ],
      "execution_count": null,
      "outputs": []
    },
    {
      "cell_type": "code",
      "metadata": {
        "id": "ml5D1bdnAy98"
      },
      "source": [
        "def decision_region(X, y, model, step=0.01, title='decision region', xlabel='xlabel', ylabel='ylabel', target_names=['AMT_INCOME_TOTA', 'AMT_CREDIT']):   \n",
        "    # setting\n",
        "    scatter_color = ['red', 'blue']\n",
        "    contourf_color = ['pink', 'skyblue']\n",
        "    n_class = 2\n",
        "    \n",
        "    # pred\n",
        "    mesh_f0, mesh_f1  = np.meshgrid(np.arange(np.min(X[:,0])-0.5, np.max(X[:,0])+0.5, step), np.arange(np.min(X[:,1])-0.5, np.max(X[:,1])+0.5, step))\n",
        "    mesh = np.c_[np.ravel(mesh_f0),np.ravel(mesh_f1)]\n",
        "    model = model.fit(X, y)\n",
        "    y_pred = model.predict(mesh).reshape(mesh_f0.shape)\n",
        "\n",
        "    # plot\n",
        "    plt.title(title)\n",
        "    plt.xlabel(xlabel)\n",
        "    plt.ylabel(ylabel)\n",
        "    plt.contourf(mesh_f0, mesh_f1, y_pred, n_class-1, cmap=contourf_color)\n",
        "    plt.contour(mesh_f0, mesh_f1, y_pred, n_class-1, colors='y', linewidths=3, alpha=0.5)\n",
        "    for i, target in enumerate(set(y)):\n",
        "        print(target)\n",
        "        plt.scatter(X[y==target][:, 0], X[y==target][:, 1], s=80, color=scatter_color[i], label=target_names[i], marker='o')\n",
        "    patches = [mpatches.Patch(color=scatter_color[i], label=target_names[i]) for i in range(n_class)]\n",
        "    plt.legend(handles=patches)\n",
        "    plt.legend()\n",
        "    plt.show()"
      ],
      "execution_count": null,
      "outputs": []
    },
    {
      "cell_type": "code",
      "metadata": {
        "id": "3kLFBqTNBpuQ"
      },
      "source": [
        "#score\n",
        "def score(X, y, X1, y1, model):\n",
        "    model.fit(X, y)\n",
        "    y_pred = model.predict(X1)\n",
        "    print(f\"Accuracu:{accuracy_score(y1, y_pred)*100:.1f}%\")\n",
        "    print(f\"Precision:{precision_score(y1, y_pred)*100:.1f}%\")\n",
        "    print(f\"Recall:{recall_score(y1, y_pred)*100:.1f}%\")\n",
        "    print(f\"f1_score:{f1_score(y1, y_pred)*100:.1f}\")"
      ],
      "execution_count": null,
      "outputs": []
    },
    {
      "cell_type": "code",
      "metadata": {
        "id": "B8xDJkHRAObe"
      },
      "source": [
        "# インストール\n",
        "from sklearn.linear_model import LogisticRegression\n",
        "# アルゴリズムを指定\n",
        "lsr = LogisticRegression()\n",
        "# グラフ関数\n",
        "decision_region(X_train_std, y_train, model=lsr)\n",
        "# 評価関数\n",
        "score(X_train_std, y_train.ravel(), X_test_std, y_test, lsr)"
      ],
      "execution_count": null,
      "outputs": []
    },
    {
      "cell_type": "code",
      "metadata": {
        "id": "-gJhQORdAOC6"
      },
      "source": [
        ""
      ],
      "execution_count": null,
      "outputs": []
    },
    {
      "cell_type": "code",
      "metadata": {
        "id": "Izj8rZ8zAOBI"
      },
      "source": [
        ""
      ],
      "execution_count": null,
      "outputs": []
    }
  ]
}