{
 "cells": [
  {
   "cell_type": "markdown",
   "metadata": {},
   "source": [
    "# 【問題1】べき乗の算術演算子を使用して作成"
   ]
  },
  {
   "cell_type": "code",
   "execution_count": 1,
   "metadata": {},
   "outputs": [
    {
     "name": "stdout",
     "output_type": "stream",
     "text": [
      "厚さ： 703687441.77664メートル\n"
     ]
    }
   ],
   "source": [
    "THICKNESS = 0.00008\n",
    "folded_thickness = THICKNESS*2**43\n",
    "print(\"厚さ： {}メートル\".format(folded_thickness))"
   ]
  },
  {
   "cell_type": "markdown",
   "metadata": {},
   "source": [
    "# 【問題2】単位の変換"
   ]
  },
  {
   "cell_type": "code",
   "execution_count": 2,
   "metadata": {},
   "outputs": [
    {
     "name": "stdout",
     "output_type": "stream",
     "text": [
      "厚さ： 70.37万キロメートル\n"
     ]
    }
   ],
   "source": [
    "print(\"厚さ： {:.2f}万キロメートル\".format(folded_thickness/1000/10000))"
   ]
  },
  {
   "cell_type": "markdown",
   "metadata": {},
   "source": [
    "# 【問題3】for文を使用して作成"
   ]
  },
  {
   "cell_type": "code",
   "execution_count": 4,
   "metadata": {},
   "outputs": [
    {
     "name": "stdout",
     "output_type": "stream",
     "text": [
      "厚さ： 703687441.77664メートル\n",
      "厚さ： 70.37万キロメートル\n"
     ]
    }
   ],
   "source": [
    "THICKNESS = 0.00008 #折り紙の厚み\n",
    "t = 1                            #折り重なった紙の数\n",
    "\n",
    "for i in range(43):\n",
    "  t *=2\n",
    "print(\"厚さ： {}メートル\".format(THICKNESS*t))\n",
    "print(\"厚さ： {:.2f}万キロメートル\".format(THICKNESS*t/1000/10000))"
   ]
  },
  {
   "cell_type": "markdown",
   "metadata": {},
   "source": [
    "# 【問題4】計算時間の比較"
   ]
  },
  {
   "cell_type": "code",
   "execution_count": 6,
   "metadata": {},
   "outputs": [
    {
     "name": "stdout",
     "output_type": "stream",
     "text": [
      "time : 0.0001678466796875[s]\n"
     ]
    }
   ],
   "source": [
    "# 通常課題 (べき乗)\n",
    "\n",
    "import time\n",
    "start = time.time()\n",
    "#####\n",
    "folded_thickness = float(THICKNESS*2**43)\n",
    "#####\n",
    "elapsed_time = time.time() - start\n",
    "print(\"time : {}[s]\".format(elapsed_time))"
   ]
  },
  {
   "cell_type": "code",
   "execution_count": 7,
   "metadata": {},
   "outputs": [
    {
     "name": "stdout",
     "output_type": "stream",
     "text": [
      "time : 0.0002989768981933594[s]\n"
     ]
    }
   ],
   "source": [
    "# 通常課題 (for文)\n",
    "\n",
    "import time\n",
    "start = time.time()\n",
    "#####\n",
    "t = 1\n",
    "for i in range(43):\n",
    "  t *=2\n",
    "#####\n",
    "elapsed_time = time.time() - start\n",
    "print(\"time : {}[s]\".format(elapsed_time))"
   ]
  },
  {
   "cell_type": "markdown",
   "metadata": {},
   "source": [
    "**《発展：繰り返し回数を増やす》**"
   ]
  },
  {
   "cell_type": "code",
   "execution_count": 8,
   "metadata": {},
   "outputs": [
    {
     "name": "stdout",
     "output_type": "stream",
     "text": [
      "time : 9.608268737792969e-05[s]\n"
     ]
    }
   ],
   "source": [
    "# べき乗\n",
    "\n",
    "import time\n",
    "start = time.time()\n",
    "#####\n",
    "folded_thickness = THICKNESS*2**430\n",
    "#####\n",
    "elapsed_time = time.time() - start\n",
    "print(\"time : {}[s]\".format(elapsed_time))"
   ]
  },
  {
   "cell_type": "code",
   "execution_count": 9,
   "metadata": {},
   "outputs": [
    {
     "name": "stdout",
     "output_type": "stream",
     "text": [
      "time : 0.00022411346435546875[s]\n"
     ]
    }
   ],
   "source": [
    "# for文\n",
    "\n",
    "import time\n",
    "start = time.time()\n",
    "#####\n",
    "t = 1\n",
    "for i in range(430):\n",
    "  t *=2\n",
    "#####\n",
    "elapsed_time = time.time() - start\n",
    "print(\"time : {}[s]\".format(elapsed_time))"
   ]
  },
  {
   "cell_type": "markdown",
   "metadata": {},
   "source": [
    "**《発展：マジックコマンドを使う》**"
   ]
  },
  {
   "cell_type": "code",
   "execution_count": 49,
   "metadata": {},
   "outputs": [
    {
     "name": "stdout",
     "output_type": "stream",
     "text": [
      "127 ns ± 1.54 ns per loop (mean ± std. dev. of 7 runs, 10000000 loops each)\n"
     ]
    }
   ],
   "source": [
    "# べき乗\n",
    "%%timeit\n",
    "folded_thickness = THICKNESS*2**43"
   ]
  },
  {
   "cell_type": "code",
   "execution_count": 40,
   "metadata": {},
   "outputs": [
    {
     "name": "stdout",
     "output_type": "stream",
     "text": [
      "5.07 µs ± 228 ns per loop (mean ± std. dev. of 7 runs, 100000 loops each)\n"
     ]
    }
   ],
   "source": [
    "# for文\n",
    "%%timeit\n",
    "t = 1\n",
    "for i in range(43):\n",
    "  t *=2"
   ]
  },
  {
   "cell_type": "markdown",
   "metadata": {},
   "source": [
    "**まとめ**"
   ]
  },
  {
   "cell_type": "markdown",
   "metadata": {},
   "source": [
    "大半のケースにおいて、「べき乗>for文」の関係となり、繰り返し回数が増える程その時間差は大きくなります。    \n",
    "但し、べき乗の式は指数が1025以上となると、オーバーフローエラーとなります。  \n",
    "for文は430000回までは確認済み。 "
   ]
  },
  {
   "cell_type": "markdown",
   "metadata": {},
   "source": [
    "# 【問題5】リストへの保存"
   ]
  },
  {
   "cell_type": "code",
   "execution_count": 51,
   "metadata": {},
   "outputs": [
    {
     "name": "stdout",
     "output_type": "stream",
     "text": [
      "厚さ： 70.37万キロメートル\n",
      "リスト内データ数: 43個\n",
      "[0.00016, 0.00032, 0.00064, 0.00128, 0.00256, 0.00512, 0.01024, 0.02048, 0.04096, 0.08192, 0.16384, 0.32768, 0.65536, 1.31072, 2.62144, 5.24288, 10.48576, 20.97152, 41.94304, 83.88608, 167.77216, 335.54432, 671.08864, 1342.17728, 2684.35456, 5368.70912, 10737.41824, 21474.83648, 42949.67296, 85899.34592, 171798.69184, 343597.38368, 687194.76736, 1374389.53472, 2748779.06944, 5497558.13888, 10995116.27776, 21990232.55552, 43980465.11104, 87960930.22208, 175921860.44416, 351843720.88832, 703687441.77664]\n"
     ]
    }
   ],
   "source": [
    "THICKNESS = 0.00008 #折り紙の厚み\n",
    "t = 1                            #折り重なった紙の数\n",
    "list = []                        #空のリスト\n",
    "for i in range(43):\n",
    "  t *=2\n",
    "  list.append(THICKNESS*t)\n",
    "print(\"厚さ： {:.2f}万キロメートル\".format(THICKNESS*t/1000/10000))\n",
    "print(f\"リスト内データ数: {len(list)}個\")\n",
    "print(list)"
   ]
  },
  {
   "cell_type": "markdown",
   "metadata": {},
   "source": [
    "# 【問題6】折れ線グラフの表示"
   ]
  },
  {
   "cell_type": "code",
   "execution_count": 52,
   "metadata": {},
   "outputs": [
    {
     "data": {
      "image/png": "[encoded data removed]",
      "text/plain": [
       "<Figure size 432x288 with 1 Axes>"
      ]
     },
     "metadata": {
      "needs_background": "light"
     },
     "output_type": "display_data"
    }
   ],
   "source": [
    "import matplotlib.pyplot as plt\n",
    "%matplotlib inline\n",
    "plt.title(\"thickness of folded paper\")\n",
    "plt.xlabel(\"number of folds\")\n",
    "plt.ylabel(\"thickness[m]\")\n",
    "plt.plot(list) # 「リスト名」のところにリストの変数名を入れる\n",
    "plt.show()"
   ]
  },
  {
   "cell_type": "markdown",
   "metadata": {},
   "source": [
    "**考察**  \n",
    "thickness(m)軸の数値が１単位10万キロを表すため、折回数30後半まではほぼ横ばいとなっているが、40の少し前からは急上昇している。"
   ]
  },
  {
   "cell_type": "markdown",
   "metadata": {},
   "source": [
    "#  【問題7】グラフのカスタマイズ"
   ]
  },
  {
   "cell_type": "code",
   "execution_count": 53,
   "metadata": {},
   "outputs": [
    {
     "data": {
      "image/png": "[encoded data removed]",
      "text/plain": [
       "<Figure size 432x288 with 1 Axes>"
      ]
     },
     "metadata": {
      "needs_background": "light"
     },
     "output_type": "display_data"
    }
   ],
   "source": [
    "\"\"\"\n",
    "グラフ１\n",
    "\"\"\"\n",
    "plt.title(\"thickness of folded paper\")\n",
    "plt.xlabel(\"number of folds\")\n",
    "plt.ylabel(\"thickness(m)\")\n",
    "plt.plot(list, color='red', label=\"thickness\")\n",
    "plt.legend(loc =\"upper left\")\n",
    "plt.grid(True)\n",
    "plt.show()"
   ]
  },
  {
   "cell_type": "code",
   "execution_count": 54,
   "metadata": {},
   "outputs": [
    {
     "data": {
      "image/png": "[encoded data removed]",
      "text/plain": [
       "<Figure size 432x288 with 1 Axes>"
      ]
     },
     "metadata": {},
     "output_type": "display_data"
    }
   ],
   "source": [
    "\"\"\"\n",
    "グラフ2\n",
    "\"\"\"\n",
    "x = [i for i in range(1, 44)]\n",
    "fig = plt.subplots(facecolor=\"wheat\", subplot_kw=dict(facecolor=\"lightyellow\"))\n",
    "plt.scatter(x, list, color=\"coral\", alpha=0.6)\n",
    "plt.show()"
   ]
  },
  {
   "cell_type": "code",
   "execution_count": 56,
   "metadata": {},
   "outputs": [
    {
     "name": "stderr",
     "output_type": "stream",
     "text": [
      "<ipython-input-56-9e07f74d71df>:20: UserWarning: Matplotlib is currently using module://ipykernel.pylab.backend_inline, which is a non-GUI backend, so cannot show the figure.\n",
      "  figue.show()\n"
     ]
    },
    {
     "data": {
      "image/png": "[encoded data removed]",
      "text/plain": [
       "<Figure size 720x360 with 2 Axes>"
      ]
     },
     "metadata": {
      "needs_background": "light"
     },
     "output_type": "display_data"
    }
   ],
   "source": [
    "\"\"\"\n",
    "グラフ３\n",
    "\"\"\"\n",
    "x1 = [i for i in range(1, 31)]\n",
    "x2 = [i for i in range(31, 44)]\n",
    "list1 = list[:30]\n",
    "list2 = list[30:]\n",
    "\n",
    "figue,(Left,Right) = plt.subplots(ncols=2, figsize=(10, 5))\n",
    "\n",
    "Left.plot(x1, list1)\n",
    "Left.set_title(\"Number of folds[1-30]\" )\n",
    "Left.set_xlabel(\"number of folds\")\n",
    "Left.set_ylabel(\"thickness(m)\")\n",
    "Left.grid(True)\n",
    "\n",
    "Right.plot(x2, list2)\n",
    "Right.set_title(\"Number of folds[31-43]\" )\n",
    "Right.set_xlabel(\"number of folds\")\n",
    "Right.set_ylabel(\"thickness(m)\")\n",
    "Right.grid(True)\n",
    "\n",
    "figue.show()"
   ]
  }
 ],
 "metadata": {
  "kernelspec": {
   "display_name": "Python 3",
   "language": "python",
   "name": "python3"
  },
  "language_info": {
   "codemirror_mode": {
    "name": "ipython",
    "version": 3
   },
   "file_extension": ".py",
   "mimetype": "text/x-python",
   "name": "python",
   "nbconvert_exporter": "python",
   "pygments_lexer": "ipython3",
   "version": "3.8.3"
  }
 },
 "nbformat": 4,
 "nbformat_minor": 4
}
