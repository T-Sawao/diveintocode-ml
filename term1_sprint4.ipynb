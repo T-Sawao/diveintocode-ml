{
 "cells": [
  {
   "cell_type": "markdown",
   "metadata": {
    "id": "kAS8J_uqPp1Q"
   },
   "source": [
    "# term1_sprint4 機械学習スクラッチ ロジスティック回帰"
   ]
  },
  {
   "cell_type": "markdown",
   "metadata": {
    "id": "ly7QVpBSPp1Q"
   },
   "source": [
    "## 2.ロジスティック回帰スクラッチ\n",
    "\n",
    "ロジスティック回帰のクラスをスクラッチで作成していきます。NumPyなど最低限のライブラリのみを使いアルゴリズムを実装していきます。\n",
    "\n",
    "\n",
    "以下に雛形を用意してあります。このScratchLogisticRegressionクラスにコードを書き加えていってください。  \n",
    "推定関係のメソッドは線形回帰と異なり、ラベルを出力するpredictメソッドと、確率を出力するpredict_probaメソッドの2種類を作成します。\n",
    "\n",
    "雛形"
   ]
  },
  {
   "cell_type": "code",
   "execution_count": null,
   "metadata": {
    "id": "rpN_sp12Pp1Q"
   },
   "outputs": [],
   "source": [
    "class ScratchLogisticRegression():\n",
    "    \"\"\"\n",
    "    ロジスティック回帰のスクラッチ実装\n",
    "\n",
    "    Parameters\n",
    "    ----------\n",
    "    num_iter : int\n",
    "      イテレーション数\n",
    "    lr : float\n",
    "      学習率\n",
    "    no_bias : bool\n",
    "      バイアス項を入れない場合はTrue\n",
    "    verbose : bool\n",
    "      学習過程を出力する場合はTrue\n",
    "\n",
    "    Attributes\n",
    "    ----------\n",
    "    self.coef_ : 次の形のndarray, shape (n_features,)\n",
    "      パラメータ\n",
    "    self.loss : 次の形のndarray, shape (self.iter,)\n",
    "      訓練データに対する損失の記録\n",
    "    self.val_loss : 次の形のndarray, shape (self.iter,)\n",
    "      検証データに対する損失の記録\n",
    "\n",
    "    \"\"\"\n",
    "    def __init__(self, num_iter, lr, bias, verbose):\n",
    "        # ハイパーパラメータを属性として記録\n",
    "        self.iter = num_iter\n",
    "        self.lr = lr\n",
    "        self.bias = bias\n",
    "        self.verbose = verbose\n",
    "        # 損失を記録する配列を用意\n",
    "        self.loss = np.zeros(self.iter)\n",
    "        self.val_loss = np.zeros(self.iter)\n",
    "    def fit(self, X, y, X_val=None, y_val=None):\n",
    "        \"\"\"\n",
    "        ロジスティック回帰を学習する。検証データが入力された場合はそれに対する損失と精度もイテレーションごとに計算する\n",
    "        Parameters\n",
    "        ----------\n",
    "        X : 次の形のndarray, shape (n_samples, n_features)\n",
    "            訓練データの特徴量\n",
    "        y : 次の形のndarray, shape (n_samples, )\n",
    "            訓練データの正解値\n",
    "        X_val : 次の形のndarray, shape (n_samples, n_features)\n",
    "            検証データの特徴量\n",
    "        y_val : 次の形のndarray, shape (n_samples, )\n",
    "            検証データの正解値\n",
    "        \"\"\"\n",
    "        if self.verbose:\n",
    "            #verboseをTrueにした際は学習過程を出力\n",
    "            print()\n",
    "        pass\n",
    "\n",
    "    def predict(self, X):\n",
    "        \"\"\"\n",
    "        ロジスティック回帰を使いラベルを推定する。\n",
    "\n",
    "        Parameters\n",
    "        ----------\n",
    "        X : 次の形のndarray, shape (n_samples, n_features)\n",
    "            サンプル\n",
    "\n",
    "        Returns\n",
    "        -------\n",
    "            次の形のndarray, shape (n_samples, 1)\n",
    "            ロジスティック回帰による推定結果\n",
    "        \"\"\"\n",
    "        pass\n",
    "        return\n",
    "    def predict_proba(self, X):\n",
    "        \"\"\"\n",
    "        ロジスティック回帰を使い確率を推定する。\n",
    "\n",
    "        Parameters\n",
    "        ----------\n",
    "        X : 次の形のndarray, shape (n_samples, n_features)\n",
    "            サンプル\n",
    "            Returns\n",
    "        -------\n",
    "            次の形のndarray, shape (n_samples, 1)\n",
    "            ロジスティック回帰による推定結果\n",
    "        \"\"\"\n",
    "        pass\n",
    "        return"
   ]
  },
  {
   "cell_type": "markdown",
   "metadata": {
    "id": "vxJaDr_WPp1Q"
   },
   "source": [
    "## 【問題1】仮定関数\n",
    "ロジスティック回帰の仮定関数のメソッドをScratchLogisticRegressionクラスに実装してください。\n",
    "\n",
    "\n",
    "ロジスティック回帰の仮定関数は、線形回帰の仮定関数を シグモイド関数 に通したものです。シグモイド関数は以下の式で表されます。\n",
    "\n",
    "$$g(z) = \\frac{1}{1+e^{−z}}.$$\n",
    "線形回帰の仮定関数は次の式でした。\n",
    "$$h_\\theta(x) = \\theta^T \\cdot x.$$\n",
    "まとめて書くと、ロジスティック回帰の仮定関数は次のようになります。\n",
    "$$h_\\theta(x) = \\frac{1}{1+e^{−\\theta^T \\cdot x}}.$$\n",
    "\n",
    "x\n",
    " : 特徴量ベクトル\n",
    "\n",
    "\n",
    "θ\n",
    " : パラメータ（重み）ベクトル\n",
    "\n"
   ]
  },
  {
   "cell_type": "markdown",
   "metadata": {
    "id": "8u2UIRKGPp1Q"
   },
   "source": [
    "## 【問題2】最急降下法\n",
    "最急降下法により学習させる実装を行なってください。以下の式で表されるパラメータの更新式のメソッド_gradient_descentを追加し、fit\n",
    "メソッドから呼び出すようにしてください。\n",
    "$$\\theta_j := \\theta_j - \\alpha \\frac{\\partial J(\\theta)}{\\partial \\theta_j}\\\\ \\frac{\\partial J(\\theta)}{\\partial \\theta_0} = \\frac{1}{m}  \\sum_{i=1}^{m}(h_θ(x^{(i)}) − y^{(i)})x_j^{(i)}  ,j = 0\\\\ \\frac{\\partial J(\\theta)}{\\partial \\theta_j} = \\biggl(\\frac{1}{m}  \\sum_{i=1}^{m}(h_θ(x^{(i)}) − y^{(i)})x_j^{(i)} \\biggr) + \\frac{λ}{m}\\theta_j　 ,j\\geq 1$$\n",
    "\n",
    "α\n",
    "  : 学習率\n",
    "\n",
    "\n",
    "i\n",
    " : サンプルのインデックス\n",
    "\n",
    "\n",
    "j\n",
    " : 特徴量のインデックス\n",
    "\n",
    "\n",
    "m\n",
    " : 入力されるデータの数\n",
    "\n",
    "\n",
    "h\n",
    "θ\n",
    "(\n",
    ")\n",
    " : 仮定関数\n",
    "\n",
    "\n",
    "x\n",
    " : 特徴量ベクトル\n",
    "\n",
    "\n",
    "θ\n",
    " : パラメータ（重み）ベクトル\n",
    "\n",
    "\n",
    "x\n",
    "(\n",
    "i\n",
    ")\n",
    " : i番目のサンプルの特徴量ベクトル\n",
    "\n",
    "\n",
    "y\n",
    "(\n",
    "i\n",
    ")\n",
    " : i番目のサンプルの正解ラベル\n",
    "\n",
    "\n",
    "θ\n",
    "j\n",
    " : j番目のパラメータ（重み）\n",
    "\n",
    "\n",
    "λ\n",
    " : 正則化パラメータ"
   ]
  },
  {
   "cell_type": "markdown",
   "metadata": {
    "id": "RonIG5X0Pp1Q"
   },
   "source": [
    "## 【問題3】推定\n",
    "推定する仕組みを実装してください。ScratchLogisticRegressionクラスの雛形に含まれるpredictメソッドとpredict_probaメソッドに書き加えてください。\n",
    "\n",
    "\n",
    "仮定関数$hθ(x)$の出力がpredict_probaの返り値、さらにその値に閾値を設けて1と0のラベルとしたものがpredictの返り値となります。"
   ]
  },
  {
   "cell_type": "markdown",
   "metadata": {
    "id": "ImDHR02NPp1Q"
   },
   "source": [
    "## 【問題4】目的関数\n",
    "以下の数式で表されるロジスティック回帰の 目的関数（損失関数） を実装してください。そして、これをself.loss, self.val_lossに記録するようにしてください。\n",
    "\n",
    "\n",
    "なお、この数式には正則化項が含まれています。\n",
    "\n",
    "\n",
    "＊数式が見切れる場合、DIVERを全画面に## して御覧ください。\n",
    "\n",
    "$$J(\\theta)=  \\frac{1}{m}  \\sum_{i=1}^{m}[−y^{(i)} log(h_θ(x^{(i)})) − (1−y^{(i)}) log(1−h_θ(x^{(i)}))] +\n",
    "\\frac{λ}{2m}\\sum_{j=1}^n\n",
    "θ^2_j$$\n",
    "\n",
    "m\n",
    "  : 入力されるデータの数\n",
    "\n",
    "\n",
    "h\n",
    "θ\n",
    "(\n",
    ")\n",
    " : 仮定関数\n",
    "\n",
    "\n",
    "x\n",
    " : 特徴量ベクトル\n",
    "\n",
    "\n",
    "θ\n",
    " : パラメータ（重み）ベクトル\n",
    "\n",
    "\n",
    "x\n",
    "(\n",
    "i\n",
    ")\n",
    " : i番目のサンプルの特徴量ベクトル\n",
    "\n",
    "\n",
    "y\n",
    "(\n",
    "i\n",
    ")\n",
    " : i番目のサンプルの正解ラベル\n",
    "\n",
    "\n",
    "θ\n",
    "j\n",
    " : j番目のパラメータ（重み）\n",
    "\n",
    "\n",
    "n\n",
    " : 特徴量の数\n",
    "\n",
    "\n",
    "λ\n",
    " : 正則化パラメータ\n",
    "\n"
   ]
  },
  {
   "cell_type": "markdown",
   "metadata": {
    "id": "1pNCb-xCPp1Q"
   },
   "source": [
    "## 解答用クラス"
   ]
  },
  {
   "cell_type": "code",
   "execution_count": null,
   "metadata": {
    "id": "SzpRz8XhPp1Q"
   },
   "outputs": [],
   "source": [
    "class ScratchLogisticRegression():\n",
    "    \"\"\"\n",
    "    ロジスティック回帰のスクラッチ実装\n",
    "    Parameters\n",
    "    ----------\n",
    "    num_iter : int\n",
    "      イテレーション数\n",
    "    lr : float\n",
    "      学習率\n",
    "    no_bias : bool\n",
    "      バイアス項を入れない場合はTrue\n",
    "    verbose : bool\n",
    "      学習過程を出力する場合はTrue\n",
    "    Attributes\n",
    "    ----------\n",
    "    self.coef_ : 次の形のndarray, shape (n_features,)\n",
    "      パラメータ\n",
    "    self.loss : 次の形のndarray, shape (self.iter,)\n",
    "      訓練データに対する損失の記録\n",
    "    self.val_loss : 次の形のndarray, shape (self.iter,)\n",
    "      検証データに対する損失の記録\n",
    "    \"\"\"\n",
    "    def __init__(self, num_iter=5, lr=0.1, bias=1, regularization=0.1, verbose=True):\n",
    "        # ハイパーパラメータを属性として記録\n",
    "        self.iter = num_iter\n",
    "        self.lr = lr\n",
    "        self.bias = bias\n",
    "        self.regularization = regularization\n",
    "        self.verbose = verbose\n",
    "        # 損失を記録する配列を用意\n",
    "        self.loss = np.zeros(self.iter)\n",
    "        self.val_loss = np.zeros(self.iter)\n",
    "        \n",
    "    def fit(self, X, y, X_val=None, y_val=None):\n",
    "        \"\"\"\n",
    "        ロジスティック回帰を学習する。検証データが入力された場合はそれに対する損失と精度もイテレーションごとに計算する。\n",
    "        Parameters\n",
    "        ----------\n",
    "        X : 次の形のndarray, shape (n_samples, n_features)\n",
    "            訓練データの特徴量\n",
    "        y : 次の形のndarray, shape (n_samples, )\n",
    "            訓練データの正解値\n",
    "        X_val : 次の形のndarray, shape (n_samples, n_features)\n",
    "            検証データの特徴量\n",
    "        y_val : 次の形のndarray, shape (n_samples, )\n",
    "            検証データの正解値\n",
    "        \"\"\"\n",
    "        X = np.concatenate([np.ones(X.shape[0]).reshape(-1,1), X], axis=1)\n",
    "        self.theta = np.random.rand(X.shape[1])\n",
    "        \n",
    "        for i in range(self.iter):\n",
    "            z = X @ self.theta\n",
    "#             print(\"z\",z)\n",
    "            y_hat = self._sigmoid(z)\n",
    "#             print(\"yhat\", y_hat)\n",
    "#             print(\"y\", y)\n",
    "            self.loss[i] = self._loss(y, y_hat)\n",
    "            self.theta -= self.lr * self._gradient_descent(X, y, y_hat) \n",
    "#             print(\"theta\",self.theta )\n",
    "           \n",
    "            # Xの検証データを元に予測した値の学習過程を習得\n",
    "            if (type(X_val) != bool):\n",
    "                self.val =1\n",
    "                X2 = np.concatenate([np.ones(X_val.shape[0]).reshape(-1,1), X_val], axis=1)\n",
    "                z_val = X2 @ self.theta.T\n",
    "                y_hat_val = self._sigmoid(z_val)\n",
    "                self.val_loss[i] = self._loss(y_val, y_hat_val) \n",
    "            \n",
    "            # verboseをTrueにした際は学習過程を出力\n",
    "            if self.verbose :\n",
    "                print(f\"--{i+1}回目~loss~-------\\n{self.loss[i]}\")\n",
    "                print(f\"--{i+1}回目~loss_val~---\\n{self.val_loss[i]}\")\n",
    "        \n",
    "# 問1（解答）------------------------------------------------------  \n",
    "    # シグモイド関数の計算\n",
    "    def _sigmoid(self,X):\n",
    "        return 1 / (1+np.exp(-X))\n",
    "        \n",
    "# 問2 （解答）---------------------------------------------------------          \n",
    "    def _gradient_descent(self, X, y, y_hat):\n",
    "        \"\"\"\n",
    "        最急降下法で計算する\n",
    "        \"\"\"\n",
    "        # 最急降下法\n",
    "        error = y_hat - y\n",
    "        gd = (X.T @ error) / y.size\n",
    "        # theta index=0に0を入れる\n",
    "        theta = np.concatenate([np.array([0]), self.theta[1:]])\n",
    "        # 正則化\n",
    "        L = (self.regularization / y.size) * theta\n",
    "        # 最急降下法＋正則化\n",
    "        return gd + L\n",
    "                   \n",
    "# 問３ (解答)---------------------------------------------------------\n",
    "    def predict(self, X):\n",
    "        \"\"\"\n",
    "        ロジスティック回帰を使いラベルを推定する。\n",
    "        Parameters\n",
    "        ----------\n",
    "        X : 次の形のndarray, shape (n_samples, n_features)\n",
    "            サンプル\n",
    "        Returns\n",
    "        -------\n",
    "            次の形のndarray, shape (n_samples, 1)\n",
    "            ロジスティック回帰による推定結果\n",
    "        \"\"\" \n",
    "#         proba = self.predict_proba(X)\n",
    "#         return np.where(proba < 0.5, 0, 1)\n",
    "        threshold = 0.5\n",
    "        return (self.predict_proba(X) > threshold).astype(int)\n",
    "    \n",
    "    def predict_proba(self, X):\n",
    "        \"\"\"\n",
    "        ロジスティック回帰を使い確率を推定する。\n",
    "        Parameters\n",
    "        ----------\n",
    "        X : 次の形のndarray, shape (n_samples, n_features)\n",
    "            サンプル\n",
    "        Returns\n",
    "        -------\n",
    "            次の形のndarray, shape (n_samples, 1)\n",
    "            ロジスティック回帰による推定結果\n",
    "        \"\"\"\n",
    "        X1 = np.concatenate([np.ones((X.shape[0],1)), X], axis=1)\n",
    "        z = X1 @ self.theta\n",
    "        return self._sigmoid(z)\n",
    "        \n",
    "# 問4 （解答）---------------------------------------------------------                   \n",
    "    def _loss(self, y, y_hat):\n",
    "        # 交差エントロピー関数\n",
    "        loss = np.mean(-y * np.log(y_hat) - (1 - y) * np.log(1 - y_hat))\n",
    "        # 正則化\n",
    "        L = (self.regularization/(2 * len(y))) * np.sum(self.theta[1:])\n",
    "        return loss + L\n",
    "    \n",
    "# 問7（解答）----------------------------------------------------------    \n",
    "    def plot_cost(self):\n",
    "        \"\"\"\n",
    "        損失の推移をグラフ化する。    \n",
    "        検証用データが入力されていれば、学習用と検証用の損失推移を重ねてグラフ化\n",
    "        \"\"\"\n",
    "        plt.title(\"Num_of_Iteration vs Loss\")\n",
    "        plt.xlabel(\"Num_of_Iteration\")\n",
    "        plt.ylabel(\"Loss\")\n",
    "        a = range(self.iter)\n",
    "        plt.plot(range(len(self.loss)), self.loss, color=\"b\", label=\"train_loss\")\n",
    "        if self.val ==1:\n",
    "            plt.plot(range(len(self.val_loss)), self.val_loss, color=\"orange\", label=\"val_loss\")\n",
    "        plt.grid()\n",
    "        plt.legend()\n",
    "        \n",
    "# 問8（解答）----------------------------------------------------------    \n",
    "        # 第一引数にパス文字列、第二引数に保存したいndarrayを指定する。\n",
    "        np.save('theta', self.theta)"
   ]
  },
  {
   "cell_type": "markdown",
   "metadata": {
    "id": "hNGM1O0hPp1Q"
   },
   "source": [
    "# 3.検証\n",
    "\n",
    "## 【問題5】学習と推定\n",
    "機械学習スクラッチ入門のSprintで用意したirisデータセットのvirgicolorとvirginicaの2値分類に対してスクラッチ実装の学習と推定を行なってください。\n",
    "\n",
    "\n",
    "scikit-learnによる実装と比べ、正しく動いているかを確認してください。\n",
    "\n",
    "\n",
    "AccuracyやPrecision、Recallなどの指標値はscikit-learnを使用してください。\n",
    "\n"
   ]
  },
  {
   "cell_type": "markdown",
   "metadata": {
    "id": "yd9ZRPABPp1Q"
   },
   "source": [
    "### 5.1.1（irisデータセット)"
   ]
  },
  {
   "cell_type": "code",
   "execution_count": null,
   "metadata": {
    "id": "VTkRmb9qPp1Q"
   },
   "outputs": [],
   "source": [
    "import numpy as np\n",
    "import matplotlib.pyplot as plt\n",
    "import pandas as pd\n",
    "import seaborn as sns; sns.set()\n",
    "\n",
    "from sklearn.metrics import accuracy_score\n",
    "from sklearn.metrics import precision_score\n",
    "from sklearn.metrics import recall_score\n",
    "from sklearn.metrics import f1_score\n",
    "from sklearn.metrics import confusion_matrix\n",
    "\n",
    "from sklearn.linear_model import LogisticRegression"
   ]
  },
  {
   "cell_type": "code",
   "execution_count": null,
   "metadata": {
    "colab": {
     "base_uri": "https://localhost:8080/",
     "height": 221
    },
    "id": "qvxhgsjdPp1Q",
    "outputId": "a89ea589-ec6f-4de2-be26-1495ad6d3ef3"
   },
   "outputs": [
    {
     "name": "stdout",
     "output_type": "stream",
     "text": [
      "(100, 3)\n"
     ]
    },
    {
     "data": {
      "text/html": [
       "<div>\n",
       "<style scoped>\n",
       "    .dataframe tbody tr th:only-of-type {\n",
       "        vertical-align: middle;\n",
       "    }\n",
       "\n",
       "    .dataframe tbody tr th {\n",
       "        vertical-align: top;\n",
       "    }\n",
       "\n",
       "    .dataframe thead th {\n",
       "        text-align: right;\n",
       "    }\n",
       "</style>\n",
       "<table border=\"1\" class=\"dataframe\">\n",
       "  <thead>\n",
       "    <tr style=\"text-align: right;\">\n",
       "      <th></th>\n",
       "      <th>petal_length</th>\n",
       "      <th>petal_width</th>\n",
       "      <th>species</th>\n",
       "    </tr>\n",
       "  </thead>\n",
       "  <tbody>\n",
       "    <tr>\n",
       "      <th>50</th>\n",
       "      <td>4.7</td>\n",
       "      <td>1.4</td>\n",
       "      <td>1</td>\n",
       "    </tr>\n",
       "    <tr>\n",
       "      <th>51</th>\n",
       "      <td>4.5</td>\n",
       "      <td>1.5</td>\n",
       "      <td>1</td>\n",
       "    </tr>\n",
       "    <tr>\n",
       "      <th>52</th>\n",
       "      <td>4.9</td>\n",
       "      <td>1.5</td>\n",
       "      <td>1</td>\n",
       "    </tr>\n",
       "    <tr>\n",
       "      <th>53</th>\n",
       "      <td>4.0</td>\n",
       "      <td>1.3</td>\n",
       "      <td>1</td>\n",
       "    </tr>\n",
       "    <tr>\n",
       "      <th>54</th>\n",
       "      <td>4.6</td>\n",
       "      <td>1.5</td>\n",
       "      <td>1</td>\n",
       "    </tr>\n",
       "  </tbody>\n",
       "</table>\n",
       "</div>"
      ],
      "text/plain": [
       "    petal_length  petal_width  species\n",
       "50           4.7          1.4        1\n",
       "51           4.5          1.5        1\n",
       "52           4.9          1.5        1\n",
       "53           4.0          1.3        1\n",
       "54           4.6          1.5        1"
      ]
     },
     "execution_count": 4,
     "metadata": {
      "tags": []
     },
     "output_type": "execute_result"
    }
   ],
   "source": [
    "from sklearn.datasets import load_iris\n",
    "#irisデータの読み込み\n",
    "iris_dataset = load_iris()\n",
    "\n",
    "# 得微量\n",
    "X = pd.DataFrame(iris_dataset[\"data\"])\n",
    "X.columns = [\"sepal_length\", \"sepal_width\", \"petal_length\", \"petal_width\"]\n",
    "\n",
    "#targetを読み込み、値を品種に変更。\n",
    "y = pd.DataFrame(iris_dataset[\"target\"])\n",
    "y.columns = [\"species\"]\n",
    "\n",
    "#1つのデータに結合、不要な要素を削除する。\n",
    "df_master = pd.concat([X, y], axis=1) \n",
    "df = df_master[df_master[\"species\"] != 0]\n",
    "df = df[[\"petal_length\", \"petal_width\",\"species\"]]\n",
    "print(df.shape)\n",
    "df.head()"
   ]
  },
  {
   "cell_type": "markdown",
   "metadata": {
    "id": "w7aYi-TaPp1R"
   },
   "source": [
    "### 5.2.1 （前処理)"
   ]
  },
  {
   "cell_type": "code",
   "execution_count": null,
   "metadata": {
    "colab": {
     "base_uri": "https://localhost:8080/",
     "height": 302
    },
    "id": "pV7Hy-3WPp1R",
    "outputId": "f7fda9c6-3921-4521-e610-e2acd8f016e9"
   },
   "outputs": [
    {
     "data": {
      "text/plain": [
       "<matplotlib.axes._subplots.AxesSubplot at 0x7f0e1f3c5390>"
      ]
     },
     "execution_count": 5,
     "metadata": {
      "tags": []
     },
     "output_type": "execute_result"
    },
    {
     "data": {
      "image/png": "[encoded data removed]",
      "text/plain": [
       "<Figure size 432x288 with 1 Axes>"
      ]
     },
     "metadata": {
      "tags": []
     },
     "output_type": "display_data"
    }
   ],
   "source": [
    "sns.scatterplot(x = 'petal_length',  y='petal_width', hue=\"species\", data=df)"
   ]
  },
  {
   "cell_type": "code",
   "execution_count": null,
   "metadata": {
    "colab": {
     "base_uri": "https://localhost:8080/"
    },
    "id": "eCDrPnp_Pp1R",
    "outputId": "3b161b73-34f0-42db-b110-5f579698ab39"
   },
   "outputs": [
    {
     "data": {
      "text/plain": [
       "array([1, 1, 1, 1, 1, 1, 1, 1, 1, 1, 1, 1, 1, 1, 1, 1, 1, 1, 1, 1, 1, 1,\n",
       "       1, 1, 1, 1, 1, 1, 1, 1, 1, 1, 1, 1, 1, 1, 1, 1, 1, 1, 1, 1, 1, 1,\n",
       "       1, 1, 1, 1, 1, 1, 0, 0, 0, 0, 0, 0, 0, 0, 0, 0, 0, 0, 0, 0, 0, 0,\n",
       "       0, 0, 0, 0, 0, 0, 0, 0, 0, 0, 0, 0, 0, 0, 0, 0, 0, 0, 0, 0, 0, 0,\n",
       "       0, 0, 0, 0, 0, 0, 0, 0, 0, 0, 0, 0])"
      ]
     },
     "execution_count": 6,
     "metadata": {
      "tags": []
     },
     "output_type": "execute_result"
    }
   ],
   "source": [
    "X = df[[ \"petal_length\", \"petal_width\"]].values\n",
    "y = np.where(df[\"species\"] ==2, 0, 1)\n",
    "y\n",
    "\n"
   ]
  },
  {
   "cell_type": "code",
   "execution_count": null,
   "metadata": {
    "colab": {
     "base_uri": "https://localhost:8080/"
    },
    "id": "HlTCS5AXPp1S",
    "outputId": "44caedbc-4ffb-47cf-8c85-62506320547e"
   },
   "outputs": [
    {
     "name": "stdout",
     "output_type": "stream",
     "text": [
      "Xの訓練値:(70, 2)  Yの訓練値:(70,)  Xの正解値:(30, 2)  Yの正解値:(30,)\n"
     ]
    }
   ],
   "source": [
    "from sklearn.model_selection import train_test_split\n",
    "X_train, X_test, y_train, y_test = train_test_split(X, y, test_size=0.30, random_state=3)\n",
    "print(f\"Xの訓練値:{X_train.shape}  Yの訓練値:{y_train.shape}  Xの正解値:{X_test.shape}  Yの正解値:{y_test.shape}\")"
   ]
  },
  {
   "cell_type": "markdown",
   "metadata": {
    "id": "xez1iFgPPp1S"
   },
   "source": [
    "### 5.3.1（学習）"
   ]
  },
  {
   "cell_type": "code",
   "execution_count": null,
   "metadata": {
    "id": "TTrqjTP4Pp1S"
   },
   "outputs": [],
   "source": [
    "slg = ScratchLogisticRegression(num_iter=10000, lr=0.01, bias=1, verbose=False)\n",
    "slg.fit(X_train, y_train, X_test, y_test)"
   ]
  },
  {
   "cell_type": "code",
   "execution_count": null,
   "metadata": {
    "colab": {
     "base_uri": "https://localhost:8080/"
    },
    "id": "hZ7LTKRXPp1S",
    "outputId": "e2898acd-e1b3-4573-bf2f-c3f1cde26129"
   },
   "outputs": [
    {
     "name": "stdout",
     "output_type": "stream",
     "text": [
      "[0 0 1 0 0 1 0 1 1 1 0 1 0 0 1 0 0 1 0 1 0 1 1 1 0 0 1 0 1 0]\n",
      "[0.13815663 0.1507939  0.52728628 0.12642077 0.33546232 0.57041457\n",
      " 0.14922454 0.77212716 0.65831823 0.65831823 0.39668345 0.67826243\n",
      " 0.28661841 0.27570679 0.59665099 0.35040029 0.17793353 0.74920491\n",
      " 0.08633392 0.76573186 0.39668345 0.847215   0.70393219 0.59231221\n",
      " 0.47783377 0.11681198 0.84487073 0.15152395 0.71505987 0.08776421]\n"
     ]
    }
   ],
   "source": [
    "y_pred = slg.predict(X_test)\n",
    "y_proba = slg.predict_proba(X_test)\n",
    "print(y_pred)\n",
    "print(y_proba)"
   ]
  },
  {
   "cell_type": "code",
   "execution_count": null,
   "metadata": {
    "colab": {
     "base_uri": "https://localhost:8080/"
    },
    "id": "Y6oTwjQdPp1S",
    "outputId": "ed64c6f2-caca-4004-d146-2ab29cae98b5"
   },
   "outputs": [
    {
     "data": {
      "text/plain": [
       "array([0, 0, 1, 0, 0, 0, 0, 1, 1, 1, 0, 1, 0, 0, 1, 0, 0, 1, 0, 1, 0, 1,\n",
       "       1, 1, 0, 0, 1, 0, 1, 0])"
      ]
     },
     "execution_count": 10,
     "metadata": {
      "tags": []
     },
     "output_type": "execute_result"
    }
   ],
   "source": [
    "y_test"
   ]
  },
  {
   "cell_type": "code",
   "execution_count": null,
   "metadata": {
    "colab": {
     "base_uri": "https://localhost:8080/"
    },
    "id": "jB-V9EnyPp1S",
    "outputId": "9be5b973-e68d-40d3-fc1c-229c2c1623f7"
   },
   "outputs": [
    {
     "name": "stdout",
     "output_type": "stream",
     "text": [
      "accuracy 0.9666666666666667\n",
      "precision 0.9285714285714286\n",
      "recall 1.0\n",
      "f1 0.962962962962963\n"
     ]
    }
   ],
   "source": [
    "accuracy = accuracy_score(y_test, y_pred)\n",
    "precision = precision_score(y_test, y_pred)\n",
    "recall = recall_score(y_test, y_pred)\n",
    "f1 = f1_score(y_test, y_pred)\n",
    "\n",
    "print('accuracy',accuracy)\n",
    "print('precision',precision)\n",
    "print('recall',recall)\n",
    "print('f1',f1)"
   ]
  },
  {
   "cell_type": "markdown",
   "metadata": {
    "id": "7PWEsB-vPp1S"
   },
   "source": [
    "### 5.4.1 sklearn"
   ]
  },
  {
   "cell_type": "code",
   "execution_count": null,
   "metadata": {
    "colab": {
     "base_uri": "https://localhost:8080/"
    },
    "id": "sgYGUA21Pp1S",
    "outputId": "fbf88494-7ecd-47e3-8741-d3738aecaf28"
   },
   "outputs": [
    {
     "name": "stdout",
     "output_type": "stream",
     "text": [
      "[0 0 1 0 0 0 0 1 1 1 0 1 0 0 1 0 0 1 0 1 0 1 1 1 0 0 1 0 1 0]\n"
     ]
    }
   ],
   "source": [
    "from sklearn.linear_model import LogisticRegression\n",
    "\n",
    "lr = LogisticRegression()\n",
    "\n",
    "lr.fit(X_train,y_train)\n",
    "\n",
    "y_pred2 = lr.predict(X_test)\n",
    "y_proba2 = lr.predict_proba(X_test)\n",
    "print(y_pred2)"
   ]
  },
  {
   "cell_type": "code",
   "execution_count": null,
   "metadata": {
    "colab": {
     "base_uri": "https://localhost:8080/"
    },
    "id": "CeV6gHQjPp1T",
    "outputId": "4c9dab5d-49bb-4101-c146-adb0ee0c34b7"
   },
   "outputs": [
    {
     "name": "stdout",
     "output_type": "stream",
     "text": [
      "accuracy 1.0\n",
      "precision 1.0\n",
      "recall 1.0\n",
      "f1 1.0\n"
     ]
    }
   ],
   "source": [
    "accuracy_s = accuracy_score(y_test, y_pred2)\n",
    "precision_s = precision_score(y_test, y_pred2)\n",
    "recall_s = recall_score(y_test, y_pred2)\n",
    "f1_s = f1_score(y_test, y_pred2)\n",
    "\n",
    "print('accuracy',accuracy_s)\n",
    "print('precision',precision_s)\n",
    "print('recall',recall_s)\n",
    "print('f1',f1_s)"
   ]
  },
  {
   "cell_type": "markdown",
   "metadata": {
    "id": "99ZjAd9NPp1T"
   },
   "source": [
    "### 【問題6】学習曲線のプロット\n",
    "学習曲線を見て損失が適切に下がっているかどうか確認してください。"
   ]
  },
  {
   "cell_type": "code",
   "execution_count": null,
   "metadata": {
    "colab": {
     "base_uri": "https://localhost:8080/",
     "height": 301
    },
    "id": "XvX5f5y6Pp1T",
    "outputId": "078e72e0-a1c5-4346-c063-0d70278967fa",
    "scrolled": true
   },
   "outputs": [
    {
     "data": {
      "image/png": "[encoded data removed]",
      "text/plain": [
       "<Figure size 432x288 with 1 Axes>"
      ]
     },
     "metadata": {
      "tags": []
     },
     "output_type": "display_data"
    }
   ],
   "source": [
    "slg.plot_cost()"
   ]
  },
  {
   "cell_type": "markdown",
   "metadata": {
    "id": "VVeoA7goPp1T"
   },
   "source": [
    "### 【問題7】決定領域の可視化\n",
    "決定領域を可視化してください。"
   ]
  },
  {
   "cell_type": "code",
   "execution_count": null,
   "metadata": {
    "id": "PLshz_fKPp1T"
   },
   "outputs": [],
   "source": [
    "from matplotlib.colors import ListedColormap\n",
    "import matplotlib.patches as mpatches\n",
    "\n",
    "def decision_region(X,y,model,step=0.01,\n",
    "                    title='decision region',\n",
    "                    xlabel=\"petal_length\",\n",
    "                    ylabel=\"petal_width\",\n",
    "                    target_names=['versicolor', 'virginica']):\n",
    "    \n",
    "    # setting\n",
    "    scatter_color = ['red', 'blue']\n",
    "    contourf_color = ['pink', 'skyblue']\n",
    "    n_class = 2\n",
    "    \n",
    "    # pred\n",
    "    mesh_f0, mesh_f1  = np.meshgrid(np.arange(np.min(X[:,0])-0.5, np.max(X[:,0])+0.5, step), np.arange(np.min(X[:,1])-0.5, np.max(X[:,1])+0.5, step))\n",
    "    mesh = np.c_[np.ravel(mesh_f0),np.ravel(mesh_f1)]\n",
    "    y_pred = model.predict(mesh).reshape(mesh_f0.shape)\n",
    "    \n",
    "    # plot\n",
    "    plt.title(title)\n",
    "    plt.xlabel(xlabel)\n",
    "    plt.ylabel(ylabel)\n",
    "    plt.contourf(mesh_f0, mesh_f1, y_pred, n_class-1, cmap=ListedColormap(contourf_color))\n",
    "    plt.contour(mesh_f0, mesh_f1, y_pred, n_class-1, colors='y', linewidths=3, alpha=0.5)\n",
    "    for i, target in enumerate(set(y)):\n",
    "        plt.scatter(X[y==target][:, 0], X[y==target][:, 1], s=80, color=scatter_color[i], label=target_names[i], marker='o')\n",
    "    patches = [mpatches.Patch(color=scatter_color[i], label=target_names[i]) for i in range(n_class)]\n",
    "    plt.legend(handles=patches)\n",
    "    plt.legend()"
   ]
  },
  {
   "cell_type": "code",
   "execution_count": null,
   "metadata": {
    "colab": {
     "base_uri": "https://localhost:8080/",
     "height": 573
    },
    "id": "oktITxVzPp1T",
    "outputId": "c7abfa5b-c3c6-46f0-b3dc-bb1c88506bd7"
   },
   "outputs": [
    {
     "data": {
      "image/png": "[encoded data removed]",
      "text/plain": [
       "<Figure size 1152x648 with 1 Axes>"
      ]
     },
     "metadata": {
      "tags": []
     },
     "output_type": "display_data"
    }
   ],
   "source": [
    "fit,ax = plt.subplots(figsize=(16,9))\n",
    "decision_region(X_train, y_train, slg, title='iris_ScratchLogisticRegression');"
   ]
  },
  {
   "cell_type": "markdown",
   "metadata": {
    "id": "8DKGvZ-oPp1T"
   },
   "source": [
    "## 【問題8】（アドバンス課題）重みの保存\n",
    "検証が容易になるように、学習した重みを保存および読み込みができるようにしましょう。pickleモジュールやNumPyのnp.savezを利用します。\n",
    "\n",
    "\n",
    "pickle — Python オブジェクトの直列化 — Python 3.7.4 ドキュメント  \n",
    "https://docs.python.org/ja/3/library/pickle.html\n",
    "\n",
    "\n",
    "numpy.savez — NumPy v1.17 Manual  \n",
    "https://docs.scipy.org/doc/numpy/reference/generated/numpy.savez.html"
   ]
  },
  {
   "cell_type": "code",
   "execution_count": null,
   "metadata": {
    "colab": {
     "base_uri": "https://localhost:8080/"
    },
    "id": "092sDD3YPp1T",
    "outputId": "7531b410-bcc1-42e6-f973-4490af56d976"
   },
   "outputs": [
    {
     "data": {
      "text/plain": [
       "array([ 4.89564472, -0.17997886, -2.4628065 ])"
      ]
     },
     "execution_count": 17,
     "metadata": {
      "tags": []
     },
     "output_type": "execute_result"
    }
   ],
   "source": [
    "# np.saveとセットで使用する、ndarrayをそのまま返す。\n",
    "np.load('theta.npy')"
   ]
  }
 ],
 "metadata": {
  "accelerator": "GPU",
  "colab": {
   "name": "term1_sprint4.ipynb",
   "provenance": []
  },
  "kernelspec": {
   "display_name": "Python 3",
   "language": "python",
   "name": "python3"
  },
  "language_info": {
   "codemirror_mode": {
    "name": "ipython",
    "version": 3
   },
   "file_extension": ".py",
   "mimetype": "text/x-python",
   "name": "python",
   "nbconvert_exporter": "python",
   "pygments_lexer": "ipython3",
   "version": "3.8.5"
  }
 },
 "nbformat": 4,
 "nbformat_minor": 4
}
