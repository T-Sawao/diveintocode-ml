{
  "nbformat": 4,
  "nbformat_minor": 0,
  "metadata": {
    "colab": {
      "name": "sprint9 深層学習スクラッチ ニューラルネットワーク",
      "provenance": [],
      "collapsed_sections": [],
      "mount_file_id": "1x0ncqXZSnJu8BQJMsfWocIYdJT1Pwt4x",
      "authorship_tag": "ABX9TyMYd7Kz3mh8HyC8xPquU9Uq",
      "include_colab_link": true
    },
    "kernelspec": {
      "name": "python3",
      "display_name": "Python 3"
    }
  },
  "cells": [
    {
      "cell_type": "markdown",
      "metadata": {
        "id": "view-in-github",
        "colab_type": "text"
      },
      "source": [
        "<a href=\"https://colab.research.google.com/github/T-Sawao/diveintocode-ml/blob/master/term2_sprint9.ipynb\" target=\"_parent\"><img src=\"https://colab.research.google.com/assets/colab-badge.svg\" alt=\"Open In Colab\"/></a>"
      ]
    },
    {
      "cell_type": "markdown",
      "metadata": {
        "id": "4XC87SJCf3c3"
      },
      "source": [
        "# 2.MNISTデータセット\n",
        "\n",
        "ニューラルネットワークスクラッチの検証にはMNISTデータセットを使用します。各種ライブラリやサイトからダウンロードできますが、ここでは深層学習フレームワークのKerasを用います。以下のコードを実行すればデータセットをダウンロードし、展開まで行えます。\n",
        "\n",
        "\n",
        "《データセットをダウンロードするコード》"
      ]
    },
    {
      "cell_type": "code",
      "metadata": {
        "id": "_8dATX-XjFmt"
      },
      "source": [
        "import numpy as np\n",
        "import pandas as pd\n",
        "import matplotlib.pyplot as plt\n",
        "import seaborn as setattr\n",
        "from sklearn.metrics import accuracy_score"
      ],
      "execution_count": 2,
      "outputs": []
    },
    {
      "cell_type": "code",
      "metadata": {
        "id": "TK_cHv3hf16i"
      },
      "source": [
        "from keras.datasets import mnist\n",
        "(X_train, y_train), (X_test, y_test) = mnist.load_data()"
      ],
      "execution_count": 3,
      "outputs": []
    },
    {
      "cell_type": "markdown",
      "metadata": {
        "id": "ANj91yBrhVlu"
      },
      "source": [
        "**《MNISTとは？》**\n",
        "\n",
        "\n",
        "画像分類のための定番データセットで、手書き数字認識を行います。このデータセットには訓練用6万枚、テスト用1万枚の28×28ピクセルの白黒画像、およびそれらが0〜9のどの数字であるかというラベルが含まれています。\n",
        "\n",
        "\n",
        "**《画像データとは？》**\n",
        "\n",
        "\n",
        "デジタル画像は点の集合で、これをピクセルと呼びます。一般的に白黒画像であればピクセルには0〜255の値が含まれます。一方、カラー画像であればR（赤）、G（緑）、B（青）それぞれに対応する0〜255の値が含まれます。機械学習をする上では、この0〜255の値一つひとつが特徴量として扱われます。0〜255は符号なしの8ビット整数で表せる範囲になるため、NumPyであれば「uint8」型の変数として保持できます。\n",
        "\n",
        "\n",
        "**データセットの確認**\n",
        "どういったデータなのかを見てみます。\n",
        "\n",
        "\n",
        "**《サンプルコード》**\n",
        "\n"
      ]
    },
    {
      "cell_type": "code",
      "metadata": {
        "id": "SN-ETfZMg-oW",
        "colab": {
          "base_uri": "https://localhost:8080/"
        },
        "outputId": "fd197e27-f6bb-4136-f65e-8c6379bde0a0"
      },
      "source": [
        "print(X_train.shape) # (60000, 28, 28)\n",
        "print(X_test.shape) # (10000, 28, 28)\n",
        "print(X_train[0].dtype) # uint8\n",
        "print(X_train[0])"
      ],
      "execution_count": 4,
      "outputs": [
        {
          "output_type": "stream",
          "text": [
            "(60000, 28, 28)\n",
            "(10000, 28, 28)\n",
            "uint8\n",
            "[[  0   0   0   0   0   0   0   0   0   0   0   0   0   0   0   0   0   0\n",
            "    0   0   0   0   0   0   0   0   0   0]\n",
            " [  0   0   0   0   0   0   0   0   0   0   0   0   0   0   0   0   0   0\n",
            "    0   0   0   0   0   0   0   0   0   0]\n",
            " [  0   0   0   0   0   0   0   0   0   0   0   0   0   0   0   0   0   0\n",
            "    0   0   0   0   0   0   0   0   0   0]\n",
            " [  0   0   0   0   0   0   0   0   0   0   0   0   0   0   0   0   0   0\n",
            "    0   0   0   0   0   0   0   0   0   0]\n",
            " [  0   0   0   0   0   0   0   0   0   0   0   0   0   0   0   0   0   0\n",
            "    0   0   0   0   0   0   0   0   0   0]\n",
            " [  0   0   0   0   0   0   0   0   0   0   0   0   3  18  18  18 126 136\n",
            "  175  26 166 255 247 127   0   0   0   0]\n",
            " [  0   0   0   0   0   0   0   0  30  36  94 154 170 253 253 253 253 253\n",
            "  225 172 253 242 195  64   0   0   0   0]\n",
            " [  0   0   0   0   0   0   0  49 238 253 253 253 253 253 253 253 253 251\n",
            "   93  82  82  56  39   0   0   0   0   0]\n",
            " [  0   0   0   0   0   0   0  18 219 253 253 253 253 253 198 182 247 241\n",
            "    0   0   0   0   0   0   0   0   0   0]\n",
            " [  0   0   0   0   0   0   0   0  80 156 107 253 253 205  11   0  43 154\n",
            "    0   0   0   0   0   0   0   0   0   0]\n",
            " [  0   0   0   0   0   0   0   0   0  14   1 154 253  90   0   0   0   0\n",
            "    0   0   0   0   0   0   0   0   0   0]\n",
            " [  0   0   0   0   0   0   0   0   0   0   0 139 253 190   2   0   0   0\n",
            "    0   0   0   0   0   0   0   0   0   0]\n",
            " [  0   0   0   0   0   0   0   0   0   0   0  11 190 253  70   0   0   0\n",
            "    0   0   0   0   0   0   0   0   0   0]\n",
            " [  0   0   0   0   0   0   0   0   0   0   0   0  35 241 225 160 108   1\n",
            "    0   0   0   0   0   0   0   0   0   0]\n",
            " [  0   0   0   0   0   0   0   0   0   0   0   0   0  81 240 253 253 119\n",
            "   25   0   0   0   0   0   0   0   0   0]\n",
            " [  0   0   0   0   0   0   0   0   0   0   0   0   0   0  45 186 253 253\n",
            "  150  27   0   0   0   0   0   0   0   0]\n",
            " [  0   0   0   0   0   0   0   0   0   0   0   0   0   0   0  16  93 252\n",
            "  253 187   0   0   0   0   0   0   0   0]\n",
            " [  0   0   0   0   0   0   0   0   0   0   0   0   0   0   0   0   0 249\n",
            "  253 249  64   0   0   0   0   0   0   0]\n",
            " [  0   0   0   0   0   0   0   0   0   0   0   0   0   0  46 130 183 253\n",
            "  253 207   2   0   0   0   0   0   0   0]\n",
            " [  0   0   0   0   0   0   0   0   0   0   0   0  39 148 229 253 253 253\n",
            "  250 182   0   0   0   0   0   0   0   0]\n",
            " [  0   0   0   0   0   0   0   0   0   0  24 114 221 253 253 253 253 201\n",
            "   78   0   0   0   0   0   0   0   0   0]\n",
            " [  0   0   0   0   0   0   0   0  23  66 213 253 253 253 253 198  81   2\n",
            "    0   0   0   0   0   0   0   0   0   0]\n",
            " [  0   0   0   0   0   0  18 171 219 253 253 253 253 195  80   9   0   0\n",
            "    0   0   0   0   0   0   0   0   0   0]\n",
            " [  0   0   0   0  55 172 226 253 253 253 253 244 133  11   0   0   0   0\n",
            "    0   0   0   0   0   0   0   0   0   0]\n",
            " [  0   0   0   0 136 253 253 253 212 135 132  16   0   0   0   0   0   0\n",
            "    0   0   0   0   0   0   0   0   0   0]\n",
            " [  0   0   0   0   0   0   0   0   0   0   0   0   0   0   0   0   0   0\n",
            "    0   0   0   0   0   0   0   0   0   0]\n",
            " [  0   0   0   0   0   0   0   0   0   0   0   0   0   0   0   0   0   0\n",
            "    0   0   0   0   0   0   0   0   0   0]\n",
            " [  0   0   0   0   0   0   0   0   0   0   0   0   0   0   0   0   0   0\n",
            "    0   0   0   0   0   0   0   0   0   0]]\n"
          ],
          "name": "stdout"
        }
      ]
    },
    {
      "cell_type": "markdown",
      "metadata": {
        "id": "-YJO0avohaQc"
      },
      "source": [
        "各データは28×28ピクセルの白黒画像です。\n",
        "\n",
        "\n",
        "**平滑化**  \n",
        "(1, 28, 28)の各画像を、(1, 784)に変換します。これまで学んできた機械学習手法や、今回扱う全結合層のみのニューラルネットワークではこの形で扱います。全てのピクセルが一列になっていることを、 平滑化（flatten） してあるという風に表現します。\n",
        "\n",
        "\n",
        "**《サンプルコード》**\n",
        "\n"
      ]
    },
    {
      "cell_type": "code",
      "metadata": {
        "id": "k3fBa8J0hbqR"
      },
      "source": [
        "X_train = X_train.reshape(-1, 784)\n",
        "X_test = X_test.reshape(-1, 784)"
      ],
      "execution_count": 5,
      "outputs": []
    },
    {
      "cell_type": "markdown",
      "metadata": {
        "id": "pZucq4mcuV7L"
      },
      "source": [
        "**《補足》**\n",
        "\n",
        "\n",
        "ここまで機械学習を学んでくる中で、特徴量の数を「次元」と呼んできました。その視点ではMNISTは784次元のデータです。一方で、NumPyのshapeが(784,)の状態を1次元配列とも呼びます。画像としての縦横の情報を持つ（28, 28)の状態であれば、2次元配列です。この視点では2次元のデータです。さらに、もしもカラー画像であれば(28, 28, 3)ということになり、3次元配列です。先ほどの視点では3次元のデータになります。しかし、白黒でもカラーでも平面画像であり、立体データではないという視点で、2次元のデータです。画像データを扱う際にはこのように「次元」という言葉が複数の意味合いで使われることに注意してください。\n",
        "\n",
        "\n",
        "## 画像データの可視化\n",
        "画像データを可視化します。plt.imshowに渡します。\n",
        "\n",
        "\n",
        "**《サンプルコード》**"
      ]
    },
    {
      "cell_type": "code",
      "metadata": {
        "id": "JMPyAGiluVu9",
        "colab": {
          "base_uri": "https://localhost:8080/",
          "height": 281
        },
        "outputId": "25a9aa25-c86c-413a-eb4b-3ae0be266b4e"
      },
      "source": [
        "import matplotlib.pyplot as plt\n",
        "%matplotlib inline\n",
        "index = 0\n",
        "image = X_train[index].reshape(28,28)\n",
        "# X_train[index]: (784,)\n",
        "# image: (28, 28)\n",
        "plt.imshow(image, 'gray')\n",
        "plt.title('label : {}'.format(y_train[index]))\n",
        "plt.show()"
      ],
      "execution_count": 6,
      "outputs": [
        {
          "output_type": "display_data",
          "data": {
            "image/png": "[encoded data removed]",
            "text/plain": [
              "<Figure size 432x288 with 1 Axes>"
            ]
          },
          "metadata": {
            "tags": [],
            "needs_background": "light"
          }
        }
      ]
    },
    {
      "cell_type": "markdown",
      "metadata": {
        "id": "arGUeurkix_m"
      },
      "source": [
        "numpy.reshape — NumPy v1.17 Manual  \n",
        "https://docs.scipy.org/doc/numpy/reference/generated/numpy.reshape.html\n",
        "\n",
        "matplotlib.pyplot.imshow — Matplotlib 3.1.1 documentation  \n",
        "https://matplotlib.org/api/_as_gen/matplotlib.pyplot.imshow.html\n",
        "\n",
        "\n",
        "**《発展的話題》**\n",
        "\n",
        "\n",
        "画像データは符号なし8ビット整数のuint8型で保持されることが一般的ですが、plt.imshowはより自由な配列を画像として表示することが可能です。例えば、以下のようにマイナスの値を持ったfloat64型の浮動小数点であってもエラーにはならないし、先ほどと全く同じ風に表示されます。\n",
        "\n"
      ]
    },
    {
      "cell_type": "code",
      "metadata": {
        "id": "3BnZscP4FTSu",
        "colab": {
          "base_uri": "https://localhost:8080/",
          "height": 1000
        },
        "outputId": "d28e5724-b86b-40d4-a138-1468bcd660f7"
      },
      "source": [
        "index = 0\n",
        "image = X_train[index].reshape(28,28)\n",
        "image = image.astype(np.float) # float型に変換\n",
        "image -= 105.35 # 意図的に負の小数値を作り出してみる\n",
        "plt.imshow(image, 'gray')\n",
        "plt.title('label : {}'.format(y_train[index]))\n",
        "plt.show()\n",
        "print(image) # 値を確認"
      ],
      "execution_count": 7,
      "outputs": [
        {
          "output_type": "display_data",
          "data": {
            "image/png": "[encoded data removed]",
            "text/plain": [
              "<Figure size 432x288 with 1 Axes>"
            ]
          },
          "metadata": {
            "tags": [],
            "needs_background": "light"
          }
        },
        {
          "output_type": "stream",
          "text": [
            "[[-105.35 -105.35 -105.35 -105.35 -105.35 -105.35 -105.35 -105.35 -105.35\n",
            "  -105.35 -105.35 -105.35 -105.35 -105.35 -105.35 -105.35 -105.35 -105.35\n",
            "  -105.35 -105.35 -105.35 -105.35 -105.35 -105.35 -105.35 -105.35 -105.35\n",
            "  -105.35]\n",
            " [-105.35 -105.35 -105.35 -105.35 -105.35 -105.35 -105.35 -105.35 -105.35\n",
            "  -105.35 -105.35 -105.35 -105.35 -105.35 -105.35 -105.35 -105.35 -105.35\n",
            "  -105.35 -105.35 -105.35 -105.35 -105.35 -105.35 -105.35 -105.35 -105.35\n",
            "  -105.35]\n",
            " [-105.35 -105.35 -105.35 -105.35 -105.35 -105.35 -105.35 -105.35 -105.35\n",
            "  -105.35 -105.35 -105.35 -105.35 -105.35 -105.35 -105.35 -105.35 -105.35\n",
            "  -105.35 -105.35 -105.35 -105.35 -105.35 -105.35 -105.35 -105.35 -105.35\n",
            "  -105.35]\n",
            " [-105.35 -105.35 -105.35 -105.35 -105.35 -105.35 -105.35 -105.35 -105.35\n",
            "  -105.35 -105.35 -105.35 -105.35 -105.35 -105.35 -105.35 -105.35 -105.35\n",
            "  -105.35 -105.35 -105.35 -105.35 -105.35 -105.35 -105.35 -105.35 -105.35\n",
            "  -105.35]\n",
            " [-105.35 -105.35 -105.35 -105.35 -105.35 -105.35 -105.35 -105.35 -105.35\n",
            "  -105.35 -105.35 -105.35 -105.35 -105.35 -105.35 -105.35 -105.35 -105.35\n",
            "  -105.35 -105.35 -105.35 -105.35 -105.35 -105.35 -105.35 -105.35 -105.35\n",
            "  -105.35]\n",
            " [-105.35 -105.35 -105.35 -105.35 -105.35 -105.35 -105.35 -105.35 -105.35\n",
            "  -105.35 -105.35 -105.35 -102.35  -87.35  -87.35  -87.35   20.65   30.65\n",
            "    69.65  -79.35   60.65  149.65  141.65   21.65 -105.35 -105.35 -105.35\n",
            "  -105.35]\n",
            " [-105.35 -105.35 -105.35 -105.35 -105.35 -105.35 -105.35 -105.35  -75.35\n",
            "   -69.35  -11.35   48.65   64.65  147.65  147.65  147.65  147.65  147.65\n",
            "   119.65   66.65  147.65  136.65   89.65  -41.35 -105.35 -105.35 -105.35\n",
            "  -105.35]\n",
            " [-105.35 -105.35 -105.35 -105.35 -105.35 -105.35 -105.35  -56.35  132.65\n",
            "   147.65  147.65  147.65  147.65  147.65  147.65  147.65  147.65  145.65\n",
            "   -12.35  -23.35  -23.35  -49.35  -66.35 -105.35 -105.35 -105.35 -105.35\n",
            "  -105.35]\n",
            " [-105.35 -105.35 -105.35 -105.35 -105.35 -105.35 -105.35  -87.35  113.65\n",
            "   147.65  147.65  147.65  147.65  147.65   92.65   76.65  141.65  135.65\n",
            "  -105.35 -105.35 -105.35 -105.35 -105.35 -105.35 -105.35 -105.35 -105.35\n",
            "  -105.35]\n",
            " [-105.35 -105.35 -105.35 -105.35 -105.35 -105.35 -105.35 -105.35  -25.35\n",
            "    50.65    1.65  147.65  147.65   99.65  -94.35 -105.35  -62.35   48.65\n",
            "  -105.35 -105.35 -105.35 -105.35 -105.35 -105.35 -105.35 -105.35 -105.35\n",
            "  -105.35]\n",
            " [-105.35 -105.35 -105.35 -105.35 -105.35 -105.35 -105.35 -105.35 -105.35\n",
            "   -91.35 -104.35   48.65  147.65  -15.35 -105.35 -105.35 -105.35 -105.35\n",
            "  -105.35 -105.35 -105.35 -105.35 -105.35 -105.35 -105.35 -105.35 -105.35\n",
            "  -105.35]\n",
            " [-105.35 -105.35 -105.35 -105.35 -105.35 -105.35 -105.35 -105.35 -105.35\n",
            "  -105.35 -105.35   33.65  147.65   84.65 -103.35 -105.35 -105.35 -105.35\n",
            "  -105.35 -105.35 -105.35 -105.35 -105.35 -105.35 -105.35 -105.35 -105.35\n",
            "  -105.35]\n",
            " [-105.35 -105.35 -105.35 -105.35 -105.35 -105.35 -105.35 -105.35 -105.35\n",
            "  -105.35 -105.35  -94.35   84.65  147.65  -35.35 -105.35 -105.35 -105.35\n",
            "  -105.35 -105.35 -105.35 -105.35 -105.35 -105.35 -105.35 -105.35 -105.35\n",
            "  -105.35]\n",
            " [-105.35 -105.35 -105.35 -105.35 -105.35 -105.35 -105.35 -105.35 -105.35\n",
            "  -105.35 -105.35 -105.35  -70.35  135.65  119.65   54.65    2.65 -104.35\n",
            "  -105.35 -105.35 -105.35 -105.35 -105.35 -105.35 -105.35 -105.35 -105.35\n",
            "  -105.35]\n",
            " [-105.35 -105.35 -105.35 -105.35 -105.35 -105.35 -105.35 -105.35 -105.35\n",
            "  -105.35 -105.35 -105.35 -105.35  -24.35  134.65  147.65  147.65   13.65\n",
            "   -80.35 -105.35 -105.35 -105.35 -105.35 -105.35 -105.35 -105.35 -105.35\n",
            "  -105.35]\n",
            " [-105.35 -105.35 -105.35 -105.35 -105.35 -105.35 -105.35 -105.35 -105.35\n",
            "  -105.35 -105.35 -105.35 -105.35 -105.35  -60.35   80.65  147.65  147.65\n",
            "    44.65  -78.35 -105.35 -105.35 -105.35 -105.35 -105.35 -105.35 -105.35\n",
            "  -105.35]\n",
            " [-105.35 -105.35 -105.35 -105.35 -105.35 -105.35 -105.35 -105.35 -105.35\n",
            "  -105.35 -105.35 -105.35 -105.35 -105.35 -105.35  -89.35  -12.35  146.65\n",
            "   147.65   81.65 -105.35 -105.35 -105.35 -105.35 -105.35 -105.35 -105.35\n",
            "  -105.35]\n",
            " [-105.35 -105.35 -105.35 -105.35 -105.35 -105.35 -105.35 -105.35 -105.35\n",
            "  -105.35 -105.35 -105.35 -105.35 -105.35 -105.35 -105.35 -105.35  143.65\n",
            "   147.65  143.65  -41.35 -105.35 -105.35 -105.35 -105.35 -105.35 -105.35\n",
            "  -105.35]\n",
            " [-105.35 -105.35 -105.35 -105.35 -105.35 -105.35 -105.35 -105.35 -105.35\n",
            "  -105.35 -105.35 -105.35 -105.35 -105.35  -59.35   24.65   77.65  147.65\n",
            "   147.65  101.65 -103.35 -105.35 -105.35 -105.35 -105.35 -105.35 -105.35\n",
            "  -105.35]\n",
            " [-105.35 -105.35 -105.35 -105.35 -105.35 -105.35 -105.35 -105.35 -105.35\n",
            "  -105.35 -105.35 -105.35  -66.35   42.65  123.65  147.65  147.65  147.65\n",
            "   144.65   76.65 -105.35 -105.35 -105.35 -105.35 -105.35 -105.35 -105.35\n",
            "  -105.35]\n",
            " [-105.35 -105.35 -105.35 -105.35 -105.35 -105.35 -105.35 -105.35 -105.35\n",
            "  -105.35  -81.35    8.65  115.65  147.65  147.65  147.65  147.65   95.65\n",
            "   -27.35 -105.35 -105.35 -105.35 -105.35 -105.35 -105.35 -105.35 -105.35\n",
            "  -105.35]\n",
            " [-105.35 -105.35 -105.35 -105.35 -105.35 -105.35 -105.35 -105.35  -82.35\n",
            "   -39.35  107.65  147.65  147.65  147.65  147.65   92.65  -24.35 -103.35\n",
            "  -105.35 -105.35 -105.35 -105.35 -105.35 -105.35 -105.35 -105.35 -105.35\n",
            "  -105.35]\n",
            " [-105.35 -105.35 -105.35 -105.35 -105.35 -105.35  -87.35   65.65  113.65\n",
            "   147.65  147.65  147.65  147.65   89.65  -25.35  -96.35 -105.35 -105.35\n",
            "  -105.35 -105.35 -105.35 -105.35 -105.35 -105.35 -105.35 -105.35 -105.35\n",
            "  -105.35]\n",
            " [-105.35 -105.35 -105.35 -105.35  -50.35   66.65  120.65  147.65  147.65\n",
            "   147.65  147.65  138.65   27.65  -94.35 -105.35 -105.35 -105.35 -105.35\n",
            "  -105.35 -105.35 -105.35 -105.35 -105.35 -105.35 -105.35 -105.35 -105.35\n",
            "  -105.35]\n",
            " [-105.35 -105.35 -105.35 -105.35   30.65  147.65  147.65  147.65  106.65\n",
            "    29.65   26.65  -89.35 -105.35 -105.35 -105.35 -105.35 -105.35 -105.35\n",
            "  -105.35 -105.35 -105.35 -105.35 -105.35 -105.35 -105.35 -105.35 -105.35\n",
            "  -105.35]\n",
            " [-105.35 -105.35 -105.35 -105.35 -105.35 -105.35 -105.35 -105.35 -105.35\n",
            "  -105.35 -105.35 -105.35 -105.35 -105.35 -105.35 -105.35 -105.35 -105.35\n",
            "  -105.35 -105.35 -105.35 -105.35 -105.35 -105.35 -105.35 -105.35 -105.35\n",
            "  -105.35]\n",
            " [-105.35 -105.35 -105.35 -105.35 -105.35 -105.35 -105.35 -105.35 -105.35\n",
            "  -105.35 -105.35 -105.35 -105.35 -105.35 -105.35 -105.35 -105.35 -105.35\n",
            "  -105.35 -105.35 -105.35 -105.35 -105.35 -105.35 -105.35 -105.35 -105.35\n",
            "  -105.35]\n",
            " [-105.35 -105.35 -105.35 -105.35 -105.35 -105.35 -105.35 -105.35 -105.35\n",
            "  -105.35 -105.35 -105.35 -105.35 -105.35 -105.35 -105.35 -105.35 -105.35\n",
            "  -105.35 -105.35 -105.35 -105.35 -105.35 -105.35 -105.35 -105.35 -105.35\n",
            "  -105.35]]\n"
          ],
          "name": "stdout"
        }
      ]
    },
    {
      "cell_type": "markdown",
      "metadata": {
        "id": "uhxXBf50kAsC"
      },
      "source": [
        "これは、自動的に値を0〜255の整数に変換して処理するように作られているからです。uint8型であっても最小値が0、最大値が255でない場合には色合いがおかしくなります。それを防ぐためには次のように引数を入れてください。"
      ]
    },
    {
      "cell_type": "code",
      "metadata": {
        "id": "73RcT2XGkHvv",
        "colab": {
          "base_uri": "https://localhost:8080/",
          "height": 282
        },
        "outputId": "5ba7a075-9e53-47f4-83b2-3c6bdcd8a8eb"
      },
      "source": [
        "plt.imshow(image, 'gray', vmin = 0, vmax = 255)"
      ],
      "execution_count": 8,
      "outputs": [
        {
          "output_type": "execute_result",
          "data": {
            "text/plain": [
              "<matplotlib.image.AxesImage at 0x7fedaf0e2b00>"
            ]
          },
          "metadata": {
            "tags": []
          },
          "execution_count": 8
        },
        {
          "output_type": "display_data",
          "data": {
            "image/png": "[encoded data removed]",
            "text/plain": [
              "<Figure size 432x288 with 1 Axes>"
            ]
          },
          "metadata": {
            "tags": [],
            "needs_background": "light"
          }
        }
      ]
    },
    {
      "cell_type": "markdown",
      "metadata": {
        "id": "qDf3h29dnbGS"
      },
      "source": [
        "画像関係のライブラリではこの自動的なスケーリングが思わぬ結果を生むことがあるので、新しいメソッドを使うときには確認しておきましょう。\n",
        "\n",
        "\n",
        "## 前処理\n",
        "画像は0から255のuint8型で表されますが、機械学習をする上では0から1のfloat型で扱うことになります。以下のコードで変換可能です。\n",
        "\n",
        "\n",
        "**《サンプルコード》**"
      ]
    },
    {
      "cell_type": "code",
      "metadata": {
        "id": "nYslQq_roh8C",
        "colab": {
          "base_uri": "https://localhost:8080/"
        },
        "outputId": "46ee77d0-a6bf-460c-aab5-52db6057069a"
      },
      "source": [
        "X_train = X_train.astype(np.float)\n",
        "X_test = X_test.astype(np.float)\n",
        "X_train /= 255\n",
        "X_test /= 255\n",
        "print(X_train.max()) # 1.0\n",
        "print(X_train.min()) # 0.0"
      ],
      "execution_count": 9,
      "outputs": [
        {
          "output_type": "stream",
          "text": [
            "1.0\n",
            "0.0\n"
          ],
          "name": "stdout"
        }
      ]
    },
    {
      "cell_type": "markdown",
      "metadata": {
        "id": "vGv552fVCOo2"
      },
      "source": [
        "また、正解ラベルは0から9の整数ですが、ニューラルネットワークで多クラス分類を行う際には one-hot表現 に変換します。scikit-learnのOneHotEncoderを使用したコードが以下です。このone-hot表現による値はそのラベルである確率を示していることになるため、float型で扱います。\n",
        "\n",
        "\n",
        "《サンプルコード》"
      ]
    },
    {
      "cell_type": "code",
      "metadata": {
        "id": "uqdCYUbjCOTA",
        "colab": {
          "base_uri": "https://localhost:8080/"
        },
        "outputId": "83350ea9-342c-4adf-b328-a5665b0a53fc"
      },
      "source": [
        "from sklearn.preprocessing import OneHotEncoder\n",
        "enc = OneHotEncoder(handle_unknown='ignore', sparse=False)\n",
        "y_train_one_hot = enc.fit_transform(y_train[:, np.newaxis])\n",
        "y_test_one_hot = enc.transform(y_test[:, np.newaxis])\n",
        "print(y_train.shape) # (60000,)\n",
        "print(y_train_one_hot.shape) # (60000, 10)\n",
        "print(y_train_one_hot.dtype) # float64"
      ],
      "execution_count": 10,
      "outputs": [
        {
          "output_type": "stream",
          "text": [
            "(60000,)\n",
            "(60000, 10)\n",
            "float64\n"
          ],
          "name": "stdout"
        }
      ]
    },
    {
      "cell_type": "markdown",
      "metadata": {
        "id": "icdFEvl31yLQ"
      },
      "source": [
        "sklearn.preprocessing.OneHotEncoder — scikit-learn 0.21.3 documentation  \n",
        "https://scikit-learn.org/stable/modules/generated/sklearn.preprocessing.OneHotEncoder.html\n",
        "\n",
        "さらに、訓練データ6万枚の内2割を検証データとして分割してください。訓練データが48000枚、検証データが12000枚となります。\n",
        "\n",
        "\n",
        "《サンプルコード》"
      ]
    },
    {
      "cell_type": "code",
      "metadata": {
        "colab": {
          "base_uri": "https://localhost:8080/"
        },
        "id": "d4Lzj9o5lHgI",
        "outputId": "6d7e84d2-e9ec-48ea-aa9c-e7d8ab6ff92b"
      },
      "source": [
        "from sklearn.model_selection import train_test_split\n",
        "X_train, X_val, y_train, y_val = train_test_split(X_train, y_train, test_size=0.2)\n",
        "print(X_train.shape) # (48000, 784)\n",
        "print(X_val.shape) # (12000, 784)"
      ],
      "execution_count": 11,
      "outputs": [
        {
          "output_type": "stream",
          "text": [
            "(48000, 784)\n",
            "(12000, 784)\n"
          ],
          "name": "stdout"
        }
      ]
    },
    {
      "cell_type": "markdown",
      "metadata": {
        "id": "nnL0UXs3lI1j"
      },
      "source": [
        "# 3.ニューラルネットワークスクラッチ\n",
        "\n",
        "ニューラルネットワークのクラスをスクラッチで作成していきます。NumPyなど最低限のライブラリのみを使いアルゴリズムを実装していきます。\n",
        "\n",
        "\n",
        "今回は多クラス分類を行う3層のニューラルネットワークを作成します。層の数などは固定した上でニューラルネットワークの基本を学びます。次のSprintで層を自由に変えられる設計にしていきます。\n",
        "\n",
        "\n",
        "以下に雛形を用意してあります。このScratchSimpleNeuralNetrowkClassifierクラスにコードを書き加えていってください。\n",
        "\n",
        "\n",
        "**《雛形》**"
      ]
    },
    {
      "cell_type": "code",
      "metadata": {
        "id": "BAOAa1zSlJQG"
      },
      "source": [
        "class ScratchSimpleNeuralNetrowkClassifier():\n",
        "    \"\"\"\n",
        "    シンプルな三層ニューラルネットワーク分類器\n",
        "\n",
        "    Parameters\n",
        "    ----------\n",
        "\n",
        "    Attributes\n",
        "    ----------\n",
        "    \"\"\"\n",
        "    def __init__(self, verbose = True):\n",
        "        self.verbose = verbose\n",
        "        pass\n",
        "    def fit(self, X, y, X_val=None, y_val=None):\n",
        "        \"\"\"\n",
        "        ニューラルネットワーク分類器を学習する。\n",
        "\n",
        "        Parameters\n",
        "        ----------\n",
        "        X : 次の形のndarray, shape (n_samples, n_features)\n",
        "            訓練データの特徴量\n",
        "        y : 次の形のndarray, shape (n_samples, )\n",
        "            訓練データの正解値\n",
        "        X_val : 次の形のndarray, shape (n_samples, n_features)\n",
        "            検証データの特徴量\n",
        "        y_val : 次の形のndarray, shape (n_samples, )\n",
        "            検証データの正解値\n",
        "        \"\"\"\n",
        "        if self.verbose:\n",
        "            #verboseをTrueにした際は学習過程などを出力する\n",
        "            print()\n",
        "        pass\n",
        "    def predict(self, X):\n",
        "        \"\"\"\n",
        "        ニューラルネットワーク分類器を使い推定する。\n",
        "\n",
        "        Parameters\n",
        "        ----------\n",
        "        X : 次の形のndarray, shape (n_samples, n_features)\n",
        "            サンプル\n",
        "\n",
        "        Returns\n",
        "        -------\n",
        "            次の形のndarray, shape (n_samples, 1)\n",
        "            推定結果\n",
        "        \"\"\"\n",
        "        pass\n",
        "        return"
      ],
      "execution_count": 12,
      "outputs": []
    },
    {
      "cell_type": "markdown",
      "metadata": {
        "id": "MDHfNYsHlJhJ"
      },
      "source": [
        "## ミニバッチ処理\n",
        "これまでの機械学習スクラッチでは、全てのサンプルを一度に計算していました。しかし、ニューラルネットワークではデータを分割して入力する 確率的勾配降下法 が一般的です。分割した際のひとかたまりを ミニバッチ 、そのサンプル数を バッチサイズ と呼びます。\n",
        "\n",
        "\n",
        "今回はバッチサイズを20とします。今回使う訓練データは48000枚ですから、48000÷20で2400回の更新を繰り返すことになります。ニューラルネットワークではこれを2400回 イテレーション（iteration） すると呼びます。訓練データを一度全て見ると1回の エポック（epoch） が終わったことになります。このエポックを複数回繰り返し、学習が完了します。\n",
        "\n",
        "\n",
        "これを実現するための簡素なイテレータを用意しました。for文で呼び出すと、ミニバッチを取得できます。\n",
        "\n",
        "\n",
        "《コード》"
      ]
    },
    {
      "cell_type": "code",
      "metadata": {
        "id": "iqckuvYKlKiE"
      },
      "source": [
        "class GetMiniBatch:\n",
        "    \"\"\"\n",
        "    ミニバッチを取得するイテレータ\n",
        "\n",
        "    Parameters\n",
        "    ----------\n",
        "    X : 次の形のndarray, shape (n_samples, n_features)\n",
        "      訓練データ\n",
        "    y : 次の形のndarray, shape (n_samples, 1)\n",
        "      正解値\n",
        "    batch_size : int\n",
        "      バッチサイズ\n",
        "    seed : int\n",
        "      NumPyの乱数のシード\n",
        "    \"\"\"\n",
        "    def __init__(self, X, y, batch_size = 20, seed=0):\n",
        "        self.batch_size = batch_size\n",
        "        np.random.seed(seed)\n",
        "        shuffle_index = np.random.permutation(np.arange(X.shape[0]))\n",
        "        self._X = X[shuffle_index]\n",
        "        self._y = y[shuffle_index]\n",
        "        self._stop = np.ceil(X.shape[0]/self.batch_size).astype(np.int)\n",
        "    def __len__(self):\n",
        "        return self._stop\n",
        "    def __getitem__(self,item):\n",
        "        p0 = item*self.batch_size\n",
        "        p1 = item*self.batch_size + self.batch_size\n",
        "        return self._X[p0:p1], self._y[p0:p1]        \n",
        "    def __iter__(self):\n",
        "        self._counter = 0\n",
        "        return self\n",
        "    def __next__(self):\n",
        "        if self._counter >= self._stop:\n",
        "            raise StopIteration()\n",
        "        p0 = self._counter*self.batch_size\n",
        "        p1 = self._counter*self.batch_size + self.batch_size\n",
        "        self._counter += 1\n",
        "        return self._X[p0:p1], self._y[p0:p1]"
      ],
      "execution_count": 13,
      "outputs": []
    },
    {
      "cell_type": "markdown",
      "metadata": {
        "id": "pTMSAqsTFRTh"
      },
      "source": [
        "このクラスをインスタンス化し、for文を使うことでミニバッチが取り出せます。"
      ]
    },
    {
      "cell_type": "code",
      "metadata": {
        "colab": {
          "base_uri": "https://localhost:8080/"
        },
        "id": "aU-gjZuvmk5Q",
        "outputId": "af11a27a-1938-4f61-8bc1-0798db6e1469"
      },
      "source": [
        "get_mini_batch = GetMiniBatch(X_train, y_train, batch_size=20)\n",
        "print(len(get_mini_batch)) # 2400\n",
        "print(get_mini_batch[5]) # 5番目のミニバッチが取得できる\n",
        "for mini_X_train, mini_y_train in get_mini_batch:\n",
        "    # このfor文内でミニバッチが使える\n",
        "    pass"
      ],
      "execution_count": 14,
      "outputs": [
        {
          "output_type": "stream",
          "text": [
            "2400\n",
            "(array([[0., 0., 0., ..., 0., 0., 0.],\n",
            "       [0., 0., 0., ..., 0., 0., 0.],\n",
            "       [0., 0., 0., ..., 0., 0., 0.],\n",
            "       ...,\n",
            "       [0., 0., 0., ..., 0., 0., 0.],\n",
            "       [0., 0., 0., ..., 0., 0., 0.],\n",
            "       [0., 0., 0., ..., 0., 0., 0.]]), array([0, 7, 1, 1, 4, 8, 0, 0, 0, 6, 7, 5, 7, 3, 1, 8, 9, 9, 8, 1],\n",
            "      dtype=uint8))\n"
          ],
          "name": "stdout"
        }
      ]
    },
    {
      "cell_type": "markdown",
      "metadata": {
        "id": "y686rxuqmolU"
      },
      "source": [
        "__getitem__や__next__は__init__と同じ特殊メソッドの一種です。\n",
        "\n",
        "\n",
        "**学習**  \n",
        "ニューラルネットワークの学習はフォワードプロパゲーションとバックプロパゲションの繰り返しになります。"
      ]
    },
    {
      "cell_type": "markdown",
      "metadata": {
        "id": "T6zShQCkmorj"
      },
      "source": [
        "## 【問題1】重みの初期値を決めるコードの作成\n",
        "ニューラルネットワークの各層の重みの初期値を決めるコードを作成してください。\n",
        "\n",
        "\n",
        "重みの初期値は様々な方法が提案されていますが、今回はガウス分布による単純な初期化を行います。バイアスに関しても同様です。\n",
        "\n",
        "\n",
        "以下のコードを参考にしてください。標準偏差の値sigmaはハイパーパラメータです。発展的な重みの初期化方法については次のSprintで扱います。\n",
        "\n",
        "\n",
        "《サンプルコード》\n"
      ]
    },
    {
      "cell_type": "code",
      "metadata": {
        "id": "nofElv2zmoxY"
      },
      "source": [
        "n_features = 784\n",
        "n_nodes1 = 400\n",
        "sigma = 0.01 # ガウス分布の標準偏差\n",
        "W1 = sigma * np.random.randn(n_features, n_nodes1)\n",
        "# W1: (784, 400)"
      ],
      "execution_count": 15,
      "outputs": []
    },
    {
      "cell_type": "markdown",
      "metadata": {
        "id": "q5YEdHLBmo27"
      },
      "source": [
        "numpy.random.randn — NumPy v1.15 Manual  \n",
        "https://docs.scipy.org/doc/numpy-1.15.0/reference/generated/numpy.random.randn.html"
      ]
    },
    {
      "cell_type": "markdown",
      "metadata": {
        "id": "L0nTE3fqmo5N"
      },
      "source": [
        "## 【問題2】フォワードプロパゲーションの実装\n",
        "三層のニューラルネットワークの フォワードプロパゲーション を作成してください。以下の説明ではノード数は1層目は400、2層目は200としますが、変更しても構いません。\n",
        "\n",
        "\n",
        "各層の数式を以下に示します。今回はそれぞれの記号が表す配列が、実装上どのようなndarrayのshapeになるかを併記してあります。"
      ]
    },
    {
      "cell_type": "code",
      "metadata": {
        "id": "7EuK6I11moz5"
      },
      "source": [
        "batch_size = 20 # バッチサイズ\n",
        "n_features = 784 # 特徴量の数\n",
        "n_nodes1 = 400 # 1層目のノード数\n",
        "n_nodes2 = 200 # 2層目のノード数\n",
        "n_output = 10 # 出力のクラス数（3層目のノード数）"
      ],
      "execution_count": 16,
      "outputs": []
    },
    {
      "cell_type": "markdown",
      "metadata": {
        "id": "8XcD-2sKmouI"
      },
      "source": [
        "「1層目」\n",
        "\n",
        "$$A_1 = X \\cdot W_1 + B_1$$\n",
        "\n",
        "X\n",
        "  : 特徴量ベクトル (batch_size, n_features)\n",
        "\n",
        "\n",
        "W\n",
        "1\n",
        " : 1層目の重み (n_features, n_nodes1)\n",
        "\n",
        "\n",
        "B\n",
        "1\n",
        " : 1層目のバイアス (n_nodes1,)\n",
        "\n",
        "\n",
        "A\n",
        "1\n",
        " : 出力 (batch_size, n_nodes1)\n",
        "\n",
        "\n",
        "「1層目の活性化関数」\n",
        "\n",
        "$$Z_1 = f(A_1)$$\n",
        "f\n",
        "(\n",
        ")\n",
        "  : 活性化関数\n",
        "\n",
        "\n",
        "Z\n",
        "1\n",
        " 出力 (batch_size, n_nodes1)\n",
        "\n",
        "\n",
        "「2層目」\n",
        "\n",
        "$$A_2 = Z_1 \\cdot W_2 + B_2$$\n",
        "\n",
        "W\n",
        "2\n",
        "  : 2層目の重み (n_nodes1, n_nodes2)\n",
        "\n",
        "\n",
        "B\n",
        "2\n",
        " : 2層目のバイアス (n_nodes2,)\n",
        "\n",
        "\n",
        "A\n",
        "2\n",
        " : 出力 (batch_size, n_nodes2)\n",
        "\n",
        "\n",
        "「2層目の活性化関数」\n",
        "\n",
        "$$Z_2 = f(A_2)$$\n",
        "\n",
        "f\n",
        "(\n",
        ")\n",
        " : 活性化関数\n",
        "\n",
        "\n",
        "Z\n",
        "2\n",
        " 出力 (batch_size, n_nodes2)\n",
        "\n",
        "\n",
        "「3層目（出力層）」\n",
        "\n",
        "$$A_3 = Z_2 \\cdot W_3 + B_3$$\n",
        "\n",
        "W\n",
        "3\n",
        "  : 3層目の重み (n_nodes2, n_output)\n",
        "\n",
        "\n",
        "B\n",
        "3\n",
        " : 3層目のバイアス (n_output,)\n",
        "\n",
        "\n",
        "A\n",
        "3\n",
        " : 出力 (batch_size, n_output)\n",
        "\n",
        "\n",
        "「3層目の活性化関数」\n",
        "\n",
        "$$Z_3 = softmax(A_3)$$\n",
        "s\n",
        "o\n",
        "f\n",
        "t\n",
        "m\n",
        "a\n",
        "x\n",
        "(\n",
        ")\n",
        " : ソフトマックス関数\n",
        "\n",
        "\n",
        "Z\n",
        "3\n",
        " 出力 (batch_size, n_output)\n",
        "\n",
        "\n",
        "Z\n",
        "3\n",
        " は各ラベル（0〜9）に対する確率の配列である。\n",
        "\n",
        "\n",
        "\n",
        "**活性化関数（フォワードプロバゲーション）**  \n",
        "\n",
        "活性化関数を作成し、フォワードプロパゲーションの中で使用します。切り替えられるように実装することを推奨しますが、片方でも構いません。\n",
        "\n",
        "\n",
        "「シグモイド関数」\n",
        "\n",
        "$$f(Z) = sigmoid(A) = \\frac{1}{1+exp(-A)}$$\n",
        "\n",
        "指数関数 \n",
        "e\n",
        "x\n",
        "p\n",
        "(\n",
        "−\n",
        "A\n",
        ")\n",
        " の計算はnp.expを使用してください。\n",
        "\n",
        "\n",
        "numpy.exp — NumPy v1.15 Manual  \n",
        "https://docs.scipy.org/doc/numpy-1.15.1/reference/generated/numpy.exp.html\n",
        "\n",
        "\n",
        "「ハイパボリックタンジェント関数」\n",
        "\n",
        "\n",
        "次の数式で表されますが、np.tanhひとつで実現できます。\n",
        "\n",
        "$$f(Z) = tanh(A) = \\frac{exp(A) - exp(-A)}{exp(A) + exp(-A)}$$\n",
        "\n",
        "numpy.tanh — NumPy v1.15 Manual  \n",
        "https://docs.scipy.org/doc/numpy-1.15.1/reference/generated/numpy.tanh.html\n",
        "\n",
        "\n",
        "＊現在ではこれらの代わりにReLUと呼ばれる活性化関数が一般的です。次のSprintで扱います。\n",
        "\n",
        "\n",
        "**ソフトマックス関数**  \n",
        "ソフトマックス関数を作成し、フォワードプロパゲーションの中で使用します。これも活性化関数の一種ですが、多クラス分類の出力層で使われる特性上、区別して扱われることが多いです。\n",
        "\n",
        "\n",
        "次の数式です。\n",
        "$$Z_{3\\_k} = \\frac{exp(A_{3\\_k})}{\\sum_{i=1}^{n_c}exp(A_{3\\_i})}$$\n",
        "\n",
        "Z\n",
        "3\n",
        "k\n",
        " : \n",
        "k\n",
        " 番目のクラスの確率ベクトル (batch_size,)\n",
        "\n",
        "\n",
        "A\n",
        "3\n",
        "k\n",
        " : \n",
        "k\n",
        " 番目のクラスにあたる前の層からのベクトル (batch_size,)\n",
        "\n",
        "\n",
        "n\n",
        "c\n",
        " : クラスの数、n_output。今回のMNISTでは10。\n",
        "\n",
        "\n",
        "分母は全てのクラスに相当する値を指数関数に通した上で足し合わせたものです。その中で、分子に \n",
        "k\n",
        " 番目のクラスを持ってくることで、 \n",
        "k\n",
        " 番目のクラスである確率が求まります。\n",
        "\n",
        "\n",
        "これを10クラス分計算し、合わせたものが \n",
        "Z\n",
        "3\n",
        " です。"
      ]
    },
    {
      "cell_type": "markdown",
      "metadata": {
        "id": "FBT8EmxumooX"
      },
      "source": [
        "## 【問題3】交差エントロピー誤差の実装\n",
        "目的関数（損失関数）を作成します。\n",
        "\n",
        "\n",
        "多クラス分類の目的関数である交差エントロピー誤差 $L$ は次の数式です。\n",
        "\n",
        "\n",
        "$$L = - \\frac{1}{n_b}\\sum_{j}^{n_b}\\sum_{k}^{n_c}y_{jk} log(z_{3\\_jk})$$\n",
        "$y_{ij}$ : $j$ 番目のサンプルの $k$ 番目のクラスの正解ラベル（one-hot表現で0か1のスカラー）\n",
        "\n",
        "\n",
        "$z_{3_ij}$ : $j$ 番目のサンプルの $k$ 番目のクラスの確率（スカラー）\n",
        "\n",
        "\n",
        "$n_{b}$ : バッチサイズ、batch_size\n",
        "\n",
        "\n",
        "$n_{c}$ : クラスの数、n_output（今回のMNISTでは10）\n",
        "\n",
        "\n",
        "サンプル1つあたりの誤差が求まります。"
      ]
    },
    {
      "cell_type": "markdown",
      "metadata": {
        "id": "CkdVoHnJmofV"
      },
      "source": [
        "## 【問題4】バックプロパゲーションの実装\n",
        "三層のニューラルネットワークのバックプロパゲーションを作成してください。確率的勾配降下法を行う部分です。\n",
        "\n",
        "\n",
        "数式を以下に示します。\n",
        "\n",
        "\n",
        "まず、i層目の重みとバイアスの更新式です。 \n",
        "W\n",
        "i\n",
        " と \n",
        "B\n",
        "i\n",
        " に対し、更新後の \n",
        "W\n",
        "′\n",
        "i\n",
        " と \n",
        "B\n",
        "′\n",
        "i\n",
        " は次の数式で求められます。\n",
        "\n",
        " $$W_i^{\\prime} = W_i - \\alpha \\frac{\\partial L}{\\partial W_i} \\\\\n",
        "B_i^{\\prime} = B_i - \\alpha \\frac{\\partial L}{\\partial B_i}$$\n",
        "\n",
        "$\\alpha$ : 学習率（層ごとに変えることも可能だが、基本的には全て同じとする）\n",
        "\n",
        "$\\frac{\\partial L}{\\partial W_i}$ : $W_i$ に関する損失 $L$ の勾配\n",
        "\n",
        "$\\frac{\\partial L}{\\partial B_i}$ : $B_i$ に関する損失 $L$ の勾配\n",
        "\n",
        "この更新方法はSprint3線形回帰やsprint4ロジスティック回帰における最急降下法と同様です。より効果的な更新方法が知られており、それは次のSprintで扱います。\n",
        "\n",
        "勾配 $\\frac{\\partial L}{\\partial W_i}$ や $\\frac{\\partial L}{\\partial B_i}$ を求めるために、バックプロパゲーションを行います。以下の数式です。ハイパボリックタンジェント関数を使用した例を載せました。シグモイド関数の場合の数式はその後ろにあります。\n",
        "\n",
        "「3層目」\n",
        "\n",
        "\n",
        "\n",
        "$$\\frac{\\partial L}{\\partial A_3} = Z_{3} - Y\\\\\n",
        "\\frac{\\partial L}{\\partial B_3} = \\sum_{j}^{n_b}\\frac{\\partial L}{\\partial A_{3\\_j}}\\\\\n",
        "\\frac{\\partial L}{\\partial W_3} = Z_{2}^{T}\\cdot \\frac{\\partial L}{\\partial A_3}\\\\\n",
        "\\frac{\\partial L}{\\partial Z_2} = \\frac{\\partial L}{\\partial A_3} \\cdot W_3^T$$\n",
        "\n",
        "$\\frac{\\partial L}{\\partial A_3}$ : $A_3$ に関する損失 $L$ の勾配 (1, n_output)\n",
        "\n",
        "$\\frac{\\partial L}{\\partial B_3}$ : $B_3$ に関する損失 $L$ の勾配 (1, n_output)\n",
        "\n",
        "$\\frac{\\partial L}{\\partial W_3}$ : $W_3$ に関する損失 $L$ の勾配 (n_nodes2, n_output)\n",
        "\n",
        "$\\frac{\\partial L}{\\partial Z_2}$ : $Z_2$ に関する損失 $L$ の勾配 (1, n_nodes2)\n",
        "\n",
        "$Z_{3_j} : $j$ 番目のサンプルの3層目の出力 (1, n_output)\n",
        "\n",
        "$Y_j$ : $j$ 番目のサンプルの正解ラベル (1, n_output)\n",
        "\n",
        "$Z_{2_j}$ :$j$ 番目のサンプルの2層目の出力 (n_nodes2, 1)\n",
        "\n",
        "$W_3$ : 3層目の重み (n_nodes2, n_output)\n",
        "\n",
        "「2層目」\n",
        "\n",
        "$$\\frac{\\partial L}{\\partial A_2} = \\frac{\\partial L}{\\partial Z_2} \\odot \\{1-tanh^2(A_{2})\\}\\\\\n",
        "\\frac{\\partial L}{\\partial B_2} = \\sum_{j}^{n_b}\\frac{\\partial L}{\\partial A_{2\\_j}}\\\\\n",
        "\\frac{\\partial L}{\\partial W_2} = Z_{1}^T \\cdot \\frac{\\partial L}{\\partial A_2}\\\\\n",
        "\\frac{\\partial L}{\\partial Z_1} = \\frac{\\partial L}{\\partial A_2} \\cdot W_2^T$$\n",
        "\n",
        "$\\frac{\\partial L}{\\partial A_2}$ : $A_2$ に関する損失 $L$ の勾配 (1, n_nodes2)\n",
        "\n",
        "$\\frac{\\partial L}{\\partial B_2}$ : $B_2$ に関する損失 $L$ の勾配 (1, n_nodes2)\n",
        "\n",
        "$\\frac{\\partial L}{\\partial W_2}$ : $W_2$ に関する損失 $L$ の勾配 (n_nodes1, n_nodes2)\n",
        "\n",
        "$\\frac{\\partial L}{\\partial Z_2}$ : $Z_2$ に関する損失 $L$ の勾配 (1, n_nodes2)\n",
        "\n",
        "$Z_{2_j}$ : $j$ 番目のサンプルの2層目の出力 (1, n_nodes2)\n",
        "\n",
        "$A_{2_j}$ : $j$ 番目のサンプルの2層目の活性化関数の出力 (1, n_nodes2)\n",
        "\n",
        "$Z_{1_j}$ : $j$ 番目のサンプルの1層目の出力 (n_nodes1, 1)\n",
        "\n",
        "$W_2$ : 2層目の重み (n_nodes1, n_nodes2)\n",
        "\n",
        "「1層目」\n",
        "\n",
        "$$frac{\\partial L}{\\partial A_1} = \\frac{\\partial L}{\\partial Z_1} \\odot \\{1-tanh^2(A_{1})\\}\\\\\n",
        "\\frac{\\partial L}{\\partial B_1} = \\sum_{j}^{n_b}\\frac{\\partial L}{\\partial A_{1\\_j}}\\\\\n",
        "\\frac{\\partial L}{\\partial W_1} = X^T \\cdot \\frac{\\partial L}{\\partial A_1}$$\n",
        "\n",
        "\n",
        "$\\frac{\\partial L}{\\partial A_1}$ : $A_1$ に関する損失 $L$ の勾配 (1, n_nodes1)\n",
        "\n",
        "$\\frac{\\partial L}{\\partial B_1}$ : $B_1$ に関する損失 $L$ の勾配 (1, n_nodes1)\n",
        "\n",
        "$\\frac{\\partial L}{\\partial W_1}$ : $W_1$ に関する損失 $L$ の勾配 (n_features, n_nodes1)\n",
        "\n",
        "$\\frac{\\partial L}{\\partial Z_1}$ : $Z_1$ に関する損失 $L$ の勾配 (1, n_nodes1)\n",
        "\n",
        "$Z_{1_j}$ : $j$ 番目のサンプルの1層目の出力 (1, n_nodes2)\n",
        "\n",
        "$A_{1_j}$ : $j$ 番目のサンプルの1層目の活性化関数の出力 (1, n_nodes1)\n",
        "\n",
        "$X_j$ : $j$ 番目のサンプル (n_features, 1)\n",
        "\n",
        "$W_1$ : 1層目の重み (n_features, n_nodes1)\n",
        "\n",
        "《補足》\n",
        "\n",
        "\n",
        "活性化関数にシグモイド関数を使用した場合は、次のようになります。\n",
        "\n",
        "\n",
        "$$\\frac{\\partial L}{\\partial A_2} = \\frac{\\partial L}{\\partial Z_2} \\odot  \\{1-sigmoid(A_{2})\\}sigmoid(A_{2})\n",
        "\\\\\n",
        "\\frac{\\partial L}{\\partial A_1} = \\frac{\\partial L}{\\partial Z_1} \\odot  \\{1-sigmoid(A_{1})\\}sigmoid(A_{1})$$\n",
        "\n"
      ]
    },
    {
      "cell_type": "markdown",
      "metadata": {
        "id": "qyvfkqZ-mFBr"
      },
      "source": [
        "## 【問題5】推定\n",
        "推定を行うメソッドを作成してください。\n",
        "\n",
        "\n",
        "フォワードプロパゲーションによって出力された10個の確率の中で、最も高いものはどれかを判定します。\n",
        "\n",
        "\n",
        "numpy.argmax — NumPy v1.17 Manual  \n",
        "https://docs.scipy.org/doc/numpy/reference/generated/numpy.argmax.html"
      ]
    },
    {
      "cell_type": "markdown",
      "metadata": {
        "id": "snRzAz6koVmu"
      },
      "source": [
        "## 解答用クラスコード"
      ]
    },
    {
      "cell_type": "code",
      "metadata": {
        "id": "vJ4hjFDzoTtH"
      },
      "source": [
        "class ScratchSimpleNeuralNetrowkClassifier():\n",
        "    \"\"\"\n",
        "    シンプルな三層ニューラルネットワーク分類器\n",
        "    Parameters\n",
        "    ----------\n",
        "    Attributes\n",
        "    ----------\n",
        "    \"\"\"\n",
        "    def __init__(self, lr=0.01, bias=1, sigma=0.01, epoch_num=1, batch_size=100, n_features=784, n_nodes1=400, n_nodes2=200, n_output=10, verbose = True):\n",
        "        # self.iter = num_iter num_iter=10, \n",
        "        self.lr = lr\n",
        "        self.bias = bias\n",
        "        self.epoch = epoch_num\n",
        "        self.batch_size = batch_size\n",
        "        self.n_features = n_features\n",
        "        self.n_nodes1 = n_nodes1\n",
        "        self.n_nodes2 = n_nodes2\n",
        "        self.n_output = n_output\n",
        "        self.verbose = verbose\n",
        "        self.loss = np.zeros(self.epoch)\n",
        "        self.val_loss = np.zeros(self.epoch)\n",
        "        self.acc = np.zeros(self.epoch)\n",
        "        self.acc_val = np.zeros(self.epoch)\n",
        "\n",
        "## 問題１（解答）-----------------------------------------------------------------------------\n",
        "        sigma = sigma\n",
        "        self.w1 = sigma * np.random.randn(self.n_features, self.n_nodes1)\n",
        "        self.b1 = sigma * np.random.randn(1, self.n_nodes1)\n",
        "\n",
        "        self.w2 = sigma * np.random.randn(self.n_nodes1, self.n_nodes2)\n",
        "        self.b2 = sigma * np.random.randn(1, self.n_nodes２)\n",
        "\n",
        "        self.w3 = sigma * np.random.randn(self.n_nodes2, self.n_output)\n",
        "        self.b3 = sigma * np.random.randn(1, self.n_output)\n",
        "## 問題2（解答）-----------------------------------------------------------------------------\n",
        "    #ソフトマックス関数\n",
        "    def _softmax(self, x):\n",
        "      a = np.exp(x) / np.sum(np.exp(x), axis = 1).reshape(-1,1)\n",
        "      return a\n",
        "\n",
        "    # シグモイド関数\n",
        "    def _sigmoid(self,z):\n",
        "        return 1 / (1+np.exp(-z))\n",
        "\n",
        "    # フォワードプロパゲーションの実装\n",
        "    def _forward_propagation(self, x):\n",
        "      self.a1 = x@self.w1+self.b1\n",
        "      self.z1 = np.tanh(self.a1)\n",
        "\n",
        "      self.a2 = self.z1@self.w2+self.b2\n",
        "      self.z2 = np.tanh(self.a2)\n",
        "\n",
        "      self.a3 = self.z2@self.w3+self.b3\n",
        "      self.z3 = self._softmax(self.a3)\n",
        "\n",
        "      # print(\"a1\\n\", self.a1.shape, \"\\nz1\\n\", self.z1.shape)\n",
        "      # print(\"a2\\n\", self.a2.shape, \"\\nz2\\n\", self.z2.shape)\n",
        "      # print(\"a3\\n\", self.a3.shape, \"\\nz3\\n\", self.z3.shape)\n",
        "\n",
        "      return self.z3\n",
        "## 問題3（解答）-----------------------------------------------------------------------------\n",
        "    def _cross_entropy_error(self, y, t):\n",
        "      return -np.mean(t * np.log(y + 1e-7))\n",
        "## 問題4（解答）------------------------------------------------------------------------------\n",
        "    def _back_propagation(self, x, y):\n",
        "      gt_a3 = self.z3 -y\n",
        "      gt_b3 = np.sum(gt_a3, axis=0)\n",
        "      gt_w3 = (self.z2.T)@gt_a3\n",
        "      gt_z2 = gt_a3@(self.w3.T)\n",
        "      self.w3 -= self.lr*gt_w3\n",
        "      self.b3 -= self.lr*gt_b3\n",
        "\n",
        "      gt_a2 = gt_z2*(1-np.tanh(self.a2)**2)\n",
        "      gt_b2 = np.sum(gt_a2, axis=0)\n",
        "      gt_w2 = (self.z1.T)@gt_a2\n",
        "      gt_z1 = gt_a2@(self.w2.T)\n",
        "      self.w2 -= self.lr*gt_w2\n",
        "      self.b2 -= self.lr*gt_b2\n",
        "\n",
        "      gt_a1 = gt_z1*(1-np.tanh(self.a1)**2)\n",
        "      gt_b1 = np.sum(gt_a1, axis=0)\n",
        "      gt_w1 = (x.T)@gt_a1\n",
        "      self.w1 -= self.lr*gt_w1\n",
        "      self.b1 -= self.lr*gt_b1\n",
        "## 問題6（解答）-----------------------------------------------------------------------------\n",
        "    def fit(self, X, y, X_val=None, y_val=None):\n",
        "        \"\"\"\n",
        "        ニューラルネットワーク分類器を学習する。\n",
        "        Parameters\n",
        "        ----------\n",
        "        X : 次の形のndarray, shape (n_samples, n_features)\n",
        "            訓練データの特徴量\n",
        "        y : 次の形のndarray, shape (n_samples, )\n",
        "            訓練データの正解値\n",
        "        X_val : 次の形のndarray, shape (n_samples, n_features)\n",
        "            検証データの特徴量\n",
        "        y_val : 次の形のndarray, shape (n_samples, )\n",
        "            検証データの正解値\n",
        "        \"\"\"\n",
        "        for i in range(self.epoch):\n",
        "          # ミニバッチの取り出し\n",
        "          get_mini_batch = GetMiniBatch(X, y, self.batch_size)\n",
        "          for mini_X_train, mini_y_train in get_mini_batch:\n",
        "            y_hat = self._forward_propagation(mini_X_train)\n",
        "            loss = self._cross_entropy_error(y_hat, mini_y_train)\n",
        "            self._back_propagation(mini_X_train, mini_y_train)\n",
        "\n",
        "            # print(\"x_batch\", mini_X_train.shape)\n",
        "            # print(\"y_batch\", mini_y_train)\n",
        "            # print(\"loss\\n\", loss)\n",
        "            # print(\"parama W\\n\", self.w1, \"parama b\\n\", self.b1)\n",
        "\n",
        "          self.loss[i] += loss\n",
        "          # self.acc[i] = accuracy_score(np.argmax(y, axis=1), np.argmax(y_hat, axis=1))\n",
        "\n",
        "          if (type(X_val) != bool):\n",
        "            self.val = 1\n",
        "            y_hat_val = self._forward_propagation(x_val)\n",
        "            loss_val = self._cross_entropy_error(y_hat_val, y_val)\n",
        "            self.val_loss[i] += loss_val\n",
        "\n",
        "            # self.acc_val[i] = accuracy_score(np.argmax(y_val, axis=1), np.argmax(y_hat_val, axis=1))\n",
        "\n",
        "          # verboseをTrueにした際は学習過程を出力\n",
        "          if self.verbose :\n",
        "            print(f\"--{i+1}回目~loss~-------\\n{self.loss[i]}\")\n",
        "            print(f\"--{i+1}回目~loss_val~---\\n{self.val_loss[i]}\")\n",
        "            # print(f'epoch:{self.epoch:>3} loss:{self.loss:>8,.3f}')\n",
        "\n",
        "## 問題5（解答）------------------------------------------------------------------------------\n",
        "    def predict(self, X):\n",
        "        \"\"\"\n",
        "        ニューラルネットワーク分類器を使い推定する。\n",
        "        Parameters\n",
        "        ----------\n",
        "        X : 次の形のndarray, shape (n_samples, n_features)\n",
        "            サンプル\n",
        "        Returns\n",
        "        -------\n",
        "            次の形のndarray, shape (n_samples, 1)\n",
        "            推定結果\n",
        "        \"\"\"\n",
        "        y_hat = self._forward_propagation(X)\n",
        "        return np.argmax(y_hat, axis=1)\n",
        "# 問題7（解答）-------------------------------------------------------------------------------    \n",
        "    def plot_cost(self):\n",
        "        \"\"\"\n",
        "        損失の推移をグラフ化する。    \n",
        "        検証用データが入力されていれば、学習用と検証用の損失推移を重ねてグラフ化\n",
        "        \"\"\"\n",
        "        plt.title(\"Num_of_Iteration vs Loss\")\n",
        "        plt.xlabel(\"Num_of_Iteration\")\n",
        "        plt.ylabel(\"Loss\")\n",
        "        a = range(self.epoch)\n",
        "        plt.plot(range(1, self.epoch+1), self.loss, color=\"b\", label=\"train_loss\")\n",
        "        if self.val ==1:\n",
        "            plt.plot(range(1, self.epoch+1), self.val_loss, color=\"orange\", label=\"val_loss\")\n",
        "        plt.grid()\n",
        "        plt.legend()\n",
        "## -----------------------------------------------------------------------------------------------\n"
      ],
      "execution_count": 64,
      "outputs": []
    },
    {
      "cell_type": "markdown",
      "metadata": {
        "id": "GQFUifmAn2dR"
      },
      "source": [
        "# 4.検証\n",
        "\n",
        "## 【問題6】学習と推定\n",
        "MNISTのデータを学習・推定し、Accuracyを計算してください。"
      ]
    },
    {
      "cell_type": "markdown",
      "metadata": {
        "id": "RYI1WuP5ZxeS"
      },
      "source": [
        "### 6.1.1（前処理）"
      ]
    },
    {
      "cell_type": "code",
      "metadata": {
        "id": "_GjEBr6YvRHx",
        "outputId": "eb26b089-6fd1-4d3b-b16e-2643f1efab3d",
        "colab": {
          "base_uri": "https://localhost:8080/"
        }
      },
      "source": [
        "from keras.datasets import mnist\n",
        "(X_train, y_train), (X_test, y_test) = mnist.load_data()\n",
        "print(X_train.shape)\n",
        "print(X_train.dtype)"
      ],
      "execution_count": 18,
      "outputs": [
        {
          "output_type": "stream",
          "text": [
            "(60000, 28, 28)\n",
            "uint8\n"
          ],
          "name": "stdout"
        }
      ]
    },
    {
      "cell_type": "code",
      "metadata": {
        "id": "cyScR91DaJJs",
        "outputId": "8a190967-6b47-404b-f03f-8ae63fe53dfa",
        "colab": {
          "base_uri": "https://localhost:8080/"
        }
      },
      "source": [
        "# 平滑化（flatten）\n",
        "X_train_fltten = X_train.reshape(-1, 784)\n",
        "X_test_fltten = X_test.reshape(-1, 784)\n",
        "print(X_train_fltten.shape)\n",
        "print(X_train_fltten.dtype)\n",
        "print(X_train_fltten)"
      ],
      "execution_count": 19,
      "outputs": [
        {
          "output_type": "stream",
          "text": [
            "(60000, 784)\n",
            "uint8\n",
            "[[0 0 0 ... 0 0 0]\n",
            " [0 0 0 ... 0 0 0]\n",
            " [0 0 0 ... 0 0 0]\n",
            " ...\n",
            " [0 0 0 ... 0 0 0]\n",
            " [0 0 0 ... 0 0 0]\n",
            " [0 0 0 ... 0 0 0]]\n"
          ],
          "name": "stdout"
        }
      ]
    },
    {
      "cell_type": "code",
      "metadata": {
        "id": "re2neNUhZ8QZ",
        "outputId": "d730c71c-85be-4d09-b23f-a9e1b77569d3",
        "colab": {
          "base_uri": "https://localhost:8080/"
        }
      },
      "source": [
        "# float化と0or1処理\n",
        "X_train_flt = X_train_fltten.astype(np.float)\n",
        "X_test_flt = X_test_fltten.astype(np.float)\n",
        "X_train_flt /= 255\n",
        "X_test_flt /= 255\n",
        "print(X_train_flt.max()) # 1.0\n",
        "print(X_train_flt.min()) # 0.0"
      ],
      "execution_count": 20,
      "outputs": [
        {
          "output_type": "stream",
          "text": [
            "1.0\n",
            "0.0\n"
          ],
          "name": "stdout"
        }
      ]
    },
    {
      "cell_type": "code",
      "metadata": {
        "id": "U9LTOzOKZ7Ql",
        "outputId": "a827a384-9b8d-429d-a462-17e6fceb59a2",
        "colab": {
          "base_uri": "https://localhost:8080/"
        }
      },
      "source": [
        "# one hot処理\n",
        "from sklearn.preprocessing import OneHotEncoder\n",
        "enc = OneHotEncoder(handle_unknown='ignore', sparse=False)\n",
        "y_train_one_hot = enc.fit_transform(y_train[:, np.newaxis])\n",
        "y_test_one_hot = enc.transform(y_test[:, np.newaxis])\n",
        "print(y_train.shape) # (60000,)\n",
        "print(y_train_one_hot.shape) # (60000, 10)\n",
        "print(y_train_one_hot.dtype) # float64\n",
        "\n",
        "y_test_one_hot.shape"
      ],
      "execution_count": 21,
      "outputs": [
        {
          "output_type": "stream",
          "text": [
            "(60000,)\n",
            "(60000, 10)\n",
            "float64\n"
          ],
          "name": "stdout"
        },
        {
          "output_type": "execute_result",
          "data": {
            "text/plain": [
              "(10000, 10)"
            ]
          },
          "metadata": {
            "tags": []
          },
          "execution_count": 21
        }
      ]
    },
    {
      "cell_type": "code",
      "metadata": {
        "id": "fOBCgxrC5nMk",
        "outputId": "8dcf409e-6eba-4158-ff76-93ee59c124a1",
        "colab": {
          "base_uri": "https://localhost:8080/"
        }
      },
      "source": [
        "# train, testの分割\n",
        "x_train, x_val, y_train_one_hot, y_val_one_hot = train_test_split(X_train_flt, y_train_one_hot, test_size=0.2)\n",
        "print(x_train.shape) # (48000, 784)\n",
        "print(x_val.shape) # (12000, 784)\n",
        "print(y_train_one_hot.shape) # (48000, 784)\n",
        "print(y_val_one_hot.shape) # (12000, 784)"
      ],
      "execution_count": 22,
      "outputs": [
        {
          "output_type": "stream",
          "text": [
            "(48000, 784)\n",
            "(12000, 784)\n",
            "(48000, 10)\n",
            "(12000, 10)\n"
          ],
          "name": "stdout"
        }
      ]
    },
    {
      "cell_type": "markdown",
      "metadata": {
        "id": "LEDXmFIalTDB"
      },
      "source": [
        "### 6.2.1（解答）学習"
      ]
    },
    {
      "cell_type": "code",
      "metadata": {
        "id": "dUqEl8XDf9av",
        "outputId": "7b9debf0-9ce0-42c1-c868-8c546daefa8b",
        "colab": {
          "base_uri": "https://localhost:8080/"
        }
      },
      "source": [
        "snc = ScratchSimpleNeuralNetrowkClassifier(lr=0.001, bias=1, sigma=0.01, epoch_num=15)\n",
        "snc.fit(x_train, y_train_one_hot, x_val, y_val_one_hot)"
      ],
      "execution_count": 65,
      "outputs": [
        {
          "output_type": "stream",
          "text": [
            "--1回目~loss~-------\n",
            "0.03702156913058171\n",
            "--1回目~loss_val~---\n",
            "0.04193225947547966\n",
            "--2回目~loss~-------\n",
            "0.029357492374479703\n",
            "--2回目~loss_val~---\n",
            "0.032754327710891165\n",
            "--3回目~loss~-------\n",
            "0.02482854403236712\n",
            "--3回目~loss_val~---\n",
            "0.028485053719548386\n",
            "--4回目~loss~-------\n",
            "0.022297214923923316\n",
            "--4回目~loss_val~---\n",
            "0.024997069746708015\n",
            "--5回目~loss~-------\n",
            "0.02060201963065515\n",
            "--5回目~loss_val~---\n",
            "0.022076318724856117\n",
            "--6回目~loss~-------\n",
            "0.019360193958840068\n",
            "--6回目~loss_val~---\n",
            "0.01964230965878367\n",
            "--7回目~loss~-------\n",
            "0.018488334358816326\n",
            "--7回目~loss_val~---\n",
            "0.01769637762082159\n",
            "--8回目~loss~-------\n",
            "0.017891768341487216\n",
            "--8回目~loss_val~---\n",
            "0.01614296210661129\n",
            "--9回目~loss~-------\n",
            "0.017430137358424566\n",
            "--9回目~loss_val~---\n",
            "0.014887010199257197\n",
            "--10回目~loss~-------\n",
            "0.0169689176135819\n",
            "--10回目~loss_val~---\n",
            "0.013862757868151655\n",
            "--11回目~loss~-------\n",
            "0.01643429583480173\n",
            "--11回目~loss_val~---\n",
            "0.013023603188591994\n",
            "--12回目~loss~-------\n",
            "0.015806517103018065\n",
            "--12回目~loss_val~---\n",
            "0.012332284938211393\n",
            "--13回目~loss~-------\n",
            "0.015100731766136083\n",
            "--13回目~loss_val~---\n",
            "0.01175757929270587\n",
            "--14回目~loss~-------\n",
            "0.014350884949435991\n",
            "--14回目~loss_val~---\n",
            "0.011273682107222143\n",
            "--15回目~loss~-------\n",
            "0.013592131231973514\n",
            "--15回目~loss_val~---\n",
            "0.010860843397035209\n"
          ],
          "name": "stdout"
        }
      ]
    },
    {
      "cell_type": "markdown",
      "metadata": {
        "id": "fc_eql2SnInO"
      },
      "source": [
        "### 6.3.1（解答）推定"
      ]
    },
    {
      "cell_type": "code",
      "metadata": {
        "id": "SeVTAbLgnKH6",
        "outputId": "f9460b23-2df5-4fb6-9cb2-01e25a5637f2",
        "colab": {
          "base_uri": "https://localhost:8080/"
        }
      },
      "source": [
        "a = snc.predict(X_test_flt)\n",
        "print(a[:100])"
      ],
      "execution_count": 72,
      "outputs": [
        {
          "output_type": "stream",
          "text": [
            "[7 2 1 0 4 1 4 9 6 9 0 6 9 0 1 5 9 7 3 4 9 6 6 5 4 0 7 4 0 1 3 1 3 4 7 2 7\n",
            " 1 2 1 1 7 4 2 3 5 1 2 4 4 6 3 5 5 6 0 4 1 9 5 7 8 9 3 7 4 6 4 3 0 7 0 2 9\n",
            " 1 7 3 2 9 7 7 6 2 7 8 4 7 3 6 1 3 6 9 3 1 4 1 7 6 9]\n"
          ],
          "name": "stdout"
        }
      ]
    },
    {
      "cell_type": "code",
      "metadata": {
        "id": "WM26GsWuaPHD",
        "outputId": "02268593-427c-464b-ce3b-0318e618c495",
        "colab": {
          "base_uri": "https://localhost:8080/"
        }
      },
      "source": [
        "from sklearn.metrics import accuracy_score\n",
        "accuracy_score(y_test,a)"
      ],
      "execution_count": 73,
      "outputs": [
        {
          "output_type": "execute_result",
          "data": {
            "text/plain": [
              "0.9663"
            ]
          },
          "metadata": {
            "tags": []
          },
          "execution_count": 73
        }
      ]
    },
    {
      "cell_type": "code",
      "metadata": {
        "id": "mPSLuiLzajRM",
        "outputId": "abcf3b55-6aac-4923-f42d-20559dcd97f6",
        "colab": {
          "base_uri": "https://localhost:8080/"
        }
      },
      "source": [
        "print(y_test[:100])"
      ],
      "execution_count": 75,
      "outputs": [
        {
          "output_type": "stream",
          "text": [
            "[7 2 1 0 4 1 4 9 5 9 0 6 9 0 1 5 9 7 3 4 9 6 6 5 4 0 7 4 0 1 3 1 3 4 7 2 7\n",
            " 1 2 1 1 7 4 2 3 5 1 2 4 4 6 3 5 5 6 0 4 1 9 5 7 8 9 3 7 4 6 4 3 0 7 0 2 9\n",
            " 1 7 3 2 9 7 7 6 2 7 8 4 7 3 6 1 3 6 9 3 1 4 1 7 6 9]\n"
          ],
          "name": "stdout"
        }
      ]
    },
    {
      "cell_type": "markdown",
      "metadata": {
        "id": "qJ68sUdGn9mZ"
      },
      "source": [
        "## 【問題7】学習曲線のプロット\n",
        "学習曲線をプロットしてください。\n",
        "\n",
        "\n",
        "ニューラルネットワークは過学習が発生しやすいため、学習曲線の確認が重要です。訓練データと検証データに対するエポックごとの損失（交差エントロピー誤差）を記録できるようにする必要があります。"
      ]
    },
    {
      "cell_type": "code",
      "metadata": {
        "id": "5IoxGXYKGA1y",
        "outputId": "d816fd6c-d4a5-4ae9-e44b-8d60256b811b",
        "colab": {
          "base_uri": "https://localhost:8080/",
          "height": 296
        }
      },
      "source": [
        "snc.plot_cost()"
      ],
      "execution_count": 76,
      "outputs": [
        {
          "output_type": "display_data",
          "data": {
            "image/png": "[encoded data removed]",
            "text/plain": [
              "<Figure size 432x288 with 1 Axes>"
            ]
          },
          "metadata": {
            "tags": [],
            "needs_background": "light"
          }
        }
      ]
    },
    {
      "cell_type": "markdown",
      "metadata": {
        "id": "9_5IT8NyoBG5"
      },
      "source": [
        "## 【問題8】（アドバンス課題）誤分類の確認　未回答\n",
        "誤分類した画像はどのようなものだったかを確認してください。推定値を用意し、以下のコードを実行してください。\n",
        "\n",
        "\n",
        "《コード》"
      ]
    },
    {
      "cell_type": "code",
      "metadata": {
        "colab": {
          "base_uri": "https://localhost:8080/",
          "height": 236
        },
        "id": "oLEV1PKVoFXm",
        "outputId": "e2d558ee-b9cc-4091-a3aa-8d0863eddfaa"
      },
      "source": [
        "\"\"\"\n",
        "語分類結果を並べて表示する。画像の上の表示は「推定結果/正解」である。\n",
        "\n",
        "Parameters:\n",
        "----------\n",
        "y_pred : 推定値のndarray (n_samples,)\n",
        "y_val : 検証データの正解ラベル(n_samples,)\n",
        "X_val : 検証データの特徴量（n_samples, n_features)\n",
        "\"\"\"\n",
        "import numpy as np\n",
        "import matplotlib.pyplot as plt\n",
        "\n",
        "num = 36 # いくつ表示するか\n",
        "\n",
        "true_false = y_pred==y_val\n",
        "false_list = np.where(true_false==False)[0].astype(np.int)\n",
        "if false_list.shape[0] < num:\n",
        "    num = false_list.shape[0]\n",
        "fig = plt.figure(figsize=(6, 6))\n",
        "fig.subplots_adjust(left=0, right=0.8,  bottom=0, top=0.8, hspace=1, wspace=0.5)\n",
        "for i in range(num):\n",
        "    ax = fig.add_subplot(6, 6, i + 1, xticks=[], yticks=[])\n",
        "    ax.set_title(\"{} / {}\".format(y_pred[false_list[i]],y_val[false_list[i]]))\n",
        "    ax.imshow(X_val.reshape(-1,28,28)[false_list[i]], cmap='gray')"
      ],
      "execution_count": 26,
      "outputs": [
        {
          "output_type": "error",
          "ename": "NameError",
          "evalue": "ignored",
          "traceback": [
            "\u001b[0;31m---------------------------------------------------------------------------\u001b[0m",
            "\u001b[0;31mNameError\u001b[0m                                 Traceback (most recent call last)",
            "\u001b[0;32m<ipython-input-26-721920803ea1>\u001b[0m in \u001b[0;36m<module>\u001b[0;34m()\u001b[0m\n\u001b[1;32m     13\u001b[0m \u001b[0mnum\u001b[0m \u001b[0;34m=\u001b[0m \u001b[0;36m36\u001b[0m \u001b[0;31m# いくつ表示するか\u001b[0m\u001b[0;34m\u001b[0m\u001b[0;34m\u001b[0m\u001b[0m\n\u001b[1;32m     14\u001b[0m \u001b[0;34m\u001b[0m\u001b[0m\n\u001b[0;32m---> 15\u001b[0;31m \u001b[0mtrue_false\u001b[0m \u001b[0;34m=\u001b[0m \u001b[0my_pred\u001b[0m\u001b[0;34m==\u001b[0m\u001b[0my_val\u001b[0m\u001b[0;34m\u001b[0m\u001b[0;34m\u001b[0m\u001b[0m\n\u001b[0m\u001b[1;32m     16\u001b[0m \u001b[0mfalse_list\u001b[0m \u001b[0;34m=\u001b[0m \u001b[0mnp\u001b[0m\u001b[0;34m.\u001b[0m\u001b[0mwhere\u001b[0m\u001b[0;34m(\u001b[0m\u001b[0mtrue_false\u001b[0m\u001b[0;34m==\u001b[0m\u001b[0;32mFalse\u001b[0m\u001b[0;34m)\u001b[0m\u001b[0;34m[\u001b[0m\u001b[0;36m0\u001b[0m\u001b[0;34m]\u001b[0m\u001b[0;34m.\u001b[0m\u001b[0mastype\u001b[0m\u001b[0;34m(\u001b[0m\u001b[0mnp\u001b[0m\u001b[0;34m.\u001b[0m\u001b[0mint\u001b[0m\u001b[0;34m)\u001b[0m\u001b[0;34m\u001b[0m\u001b[0;34m\u001b[0m\u001b[0m\n\u001b[1;32m     17\u001b[0m \u001b[0;32mif\u001b[0m \u001b[0mfalse_list\u001b[0m\u001b[0;34m.\u001b[0m\u001b[0mshape\u001b[0m\u001b[0;34m[\u001b[0m\u001b[0;36m0\u001b[0m\u001b[0;34m]\u001b[0m \u001b[0;34m<\u001b[0m \u001b[0mnum\u001b[0m\u001b[0;34m:\u001b[0m\u001b[0;34m\u001b[0m\u001b[0;34m\u001b[0m\u001b[0m\n",
            "\u001b[0;31mNameError\u001b[0m: name 'y_pred' is not defined"
          ]
        }
      ]
    },
    {
      "cell_type": "code",
      "metadata": {
        "id": "McaGjuXZoIi5"
      },
      "source": [
        ""
      ],
      "execution_count": null,
      "outputs": []
    }
  ]
}