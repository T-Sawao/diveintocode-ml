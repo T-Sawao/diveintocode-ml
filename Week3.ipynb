{
  "nbformat": 4,
  "nbformat_minor": 0,
  "metadata": {
    "colab": {
      "name": "Week3.ipynb",
      "provenance": [],
      "private_outputs": true,
      "mount_file_id": "1L8TkU-1GHFSIBJ4eoGjfuRYjPh86jYo5",
      "authorship_tag": "ABX9TyPixc+shiqR6SgjQAU9dqUu",
      "include_colab_link": true
    },
    "kernelspec": {
      "name": "python3",
      "display_name": "Python 3"
    }
  },
  "cells": [
    {
      "cell_type": "markdown",
      "metadata": {
        "id": "view-in-github",
        "colab_type": "text"
      },
      "source": [
        "<a href=\"https://colab.research.google.com/github/T-Sawao/diveintocode-ml/blob/master/Week3.ipynb\" target=\"_parent\"><img src=\"https://colab.research.google.com/assets/colab-badge.svg\" alt=\"Open In Colab\"/></a>"
      ]
    },
    {
      "cell_type": "markdown",
      "metadata": {
        "id": "FuvxNBVRedVE"
      },
      "source": [
        "# Week3-授業課題"
      ]
    },
    {
      "cell_type": "markdown",
      "metadata": {
        "id": "sJXTC2CZrWlW"
      },
      "source": [
        "# Introduction\n",
        "\n",
        "Home Creditは、1997年にチェコ共和国で設立されたノンバンクの金融機関です。\n",
        "\n",
        "同社は14か国（米国、ロシア、カザフスタン、ベラルーシ、中国、インドを含む）で事業を展開しており、主に信用履歴がほとんどまたはまったくない、融資を受けられない、または信頼できない貸し手の犠牲者となった人々への融資に重点を置いています。\n",
        "\n",
        "ホームクレジットグループの顧客数は2900万人を超え、総資産は210億ユーロ、ローンは1億6000万を超え、その大部分はアジアにあり、そのほぼ半分が中国にあります（2018年5月19日現在）。\n",
        "\n",
        "同社は、電話会社や取引情報など、さまざまな代替データを使用して、クライアントの返済能力を予測しています。\n",
        "\n",
        "彼らはKaggleコミュニティにデータを提供し、Kagglerにデータの可能性を最大限に引き出す手助けをするよう呼びかけています。"
      ]
    },
    {
      "cell_type": "markdown",
      "metadata": {
        "id": "8xwSItsOr6Nk"
      },
      "source": [
        "# このコンペティションでは何を予測する？  \n",
        "　　\n",
        "お客さんの返済能力を予測する"
      ]
    },
    {
      "cell_type": "markdown",
      "metadata": {
        "id": "c4v-JKg6tyEp"
      },
      "source": [
        "# それを予測することで企業が得られるメリットは何？　　\n",
        "\n",
        "返済可能なお客さんが拒否されないようにし、返済計画が成功するための元本、満期、および返済カレンダーを使用してローンが提供されるようにします。\n"
      ]
    },
    {
      "cell_type": "markdown",
      "metadata": {
        "id": "ahkrauOCuUP8"
      },
      "source": [
        "# インポート"
      ]
    },
    {
      "cell_type": "code",
      "metadata": {
        "id": "D3MeMLohhUyH"
      },
      "source": [
        "import numpy as np\n",
        "import pandas as pd\n",
        "import matplotlib.pyplot as plt\n",
        "import seaborn as sns\n",
        "sns.set()"
      ],
      "execution_count": null,
      "outputs": []
    },
    {
      "cell_type": "code",
      "metadata": {
        "id": "0jwtol2aebxX"
      },
      "source": [
        "df = pd.read_csv(\"/content/drive/My Drive/Colab Notebooks/diveintocode-ml/home-credit-default-risk/application_train.csv\")\n",
        "df.head()"
      ],
      "execution_count": null,
      "outputs": []
    },
    {
      "cell_type": "markdown",
      "metadata": {
        "id": "eQElfeS0xnVT"
      },
      "source": [
        "** ※各columnsの詳細に関しては、HomeCredit_columns_description.csvを参照。**"
      ]
    },
    {
      "cell_type": "code",
      "metadata": {
        "id": "VX7_kv2FmmT2"
      },
      "source": [
        "df.info()"
      ],
      "execution_count": null,
      "outputs": []
    },
    {
      "cell_type": "code",
      "metadata": {
        "id": "TNSV232-vIIT"
      },
      "source": [
        "df.describe()"
      ],
      "execution_count": null,
      "outputs": []
    },
    {
      "cell_type": "markdown",
      "metadata": {
        "id": "MOwN0AHTu5DZ"
      },
      "source": [
        ""
      ]
    }
  ]
}