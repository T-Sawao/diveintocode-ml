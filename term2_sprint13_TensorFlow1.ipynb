{
  "nbformat": 4,
  "nbformat_minor": 0,
  "metadata": {
    "colab": {
      "name": "term2_sprint13_TensorFlow1.ipynb",
      "private_outputs": true,
      "provenance": [],
      "mount_file_id": "1_PvUm_oFdrzVgxG-iOyMkdQslrLdcOVn",
      "authorship_tag": "ABX9TyPKLpmk8gYJXuuOSG3dsfWl",
      "include_colab_link": true
    },
    "kernelspec": {
      "name": "python3",
      "display_name": "Python 3"
    }
  },
  "cells": [
    {
      "cell_type": "markdown",
      "metadata": {
        "id": "view-in-github",
        "colab_type": "text"
      },
      "source": [
        "<a href=\"https://colab.research.google.com/github/T-Sawao/diveintocode-ml3/blob/main/term2_sprint13_TensorFlow1.ipynb\" target=\"_parent\"><img src=\"https://colab.research.google.com/assets/colab-badge.svg\" alt=\"Open In Colab\"/></a>"
      ]
    },
    {
      "cell_type": "markdown",
      "metadata": {
        "id": "UgiLhXWPuQiX"
      },
      "source": [
        "## TensorFlowとは  \n",
        "TensorFlowは2015年11月にGoogle社が開発したオープンソースの深層学習ライブラリです。\n",
        "\n",
        "TensorFlowの特徴に関して簡単に説明いたします。\n",
        "主に以下のような特徴があります。\n",
        " \n",
        "- 1.CPUやGPUで動作し、複数のGPUマシンで分散・並列処理ができる。\n",
        " \n",
        "- 2.多層NN（ディープラーニング）に特化したライブラリ。\n",
        " \n",
        "- 3.TensorBoardというログ取得を行うことでモデルや値の推移を可視化できる。\n",
        " \n",
        "公式ドキュメンテーション  \n",
        "https://www.tensorflow.org/"
      ]
    },
    {
      "cell_type": "markdown",
      "metadata": {
        "id": "tqdbBnGyazgu"
      },
      "source": [
        "バージョンを確認する"
      ]
    },
    {
      "cell_type": "code",
      "metadata": {
        "id": "0PSSXrphbZ6d"
      },
      "source": [
        "pip list"
      ],
      "execution_count": null,
      "outputs": []
    },
    {
      "cell_type": "code",
      "metadata": {
        "id": "dF1BcIxabsUL"
      },
      "source": [
        "# Tensorflow2の状況下で1を使えるコード\n",
        "import tensorflow.compat.v1 as tf\n",
        "tf.disable_v2_behavior()\n",
        "\n",
        "Tensorflowのバージョンダウン\n",
        "!pip install tensorflow==1.12.0"
      ],
      "execution_count": null,
      "outputs": []
    },
    {
      "cell_type": "markdown",
      "metadata": {
        "id": "RYVlXk7-vQkw"
      },
      "source": [
        "簡単な記述例"
      ]
    },
    {
      "cell_type": "code",
      "metadata": {
        "id": "GRYSpInKaSZq"
      },
      "source": [
        "import tensorflow as tf\n",
        "a = tf.constant(5)\n",
        "b = tf.constant(7)\n",
        "add = tf.add(a, b)\n",
        "\n",
        "#　セッションを変数に入れる （セッションとは、次に使う事を宣言するようなこと）\n",
        "sess = tf.Session()\n",
        "# addを実行すると宣言する。\n",
        "output = sess.run(add)\n",
        "print(output) # 12\n",
        "\n",
        "sess.close()\n",
        "\n",
        "const1 = tf.constant(10)\n",
        "const2 = tf.constant(15)\n",
        "add_op = tf.add(const1, const2)\n",
        "\n",
        "#　セッション→実行 （セッションとは、次に使う事を宣言するようなこと）\n",
        "with tf.Session() as sess:\n",
        "    result = sess.run(add_op)\n",
        "    print(result)\n",
        "\n",
        "# 上記は下記の記載と同じ\n",
        "# sess = tf.Session()\n",
        "# # addを実行すると宣言する。\n",
        "# output = sess.run(add)\n",
        "# print(output) # 12\n",
        "# sess.close()"
      ],
      "execution_count": null,
      "outputs": []
    },
    {
      "cell_type": "markdown",
      "metadata": {
        "id": "HveGbEiOvfxi"
      },
      "source": [
        "**TensorFlowの用語**  \n",
        "定数(tf.constant)に加え変数(Variable)とプレースホルダー(placeholder)を宣言できます。\n",
        "\n",
        "**変数**"
      ]
    },
    {
      "cell_type": "code",
      "metadata": {
        "id": "jtmApzRwyPdg"
      },
      "source": [
        "var = tf.Variable(0)\n",
        "const = tf.constant(5)\n",
        "\n",
        "add_op = tf.add(var, const)\n",
        "# 変数に値を代入する。\n",
        "update_var = tf.assign(var, add_op)\n",
        "\n",
        "# mul_op = tf.mul(add_op, update_var) # 以前のバージョン\n",
        "mul_op = tf.multiply(add_op, update_var)\n",
        "\n",
        "v1 = tf.Variable(0)\n",
        "c1 = tf.constant(5)\n",
        "add_op = tf.add(v1,c1)\n",
        "update = tf.assign(v1, add_op) # updateというオペレーションノード\n",
        "\n",
        "# 変数を使う時は、セッション内でtf.global_variables_initializer()を実行し、変数を初期化する必要があります。\n",
        "init = tf.global_variables_initializer()\n",
        "\n",
        "sess = tf.Session()\n",
        "sess.run(init)\n",
        "\n",
        "print(sess.run(v1))\n",
        "\n",
        "sess.run(update)\n",
        "print(sess.run(v1))"
      ],
      "execution_count": null,
      "outputs": []
    },
    {
      "cell_type": "code",
      "metadata": {
        "id": "mHou0pdjzz-O"
      },
      "source": [
        "with tf.Session() as sess:\n",
        "    sess.run(tf.global_variables_initializer())\n",
        "    print(sess.run([mul_op]))\n",
        "    print(sess.run([mul_op]))"
      ],
      "execution_count": null,
      "outputs": []
    },
    {
      "cell_type": "code",
      "metadata": {
        "id": "NCfGY8fL1Rse"
      },
      "source": [
        "with tf.Session() as sess:\n",
        "    sess.run(tf.global_variables_initializer())\n",
        "    print(sess.run([mul_op]))\n",
        "    print(sess.run([mul_op, mul_op]))\n",
        "\n",
        "with tf.Session() as sess:\n",
        "    sess.run(tf.global_variables_initializer())\n",
        "    print(sess.run([mul_op]))\n",
        "    print(sess.run([mul_op, mul_op]))"
      ],
      "execution_count": null,
      "outputs": []
    },
    {
      "cell_type": "markdown",
      "metadata": {
        "id": "jIluLRRX2M95"
      },
      "source": [
        "**プレースホルダー**"
      ]
    },
    {
      "cell_type": "code",
      "metadata": {
        "id": "RwJClnLIkr0d"
      },
      "source": [
        "# プレースホルダーの作成 変数の時のように初期値を与えていない\n",
        "# 型としてtf.int32を指定しています。\n",
        "h1 = tf.placeholder(tf.int32)\n",
        "h2 = tf.placeholder(tf.int32)\n",
        "\n",
        "# output = tf.mul(h1,h2) # 以前のバージョン\n",
        "output = tf.multiply(h1,h2)\n",
        "\n",
        "sess = tf.Session()\n",
        "result = sess.run(output, feed_dict = {h1:100, h2:200})\n",
        "print(result)\n",
        "sess.close()"
      ],
      "execution_count": null,
      "outputs": []
    },
    {
      "cell_type": "code",
      "metadata": {
        "id": "mxcsCWIQ2erS"
      },
      "source": [
        "var = tf.Variable(0)\n",
        "holder2 = tf.placeholder(tf.int32)\n",
        "\n",
        "add_op = tf.add(var, holder2)\n",
        "update_var = tf.assign(var, add_op)\n",
        "\n",
        "# mul_op = tf.mul(add_op, update_var) # 以前のバージョン\n",
        "mul_op = tf.multiply(add_op, update_var)\n",
        "\n",
        "with tf.Session() as sess:\n",
        "    sess.run(tf.global_variables_initializer())\n",
        "    result = sess.run(mul_op, feed_dict={holder2: 5})\n",
        "    print(result)"
      ],
      "execution_count": null,
      "outputs": []
    },
    {
      "cell_type": "code",
      "metadata": {
        "id": "Lvn4GE_TmViq"
      },
      "source": [
        "import numpy as np\n",
        "x_train = np.array([[0,0],[0,1],[1,0],[1,1]])\n",
        "y_train = np.array([[0],[0],[0],[1]])\n",
        "\n",
        "x = tf.placeholder(tf.float32, [None, 2])\n",
        "t = tf.placeholder(tf.float32, [None, 1])"
      ],
      "execution_count": null,
      "outputs": []
    },
    {
      "cell_type": "code",
      "metadata": {
        "id": "h028tHx6Q__C"
      },
      "source": [
        "W = tf.Variable(tf.zeros([2,1]))\n",
        "b = tf.Variable(tf.zeros([1]))"
      ],
      "execution_count": null,
      "outputs": []
    },
    {
      "cell_type": "code",
      "metadata": {
        "id": "0VKl9gkiRZKn"
      },
      "source": [
        "# 仮定関数　+ 目的関数の定義\n",
        "y = tf.sigmoid(tf.matmul(x, W) + b)\n",
        "cross_entropy = tf.reduce_sum(-t * tf.log(y) - (1 - t) * tf.log(1 - y))\n",
        "\n",
        "# 学習（勾配降下法） + 目的関数の実行）\n",
        "train_step = tf.train.GradientDescentOptimizer(0.1).minimize(cross_entropy)\n",
        "\n",
        "# 評価\n",
        "correct_prediction = tf.equal(tf.sign(y - 0.5), tf.sign(t - 0.5))\n",
        "accuracy = tf.reduce_mean(tf.cast(correct_prediction, tf.float32))"
      ],
      "execution_count": null,
      "outputs": []
    },
    {
      "cell_type": "code",
      "metadata": {
        "id": "Vaai7C5JWmPx"
      },
      "source": [
        "# セッションを宣言\n",
        "sess = tf.Session()\n",
        "\n",
        "# variavlesの値（重みとバイアス）を初期化\n",
        "sess.run(tf.global_variables_initializer())"
      ],
      "execution_count": null,
      "outputs": []
    },
    {
      "cell_type": "code",
      "metadata": {
        "id": "sBolEXbIYK7P"
      },
      "source": [
        "for epoch in range(1000):\n",
        "  # feel_dictで空箱を設置\n",
        "  sess.run(train_step, feed_dict = {\n",
        "      x:x_train,\n",
        "      t:y_train\n",
        "  })\n",
        "\n",
        "  # 100階毎に正解率を表示\n",
        "  if epoch % 100 == 0:\n",
        "    # 空箱だったxにx_trainの値が入る。\n",
        "    acc_val = sess.run(accuracy, feed_dict={\n",
        "        x:x_train,\n",
        "        t:y_train})\n",
        "    print(epoch, acc_val)"
      ],
      "execution_count": null,
      "outputs": []
    },
    {
      "cell_type": "code",
      "metadata": {
        "id": "3AY3w84SWsVT"
      },
      "source": [
        "#学習結果が正しいか確認\n",
        "classified = sess.run(correct_prediction, feed_dict={\n",
        "    x:x_train,\n",
        "    t:y_train\n",
        "})\n",
        "\n",
        "#出力yの確認\n",
        "prob = sess.run(y, feed_dict={\n",
        "    x:x_train,\n",
        "    t:y_train\n",
        "})\n",
        "print(classified)\n",
        "print(prob)"
      ],
      "execution_count": null,
      "outputs": []
    },
    {
      "cell_type": "code",
      "metadata": {
        "id": "dJEq-LOPa_Mj"
      },
      "source": [
        "print('W:', sess.run(W))\n",
        "print('b:', sess.run(b))"
      ],
      "execution_count": null,
      "outputs": []
    },
    {
      "cell_type": "code",
      "metadata": {
        "id": "ve0JYCfjbTmZ"
      },
      "source": [
        "mat = tf.matmul(x, W)\n",
        "y = tf.sigmoid(mat + b)\n",
        "print(sess.run(mat, feed_dict={\n",
        "    x:x_train,\n",
        "    t:y_train\n",
        "}))\n",
        "\n",
        "sess.close()"
      ],
      "execution_count": null,
      "outputs": []
    }
  ]
}