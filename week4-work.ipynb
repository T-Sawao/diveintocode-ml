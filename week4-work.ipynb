{
 "cells": [
  {
   "cell_type": "markdown",
   "metadata": {
    "colab_type": "text",
    "id": "view-in-github"
   },
   "source": [
    "<a href=\"https://colab.research.google.com/github/T-Sawao/diveintocode-ml/blob/master/week4.ipynb\" target=\"_parent\"><img src=\"https://colab.research.google.com/assets/colab-badge.svg\" alt=\"Open In Colab\"/></a>"
   ]
  },
  {
   "cell_type": "markdown",
   "metadata": {},
   "source": [
    "# week4-work 信用情報の学習"
   ]
  },
  {
   "cell_type": "markdown",
   "metadata": {},
   "source": [
    "# 2.信用情報\n",
    "\n",
    "Kaggleの Home Credit Default Risk コンペティションの学習および推定を行います。\n",
    "\n",
    "Home Credit Default Risk | Kaggle  \n",
    "https://www.kaggle.com/c/home-credit-default-risk\n",
    "\n",
    "## 【問題1】コンペティション内容の確認\n",
    "コンペティションのOverviewページ読み、「Home Credit Default Risk」について以下の観点について確認してください。"
   ]
  },
  {
   "cell_type": "markdown",
   "metadata": {},
   "source": [
    "### 1.1.1（解答）何を学習し、何を予測するのか"
   ]
  },
  {
   "cell_type": "markdown",
   "metadata": {},
   "source": [
    "多くの顧客情報の中から有用なデータを使用して、顧客にローンの貸し出しが出来るかを予測する。"
   ]
  },
  {
   "cell_type": "markdown",
   "metadata": {},
   "source": [
    "### 1.2.1（解答）どのようなファイルを作りKaggleに提出するか"
   ]
  },
  {
   "cell_type": "markdown",
   "metadata": {},
   "source": [
    "ローンの貸し出しが可能な顧客の特徴を示したデータを使い、高い水準で貸し出しの可否を判断するファイルを作成。"
   ]
  },
  {
   "cell_type": "markdown",
   "metadata": {},
   "source": [
    "### 1.3.1（解答）提出されたものはどういった指標値で評価されるのか"
   ]
  },
  {
   "cell_type": "markdown",
   "metadata": {},
   "source": [
    "予測された確率から実際にローンを貸し出せる顧客の割合と、実際にはローンを貸し出せない顧客を貸し出せる顧客と推測した割合のROC曲線で評価される。  \n",
    "正しくローン可能な顧客を割り出している指標値で評価される。"
   ]
  },
  {
   "cell_type": "markdown",
   "metadata": {},
   "source": [
    "### 1.3.2（予備知識）ROC曲線 "
   ]
  },
  {
   "cell_type": "markdown",
   "metadata": {},
   "source": [
    "2値分類で一般的に利用されているパフォーマンスを計測するための可視化手法です。　　\n",
    "ROCは推測曲線と呼ばれ縦軸にTPR(True Positive Rate)、横軸にFPR(False Positive Rate) の割合をプロットしたものです。 AUC(Area Under the Curve) はその曲線の下部分の面のことで、AUC の面積が大きいほど一般的に機械学習の性能が良い事を意味します。面積が大きいということはすなわち機械学習モデルがNegative と推測すべきものを間違えてPositive と推測している傾向が少なく、Positive と推測すべきものをしっかりとPositive と推測できている状態です。\n",
    "\n",
    "参考資料　https://qiita.com/TsutomuNakamura/items/ef963381e5d2768791d4"
   ]
  },
  {
   "cell_type": "markdown",
   "metadata": {},
   "source": [
    "### 1.4.1（準備）"
   ]
  },
  {
   "cell_type": "code",
   "execution_count": 1,
   "metadata": {
    "id": "kzeb-e8ZnbNU"
   },
   "outputs": [],
   "source": [
    "# 基本ライブラリのインポート\n",
    "import numpy as np\n",
    "import pandas as pd\n",
    "import matplotlib.pyplot as plt\n",
    "import seaborn as sns\n",
    "from sklearn.model_selection import train_test_split\n",
    "from sklearn.preprocessing import StandardScaler\n",
    "from sklearn.metrics import confusion_matrix\n",
    "sns.set()"
   ]
  },
  {
   "cell_type": "code",
   "execution_count": 2,
   "metadata": {
    "id": "CJxBfrGapsSc"
   },
   "outputs": [],
   "source": [
    "# 訓練、検証データの読み込み\n",
    "app_test= pd.read_csv(\"sample_dataset/home-credit-default-risk/application_test.csv\")\n",
    "app_train = pd.read_csv(\"sample_dataset/home-credit-default-risk/application_train.csv\")"
   ]
  },
  {
   "cell_type": "code",
   "execution_count": 3,
   "metadata": {},
   "outputs": [],
   "source": [
    "# 欠損値\n",
    "def missing_values_table(df):\n",
    "    mis_val = df.isnull().sum()\n",
    "    mis_val_percent = 100 * df.isnull().sum() / len(df)\n",
    "    \n",
    "    mis_val_table = pd.concat([mis_val, mis_val_percent], axis=1)\n",
    "    mis_val_table_ren_columns = mis_val_table.rename(\n",
    "    columns = {0 : \"欠損数\", 1 : \"欠損率\"})\n",
    "    mis_val_table_ren_columns = mis_val_table_ren_columns[\n",
    "        mis_val_table_ren_columns.iloc[:,1] != 0].sort_values(\n",
    "        \"欠損率\", ascending=False).round(1)\n",
    "    \n",
    "    print(f\"欠損している項目は{df.shape[1]}column中、{mis_val_table_ren_columns.shape[0]}columnsです。\")\n",
    "    return mis_val_table_ren_columns"
   ]
  },
  {
   "cell_type": "code",
   "execution_count": 4,
   "metadata": {},
   "outputs": [
    {
     "name": "stdout",
     "output_type": "stream",
     "text": [
      "欠損している項目は122column中、67columnsです。\n"
     ]
    },
    {
     "data": {
      "text/html": [
       "<div>\n",
       "<style scoped>\n",
       "    .dataframe tbody tr th:only-of-type {\n",
       "        vertical-align: middle;\n",
       "    }\n",
       "\n",
       "    .dataframe tbody tr th {\n",
       "        vertical-align: top;\n",
       "    }\n",
       "\n",
       "    .dataframe thead th {\n",
       "        text-align: right;\n",
       "    }\n",
       "</style>\n",
       "<table border=\"1\" class=\"dataframe\">\n",
       "  <thead>\n",
       "    <tr style=\"text-align: right;\">\n",
       "      <th></th>\n",
       "      <th>欠損数</th>\n",
       "      <th>欠損率</th>\n",
       "    </tr>\n",
       "  </thead>\n",
       "  <tbody>\n",
       "    <tr>\n",
       "      <th>COMMONAREA_MEDI</th>\n",
       "      <td>214865</td>\n",
       "      <td>69.9</td>\n",
       "    </tr>\n",
       "    <tr>\n",
       "      <th>COMMONAREA_AVG</th>\n",
       "      <td>214865</td>\n",
       "      <td>69.9</td>\n",
       "    </tr>\n",
       "    <tr>\n",
       "      <th>COMMONAREA_MODE</th>\n",
       "      <td>214865</td>\n",
       "      <td>69.9</td>\n",
       "    </tr>\n",
       "    <tr>\n",
       "      <th>NONLIVINGAPARTMENTS_MEDI</th>\n",
       "      <td>213514</td>\n",
       "      <td>69.4</td>\n",
       "    </tr>\n",
       "    <tr>\n",
       "      <th>NONLIVINGAPARTMENTS_MODE</th>\n",
       "      <td>213514</td>\n",
       "      <td>69.4</td>\n",
       "    </tr>\n",
       "    <tr>\n",
       "      <th>NONLIVINGAPARTMENTS_AVG</th>\n",
       "      <td>213514</td>\n",
       "      <td>69.4</td>\n",
       "    </tr>\n",
       "    <tr>\n",
       "      <th>FONDKAPREMONT_MODE</th>\n",
       "      <td>210295</td>\n",
       "      <td>68.4</td>\n",
       "    </tr>\n",
       "    <tr>\n",
       "      <th>LIVINGAPARTMENTS_MODE</th>\n",
       "      <td>210199</td>\n",
       "      <td>68.4</td>\n",
       "    </tr>\n",
       "    <tr>\n",
       "      <th>LIVINGAPARTMENTS_MEDI</th>\n",
       "      <td>210199</td>\n",
       "      <td>68.4</td>\n",
       "    </tr>\n",
       "    <tr>\n",
       "      <th>LIVINGAPARTMENTS_AVG</th>\n",
       "      <td>210199</td>\n",
       "      <td>68.4</td>\n",
       "    </tr>\n",
       "    <tr>\n",
       "      <th>FLOORSMIN_MODE</th>\n",
       "      <td>208642</td>\n",
       "      <td>67.8</td>\n",
       "    </tr>\n",
       "    <tr>\n",
       "      <th>FLOORSMIN_MEDI</th>\n",
       "      <td>208642</td>\n",
       "      <td>67.8</td>\n",
       "    </tr>\n",
       "    <tr>\n",
       "      <th>FLOORSMIN_AVG</th>\n",
       "      <td>208642</td>\n",
       "      <td>67.8</td>\n",
       "    </tr>\n",
       "    <tr>\n",
       "      <th>YEARS_BUILD_MODE</th>\n",
       "      <td>204488</td>\n",
       "      <td>66.5</td>\n",
       "    </tr>\n",
       "    <tr>\n",
       "      <th>YEARS_BUILD_MEDI</th>\n",
       "      <td>204488</td>\n",
       "      <td>66.5</td>\n",
       "    </tr>\n",
       "    <tr>\n",
       "      <th>YEARS_BUILD_AVG</th>\n",
       "      <td>204488</td>\n",
       "      <td>66.5</td>\n",
       "    </tr>\n",
       "    <tr>\n",
       "      <th>OWN_CAR_AGE</th>\n",
       "      <td>202929</td>\n",
       "      <td>66.0</td>\n",
       "    </tr>\n",
       "    <tr>\n",
       "      <th>LANDAREA_AVG</th>\n",
       "      <td>182590</td>\n",
       "      <td>59.4</td>\n",
       "    </tr>\n",
       "    <tr>\n",
       "      <th>LANDAREA_MEDI</th>\n",
       "      <td>182590</td>\n",
       "      <td>59.4</td>\n",
       "    </tr>\n",
       "    <tr>\n",
       "      <th>LANDAREA_MODE</th>\n",
       "      <td>182590</td>\n",
       "      <td>59.4</td>\n",
       "    </tr>\n",
       "  </tbody>\n",
       "</table>\n",
       "</div>"
      ],
      "text/plain": [
       "                             欠損数   欠損率\n",
       "COMMONAREA_MEDI           214865  69.9\n",
       "COMMONAREA_AVG            214865  69.9\n",
       "COMMONAREA_MODE           214865  69.9\n",
       "NONLIVINGAPARTMENTS_MEDI  213514  69.4\n",
       "NONLIVINGAPARTMENTS_MODE  213514  69.4\n",
       "NONLIVINGAPARTMENTS_AVG   213514  69.4\n",
       "FONDKAPREMONT_MODE        210295  68.4\n",
       "LIVINGAPARTMENTS_MODE     210199  68.4\n",
       "LIVINGAPARTMENTS_MEDI     210199  68.4\n",
       "LIVINGAPARTMENTS_AVG      210199  68.4\n",
       "FLOORSMIN_MODE            208642  67.8\n",
       "FLOORSMIN_MEDI            208642  67.8\n",
       "FLOORSMIN_AVG             208642  67.8\n",
       "YEARS_BUILD_MODE          204488  66.5\n",
       "YEARS_BUILD_MEDI          204488  66.5\n",
       "YEARS_BUILD_AVG           204488  66.5\n",
       "OWN_CAR_AGE               202929  66.0\n",
       "LANDAREA_AVG              182590  59.4\n",
       "LANDAREA_MEDI             182590  59.4\n",
       "LANDAREA_MODE             182590  59.4"
      ]
     },
     "execution_count": 4,
     "metadata": {},
     "output_type": "execute_result"
    }
   ],
   "source": [
    "# 欠損値出力\n",
    "missing_values = missing_values_table(app_train)\n",
    "missing_values.head(20)"
   ]
  },
  {
   "cell_type": "code",
   "execution_count": 5,
   "metadata": {},
   "outputs": [
    {
     "data": {
      "text/plain": [
       "float64    65\n",
       "int64      41\n",
       "object     16\n",
       "dtype: int64"
      ]
     },
     "execution_count": 5,
     "metadata": {},
     "output_type": "execute_result"
    }
   ],
   "source": [
    "# 列ごとのデータ型\n",
    "app_train.dtypes.value_counts()"
   ]
  },
  {
   "cell_type": "code",
   "execution_count": 6,
   "metadata": {},
   "outputs": [
    {
     "data": {
      "text/plain": [
       "NAME_CONTRACT_TYPE             2\n",
       "CODE_GENDER                    3\n",
       "FLAG_OWN_CAR                   2\n",
       "FLAG_OWN_REALTY                2\n",
       "NAME_TYPE_SUITE                7\n",
       "NAME_INCOME_TYPE               8\n",
       "NAME_EDUCATION_TYPE            5\n",
       "NAME_FAMILY_STATUS             6\n",
       "NAME_HOUSING_TYPE              6\n",
       "OCCUPATION_TYPE               18\n",
       "WEEKDAY_APPR_PROCESS_START     7\n",
       "ORGANIZATION_TYPE             58\n",
       "FONDKAPREMONT_MODE             4\n",
       "HOUSETYPE_MODE                 3\n",
       "WALLSMATERIAL_MODE             7\n",
       "EMERGENCYSTATE_MODE            2\n",
       "dtype: int64"
      ]
     },
     "execution_count": 6,
     "metadata": {},
     "output_type": "execute_result"
    }
   ],
   "source": [
    "# 列ごとのデータの種類\n",
    "app_train.select_dtypes(\"object\").apply(pd.Series.nunique, axis=0)"
   ]
  },
  {
   "cell_type": "markdown",
   "metadata": {},
   "source": [
    "### 1.5.1（予備知識） エンコーディング  \n",
    "参考資料 https://gotutiyan.hatenablog.com/entry/2020/09/08/122621"
   ]
  },
  {
   "cell_type": "code",
   "execution_count": 7,
   "metadata": {},
   "outputs": [
    {
     "name": "stdout",
     "output_type": "stream",
     "text": [
      "3columnsをエンコードしました。\n"
     ]
    }
   ],
   "source": [
    "# ラベルエンコード（列数を増やさず、値を数字に変換する手法）\n",
    "\n",
    "from sklearn.preprocessing import LabelEncoder\n",
    "le = LabelEncoder()\n",
    "le_count = 0\n",
    "\n",
    "for col in app_train:\n",
    "    # 値がオブジェクト型の時を条件指定。\n",
    "    if app_train[col].dtype == \"object\":\n",
    "        # カテゴリ数が２以下の条件指定。\n",
    "        if len(list(app_train[col].unique())) <= 2:\n",
    "            # 訓練データで学習を行う。\n",
    "            le.fit(app_train[col])\n",
    "            # 訓練、検証データ共に変換する。\n",
    "            app_train[col] = le.transform(app_train[col])\n",
    "            app_test[col] = le.transform(app_test[col])\n",
    "            le_count += 1\n",
    "print(f\"{le_count}columnsをエンコードしました。\")"
   ]
  },
  {
   "cell_type": "code",
   "execution_count": 8,
   "metadata": {},
   "outputs": [
    {
     "name": "stdout",
     "output_type": "stream",
     "text": [
      "訓練データは: (307511, 243) 検証データは: (48744, 239)\n"
     ]
    }
   ],
   "source": [
    "# one_hotエンコード (値は0と１のみ、列数をカテゴリ数分用意する手法)\n",
    "\n",
    "app_train = pd.get_dummies(app_train)\n",
    "app_test = pd.get_dummies(app_test)\n",
    "\n",
    "print(f\"訓練データは: {app_train.shape} 検証データは: {app_test.shape}\")"
   ]
  },
  {
   "cell_type": "markdown",
   "metadata": {},
   "source": [
    "### 1.6.1（予備知識）データの桁数を揃える  \n",
    "pandas.DataFrame.align   \n",
    "https://pandas.pydata.org/pandas-docs/stable/reference/api/pandas.DataFrame.align.html"
   ]
  },
  {
   "cell_type": "code",
   "execution_count": 9,
   "metadata": {},
   "outputs": [
    {
     "name": "stdout",
     "output_type": "stream",
     "text": [
      "Training Features shape:  (307511, 239)\n",
      "Testing Features shape:  (48744, 239)\n"
     ]
    }
   ],
   "source": [
    "# ターゲットとIDを分断し保管。\n",
    "train_labels = app_train['TARGET']\n",
    "train_id = app_train[\"SK_ID_CURR\"]\n",
    "test_id = app_train[\"SK_ID_CURR\"]\n",
    "\n",
    "# A(app_train)とB(app_test)をjoin(両方含む)値に変換。\n",
    "app_train, app_test = app_train.align(app_test, join = 'inner', axis = 1)\n",
    "\n",
    "print('Training Features shape: ', app_train.shape)\n",
    "print('Testing Features shape: ', app_test.shape)"
   ]
  },
  {
   "cell_type": "markdown",
   "metadata": {},
   "source": [
    "### 1.7.1（予備知識）欠損値を埋める "
   ]
  },
  {
   "cell_type": "code",
   "execution_count": 10,
   "metadata": {},
   "outputs": [],
   "source": [
    "# 元データを残す\n",
    "train1 = app_train.copy()\n",
    "test1 = app_test.copy()\n",
    "\n",
    "# 特微量リスト\n",
    "features = list(app_train.columns)\n",
    "\n",
    "# 欠損値を中央値で埋める\n",
    "from sklearn.impute import SimpleImputer\n",
    "imputer = SimpleImputer(strategy = 'median')\n",
    "imputer.fit(train1)\n",
    "train1 = imputer.transform(train1)\n",
    "test1 = imputer.transform(test1)"
   ]
  },
  {
   "cell_type": "markdown",
   "metadata": {},
   "source": [
    "### 1.8.1（予備知識）正規化"
   ]
  },
  {
   "cell_type": "code",
   "execution_count": 11,
   "metadata": {},
   "outputs": [
    {
     "name": "stdout",
     "output_type": "stream",
     "text": [
      "訓練データの数:  (307511, 239)\n",
      "検証データの数:  (48744, 239)\n"
     ]
    }
   ],
   "source": [
    "# 最小値0、最大値1に正規化\n",
    "from sklearn.preprocessing import MinMaxScaler\n",
    "scaler = MinMaxScaler(feature_range = (0, 1))\n",
    "scaler.fit(train1)\n",
    "train1 = scaler.transform(train1)\n",
    "test1 = scaler.transform(test1)\n",
    "\n",
    "print('訓練データの数: ', train1.shape)\n",
    "print('検証データの数: ', test1.shape)"
   ]
  },
  {
   "cell_type": "markdown",
   "metadata": {},
   "source": [
    "# 3.ベースラインモデルの作成\n",
    "\n",
    "まずは単純な方法による ベースラインモデルを作成します。精度の基準となるモデルです。  \n",
    "精度を高くする必要はありません。エラーなく実行でき、Kaggle側に推定値を提出できることを目指します。"
   ]
  },
  {
   "cell_type": "markdown",
   "metadata": {},
   "source": [
    "## 【問題2】学習と検証\n",
    "データを簡単に分析、前処理し、学習、検証するまでの一連の流れを作成・実行してください。  \n",
    "検証にはこのコンペティションで使用される評価指標を用いるようにしてください。学習に用いる手法は指定しません。"
   ]
  },
  {
   "cell_type": "markdown",
   "metadata": {},
   "source": [
    "### 2.1.1 (予備知識） Filter Methodでの解析\n",
    "参考資料 https://qiita.com/shimopino/items/5fee7504c7acf044a521"
   ]
  },
  {
   "cell_type": "code",
   "execution_count": 12,
   "metadata": {},
   "outputs": [],
   "source": [
    "# idも正規化で崩れたので削除\n",
    "train_id = pd.DataFrame(train_id)\n",
    "train_df = pd.DataFrame(train1)\n",
    "train_df.columns = features\n",
    "train_df = train_df.drop(columns =\"SK_ID_CURR\")"
   ]
  },
  {
   "cell_type": "code",
   "execution_count": 13,
   "metadata": {},
   "outputs": [
    {
     "data": {
      "text/html": [
       "<div>\n",
       "<style scoped>\n",
       "    .dataframe tbody tr th:only-of-type {\n",
       "        vertical-align: middle;\n",
       "    }\n",
       "\n",
       "    .dataframe tbody tr th {\n",
       "        vertical-align: top;\n",
       "    }\n",
       "\n",
       "    .dataframe thead th {\n",
       "        text-align: right;\n",
       "    }\n",
       "</style>\n",
       "<table border=\"1\" class=\"dataframe\">\n",
       "  <thead>\n",
       "    <tr style=\"text-align: right;\">\n",
       "      <th></th>\n",
       "      <th>SK_ID_CURR</th>\n",
       "      <th>NAME_CONTRACT_TYPE</th>\n",
       "      <th>FLAG_OWN_CAR</th>\n",
       "      <th>FLAG_OWN_REALTY</th>\n",
       "      <th>CNT_CHILDREN</th>\n",
       "      <th>AMT_INCOME_TOTAL</th>\n",
       "      <th>AMT_CREDIT</th>\n",
       "      <th>AMT_ANNUITY</th>\n",
       "      <th>AMT_GOODS_PRICE</th>\n",
       "      <th>REGION_POPULATION_RELATIVE</th>\n",
       "      <th>...</th>\n",
       "      <th>HOUSETYPE_MODE_terraced house</th>\n",
       "      <th>WALLSMATERIAL_MODE_Block</th>\n",
       "      <th>WALLSMATERIAL_MODE_Mixed</th>\n",
       "      <th>WALLSMATERIAL_MODE_Monolithic</th>\n",
       "      <th>WALLSMATERIAL_MODE_Others</th>\n",
       "      <th>WALLSMATERIAL_MODE_Panel</th>\n",
       "      <th>WALLSMATERIAL_MODE_Stone, brick</th>\n",
       "      <th>WALLSMATERIAL_MODE_Wooden</th>\n",
       "      <th>EMERGENCYSTATE_MODE_No</th>\n",
       "      <th>EMERGENCYSTATE_MODE_Yes</th>\n",
       "    </tr>\n",
       "  </thead>\n",
       "  <tbody>\n",
       "    <tr>\n",
       "      <th>0</th>\n",
       "      <td>100002</td>\n",
       "      <td>0.0</td>\n",
       "      <td>0.0</td>\n",
       "      <td>1.0</td>\n",
       "      <td>0.0</td>\n",
       "      <td>0.001512</td>\n",
       "      <td>0.090287</td>\n",
       "      <td>0.090032</td>\n",
       "      <td>0.077441</td>\n",
       "      <td>0.256321</td>\n",
       "      <td>...</td>\n",
       "      <td>0.0</td>\n",
       "      <td>0.0</td>\n",
       "      <td>0.0</td>\n",
       "      <td>0.0</td>\n",
       "      <td>0.0</td>\n",
       "      <td>0.0</td>\n",
       "      <td>1.0</td>\n",
       "      <td>0.0</td>\n",
       "      <td>1.0</td>\n",
       "      <td>0.0</td>\n",
       "    </tr>\n",
       "    <tr>\n",
       "      <th>1</th>\n",
       "      <td>100003</td>\n",
       "      <td>0.0</td>\n",
       "      <td>0.0</td>\n",
       "      <td>0.0</td>\n",
       "      <td>0.0</td>\n",
       "      <td>0.002089</td>\n",
       "      <td>0.311736</td>\n",
       "      <td>0.132924</td>\n",
       "      <td>0.271605</td>\n",
       "      <td>0.045016</td>\n",
       "      <td>...</td>\n",
       "      <td>0.0</td>\n",
       "      <td>1.0</td>\n",
       "      <td>0.0</td>\n",
       "      <td>0.0</td>\n",
       "      <td>0.0</td>\n",
       "      <td>0.0</td>\n",
       "      <td>0.0</td>\n",
       "      <td>0.0</td>\n",
       "      <td>1.0</td>\n",
       "      <td>0.0</td>\n",
       "    </tr>\n",
       "    <tr>\n",
       "      <th>2</th>\n",
       "      <td>100004</td>\n",
       "      <td>1.0</td>\n",
       "      <td>1.0</td>\n",
       "      <td>1.0</td>\n",
       "      <td>0.0</td>\n",
       "      <td>0.000358</td>\n",
       "      <td>0.022472</td>\n",
       "      <td>0.020025</td>\n",
       "      <td>0.023569</td>\n",
       "      <td>0.134897</td>\n",
       "      <td>...</td>\n",
       "      <td>0.0</td>\n",
       "      <td>0.0</td>\n",
       "      <td>0.0</td>\n",
       "      <td>0.0</td>\n",
       "      <td>0.0</td>\n",
       "      <td>0.0</td>\n",
       "      <td>0.0</td>\n",
       "      <td>0.0</td>\n",
       "      <td>0.0</td>\n",
       "      <td>0.0</td>\n",
       "    </tr>\n",
       "    <tr>\n",
       "      <th>3</th>\n",
       "      <td>100006</td>\n",
       "      <td>0.0</td>\n",
       "      <td>0.0</td>\n",
       "      <td>1.0</td>\n",
       "      <td>0.0</td>\n",
       "      <td>0.000935</td>\n",
       "      <td>0.066837</td>\n",
       "      <td>0.109477</td>\n",
       "      <td>0.063973</td>\n",
       "      <td>0.107023</td>\n",
       "      <td>...</td>\n",
       "      <td>0.0</td>\n",
       "      <td>0.0</td>\n",
       "      <td>0.0</td>\n",
       "      <td>0.0</td>\n",
       "      <td>0.0</td>\n",
       "      <td>0.0</td>\n",
       "      <td>0.0</td>\n",
       "      <td>0.0</td>\n",
       "      <td>0.0</td>\n",
       "      <td>0.0</td>\n",
       "    </tr>\n",
       "    <tr>\n",
       "      <th>4</th>\n",
       "      <td>100007</td>\n",
       "      <td>0.0</td>\n",
       "      <td>0.0</td>\n",
       "      <td>1.0</td>\n",
       "      <td>0.0</td>\n",
       "      <td>0.000819</td>\n",
       "      <td>0.116854</td>\n",
       "      <td>0.078975</td>\n",
       "      <td>0.117845</td>\n",
       "      <td>0.392880</td>\n",
       "      <td>...</td>\n",
       "      <td>0.0</td>\n",
       "      <td>0.0</td>\n",
       "      <td>0.0</td>\n",
       "      <td>0.0</td>\n",
       "      <td>0.0</td>\n",
       "      <td>0.0</td>\n",
       "      <td>0.0</td>\n",
       "      <td>0.0</td>\n",
       "      <td>0.0</td>\n",
       "      <td>0.0</td>\n",
       "    </tr>\n",
       "    <tr>\n",
       "      <th>...</th>\n",
       "      <td>...</td>\n",
       "      <td>...</td>\n",
       "      <td>...</td>\n",
       "      <td>...</td>\n",
       "      <td>...</td>\n",
       "      <td>...</td>\n",
       "      <td>...</td>\n",
       "      <td>...</td>\n",
       "      <td>...</td>\n",
       "      <td>...</td>\n",
       "      <td>...</td>\n",
       "      <td>...</td>\n",
       "      <td>...</td>\n",
       "      <td>...</td>\n",
       "      <td>...</td>\n",
       "      <td>...</td>\n",
       "      <td>...</td>\n",
       "      <td>...</td>\n",
       "      <td>...</td>\n",
       "      <td>...</td>\n",
       "      <td>...</td>\n",
       "    </tr>\n",
       "    <tr>\n",
       "      <th>307506</th>\n",
       "      <td>456251</td>\n",
       "      <td>0.0</td>\n",
       "      <td>0.0</td>\n",
       "      <td>0.0</td>\n",
       "      <td>0.0</td>\n",
       "      <td>0.001127</td>\n",
       "      <td>0.052360</td>\n",
       "      <td>0.101176</td>\n",
       "      <td>0.046016</td>\n",
       "      <td>0.446855</td>\n",
       "      <td>...</td>\n",
       "      <td>0.0</td>\n",
       "      <td>0.0</td>\n",
       "      <td>0.0</td>\n",
       "      <td>0.0</td>\n",
       "      <td>0.0</td>\n",
       "      <td>0.0</td>\n",
       "      <td>1.0</td>\n",
       "      <td>0.0</td>\n",
       "      <td>1.0</td>\n",
       "      <td>0.0</td>\n",
       "    </tr>\n",
       "    <tr>\n",
       "      <th>307507</th>\n",
       "      <td>456252</td>\n",
       "      <td>0.0</td>\n",
       "      <td>0.0</td>\n",
       "      <td>1.0</td>\n",
       "      <td>0.0</td>\n",
       "      <td>0.000396</td>\n",
       "      <td>0.056067</td>\n",
       "      <td>0.040505</td>\n",
       "      <td>0.046016</td>\n",
       "      <td>0.344429</td>\n",
       "      <td>...</td>\n",
       "      <td>0.0</td>\n",
       "      <td>0.0</td>\n",
       "      <td>0.0</td>\n",
       "      <td>0.0</td>\n",
       "      <td>0.0</td>\n",
       "      <td>0.0</td>\n",
       "      <td>1.0</td>\n",
       "      <td>0.0</td>\n",
       "      <td>1.0</td>\n",
       "      <td>0.0</td>\n",
       "    </tr>\n",
       "    <tr>\n",
       "      <th>307508</th>\n",
       "      <td>456253</td>\n",
       "      <td>0.0</td>\n",
       "      <td>0.0</td>\n",
       "      <td>1.0</td>\n",
       "      <td>0.0</td>\n",
       "      <td>0.001089</td>\n",
       "      <td>0.157969</td>\n",
       "      <td>0.110618</td>\n",
       "      <td>0.135802</td>\n",
       "      <td>0.065247</td>\n",
       "      <td>...</td>\n",
       "      <td>0.0</td>\n",
       "      <td>0.0</td>\n",
       "      <td>0.0</td>\n",
       "      <td>0.0</td>\n",
       "      <td>0.0</td>\n",
       "      <td>1.0</td>\n",
       "      <td>0.0</td>\n",
       "      <td>0.0</td>\n",
       "      <td>1.0</td>\n",
       "      <td>0.0</td>\n",
       "    </tr>\n",
       "    <tr>\n",
       "      <th>307509</th>\n",
       "      <td>456254</td>\n",
       "      <td>0.0</td>\n",
       "      <td>0.0</td>\n",
       "      <td>1.0</td>\n",
       "      <td>0.0</td>\n",
       "      <td>0.001243</td>\n",
       "      <td>0.081175</td>\n",
       "      <td>0.072499</td>\n",
       "      <td>0.069585</td>\n",
       "      <td>0.069553</td>\n",
       "      <td>...</td>\n",
       "      <td>0.0</td>\n",
       "      <td>0.0</td>\n",
       "      <td>0.0</td>\n",
       "      <td>0.0</td>\n",
       "      <td>0.0</td>\n",
       "      <td>0.0</td>\n",
       "      <td>1.0</td>\n",
       "      <td>0.0</td>\n",
       "      <td>1.0</td>\n",
       "      <td>0.0</td>\n",
       "    </tr>\n",
       "    <tr>\n",
       "      <th>307510</th>\n",
       "      <td>456255</td>\n",
       "      <td>0.0</td>\n",
       "      <td>0.0</td>\n",
       "      <td>0.0</td>\n",
       "      <td>0.0</td>\n",
       "      <td>0.001127</td>\n",
       "      <td>0.157303</td>\n",
       "      <td>0.185258</td>\n",
       "      <td>0.158249</td>\n",
       "      <td>0.635991</td>\n",
       "      <td>...</td>\n",
       "      <td>0.0</td>\n",
       "      <td>0.0</td>\n",
       "      <td>0.0</td>\n",
       "      <td>0.0</td>\n",
       "      <td>0.0</td>\n",
       "      <td>1.0</td>\n",
       "      <td>0.0</td>\n",
       "      <td>0.0</td>\n",
       "      <td>1.0</td>\n",
       "      <td>0.0</td>\n",
       "    </tr>\n",
       "  </tbody>\n",
       "</table>\n",
       "<p>307511 rows × 239 columns</p>\n",
       "</div>"
      ],
      "text/plain": [
       "        SK_ID_CURR  NAME_CONTRACT_TYPE  FLAG_OWN_CAR  FLAG_OWN_REALTY  \\\n",
       "0           100002                 0.0           0.0              1.0   \n",
       "1           100003                 0.0           0.0              0.0   \n",
       "2           100004                 1.0           1.0              1.0   \n",
       "3           100006                 0.0           0.0              1.0   \n",
       "4           100007                 0.0           0.0              1.0   \n",
       "...            ...                 ...           ...              ...   \n",
       "307506      456251                 0.0           0.0              0.0   \n",
       "307507      456252                 0.0           0.0              1.0   \n",
       "307508      456253                 0.0           0.0              1.0   \n",
       "307509      456254                 0.0           0.0              1.0   \n",
       "307510      456255                 0.0           0.0              0.0   \n",
       "\n",
       "        CNT_CHILDREN  AMT_INCOME_TOTAL  AMT_CREDIT  AMT_ANNUITY  \\\n",
       "0                0.0          0.001512    0.090287     0.090032   \n",
       "1                0.0          0.002089    0.311736     0.132924   \n",
       "2                0.0          0.000358    0.022472     0.020025   \n",
       "3                0.0          0.000935    0.066837     0.109477   \n",
       "4                0.0          0.000819    0.116854     0.078975   \n",
       "...              ...               ...         ...          ...   \n",
       "307506           0.0          0.001127    0.052360     0.101176   \n",
       "307507           0.0          0.000396    0.056067     0.040505   \n",
       "307508           0.0          0.001089    0.157969     0.110618   \n",
       "307509           0.0          0.001243    0.081175     0.072499   \n",
       "307510           0.0          0.001127    0.157303     0.185258   \n",
       "\n",
       "        AMT_GOODS_PRICE  REGION_POPULATION_RELATIVE  ...  \\\n",
       "0              0.077441                    0.256321  ...   \n",
       "1              0.271605                    0.045016  ...   \n",
       "2              0.023569                    0.134897  ...   \n",
       "3              0.063973                    0.107023  ...   \n",
       "4              0.117845                    0.392880  ...   \n",
       "...                 ...                         ...  ...   \n",
       "307506         0.046016                    0.446855  ...   \n",
       "307507         0.046016                    0.344429  ...   \n",
       "307508         0.135802                    0.065247  ...   \n",
       "307509         0.069585                    0.069553  ...   \n",
       "307510         0.158249                    0.635991  ...   \n",
       "\n",
       "        HOUSETYPE_MODE_terraced house  WALLSMATERIAL_MODE_Block  \\\n",
       "0                                 0.0                       0.0   \n",
       "1                                 0.0                       1.0   \n",
       "2                                 0.0                       0.0   \n",
       "3                                 0.0                       0.0   \n",
       "4                                 0.0                       0.0   \n",
       "...                               ...                       ...   \n",
       "307506                            0.0                       0.0   \n",
       "307507                            0.0                       0.0   \n",
       "307508                            0.0                       0.0   \n",
       "307509                            0.0                       0.0   \n",
       "307510                            0.0                       0.0   \n",
       "\n",
       "        WALLSMATERIAL_MODE_Mixed  WALLSMATERIAL_MODE_Monolithic  \\\n",
       "0                            0.0                            0.0   \n",
       "1                            0.0                            0.0   \n",
       "2                            0.0                            0.0   \n",
       "3                            0.0                            0.0   \n",
       "4                            0.0                            0.0   \n",
       "...                          ...                            ...   \n",
       "307506                       0.0                            0.0   \n",
       "307507                       0.0                            0.0   \n",
       "307508                       0.0                            0.0   \n",
       "307509                       0.0                            0.0   \n",
       "307510                       0.0                            0.0   \n",
       "\n",
       "        WALLSMATERIAL_MODE_Others  WALLSMATERIAL_MODE_Panel  \\\n",
       "0                             0.0                       0.0   \n",
       "1                             0.0                       0.0   \n",
       "2                             0.0                       0.0   \n",
       "3                             0.0                       0.0   \n",
       "4                             0.0                       0.0   \n",
       "...                           ...                       ...   \n",
       "307506                        0.0                       0.0   \n",
       "307507                        0.0                       0.0   \n",
       "307508                        0.0                       1.0   \n",
       "307509                        0.0                       0.0   \n",
       "307510                        0.0                       1.0   \n",
       "\n",
       "        WALLSMATERIAL_MODE_Stone, brick  WALLSMATERIAL_MODE_Wooden  \\\n",
       "0                                   1.0                        0.0   \n",
       "1                                   0.0                        0.0   \n",
       "2                                   0.0                        0.0   \n",
       "3                                   0.0                        0.0   \n",
       "4                                   0.0                        0.0   \n",
       "...                                 ...                        ...   \n",
       "307506                              1.0                        0.0   \n",
       "307507                              1.0                        0.0   \n",
       "307508                              0.0                        0.0   \n",
       "307509                              1.0                        0.0   \n",
       "307510                              0.0                        0.0   \n",
       "\n",
       "        EMERGENCYSTATE_MODE_No  EMERGENCYSTATE_MODE_Yes  \n",
       "0                          1.0                      0.0  \n",
       "1                          1.0                      0.0  \n",
       "2                          0.0                      0.0  \n",
       "3                          0.0                      0.0  \n",
       "4                          0.0                      0.0  \n",
       "...                        ...                      ...  \n",
       "307506                     1.0                      0.0  \n",
       "307507                     1.0                      0.0  \n",
       "307508                     1.0                      0.0  \n",
       "307509                     1.0                      0.0  \n",
       "307510                     1.0                      0.0  \n",
       "\n",
       "[307511 rows x 239 columns]"
      ]
     },
     "execution_count": 13,
     "metadata": {},
     "output_type": "execute_result"
    }
   ],
   "source": [
    "# idを復元\n",
    "train_df = pd.concat([train_id, train_df],axis=1)\n",
    "train_df"
   ]
  },
  {
   "cell_type": "code",
   "execution_count": 14,
   "metadata": {},
   "outputs": [
    {
     "name": "stdout",
     "output_type": "stream",
     "text": [
      "特微量の訓練データ = 246008  特微量の検証データ = 61503\n",
      "正解ラベルの訓練データ = 246008 正解ラベルの検証データ = 61503\n"
     ]
    }
   ],
   "source": [
    "from sklearn.model_selection import train_test_split\n",
    "X_train, X_test, y_train, y_test = train_test_split(train_df, train_labels, test_size=0.20, random_state=0)\n",
    "print(f\"特微量の訓練データ = {len(X_train)}  特微量の検証データ = {len(X_test)}\")\n",
    "print(f\"正解ラベルの訓練データ = {len(y_train)} 正解ラベルの検証データ = {len(y_test)}\")"
   ]
  },
  {
   "cell_type": "code",
   "execution_count": 15,
   "metadata": {},
   "outputs": [],
   "source": [
    "# pd型に変換。\n",
    "X_train_df = pd.DataFrame(X_train)\n",
    "X_test_df = pd.DataFrame(X_test)\n",
    "\n",
    "# idの保管\n",
    "X_train_id = X_train[\"SK_ID_CURR\"]\n",
    "X_test_id = X_test[\"SK_ID_CURR\"]"
   ]
  },
  {
   "cell_type": "code",
   "execution_count": 16,
   "metadata": {},
   "outputs": [
    {
     "name": "stdout",
     "output_type": "stream",
     "text": [
      "239\n"
     ]
    }
   ],
   "source": [
    "# 分散が0（すべて同じ値）のデータは削除\n",
    "from sklearn.feature_selection import VarianceThreshold\n",
    "\n",
    "sel = VarianceThreshold(threshold=0)\n",
    "sel.fit(X_train_df)\n",
    "\n",
    "# get_supportで保持するデータのみをTrue値、そうでないものはFalse値を返します\n",
    "print(sum(sel.get_support()))"
   ]
  },
  {
   "cell_type": "code",
   "execution_count": 17,
   "metadata": {},
   "outputs": [],
   "source": [
    "# # numpy の場合\n",
    "# X_train = sel.transform(X_train)\n",
    "# X_test = sel.transform(X_test)\n",
    "\n",
    "# pandasのままの場合\n",
    "X_train_df = X_train_df.loc[:, sel.get_support()]\n",
    "X_test_df = X_test_df.loc[:, sel.get_support()]"
   ]
  },
  {
   "cell_type": "code",
   "execution_count": 18,
   "metadata": {},
   "outputs": [
    {
     "name": "stdout",
     "output_type": "stream",
     "text": [
      "36\n"
     ]
    }
   ],
   "source": [
    "# 分散がほぼ0のデータは削除\n",
    "sel = VarianceThreshold(threshold=0.1)\n",
    "sel.fit(X_train_df)\n",
    "\n",
    "print(sum(sel.get_support()))"
   ]
  },
  {
   "cell_type": "code",
   "execution_count": 19,
   "metadata": {},
   "outputs": [],
   "source": [
    "# # numpy の場合\n",
    "# X_train = sel.transform(X_train)\n",
    "# X_test = sel.transform(X_test)\n",
    "\n",
    "# pandasのままの場合\n",
    "X_train_df = X_train_df.loc[:, sel.get_support()]\n",
    "X_test_df = X_test_df.loc[:, sel.get_support()]"
   ]
  },
  {
   "cell_type": "code",
   "execution_count": 20,
   "metadata": {},
   "outputs": [
    {
     "name": "stdout",
     "output_type": "stream",
     "text": [
      "7\n",
      "29\n"
     ]
    }
   ],
   "source": [
    "# 特徴量の相関係数にしきい値を設定して該当しないものを削除\n",
    "\n",
    "threshold = 0.8\n",
    "\n",
    "feat_corr = set()\n",
    "corr_matrix = X_train_df.corr()\n",
    "for i in range(len(corr_matrix.columns)):\n",
    "    for j in range(i):\n",
    "        if abs(corr_matrix.iloc[i, j]) > threshold:\n",
    "            feat_name = corr_matrix.columns[i]\n",
    "            feat_corr.add(feat_name)\n",
    "\n",
    "print(len(set(feat_corr)))\n",
    "\n",
    "X_train_df.drop(labels=feat_corr, axis='columns', inplace=True)\n",
    "X_test_df.drop(labels=feat_corr, axis='columns', inplace=True)\n",
    "\n",
    "print(len(X_train_df.columns))"
   ]
  },
  {
   "cell_type": "code",
   "execution_count": 21,
   "metadata": {},
   "outputs": [
    {
     "data": {
      "text/plain": [
       "<matplotlib.axes._subplots.AxesSubplot at 0x121fecac0>"
      ]
     },
     "execution_count": 21,
     "metadata": {},
     "output_type": "execute_result"
    },
    {
     "data": {
      "image/png": "[encoded data removed]",
      "text/plain": [
       "<Figure size 1440x720 with 1 Axes>"
      ]
     },
     "metadata": {},
     "output_type": "display_data"
    }
   ],
   "source": [
    "from sklearn import tree\n",
    "from sklearn.metrics import mean_squared_error, roc_auc_score\n",
    "\n",
    "MSE_features = []\n",
    "for feature in X_train_df.columns:\n",
    "    clf = tree.DecisionTreeRegressor()\n",
    "    clf.fit(X_train_df[feature].to_frame(), y_train)\n",
    "    y_pred = clf.predict(X_test[feature].to_frame())\n",
    "    MSE_features.append(mean_squared_error(y_test, y_pred))\n",
    "\n",
    "MSE_series = pd.Series(MSE_features)\n",
    "MSE_series.index = X_train_df.columns\n",
    "MSE_series.sort_values(ascending=False).plot(kind='bar', figsize=(20, 10))"
   ]
  },
  {
   "cell_type": "code",
   "execution_count": 22,
   "metadata": {},
   "outputs": [
    {
     "name": "stdout",
     "output_type": "stream",
     "text": [
      "ターゲットと相関関係が強い上位10位\n",
      "NAME_EDUCATION_TYPE_Higher education    -0.057033\n",
      "CODE_GENDER_F                           -0.055213\n",
      "DAYS_EMPLOYED                           -0.044862\n",
      "HOUSETYPE_MODE_block of flats           -0.040627\n",
      "WALLSMATERIAL_MODE_Panel                -0.033045\n",
      "NAME_HOUSING_TYPE_House / apartment     -0.030317\n",
      "NAME_FAMILY_STATUS_Married              -0.025610\n",
      "FLAG_PHONE                              -0.023610\n",
      "FLAG_OWN_CAR                            -0.022705\n",
      "FONDKAPREMONT_MODE_reg oper account     -0.022417\n",
      "WALLSMATERIAL_MODE_Stone, brick         -0.012857\n",
      "NAME_INCOME_TYPE_Commercial associate   -0.010355\n",
      "NAME_TYPE_SUITE_Family                  -0.009160\n",
      "FLAG_OWN_REALTY                         -0.006532\n",
      "WEEKDAY_APPR_PROCESS_START_MONDAY       -0.004670\n",
      "Name: TARGET, dtype: float64\n"
     ]
    }
   ],
   "source": [
    "Xy_train = pd.concat([X_train_df, y_train], axis=1)\n",
    "\n",
    "Xy_heatmap = Xy_train.corr()[\"TARGET\"].sort_values()\n",
    "print(f\"ターゲットと相関関係が強い上位10位\\n{Xy_heatmap.head(15)}\")"
   ]
  },
  {
   "cell_type": "code",
   "execution_count": 23,
   "metadata": {},
   "outputs": [],
   "source": [
    "X_train_pk = Xy_train[[\"NAME_EDUCATION_TYPE_Higher education\", \"CODE_GENDER_F\",\"DAYS_EMPLOYED\",\n",
    "                    \"HOUSETYPE_MODE_block of flats\",\"WALLSMATERIAL_MODE_Panel\",\"NAME_HOUSING_TYPE_House / apartment\"]]\n",
    "\n",
    "X_test_pk = X_test[[\"NAME_EDUCATION_TYPE_Higher education\", \"CODE_GENDER_F\",\"DAYS_EMPLOYED\",\n",
    "                 \"HOUSETYPE_MODE_block of flats\",\"WALLSMATERIAL_MODE_Panel\",\"NAME_HOUSING_TYPE_House / apartment\"]]"
   ]
  },
  {
   "cell_type": "code",
   "execution_count": 24,
   "metadata": {},
   "outputs": [
    {
     "data": {
      "text/plain": [
       "RandomForestClassifier(max_depth=2)"
      ]
     },
     "execution_count": 24,
     "metadata": {},
     "output_type": "execute_result"
    }
   ],
   "source": [
    "from sklearn.ensemble import RandomForestClassifier\n",
    "# アルゴリズムを指定\n",
    "rfc = RandomForestClassifier(max_depth=2)\n",
    "# 学習\n",
    "rfc.fit(X_train_pk, y_train)"
   ]
  },
  {
   "cell_type": "code",
   "execution_count": 25,
   "metadata": {},
   "outputs": [],
   "source": [
    "# 予測\n",
    "rfc_pred = rfc.predict_proba(X_test_pk)[:, 1]\n",
    "rfc_vai = rfc.predict(X_test_pk)"
   ]
  },
  {
   "cell_type": "code",
   "execution_count": 26,
   "metadata": {},
   "outputs": [
    {
     "name": "stderr",
     "output_type": "stream",
     "text": [
      "<ipython-input-26-8c4214d70f78>:2: SettingWithCopyWarning: \n",
      "A value is trying to be set on a copy of a slice from a DataFrame.\n",
      "Try using .loc[row_indexer,col_indexer] = value instead\n",
      "\n",
      "See the caveats in the documentation: https://pandas.pydata.org/pandas-docs/stable/user_guide/indexing.html#returning-a-view-versus-a-copy\n",
      "  submit['TARGET'] = rfc_pred\n"
     ]
    },
    {
     "data": {
      "text/html": [
       "<div>\n",
       "<style scoped>\n",
       "    .dataframe tbody tr th:only-of-type {\n",
       "        vertical-align: middle;\n",
       "    }\n",
       "\n",
       "    .dataframe tbody tr th {\n",
       "        vertical-align: top;\n",
       "    }\n",
       "\n",
       "    .dataframe thead th {\n",
       "        text-align: right;\n",
       "    }\n",
       "</style>\n",
       "<table border=\"1\" class=\"dataframe\">\n",
       "  <thead>\n",
       "    <tr style=\"text-align: right;\">\n",
       "      <th></th>\n",
       "      <th>SK_ID_CURR</th>\n",
       "      <th>TARGET</th>\n",
       "    </tr>\n",
       "  </thead>\n",
       "  <tbody>\n",
       "    <tr>\n",
       "      <th>0</th>\n",
       "      <td>149741</td>\n",
       "      <td>0.086539</td>\n",
       "    </tr>\n",
       "    <tr>\n",
       "      <th>1</th>\n",
       "      <td>363290</td>\n",
       "      <td>0.071438</td>\n",
       "    </tr>\n",
       "    <tr>\n",
       "      <th>2</th>\n",
       "      <td>436006</td>\n",
       "      <td>0.059224</td>\n",
       "    </tr>\n",
       "    <tr>\n",
       "      <th>3</th>\n",
       "      <td>377703</td>\n",
       "      <td>0.097242</td>\n",
       "    </tr>\n",
       "    <tr>\n",
       "      <th>4</th>\n",
       "      <td>188624</td>\n",
       "      <td>0.094429</td>\n",
       "    </tr>\n",
       "    <tr>\n",
       "      <th>...</th>\n",
       "      <td>...</td>\n",
       "      <td>...</td>\n",
       "    </tr>\n",
       "    <tr>\n",
       "      <th>61498</th>\n",
       "      <td>102817</td>\n",
       "      <td>0.090298</td>\n",
       "    </tr>\n",
       "    <tr>\n",
       "      <th>61499</th>\n",
       "      <td>343961</td>\n",
       "      <td>0.096127</td>\n",
       "    </tr>\n",
       "    <tr>\n",
       "      <th>61500</th>\n",
       "      <td>427828</td>\n",
       "      <td>0.079212</td>\n",
       "    </tr>\n",
       "    <tr>\n",
       "      <th>61501</th>\n",
       "      <td>405956</td>\n",
       "      <td>0.092060</td>\n",
       "    </tr>\n",
       "    <tr>\n",
       "      <th>61502</th>\n",
       "      <td>425814</td>\n",
       "      <td>0.050994</td>\n",
       "    </tr>\n",
       "  </tbody>\n",
       "</table>\n",
       "<p>61503 rows × 2 columns</p>\n",
       "</div>"
      ],
      "text/plain": [
       "       SK_ID_CURR    TARGET\n",
       "0          149741  0.086539\n",
       "1          363290  0.071438\n",
       "2          436006  0.059224\n",
       "3          377703  0.097242\n",
       "4          188624  0.094429\n",
       "...           ...       ...\n",
       "61498      102817  0.090298\n",
       "61499      343961  0.096127\n",
       "61500      427828  0.079212\n",
       "61501      405956  0.092060\n",
       "61502      425814  0.050994\n",
       "\n",
       "[61503 rows x 2 columns]"
      ]
     },
     "execution_count": 26,
     "metadata": {},
     "output_type": "execute_result"
    }
   ],
   "source": [
    "submit = X_test[[\"SK_ID_CURR\"]]\n",
    "submit['TARGET'] = rfc_pred\n",
    "# indexのリセット\n",
    "submit.reset_index()\n",
    "# indexの削除\n",
    "submit = submit.reset_index(drop=True)\n",
    "submit"
   ]
  },
  {
   "cell_type": "code",
   "execution_count": 27,
   "metadata": {},
   "outputs": [
    {
     "name": "stdout",
     "output_type": "stream",
     "text": [
      "AUC: 0.6128182498646311\n"
     ]
    }
   ],
   "source": [
    "roc_auc_score\n",
    "print(\"AUC:\",roc_auc_score(y_test, rfc_pred))"
   ]
  },
  {
   "cell_type": "code",
   "execution_count": 28,
   "metadata": {},
   "outputs": [
    {
     "name": "stdout",
     "output_type": "stream",
     "text": [
      "confusion matrix = \n",
      " [[56648     0]\n",
      " [ 4855     0]]\n",
      "accuracy =  0.9210607612636782\n",
      "precision =  0.0\n",
      "recall =  0.0\n",
      "f1 score =  0.0\n"
     ]
    },
    {
     "name": "stderr",
     "output_type": "stream",
     "text": [
      "/opt/anaconda3/lib/python3.8/site-packages/sklearn/metrics/_classification.py:1221: UndefinedMetricWarning: Precision is ill-defined and being set to 0.0 due to no predicted samples. Use `zero_division` parameter to control this behavior.\n",
      "  _warn_prf(average, modifier, msg_start, len(result))\n"
     ]
    }
   ],
   "source": [
    "from sklearn.metrics import confusion_matrix, accuracy_score, precision_score,recall_score,f1_score\n",
    "print('confusion matrix = \\n', confusion_matrix(y_true = y_test, y_pred = rfc_vai))\n",
    "print('accuracy = ',accuracy_score(y_true = y_test , y_pred = rfc_vai))\n",
    "print('precision = ',precision_score(y_true = y_test , y_pred = rfc_vai))\n",
    "print('recall = ',recall_score(y_true = y_test , y_pred = rfc_vai))\n",
    "print('f1 score = ',f1_score(y_true = y_test , y_pred = rfc_vai))"
   ]
  },
  {
   "cell_type": "markdown",
   "metadata": {},
   "source": [
    "### ROCコード　\n",
    "https://www.codexa.net/ml-evaluation-cls/"
   ]
  },
  {
   "cell_type": "code",
   "execution_count": 29,
   "metadata": {},
   "outputs": [],
   "source": [
    "from sklearn.metrics import roc_curve, precision_recall_curve, auc\n",
    "\n",
    "#テストデータがクラス1に属する確率を予測し、その確率からFPR、TPR、閾値を計算\n",
    "Y_score = rfc.predict_proba(X_test_pk)[:,1]\n",
    "fpr, tpr, thresholds = roc_curve(y_true=y_test,y_score=Y_score)"
   ]
  },
  {
   "cell_type": "code",
   "execution_count": 30,
   "metadata": {},
   "outputs": [
    {
     "data": {
      "text/html": [
       "<div>\n",
       "<style scoped>\n",
       "    .dataframe tbody tr th:only-of-type {\n",
       "        vertical-align: middle;\n",
       "    }\n",
       "\n",
       "    .dataframe tbody tr th {\n",
       "        vertical-align: top;\n",
       "    }\n",
       "\n",
       "    .dataframe thead th {\n",
       "        text-align: right;\n",
       "    }\n",
       "</style>\n",
       "<table border=\"1\" class=\"dataframe\">\n",
       "  <thead>\n",
       "    <tr style=\"text-align: right;\">\n",
       "      <th></th>\n",
       "      <th>0</th>\n",
       "      <th>1</th>\n",
       "      <th>2</th>\n",
       "    </tr>\n",
       "  </thead>\n",
       "  <tbody>\n",
       "    <tr>\n",
       "      <th>0</th>\n",
       "      <td>0.000000</td>\n",
       "      <td>0.000000</td>\n",
       "      <td>1.108516</td>\n",
       "    </tr>\n",
       "    <tr>\n",
       "      <th>1</th>\n",
       "      <td>0.011051</td>\n",
       "      <td>0.025747</td>\n",
       "      <td>0.108516</td>\n",
       "    </tr>\n",
       "    <tr>\n",
       "      <th>2</th>\n",
       "      <td>0.011386</td>\n",
       "      <td>0.026365</td>\n",
       "      <td>0.108094</td>\n",
       "    </tr>\n",
       "    <tr>\n",
       "      <th>3</th>\n",
       "      <td>0.012498</td>\n",
       "      <td>0.028836</td>\n",
       "      <td>0.107312</td>\n",
       "    </tr>\n",
       "    <tr>\n",
       "      <th>4</th>\n",
       "      <td>0.012834</td>\n",
       "      <td>0.029660</td>\n",
       "      <td>0.106968</td>\n",
       "    </tr>\n",
       "    <tr>\n",
       "      <th>...</th>\n",
       "      <td>...</td>\n",
       "      <td>...</td>\n",
       "      <td>...</td>\n",
       "    </tr>\n",
       "    <tr>\n",
       "      <th>727</th>\n",
       "      <td>0.991897</td>\n",
       "      <td>0.997322</td>\n",
       "      <td>0.050434</td>\n",
       "    </tr>\n",
       "    <tr>\n",
       "      <th>728</th>\n",
       "      <td>0.992709</td>\n",
       "      <td>0.997734</td>\n",
       "      <td>0.050145</td>\n",
       "    </tr>\n",
       "    <tr>\n",
       "      <th>729</th>\n",
       "      <td>0.993769</td>\n",
       "      <td>0.998146</td>\n",
       "      <td>0.049936</td>\n",
       "    </tr>\n",
       "    <tr>\n",
       "      <th>730</th>\n",
       "      <td>0.995463</td>\n",
       "      <td>0.998146</td>\n",
       "      <td>0.049729</td>\n",
       "    </tr>\n",
       "    <tr>\n",
       "      <th>731</th>\n",
       "      <td>1.000000</td>\n",
       "      <td>1.000000</td>\n",
       "      <td>0.049585</td>\n",
       "    </tr>\n",
       "  </tbody>\n",
       "</table>\n",
       "<p>732 rows × 3 columns</p>\n",
       "</div>"
      ],
      "text/plain": [
       "            0         1         2\n",
       "0    0.000000  0.000000  1.108516\n",
       "1    0.011051  0.025747  0.108516\n",
       "2    0.011386  0.026365  0.108094\n",
       "3    0.012498  0.028836  0.107312\n",
       "4    0.012834  0.029660  0.106968\n",
       "..        ...       ...       ...\n",
       "727  0.991897  0.997322  0.050434\n",
       "728  0.992709  0.997734  0.050145\n",
       "729  0.993769  0.998146  0.049936\n",
       "730  0.995463  0.998146  0.049729\n",
       "731  1.000000  1.000000  0.049585\n",
       "\n",
       "[732 rows x 3 columns]"
      ]
     },
     "execution_count": 30,
     "metadata": {},
     "output_type": "execute_result"
    }
   ],
   "source": [
    "#FPR、TPR、閾値をデータフレームに格納して表示\n",
    "fpr_tpr_thresholds_df = pd.DataFrame([fpr,tpr,thresholds])\n",
    "fpr_tpr_thresholds_df.T"
   ]
  },
  {
   "cell_type": "code",
   "execution_count": 31,
   "metadata": {},
   "outputs": [
    {
     "data": {
      "image/png": "[encoded data removed]",
      "text/plain": [
       "<Figure size 432x288 with 1 Axes>"
      ]
     },
     "metadata": {},
     "output_type": "display_data"
    }
   ],
   "source": [
    "#ROC曲線を描き、AUCを算出\n",
    "plt.plot(fpr,tpr,label='roc curve (AUC = %0.3f)' % auc(fpr,tpr))\n",
    "plt.plot([0,0,1], [0,1,1], linestyle='--', label='ideal line')\n",
    "plt.plot([0, 1], [0, 1], linestyle='--', label='random prediction')\n",
    "plt.legend()\n",
    "plt.xlabel('false positive rate(FPR)')\n",
    "plt.ylabel('true positive rate(TPR)')\n",
    "plt.show()"
   ]
  },
  {
   "cell_type": "code",
   "execution_count": 32,
   "metadata": {},
   "outputs": [
    {
     "data": {
      "image/png": "[encoded data removed]",
      "text/plain": [
       "<Figure size 432x288 with 1 Axes>"
      ]
     },
     "metadata": {},
     "output_type": "display_data"
    }
   ],
   "source": [
    "#PR曲線を描き、AUCを算出\n",
    "probas_pred = rfc.predict_proba(X_test_pk)[:,1]\n",
    "precision, recall, thresholds = precision_recall_curve(y_true=y_test, probas_pred=Y_score)\n",
    " \n",
    "plt.plot(recall,precision,label='precision_recall_curve (AUC = %0.3f)' % auc(recall,precision))\n",
    "plt.plot([0,1], [1,1], linestyle='--', label='ideal line')\n",
    "plt.legend()\n",
    "plt.xlabel('recall')\n",
    "plt.ylabel('precision')\n",
    "plt.show()"
   ]
  },
  {
   "cell_type": "markdown",
   "metadata": {},
   "source": [
    "PR曲線 https://aidemy.net/courses/2010/exercises/HyGxFhIiUxG#:~:text=PR%E6%9B%B2%E7%B7%9A%20%E3%81%A8%E3%81%AF%E3%80%81%E6%A8%AA,%E3%81%99%E3%82%8B%E3%81%93%E3%81%A8%E3%82%92%E8%80%83%E3%81%88%E3%81%BE%E3%81%99%E3%80%82"
   ]
  },
  {
   "cell_type": "markdown",
   "metadata": {},
   "source": [
    "## 【問題3】テストデータに対する推定\n",
    "テストデータ（application_test.csv）に対して推定を行い、Kaggleに提出を行ってください。  \n",
    "正しく提出が行えていれば、精度は低くても構いません。"
   ]
  },
  {
   "cell_type": "code",
   "execution_count": 33,
   "metadata": {},
   "outputs": [],
   "source": [
    "test_df = pd.DataFrame(test1)\n",
    "test_df.columns = features "
   ]
  },
  {
   "cell_type": "code",
   "execution_count": 34,
   "metadata": {},
   "outputs": [],
   "source": [
    "train_pk = train_df[[\"NAME_EDUCATION_TYPE_Higher education\", \"CODE_GENDER_F\", \"DAYS_EMPLOYED\",\n",
    "                    \"HOUSETYPE_MODE_block of flats\", \"WALLSMATERIAL_MODE_Panel\", \"NAME_HOUSING_TYPE_House / apartment\"]]\n",
    "\n",
    "test_pk = test_df[[\"NAME_EDUCATION_TYPE_Higher education\", \"CODE_GENDER_F\", \"DAYS_EMPLOYED\",\n",
    "                    \"HOUSETYPE_MODE_block of flats\", \"WALLSMATERIAL_MODE_Panel\", \"NAME_HOUSING_TYPE_House / apartment\"]]"
   ]
  },
  {
   "cell_type": "code",
   "execution_count": 35,
   "metadata": {},
   "outputs": [],
   "source": [
    "# ランダムフォレスト\n",
    "from sklearn.ensemble import RandomForestClassifier\n",
    "\n",
    "rfc = RandomForestClassifier(max_depth=2)\n",
    "rfc.fit(train_pk, train_labels)\n",
    "rfc_pred = rfc.predict_proba(test_pk)[:, 1]"
   ]
  },
  {
   "cell_type": "code",
   "execution_count": 36,
   "metadata": {},
   "outputs": [
    {
     "name": "stderr",
     "output_type": "stream",
     "text": [
      "<ipython-input-36-a0abfe863fd9>:2: SettingWithCopyWarning: \n",
      "A value is trying to be set on a copy of a slice from a DataFrame.\n",
      "Try using .loc[row_indexer,col_indexer] = value instead\n",
      "\n",
      "See the caveats in the documentation: https://pandas.pydata.org/pandas-docs/stable/user_guide/indexing.html#returning-a-view-versus-a-copy\n",
      "  submit['TARGET'] = rfc_pred\n"
     ]
    },
    {
     "data": {
      "text/html": [
       "<div>\n",
       "<style scoped>\n",
       "    .dataframe tbody tr th:only-of-type {\n",
       "        vertical-align: middle;\n",
       "    }\n",
       "\n",
       "    .dataframe tbody tr th {\n",
       "        vertical-align: top;\n",
       "    }\n",
       "\n",
       "    .dataframe thead th {\n",
       "        text-align: right;\n",
       "    }\n",
       "</style>\n",
       "<table border=\"1\" class=\"dataframe\">\n",
       "  <thead>\n",
       "    <tr style=\"text-align: right;\">\n",
       "      <th></th>\n",
       "      <th>SK_ID_CURR</th>\n",
       "      <th>TARGET</th>\n",
       "    </tr>\n",
       "  </thead>\n",
       "  <tbody>\n",
       "    <tr>\n",
       "      <th>0</th>\n",
       "      <td>100001</td>\n",
       "      <td>0.062270</td>\n",
       "    </tr>\n",
       "    <tr>\n",
       "      <th>1</th>\n",
       "      <td>100005</td>\n",
       "      <td>0.090759</td>\n",
       "    </tr>\n",
       "    <tr>\n",
       "      <th>2</th>\n",
       "      <td>100013</td>\n",
       "      <td>0.065767</td>\n",
       "    </tr>\n",
       "    <tr>\n",
       "      <th>3</th>\n",
       "      <td>100028</td>\n",
       "      <td>0.077861</td>\n",
       "    </tr>\n",
       "    <tr>\n",
       "      <th>4</th>\n",
       "      <td>100038</td>\n",
       "      <td>0.100433</td>\n",
       "    </tr>\n",
       "    <tr>\n",
       "      <th>...</th>\n",
       "      <td>...</td>\n",
       "      <td>...</td>\n",
       "    </tr>\n",
       "    <tr>\n",
       "      <th>48739</th>\n",
       "      <td>456221</td>\n",
       "      <td>0.076203</td>\n",
       "    </tr>\n",
       "    <tr>\n",
       "      <th>48740</th>\n",
       "      <td>456222</td>\n",
       "      <td>0.087786</td>\n",
       "    </tr>\n",
       "    <tr>\n",
       "      <th>48741</th>\n",
       "      <td>456223</td>\n",
       "      <td>0.074737</td>\n",
       "    </tr>\n",
       "    <tr>\n",
       "      <th>48742</th>\n",
       "      <td>456224</td>\n",
       "      <td>0.063748</td>\n",
       "    </tr>\n",
       "    <tr>\n",
       "      <th>48743</th>\n",
       "      <td>456250</td>\n",
       "      <td>0.087786</td>\n",
       "    </tr>\n",
       "  </tbody>\n",
       "</table>\n",
       "<p>48744 rows × 2 columns</p>\n",
       "</div>"
      ],
      "text/plain": [
       "       SK_ID_CURR    TARGET\n",
       "0          100001  0.062270\n",
       "1          100005  0.090759\n",
       "2          100013  0.065767\n",
       "3          100028  0.077861\n",
       "4          100038  0.100433\n",
       "...           ...       ...\n",
       "48739      456221  0.076203\n",
       "48740      456222  0.087786\n",
       "48741      456223  0.074737\n",
       "48742      456224  0.063748\n",
       "48743      456250  0.087786\n",
       "\n",
       "[48744 rows x 2 columns]"
      ]
     },
     "execution_count": 36,
     "metadata": {},
     "output_type": "execute_result"
    }
   ],
   "source": [
    "submit = app_test[[\"SK_ID_CURR\"]]\n",
    "submit['TARGET'] = rfc_pred\n",
    "# indexのリセット\n",
    "# submit.reset_index()\n",
    "# # indexの削除\n",
    "# submit = submit.reset_index(drop=True)\n",
    "submit"
   ]
  },
  {
   "cell_type": "code",
   "execution_count": 37,
   "metadata": {},
   "outputs": [],
   "source": [
    "submit.to_csv('rfc_baseline.csv', index = False)"
   ]
  },
  {
   "cell_type": "markdown",
   "metadata": {},
   "source": [
    "kaggleへ提出し、スコアは『0.61340』でした。"
   ]
  },
  {
   "cell_type": "markdown",
   "metadata": {},
   "source": [
    "# 4.特徴量エンジニアリング  \n",
    "ベースラインモデルを元に、入力する特徴量に様々な工夫を行い精度を向上させていきます。\n",
    "\n",
    "## 【問題4】特徴量エンジニアリング\n",
    "精度を上げるために以下のような観点で 特徴量エンジニアリング（Feature Engineering） を行ってください。  \n",
    "- どの特徴量を使うか  \n",
    "- どう前処理をするか\n",
    "\n",
    "何をした時に検証データに対する評価指標がどのようになったかをまとめてください。最低5パターンの学習・検証を行ってください。  \n",
    "精度が高かったものに関してはテストデータに対しても推定を行い、Kaggleに提出を行ってください。"
   ]
  },
  {
   "cell_type": "markdown",
   "metadata": {},
   "source": [
    "### 4.1.1（解答）ロジスティック回帰による分類　特微量は同じ"
   ]
  },
  {
   "cell_type": "code",
   "execution_count": 38,
   "metadata": {},
   "outputs": [
    {
     "data": {
      "text/plain": [
       "LogisticRegression(max_iter=1000, random_state=0)"
      ]
     },
     "execution_count": 38,
     "metadata": {},
     "output_type": "execute_result"
    }
   ],
   "source": [
    "#ロジスティック回帰モデルのインスタンスを作成し、訓練データで学習\n",
    "from sklearn.linear_model import LogisticRegression\n",
    "lr = LogisticRegression(max_iter=1000, random_state=0)\n",
    "lr.fit(X_train_pk, y_train)\n",
    "from sklearn.linear_model import LogisticRegression\n",
    "lr = LogisticRegression(max_iter=1000, random_state=0)\n",
    "lr.fit(X_train_pk, y_train)"
   ]
  },
  {
   "cell_type": "code",
   "execution_count": 39,
   "metadata": {},
   "outputs": [
    {
     "data": {
      "text/plain": [
       "LogisticRegression(max_iter=1000, random_state=0)"
      ]
     },
     "execution_count": 39,
     "metadata": {},
     "output_type": "execute_result"
    }
   ],
   "source": [
    "LogisticRegression(C=1.0, class_weight=None, dual=False, fit_intercept=True,\n",
    "                   intercept_scaling=1, l1_ratio=None, max_iter=1000,\n",
    "                   multi_class='auto', n_jobs=None, penalty='l2',\n",
    "                   random_state=0, solver='lbfgs', tol=0.0001, verbose=0,\n",
    "                   warm_start=False)"
   ]
  },
  {
   "cell_type": "code",
   "execution_count": 40,
   "metadata": {},
   "outputs": [],
   "source": [
    "#モデルからYの値を予測して出力\n",
    "lr_pred = lr.predict_proba(X_test_pk)[:, 1]\n",
    "Y_pred = lr.predict(X_test_pk)"
   ]
  },
  {
   "cell_type": "code",
   "execution_count": 41,
   "metadata": {},
   "outputs": [
    {
     "name": "stdout",
     "output_type": "stream",
     "text": [
      "AUC: 0.5953551670961774\n"
     ]
    }
   ],
   "source": [
    "roc_auc_score\n",
    "print(\"AUC:\",roc_auc_score(y_test, lr_pred))"
   ]
  },
  {
   "cell_type": "code",
   "execution_count": 42,
   "metadata": {},
   "outputs": [
    {
     "name": "stdout",
     "output_type": "stream",
     "text": [
      "confusion matrix = \n",
      " [[56648     0]\n",
      " [ 4855     0]]\n",
      "accuracy =  0.9210607612636782\n",
      "precision =  0.0\n",
      "recall =  0.0\n",
      "f1 score =  0.0\n"
     ]
    },
    {
     "name": "stderr",
     "output_type": "stream",
     "text": [
      "/opt/anaconda3/lib/python3.8/site-packages/sklearn/metrics/_classification.py:1221: UndefinedMetricWarning: Precision is ill-defined and being set to 0.0 due to no predicted samples. Use `zero_division` parameter to control this behavior.\n",
      "  _warn_prf(average, modifier, msg_start, len(result))\n"
     ]
    }
   ],
   "source": [
    "#混同行列、正解率、適合率、再現率、F値を表示\n",
    "from sklearn.metrics import confusion_matrix, accuracy_score, precision_score,recall_score,f1_score\n",
    "print('confusion matrix = \\n', confusion_matrix(y_true = y_test, y_pred = Y_pred))\n",
    "print('accuracy = ',accuracy_score(y_true = y_test , y_pred = Y_pred))\n",
    "print('precision = ',precision_score(y_true = y_test , y_pred = Y_pred))\n",
    "print('recall = ',recall_score(y_true = y_test , y_pred = Y_pred))\n",
    "print('f1 score = ',f1_score(y_true = y_test , y_pred = Y_pred))"
   ]
  },
  {
   "cell_type": "raw",
   "metadata": {},
   "source": [
    "from sklearn.svm import SVC\n",
    "# SVMを指定\n",
    "clf = SVC(kernel='rbf', C=1.0, probability=True)\n",
    "# 学習\n",
    "clf.fit(X_train_pk, y_train)\n",
    "# 予測\n",
    "clf_pred = clf.predict_proba(X_test_pk)[:, 1]\n",
    "clf_vai = clf.predict(X_test_pk)\n",
    "#評価\n",
    "roc_auc_score\n",
    "print(\"AUC:\",roc_auc_score(y_test, clf_pred))\n",
    "print('confusion matrix = \\n', confusion_matrix(y_true = y_test, y_pred = clf_vai))\n",
    "print('accuracy = ',accuracy_score(y_true = y_test , y_pred = clf_vai))\n",
    "print('precision = ',precision_score(y_true = y_test , y_pred = clf_vai))\n",
    "print('recall = ',recall_score(y_true = y_test , y_pred = clf_vai))\n",
    "print('f1 score = ',f1_score(y_true = y_test , y_pred = clf_vai))"
   ]
  },
  {
   "cell_type": "raw",
   "metadata": {},
   "source": [
    "from sklearn.neighbors import KNeighborsClassifier\n",
    "# k近傍法を指定\n",
    "knc = KNeighborsClassifier(n_neighbors=5) \n",
    "# 学習\n",
    "knc.fit(X_train_pk, y_train)\n",
    "# 予測\n",
    "knc_pred = knc.predict_proba(X_test_pk)[:, 1]\n",
    "knc_vai = knc.predict(X_test_pk)\n",
    "#評価\n",
    "roc_auc_score\n",
    "print(\"AUC:\",roc_auc_score(y_test, knc_pred))\n",
    "print('confusion matrix = \\n', confusion_matrix(y_true = y_test, y_pred = knc_vai))\n",
    "print('accuracy = ',accuracy_score(y_true = y_test , y_pred = knc_vai))\n",
    "print('precision = ',precision_score(y_true = y_test , y_pred = knc_vai))\n",
    "print('recall = ',recall_score(y_true = y_test , y_pred = knc_vai))\n",
    "print('f1 score = ',f1_score(y_true = y_test , y_pred = knc_vai))"
   ]
  },
  {
   "cell_type": "code",
   "execution_count": 43,
   "metadata": {},
   "outputs": [
    {
     "data": {
      "text/html": [
       "<div>\n",
       "<style scoped>\n",
       "    .dataframe tbody tr th:only-of-type {\n",
       "        vertical-align: middle;\n",
       "    }\n",
       "\n",
       "    .dataframe tbody tr th {\n",
       "        vertical-align: top;\n",
       "    }\n",
       "\n",
       "    .dataframe thead th {\n",
       "        text-align: right;\n",
       "    }\n",
       "</style>\n",
       "<table border=\"1\" class=\"dataframe\">\n",
       "  <thead>\n",
       "    <tr style=\"text-align: right;\">\n",
       "      <th></th>\n",
       "      <th>0</th>\n",
       "      <th>1</th>\n",
       "      <th>2</th>\n",
       "    </tr>\n",
       "  </thead>\n",
       "  <tbody>\n",
       "    <tr>\n",
       "      <th>0</th>\n",
       "      <td>0.000000</td>\n",
       "      <td>0.000000</td>\n",
       "      <td>1.156124</td>\n",
       "    </tr>\n",
       "    <tr>\n",
       "      <th>1</th>\n",
       "      <td>0.000018</td>\n",
       "      <td>0.000000</td>\n",
       "      <td>0.156124</td>\n",
       "    </tr>\n",
       "    <tr>\n",
       "      <th>2</th>\n",
       "      <td>0.000300</td>\n",
       "      <td>0.000000</td>\n",
       "      <td>0.154729</td>\n",
       "    </tr>\n",
       "    <tr>\n",
       "      <th>3</th>\n",
       "      <td>0.000300</td>\n",
       "      <td>0.000206</td>\n",
       "      <td>0.154705</td>\n",
       "    </tr>\n",
       "    <tr>\n",
       "      <th>4</th>\n",
       "      <td>0.000318</td>\n",
       "      <td>0.000206</td>\n",
       "      <td>0.154688</td>\n",
       "    </tr>\n",
       "    <tr>\n",
       "      <th>...</th>\n",
       "      <td>...</td>\n",
       "      <td>...</td>\n",
       "      <td>...</td>\n",
       "    </tr>\n",
       "    <tr>\n",
       "      <th>16089</th>\n",
       "      <td>0.987996</td>\n",
       "      <td>0.996498</td>\n",
       "      <td>0.035221</td>\n",
       "    </tr>\n",
       "    <tr>\n",
       "      <th>16090</th>\n",
       "      <td>0.988261</td>\n",
       "      <td>0.996704</td>\n",
       "      <td>0.032403</td>\n",
       "    </tr>\n",
       "    <tr>\n",
       "      <th>16091</th>\n",
       "      <td>0.988331</td>\n",
       "      <td>0.996704</td>\n",
       "      <td>0.030444</td>\n",
       "    </tr>\n",
       "    <tr>\n",
       "      <th>16092</th>\n",
       "      <td>0.994739</td>\n",
       "      <td>0.998558</td>\n",
       "      <td>0.029798</td>\n",
       "    </tr>\n",
       "    <tr>\n",
       "      <th>16093</th>\n",
       "      <td>1.000000</td>\n",
       "      <td>1.000000</td>\n",
       "      <td>0.025448</td>\n",
       "    </tr>\n",
       "  </tbody>\n",
       "</table>\n",
       "<p>16094 rows × 3 columns</p>\n",
       "</div>"
      ],
      "text/plain": [
       "              0         1         2\n",
       "0      0.000000  0.000000  1.156124\n",
       "1      0.000018  0.000000  0.156124\n",
       "2      0.000300  0.000000  0.154729\n",
       "3      0.000300  0.000206  0.154705\n",
       "4      0.000318  0.000206  0.154688\n",
       "...         ...       ...       ...\n",
       "16089  0.987996  0.996498  0.035221\n",
       "16090  0.988261  0.996704  0.032403\n",
       "16091  0.988331  0.996704  0.030444\n",
       "16092  0.994739  0.998558  0.029798\n",
       "16093  1.000000  1.000000  0.025448\n",
       "\n",
       "[16094 rows x 3 columns]"
      ]
     },
     "execution_count": 43,
     "metadata": {},
     "output_type": "execute_result"
    }
   ],
   "source": [
    "# FPR、TPR、閾値を計算\n",
    "Y_score = lr.predict_proba(X_test_pk)[:,1]\n",
    "fpr, tpr, thresholds = roc_curve(y_true=y_test,y_score=Y_score)\n",
    "fpr_tpr_thresholds_df = pd.DataFrame([fpr,tpr,thresholds])\n",
    "fpr_tpr_thresholds_df.T"
   ]
  },
  {
   "cell_type": "code",
   "execution_count": 44,
   "metadata": {},
   "outputs": [
    {
     "data": {
      "image/png": "[encoded data removed]",
      "text/plain": [
       "<Figure size 432x288 with 1 Axes>"
      ]
     },
     "metadata": {},
     "output_type": "display_data"
    }
   ],
   "source": [
    "#ROC曲線を描き、AUCを算出\n",
    "plt.plot(fpr,tpr,label='roc curve (AUC = %0.3f)' % auc(fpr,tpr))\n",
    "plt.plot([0,0,1], [0,1,1], linestyle='--', label='ideal line')\n",
    "plt.plot([0, 1], [0, 1], linestyle='--', label='random prediction')\n",
    "plt.legend()\n",
    "plt.xlabel('false positive rate(FPR)')\n",
    "plt.ylabel('true positive rate(TPR)')\n",
    "plt.show()"
   ]
  },
  {
   "cell_type": "code",
   "execution_count": 45,
   "metadata": {},
   "outputs": [
    {
     "data": {
      "image/png": "[encoded data removed]",
      "text/plain": [
       "<Figure size 432x288 with 1 Axes>"
      ]
     },
     "metadata": {},
     "output_type": "display_data"
    }
   ],
   "source": [
    "#PR曲線を描き、AUCを算出\n",
    "probas_pred = rfc.predict_proba(X_test_pk)[:,1]\n",
    "precision, recall, thresholds = precision_recall_curve(y_true=y_test, probas_pred=Y_score)\n",
    " \n",
    "plt.plot(recall,precision,label='precision_recall_curve (AUC = %0.3f)' % auc(recall,precision))\n",
    "plt.plot([0,1], [1,1], linestyle='--', label='ideal line')\n",
    "plt.legend()\n",
    "plt.xlabel('recall')\n",
    "plt.ylabel('precision')\n",
    "plt.show()"
   ]
  },
  {
   "cell_type": "markdown",
   "metadata": {},
   "source": [
    "ロジスティック回帰はランダムフォレストよりも数値が少し程落ちた。また全ての予測がnagativeを示しており、正しく機能していない可能性ある。\n",
    "K近傍法はロジスティック回帰よりも更に下回る結果を出したが、計測に時間が掛かりすぎるため使用に適さない。\n",
    "SVMは一度も計測できないほど時間がかかる為、今回の課題向きではない。\n",
    "結果、学習方法としてはランダムフォレストが有効かと思われる。"
   ]
  },
  {
   "cell_type": "markdown",
   "metadata": {},
   "source": [
    "## 4.2.1（解答）特微量を最大化して確認する"
   ]
  },
  {
   "cell_type": "code",
   "execution_count": 48,
   "metadata": {},
   "outputs": [
    {
     "name": "stdout",
     "output_type": "stream",
     "text": [
      "AUC: 0.7107328291531958\n",
      "confusion matrix = \n",
      " [[56648     0]\n",
      " [ 4855     0]]\n",
      "accuracy =  0.9210607612636782\n",
      "precision =  0.0\n",
      "recall =  0.0\n",
      "f1 score =  0.0\n"
     ]
    },
    {
     "name": "stderr",
     "output_type": "stream",
     "text": [
      "/opt/anaconda3/lib/python3.8/site-packages/sklearn/metrics/_classification.py:1221: UndefinedMetricWarning: Precision is ill-defined and being set to 0.0 due to no predicted samples. Use `zero_division` parameter to control this behavior.\n",
      "  _warn_prf(average, modifier, msg_start, len(result))\n"
     ]
    }
   ],
   "source": [
    "# ランダムフォレストを指定\n",
    "rfc1 = RandomForestClassifier(max_depth=2)\n",
    "# 学習\n",
    "rfc.fit(X_train, y_train)\n",
    "# 予測\n",
    "rfc_pred = rfc.predict_proba(X_test)[:, 1]\n",
    "rfc_vai = rfc.predict(X_test)\n",
    "#評価\n",
    "roc_auc_score\n",
    "print(\"AUC:\",roc_auc_score(y_test, rfc_pred))\n",
    "print('confusion matrix = \\n', confusion_matrix(y_true = y_test, y_pred = rfc_vai))\n",
    "print('accuracy = ',accuracy_score(y_true = y_test, y_pred = rfc_vai))\n",
    "print('precision = ',precision_score(y_true = y_test, y_pred = rfc_vai))\n",
    "print('recall = ',recall_score(y_true = y_test, y_pred = rfc_vai))\n",
    "print('f1 score = ',f1_score(y_true = y_test, y_pred = rfc_vai))"
   ]
  },
  {
   "cell_type": "code",
   "execution_count": 49,
   "metadata": {},
   "outputs": [
    {
     "data": {
      "text/html": [
       "<div>\n",
       "<style scoped>\n",
       "    .dataframe tbody tr th:only-of-type {\n",
       "        vertical-align: middle;\n",
       "    }\n",
       "\n",
       "    .dataframe tbody tr th {\n",
       "        vertical-align: top;\n",
       "    }\n",
       "\n",
       "    .dataframe thead th {\n",
       "        text-align: right;\n",
       "    }\n",
       "</style>\n",
       "<table border=\"1\" class=\"dataframe\">\n",
       "  <thead>\n",
       "    <tr style=\"text-align: right;\">\n",
       "      <th></th>\n",
       "      <th>0</th>\n",
       "      <th>1</th>\n",
       "      <th>2</th>\n",
       "    </tr>\n",
       "  </thead>\n",
       "  <tbody>\n",
       "    <tr>\n",
       "      <th>0</th>\n",
       "      <td>0.000000</td>\n",
       "      <td>0.000000</td>\n",
       "      <td>1.129280</td>\n",
       "    </tr>\n",
       "    <tr>\n",
       "      <th>1</th>\n",
       "      <td>0.000018</td>\n",
       "      <td>0.000000</td>\n",
       "      <td>0.129280</td>\n",
       "    </tr>\n",
       "    <tr>\n",
       "      <th>2</th>\n",
       "      <td>0.000018</td>\n",
       "      <td>0.000206</td>\n",
       "      <td>0.128878</td>\n",
       "    </tr>\n",
       "    <tr>\n",
       "      <th>3</th>\n",
       "      <td>0.000035</td>\n",
       "      <td>0.000206</td>\n",
       "      <td>0.128823</td>\n",
       "    </tr>\n",
       "    <tr>\n",
       "      <th>4</th>\n",
       "      <td>0.000035</td>\n",
       "      <td>0.000618</td>\n",
       "      <td>0.127878</td>\n",
       "    </tr>\n",
       "    <tr>\n",
       "      <th>...</th>\n",
       "      <td>...</td>\n",
       "      <td>...</td>\n",
       "      <td>...</td>\n",
       "    </tr>\n",
       "    <tr>\n",
       "      <th>11264</th>\n",
       "      <td>0.999700</td>\n",
       "      <td>0.999588</td>\n",
       "      <td>0.055012</td>\n",
       "    </tr>\n",
       "    <tr>\n",
       "      <th>11265</th>\n",
       "      <td>0.999700</td>\n",
       "      <td>0.999794</td>\n",
       "      <td>0.055011</td>\n",
       "    </tr>\n",
       "    <tr>\n",
       "      <th>11266</th>\n",
       "      <td>0.999912</td>\n",
       "      <td>0.999794</td>\n",
       "      <td>0.054337</td>\n",
       "    </tr>\n",
       "    <tr>\n",
       "      <th>11267</th>\n",
       "      <td>0.999912</td>\n",
       "      <td>1.000000</td>\n",
       "      <td>0.054199</td>\n",
       "    </tr>\n",
       "    <tr>\n",
       "      <th>11268</th>\n",
       "      <td>1.000000</td>\n",
       "      <td>1.000000</td>\n",
       "      <td>0.053035</td>\n",
       "    </tr>\n",
       "  </tbody>\n",
       "</table>\n",
       "<p>11269 rows × 3 columns</p>\n",
       "</div>"
      ],
      "text/plain": [
       "              0         1         2\n",
       "0      0.000000  0.000000  1.129280\n",
       "1      0.000018  0.000000  0.129280\n",
       "2      0.000018  0.000206  0.128878\n",
       "3      0.000035  0.000206  0.128823\n",
       "4      0.000035  0.000618  0.127878\n",
       "...         ...       ...       ...\n",
       "11264  0.999700  0.999588  0.055012\n",
       "11265  0.999700  0.999794  0.055011\n",
       "11266  0.999912  0.999794  0.054337\n",
       "11267  0.999912  1.000000  0.054199\n",
       "11268  1.000000  1.000000  0.053035\n",
       "\n",
       "[11269 rows x 3 columns]"
      ]
     },
     "execution_count": 49,
     "metadata": {},
     "output_type": "execute_result"
    }
   ],
   "source": [
    "# FPR、TPR、閾値を計算\n",
    "Y_score = ｒｆｃ.predict_proba(X_test)[:,1]\n",
    "fpr, tpr, thresholds = roc_curve(y_true=y_test, y_score=Y_score)\n",
    "fpr_tpr_thresholds_df = pd.DataFrame([fpr,tpr,thresholds])\n",
    "fpr_tpr_thresholds_df.T"
   ]
  },
  {
   "cell_type": "code",
   "execution_count": 50,
   "metadata": {},
   "outputs": [
    {
     "data": {
      "image/png": "[encoded data removed]",
      "text/plain": [
       "<Figure size 432x288 with 1 Axes>"
      ]
     },
     "metadata": {},
     "output_type": "display_data"
    }
   ],
   "source": [
    "#ROC曲線を描き、AUCを算出\n",
    "plt.plot(fpr,tpr,label='roc curve (AUC = %0.3f)' % auc(fpr,tpr))\n",
    "plt.plot([0,0,1], [0,1,1], linestyle='--', label='ideal line')\n",
    "plt.plot([0, 1], [0, 1], linestyle='--', label='random prediction')\n",
    "plt.legend()\n",
    "plt.xlabel('false positive rate(FPR)')\n",
    "plt.ylabel('true positive rate(TPR)')\n",
    "plt.show()"
   ]
  },
  {
   "cell_type": "code",
   "execution_count": 51,
   "metadata": {},
   "outputs": [
    {
     "data": {
      "image/png": "[encoded data removed]",
      "text/plain": [
       "<Figure size 432x288 with 1 Axes>"
      ]
     },
     "metadata": {},
     "output_type": "display_data"
    }
   ],
   "source": [
    "#PR曲線を描き、AUCを算出\n",
    "probas_pred = rfc.predict_proba(X_test)[:,1]\n",
    "precision, recall, thresholds = precision_recall_curve(y_true=y_test, probas_pred=Y_score)\n",
    " \n",
    "plt.plot(recall,precision,label='precision_recall_curve (AUC = %0.3f)' % auc(recall,precision))\n",
    "plt.plot([0,1], [1,1], linestyle='--', label='ideal line')\n",
    "plt.legend()\n",
    "plt.xlabel('recall')\n",
    "plt.ylabel('precision')\n",
    "plt.show()"
   ]
  },
  {
   "cell_type": "markdown",
   "metadata": {},
   "source": [
    "全ての特徴量を学習することでかなりスコアが伸びた。また正規化を行ったデータの方が少しスコアが良かった。"
   ]
  },
  {
   "cell_type": "markdown",
   "metadata": {},
   "source": [
    "## 4.3.1（解答）特徴量を成るべくけずる３０個厳選（分散が程々にある）"
   ]
  },
  {
   "cell_type": "markdown",
   "metadata": {},
   "source": [
    "# ココから "
   ]
  },
  {
   "cell_type": "code",
   "execution_count": null,
   "metadata": {},
   "outputs": [],
   "source": [
    "x10"
   ]
  },
  {
   "cell_type": "code",
   "execution_count": 52,
   "metadata": {},
   "outputs": [
    {
     "name": "stdout",
     "output_type": "stream",
     "text": [
      "        SK_ID_CURR  NAME_CONTRACT_TYPE  FLAG_OWN_CAR  FLAG_OWN_REALTY  \\\n",
      "307429      456162                 0.0           0.0              0.0   \n",
      "30132       134978                 0.0           0.0              0.0   \n",
      "188859      318952                 0.0           1.0              0.0   \n",
      "225559      361264                 0.0           0.0              1.0   \n",
      "138524      260639                 0.0           0.0              1.0   \n",
      "147117      270576                 0.0           1.0              1.0   \n",
      "240304      378296                 0.0           0.0              1.0   \n",
      "8672        110095                 0.0           1.0              1.0   \n",
      "96944       212537                 1.0           0.0              1.0   \n",
      "273792      417346                 0.0           1.0              1.0   \n",
      "238761      376566                 1.0           1.0              0.0   \n",
      "23618       127485                 0.0           0.0              0.0   \n",
      "199079      330799                 1.0           1.0              1.0   \n",
      "161863      287645                 0.0           1.0              0.0   \n",
      "242033      380230                 0.0           0.0              0.0   \n",
      "246544      385336                 0.0           1.0              1.0   \n",
      "303025      451073                 0.0           0.0              1.0   \n",
      "52809       161166                 0.0           0.0              1.0   \n",
      "71106       182469                 0.0           0.0              0.0   \n",
      "103240      219830                 0.0           0.0              1.0   \n",
      "10509       112242                 0.0           1.0              1.0   \n",
      "178785      307179                 0.0           0.0              1.0   \n",
      "33931       139324                 0.0           1.0              0.0   \n",
      "164065      290189                 0.0           0.0              1.0   \n",
      "84481       198009                 0.0           0.0              0.0   \n",
      "218207      352809                 0.0           0.0              1.0   \n",
      "167567      294249                 0.0           1.0              1.0   \n",
      "1206        101421                 0.0           0.0              1.0   \n",
      "305634      454107                 0.0           0.0              0.0   \n",
      "5483        106418                 0.0           0.0              1.0   \n",
      "\n",
      "        CNT_CHILDREN  AMT_INCOME_TOTAL  AMT_CREDIT  AMT_ANNUITY  \\\n",
      "307429      0.000000          0.000742    0.163753     0.082380   \n",
      "30132       0.000000          0.000550    0.082478     0.049947   \n",
      "188859      0.000000          0.001320    0.124717     0.056283   \n",
      "225559      0.000000          0.002089    0.192020     0.106687   \n",
      "138524      0.000000          0.001012    0.157303     0.079133   \n",
      "147117      0.000000          0.001127    0.146067     0.111899   \n",
      "240304      0.000000          0.000396    0.038157     0.054282   \n",
      "8672        0.000000          0.000550    0.056669     0.067515   \n",
      "96944       0.000000          0.001166    0.039326     0.033187   \n",
      "273792      0.000000          0.000550    0.325843     0.138996   \n",
      "238761      0.000000          0.001320    0.033708     0.028800   \n",
      "23618       0.000000          0.000550    0.033708     0.041190   \n",
      "199079      0.000000          0.001704    0.157303     0.125325   \n",
      "161863      0.105263          0.004012    0.106742     0.212390   \n",
      "242033      0.052632          0.001243    0.236725     0.147806   \n",
      "246544      0.105263          0.000742    0.170928     0.114760   \n",
      "303025      0.000000          0.000242    0.000742     0.012425   \n",
      "52809       0.000000          0.000473    0.022472     0.031643   \n",
      "71106       0.000000          0.000742    0.310449     0.141120   \n",
      "103240      0.000000          0.000935    0.092192     0.055107   \n",
      "10509       0.000000          0.000592    0.046778     0.043366   \n",
      "178785      0.052632          0.000627    0.161303     0.081134   \n",
      "33931       0.000000          0.002858    0.138944     0.113461   \n",
      "164065      0.000000          0.001897    0.044944     0.021253   \n",
      "84481       0.052632          0.001127    0.213483     0.173429   \n",
      "218207      0.000000          0.000742    0.197404     0.089488   \n",
      "167567      0.052632          0.000742    0.057747     0.049210   \n",
      "1206        0.052632          0.000935    0.157303     0.105739   \n",
      "305634      0.000000          0.000627    0.161061     0.070814   \n",
      "5483        0.000000          0.000358    0.157303     0.079133   \n",
      "\n",
      "        AMT_GOODS_PRICE  REGION_POPULATION_RELATIVE  ...  \\\n",
      "307429         0.135802                    0.268617  ...   \n",
      "30132          0.070707                    0.344429  ...   \n",
      "188859         0.103255                    0.491595  ...   \n",
      "225559         0.159371                    0.635991  ...   \n",
      "138524         0.158249                    0.361433  ...   \n",
      "147117         0.147026                    0.344429  ...   \n",
      "240304         0.034792                    0.392880  ...   \n",
      "8672           0.052750                    0.094575  ...   \n",
      "96944          0.040404                    0.048783  ...   \n",
      "273792         0.326599                    0.392880  ...   \n",
      "238761         0.034792                    0.392880  ...   \n",
      "23618          0.034792                    0.115414  ...   \n",
      "199079         0.158249                    0.257000  ...   \n",
      "161863         0.103255                    1.000000  ...   \n",
      "242033         0.217733                    0.226010  ...   \n",
      "246544         0.136925                    0.090864  ...   \n",
      "303025         0.001122                    0.361433  ...   \n",
      "52809          0.023569                    0.206749  ...   \n",
      "71106          0.270483                    0.309272  ...   \n",
      "103240         0.075196                    0.282797  ...   \n",
      "10509          0.029181                    0.336758  ...   \n",
      "178785         0.113356                    0.097483  ...   \n",
      "33931          0.102132                    0.109945  ...   \n",
      "164065         0.046016                    0.097136  ...   \n",
      "84481          0.214366                    0.282797  ...   \n",
      "218207         0.163861                    0.282797  ...   \n",
      "167567         0.049383                    0.138276  ...   \n",
      "1206           0.158249                    0.134897  ...   \n",
      "305634         0.133558                    0.429796  ...   \n",
      "5483           0.158249                    0.197042  ...   \n",
      "\n",
      "        HOUSETYPE_MODE_terraced house  WALLSMATERIAL_MODE_Block  \\\n",
      "307429                            0.0                       1.0   \n",
      "30132                             0.0                       1.0   \n",
      "188859                            0.0                       0.0   \n",
      "225559                            0.0                       0.0   \n",
      "138524                            0.0                       0.0   \n",
      "147117                            0.0                       0.0   \n",
      "240304                            0.0                       0.0   \n",
      "8672                              0.0                       0.0   \n",
      "96944                             0.0                       0.0   \n",
      "273792                            0.0                       0.0   \n",
      "238761                            0.0                       0.0   \n",
      "23618                             0.0                       0.0   \n",
      "199079                            0.0                       0.0   \n",
      "161863                            0.0                       0.0   \n",
      "242033                            0.0                       0.0   \n",
      "246544                            0.0                       0.0   \n",
      "303025                            0.0                       0.0   \n",
      "52809                             0.0                       0.0   \n",
      "71106                             0.0                       0.0   \n",
      "103240                            0.0                       0.0   \n",
      "10509                             0.0                       0.0   \n",
      "178785                            0.0                       0.0   \n",
      "33931                             0.0                       0.0   \n",
      "164065                            0.0                       0.0   \n",
      "84481                             0.0                       0.0   \n",
      "218207                            0.0                       0.0   \n",
      "167567                            0.0                       0.0   \n",
      "1206                              0.0                       0.0   \n",
      "305634                            0.0                       0.0   \n",
      "5483                              0.0                       0.0   \n",
      "\n",
      "        WALLSMATERIAL_MODE_Mixed  WALLSMATERIAL_MODE_Monolithic  \\\n",
      "307429                       0.0                            0.0   \n",
      "30132                        0.0                            0.0   \n",
      "188859                       0.0                            0.0   \n",
      "225559                       0.0                            0.0   \n",
      "138524                       0.0                            0.0   \n",
      "147117                       0.0                            0.0   \n",
      "240304                       0.0                            0.0   \n",
      "8672                         0.0                            0.0   \n",
      "96944                        0.0                            0.0   \n",
      "273792                       0.0                            0.0   \n",
      "238761                       0.0                            0.0   \n",
      "23618                        0.0                            0.0   \n",
      "199079                       0.0                            0.0   \n",
      "161863                       0.0                            0.0   \n",
      "242033                       0.0                            0.0   \n",
      "246544                       0.0                            0.0   \n",
      "303025                       0.0                            0.0   \n",
      "52809                        0.0                            0.0   \n",
      "71106                        0.0                            0.0   \n",
      "103240                       0.0                            0.0   \n",
      "10509                        0.0                            0.0   \n",
      "178785                       0.0                            0.0   \n",
      "33931                        0.0                            0.0   \n",
      "164065                       0.0                            0.0   \n",
      "84481                        0.0                            0.0   \n",
      "218207                       0.0                            0.0   \n",
      "167567                       0.0                            0.0   \n",
      "1206                         0.0                            0.0   \n",
      "305634                       0.0                            0.0   \n",
      "5483                         0.0                            0.0   \n",
      "\n",
      "        WALLSMATERIAL_MODE_Others  WALLSMATERIAL_MODE_Panel  \\\n",
      "307429                        0.0                       0.0   \n",
      "30132                         0.0                       0.0   \n",
      "188859                        0.0                       0.0   \n",
      "225559                        0.0                       0.0   \n",
      "138524                        0.0                       1.0   \n",
      "147117                        0.0                       0.0   \n",
      "240304                        0.0                       0.0   \n",
      "8672                          0.0                       0.0   \n",
      "96944                         0.0                       0.0   \n",
      "273792                        0.0                       0.0   \n",
      "238761                        0.0                       0.0   \n",
      "23618                         0.0                       0.0   \n",
      "199079                        0.0                       0.0   \n",
      "161863                        0.0                       1.0   \n",
      "242033                        0.0                       0.0   \n",
      "246544                        0.0                       0.0   \n",
      "303025                        0.0                       0.0   \n",
      "52809                         0.0                       0.0   \n",
      "71106                         0.0                       0.0   \n",
      "103240                        0.0                       0.0   \n",
      "10509                         0.0                       0.0   \n",
      "178785                        0.0                       0.0   \n",
      "33931                         0.0                       0.0   \n",
      "164065                        0.0                       0.0   \n",
      "84481                         0.0                       0.0   \n",
      "218207                        0.0                       0.0   \n",
      "167567                        0.0                       0.0   \n",
      "1206                          0.0                       0.0   \n",
      "305634                        0.0                       0.0   \n",
      "5483                          0.0                       0.0   \n",
      "\n",
      "        WALLSMATERIAL_MODE_Stone, brick  WALLSMATERIAL_MODE_Wooden  \\\n",
      "307429                              0.0                        0.0   \n",
      "30132                               0.0                        0.0   \n",
      "188859                              0.0                        0.0   \n",
      "225559                              0.0                        0.0   \n",
      "138524                              0.0                        0.0   \n",
      "147117                              0.0                        0.0   \n",
      "240304                              0.0                        0.0   \n",
      "8672                                0.0                        0.0   \n",
      "96944                               1.0                        0.0   \n",
      "273792                              0.0                        0.0   \n",
      "238761                              0.0                        0.0   \n",
      "23618                               0.0                        0.0   \n",
      "199079                              0.0                        0.0   \n",
      "161863                              0.0                        0.0   \n",
      "242033                              0.0                        0.0   \n",
      "246544                              0.0                        0.0   \n",
      "303025                              0.0                        0.0   \n",
      "52809                               0.0                        0.0   \n",
      "71106                               0.0                        0.0   \n",
      "103240                              0.0                        0.0   \n",
      "10509                               0.0                        0.0   \n",
      "178785                              1.0                        0.0   \n",
      "33931                               0.0                        0.0   \n",
      "164065                              1.0                        0.0   \n",
      "84481                               1.0                        0.0   \n",
      "218207                              0.0                        0.0   \n",
      "167567                              0.0                        0.0   \n",
      "1206                                0.0                        0.0   \n",
      "305634                              0.0                        0.0   \n",
      "5483                                0.0                        0.0   \n",
      "\n",
      "        EMERGENCYSTATE_MODE_No  EMERGENCYSTATE_MODE_Yes  \n",
      "307429                     1.0                      0.0  \n",
      "30132                      1.0                      0.0  \n",
      "188859                     0.0                      0.0  \n",
      "225559                     1.0                      0.0  \n",
      "138524                     1.0                      0.0  \n",
      "147117                     0.0                      0.0  \n",
      "240304                     0.0                      0.0  \n",
      "8672                       0.0                      0.0  \n",
      "96944                      1.0                      0.0  \n",
      "273792                     0.0                      0.0  \n",
      "238761                     0.0                      0.0  \n",
      "23618                      0.0                      0.0  \n",
      "199079                     0.0                      0.0  \n",
      "161863                     1.0                      0.0  \n",
      "242033                     0.0                      0.0  \n",
      "246544                     0.0                      0.0  \n",
      "303025                     0.0                      0.0  \n",
      "52809                      0.0                      0.0  \n",
      "71106                      0.0                      0.0  \n",
      "103240                     0.0                      0.0  \n",
      "10509                      0.0                      0.0  \n",
      "178785                     1.0                      0.0  \n",
      "33931                      0.0                      0.0  \n",
      "164065                     1.0                      0.0  \n",
      "84481                      1.0                      0.0  \n",
      "218207                     0.0                      0.0  \n",
      "167567                     0.0                      0.0  \n",
      "1206                       0.0                      0.0  \n",
      "305634                     0.0                      0.0  \n",
      "5483                       0.0                      0.0  \n",
      "\n",
      "[30 rows x 239 columns]\n"
     ]
    },
    {
     "ename": "KeyError",
     "evalue": "'feature'",
     "output_type": "error",
     "traceback": [
      "\u001b[0;31m---------------------------------------------------------------------------\u001b[0m",
      "\u001b[0;31mKeyError\u001b[0m                                  Traceback (most recent call last)",
      "\u001b[0;32m/opt/anaconda3/lib/python3.8/site-packages/pandas/core/indexes/base.py\u001b[0m in \u001b[0;36mget_loc\u001b[0;34m(self, key, method, tolerance)\u001b[0m\n\u001b[1;32m   2645\u001b[0m             \u001b[0;32mtry\u001b[0m\u001b[0;34m:\u001b[0m\u001b[0;34m\u001b[0m\u001b[0;34m\u001b[0m\u001b[0m\n\u001b[0;32m-> 2646\u001b[0;31m                 \u001b[0;32mreturn\u001b[0m \u001b[0mself\u001b[0m\u001b[0;34m.\u001b[0m\u001b[0m_engine\u001b[0m\u001b[0;34m.\u001b[0m\u001b[0mget_loc\u001b[0m\u001b[0;34m(\u001b[0m\u001b[0mkey\u001b[0m\u001b[0;34m)\u001b[0m\u001b[0;34m\u001b[0m\u001b[0;34m\u001b[0m\u001b[0m\n\u001b[0m\u001b[1;32m   2647\u001b[0m             \u001b[0;32mexcept\u001b[0m \u001b[0mKeyError\u001b[0m\u001b[0;34m:\u001b[0m\u001b[0;34m\u001b[0m\u001b[0;34m\u001b[0m\u001b[0m\n",
      "\u001b[0;32mpandas/_libs/index.pyx\u001b[0m in \u001b[0;36mpandas._libs.index.IndexEngine.get_loc\u001b[0;34m()\u001b[0m\n",
      "\u001b[0;32mpandas/_libs/index.pyx\u001b[0m in \u001b[0;36mpandas._libs.index.IndexEngine.get_loc\u001b[0;34m()\u001b[0m\n",
      "\u001b[0;32mpandas/_libs/hashtable_class_helper.pxi\u001b[0m in \u001b[0;36mpandas._libs.hashtable.PyObjectHashTable.get_item\u001b[0;34m()\u001b[0m\n",
      "\u001b[0;32mpandas/_libs/hashtable_class_helper.pxi\u001b[0m in \u001b[0;36mpandas._libs.hashtable.PyObjectHashTable.get_item\u001b[0;34m()\u001b[0m\n",
      "\u001b[0;31mKeyError\u001b[0m: 'feature'",
      "\nDuring handling of the above exception, another exception occurred:\n",
      "\u001b[0;31mKeyError\u001b[0m                                  Traceback (most recent call last)",
      "\u001b[0;32m<ipython-input-52-1114ace3b880>\u001b[0m in \u001b[0;36m<module>\u001b[0;34m\u001b[0m\n\u001b[1;32m      6\u001b[0m \u001b[0mcolumns\u001b[0m \u001b[0;34m=\u001b[0m \u001b[0mX_train\u001b[0m\u001b[0;34m.\u001b[0m\u001b[0miloc\u001b[0m\u001b[0;34m[\u001b[0m\u001b[0;34m:\u001b[0m\u001b[0mn_display\u001b[0m\u001b[0;34m,\u001b[0m\u001b[0;34m:\u001b[0m\u001b[0;34m]\u001b[0m\u001b[0;34m\u001b[0m\u001b[0;34m\u001b[0m\u001b[0m\n\u001b[1;32m      7\u001b[0m \u001b[0mprint\u001b[0m\u001b[0;34m(\u001b[0m\u001b[0mcolumns\u001b[0m\u001b[0;34m)\u001b[0m\u001b[0;34m\u001b[0m\u001b[0;34m\u001b[0m\u001b[0m\n\u001b[0;32m----> 8\u001b[0;31m \u001b[0mX10\u001b[0m \u001b[0;34m=\u001b[0m \u001b[0mX_train\u001b[0m\u001b[0;34m[\u001b[0m\u001b[0mcolumns\u001b[0m\u001b[0;34m[\u001b[0m\u001b[0;34m\"feature\"\u001b[0m\u001b[0;34m]\u001b[0m\u001b[0;34m]\u001b[0m\u001b[0;34m\u001b[0m\u001b[0;34m\u001b[0m\u001b[0m\n\u001b[0m\u001b[1;32m      9\u001b[0m \u001b[0mprint\u001b[0m\u001b[0;34m(\u001b[0m\u001b[0mX10\u001b[0m\u001b[0;34m)\u001b[0m\u001b[0;34m\u001b[0m\u001b[0;34m\u001b[0m\u001b[0m\n\u001b[1;32m     10\u001b[0m \u001b[0;34m\u001b[0m\u001b[0m\n",
      "\u001b[0;32m/opt/anaconda3/lib/python3.8/site-packages/pandas/core/frame.py\u001b[0m in \u001b[0;36m__getitem__\u001b[0;34m(self, key)\u001b[0m\n\u001b[1;32m   2798\u001b[0m             \u001b[0;32mif\u001b[0m \u001b[0mself\u001b[0m\u001b[0;34m.\u001b[0m\u001b[0mcolumns\u001b[0m\u001b[0;34m.\u001b[0m\u001b[0mnlevels\u001b[0m \u001b[0;34m>\u001b[0m \u001b[0;36m1\u001b[0m\u001b[0;34m:\u001b[0m\u001b[0;34m\u001b[0m\u001b[0;34m\u001b[0m\u001b[0m\n\u001b[1;32m   2799\u001b[0m                 \u001b[0;32mreturn\u001b[0m \u001b[0mself\u001b[0m\u001b[0;34m.\u001b[0m\u001b[0m_getitem_multilevel\u001b[0m\u001b[0;34m(\u001b[0m\u001b[0mkey\u001b[0m\u001b[0;34m)\u001b[0m\u001b[0;34m\u001b[0m\u001b[0;34m\u001b[0m\u001b[0m\n\u001b[0;32m-> 2800\u001b[0;31m             \u001b[0mindexer\u001b[0m \u001b[0;34m=\u001b[0m \u001b[0mself\u001b[0m\u001b[0;34m.\u001b[0m\u001b[0mcolumns\u001b[0m\u001b[0;34m.\u001b[0m\u001b[0mget_loc\u001b[0m\u001b[0;34m(\u001b[0m\u001b[0mkey\u001b[0m\u001b[0;34m)\u001b[0m\u001b[0;34m\u001b[0m\u001b[0;34m\u001b[0m\u001b[0m\n\u001b[0m\u001b[1;32m   2801\u001b[0m             \u001b[0;32mif\u001b[0m \u001b[0mis_integer\u001b[0m\u001b[0;34m(\u001b[0m\u001b[0mindexer\u001b[0m\u001b[0;34m)\u001b[0m\u001b[0;34m:\u001b[0m\u001b[0;34m\u001b[0m\u001b[0;34m\u001b[0m\u001b[0m\n\u001b[1;32m   2802\u001b[0m                 \u001b[0mindexer\u001b[0m \u001b[0;34m=\u001b[0m \u001b[0;34m[\u001b[0m\u001b[0mindexer\u001b[0m\u001b[0;34m]\u001b[0m\u001b[0;34m\u001b[0m\u001b[0;34m\u001b[0m\u001b[0m\n",
      "\u001b[0;32m/opt/anaconda3/lib/python3.8/site-packages/pandas/core/indexes/base.py\u001b[0m in \u001b[0;36mget_loc\u001b[0;34m(self, key, method, tolerance)\u001b[0m\n\u001b[1;32m   2646\u001b[0m                 \u001b[0;32mreturn\u001b[0m \u001b[0mself\u001b[0m\u001b[0;34m.\u001b[0m\u001b[0m_engine\u001b[0m\u001b[0;34m.\u001b[0m\u001b[0mget_loc\u001b[0m\u001b[0;34m(\u001b[0m\u001b[0mkey\u001b[0m\u001b[0;34m)\u001b[0m\u001b[0;34m\u001b[0m\u001b[0;34m\u001b[0m\u001b[0m\n\u001b[1;32m   2647\u001b[0m             \u001b[0;32mexcept\u001b[0m \u001b[0mKeyError\u001b[0m\u001b[0;34m:\u001b[0m\u001b[0;34m\u001b[0m\u001b[0;34m\u001b[0m\u001b[0m\n\u001b[0;32m-> 2648\u001b[0;31m                 \u001b[0;32mreturn\u001b[0m \u001b[0mself\u001b[0m\u001b[0;34m.\u001b[0m\u001b[0m_engine\u001b[0m\u001b[0;34m.\u001b[0m\u001b[0mget_loc\u001b[0m\u001b[0;34m(\u001b[0m\u001b[0mself\u001b[0m\u001b[0;34m.\u001b[0m\u001b[0m_maybe_cast_indexer\u001b[0m\u001b[0;34m(\u001b[0m\u001b[0mkey\u001b[0m\u001b[0;34m)\u001b[0m\u001b[0;34m)\u001b[0m\u001b[0;34m\u001b[0m\u001b[0;34m\u001b[0m\u001b[0m\n\u001b[0m\u001b[1;32m   2649\u001b[0m         \u001b[0mindexer\u001b[0m \u001b[0;34m=\u001b[0m \u001b[0mself\u001b[0m\u001b[0;34m.\u001b[0m\u001b[0mget_indexer\u001b[0m\u001b[0;34m(\u001b[0m\u001b[0;34m[\u001b[0m\u001b[0mkey\u001b[0m\u001b[0;34m]\u001b[0m\u001b[0;34m,\u001b[0m \u001b[0mmethod\u001b[0m\u001b[0;34m=\u001b[0m\u001b[0mmethod\u001b[0m\u001b[0;34m,\u001b[0m \u001b[0mtolerance\u001b[0m\u001b[0;34m=\u001b[0m\u001b[0mtolerance\u001b[0m\u001b[0;34m)\u001b[0m\u001b[0;34m\u001b[0m\u001b[0;34m\u001b[0m\u001b[0m\n\u001b[1;32m   2650\u001b[0m         \u001b[0;32mif\u001b[0m \u001b[0mindexer\u001b[0m\u001b[0;34m.\u001b[0m\u001b[0mndim\u001b[0m \u001b[0;34m>\u001b[0m \u001b[0;36m1\u001b[0m \u001b[0;32mor\u001b[0m \u001b[0mindexer\u001b[0m\u001b[0;34m.\u001b[0m\u001b[0msize\u001b[0m \u001b[0;34m>\u001b[0m \u001b[0;36m1\u001b[0m\u001b[0;34m:\u001b[0m\u001b[0;34m\u001b[0m\u001b[0;34m\u001b[0m\u001b[0m\n",
      "\u001b[0;32mpandas/_libs/index.pyx\u001b[0m in \u001b[0;36mpandas._libs.index.IndexEngine.get_loc\u001b[0;34m()\u001b[0m\n",
      "\u001b[0;32mpandas/_libs/index.pyx\u001b[0m in \u001b[0;36mpandas._libs.index.IndexEngine.get_loc\u001b[0;34m()\u001b[0m\n",
      "\u001b[0;32mpandas/_libs/hashtable_class_helper.pxi\u001b[0m in \u001b[0;36mpandas._libs.hashtable.PyObjectHashTable.get_item\u001b[0;34m()\u001b[0m\n",
      "\u001b[0;32mpandas/_libs/hashtable_class_helper.pxi\u001b[0m in \u001b[0;36mpandas._libs.hashtable.PyObjectHashTable.get_item\u001b[0;34m()\u001b[0m\n",
      "\u001b[0;31mKeyError\u001b[0m: 'feature'"
     ]
    }
   ],
   "source": [
    "x_train30 = features[:30]\n",
    "x_train30\n",
    "\n",
    "n_display = 30\n",
    "\n",
    "columns = X_train.iloc[:n_display,:]\n",
    "print(columns)\n",
    "X10 = X_train[columns[\"feature\"]]\n",
    "print(X10)\n",
    "\n",
    "X10 = X10.values"
   ]
  },
  {
   "cell_type": "code",
   "execution_count": null,
   "metadata": {},
   "outputs": [],
   "source": [
    "\n",
    "\n",
    "\n",
    "# ランダムフォレストを指定\n",
    "rfc3 = RandomForestClassifier(max_depth=2)\n",
    "# 学習\n",
    "rfc3.fit(X_train_t1, y_train)\n",
    "# 予測\n",
    "rfc3_pred = rfc3.predict_proba(X_test_t1)[:, 1]\n",
    "rfc3_vai = rfc3.predict(X_test_t1)\n",
    "#評価\n",
    "roc_auc_score\n",
    "print(\"AUC:\",roc_auc_score(y_test, rfc3_pred))\n",
    "print('confusion matrix = \\n', confusion_matrix(y_true = y_test, y_pred = rfc3_vai))\n",
    "print('accuracy = ',accuracy_score(y_true = y_test , y_pred = rfc3_vai))\n",
    "print('precision = ',precision_score(y_true = y_test , y_pred = rfc3_vai))\n",
    "print('recall = ',recall_score(y_true = y_test , y_pred = rfc3_vai))\n",
    "print('f1 score = ',f1_score(y_true = y_test , y_pred = rfc3_vai))"
   ]
  },
  {
   "cell_type": "code",
   "execution_count": null,
   "metadata": {},
   "outputs": [],
   "source": [
    "# 特徴量の重要度を可視化\n",
    "\n",
    "def plot_feature_importance(df):\n",
    "    n_feature = len(df)                                # 特徴量の数\n",
    "    df_plot = df.sort_values(\"importance\")             # 昇順ソート\n",
    "    f_importance_plot = df_plot[\"importance\"].values   # 特徴重要度を取得\n",
    "    plt.barh(range(n_feature), f_importance_plot, align=\"center\")\n",
    "    cols_plot = df_plot[\"feature\"].values\n",
    "    plt.yticks(np.arange(n_feature), cols_plot)\n",
    "    plt.xlabel(\"Feature importance\")\n",
    "    plt.ylabel(\"Feature\")"
   ]
  },
  {
   "cell_type": "code",
   "execution_count": null,
   "metadata": {},
   "outputs": [],
   "source": [
    "MASTER = app_train"
   ]
  },
  {
   "cell_type": "code",
   "execution_count": null,
   "metadata": {},
   "outputs": [],
   "source": [
    "# ラベルエンコード（列数を増やさず、値を数字に変換する手法）\n",
    "from sklearn.preprocessing import LabelEncoder\n",
    "\n",
    "le = LabelEncoder()\n",
    "le_count = 0\n",
    "for col in MASTER:\n",
    "    # 値がオブジェクト型の時を条件指定。\n",
    "    if MASTER[col].dtype == \"object\":\n",
    "        # カテゴリ数が２以下の条件指定。\n",
    "        if len(list(MASTER[col].unique())) <= 2:\n",
    "            # 訓練データで学習を行う。\n",
    "            le.fit(MASTER[col])\n",
    "            # 訓練、検証データ共に変換する。\n",
    "            MASTER[col] = le.transform(MASTER[col])\n",
    "            le_count += 1\n",
    "\n",
    "# one_hotエンコード (値は0と１のみ、列数をカテゴリ数分用意する手法)\n",
    "MASTER= pd.get_dummies(MASTER)\n"
   ]
  },
  {
   "cell_type": "code",
   "execution_count": null,
   "metadata": {},
   "outputs": [],
   "source": [
    "# 欠損値を中央値で埋める\n",
    "\n",
    "imputer = SimpleImputer(strategy = 'median')\n",
    "imputer.fit(MASTER)\n",
    "train = imputer.transform(MASTER)"
   ]
  },
  {
   "cell_type": "code",
   "execution_count": null,
   "metadata": {},
   "outputs": [],
   "source": []
  },
  {
   "cell_type": "code",
   "execution_count": null,
   "metadata": {},
   "outputs": [],
   "source": [
    "feature = pd.DataFrame(MASTER)\n",
    "labels = feature[\"TARGET\"]\n",
    "\n",
    "print(feature.shape)\n",
    "display(feature)\n",
    "\n",
    "X = feature.drop(\"TARGET\", axis=1).values\n",
    "y = labels.values\n",
    "\n",
    "print(X)\n",
    "print(X.shape)\n",
    "\n",
    "print(y)\n",
    "print(y.shape)\n",
    "\n",
    "# トレーニングデータ,テストデータの分割 \n",
    "X_train, X_test, y_train, y_test = train_test_split(MASTER, y,test_size=0.20, random_state=2)"
   ]
  },
  {
   "cell_type": "code",
   "execution_count": null,
   "metadata": {},
   "outputs": [],
   "source": [
    "# 学習に使用するデータを設定\n",
    "import lightgbm as lgb #LightGBM\n",
    "lgb_train = lgb.Dataset(X_train, y_train)\n",
    "lgb_eval = lgb.Dataset(X_test, y_test, reference=lgb_train) \n",
    "\n",
    "# LightGBM parameters\n",
    "params = {\n",
    "        'task': 'train',\n",
    "        'boosting_type': 'gbdt',\n",
    "        'objective': 'regression', # 目的 : 回帰  \n",
    "        'metric': {'rmse'}, # 評価指標 : rsme(平均二乗誤差の平方根) \n",
    "}\n",
    "\n",
    "# モデルの学習\n",
    "model = lgb.train(params,\n",
    "                  train_set=lgb_train, # トレーニングデータの指定\n",
    "                  valid_sets=lgb_eval, # 検証データの指定\n",
    "                 )"
   ]
  },
  {
   "cell_type": "code",
   "execution_count": null,
   "metadata": {},
   "outputs": [],
   "source": [
    "# 特徴量重要度の算出 (データフレームで取得)\n",
    "cols = list(MASTER.drop('SK_ID_CURR',axis=1).columns)       # 特徴量名のリスト(目的変数CRIM以外)\n",
    "# 特徴量重要度の算出方法 'gain'(推奨) : トレーニングデータの損失の減少量を評価\n",
    "f_importance = np.array(model.feature_importance(importance_type='gain')) # 特徴量重要度の算出 //\n",
    "f_importance = f_importance / np.sum(f_importance) # 正規化(必要ない場合はコメントアウト)\n",
    "# 配列を揃える\n",
    "cols = pd.DataFrame(cols)\n",
    "f_importance = pd.DataFrame(f_importance)\n",
    "f_importance1, cols1 = f_importance.align(cols, join = 'inner', axis = 1)\n",
    "df_importance = pd.DataFrame({'feature':cols1, 'importance':f_importance1})\n",
    "df_importance = df_importance.sort_values('importance', ascending=False) # 降順ソート\n",
    "df_importance.head(15)"
   ]
  },
  {
   "cell_type": "code",
   "execution_count": null,
   "metadata": {},
   "outputs": [],
   "source": [
    "# 特徴量重要度の可視化\n",
    "n_display = 30 # 上位10個に制限\n",
    "plot_feature_importance(df_importance.iloc[:n_display,:])"
   ]
  },
  {
   "cell_type": "code",
   "execution_count": null,
   "metadata": {},
   "outputs": [],
   "source": [
    "# 上位30位のみのデータセットを作成\n",
    "columns = df_importance.iloc[:n_display,:]\n",
    "X10 = MASTER[columns[\"feature\"]]\n",
    "print(X10.isnull().sum())\n",
    "\n",
    "X10 = X10.values\n",
    "\n",
    "X10 = pd.DataFrame(X10)\n",
    "y = pd.Series(y)\n",
    "\n",
    "# トレーニングデータ,テストデータの分割 \n",
    "X_train, X_test, y_train, y_test = train_test_split(X10, y, test_size=0.20, random_state=2)"
   ]
  },
  {
   "cell_type": "code",
   "execution_count": null,
   "metadata": {},
   "outputs": [],
   "source": [
    "# ランダムフォレストを指定\n",
    "rfc4 = RandomForestClassifier(max_depth=2)\n",
    "# 学習\n",
    "rfc4.fit(X_train, y_train)\n",
    "# 予測\n",
    "rfc4_pred = rfc4.predict_proba(X_test)[:, 1]\n",
    "rfc4_vai = rfc4.predict(X_test)\n",
    "#評価\n",
    "roc_auc_score\n",
    "print(\"AUC:\",roc_auc_score(y_test, rfc4_pred))\n",
    "print('confusion matrix = \\n', confusion_matrix(y_true = y_test, y_pred = rfc4_vai))\n",
    "print('accuracy = ',accuracy_score(y_true = y_test , y_pred = rfc4_vai))\n",
    "print('precision = ',precision_score(y_true = y_test , y_pred = rfc4_vai))\n",
    "print('recall = ',recall_score(y_true = y_test , y_pred = rfc4_vai))\n",
    "print('f1 score = ',f1_score(y_true = y_test , y_pred = rfc_vai))"
   ]
  },
  {
   "cell_type": "code",
   "execution_count": null,
   "metadata": {},
   "outputs": [],
   "source": []
  }
 ],
 "metadata": {
  "colab": {
   "authorship_tag": "ABX9TyMTZC6kKYnxmmsD8GNZyA5K",
   "include_colab_link": true,
   "mount_file_id": "1_ke7GL9yOOzzkcysSq81f2tHc1NrLikS",
   "name": "week4.ipynb",
   "private_outputs": true,
   "provenance": []
  },
  "kernelspec": {
   "display_name": "Python 3",
   "language": "python",
   "name": "python3"
  },
  "language_info": {
   "codemirror_mode": {
    "name": "ipython",
    "version": 3
   },
   "file_extension": ".py",
   "mimetype": "text/x-python",
   "name": "python",
   "nbconvert_exporter": "python",
   "pygments_lexer": "ipython3",
   "version": "3.8.3"
  }
 },
 "nbformat": 4,
 "nbformat_minor": 4
}
