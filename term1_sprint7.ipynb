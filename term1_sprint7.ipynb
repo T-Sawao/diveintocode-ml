{
 "cells": [
  {
   "cell_type": "markdown",
   "metadata": {},
   "source": [
    "# term1_sprint7 機械学習スクラッチ クラスタリング"
   ]
  },
  {
   "cell_type": "markdown",
   "metadata": {},
   "source": [
    "## 2.K-meansスクラッチ\n",
    "\n",
    "K-meansのクラスをスクラッチで作成していきます。NumPyなど最低限のライブラリのみを使いアルゴリズムを実装していきます。\n",
    "\n",
    "\n",
    "以下に雛形を用意してあります。このScratchKMeansクラスにコードを書き加えていってください。  \n",
    "\n",
    "《雛形》"
   ]
  },
  {
   "cell_type": "code",
   "execution_count": 1,
   "metadata": {},
   "outputs": [],
   "source": [
    "class ScratchKMeans():\n",
    "    \"\"\"\n",
    "    K-meansのスクラッチ実装\n",
    "\n",
    "    Parameters\n",
    "    ----------\n",
    "    n_clusters : int\n",
    "      クラスタ数\n",
    "    n_init : int\n",
    "      中心点の初期値を何回変えて計算するか\n",
    "    max_iter : int\n",
    "      1回の計算で最大何イテレーションするか\n",
    "    tol : float\n",
    "      イテレーションを終了する基準となる中心点と重心の許容誤差\n",
    "    verbose : bool\n",
    "      学習過程を出力する場合はTrue\n",
    "    \"\"\"\n",
    "    def __init__(self, n_clusters, n_init, max_iter, tol, verbose=False):\n",
    "        # ハイパーパラメータを属性として記録\n",
    "        self.n_clusters = n_clusters\n",
    "        self.n_init = n_init\n",
    "        self.max_iter = max_iter\n",
    "        self.tol = tol\n",
    "        self.verbose = verbose\n",
    "    def fit(self, X):\n",
    "        \"\"\"\n",
    "        K-meansによるクラスタリングを計算\n",
    "        Parameters\n",
    "        ----------\n",
    "        X : 次の形のndarray, shape (n_samples, n_features)\n",
    "            訓練データの特徴量\n",
    "        \"\"\"\n",
    "        if self.verbose:\n",
    "            #verboseをTrueにした際は学習過程を出力\n",
    "            print()\n",
    "        pass\n",
    "    def predict(self, X):\n",
    "        \"\"\"\n",
    "        入力されたデータがどのクラスタに属するかを計算\n",
    "        \"\"\"\n",
    "        pass\n",
    "        return"
   ]
  },
  {
   "cell_type": "markdown",
   "metadata": {},
   "source": [
    "## クラスタリングのための人工データセット\n",
    "クラスタリングを実験するための人工データセットを作成するコードを用意しています。\n",
    "\n",
    "\n",
    "このmake_blobs関数は正解ラベルも出力してますが、今回は使用しません。使用しないことを明示するために、 _（アンダースコア） で受け取っています。\n",
    "\n",
    "《シンプルデータセット3》"
   ]
  },
  {
   "cell_type": "code",
   "execution_count": 2,
   "metadata": {},
   "outputs": [],
   "source": [
    "import numpy as np\n",
    "import pandas as pd\n",
    "import matplotlib.pyplot as plt"
   ]
  },
  {
   "cell_type": "code",
   "execution_count": 19,
   "metadata": {},
   "outputs": [
    {
     "data": {
      "text/plain": [
       "array([[ 0.72086751,  3.71347124],\n",
       "       [-1.89468423,  7.96898545],\n",
       "       [ 1.35678894,  4.36462484],\n",
       "       [ 1.05374379,  4.49286859],\n",
       "       [ 1.59141542,  4.90497725],\n",
       "       [ 0.78260667,  4.15263595],\n",
       "       [-1.95751686,  3.87291474],\n",
       "       [-0.77354537,  7.87923564],\n",
       "       [ 0.12313498,  5.27917503],\n",
       "       [-1.43284669,  7.71577043]])"
      ]
     },
     "execution_count": 19,
     "metadata": {},
     "output_type": "execute_result"
    }
   ],
   "source": [
    "from sklearn.datasets import make_blobs\n",
    "X, _ = make_blobs(n_samples=100, n_features=2, centers=4, cluster_std=0.5, shuffle=True, random_state=0)\n",
    "X[:10]"
   ]
  },
  {
   "cell_type": "markdown",
   "metadata": {},
   "source": [
    "## 学習\n",
    "K-meansの学習に必要な要素を順番に作成していきます。\n",
    "\n",
    "## 【問題1】中心点の初期値を決める\n",
    "入力されたデータから $K$ 個の中心点 $\\mu_1$ から $\\mu_K$ の初期値を決めるコードを作成してください。$K$ は指定したクラスタ数です。\n",
    "\n",
    "\n",
    "最もシンプルな初期値の決定方法は、データ点 $X_n$ の中からランダムに $K$ 個選ぶことです。今回はこれを実装してください。\n",
    "\n",
    "\n",
    "K-meansの学習結果は中心点 $\\mu$ の初期値に影響を受けます。そのため、学習時には複数個の初期値で計算を行います。"
   ]
  },
  {
   "cell_type": "markdown",
   "metadata": {},
   "source": [
    "### 1.1.1（データセットの分析）"
   ]
  },
  {
   "cell_type": "code",
   "execution_count": 4,
   "metadata": {},
   "outputs": [
    {
     "name": "stdout",
     "output_type": "stream",
     "text": [
      "配列 (100, 2)\n"
     ]
    }
   ],
   "source": [
    "print(\"配列\",X.shape)"
   ]
  },
  {
   "cell_type": "code",
   "execution_count": 5,
   "metadata": {},
   "outputs": [
    {
     "data": {
      "text/plain": [
       "<matplotlib.collections.PathCollection at 0x1234026a0>"
      ]
     },
     "execution_count": 5,
     "metadata": {},
     "output_type": "execute_result"
    },
    {
     "data": {
      "image/png": "[encoded data removed]",
      "text/plain": [
       "<Figure size 432x288 with 1 Axes>"
      ]
     },
     "metadata": {
      "needs_background": "light"
     },
     "output_type": "display_data"
    }
   ],
   "source": [
    "plt.scatter(X[:,0],X[:,1], c=\"black\",s=10,alpha=0.5)"
   ]
  },
  {
   "cell_type": "markdown",
   "metadata": {},
   "source": [
    "何となく４つに分類できるかも。"
   ]
  },
  {
   "cell_type": "markdown",
   "metadata": {},
   "source": [
    "### 1.2.1（解答）"
   ]
  },
  {
   "cell_type": "code",
   "execution_count": 6,
   "metadata": {},
   "outputs": [
    {
     "data": {
      "text/plain": [
       "array([[ 1.85367905,  1.5088862 ],\n",
       "       [-1.26789718,  7.25141327],\n",
       "       [ 0.92466065,  4.50908658],\n",
       "       [-1.43284669,  7.71577043]])"
      ]
     },
     "execution_count": 6,
     "metadata": {},
     "output_type": "execute_result"
    }
   ],
   "source": [
    "np.random.seed(1)\n",
    "centers = np.array(X[np.random.randint(0,len(X),4)])\n",
    "\n",
    "centers"
   ]
  },
  {
   "cell_type": "code",
   "execution_count": 7,
   "metadata": {},
   "outputs": [
    {
     "data": {
      "text/plain": [
       "<matplotlib.collections.PathCollection at 0x1234a7c40>"
      ]
     },
     "execution_count": 7,
     "metadata": {},
     "output_type": "execute_result"
    },
    {
     "data": {
      "image/png": "[encoded data removed]",
      "text/plain": [
       "<Figure size 432x288 with 1 Axes>"
      ]
     },
     "metadata": {
      "needs_background": "light"
     },
     "output_type": "display_data"
    }
   ],
   "source": [
    "# サンプルデータの位置\n",
    "plt.scatter(X[:,0],X[:,1], c=\"black\",s=10,alpha=0.5)\n",
    "# 中心点の初期値\n",
    "plt.scatter(centers[:,0],centers[:,1], c=\"red\",s=40,alpha=0.5)"
   ]
  },
  {
   "cell_type": "markdown",
   "metadata": {},
   "source": [
    "### 2.1.1（解答） 問題３の解答も含む"
   ]
  },
  {
   "cell_type": "markdown",
   "metadata": {},
   "source": [
    "#### 重心までの距離をsumを使って算出"
   ]
  },
  {
   "cell_type": "code",
   "execution_count": 8,
   "metadata": {},
   "outputs": [
    {
     "data": {
      "text/plain": [
       "array([2., 3., 2., 2., 2., 2., 2., 3., 2., 3., 1., 1., 1., 3., 1., 0., 0.,\n",
       "       2., 2., 0., 2., 3., 2., 0., 2., 2., 2., 2., 0., 0., 0., 1., 0., 0.,\n",
       "       2., 2., 3., 0., 3., 2., 2., 2., 1., 2., 2., 3., 0., 2., 2., 2., 2.,\n",
       "       0., 2., 2., 2., 1., 3., 0., 0., 3., 1., 0., 0., 2., 0., 3., 2., 2.,\n",
       "       0., 2., 3., 0., 2., 3., 2., 2., 2., 2., 0., 0., 0., 3., 2., 2., 0.,\n",
       "       2., 0., 0., 2., 2., 2., 2., 2., 2., 2., 3., 3., 2., 3., 2.])"
      ]
     },
     "execution_count": 8,
     "metadata": {},
     "output_type": "execute_result"
    }
   ],
   "source": [
    "distance_list = []\n",
    "idx = np.zeros(X.shape[0])\n",
    "\n",
    "for i in range(X.shape[0]):\n",
    "    # 各データ点毎の重心までの距離\n",
    "    distance = np.sum((X[i,:] - centers)**2,axis=1)\n",
    "    # 各データ点毎のクラスタを返す\n",
    "    idx[i] = np.argmin(distance)\n",
    "    # リストに保管\n",
    "    distance_list.append(distance)\n",
    "idx"
   ]
  },
  {
   "cell_type": "markdown",
   "metadata": {},
   "source": [
    "#### diver通りnp.linalg.normを使用"
   ]
  },
  {
   "cell_type": "code",
   "execution_count": 9,
   "metadata": {},
   "outputs": [
    {
     "data": {
      "text/plain": [
       "array([2, 3, 2, 2, 2, 2, 2, 3, 2, 3, 1, 1, 1, 3, 1, 0, 0, 2, 2, 0, 2, 3,\n",
       "       2, 0, 2, 2, 2, 2, 0, 0, 0, 1, 0, 0, 2, 2, 3, 0, 3, 2, 2, 2, 1, 2,\n",
       "       2, 3, 0, 2, 2, 2, 2, 0, 2, 2, 2, 1, 3, 0, 0, 3, 1, 0, 0, 2, 0, 3,\n",
       "       2, 2, 0, 2, 3, 0, 2, 3, 2, 2, 2, 2, 0, 0, 0, 3, 2, 2, 0, 2, 0, 0,\n",
       "       2, 2, 2, 2, 2, 2, 2, 3, 3, 2, 3, 2])"
      ]
     },
     "execution_count": 9,
     "metadata": {},
     "output_type": "execute_result"
    }
   ],
   "source": [
    "distance_matrix = np.zeros((X.shape[0],centers.shape[0]))\n",
    "\n",
    "for i in range(centers.shape[0]):\n",
    "    for j in range(X.shape[0]):\n",
    "        diff = centers[i] - X[j]\n",
    "        distance_matrix[j][i] = np.linalg.norm(diff, ord=2)\n",
    "new_labels = np.argmin(distance_matrix,axis=1)\n",
    "new_labels"
   ]
  },
  {
   "cell_type": "code",
   "execution_count": 10,
   "metadata": {},
   "outputs": [
    {
     "name": "stdout",
     "output_type": "stream",
     "text": [
      "set()\n"
     ]
    }
   ],
   "source": [
    "# 上記の２パターンの求めた値を比較\n",
    "sym_diff = set(idx) ^ set(new_labels)\n",
    "print(sym_diff)"
   ]
  },
  {
   "cell_type": "markdown",
   "metadata": {},
   "source": [
    "答えは一緒ではあるが、各値と重心までの距離は異なる。  \n",
    "今回は指定されているので、以降np.linalg.normを使用。"
   ]
  },
  {
   "cell_type": "code",
   "execution_count": 14,
   "metadata": {},
   "outputs": [
    {
     "name": "stdout",
     "output_type": "stream",
     "text": [
      "119.40367210721267\n"
     ]
    }
   ],
   "source": [
    "sse = 0\n",
    "for i, labels in enumerate(new_labels):\n",
    "#     print(f\"distance_matrix{i},{labels},{distance_matrix[i,labels]}\")\n",
    "    sse += distance_matrix[i,labels]\n",
    "print(sse)"
   ]
  },
  {
   "cell_type": "code",
   "execution_count": 15,
   "metadata": {},
   "outputs": [
    {
     "data": {
      "text/plain": [
       "<matplotlib.collections.PathCollection at 0x123ae3100>"
      ]
     },
     "execution_count": 15,
     "metadata": {},
     "output_type": "execute_result"
    },
    {
     "data": {
      "image/png": "[encoded data removed]",
      "text/plain": [
       "<Figure size 432x288 with 1 Axes>"
      ]
     },
     "metadata": {
      "needs_background": "light"
     },
     "output_type": "display_data"
    }
   ],
   "source": [
    "# サンプルデータの位置\n",
    "plt.scatter(X[:,0],X[:,1], c=\"black\",s=10,alpha=0.5)\n",
    "# 中心点の初期値\n",
    "plt.scatter(centers[:,0],centers[:,1], c=\"red\",s=40,alpha=0.5)"
   ]
  },
  {
   "cell_type": "code",
   "execution_count": 133,
   "metadata": {},
   "outputs": [],
   "source": [
    "# 記入用\n",
    "class ScratchKMeans():\n",
    "    \"\"\"\n",
    "    K-meansのスクラッチ実装\n",
    "\n",
    "    Parameters\n",
    "    ----------\n",
    "    n_clusters : int\n",
    "      クラスタ数\n",
    "    n_init : int\n",
    "      中心点の初期値を何回変えて計算するか\n",
    "    max_iter : int\n",
    "      1回の計算で最大何イテレーションするか\n",
    "    tol : float\n",
    "      イテレーションを終了する基準となる中心点と重心の許容誤差\n",
    "    verbose : bool\n",
    "      学習過程を出力する場合はTrue\n",
    "    \"\"\"\n",
    "    def __init__(self, n_clusters, n_init, max_iter, tol, verbose=False):\n",
    "        # ハイパーパラメータを属性として記録\n",
    "        self.n_clusters = n_clusters\n",
    "        self.n_init = n_init\n",
    "        self.max_iter = max_iter\n",
    "        self.tol = tol\n",
    "        self.verbose = verbose\n",
    "        \n",
    "    def fit(self, X):\n",
    "        \"\"\"\n",
    "        K-meansによるクラスタリングを計算\n",
    "        Parameters\n",
    "        ----------\n",
    "        X : 次の形のndarray, shape (n_samples, n_features)\n",
    "            訓練データの特徴量\n",
    "        \"\"\"\n",
    "        self.best_centers = None\n",
    "        self.best_score = 10000\n",
    "        \n",
    "        self.center = self.n_clusters\n",
    "           \n",
    "        # 問題６-------------------------------------------\n",
    "\n",
    "        for j in range(self.n_init):        \n",
    "            \n",
    "            # 問題5---------------------------------------\n",
    "            \n",
    "            for i in range(self.max_iter):\n",
    "                \n",
    "                # 問題１---------------------------\n",
    "                \n",
    "                self.X = np.array(X)\n",
    "                self.centers = np.array(X[np.random.randint(0,len(X),self.center)])\n",
    "\n",
    "                # -------------------------------\n",
    "                \n",
    "                distance_matrix = self._distance_matrix(self.X, self.centers)\n",
    "                new_labels = self._new_labels(distance_matrix)\n",
    "                sse_score = self._sse(distance_matrix, new_labels)\n",
    "#                 print(f\"sse_score{j+1}-{i+1}回目:{sse_score}\")\n",
    "                \n",
    "                if self.best_score > sse_score:\n",
    "                    self.best_score = sse_score\n",
    "                    self.best_centers = self.centers\n",
    "                \n",
    "                if self.tol > sse_score:\n",
    "                    break\n",
    "                else:\n",
    "                    self.centers = self._move(self.X, self.centers, new_labels)\n",
    "                    \n",
    "        return self.best_score\n",
    "            # -------------------------------------------\n",
    "\n",
    "        if self.verbose:\n",
    "            #verboseをTrueにした際は学習過程を出力\n",
    "            print()\n",
    "    # 問題3-----------------------------------------------\n",
    "    \n",
    "    def _distance_matrix(self,X,C):\n",
    "        distance_matrix = np.zeros((X.shape[0],C.shape[0]))\n",
    "        \n",
    "        for i in range(C.shape[0]):\n",
    "            for j in range(X.shape[0]):\n",
    "                diff = C[i] - X[j]\n",
    "                distance_matrix[j][i] = np.linalg.norm(diff, ord=2)\n",
    "        return distance_matrix       \n",
    "                \n",
    "    def _new_labels(self,X):\n",
    "        return np.argmin(X,axis=1)\n",
    "            \n",
    "    # 問題4-------------------------------------------------\n",
    "    \n",
    "    def _move(self,X, C, label):\n",
    "        for i in range(len(C)):\n",
    "            a = X[label==i,:].mean(axis=0)\n",
    "        return a\n",
    "        \n",
    "    # 問題２-------------------------------------------------\n",
    "    \n",
    "    def _sse(self, X, K):\n",
    "        sse = 0\n",
    "        \n",
    "        for i, labels in enumerate(K):\n",
    "            sse += X[i,labels]\n",
    "        return sse\n",
    "    \n",
    "    # -----------------------------------------------------\n",
    "    def predict(self, X):\n",
    "        \"\"\"\n",
    "        入力されたデータがどのクラスタに属するかを計算\n",
    "        \"\"\"\n",
    "        distance_matrix = self._distance_matrix(X, self.best_centers)\n",
    "        new_labels = self._new_labels(distance_matrix)\n",
    "        return new_labels, self.best_centers"
   ]
  },
  {
   "cell_type": "markdown",
   "metadata": {},
   "source": [
    "## 【問題6】異なる初期値で計算\n",
    "問題5の繰り返しを、指定した回数初期値を変更して計算するコードを作成してください。回数は雛形では引数n_initで指定します。\n",
    "\n",
    "\n",
    "複数計算した中でSSEが最小になったものが最終的な学習結果となるため、その時の中心点 \n",
    "μ\n",
    "k\n",
    " を保持しておきます。"
   ]
  },
  {
   "cell_type": "markdown",
   "metadata": {},
   "source": [
    "### 6.1.1（解答)"
   ]
  },
  {
   "cell_type": "code",
   "execution_count": 130,
   "metadata": {},
   "outputs": [
    {
     "name": "stdout",
     "output_type": "stream",
     "text": [
      "sse_score1-1回目:378.68197779554174\n",
      "sse_score1-2回目:176.69423162925224\n",
      "sse_score1-3回目:127.78253266134155\n",
      "sse_score1-4回目:116.38694798636699\n",
      "sse_score1-5回目:163.62472350978047\n",
      "sse_score2-1回目:189.27079344724743\n",
      "sse_score2-2回目:116.07071798054042\n",
      "sse_score2-3回目:197.2099688076679\n",
      "sse_score2-4回目:185.55728620894567\n",
      "sse_score2-5回目:202.4493111139028\n",
      "sse_score3-1回目:169.46807929233304\n",
      "sse_score3-2回目:156.8096154822421\n",
      "sse_score3-3回目:115.97918095550848\n",
      "sse_score3-4回目:78.51826893496106\n",
      "sse_score3-5回目:206.9891389306502\n"
     ]
    },
    {
     "name": "stderr",
     "output_type": "stream",
     "text": [
      "<ipython-input-129-2855317df4b8>:93: RuntimeWarning: Mean of empty slice.\n",
      "  a = X[label==i,:].mean(axis=0)\n"
     ]
    },
    {
     "data": {
      "text/plain": [
       "78.51826893496106"
      ]
     },
     "execution_count": 130,
     "metadata": {},
     "output_type": "execute_result"
    }
   ],
   "source": [
    "skm = ScratchKMeans(n_clusters=4, n_init=3, max_iter=5, tol=10)\n",
    "skm.fit(X)"
   ]
  },
  {
   "cell_type": "markdown",
   "metadata": {},
   "source": [
    "## 【問題7】推定\n",
    "新たなデータに対してどのクラスタに所属するかの推定の際は、学習時の1つ目のフェーズと同じことを行います。\n",
    "\n",
    "\n",
    "データ点 \n",
    "X\n",
    "n\n",
    " と学習で決まった中心点 \n",
    "μ\n",
    "k\n",
    " に対し、 \n",
    "S\n",
    "S\n",
    "E\n",
    " を最小化する \n",
    "r\n",
    "n\n",
    "k\n",
    " を選ぶ。\n",
    "\n",
    "具体的には次のことです。\n",
    "\n",
    "\n",
    "データ点 \n",
    "X\n",
    "n\n",
    " を最も近い \n",
    "μ\n",
    "k\n",
    " に割り当てる。"
   ]
  },
  {
   "cell_type": "markdown",
   "metadata": {},
   "source": [
    "### 7.1.1（解答）"
   ]
  },
  {
   "cell_type": "code",
   "execution_count": 131,
   "metadata": {},
   "outputs": [
    {
     "data": {
      "text/plain": [
       "array([3, 1, 3, 3, 3, 3, 0, 1, 3, 1, 1, 1, 1, 1, 1, 2, 2, 3, 0, 2, 3, 1,\n",
       "       0, 2, 3, 0, 3, 3, 2, 2, 2, 1, 2, 2, 0, 3, 1, 2, 1, 0, 3, 0, 1, 0,\n",
       "       0, 1, 2, 0, 3, 3, 3, 2, 0, 0, 0, 1, 1, 2, 2, 1, 1, 2, 2, 3, 2, 1,\n",
       "       0, 0, 2, 3, 1, 2, 3, 1, 3, 3, 3, 0, 2, 2, 2, 1, 0, 3, 2, 0, 2, 2,\n",
       "       3, 3, 3, 0, 3, 0, 0, 1, 1, 0, 1, 3])"
      ]
     },
     "execution_count": 131,
     "metadata": {},
     "output_type": "execute_result"
    }
   ],
   "source": [
    "y_pred, centers = skm.predict(X)\n",
    "y_pred"
   ]
  },
  {
   "cell_type": "markdown",
   "metadata": {},
   "source": [
    "### 7.2.1（予備知識）"
   ]
  },
  {
   "cell_type": "code",
   "execution_count": 127,
   "metadata": {},
   "outputs": [
    {
     "data": {
      "image/png": "[encoded data removed]",
      "text/plain": [
       "<Figure size 1440x288 with 1 Axes>"
      ]
     },
     "metadata": {
      "needs_background": "light"
     },
     "output_type": "display_data"
    }
   ],
   "source": [
    "fig = plt.figure(figsize=(20,4))\n",
    "color_list = [\"pink\",\"skyblue\",\"lightgreen\",\"yellow\"]\n",
    "\n",
    "ax1 = fig.add_subplot(1,3,1)\n",
    "for i in range(centers.shape[0]):\n",
    "    group_i = (X[y_pred==i,:])\n",
    "    ax1.scatter(group_i[:,0],group_i[:,1],color=color_list[i])\n",
    "    ax1.scatter(centers[:,0],centers[:,1], c=\"r\",s=180,alpha=0.5,marker=\"*\")"
   ]
  },
  {
   "cell_type": "markdown",
   "metadata": {},
   "source": [
    "## 【問題8】エルボー法の実装\n",
    "K-meansにおいて中心点の個数 \n",
    "k\n",
    " は人為的に決める必要がありますが、その判断方法としてエルボー法があります。エルボー法により中心点の個数 \n",
    "k\n",
    " を検討するためのコードを作成してください。\n",
    "\n",
    "\n",
    "SSEを縦軸、クラスタ数 \n",
    "k\n",
    " を横軸にした折れ線グラフを表示します。このためにK-meansのインスタンスからはSSEを取得できるようにしてください。"
   ]
  },
  {
   "cell_type": "code",
   "execution_count": 347,
   "metadata": {},
   "outputs": [
    {
     "name": "stdout",
     "output_type": "stream",
     "text": [
      "[1 1 2]\n",
      "(3,)\n",
      "[[1]\n",
      " [1]\n",
      " [2]]\n"
     ]
    },
    {
     "ename": "AttributeError",
     "evalue": "'tuple' object has no attribute 'shape'",
     "output_type": "error",
     "traceback": [
      "\u001b[0;31m---------------------------------------------------------------------------\u001b[0m",
      "\u001b[0;31mAttributeError\u001b[0m                            Traceback (most recent call last)",
      "\u001b[0;32m<ipython-input-347-f1f9eb8d8db5>\u001b[0m in \u001b[0;36m<module>\u001b[0;34m\u001b[0m\n\u001b[1;32m      7\u001b[0m \u001b[0mprint\u001b[0m\u001b[0;34m(\u001b[0m\u001b[0ma\u001b[0m\u001b[0;34m[\u001b[0m\u001b[0;34m:\u001b[0m\u001b[0;34m,\u001b[0m\u001b[0;32mNone\u001b[0m\u001b[0;34m]\u001b[0m\u001b[0;34m)\u001b[0m\u001b[0;34m\u001b[0m\u001b[0;34m\u001b[0m\u001b[0m\n\u001b[1;32m      8\u001b[0m \u001b[0;34m\u001b[0m\u001b[0m\n\u001b[0;32m----> 9\u001b[0;31m \u001b[0mprint\u001b[0m\u001b[0;34m(\u001b[0m\u001b[0mb\u001b[0m\u001b[0;34m.\u001b[0m\u001b[0mshape\u001b[0m\u001b[0;34m)\u001b[0m\u001b[0;34m\u001b[0m\u001b[0;34m\u001b[0m\u001b[0m\n\u001b[0m\u001b[1;32m     10\u001b[0m \u001b[0;34m\u001b[0m\u001b[0m\n\u001b[1;32m     11\u001b[0m \u001b[0mc\u001b[0m \u001b[0;34m=\u001b[0m \u001b[0mb\u001b[0m\u001b[0;34m[\u001b[0m\u001b[0;34m:\u001b[0m\u001b[0;34m,\u001b[0m\u001b[0;32mNone\u001b[0m\u001b[0;34m]\u001b[0m\u001b[0;34m\u001b[0m\u001b[0;34m\u001b[0m\u001b[0m\n",
      "\u001b[0;31mAttributeError\u001b[0m: 'tuple' object has no attribute 'shape'"
     ]
    }
   ],
   "source": [
    "a = np.array([1,1,2])\n",
    "a\n",
    "\n",
    "print(a)\n",
    "print(a.shape)\n",
    "print(a[:,None])\n",
    "\n",
    "print(b.shape)\n",
    "\n",
    "c = b[:,None]\n",
    "\n",
    "c.shape"
   ]
  },
  {
   "cell_type": "code",
   "execution_count": null,
   "metadata": {},
   "outputs": [],
   "source": []
  },
  {
   "cell_type": "code",
   "execution_count": 134,
   "metadata": {},
   "outputs": [
    {
     "name": "stderr",
     "output_type": "stream",
     "text": [
      "<ipython-input-133-a49b744edd8d>:93: RuntimeWarning: Mean of empty slice.\n",
      "  a = X[label==i,:].mean(axis=0)\n"
     ]
    },
    {
     "data": {
      "text/plain": [
       "[267.05517447239373,\n",
       " 188.7829439651353,\n",
       " 138.4638889984546,\n",
       " 124.30748033585559,\n",
       " 72.70856239980236,\n",
       " 64.58010287126334,\n",
       " 59.4434201461917,\n",
       " 58.77598922235832,\n",
       " 56.316708084419375,\n",
       " 48.5594727758945]"
      ]
     },
     "execution_count": 134,
     "metadata": {},
     "output_type": "execute_result"
    }
   ],
   "source": [
    "elbow = []\n",
    "\n",
    "for i in range(1,11):\n",
    "    skm = ScratchKMeans(n_clusters=i, n_init=3, max_iter=5, tol=10)\n",
    "    score = skm.fit(X)\n",
    "    elbow.append(score)\n",
    "elbow"
   ]
  },
  {
   "cell_type": "code",
   "execution_count": 73,
   "metadata": {},
   "outputs": [
    {
     "data": {
      "text/plain": [
       "Text(0, 0.5, 'SSE')"
      ]
     },
     "execution_count": 73,
     "metadata": {},
     "output_type": "execute_result"
    },
    {
     "data": {
      "image/png": "[encoded data removed]",
      "text/plain": [
       "<Figure size 432x288 with 1 Axes>"
      ]
     },
     "metadata": {
      "needs_background": "light"
     },
     "output_type": "display_data"
    }
   ],
   "source": [
    "plt.plot(range(1,11), elbow, marker='o')\n",
    "plt.xlabel('Number of clusters')\n",
    "plt.ylabel('SSE')"
   ]
  },
  {
   "cell_type": "markdown",
   "metadata": {},
   "source": [
    "## 【問題9】（アドバンス課題）シルエット図\n",
    "$k$を決める助けになるものとしてシルエット図もあります。シルエット図を表示するコードを作成してください。\n",
    "\n",
    "\n",
    "Matplotlibを使い図を表示するコードは用意しました。以下を与えてください。\n",
    "\n",
    "\n",
    "- silhouette_vals : shape(n_samples,)のndarray、各データ点のシルエット係数\n",
    "- silhouette_avg : float、シルエット係数の平均値\n",
    "- y_km : shape(n_samples,)のndarray、各データ点のクラスタラベル名\n",
    "- cluster_labels : list、クラスタのラベル名のリスト\n",
    "- n_clusters : int、クラスタ数  \n",
    "\n",
    "$n$番目のデータ点に対するシルエット係数  \n",
    "$sn$は以下の数式でを求められます。この数式を実装し、シルエット図を確認してください。\n",
    "\n",
    "$$s_n = \\frac{b_n-a_n}{max(b_n,a_n)}$$\n",
    "\n",
    "\n",
    "a\n",
    "n\n",
    " : 凝集度。同じクラスタ内の他のデータ点との距離の平均値。\n",
    "\n",
    "\n",
    "b\n",
    "n\n",
    " : 乖離度。最も近い他のクラスタ内の全てのデータ点との距離の平均値。\n",
    "\n",
    "\n",
    "乖離度 \n",
    "b\n",
    " が大きく、凝集度 \n",
    "a\n",
    " が小さい時が理想的であり、シルエット係数 \n",
    "s\n",
    " は1に近くなります。\n",
    "\n",
    "\n",
    "《シルエット図を表示するためのコード》"
   ]
  },
  {
   "cell_type": "raw",
   "metadata": {},
   "source": [
    "from matplotlib import cm\n",
    "y_ax_lower, y_ax_upper = 0, 0\n",
    "yticks = []\n",
    "for i, c in enumerate(cluster_labels):\n",
    "    c_silhouette_vals = silhouette_vals[y_km == c]\n",
    "    c_silhouette_vals.sort()\n",
    "    y_ax_upper += len(c_silhouette_vals)\n",
    "    color = cm.jet(i / n_clusters)\n",
    "    plt.barh(range(y_ax_lower, y_ax_upper), c_silhouette_vals, height=1.0, edgecolor='none', color=color)\n",
    "    yticks.append((y_ax_lower + y_ax_upper) / 2)\n",
    "    y_ax_lower += len(c_silhouette_vals)\n",
    "plt.axvline(silhouette_avg, color=\"red\", linestyle=\"--\")\n",
    "plt.yticks(yticks, cluster_labels + 1)\n",
    "plt.ylabel('Cluster')\n",
    "plt.xlabel('Silhouette coefficient')\n",
    "plt.show()"
   ]
  },
  {
   "cell_type": "markdown",
   "metadata": {},
   "source": [
    "### 9.1.1(解答）"
   ]
  },
  {
   "cell_type": "code",
   "execution_count": 339,
   "metadata": {},
   "outputs": [],
   "source": [
    "def calc_silhouette(data, clusters):\n",
    "    \"\"\"\n",
    "    クラスタリングのシルエット係数の計算\n",
    "    \n",
    "    Parameters\n",
    "    ----------\n",
    "    data :\n",
    "        データサンプル\n",
    "    clusters :\n",
    "        各データサンプルが属するクラスタ\n",
    "    \"\"\"\n",
    "    n = len(data)\n",
    "    num_clusters = len(np.unique(clusters))\n",
    "    cl_ids = []\n",
    "    centroids = []\n",
    "    for c in range(num_clusters):\n",
    "        ids = np.where(clusters == c)[0]\n",
    "        cl_ids.append(ids)\n",
    "        centroids.append(np.average(data[ids], axis=0))\n",
    "    silhouette = np.zeros(n)\n",
    "    for c in range(num_clusters):\n",
    "        for i in cl_ids[c]:\n",
    "            nearest_clusters = np.argsort(np.sum((data[i]-centroids)**2, axis=1))\n",
    "            c_nearest = nearest_clusters[1] if nearest_clusters[0]==c else nearest_clusters[0]\n",
    "            a = np.sum(np.sqrt(np.sum((data[i]-data[cl_ids[c]])**2, axis=1))) / (len(cl_ids[c])-1)\n",
    "            b = np.average(np.sqrt(np.sum((data[i]-data[cl_ids[c_nearest]])**2, axis=1)))\n",
    "            silhouette[i] = (b-a) / max(a, b)\n",
    "    return silhouette"
   ]
  },
  {
   "cell_type": "code",
   "execution_count": 342,
   "metadata": {},
   "outputs": [
    {
     "ename": "SyntaxError",
     "evalue": "invalid character in identifier (<ipython-input-342-8f59706c4f43>, line 1)",
     "output_type": "error",
     "traceback": [
      "\u001b[0;36m  File \u001b[0;32m\"<ipython-input-342-8f59706c4f43>\"\u001b[0;36m, line \u001b[0;32m1\u001b[0m\n\u001b[0;31m    a = calc_silhouette（X,3）\u001b[0m\n\u001b[0m                        ^\u001b[0m\n\u001b[0;31mSyntaxError\u001b[0m\u001b[0;31m:\u001b[0m invalid character in identifier\n"
     ]
    }
   ],
   "source": [
    "a = calc_silhouette（X,3）"
   ]
  },
  {
   "cell_type": "code",
   "execution_count": null,
   "metadata": {},
   "outputs": [],
   "source": [
    "def plot_silhouette(data, clusters):\n",
    "    \"\"\"\n",
    "    シルエット係数を計算・描画\n",
    "    \"\"\"\n",
    "    cl_size = {}\n",
    "    for c in np.unique(clusters):\n",
    "        cl_size[c] = np.count_nonzero(clusters == c)\n",
    "    silhouette = calc_silhouette(data, clusters)\n",
    "    silhouette_ave = np.average(silhouette)\n",
    "    ids_sorted = np.lexsort((silhouette, clusters))\n",
    "    data_sorted = data[ids_sorted]\n",
    "    silhouette_sorted = silhouette[ids_sorted]\n",
    "    \n",
    "    plt.figure(figsize=(12, 4))\n",
    "    \n",
    "    # クラスタの描画\n",
    "    plt.subplot(1, 2, 1)\n",
    "    plt.title('Clusters')\n",
    "    start = 0\n",
    "    for c in range(len(cl_size)):\n",
    "        plt.scatter(data_sorted[start:start+cl_size[c], 0], data_sorted[start:start+cl_size[c], 1], s=20, label='Cluster {}'.format(c+1))\n",
    "        start += cl_size[c]\n",
    "    plt.legend(loc='upper left')\n",
    "    # シルエット図の描画\n",
    "    plt.subplot(1, 2, 2)\n",
    "    plt.title('Silhouette')\n",
    "    plt.xlabel('Silhouette Coefficient')\n",
    "    plt.ylabel('Number of Data')\n",
    "    plt.axvline(silhouette_ave, c='black', linestyle='dashed', label='average = {:.3f}'.format(silhouette_ave))\n",
    "    start = 0\n",
    "    for c in range(len(cl_size)):\n",
    "        plt.barh(range(start, start+cl_size[c]), silhouette_sorted[start:start+cl_size[c]], height=1.0, label='Cluster {}'.format(c+1))\n",
    "        start += cl_size[c]\n",
    "    plt.legend(loc='upper left')\n",
    "    plt.show()"
   ]
  },
  {
   "cell_type": "code",
   "execution_count": null,
   "metadata": {},
   "outputs": [],
   "source": []
  },
  {
   "cell_type": "markdown",
   "metadata": {},
   "source": [
    "# 3.クラスタ分析\n",
    "\n",
    "卸売業者のデータ分析\n",
    "クラスタリングを利用法を学ぶために、Wholesale customers Data Setを使用します。\n",
    "\n",
    "UCI Machine Learning Repository: Wholesale customers Data Set  \n",
    "https://archive.ics.uci.edu/ml/datasets/Wholesale+customers\n",
    "\n",
    "\n",
    "Data Folderの中からWholesale customers data.csvをダウンロードしてください。これはポルトガルのリスボンにある卸売業者（wholesale）が顧客から集めたデータです。中身は各顧客が年間でミルクや食料品を何ユーロ購入しているかというデータになっています。顧客は小売店やレストランです。RegionとChannelは取り覗き、金額のデータでK-meansを利用します。\n",
    "\n",
    "\n",
    "次元削減\n",
    "金額に関する特徴量は6個ありますが、可視化するために次元削減を行います。これに関してはscikit-learnによるPCAのサンプルコードを用意したので利用してください。\n",
    "\n",
    "\n",
    "《PCAのサンプルコード》"
   ]
  },
  {
   "cell_type": "raw",
   "metadata": {},
   "source": [
    "from sklearn.decomposition import PCA\n",
    "pca = PCA(n_components = 2)\n",
    "pca = pca.fit(data)\n",
    "data_pca = pca.transform(data)"
   ]
  },
  {
   "cell_type": "raw",
   "metadata": {},
   "source": [
    "from sklearn.decomposition import PCA\n",
    "import matplotlib.pyplot as plt\n",
    "pca = PCA(n_components=None)\n",
    "pca = pca.fit(data)\n",
    "var_exp = pca.explained_variance_ratio_\n",
    "cum_var_exp = np.cumsum(var_exp)\n",
    "print(cum_var_exp)\n",
    "plt.bar(range(1,7), var_exp, alpha=0.5, align='center', label='individual explained variance')\n",
    "plt.step(range(1,7), cum_var_exp, where='mid', label='cumulative expalined variance')\n",
    "plt.ylabel('Explained variance ratio')\n",
    "plt.xlabel('Principal components')\n",
    "plt.hlines(0.7, 0, 6,  \"blue\", linestyles='dashed')\n",
    "plt.legend(loc='best')\n",
    "plt.grid()\n",
    "plt.show()"
   ]
  },
  {
   "cell_type": "markdown",
   "metadata": {},
   "source": [
    "## 【問題10】クラスタ数kの選択\n",
    "最適だと思われるクラスタ数kを選択してください。  \n",
    "エルボー法やシルエット図を活用する他、人間が後々どう利用したいのかも選択に関わってきます。選択した上で、なぜそれを選んだか説明してください。"
   ]
  },
  {
   "cell_type": "markdown",
   "metadata": {},
   "source": [
    "### 10.1.1（データセット）"
   ]
  },
  {
   "cell_type": "code",
   "execution_count": 250,
   "metadata": {},
   "outputs": [
    {
     "data": {
      "text/html": [
       "<div>\n",
       "<style scoped>\n",
       "    .dataframe tbody tr th:only-of-type {\n",
       "        vertical-align: middle;\n",
       "    }\n",
       "\n",
       "    .dataframe tbody tr th {\n",
       "        vertical-align: top;\n",
       "    }\n",
       "\n",
       "    .dataframe thead th {\n",
       "        text-align: right;\n",
       "    }\n",
       "</style>\n",
       "<table border=\"1\" class=\"dataframe\">\n",
       "  <thead>\n",
       "    <tr style=\"text-align: right;\">\n",
       "      <th></th>\n",
       "      <th>Channel</th>\n",
       "      <th>Region</th>\n",
       "      <th>Fresh</th>\n",
       "      <th>Milk</th>\n",
       "      <th>Grocery</th>\n",
       "      <th>Frozen</th>\n",
       "      <th>Detergents_Paper</th>\n",
       "      <th>Delicassen</th>\n",
       "    </tr>\n",
       "  </thead>\n",
       "  <tbody>\n",
       "    <tr>\n",
       "      <th>0</th>\n",
       "      <td>2</td>\n",
       "      <td>3</td>\n",
       "      <td>12669</td>\n",
       "      <td>9656</td>\n",
       "      <td>7561</td>\n",
       "      <td>214</td>\n",
       "      <td>2674</td>\n",
       "      <td>1338</td>\n",
       "    </tr>\n",
       "    <tr>\n",
       "      <th>1</th>\n",
       "      <td>2</td>\n",
       "      <td>3</td>\n",
       "      <td>7057</td>\n",
       "      <td>9810</td>\n",
       "      <td>9568</td>\n",
       "      <td>1762</td>\n",
       "      <td>3293</td>\n",
       "      <td>1776</td>\n",
       "    </tr>\n",
       "    <tr>\n",
       "      <th>2</th>\n",
       "      <td>2</td>\n",
       "      <td>3</td>\n",
       "      <td>6353</td>\n",
       "      <td>8808</td>\n",
       "      <td>7684</td>\n",
       "      <td>2405</td>\n",
       "      <td>3516</td>\n",
       "      <td>7844</td>\n",
       "    </tr>\n",
       "    <tr>\n",
       "      <th>3</th>\n",
       "      <td>1</td>\n",
       "      <td>3</td>\n",
       "      <td>13265</td>\n",
       "      <td>1196</td>\n",
       "      <td>4221</td>\n",
       "      <td>6404</td>\n",
       "      <td>507</td>\n",
       "      <td>1788</td>\n",
       "    </tr>\n",
       "    <tr>\n",
       "      <th>4</th>\n",
       "      <td>2</td>\n",
       "      <td>3</td>\n",
       "      <td>22615</td>\n",
       "      <td>5410</td>\n",
       "      <td>7198</td>\n",
       "      <td>3915</td>\n",
       "      <td>1777</td>\n",
       "      <td>5185</td>\n",
       "    </tr>\n",
       "  </tbody>\n",
       "</table>\n",
       "</div>"
      ],
      "text/plain": [
       "   Channel  Region  Fresh  Milk  Grocery  Frozen  Detergents_Paper  Delicassen\n",
       "0        2       3  12669  9656     7561     214              2674        1338\n",
       "1        2       3   7057  9810     9568    1762              3293        1776\n",
       "2        2       3   6353  8808     7684    2405              3516        7844\n",
       "3        1       3  13265  1196     4221    6404               507        1788\n",
       "4        2       3  22615  5410     7198    3915              1777        5185"
      ]
     },
     "execution_count": 250,
     "metadata": {},
     "output_type": "execute_result"
    }
   ],
   "source": [
    "dataset = pd.read_csv(\"sample_dataset/Wholesale customers data.csv\")\n",
    "df = pd.DataFrame(dataset)\n",
    "df.head()"
   ]
  },
  {
   "cell_type": "code",
   "execution_count": 251,
   "metadata": {},
   "outputs": [
    {
     "name": "stdout",
     "output_type": "stream",
     "text": [
      "client_list.shape (440, 6)\n"
     ]
    },
    {
     "data": {
      "text/html": [
       "<div>\n",
       "<style scoped>\n",
       "    .dataframe tbody tr th:only-of-type {\n",
       "        vertical-align: middle;\n",
       "    }\n",
       "\n",
       "    .dataframe tbody tr th {\n",
       "        vertical-align: top;\n",
       "    }\n",
       "\n",
       "    .dataframe thead th {\n",
       "        text-align: right;\n",
       "    }\n",
       "</style>\n",
       "<table border=\"1\" class=\"dataframe\">\n",
       "  <thead>\n",
       "    <tr style=\"text-align: right;\">\n",
       "      <th></th>\n",
       "      <th>Fresh</th>\n",
       "      <th>Milk</th>\n",
       "      <th>Grocery</th>\n",
       "      <th>Frozen</th>\n",
       "      <th>Detergents_Paper</th>\n",
       "      <th>Delicassen</th>\n",
       "    </tr>\n",
       "  </thead>\n",
       "  <tbody>\n",
       "    <tr>\n",
       "      <th>0</th>\n",
       "      <td>12669</td>\n",
       "      <td>9656</td>\n",
       "      <td>7561</td>\n",
       "      <td>214</td>\n",
       "      <td>2674</td>\n",
       "      <td>1338</td>\n",
       "    </tr>\n",
       "    <tr>\n",
       "      <th>1</th>\n",
       "      <td>7057</td>\n",
       "      <td>9810</td>\n",
       "      <td>9568</td>\n",
       "      <td>1762</td>\n",
       "      <td>3293</td>\n",
       "      <td>1776</td>\n",
       "    </tr>\n",
       "    <tr>\n",
       "      <th>2</th>\n",
       "      <td>6353</td>\n",
       "      <td>8808</td>\n",
       "      <td>7684</td>\n",
       "      <td>2405</td>\n",
       "      <td>3516</td>\n",
       "      <td>7844</td>\n",
       "    </tr>\n",
       "    <tr>\n",
       "      <th>3</th>\n",
       "      <td>13265</td>\n",
       "      <td>1196</td>\n",
       "      <td>4221</td>\n",
       "      <td>6404</td>\n",
       "      <td>507</td>\n",
       "      <td>1788</td>\n",
       "    </tr>\n",
       "    <tr>\n",
       "      <th>4</th>\n",
       "      <td>22615</td>\n",
       "      <td>5410</td>\n",
       "      <td>7198</td>\n",
       "      <td>3915</td>\n",
       "      <td>1777</td>\n",
       "      <td>5185</td>\n",
       "    </tr>\n",
       "  </tbody>\n",
       "</table>\n",
       "</div>"
      ],
      "text/plain": [
       "   Fresh  Milk  Grocery  Frozen  Detergents_Paper  Delicassen\n",
       "0  12669  9656     7561     214              2674        1338\n",
       "1   7057  9810     9568    1762              3293        1776\n",
       "2   6353  8808     7684    2405              3516        7844\n",
       "3  13265  1196     4221    6404               507        1788\n",
       "4  22615  5410     7198    3915              1777        5185"
      ]
     },
     "execution_count": 251,
     "metadata": {},
     "output_type": "execute_result"
    }
   ],
   "source": [
    "client_list = df.drop([\"Channel\", \"Region\"], axis=1)\n",
    "print(\"client_list.shape\",client_list.shape)\n",
    "client_list.head()"
   ]
  },
  {
   "cell_type": "markdown",
   "metadata": {},
   "source": [
    "### 10.2.1（前処理）"
   ]
  },
  {
   "cell_type": "code",
   "execution_count": 252,
   "metadata": {},
   "outputs": [
    {
     "data": {
      "text/plain": [
       "array([[-0.77411991, -0.73854554, -0.83707169, -0.99378739, -0.8691456 ,\n",
       "        -0.94430538],\n",
       "       [-0.87420195, -0.73435181, -0.79380665, -0.94290316, -0.8388203 ,\n",
       "        -0.92603254],\n",
       "       [-0.88675679, -0.76163828, -0.83442017, -0.92176714, -0.82789536,\n",
       "        -0.67288277],\n",
       "       [-0.7634911 , -0.96892828, -0.90907229, -0.79031622, -0.97530864,\n",
       "        -0.92553191],\n",
       "       [-0.59674716, -0.85417262, -0.8448969 , -0.87213201, -0.91309034,\n",
       "        -0.7838131 ]])"
      ]
     },
     "execution_count": 252,
     "metadata": {},
     "output_type": "execute_result"
    }
   ],
   "source": [
    "# 正規化\n",
    "from sklearn.preprocessing import MinMaxScaler\n",
    "scaler = MinMaxScaler([-1,1])\n",
    "client_norm = scaler.fit_transform(client_list)\n",
    "client_norm[:5]"
   ]
  },
  {
   "cell_type": "code",
   "execution_count": 253,
   "metadata": {},
   "outputs": [
    {
     "data": {
      "text/plain": [
       "array([[ 0.30168043,  1.06571214,  0.32995207, -0.46657183,  0.50678671,\n",
       "         0.2638102 ],\n",
       "       [-0.1048095 ,  1.09293385,  0.56599336,  0.08392603,  0.67567015,\n",
       "         0.5740085 ],\n",
       "       [-0.15580183,  0.91581599,  0.34441798,  0.3125889 ,  0.73651183,\n",
       "         4.87145892],\n",
       "       [ 0.34485007, -0.42971408, -0.06286202,  1.73470839, -0.08444172,\n",
       "         0.58250708],\n",
       "       [ 1.02209184,  0.3151708 ,  0.28726   ,  0.84957326,  0.26205579,\n",
       "         2.98831445]])"
      ]
     },
     "execution_count": 253,
     "metadata": {},
     "output_type": "execute_result"
    }
   ],
   "source": [
    "# 外れ値を除く標準化\n",
    "from sklearn import preprocessing\n",
    "rscaler = preprocessing.RobustScaler(quantile_range=(25.0, 75.0))\n",
    "rscaler.fit(client_list)\n",
    "client_rsc = rscaler.transform(client_list)\n",
    "client_rsc[:5]"
   ]
  },
  {
   "cell_type": "code",
   "execution_count": 254,
   "metadata": {},
   "outputs": [
    {
     "data": {
      "text/html": [
       "<div>\n",
       "<style scoped>\n",
       "    .dataframe tbody tr th:only-of-type {\n",
       "        vertical-align: middle;\n",
       "    }\n",
       "\n",
       "    .dataframe tbody tr th {\n",
       "        vertical-align: top;\n",
       "    }\n",
       "\n",
       "    .dataframe thead th {\n",
       "        text-align: right;\n",
       "    }\n",
       "</style>\n",
       "<table border=\"1\" class=\"dataframe\">\n",
       "  <thead>\n",
       "    <tr style=\"text-align: right;\">\n",
       "      <th></th>\n",
       "      <th>Fresh</th>\n",
       "      <th>Milk</th>\n",
       "      <th>Grocery</th>\n",
       "      <th>Frozen</th>\n",
       "      <th>Detergents_Paper</th>\n",
       "      <th>Delicassen</th>\n",
       "    </tr>\n",
       "  </thead>\n",
       "  <tbody>\n",
       "    <tr>\n",
       "      <th>0</th>\n",
       "      <td>9.446913</td>\n",
       "      <td>9.175335</td>\n",
       "      <td>8.930759</td>\n",
       "      <td>5.365976</td>\n",
       "      <td>7.891331</td>\n",
       "      <td>7.198931</td>\n",
       "    </tr>\n",
       "    <tr>\n",
       "      <th>1</th>\n",
       "      <td>8.861775</td>\n",
       "      <td>9.191158</td>\n",
       "      <td>9.166179</td>\n",
       "      <td>7.474205</td>\n",
       "      <td>8.099554</td>\n",
       "      <td>7.482119</td>\n",
       "    </tr>\n",
       "    <tr>\n",
       "      <th>2</th>\n",
       "      <td>8.756682</td>\n",
       "      <td>9.083416</td>\n",
       "      <td>8.946896</td>\n",
       "      <td>7.785305</td>\n",
       "      <td>8.165079</td>\n",
       "      <td>8.967504</td>\n",
       "    </tr>\n",
       "    <tr>\n",
       "      <th>3</th>\n",
       "      <td>9.492884</td>\n",
       "      <td>7.086738</td>\n",
       "      <td>8.347827</td>\n",
       "      <td>8.764678</td>\n",
       "      <td>6.228511</td>\n",
       "      <td>7.488853</td>\n",
       "    </tr>\n",
       "    <tr>\n",
       "      <th>4</th>\n",
       "      <td>10.026369</td>\n",
       "      <td>8.596004</td>\n",
       "      <td>8.881558</td>\n",
       "      <td>8.272571</td>\n",
       "      <td>7.482682</td>\n",
       "      <td>8.553525</td>\n",
       "    </tr>\n",
       "  </tbody>\n",
       "</table>\n",
       "</div>"
      ],
      "text/plain": [
       "       Fresh      Milk   Grocery    Frozen  Detergents_Paper  Delicassen\n",
       "0   9.446913  9.175335  8.930759  5.365976          7.891331    7.198931\n",
       "1   8.861775  9.191158  9.166179  7.474205          8.099554    7.482119\n",
       "2   8.756682  9.083416  8.946896  7.785305          8.165079    8.967504\n",
       "3   9.492884  7.086738  8.347827  8.764678          6.228511    7.488853\n",
       "4  10.026369  8.596004  8.881558  8.272571          7.482682    8.553525"
      ]
     },
     "execution_count": 254,
     "metadata": {},
     "output_type": "execute_result"
    }
   ],
   "source": [
    "# 対数変換\n",
    "client_log = np.log(client_list)\n",
    "client_log[:5]"
   ]
  },
  {
   "cell_type": "code",
   "execution_count": 255,
   "metadata": {},
   "outputs": [
    {
     "data": {
      "text/plain": [
       "array([[ 0.23601303,  0.63356598,  0.28995172, -1.2542388 ,  0.43514635,\n",
       "         0.21827309],\n",
       "       [-0.11042642,  0.64380396,  0.43715984,  0.09182435,  0.51152392,\n",
       "         0.40771482],\n",
       "       [-0.17264818,  0.57409063,  0.30004203,  0.2904559 ,  0.53555886,\n",
       "         1.40138075],\n",
       "       [ 0.26323078, -0.71784029, -0.07455411,  0.91576648, -0.17478537,\n",
       "         0.41221963],\n",
       "       [ 0.57908794,  0.25871588,  0.25918691,  0.60156542,  0.28525161,\n",
       "         1.12444458]])"
      ]
     },
     "execution_count": 255,
     "metadata": {},
     "output_type": "execute_result"
    }
   ],
   "source": [
    "# 対数変換 → 外れ値を除く標準化\n",
    "rscaler = preprocessing.RobustScaler(quantile_range=(25.0, 75.0))\n",
    "rscaler.fit(client_log)\n",
    "client_rslg = rscaler.transform(client_log)\n",
    "client_rslg[:5]"
   ]
  },
  {
   "cell_type": "markdown",
   "metadata": {},
   "source": [
    "### （予備知識）PCA=主成分分析"
   ]
  },
  {
   "cell_type": "markdown",
   "metadata": {},
   "source": [
    "可視化しやすいように特徴量を抽出して、２次元まで特徴を減らす手法。(次元削除）  \n",
    "次元を減らす減らさない、何個まで減らす等の規定は無い。  \n",
    "主成分分析は教師なし学習なので、正解（ラベルや教師データ）がないため、分散によって次元の重要度を決めます。  \n",
    "\n",
    "**主成分分析の評価方法（累積寄与率）**  \n",
    "一般的に累積寄与率が80%となるよう、主成分を抽出すると良いとされています。  \n",
    "explained_variance_ratio_メソッドを使うことで、計算することが出来ます。"
   ]
  },
  {
   "cell_type": "code",
   "execution_count": 348,
   "metadata": {},
   "outputs": [],
   "source": [
    "# PCA\n",
    "from sklearn.decomposition import PCA\n",
    "\n",
    "pca = PCA(n_components = 2)\n",
    "\n",
    "pca1 = pca.fit(client_norm)\n",
    "pca2 = pca.fit(client_rsc)\n",
    "pca3 = pca.fit(client_log)\n",
    "pca4 = pca.fit(client_rslg)\n",
    "pca5 = pca.fit(client_list)\n",
    "\n",
    "data_pca1 = pca1.transform(client_norm)\n",
    "data_pca2 = pca2.transform(client_rsc)\n",
    "data_pca3 = pca3.transform(client_log)\n",
    "data_pca4 = pca4.transform(client_rslg)\n",
    "data_pca5 = pca5.transform(client_rslg)"
   ]
  },
  {
   "cell_type": "code",
   "execution_count": 257,
   "metadata": {},
   "outputs": [
    {
     "name": "stdout",
     "output_type": "stream",
     "text": [
      "[0.51948323 0.7835533  0.8896143  0.95219446 0.98716868 1.        ]\n"
     ]
    },
    {
     "data": {
      "image/png": "[encoded data removed]",
      "text/plain": [
       "<Figure size 432x288 with 1 Axes>"
      ]
     },
     "metadata": {
      "needs_background": "light"
     },
     "output_type": "display_data"
    }
   ],
   "source": [
    "# 主成分分析の評価（正規化）\n",
    "from sklearn.decomposition import PCA\n",
    "pca1 = PCA(n_components=None)\n",
    "pca1 = pca1.fit(client_norm)\n",
    "var_exp1 = pca1.explained_variance_ratio_\n",
    "cum_var_exp1 = np.cumsum(var_exp1)\n",
    "print(cum_var_exp1)\n",
    "plt.bar(range(1,7), var_exp1, alpha=0.5, align='center', label='individual explained variance')\n",
    "plt.step(range(1,7), cum_var_exp1, where='mid', label='cumulative expalined variance')\n",
    "plt.ylabel('Explained variance ratio')\n",
    "plt.xlabel('Principal components')\n",
    "plt.hlines(0.7, 0, 6,  \"blue\", linestyles='dashed')\n",
    "plt.legend(loc='best')\n",
    "plt.grid()\n",
    "plt.show()"
   ]
  },
  {
   "cell_type": "code",
   "execution_count": 258,
   "metadata": {},
   "outputs": [
    {
     "name": "stdout",
     "output_type": "stream",
     "text": [
      "[0.44377284 0.7462558  0.89658575 0.95360082 0.99278014 1.        ]\n"
     ]
    },
    {
     "data": {
      "image/png": "[encoded data removed]",
      "text/plain": [
       "<Figure size 432x288 with 1 Axes>"
      ]
     },
     "metadata": {
      "needs_background": "light"
     },
     "output_type": "display_data"
    }
   ],
   "source": [
    "# 主成分分析の評価（標準化）\n",
    "from sklearn.decomposition import PCA\n",
    "pca2 = PCA(n_components=None)\n",
    "pca2 = pca2.fit(client_rsc)\n",
    "var_exp2 = pca2.explained_variance_ratio_\n",
    "cum_var_exp2 = np.cumsum(var_exp2)\n",
    "print(cum_var_exp2)\n",
    "plt.bar(range(1,7), var_exp2, alpha=0.5, align='center', label='individual explained variance')\n",
    "plt.step(range(1,7), cum_var_exp2, where='mid', label='cumulative expalined variance')\n",
    "plt.ylabel('Explained variance ratio')\n",
    "plt.xlabel('Principal components')\n",
    "plt.hlines(0.7, 0, 6,  \"blue\", linestyles='dashed')\n",
    "plt.legend(loc='best')\n",
    "plt.grid()\n",
    "plt.show()"
   ]
  },
  {
   "cell_type": "code",
   "execution_count": 259,
   "metadata": {},
   "outputs": [
    {
     "name": "stdout",
     "output_type": "stream",
     "text": [
      "[0.44237417 0.71894523 0.83511865 0.93129585 0.97705265 1.        ]\n"
     ]
    },
    {
     "data": {
      "image/png": "[encoded data removed]",
      "text/plain": [
       "<Figure size 432x288 with 1 Axes>"
      ]
     },
     "metadata": {
      "needs_background": "light"
     },
     "output_type": "display_data"
    }
   ],
   "source": [
    "# 主成分分析の評価（対数変換）\n",
    "from sklearn.decomposition import PCA\n",
    "pca3 = PCA(n_components=None)\n",
    "pca3 = pca3.fit(client_log)\n",
    "var_exp3 = pca3.explained_variance_ratio_\n",
    "cum_var_exp3 = np.cumsum(var_exp3)\n",
    "print(cum_var_exp3)\n",
    "plt.bar(range(1,7), var_exp3, alpha=0.5, align='center', label='individual explained variance')\n",
    "plt.step(range(1,7), cum_var_exp3, where='mid', label='cumulative expalined variance')\n",
    "plt.ylabel('Explained variance ratio')\n",
    "plt.xlabel('Principal components')\n",
    "plt.hlines(0.7, 0, 6,  \"blue\", linestyles='dashed')\n",
    "plt.legend(loc='best')\n",
    "plt.grid()\n",
    "plt.show()"
   ]
  },
  {
   "cell_type": "code",
   "execution_count": 260,
   "metadata": {},
   "outputs": [
    {
     "name": "stdout",
     "output_type": "stream",
     "text": [
      "[0.35751386 0.68902866 0.82149452 0.93884668 0.97651529 1.        ]\n"
     ]
    },
    {
     "data": {
      "image/png": "[encoded data removed]",
      "text/plain": [
       "<Figure size 432x288 with 1 Axes>"
      ]
     },
     "metadata": {
      "needs_background": "light"
     },
     "output_type": "display_data"
    }
   ],
   "source": [
    "# 主成分分析の評価（対数変換 → 標準化）\n",
    "from sklearn.decomposition import PCA\n",
    "pca4 = PCA(n_components=None)\n",
    "pca4 = pca4.fit(client_rslg)\n",
    "var_exp4 = pca4.explained_variance_ratio_\n",
    "cum_var_exp4 = np.cumsum(var_exp4)\n",
    "print(cum_var_exp4)\n",
    "plt.bar(range(1,7), var_exp3, alpha=0.5, align='center', label='individual explained variance')\n",
    "plt.step(range(1,7), cum_var_exp3, where='mid', label='cumulative expalined variance')\n",
    "plt.ylabel('Explained variance ratio')\n",
    "plt.xlabel('Principal components')\n",
    "plt.hlines(0.7, 0, 6,  \"blue\", linestyles='dashed')\n",
    "plt.legend(loc='best')\n",
    "plt.grid()\n",
    "plt.show()"
   ]
  },
  {
   "cell_type": "code",
   "execution_count": 321,
   "metadata": {},
   "outputs": [
    {
     "name": "stdout",
     "output_type": "stream",
     "text": [
      "[0.35751386 0.68902866 0.82149452 0.93884668 0.97651529 1.        ]\n"
     ]
    },
    {
     "data": {
      "image/png": "[encoded data removed]",
      "text/plain": [
       "<Figure size 432x288 with 1 Axes>"
      ]
     },
     "metadata": {
      "needs_background": "light"
     },
     "output_type": "display_data"
    }
   ],
   "source": [
    "# 主成分分析の評価（元データ）\n",
    "from sklearn.decomposition import PCA\n",
    "pca5 = PCA(n_components=None)\n",
    "pca5 = pca5.fit(client_rslg)\n",
    "var_exp5 = pca5.explained_variance_ratio_\n",
    "cum_var_exp5 = np.cumsum(var_exp5)\n",
    "print(cum_var_exp5)\n",
    "plt.bar(range(1,7), var_exp5, alpha=0.5, align='center', label='individual explained variance')\n",
    "plt.step(range(1,7), cum_var_exp5, where='mid', label='cumulative expalined variance')\n",
    "plt.ylabel('Explained variance ratio')\n",
    "plt.xlabel('Principal components')\n",
    "plt.hlines(0.7, 0, 6,  \"blue\", linestyles='dashed')\n",
    "plt.legend(loc='best')\n",
    "plt.grid()\n",
    "plt.show()"
   ]
  },
  {
   "cell_type": "code",
   "execution_count": 261,
   "metadata": {},
   "outputs": [
    {
     "data": {
      "image/png": "[encoded data removed]",
      "text/plain": [
       "<Figure size 432x288 with 1 Axes>"
      ]
     },
     "metadata": {
      "needs_background": "light"
     },
     "output_type": "display_data"
    }
   ],
   "source": [
    "# 主成分をプロットする(正規化)\n",
    "plt.scatter(data_pca1[:, 0], data_pca1[:, 1])\n",
    "plt.title('PCA')\n",
    "plt.xlabel('PCA1')\n",
    "plt.ylabel('PCA2')\n",
    "plt.savefig('PCA_sample1')\n",
    "plt.show()"
   ]
  },
  {
   "cell_type": "code",
   "execution_count": 262,
   "metadata": {},
   "outputs": [
    {
     "data": {
      "image/png": "[encoded data removed]",
      "text/plain": [
       "<Figure size 432x288 with 1 Axes>"
      ]
     },
     "metadata": {
      "needs_background": "light"
     },
     "output_type": "display_data"
    }
   ],
   "source": [
    "# 主成分をプロットする（標準化）\n",
    "plt.scatter(data_pca2[:, 0], data_pca2[:, 1])\n",
    "plt.title('PCA')\n",
    "plt.xlabel('PCA1')\n",
    "plt.ylabel('PCA2')\n",
    "plt.savefig('PCA_sample1')\n",
    "plt.show()"
   ]
  },
  {
   "cell_type": "code",
   "execution_count": 264,
   "metadata": {},
   "outputs": [
    {
     "data": {
      "image/png": "[encoded data removed]",
      "text/plain": [
       "<Figure size 432x288 with 1 Axes>"
      ]
     },
     "metadata": {
      "needs_background": "light"
     },
     "output_type": "display_data"
    }
   ],
   "source": [
    "# 主成分をプロットする（対数変換）\n",
    "plt.scatter(data_pca3[:, 0], data_pca3[:, 1])\n",
    "plt.title('PCA')\n",
    "plt.xlabel('PCA1')\n",
    "plt.ylabel('PCA2')\n",
    "plt.savefig('PCA_sample1')\n",
    "plt.show()"
   ]
  },
  {
   "cell_type": "code",
   "execution_count": 265,
   "metadata": {},
   "outputs": [
    {
     "data": {
      "image/png": "[encoded data removed]",
      "text/plain": [
       "<Figure size 432x288 with 1 Axes>"
      ]
     },
     "metadata": {
      "needs_background": "light"
     },
     "output_type": "display_data"
    }
   ],
   "source": [
    "# 主成分をプロットする（対数変換）\n",
    "plt.scatter(data_pca4[:, 0], data_pca4[:, 1])\n",
    "plt.title('PCA')\n",
    "plt.xlabel('PCA1')\n",
    "plt.ylabel('PCA2')\n",
    "plt.savefig('PCA_sample1')\n",
    "plt.show()"
   ]
  },
  {
   "cell_type": "code",
   "execution_count": 322,
   "metadata": {},
   "outputs": [
    {
     "data": {
      "image/png": "[encoded data removed]",
      "text/plain": [
       "<Figure size 432x288 with 1 Axes>"
      ]
     },
     "metadata": {
      "needs_background": "light"
     },
     "output_type": "display_data"
    }
   ],
   "source": [
    "# 主成分をプロットする（元データ）\n",
    "plt.scatter(data_pca5[:, 0], data_pca5[:, 1])\n",
    "plt.title('PCA')\n",
    "plt.xlabel('PCA1')\n",
    "plt.ylabel('PCA2')\n",
    "plt.savefig('PCA_sample1')\n",
    "plt.show()"
   ]
  },
  {
   "cell_type": "markdown",
   "metadata": {},
   "source": [
    "### 10.3.1（検証）"
   ]
  },
  {
   "cell_type": "code",
   "execution_count": 323,
   "metadata": {},
   "outputs": [
    {
     "name": "stderr",
     "output_type": "stream",
     "text": [
      "<ipython-input-133-a49b744edd8d>:93: RuntimeWarning: Mean of empty slice.\n",
      "  a = X[label==i,:].mean(axis=0)\n",
      "/opt/anaconda3/lib/python3.8/site-packages/numpy/core/_methods.py:153: RuntimeWarning: invalid value encountered in true_divide\n",
      "  ret = um.true_divide(\n"
     ]
    },
    {
     "data": {
      "text/plain": [
       "Text(0, 0.5, 'SSE')"
      ]
     },
     "execution_count": 323,
     "metadata": {},
     "output_type": "execute_result"
    },
    {
     "data": {
      "image/png": "[encoded data removed]",
      "text/plain": [
       "<Figure size 432x288 with 1 Axes>"
      ]
     },
     "metadata": {
      "needs_background": "light"
     },
     "output_type": "display_data"
    }
   ],
   "source": [
    "elbow1 = []\n",
    "\n",
    "for i in range(1,11):\n",
    "    skm = ScratchKMeans(n_clusters=i, n_init=3, max_iter=5, tol=10)\n",
    "    score1 = skm.fit(data_pca4)\n",
    "    elbow1.append(score1)\n",
    "plt.plot(range(1,11), elbow, marker='o')\n",
    "plt.xlabel('Number of clusters')\n",
    "plt.ylabel('SSE')"
   ]
  },
  {
   "cell_type": "code",
   "execution_count": 273,
   "metadata": {},
   "outputs": [
    {
     "data": {
      "text/plain": [
       "array([1, 1, 1, 2, 1, 1, 1, 1, 1, 1])"
      ]
     },
     "execution_count": 273,
     "metadata": {},
     "output_type": "execute_result"
    }
   ],
   "source": [
    "skm = ScratchKMeans(n_clusters=3, n_init=3, max_iter=5, tol=10)\n",
    "skm.fit(data_pca4)\n",
    "pca4_pred, pca4_centers = skm.predict(data_pca4)\n",
    "pca4_pred[:10]"
   ]
  },
  {
   "cell_type": "code",
   "execution_count": 276,
   "metadata": {},
   "outputs": [
    {
     "data": {
      "image/png": "[encoded data removed]",
      "text/plain": [
       "<Figure size 1440x288 with 1 Axes>"
      ]
     },
     "metadata": {
      "needs_background": "light"
     },
     "output_type": "display_data"
    }
   ],
   "source": [
    "fig = plt.figure(figsize=(20,4))\n",
    "color_list = [\"pink\",\"skyblue\",\"lightgreen\",\"yellow\"]\n",
    "\n",
    "ax1 = fig.add_subplot(1,3,1)\n",
    "for i in range(pca4_centers.shape[0]):\n",
    "    group_i = (data_pca4[pca4_pred==i,:])\n",
    "    ax1.scatter(group_i[:,0],group_i[:,1],color=color_list[i])\n",
    "    ax1.scatter(pca4_centers[:,0],pca4_centers[:,1], c=\"r\",s=180,alpha=0.5,marker=\"*\")"
   ]
  },
  {
   "cell_type": "markdown",
   "metadata": {},
   "source": [
    "### 10.4.1（元データで検証】"
   ]
  },
  {
   "cell_type": "code",
   "execution_count": 324,
   "metadata": {},
   "outputs": [
    {
     "name": "stderr",
     "output_type": "stream",
     "text": [
      "<ipython-input-133-a49b744edd8d>:93: RuntimeWarning: Mean of empty slice.\n",
      "  a = X[label==i,:].mean(axis=0)\n",
      "/opt/anaconda3/lib/python3.8/site-packages/numpy/core/_methods.py:153: RuntimeWarning: invalid value encountered in true_divide\n",
      "  ret = um.true_divide(\n"
     ]
    },
    {
     "data": {
      "text/plain": [
       "Text(0, 0.5, 'SSE')"
      ]
     },
     "execution_count": 324,
     "metadata": {},
     "output_type": "execute_result"
    },
    {
     "data": {
      "image/png": "[encoded data removed]",
      "text/plain": [
       "<Figure size 432x288 with 1 Axes>"
      ]
     },
     "metadata": {
      "needs_background": "light"
     },
     "output_type": "display_data"
    }
   ],
   "source": [
    "elbow1 = []\n",
    "\n",
    "for i in range(1,11):\n",
    "    skm = ScratchKMeans(n_clusters=i, n_init=3, max_iter=5, tol=10)\n",
    "    score1 = skm.fit(data_pca5)\n",
    "    elbow1.append(score1)\n",
    "plt.plot(range(1,11), elbow, marker='o')\n",
    "plt.xlabel('Number of clusters')\n",
    "plt.ylabel('SSE')"
   ]
  },
  {
   "cell_type": "code",
   "execution_count": 337,
   "metadata": {},
   "outputs": [
    {
     "data": {
      "text/plain": [
       "array([0, 0, 0, 2, 2, 2, 2, 0, 2, 0, 0, 2, 0, 0, 0, 2, 0, 2, 0, 2, 2, 2,\n",
       "       2, 0, 0, 2, 2, 2, 0, 2, 2, 1, 2, 2, 1, 1, 2, 0, 0, 2, 2, 2, 0, 0,\n",
       "       0, 0, 0, 0, 0, 0, 2, 1, 2, 0, 2, 2, 0, 0, 2, 0, 2, 0, 2, 0, 2, 0,\n",
       "       1, 0, 1, 2, 2, 2, 2, 2, 0, 2, 1, 0, 2, 1, 1, 0, 0, 2, 2, 0, 0, 2,\n",
       "       2, 2, 2, 2, 0, 2, 0, 1, 1, 1, 1, 2])"
      ]
     },
     "execution_count": 337,
     "metadata": {},
     "output_type": "execute_result"
    }
   ],
   "source": [
    "skm = ScratchKMeans(n_clusters=3, n_init=3, max_iter=5, tol=10)\n",
    "skm.fit(data_pca5)\n",
    "pca5_pred, pca5_centers = skm.predict(data_pca5)\n",
    "pca5_pred[:100]"
   ]
  },
  {
   "cell_type": "code",
   "execution_count": 338,
   "metadata": {},
   "outputs": [
    {
     "data": {
      "image/png": "[encoded data removed]",
      "text/plain": [
       "<Figure size 1440x288 with 1 Axes>"
      ]
     },
     "metadata": {
      "needs_background": "light"
     },
     "output_type": "display_data"
    }
   ],
   "source": [
    "fig = plt.figure(figsize=(20,4))\n",
    "color_list = [\"pink\",\"skyblue\",\"lightgreen\",\"yellow\"]\n",
    "\n",
    "ax1 = fig.add_subplot(1,3,1)\n",
    "for i in range(pca5_centers.shape[0]):\n",
    "    group_i = (data_pca5[pca5_pred==i,:])\n",
    "    ax1.scatter(group_i[:,0],group_i[:,1],color=color_list[i])\n",
    "    ax1.scatter(pca5_centers[:,0],pca5_centers[:,1], c=\"r\",s=180,alpha=0.5,marker=\"*\")"
   ]
  },
  {
   "cell_type": "markdown",
   "metadata": {},
   "source": [
    "### 10.4.1（解答）"
   ]
  },
  {
   "cell_type": "markdown",
   "metadata": {},
   "source": [
    "エルボー法の結果と、元データのRegion（３分類）とChannel（２分類）の分類数から２or3で分類する事が有力な方法だと考える。  \n",
    "pcaの評価でも2は80%手前、3は80%以上と良さそうな評価を得ている。  \n",
    "Region、Channelとの検証は事項で検証を行う。"
   ]
  },
  {
   "cell_type": "markdown",
   "metadata": {},
   "source": [
    "## 【問題11】既知のグループとの比較  \n",
    "RegionとChannelはK-meansに使用しなかったが、これれらは既知のグループです。  \n",
    "クラスタとこれら既知のグループがどう違うかを確認し、説明してください。まずはそれぞれを可視化してください。"
   ]
  },
  {
   "cell_type": "markdown",
   "metadata": {},
   "source": [
    "### 11.1.1（検証）"
   ]
  },
  {
   "cell_type": "code",
   "execution_count": 314,
   "metadata": {},
   "outputs": [
    {
     "data": {
      "text/html": [
       "<div>\n",
       "<style scoped>\n",
       "    .dataframe tbody tr th:only-of-type {\n",
       "        vertical-align: middle;\n",
       "    }\n",
       "\n",
       "    .dataframe tbody tr th {\n",
       "        vertical-align: top;\n",
       "    }\n",
       "\n",
       "    .dataframe thead th {\n",
       "        text-align: right;\n",
       "    }\n",
       "</style>\n",
       "<table border=\"1\" class=\"dataframe\">\n",
       "  <thead>\n",
       "    <tr style=\"text-align: right;\">\n",
       "      <th></th>\n",
       "      <th>Channel</th>\n",
       "      <th>Region</th>\n",
       "      <th>Fresh</th>\n",
       "      <th>Milk</th>\n",
       "      <th>Grocery</th>\n",
       "      <th>Frozen</th>\n",
       "      <th>Detergents_Paper</th>\n",
       "      <th>Delicassen</th>\n",
       "      <th>cluster</th>\n",
       "    </tr>\n",
       "  </thead>\n",
       "  <tbody>\n",
       "    <tr>\n",
       "      <th>0</th>\n",
       "      <td>2</td>\n",
       "      <td>3</td>\n",
       "      <td>12669</td>\n",
       "      <td>9656</td>\n",
       "      <td>7561</td>\n",
       "      <td>214</td>\n",
       "      <td>2674</td>\n",
       "      <td>1338</td>\n",
       "      <td>1</td>\n",
       "    </tr>\n",
       "    <tr>\n",
       "      <th>1</th>\n",
       "      <td>2</td>\n",
       "      <td>3</td>\n",
       "      <td>7057</td>\n",
       "      <td>9810</td>\n",
       "      <td>9568</td>\n",
       "      <td>1762</td>\n",
       "      <td>3293</td>\n",
       "      <td>1776</td>\n",
       "      <td>1</td>\n",
       "    </tr>\n",
       "    <tr>\n",
       "      <th>2</th>\n",
       "      <td>2</td>\n",
       "      <td>3</td>\n",
       "      <td>6353</td>\n",
       "      <td>8808</td>\n",
       "      <td>7684</td>\n",
       "      <td>2405</td>\n",
       "      <td>3516</td>\n",
       "      <td>7844</td>\n",
       "      <td>1</td>\n",
       "    </tr>\n",
       "    <tr>\n",
       "      <th>3</th>\n",
       "      <td>1</td>\n",
       "      <td>3</td>\n",
       "      <td>13265</td>\n",
       "      <td>1196</td>\n",
       "      <td>4221</td>\n",
       "      <td>6404</td>\n",
       "      <td>507</td>\n",
       "      <td>1788</td>\n",
       "      <td>2</td>\n",
       "    </tr>\n",
       "    <tr>\n",
       "      <th>4</th>\n",
       "      <td>2</td>\n",
       "      <td>3</td>\n",
       "      <td>22615</td>\n",
       "      <td>5410</td>\n",
       "      <td>7198</td>\n",
       "      <td>3915</td>\n",
       "      <td>1777</td>\n",
       "      <td>5185</td>\n",
       "      <td>1</td>\n",
       "    </tr>\n",
       "    <tr>\n",
       "      <th>...</th>\n",
       "      <td>...</td>\n",
       "      <td>...</td>\n",
       "      <td>...</td>\n",
       "      <td>...</td>\n",
       "      <td>...</td>\n",
       "      <td>...</td>\n",
       "      <td>...</td>\n",
       "      <td>...</td>\n",
       "      <td>...</td>\n",
       "    </tr>\n",
       "    <tr>\n",
       "      <th>435</th>\n",
       "      <td>1</td>\n",
       "      <td>3</td>\n",
       "      <td>29703</td>\n",
       "      <td>12051</td>\n",
       "      <td>16027</td>\n",
       "      <td>13135</td>\n",
       "      <td>182</td>\n",
       "      <td>2204</td>\n",
       "      <td>1</td>\n",
       "    </tr>\n",
       "    <tr>\n",
       "      <th>436</th>\n",
       "      <td>1</td>\n",
       "      <td>3</td>\n",
       "      <td>39228</td>\n",
       "      <td>1431</td>\n",
       "      <td>764</td>\n",
       "      <td>4510</td>\n",
       "      <td>93</td>\n",
       "      <td>2346</td>\n",
       "      <td>2</td>\n",
       "    </tr>\n",
       "    <tr>\n",
       "      <th>437</th>\n",
       "      <td>2</td>\n",
       "      <td>3</td>\n",
       "      <td>14531</td>\n",
       "      <td>15488</td>\n",
       "      <td>30243</td>\n",
       "      <td>437</td>\n",
       "      <td>14841</td>\n",
       "      <td>1867</td>\n",
       "      <td>1</td>\n",
       "    </tr>\n",
       "    <tr>\n",
       "      <th>438</th>\n",
       "      <td>1</td>\n",
       "      <td>3</td>\n",
       "      <td>10290</td>\n",
       "      <td>1981</td>\n",
       "      <td>2232</td>\n",
       "      <td>1038</td>\n",
       "      <td>168</td>\n",
       "      <td>2125</td>\n",
       "      <td>2</td>\n",
       "    </tr>\n",
       "    <tr>\n",
       "      <th>439</th>\n",
       "      <td>1</td>\n",
       "      <td>3</td>\n",
       "      <td>2787</td>\n",
       "      <td>1698</td>\n",
       "      <td>2510</td>\n",
       "      <td>65</td>\n",
       "      <td>477</td>\n",
       "      <td>52</td>\n",
       "      <td>0</td>\n",
       "    </tr>\n",
       "  </tbody>\n",
       "</table>\n",
       "<p>440 rows × 9 columns</p>\n",
       "</div>"
      ],
      "text/plain": [
       "     Channel  Region  Fresh   Milk  Grocery  Frozen  Detergents_Paper  \\\n",
       "0          2       3  12669   9656     7561     214              2674   \n",
       "1          2       3   7057   9810     9568    1762              3293   \n",
       "2          2       3   6353   8808     7684    2405              3516   \n",
       "3          1       3  13265   1196     4221    6404               507   \n",
       "4          2       3  22615   5410     7198    3915              1777   \n",
       "..       ...     ...    ...    ...      ...     ...               ...   \n",
       "435        1       3  29703  12051    16027   13135               182   \n",
       "436        1       3  39228   1431      764    4510                93   \n",
       "437        2       3  14531  15488    30243     437             14841   \n",
       "438        1       3  10290   1981     2232    1038               168   \n",
       "439        1       3   2787   1698     2510      65               477   \n",
       "\n",
       "     Delicassen  cluster  \n",
       "0          1338        1  \n",
       "1          1776        1  \n",
       "2          7844        1  \n",
       "3          1788        2  \n",
       "4          5185        1  \n",
       "..          ...      ...  \n",
       "435        2204        1  \n",
       "436        2346        2  \n",
       "437        1867        1  \n",
       "438        2125        2  \n",
       "439          52        0  \n",
       "\n",
       "[440 rows x 9 columns]"
      ]
     },
     "execution_count": 314,
     "metadata": {},
     "output_type": "execute_result"
    }
   ],
   "source": [
    "# クラスターを入れたdfを作成\n",
    "cluster_df = pd.DataFrame(pca4_pred, columns=[\"cluster\"])\n",
    "new_df = pd.concat([df, cluster_df],axis=1)\n",
    "new_df"
   ]
  },
  {
   "cell_type": "code",
   "execution_count": 315,
   "metadata": {},
   "outputs": [
    {
     "data": {
      "image/png": "[encoded data removed]",
      "text/plain": [
       "<Figure size 1152x216 with 3 Axes>"
      ]
     },
     "metadata": {
      "needs_background": "light"
     },
     "output_type": "display_data"
    }
   ],
   "source": [
    "# クラスタ毎のChannel、Regionの割合をプロット\n",
    "fig = plt.figure(figsize=(16,3))\n",
    "color_list = [\"pink\",\"skyblue\",\"lightgreen\",\"yellow\"]\n",
    "\n",
    "for i in range(3):\n",
    "    ax = fig.add_subplot(1,3,(i+1))\n",
    "    ax.hist(new_df[new_df[\"cluster\"]==i].loc[:,\"Channel\"], alpha = 0.3, label=\"channel\")\n",
    "    ax.hist(new_df[new_df[\"cluster\"]==i].loc[:,\"Region\"], alpha = 0.3, label=\"region\")\n",
    "    plt.title(f\"cluster{i+1}\")\n",
    "    plt.xlabel(\"number\")\n",
    "    plt.ylabel(\"count\")\n",
    "    plt.legend()"
   ]
  },
  {
   "cell_type": "markdown",
   "metadata": {},
   "source": [
    "### 11.1.1（解答）"
   ]
  },
  {
   "cell_type": "markdown",
   "metadata": {},
   "source": [
    "Regionに関しては、クラスタ毎割合も同じ様な傾向があり特出した特徴が見受けられない。  \n",
    "channelはクラスタ２に所属するデータが極端に2のchannelに所属していないため、何かしらの法則を見つけられる可能性があるので事項で検証したいと思う。"
   ]
  },
  {
   "cell_type": "markdown",
   "metadata": {},
   "source": [
    "## 【問題12】卸売業者にとって有益な情報\n",
    "卸売業者にとって有益な情報を探し出し文章にまとめてください。\n",
    "\n",
    "\n",
    "《ヒント》  \n",
    "前処理を行う前のデータを使い、各クラスタの要約統計量を見るなどしてみましょう。また、PCAで次元削減したデータに対してK-meansを使用しましたが、6個の特徴量をそのまま使ったり、一部の特徴量のみを使ったりということも試してみてください。既知のグループとの比較結果も参考にしてください。\n",
    "\n",
    "条件ごとにデータを見る際にはPandasのgroupbyが便利です。  \n",
    "https://pandas.pydata.org/pandas-docs/stable/generated/pandas.DataFrame.groupby.html"
   ]
  },
  {
   "cell_type": "markdown",
   "metadata": {},
   "source": [
    "### 12.1.1（groupby)"
   ]
  },
  {
   "cell_type": "code",
   "execution_count": 358,
   "metadata": {},
   "outputs": [
    {
     "data": {
      "text/html": [
       "<div>\n",
       "<style scoped>\n",
       "    .dataframe tbody tr th:only-of-type {\n",
       "        vertical-align: middle;\n",
       "    }\n",
       "\n",
       "    .dataframe tbody tr th {\n",
       "        vertical-align: top;\n",
       "    }\n",
       "\n",
       "    .dataframe thead tr th {\n",
       "        text-align: left;\n",
       "    }\n",
       "\n",
       "    .dataframe thead tr:last-of-type th {\n",
       "        text-align: right;\n",
       "    }\n",
       "</style>\n",
       "<table border=\"1\" class=\"dataframe\">\n",
       "  <thead>\n",
       "    <tr>\n",
       "      <th></th>\n",
       "      <th></th>\n",
       "      <th></th>\n",
       "      <th colspan=\"8\" halign=\"left\">Fresh</th>\n",
       "      <th colspan=\"8\" halign=\"left\">Milk</th>\n",
       "      <th colspan=\"8\" halign=\"left\">Grocery</th>\n",
       "      <th colspan=\"8\" halign=\"left\">Frozen</th>\n",
       "      <th colspan=\"8\" halign=\"left\">Detergents_Paper</th>\n",
       "      <th colspan=\"8\" halign=\"left\">Delicassen</th>\n",
       "    </tr>\n",
       "    <tr>\n",
       "      <th></th>\n",
       "      <th></th>\n",
       "      <th></th>\n",
       "      <th>count</th>\n",
       "      <th>mean</th>\n",
       "      <th>std</th>\n",
       "      <th>min</th>\n",
       "      <th>25%</th>\n",
       "      <th>50%</th>\n",
       "      <th>75%</th>\n",
       "      <th>max</th>\n",
       "      <th>count</th>\n",
       "      <th>mean</th>\n",
       "      <th>std</th>\n",
       "      <th>min</th>\n",
       "      <th>25%</th>\n",
       "      <th>50%</th>\n",
       "      <th>75%</th>\n",
       "      <th>max</th>\n",
       "      <th>count</th>\n",
       "      <th>mean</th>\n",
       "      <th>std</th>\n",
       "      <th>min</th>\n",
       "      <th>25%</th>\n",
       "      <th>50%</th>\n",
       "      <th>75%</th>\n",
       "      <th>max</th>\n",
       "      <th>count</th>\n",
       "      <th>mean</th>\n",
       "      <th>std</th>\n",
       "      <th>min</th>\n",
       "      <th>25%</th>\n",
       "      <th>50%</th>\n",
       "      <th>75%</th>\n",
       "      <th>max</th>\n",
       "      <th>count</th>\n",
       "      <th>mean</th>\n",
       "      <th>std</th>\n",
       "      <th>min</th>\n",
       "      <th>25%</th>\n",
       "      <th>50%</th>\n",
       "      <th>75%</th>\n",
       "      <th>max</th>\n",
       "      <th>count</th>\n",
       "      <th>mean</th>\n",
       "      <th>std</th>\n",
       "      <th>min</th>\n",
       "      <th>25%</th>\n",
       "      <th>50%</th>\n",
       "      <th>75%</th>\n",
       "      <th>max</th>\n",
       "    </tr>\n",
       "    <tr>\n",
       "      <th>Channel</th>\n",
       "      <th>Region</th>\n",
       "      <th>cluster</th>\n",
       "      <th></th>\n",
       "      <th></th>\n",
       "      <th></th>\n",
       "      <th></th>\n",
       "      <th></th>\n",
       "      <th></th>\n",
       "      <th></th>\n",
       "      <th></th>\n",
       "      <th></th>\n",
       "      <th></th>\n",
       "      <th></th>\n",
       "      <th></th>\n",
       "      <th></th>\n",
       "      <th></th>\n",
       "      <th></th>\n",
       "      <th></th>\n",
       "      <th></th>\n",
       "      <th></th>\n",
       "      <th></th>\n",
       "      <th></th>\n",
       "      <th></th>\n",
       "      <th></th>\n",
       "      <th></th>\n",
       "      <th></th>\n",
       "      <th></th>\n",
       "      <th></th>\n",
       "      <th></th>\n",
       "      <th></th>\n",
       "      <th></th>\n",
       "      <th></th>\n",
       "      <th></th>\n",
       "      <th></th>\n",
       "      <th></th>\n",
       "      <th></th>\n",
       "      <th></th>\n",
       "      <th></th>\n",
       "      <th></th>\n",
       "      <th></th>\n",
       "      <th></th>\n",
       "      <th></th>\n",
       "      <th></th>\n",
       "      <th></th>\n",
       "      <th></th>\n",
       "      <th></th>\n",
       "      <th></th>\n",
       "      <th></th>\n",
       "      <th></th>\n",
       "      <th></th>\n",
       "    </tr>\n",
       "  </thead>\n",
       "  <tbody>\n",
       "    <tr>\n",
       "      <th rowspan=\"9\" valign=\"top\">1</th>\n",
       "      <th rowspan=\"3\" valign=\"top\">1</th>\n",
       "      <th>0</th>\n",
       "      <td>5.00</td>\n",
       "      <td>1859.00</td>\n",
       "      <td>2046.28</td>\n",
       "      <td>514.00</td>\n",
       "      <td>583.00</td>\n",
       "      <td>964.00</td>\n",
       "      <td>1838.00</td>\n",
       "      <td>5396.00</td>\n",
       "      <td>5.00</td>\n",
       "      <td>5575.00</td>\n",
       "      <td>3007.41</td>\n",
       "      <td>685.00</td>\n",
       "      <td>4984.00</td>\n",
       "      <td>6380.00</td>\n",
       "      <td>7503.00</td>\n",
       "      <td>8323.00</td>\n",
       "      <td>5.00</td>\n",
       "      <td>5174.20</td>\n",
       "      <td>3554.58</td>\n",
       "      <td>2216.00</td>\n",
       "      <td>2824.00</td>\n",
       "      <td>3316.00</td>\n",
       "      <td>6869.00</td>\n",
       "      <td>10646.00</td>\n",
       "      <td>5.00</td>\n",
       "      <td>648.80</td>\n",
       "      <td>437.28</td>\n",
       "      <td>91.00</td>\n",
       "      <td>469.00</td>\n",
       "      <td>529.00</td>\n",
       "      <td>937.00</td>\n",
       "      <td>1218.00</td>\n",
       "      <td>5.00</td>\n",
       "      <td>1367.80</td>\n",
       "      <td>1625.90</td>\n",
       "      <td>93.00</td>\n",
       "      <td>409.00</td>\n",
       "      <td>954.00</td>\n",
       "      <td>1216.00</td>\n",
       "      <td>4167.00</td>\n",
       "      <td>5.00</td>\n",
       "      <td>319.80</td>\n",
       "      <td>422.72</td>\n",
       "      <td>7.00</td>\n",
       "      <td>18.00</td>\n",
       "      <td>239.00</td>\n",
       "      <td>295.00</td>\n",
       "      <td>1040.00</td>\n",
       "    </tr>\n",
       "    <tr>\n",
       "      <th>1</th>\n",
       "      <td>19.00</td>\n",
       "      <td>19410.32</td>\n",
       "      <td>17186.99</td>\n",
       "      <td>1537.00</td>\n",
       "      <td>6055.50</td>\n",
       "      <td>12680.00</td>\n",
       "      <td>27364.50</td>\n",
       "      <td>56083.00</td>\n",
       "      <td>19.00</td>\n",
       "      <td>7172.95</td>\n",
       "      <td>5753.04</td>\n",
       "      <td>1222.00</td>\n",
       "      <td>3409.00</td>\n",
       "      <td>4959.00</td>\n",
       "      <td>9319.50</td>\n",
       "      <td>23527.00</td>\n",
       "      <td>19.00</td>\n",
       "      <td>7130.05</td>\n",
       "      <td>4307.53</td>\n",
       "      <td>2124.00</td>\n",
       "      <td>3995.00</td>\n",
       "      <td>5838.00</td>\n",
       "      <td>8413.00</td>\n",
       "      <td>16966.00</td>\n",
       "      <td>19.00</td>\n",
       "      <td>4490.26</td>\n",
       "      <td>4618.33</td>\n",
       "      <td>432.00</td>\n",
       "      <td>1351.50</td>\n",
       "      <td>3527.00</td>\n",
       "      <td>5154.00</td>\n",
       "      <td>18711.00</td>\n",
       "      <td>19.00</td>\n",
       "      <td>1506.89</td>\n",
       "      <td>1506.07</td>\n",
       "      <td>284.00</td>\n",
       "      <td>661.00</td>\n",
       "      <td>828.00</td>\n",
       "      <td>1624.00</td>\n",
       "      <td>5828.00</td>\n",
       "      <td>19.00</td>\n",
       "      <td>2311.53</td>\n",
       "      <td>1517.08</td>\n",
       "      <td>490.00</td>\n",
       "      <td>1016.50</td>\n",
       "      <td>2388.00</td>\n",
       "      <td>3070.50</td>\n",
       "      <td>6854.00</td>\n",
       "    </tr>\n",
       "    <tr>\n",
       "      <th>2</th>\n",
       "      <td>35.00</td>\n",
       "      <td>10946.91</td>\n",
       "      <td>7578.44</td>\n",
       "      <td>1869.00</td>\n",
       "      <td>5707.00</td>\n",
       "      <td>8635.00</td>\n",
       "      <td>15444.50</td>\n",
       "      <td>31614.00</td>\n",
       "      <td>35.00</td>\n",
       "      <td>1833.74</td>\n",
       "      <td>1462.40</td>\n",
       "      <td>258.00</td>\n",
       "      <td>800.00</td>\n",
       "      <td>1372.00</td>\n",
       "      <td>2242.00</td>\n",
       "      <td>5279.00</td>\n",
       "      <td>35.00</td>\n",
       "      <td>2177.14</td>\n",
       "      <td>1437.77</td>\n",
       "      <td>489.00</td>\n",
       "      <td>1386.00</td>\n",
       "      <td>1799.00</td>\n",
       "      <td>2488.00</td>\n",
       "      <td>6684.00</td>\n",
       "      <td>35.00</td>\n",
       "      <td>2741.51</td>\n",
       "      <td>2214.49</td>\n",
       "      <td>327.00</td>\n",
       "      <td>1047.00</td>\n",
       "      <td>2077.00</td>\n",
       "      <td>4038.00</td>\n",
       "      <td>7683.00</td>\n",
       "      <td>35.00</td>\n",
       "      <td>588.89</td>\n",
       "      <td>1031.57</td>\n",
       "      <td>5.00</td>\n",
       "      <td>120.50</td>\n",
       "      <td>263.00</td>\n",
       "      <td>429.50</td>\n",
       "      <td>4762.00</td>\n",
       "      <td>35.00</td>\n",
       "      <td>717.54</td>\n",
       "      <td>505.35</td>\n",
       "      <td>56.00</td>\n",
       "      <td>319.00</td>\n",
       "      <td>615.00</td>\n",
       "      <td>983.50</td>\n",
       "      <td>2100.00</td>\n",
       "    </tr>\n",
       "    <tr>\n",
       "      <th rowspan=\"3\" valign=\"top\">2</th>\n",
       "      <th>0</th>\n",
       "      <td>3.00</td>\n",
       "      <td>740.33</td>\n",
       "      <td>921.94</td>\n",
       "      <td>3.00</td>\n",
       "      <td>223.50</td>\n",
       "      <td>444.00</td>\n",
       "      <td>1109.00</td>\n",
       "      <td>1774.00</td>\n",
       "      <td>3.00</td>\n",
       "      <td>1636.00</td>\n",
       "      <td>1804.78</td>\n",
       "      <td>333.00</td>\n",
       "      <td>606.00</td>\n",
       "      <td>879.00</td>\n",
       "      <td>2287.50</td>\n",
       "      <td>3696.00</td>\n",
       "      <td>3.00</td>\n",
       "      <td>3787.00</td>\n",
       "      <td>2802.89</td>\n",
       "      <td>2060.00</td>\n",
       "      <td>2170.00</td>\n",
       "      <td>2280.00</td>\n",
       "      <td>4650.50</td>\n",
       "      <td>7021.00</td>\n",
       "      <td>3.00</td>\n",
       "      <td>5459.67</td>\n",
       "      <td>8783.54</td>\n",
       "      <td>264.00</td>\n",
       "      <td>389.00</td>\n",
       "      <td>514.00</td>\n",
       "      <td>8057.50</td>\n",
       "      <td>15601.00</td>\n",
       "      <td>3.00</td>\n",
       "      <td>193.33</td>\n",
       "      <td>154.62</td>\n",
       "      <td>15.00</td>\n",
       "      <td>145.00</td>\n",
       "      <td>275.00</td>\n",
       "      <td>282.50</td>\n",
       "      <td>290.00</td>\n",
       "      <td>3.00</td>\n",
       "      <td>547.67</td>\n",
       "      <td>287.51</td>\n",
       "      <td>259.00</td>\n",
       "      <td>404.50</td>\n",
       "      <td>550.00</td>\n",
       "      <td>692.00</td>\n",
       "      <td>834.00</td>\n",
       "    </tr>\n",
       "    <tr>\n",
       "      <th>1</th>\n",
       "      <td>6.00</td>\n",
       "      <td>13627.67</td>\n",
       "      <td>11900.58</td>\n",
       "      <td>1182.00</td>\n",
       "      <td>4617.00</td>\n",
       "      <td>11988.50</td>\n",
       "      <td>19294.75</td>\n",
       "      <td>32717.00</td>\n",
       "      <td>6.00</td>\n",
       "      <td>4302.00</td>\n",
       "      <td>6160.71</td>\n",
       "      <td>944.00</td>\n",
       "      <td>1339.75</td>\n",
       "      <td>1904.00</td>\n",
       "      <td>2819.25</td>\n",
       "      <td>16784.00</td>\n",
       "      <td>6.00</td>\n",
       "      <td>8477.00</td>\n",
       "      <td>3349.59</td>\n",
       "      <td>5332.00</td>\n",
       "      <td>6223.00</td>\n",
       "      <td>7098.50</td>\n",
       "      <td>10606.50</td>\n",
       "      <td>13626.00</td>\n",
       "      <td>6.00</td>\n",
       "      <td>12456.33</td>\n",
       "      <td>23961.41</td>\n",
       "      <td>909.00</td>\n",
       "      <td>930.75</td>\n",
       "      <td>1230.50</td>\n",
       "      <td>7558.75</td>\n",
       "      <td>60869.00</td>\n",
       "      <td>6.00</td>\n",
       "      <td>1002.17</td>\n",
       "      <td>401.38</td>\n",
       "      <td>573.00</td>\n",
       "      <td>813.50</td>\n",
       "      <td>839.00</td>\n",
       "      <td>1168.25</td>\n",
       "      <td>1679.00</td>\n",
       "      <td>6.00</td>\n",
       "      <td>2141.33</td>\n",
       "      <td>1771.22</td>\n",
       "      <td>573.00</td>\n",
       "      <td>1334.00</td>\n",
       "      <td>1745.50</td>\n",
       "      <td>1920.00</td>\n",
       "      <td>5609.00</td>\n",
       "    </tr>\n",
       "    <tr>\n",
       "      <th>2</th>\n",
       "      <td>19.00</td>\n",
       "      <td>12748.84</td>\n",
       "      <td>7669.73</td>\n",
       "      <td>542.00</td>\n",
       "      <td>7080.50</td>\n",
       "      <td>9790.00</td>\n",
       "      <td>17130.00</td>\n",
       "      <td>29635.00</td>\n",
       "      <td>19.00</td>\n",
       "      <td>1778.89</td>\n",
       "      <td>786.29</td>\n",
       "      <td>713.00</td>\n",
       "      <td>1325.50</td>\n",
       "      <td>1511.00</td>\n",
       "      <td>2272.00</td>\n",
       "      <td>3587.00</td>\n",
       "      <td>19.00</td>\n",
       "      <td>3202.68</td>\n",
       "      <td>1682.93</td>\n",
       "      <td>1330.00</td>\n",
       "      <td>2303.00</td>\n",
       "      <td>2842.00</td>\n",
       "      <td>3600.50</td>\n",
       "      <td>8280.00</td>\n",
       "      <td>19.00</td>\n",
       "      <td>3670.74</td>\n",
       "      <td>3029.90</td>\n",
       "      <td>414.00</td>\n",
       "      <td>2164.50</td>\n",
       "      <td>3045.00</td>\n",
       "      <td>4075.00</td>\n",
       "      <td>12569.00</td>\n",
       "      <td>19.00</td>\n",
       "      <td>364.37</td>\n",
       "      <td>324.41</td>\n",
       "      <td>83.00</td>\n",
       "      <td>180.00</td>\n",
       "      <td>257.00</td>\n",
       "      <td>414.50</td>\n",
       "      <td>1470.00</td>\n",
       "      <td>19.00</td>\n",
       "      <td>867.05</td>\n",
       "      <td>570.10</td>\n",
       "      <td>51.00</td>\n",
       "      <td>589.00</td>\n",
       "      <td>868.00</td>\n",
       "      <td>1075.50</td>\n",
       "      <td>2602.00</td>\n",
       "    </tr>\n",
       "    <tr>\n",
       "      <th rowspan=\"3\" valign=\"top\">3</th>\n",
       "      <th>0</th>\n",
       "      <td>22.00</td>\n",
       "      <td>2584.18</td>\n",
       "      <td>5345.42</td>\n",
       "      <td>3.00</td>\n",
       "      <td>273.00</td>\n",
       "      <td>924.50</td>\n",
       "      <td>2891.25</td>\n",
       "      <td>25606.00</td>\n",
       "      <td>22.00</td>\n",
       "      <td>4407.18</td>\n",
       "      <td>2979.92</td>\n",
       "      <td>727.00</td>\n",
       "      <td>1772.00</td>\n",
       "      <td>3828.00</td>\n",
       "      <td>5848.00</td>\n",
       "      <td>11006.00</td>\n",
       "      <td>22.00</td>\n",
       "      <td>5949.18</td>\n",
       "      <td>3385.24</td>\n",
       "      <td>1841.00</td>\n",
       "      <td>3351.00</td>\n",
       "      <td>5316.50</td>\n",
       "      <td>8065.75</td>\n",
       "      <td>13227.00</td>\n",
       "      <td>22.00</td>\n",
       "      <td>584.14</td>\n",
       "      <td>1285.51</td>\n",
       "      <td>25.00</td>\n",
       "      <td>150.25</td>\n",
       "      <td>336.50</td>\n",
       "      <td>436.25</td>\n",
       "      <td>6269.00</td>\n",
       "      <td>22.00</td>\n",
       "      <td>2031.00</td>\n",
       "      <td>2076.19</td>\n",
       "      <td>122.00</td>\n",
       "      <td>478.50</td>\n",
       "      <td>1198.50</td>\n",
       "      <td>3336.75</td>\n",
       "      <td>6907.00</td>\n",
       "      <td>22.00</td>\n",
       "      <td>431.41</td>\n",
       "      <td>437.57</td>\n",
       "      <td>3.00</td>\n",
       "      <td>54.50</td>\n",
       "      <td>302.00</td>\n",
       "      <td>703.50</td>\n",
       "      <td>1393.00</td>\n",
       "    </tr>\n",
       "    <tr>\n",
       "      <th>1</th>\n",
       "      <td>63.00</td>\n",
       "      <td>19476.57</td>\n",
       "      <td>20345.96</td>\n",
       "      <td>717.00</td>\n",
       "      <td>5164.50</td>\n",
       "      <td>13537.00</td>\n",
       "      <td>27150.50</td>\n",
       "      <td>112151.00</td>\n",
       "      <td>63.00</td>\n",
       "      <td>6553.60</td>\n",
       "      <td>6822.65</td>\n",
       "      <td>1266.00</td>\n",
       "      <td>3623.50</td>\n",
       "      <td>4362.00</td>\n",
       "      <td>6443.50</td>\n",
       "      <td>43950.00</td>\n",
       "      <td>63.00</td>\n",
       "      <td>6758.63</td>\n",
       "      <td>4514.32</td>\n",
       "      <td>1641.00</td>\n",
       "      <td>3917.50</td>\n",
       "      <td>5330.00</td>\n",
       "      <td>8017.00</td>\n",
       "      <td>21042.00</td>\n",
       "      <td>63.00</td>\n",
       "      <td>5445.76</td>\n",
       "      <td>6306.30</td>\n",
       "      <td>129.00</td>\n",
       "      <td>872.00</td>\n",
       "      <td>3443.00</td>\n",
       "      <td>7709.00</td>\n",
       "      <td>36534.00</td>\n",
       "      <td>63.00</td>\n",
       "      <td>1237.71</td>\n",
       "      <td>1122.43</td>\n",
       "      <td>20.00</td>\n",
       "      <td>391.00</td>\n",
       "      <td>912.00</td>\n",
       "      <td>1645.50</td>\n",
       "      <td>5079.00</td>\n",
       "      <td>63.00</td>\n",
       "      <td>3384.60</td>\n",
       "      <td>6285.11</td>\n",
       "      <td>230.00</td>\n",
       "      <td>1145.00</td>\n",
       "      <td>1894.00</td>\n",
       "      <td>3029.00</td>\n",
       "      <td>47943.00</td>\n",
       "    </tr>\n",
       "    <tr>\n",
       "      <th>2</th>\n",
       "      <td>126.00</td>\n",
       "      <td>13050.74</td>\n",
       "      <td>10783.11</td>\n",
       "      <td>286.00</td>\n",
       "      <td>5861.75</td>\n",
       "      <td>10347.50</td>\n",
       "      <td>17104.00</td>\n",
       "      <td>56159.00</td>\n",
       "      <td>126.00</td>\n",
       "      <td>1793.00</td>\n",
       "      <td>1336.99</td>\n",
       "      <td>55.00</td>\n",
       "      <td>923.00</td>\n",
       "      <td>1441.00</td>\n",
       "      <td>2253.75</td>\n",
       "      <td>7152.00</td>\n",
       "      <td>126.00</td>\n",
       "      <td>2090.67</td>\n",
       "      <td>1226.32</td>\n",
       "      <td>3.00</td>\n",
       "      <td>1293.75</td>\n",
       "      <td>1984.50</td>\n",
       "      <td>2695.50</td>\n",
       "      <td>8253.00</td>\n",
       "      <td>126.00</td>\n",
       "      <td>3298.98</td>\n",
       "      <td>4226.93</td>\n",
       "      <td>47.00</td>\n",
       "      <td>938.75</td>\n",
       "      <td>2057.50</td>\n",
       "      <td>3875.75</td>\n",
       "      <td>35009.00</td>\n",
       "      <td>126.00</td>\n",
       "      <td>343.90</td>\n",
       "      <td>333.14</td>\n",
       "      <td>3.00</td>\n",
       "      <td>102.75</td>\n",
       "      <td>227.00</td>\n",
       "      <td>462.25</td>\n",
       "      <td>1491.00</td>\n",
       "      <td>126.00</td>\n",
       "      <td>774.90</td>\n",
       "      <td>630.76</td>\n",
       "      <td>3.00</td>\n",
       "      <td>331.00</td>\n",
       "      <td>542.50</td>\n",
       "      <td>1095.00</td>\n",
       "      <td>2916.00</td>\n",
       "    </tr>\n",
       "    <tr>\n",
       "      <th rowspan=\"8\" valign=\"top\">2</th>\n",
       "      <th rowspan=\"2\" valign=\"top\">1</th>\n",
       "      <th>0</th>\n",
       "      <td>5.00</td>\n",
       "      <td>1454.20</td>\n",
       "      <td>1080.66</td>\n",
       "      <td>18.00</td>\n",
       "      <td>1073.00</td>\n",
       "      <td>1107.00</td>\n",
       "      <td>2532.00</td>\n",
       "      <td>2541.00</td>\n",
       "      <td>5.00</td>\n",
       "      <td>10046.00</td>\n",
       "      <td>4485.98</td>\n",
       "      <td>4737.00</td>\n",
       "      <td>7504.00</td>\n",
       "      <td>9679.00</td>\n",
       "      <td>11711.00</td>\n",
       "      <td>16599.00</td>\n",
       "      <td>5.00</td>\n",
       "      <td>19364.20</td>\n",
       "      <td>11401.25</td>\n",
       "      <td>6089.00</td>\n",
       "      <td>15205.00</td>\n",
       "      <td>15445.00</td>\n",
       "      <td>23596.00</td>\n",
       "      <td>36486.00</td>\n",
       "      <td>5.00</td>\n",
       "      <td>1085.20</td>\n",
       "      <td>1160.78</td>\n",
       "      <td>61.00</td>\n",
       "      <td>179.00</td>\n",
       "      <td>955.00</td>\n",
       "      <td>1285.00</td>\n",
       "      <td>2946.00</td>\n",
       "      <td>5.00</td>\n",
       "      <td>7733.20</td>\n",
       "      <td>3569.41</td>\n",
       "      <td>4797.00</td>\n",
       "      <td>5316.00</td>\n",
       "      <td>5980.00</td>\n",
       "      <td>9265.00</td>\n",
       "      <td>13308.00</td>\n",
       "      <td>5.00</td>\n",
       "      <td>1828.20</td>\n",
       "      <td>2572.15</td>\n",
       "      <td>120.00</td>\n",
       "      <td>674.00</td>\n",
       "      <td>710.00</td>\n",
       "      <td>1265.00</td>\n",
       "      <td>6372.00</td>\n",
       "    </tr>\n",
       "    <tr>\n",
       "      <th>1</th>\n",
       "      <td>13.00</td>\n",
       "      <td>6640.69</td>\n",
       "      <td>5750.11</td>\n",
       "      <td>572.00</td>\n",
       "      <td>2790.00</td>\n",
       "      <td>4484.00</td>\n",
       "      <td>11072.00</td>\n",
       "      <td>20782.00</td>\n",
       "      <td>13.00</td>\n",
       "      <td>11067.85</td>\n",
       "      <td>7406.78</td>\n",
       "      <td>2527.00</td>\n",
       "      <td>6154.00</td>\n",
       "      <td>8053.00</td>\n",
       "      <td>13240.00</td>\n",
       "      <td>28326.00</td>\n",
       "      <td>13.00</td>\n",
       "      <td>18128.77</td>\n",
       "      <td>10481.93</td>\n",
       "      <td>5265.00</td>\n",
       "      <td>10391.00</td>\n",
       "      <td>16767.00</td>\n",
       "      <td>23127.00</td>\n",
       "      <td>39694.00</td>\n",
       "      <td>13.00</td>\n",
       "      <td>3160.62</td>\n",
       "      <td>2565.93</td>\n",
       "      <td>230.00</td>\n",
       "      <td>1069.00</td>\n",
       "      <td>2221.00</td>\n",
       "      <td>4736.00</td>\n",
       "      <td>8321.00</td>\n",
       "      <td>13.00</td>\n",
       "      <td>8414.54</td>\n",
       "      <td>6222.17</td>\n",
       "      <td>788.00</td>\n",
       "      <td>4314.00</td>\n",
       "      <td>6374.00</td>\n",
       "      <td>12420.00</td>\n",
       "      <td>19410.00</td>\n",
       "      <td>13.00</td>\n",
       "      <td>1888.77</td>\n",
       "      <td>1241.50</td>\n",
       "      <td>698.00</td>\n",
       "      <td>797.00</td>\n",
       "      <td>1553.00</td>\n",
       "      <td>2563.00</td>\n",
       "      <td>5121.00</td>\n",
       "    </tr>\n",
       "    <tr>\n",
       "      <th rowspan=\"3\" valign=\"top\">2</th>\n",
       "      <th>0</th>\n",
       "      <td>6.00</td>\n",
       "      <td>2602.33</td>\n",
       "      <td>2708.52</td>\n",
       "      <td>161.00</td>\n",
       "      <td>716.50</td>\n",
       "      <td>2368.00</td>\n",
       "      <td>2814.25</td>\n",
       "      <td>7588.00</td>\n",
       "      <td>6.00</td>\n",
       "      <td>5837.17</td>\n",
       "      <td>3947.42</td>\n",
       "      <td>1897.00</td>\n",
       "      <td>3700.25</td>\n",
       "      <td>4519.50</td>\n",
       "      <td>6920.50</td>\n",
       "      <td>12939.00</td>\n",
       "      <td>6.00</td>\n",
       "      <td>13607.50</td>\n",
       "      <td>7252.90</td>\n",
       "      <td>5234.00</td>\n",
       "      <td>9085.25</td>\n",
       "      <td>11807.00</td>\n",
       "      <td>17836.25</td>\n",
       "      <td>24773.00</td>\n",
       "      <td>6.00</td>\n",
       "      <td>660.50</td>\n",
       "      <td>338.54</td>\n",
       "      <td>364.00</td>\n",
       "      <td>435.75</td>\n",
       "      <td>554.50</td>\n",
       "      <td>753.50</td>\n",
       "      <td>1274.00</td>\n",
       "      <td>6.00</td>\n",
       "      <td>8554.17</td>\n",
       "      <td>5537.49</td>\n",
       "      <td>2208.00</td>\n",
       "      <td>4490.75</td>\n",
       "      <td>8152.50</td>\n",
       "      <td>11354.50</td>\n",
       "      <td>17120.00</td>\n",
       "      <td>6.00</td>\n",
       "      <td>605.17</td>\n",
       "      <td>900.16</td>\n",
       "      <td>59.00</td>\n",
       "      <td>159.25</td>\n",
       "      <td>232.50</td>\n",
       "      <td>479.75</td>\n",
       "      <td>2410.00</td>\n",
       "    </tr>\n",
       "    <tr>\n",
       "      <th>1</th>\n",
       "      <td>12.00</td>\n",
       "      <td>8839.08</td>\n",
       "      <td>7140.37</td>\n",
       "      <td>918.00</td>\n",
       "      <td>4961.25</td>\n",
       "      <td>7424.00</td>\n",
       "      <td>10125.00</td>\n",
       "      <td>27082.00</td>\n",
       "      <td>12.00</td>\n",
       "      <td>11556.17</td>\n",
       "      <td>6782.16</td>\n",
       "      <td>3199.00</td>\n",
       "      <td>5927.25</td>\n",
       "      <td>11985.00</td>\n",
       "      <td>14906.25</td>\n",
       "      <td>25071.00</td>\n",
       "      <td>12.00</td>\n",
       "      <td>18817.67</td>\n",
       "      <td>16458.01</td>\n",
       "      <td>6360.00</td>\n",
       "      <td>10583.75</td>\n",
       "      <td>13018.00</td>\n",
       "      <td>20691.75</td>\n",
       "      <td>67298.00</td>\n",
       "      <td>12.00</td>\n",
       "      <td>1145.75</td>\n",
       "      <td>490.56</td>\n",
       "      <td>131.00</td>\n",
       "      <td>882.50</td>\n",
       "      <td>1181.00</td>\n",
       "      <td>1457.50</td>\n",
       "      <td>1840.00</td>\n",
       "      <td>12.00</td>\n",
       "      <td>9011.50</td>\n",
       "      <td>9596.52</td>\n",
       "      <td>2662.00</td>\n",
       "      <td>4056.00</td>\n",
       "      <td>6399.00</td>\n",
       "      <td>8965.50</td>\n",
       "      <td>38102.00</td>\n",
       "      <td>12.00</td>\n",
       "      <td>1368.67</td>\n",
       "      <td>890.36</td>\n",
       "      <td>172.00</td>\n",
       "      <td>789.75</td>\n",
       "      <td>1158.50</td>\n",
       "      <td>1720.00</td>\n",
       "      <td>3508.00</td>\n",
       "    </tr>\n",
       "    <tr>\n",
       "      <th>2</th>\n",
       "      <td>1.00</td>\n",
       "      <td>16823.00</td>\n",
       "      <td>nan</td>\n",
       "      <td>16823.00</td>\n",
       "      <td>16823.00</td>\n",
       "      <td>16823.00</td>\n",
       "      <td>16823.00</td>\n",
       "      <td>16823.00</td>\n",
       "      <td>1.00</td>\n",
       "      <td>928.00</td>\n",
       "      <td>nan</td>\n",
       "      <td>928.00</td>\n",
       "      <td>928.00</td>\n",
       "      <td>928.00</td>\n",
       "      <td>928.00</td>\n",
       "      <td>928.00</td>\n",
       "      <td>1.00</td>\n",
       "      <td>2743.00</td>\n",
       "      <td>nan</td>\n",
       "      <td>2743.00</td>\n",
       "      <td>2743.00</td>\n",
       "      <td>2743.00</td>\n",
       "      <td>2743.00</td>\n",
       "      <td>2743.00</td>\n",
       "      <td>1.00</td>\n",
       "      <td>11559.00</td>\n",
       "      <td>nan</td>\n",
       "      <td>11559.00</td>\n",
       "      <td>11559.00</td>\n",
       "      <td>11559.00</td>\n",
       "      <td>11559.00</td>\n",
       "      <td>11559.00</td>\n",
       "      <td>1.00</td>\n",
       "      <td>332.00</td>\n",
       "      <td>nan</td>\n",
       "      <td>332.00</td>\n",
       "      <td>332.00</td>\n",
       "      <td>332.00</td>\n",
       "      <td>332.00</td>\n",
       "      <td>332.00</td>\n",
       "      <td>1.00</td>\n",
       "      <td>3486.00</td>\n",
       "      <td>nan</td>\n",
       "      <td>3486.00</td>\n",
       "      <td>3486.00</td>\n",
       "      <td>3486.00</td>\n",
       "      <td>3486.00</td>\n",
       "      <td>3486.00</td>\n",
       "    </tr>\n",
       "    <tr>\n",
       "      <th rowspan=\"3\" valign=\"top\">3</th>\n",
       "      <th>0</th>\n",
       "      <td>29.00</td>\n",
       "      <td>2754.28</td>\n",
       "      <td>3980.12</td>\n",
       "      <td>23.00</td>\n",
       "      <td>355.00</td>\n",
       "      <td>834.00</td>\n",
       "      <td>4048.00</td>\n",
       "      <td>16165.00</td>\n",
       "      <td>29.00</td>\n",
       "      <td>8253.14</td>\n",
       "      <td>4341.06</td>\n",
       "      <td>1275.00</td>\n",
       "      <td>5491.00</td>\n",
       "      <td>7704.00</td>\n",
       "      <td>9933.00</td>\n",
       "      <td>20959.00</td>\n",
       "      <td>29.00</td>\n",
       "      <td>15629.00</td>\n",
       "      <td>8242.89</td>\n",
       "      <td>6981.00</td>\n",
       "      <td>10487.00</td>\n",
       "      <td>12121.00</td>\n",
       "      <td>19805.00</td>\n",
       "      <td>45828.00</td>\n",
       "      <td>29.00</td>\n",
       "      <td>397.48</td>\n",
       "      <td>378.69</td>\n",
       "      <td>33.00</td>\n",
       "      <td>133.00</td>\n",
       "      <td>228.00</td>\n",
       "      <td>673.00</td>\n",
       "      <td>1456.00</td>\n",
       "      <td>29.00</td>\n",
       "      <td>6677.69</td>\n",
       "      <td>4443.53</td>\n",
       "      <td>813.00</td>\n",
       "      <td>4196.00</td>\n",
       "      <td>6740.00</td>\n",
       "      <td>7572.00</td>\n",
       "      <td>24231.00</td>\n",
       "      <td>29.00</td>\n",
       "      <td>626.72</td>\n",
       "      <td>603.18</td>\n",
       "      <td>3.00</td>\n",
       "      <td>156.00</td>\n",
       "      <td>323.00</td>\n",
       "      <td>1111.00</td>\n",
       "      <td>1856.00</td>\n",
       "    </tr>\n",
       "    <tr>\n",
       "      <th>1</th>\n",
       "      <td>74.00</td>\n",
       "      <td>12532.72</td>\n",
       "      <td>9934.23</td>\n",
       "      <td>200.00</td>\n",
       "      <td>4858.25</td>\n",
       "      <td>9404.50</td>\n",
       "      <td>17499.50</td>\n",
       "      <td>44466.00</td>\n",
       "      <td>74.00</td>\n",
       "      <td>12286.68</td>\n",
       "      <td>12052.77</td>\n",
       "      <td>2884.00</td>\n",
       "      <td>6202.00</td>\n",
       "      <td>8507.00</td>\n",
       "      <td>12237.00</td>\n",
       "      <td>73498.00</td>\n",
       "      <td>74.00</td>\n",
       "      <td>16386.11</td>\n",
       "      <td>13627.79</td>\n",
       "      <td>4602.00</td>\n",
       "      <td>8873.75</td>\n",
       "      <td>12188.00</td>\n",
       "      <td>19727.00</td>\n",
       "      <td>92780.00</td>\n",
       "      <td>74.00</td>\n",
       "      <td>1956.23</td>\n",
       "      <td>1573.08</td>\n",
       "      <td>42.00</td>\n",
       "      <td>875.50</td>\n",
       "      <td>1632.50</td>\n",
       "      <td>2637.00</td>\n",
       "      <td>8132.00</td>\n",
       "      <td>74.00</td>\n",
       "      <td>7113.26</td>\n",
       "      <td>6583.76</td>\n",
       "      <td>523.00</td>\n",
       "      <td>3335.25</td>\n",
       "      <td>5015.50</td>\n",
       "      <td>7831.50</td>\n",
       "      <td>40827.00</td>\n",
       "      <td>74.00</td>\n",
       "      <td>2337.30</td>\n",
       "      <td>2314.58</td>\n",
       "      <td>143.00</td>\n",
       "      <td>1045.25</td>\n",
       "      <td>1782.00</td>\n",
       "      <td>2885.50</td>\n",
       "      <td>16523.00</td>\n",
       "    </tr>\n",
       "    <tr>\n",
       "      <th>2</th>\n",
       "      <td>2.00</td>\n",
       "      <td>12506.50</td>\n",
       "      <td>904.39</td>\n",
       "      <td>11867.00</td>\n",
       "      <td>12186.75</td>\n",
       "      <td>12506.50</td>\n",
       "      <td>12826.25</td>\n",
       "      <td>13146.00</td>\n",
       "      <td>2.00</td>\n",
       "      <td>2225.50</td>\n",
       "      <td>1557.76</td>\n",
       "      <td>1124.00</td>\n",
       "      <td>1674.75</td>\n",
       "      <td>2225.50</td>\n",
       "      <td>2776.25</td>\n",
       "      <td>3327.00</td>\n",
       "      <td>2.00</td>\n",
       "      <td>4668.50</td>\n",
       "      <td>205.77</td>\n",
       "      <td>4523.00</td>\n",
       "      <td>4595.75</td>\n",
       "      <td>4668.50</td>\n",
       "      <td>4741.25</td>\n",
       "      <td>4814.00</td>\n",
       "      <td>2.00</td>\n",
       "      <td>1299.00</td>\n",
       "      <td>171.12</td>\n",
       "      <td>1178.00</td>\n",
       "      <td>1238.50</td>\n",
       "      <td>1299.00</td>\n",
       "      <td>1359.50</td>\n",
       "      <td>1420.00</td>\n",
       "      <td>2.00</td>\n",
       "      <td>2193.00</td>\n",
       "      <td>2324.97</td>\n",
       "      <td>549.00</td>\n",
       "      <td>1371.00</td>\n",
       "      <td>2193.00</td>\n",
       "      <td>3015.00</td>\n",
       "      <td>3837.00</td>\n",
       "      <td>2.00</td>\n",
       "      <td>308.50</td>\n",
       "      <td>266.58</td>\n",
       "      <td>120.00</td>\n",
       "      <td>214.25</td>\n",
       "      <td>308.50</td>\n",
       "      <td>402.75</td>\n",
       "      <td>497.00</td>\n",
       "    </tr>\n",
       "  </tbody>\n",
       "</table>\n",
       "</div>"
      ],
      "text/plain": [
       "                        Fresh                                               \\\n",
       "                        count     mean      std      min      25%      50%   \n",
       "Channel Region cluster                                                       \n",
       "1       1      0         5.00  1859.00  2046.28   514.00   583.00   964.00   \n",
       "               1        19.00 19410.32 17186.99  1537.00  6055.50 12680.00   \n",
       "               2        35.00 10946.91  7578.44  1869.00  5707.00  8635.00   \n",
       "        2      0         3.00   740.33   921.94     3.00   223.50   444.00   \n",
       "               1         6.00 13627.67 11900.58  1182.00  4617.00 11988.50   \n",
       "               2        19.00 12748.84  7669.73   542.00  7080.50  9790.00   \n",
       "        3      0        22.00  2584.18  5345.42     3.00   273.00   924.50   \n",
       "               1        63.00 19476.57 20345.96   717.00  5164.50 13537.00   \n",
       "               2       126.00 13050.74 10783.11   286.00  5861.75 10347.50   \n",
       "2       1      0         5.00  1454.20  1080.66    18.00  1073.00  1107.00   \n",
       "               1        13.00  6640.69  5750.11   572.00  2790.00  4484.00   \n",
       "        2      0         6.00  2602.33  2708.52   161.00   716.50  2368.00   \n",
       "               1        12.00  8839.08  7140.37   918.00  4961.25  7424.00   \n",
       "               2         1.00 16823.00      nan 16823.00 16823.00 16823.00   \n",
       "        3      0        29.00  2754.28  3980.12    23.00   355.00   834.00   \n",
       "               1        74.00 12532.72  9934.23   200.00  4858.25  9404.50   \n",
       "               2         2.00 12506.50   904.39 11867.00 12186.75 12506.50   \n",
       "\n",
       "                                            Milk                            \\\n",
       "                            75%       max  count     mean      std     min   \n",
       "Channel Region cluster                                                       \n",
       "1       1      0        1838.00   5396.00   5.00  5575.00  3007.41  685.00   \n",
       "               1       27364.50  56083.00  19.00  7172.95  5753.04 1222.00   \n",
       "               2       15444.50  31614.00  35.00  1833.74  1462.40  258.00   \n",
       "        2      0        1109.00   1774.00   3.00  1636.00  1804.78  333.00   \n",
       "               1       19294.75  32717.00   6.00  4302.00  6160.71  944.00   \n",
       "               2       17130.00  29635.00  19.00  1778.89   786.29  713.00   \n",
       "        3      0        2891.25  25606.00  22.00  4407.18  2979.92  727.00   \n",
       "               1       27150.50 112151.00  63.00  6553.60  6822.65 1266.00   \n",
       "               2       17104.00  56159.00 126.00  1793.00  1336.99   55.00   \n",
       "2       1      0        2532.00   2541.00   5.00 10046.00  4485.98 4737.00   \n",
       "               1       11072.00  20782.00  13.00 11067.85  7406.78 2527.00   \n",
       "        2      0        2814.25   7588.00   6.00  5837.17  3947.42 1897.00   \n",
       "               1       10125.00  27082.00  12.00 11556.17  6782.16 3199.00   \n",
       "               2       16823.00  16823.00   1.00   928.00      nan  928.00   \n",
       "        3      0        4048.00  16165.00  29.00  8253.14  4341.06 1275.00   \n",
       "               1       17499.50  44466.00  74.00 12286.68 12052.77 2884.00   \n",
       "               2       12826.25  13146.00   2.00  2225.50  1557.76 1124.00   \n",
       "\n",
       "                                                          Grocery           \\\n",
       "                           25%      50%      75%      max   count     mean   \n",
       "Channel Region cluster                                                       \n",
       "1       1      0       4984.00  6380.00  7503.00  8323.00    5.00  5174.20   \n",
       "               1       3409.00  4959.00  9319.50 23527.00   19.00  7130.05   \n",
       "               2        800.00  1372.00  2242.00  5279.00   35.00  2177.14   \n",
       "        2      0        606.00   879.00  2287.50  3696.00    3.00  3787.00   \n",
       "               1       1339.75  1904.00  2819.25 16784.00    6.00  8477.00   \n",
       "               2       1325.50  1511.00  2272.00  3587.00   19.00  3202.68   \n",
       "        3      0       1772.00  3828.00  5848.00 11006.00   22.00  5949.18   \n",
       "               1       3623.50  4362.00  6443.50 43950.00   63.00  6758.63   \n",
       "               2        923.00  1441.00  2253.75  7152.00  126.00  2090.67   \n",
       "2       1      0       7504.00  9679.00 11711.00 16599.00    5.00 19364.20   \n",
       "               1       6154.00  8053.00 13240.00 28326.00   13.00 18128.77   \n",
       "        2      0       3700.25  4519.50  6920.50 12939.00    6.00 13607.50   \n",
       "               1       5927.25 11985.00 14906.25 25071.00   12.00 18817.67   \n",
       "               2        928.00   928.00   928.00   928.00    1.00  2743.00   \n",
       "        3      0       5491.00  7704.00  9933.00 20959.00   29.00 15629.00   \n",
       "               1       6202.00  8507.00 12237.00 73498.00   74.00 16386.11   \n",
       "               2       1674.75  2225.50  2776.25  3327.00    2.00  4668.50   \n",
       "\n",
       "                                                                             \\\n",
       "                            std     min      25%      50%      75%      max   \n",
       "Channel Region cluster                                                        \n",
       "1       1      0        3554.58 2216.00  2824.00  3316.00  6869.00 10646.00   \n",
       "               1        4307.53 2124.00  3995.00  5838.00  8413.00 16966.00   \n",
       "               2        1437.77  489.00  1386.00  1799.00  2488.00  6684.00   \n",
       "        2      0        2802.89 2060.00  2170.00  2280.00  4650.50  7021.00   \n",
       "               1        3349.59 5332.00  6223.00  7098.50 10606.50 13626.00   \n",
       "               2        1682.93 1330.00  2303.00  2842.00  3600.50  8280.00   \n",
       "        3      0        3385.24 1841.00  3351.00  5316.50  8065.75 13227.00   \n",
       "               1        4514.32 1641.00  3917.50  5330.00  8017.00 21042.00   \n",
       "               2        1226.32    3.00  1293.75  1984.50  2695.50  8253.00   \n",
       "2       1      0       11401.25 6089.00 15205.00 15445.00 23596.00 36486.00   \n",
       "               1       10481.93 5265.00 10391.00 16767.00 23127.00 39694.00   \n",
       "        2      0        7252.90 5234.00  9085.25 11807.00 17836.25 24773.00   \n",
       "               1       16458.01 6360.00 10583.75 13018.00 20691.75 67298.00   \n",
       "               2            nan 2743.00  2743.00  2743.00  2743.00  2743.00   \n",
       "        3      0        8242.89 6981.00 10487.00 12121.00 19805.00 45828.00   \n",
       "               1       13627.79 4602.00  8873.75 12188.00 19727.00 92780.00   \n",
       "               2         205.77 4523.00  4595.75  4668.50  4741.25  4814.00   \n",
       "\n",
       "                       Frozen                                               \\\n",
       "                        count     mean      std      min      25%      50%   \n",
       "Channel Region cluster                                                       \n",
       "1       1      0         5.00   648.80   437.28    91.00   469.00   529.00   \n",
       "               1        19.00  4490.26  4618.33   432.00  1351.50  3527.00   \n",
       "               2        35.00  2741.51  2214.49   327.00  1047.00  2077.00   \n",
       "        2      0         3.00  5459.67  8783.54   264.00   389.00   514.00   \n",
       "               1         6.00 12456.33 23961.41   909.00   930.75  1230.50   \n",
       "               2        19.00  3670.74  3029.90   414.00  2164.50  3045.00   \n",
       "        3      0        22.00   584.14  1285.51    25.00   150.25   336.50   \n",
       "               1        63.00  5445.76  6306.30   129.00   872.00  3443.00   \n",
       "               2       126.00  3298.98  4226.93    47.00   938.75  2057.50   \n",
       "2       1      0         5.00  1085.20  1160.78    61.00   179.00   955.00   \n",
       "               1        13.00  3160.62  2565.93   230.00  1069.00  2221.00   \n",
       "        2      0         6.00   660.50   338.54   364.00   435.75   554.50   \n",
       "               1        12.00  1145.75   490.56   131.00   882.50  1181.00   \n",
       "               2         1.00 11559.00      nan 11559.00 11559.00 11559.00   \n",
       "        3      0        29.00   397.48   378.69    33.00   133.00   228.00   \n",
       "               1        74.00  1956.23  1573.08    42.00   875.50  1632.50   \n",
       "               2         2.00  1299.00   171.12  1178.00  1238.50  1299.00   \n",
       "\n",
       "                                         Detergents_Paper                  \\\n",
       "                            75%      max            count    mean     std   \n",
       "Channel Region cluster                                                      \n",
       "1       1      0         937.00  1218.00             5.00 1367.80 1625.90   \n",
       "               1        5154.00 18711.00            19.00 1506.89 1506.07   \n",
       "               2        4038.00  7683.00            35.00  588.89 1031.57   \n",
       "        2      0        8057.50 15601.00             3.00  193.33  154.62   \n",
       "               1        7558.75 60869.00             6.00 1002.17  401.38   \n",
       "               2        4075.00 12569.00            19.00  364.37  324.41   \n",
       "        3      0         436.25  6269.00            22.00 2031.00 2076.19   \n",
       "               1        7709.00 36534.00            63.00 1237.71 1122.43   \n",
       "               2        3875.75 35009.00           126.00  343.90  333.14   \n",
       "2       1      0        1285.00  2946.00             5.00 7733.20 3569.41   \n",
       "               1        4736.00  8321.00            13.00 8414.54 6222.17   \n",
       "        2      0         753.50  1274.00             6.00 8554.17 5537.49   \n",
       "               1        1457.50  1840.00            12.00 9011.50 9596.52   \n",
       "               2       11559.00 11559.00             1.00  332.00     nan   \n",
       "        3      0         673.00  1456.00            29.00 6677.69 4443.53   \n",
       "               1        2637.00  8132.00            74.00 7113.26 6583.76   \n",
       "               2        1359.50  1420.00             2.00 2193.00 2324.97   \n",
       "\n",
       "                                                                 Delicassen  \\\n",
       "                           min     25%     50%      75%      max      count   \n",
       "Channel Region cluster                                                        \n",
       "1       1      0         93.00  409.00  954.00  1216.00  4167.00       5.00   \n",
       "               1        284.00  661.00  828.00  1624.00  5828.00      19.00   \n",
       "               2          5.00  120.50  263.00   429.50  4762.00      35.00   \n",
       "        2      0         15.00  145.00  275.00   282.50   290.00       3.00   \n",
       "               1        573.00  813.50  839.00  1168.25  1679.00       6.00   \n",
       "               2         83.00  180.00  257.00   414.50  1470.00      19.00   \n",
       "        3      0        122.00  478.50 1198.50  3336.75  6907.00      22.00   \n",
       "               1         20.00  391.00  912.00  1645.50  5079.00      63.00   \n",
       "               2          3.00  102.75  227.00   462.25  1491.00     126.00   \n",
       "2       1      0       4797.00 5316.00 5980.00  9265.00 13308.00       5.00   \n",
       "               1        788.00 4314.00 6374.00 12420.00 19410.00      13.00   \n",
       "        2      0       2208.00 4490.75 8152.50 11354.50 17120.00       6.00   \n",
       "               1       2662.00 4056.00 6399.00  8965.50 38102.00      12.00   \n",
       "               2        332.00  332.00  332.00   332.00   332.00       1.00   \n",
       "        3      0        813.00 4196.00 6740.00  7572.00 24231.00      29.00   \n",
       "               1        523.00 3335.25 5015.50  7831.50 40827.00      74.00   \n",
       "               2        549.00 1371.00 2193.00  3015.00  3837.00       2.00   \n",
       "\n",
       "                                                                        \\\n",
       "                          mean     std     min     25%     50%     75%   \n",
       "Channel Region cluster                                                   \n",
       "1       1      0        319.80  422.72    7.00   18.00  239.00  295.00   \n",
       "               1       2311.53 1517.08  490.00 1016.50 2388.00 3070.50   \n",
       "               2        717.54  505.35   56.00  319.00  615.00  983.50   \n",
       "        2      0        547.67  287.51  259.00  404.50  550.00  692.00   \n",
       "               1       2141.33 1771.22  573.00 1334.00 1745.50 1920.00   \n",
       "               2        867.05  570.10   51.00  589.00  868.00 1075.50   \n",
       "        3      0        431.41  437.57    3.00   54.50  302.00  703.50   \n",
       "               1       3384.60 6285.11  230.00 1145.00 1894.00 3029.00   \n",
       "               2        774.90  630.76    3.00  331.00  542.50 1095.00   \n",
       "2       1      0       1828.20 2572.15  120.00  674.00  710.00 1265.00   \n",
       "               1       1888.77 1241.50  698.00  797.00 1553.00 2563.00   \n",
       "        2      0        605.17  900.16   59.00  159.25  232.50  479.75   \n",
       "               1       1368.67  890.36  172.00  789.75 1158.50 1720.00   \n",
       "               2       3486.00     nan 3486.00 3486.00 3486.00 3486.00   \n",
       "        3      0        626.72  603.18    3.00  156.00  323.00 1111.00   \n",
       "               1       2337.30 2314.58  143.00 1045.25 1782.00 2885.50   \n",
       "               2        308.50  266.58  120.00  214.25  308.50  402.75   \n",
       "\n",
       "                                 \n",
       "                            max  \n",
       "Channel Region cluster           \n",
       "1       1      0        1040.00  \n",
       "               1        6854.00  \n",
       "               2        2100.00  \n",
       "        2      0         834.00  \n",
       "               1        5609.00  \n",
       "               2        2602.00  \n",
       "        3      0        1393.00  \n",
       "               1       47943.00  \n",
       "               2        2916.00  \n",
       "2       1      0        6372.00  \n",
       "               1        5121.00  \n",
       "        2      0        2410.00  \n",
       "               1        3508.00  \n",
       "               2        3486.00  \n",
       "        3      0        1856.00  \n",
       "               1       16523.00  \n",
       "               2         497.00  "
      ]
     },
     "execution_count": 358,
     "metadata": {},
     "output_type": "execute_result"
    }
   ],
   "source": [
    "# クラスタ毎のdescribe比較\n",
    "pd.options.display.float_format = '{:.2f}'.format\n",
    "pd.set_option('display.max_columns', 150)\n",
    "\n",
    "new_df.groupby([\"Channel\", \"Region\", \"cluster\"]).describe()"
   ]
  },
  {
   "cell_type": "code",
   "execution_count": null,
   "metadata": {},
   "outputs": [],
   "source": [
    "multi_in_group.describe().stack()"
   ]
  }
 ],
 "metadata": {
  "kernelspec": {
   "display_name": "Python 3",
   "language": "python",
   "name": "python3"
  },
  "language_info": {
   "codemirror_mode": {
    "name": "ipython",
    "version": 3
   },
   "file_extension": ".py",
   "mimetype": "text/x-python",
   "name": "python",
   "nbconvert_exporter": "python",
   "pygments_lexer": "ipython3",
   "version": "3.8.3"
  }
 },
 "nbformat": 4,
 "nbformat_minor": 4
}
