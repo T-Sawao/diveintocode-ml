{
  "nbformat": 4,
  "nbformat_minor": 0,
  "metadata": {
    "colab": {
      "name": "Week3-授業課題.ipynb",
      "provenance": [],
      "private_outputs": true,
      "mount_file_id": "1L8TkU-1GHFSIBJ4eoGjfuRYjPh86jYo5",
      "authorship_tag": "ABX9TyPAVL9TCu95vJZigGAdfgiT",
      "include_colab_link": true
    },
    "kernelspec": {
      "name": "python3",
      "display_name": "Python 3"
    }
  },
  "cells": [
    {
      "cell_type": "markdown",
      "metadata": {
        "id": "view-in-github",
        "colab_type": "text"
      },
      "source": [
        "<a href=\"https://colab.research.google.com/github/T-Sawao/diveintocode-ml/blob/master/Week3_%E6%8E%88%E6%A5%AD%E8%AA%B2%E9%A1%8C.ipynb\" target=\"_parent\"><img src=\"https://colab.research.google.com/assets/colab-badge.svg\" alt=\"Open In Colab\"/></a>"
      ]
    },
    {
      "cell_type": "markdown",
      "metadata": {
        "id": "FuvxNBVRedVE"
      },
      "source": [
        "# Week3-授業課題"
      ]
    },
    {
      "cell_type": "code",
      "metadata": {
        "id": "D3MeMLohhUyH"
      },
      "source": [
        "import numpy as np\n",
        "import pandas as pd\n",
        "import matplotlib.pyplot as plt\n",
        "import seaborn as sns\n",
        "sns.set()"
      ],
      "execution_count": null,
      "outputs": []
    },
    {
      "cell_type": "code",
      "metadata": {
        "id": "NOqlaqGJhUjL"
      },
      "source": [
        ""
      ],
      "execution_count": null,
      "outputs": []
    },
    {
      "cell_type": "code",
      "metadata": {
        "id": "0jwtol2aebxX"
      },
      "source": [
        "df = pd.read_csv(\"/content/drive/My Drive/Colab Notebooks/diveintocode-ml/house-prices-advanced-regression-techniques/train.csv\")\n",
        "df"
      ],
      "execution_count": null,
      "outputs": []
    }
  ]
}